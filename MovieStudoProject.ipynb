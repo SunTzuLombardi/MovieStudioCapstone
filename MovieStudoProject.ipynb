{
 "cells": [
  {
   "cell_type": "markdown",
   "metadata": {},
   "source": [
    "* Student name: __Daniel M. Smith__\n",
    "* Student pace: __Full Time Online__\n",
    "* Scheduled project review date/time: __May 4, 2021 11 AM__\n",
    "* Instructor name: __Project Reviewer: Claude Fried__ <br> __Cohort Lead: Abhineet Kulkarni__\n",
    "                 \n",
    "* Blog post URL: https://danielmsmith1.medium.com/pivot-vs-pivottable-vs-groupby-2d8723beb782\n"
   ]
  },
  {
   "cell_type": "markdown",
   "metadata": {
    "ExecuteTime": {
     "end_time": "2021-04-30T12:07:12.125028Z",
     "start_time": "2021-04-30T12:07:12.112028Z"
    }
   },
   "source": [
    "Daniel M. Smith <br>\n",
    "Movie Studio Project Phase 1 Flatiron School"
   ]
  },
  {
   "cell_type": "markdown",
   "metadata": {},
   "source": [
    "# Business Understanding\n",
    "Microsoft sees all the big companies creating original video content and they want to get in on the fun. They have decided to create a new movie studio, but they don’t know anything about creating movies. You are charged with exploring what types of films are currently doing the best at the box office. You must then translate those findings into actionable insights that the head of Microsoft's new movie studio can use to help decide what type of films to create."
   ]
  },
  {
   "cell_type": "markdown",
   "metadata": {},
   "source": [
    "# Data Mining \n",
    "Initial data was provided and can be downloaded [here](https://github.com/learn-co-curriculum/dsc-phase-1-project/tree/master/zippedData)."
   ]
  },
  {
   "cell_type": "markdown",
   "metadata": {},
   "source": [
    "# Data Cleaning \n",
    "\n",
    "In this workbook we:\n",
    "1. Load the data into pandas DataFrames\n",
    "2. Inspect and observe the DataFrames\n",
    "3. Clean and convert the data into appropriate types\n"
   ]
  },
  {
   "cell_type": "markdown",
   "metadata": {},
   "source": [
    "## Initial Reading of data files"
   ]
  },
  {
   "cell_type": "code",
   "execution_count": 254,
   "metadata": {
    "ExecuteTime": {
     "end_time": "2021-05-04T22:13:04.493932Z",
     "start_time": "2021-05-04T22:13:04.484956Z"
    }
   },
   "outputs": [],
   "source": [
    "import pandas as pd\n",
    "import numpy as nm\n",
    "from os import listdir\n",
    "import seaborn as sns\n",
    "import matplotlib.pyplot as plt\n",
    "import matplotlib.ticker as mticker\n",
    "\n",
    "path = './data/zippedData/'"
   ]
  },
  {
   "cell_type": "code",
   "execution_count": 255,
   "metadata": {
    "ExecuteTime": {
     "end_time": "2021-05-04T22:13:04.508891Z",
     "start_time": "2021-05-04T22:13:04.495929Z"
    }
   },
   "outputs": [],
   "source": [
    "#helper to list all csv or type files in a dir\n",
    "def find_csv_filenames( path_to_dir, suffix=\".csv\"):\n",
    "    filenames = listdir(path_to_dir)\n",
    "    return [ filename for filename in filenames if filename.endswith( suffix ) ]\n",
    "\n",
    "#creates dataframes for type specified\n",
    "def create_dfs(filelist, suffix=\".csv\" ):\n",
    "    #Read all the files and store in a dataFrame\n",
    "    # the data Frames for each file will be listed in a dict \n",
    "    # where key is the name and value is the df\n",
    "    dict_csv_files = {}\n",
    "    \n",
    "    for filename in csvfiles:\n",
    "        filename_cleaned = filename.replace(\".csv\", \"\").replace(\".\",\"_\")#cleaning\n",
    "        filename_df = pd.read_csv(path + filename, index_col = 0, encoding='utf8')\n",
    "        dict_csv_files[filename_cleaned] = filename_df\n",
    "    return dict_csv_files    \n"
   ]
  },
  {
   "cell_type": "code",
   "execution_count": 256,
   "metadata": {
    "ExecuteTime": {
     "end_time": "2021-05-04T22:13:07.876085Z",
     "start_time": "2021-05-04T22:13:04.510886Z"
    }
   },
   "outputs": [],
   "source": [
    "#Create csvfiles, tsvfiles and call createdfs dict\n",
    "csvfiles = find_csv_filenames(path)\n",
    "tsvfiles = find_csv_filenames(path,'.tsv')\n",
    "dict_dfs = create_dfs(csvfiles, suffix=\".csv\" )"
   ]
  },
  {
   "cell_type": "code",
   "execution_count": 257,
   "metadata": {
    "ExecuteTime": {
     "end_time": "2021-05-04T22:13:07.891895Z",
     "start_time": "2021-05-04T22:13:07.877880Z"
    }
   },
   "outputs": [
    {
     "data": {
      "text/plain": [
       "dict_keys(['bom_movie_gross', 'imdb_name_basics', 'imdb_title_akas', 'imdb_title_basics', 'imdb_title_crew', 'imdb_title_principals', 'imdb_title_ratings', 'tmdb_movies', 'tn_movie_budgets', 'tn_movie_budgets_changed'])"
      ]
     },
     "execution_count": 257,
     "metadata": {},
     "output_type": "execute_result"
    }
   ],
   "source": [
    "dict_dfs.keys()"
   ]
  },
  {
   "cell_type": "code",
   "execution_count": 258,
   "metadata": {
    "ExecuteTime": {
     "end_time": "2021-05-04T22:13:07.907799Z",
     "start_time": "2021-05-04T22:13:07.892840Z"
    }
   },
   "outputs": [],
   "source": [
    "##Create Working DataFrames\n",
    "df_bom = dict_dfs['bom_movie_gross']\n",
    "df_imdb_name = dict_dfs['imdb_name_basics']       \n",
    "df_imdb_akas = dict_dfs['imdb_title_akas']       \n",
    "df_imdbbasics = dict_dfs['imdb_title_basics']    \n",
    "df_imdb_crew = dict_dfs['imdb_title_crew']     \n",
    "df_imdb_principals = dict_dfs['imdb_title_principals']     \n",
    "df_imdb_ratings = dict_dfs['imdb_title_ratings']         \n",
    "df_tmb = dict_dfs['tmdb_movies']                        \n",
    "df_tn_movie_budget = dict_dfs['tn_movie_budgets']\n",
    "#Excluding rott.tsvfiles  df_rott_info = dict_dfs(' pd.read_csv('zippedData/rt.movie_info.tsv', sep='\\t')\n",
    "#df_rott_rev = dict_dfs(' pd.read_csv('zippedData/rt.reviews.tsv',encoding= 'unicode_escape', sep='\\t')"
   ]
  },
  {
   "cell_type": "markdown",
   "metadata": {
    "ExecuteTime": {
     "end_time": "2021-04-26T22:56:53.296931Z",
     "start_time": "2021-04-26T22:56:53.293938Z"
    }
   },
   "source": [
    "## Inspect DataFrames\n",
    "Inspecting the dfs, Noting observations about the data, describing the data types.  \n",
    "We have 9 DataFrames from the 9 files:  \n",
    "df_bom  \n",
    "df_imdb_name   \n",
    "df_imdb_akas   \n",
    "df_imdbbasics   \n",
    "df_imdb_crew  \n",
    "df_imdb_principals      \n",
    "df_imdb_ratings          \n",
    "df_tmb        \n",
    "df_tn_movie_budget  "
   ]
  },
  {
   "cell_type": "markdown",
   "metadata": {},
   "source": [
    "### Box Office Mojo-df_bom"
   ]
  },
  {
   "cell_type": "code",
   "execution_count": 259,
   "metadata": {
    "ExecuteTime": {
     "end_time": "2021-05-04T22:13:07.923756Z",
     "start_time": "2021-05-04T22:13:07.908797Z"
    }
   },
   "outputs": [
    {
     "name": "stdout",
     "output_type": "stream",
     "text": [
      "<class 'pandas.core.frame.DataFrame'>\n",
      "Index: 3387 entries, Toy Story 3 to An Actor Prepares\n",
      "Data columns (total 4 columns):\n",
      " #   Column          Non-Null Count  Dtype  \n",
      "---  ------          --------------  -----  \n",
      " 0   studio          3382 non-null   object \n",
      " 1   domestic_gross  3359 non-null   float64\n",
      " 2   foreign_gross   2037 non-null   object \n",
      " 3   year            3387 non-null   int64  \n",
      "dtypes: float64(1), int64(1), object(2)\n",
      "memory usage: 132.3+ KB\n"
     ]
    }
   ],
   "source": [
    "df_bom.info()"
   ]
  },
  {
   "cell_type": "code",
   "execution_count": 260,
   "metadata": {
    "ExecuteTime": {
     "end_time": "2021-05-04T22:13:07.939714Z",
     "start_time": "2021-05-04T22:13:07.924754Z"
    }
   },
   "outputs": [
    {
     "data": {
      "text/html": [
       "<div>\n",
       "<style scoped>\n",
       "    .dataframe tbody tr th:only-of-type {\n",
       "        vertical-align: middle;\n",
       "    }\n",
       "\n",
       "    .dataframe tbody tr th {\n",
       "        vertical-align: top;\n",
       "    }\n",
       "\n",
       "    .dataframe thead th {\n",
       "        text-align: right;\n",
       "    }\n",
       "</style>\n",
       "<table border=\"1\" class=\"dataframe\">\n",
       "  <thead>\n",
       "    <tr style=\"text-align: right;\">\n",
       "      <th></th>\n",
       "      <th>studio</th>\n",
       "      <th>domestic_gross</th>\n",
       "      <th>foreign_gross</th>\n",
       "      <th>year</th>\n",
       "    </tr>\n",
       "    <tr>\n",
       "      <th>title</th>\n",
       "      <th></th>\n",
       "      <th></th>\n",
       "      <th></th>\n",
       "      <th></th>\n",
       "    </tr>\n",
       "  </thead>\n",
       "  <tbody>\n",
       "    <tr>\n",
       "      <th>Toy Story 3</th>\n",
       "      <td>BV</td>\n",
       "      <td>415000000.0</td>\n",
       "      <td>652000000</td>\n",
       "      <td>2010</td>\n",
       "    </tr>\n",
       "    <tr>\n",
       "      <th>Alice in Wonderland (2010)</th>\n",
       "      <td>BV</td>\n",
       "      <td>334200000.0</td>\n",
       "      <td>691300000</td>\n",
       "      <td>2010</td>\n",
       "    </tr>\n",
       "    <tr>\n",
       "      <th>Harry Potter and the Deathly Hallows Part 1</th>\n",
       "      <td>WB</td>\n",
       "      <td>296000000.0</td>\n",
       "      <td>664300000</td>\n",
       "      <td>2010</td>\n",
       "    </tr>\n",
       "  </tbody>\n",
       "</table>\n",
       "</div>"
      ],
      "text/plain": [
       "                                            studio  domestic_gross  \\\n",
       "title                                                                \n",
       "Toy Story 3                                     BV     415000000.0   \n",
       "Alice in Wonderland (2010)                      BV     334200000.0   \n",
       "Harry Potter and the Deathly Hallows Part 1     WB     296000000.0   \n",
       "\n",
       "                                            foreign_gross  year  \n",
       "title                                                            \n",
       "Toy Story 3                                     652000000  2010  \n",
       "Alice in Wonderland (2010)                      691300000  2010  \n",
       "Harry Potter and the Deathly Hallows Part 1     664300000  2010  "
      ]
     },
     "execution_count": 260,
     "metadata": {},
     "output_type": "execute_result"
    }
   ],
   "source": [
    "df_bom.head(3)"
   ]
  },
  {
   "cell_type": "markdown",
   "metadata": {},
   "source": [
    "#### Observation df_bom (Box office Mojo) \n",
    "It looks as if the data is for 2010 to 2018 movies \n",
    "of domestic and foreign gross in dollars.   \n",
    "Foreign gross needs to be converted to int datatype."
   ]
  },
  {
   "cell_type": "markdown",
   "metadata": {
    "ExecuteTime": {
     "end_time": "2021-04-27T00:40:10.788599Z",
     "start_time": "2021-04-27T00:40:10.786570Z"
    }
   },
   "source": [
    "### IMDB name basics-df_imdb_name"
   ]
  },
  {
   "cell_type": "code",
   "execution_count": 261,
   "metadata": {
    "ExecuteTime": {
     "end_time": "2021-05-04T22:13:08.019500Z",
     "start_time": "2021-05-04T22:13:07.942706Z"
    }
   },
   "outputs": [
    {
     "name": "stdout",
     "output_type": "stream",
     "text": [
      "<class 'pandas.core.frame.DataFrame'>\n",
      "Index: 606648 entries, nm0061671 to nm9993380\n",
      "Data columns (total 5 columns):\n",
      " #   Column              Non-Null Count   Dtype  \n",
      "---  ------              --------------   -----  \n",
      " 0   primary_name        606648 non-null  object \n",
      " 1   birth_year          82736 non-null   float64\n",
      " 2   death_year          6783 non-null    float64\n",
      " 3   primary_profession  555308 non-null  object \n",
      " 4   known_for_titles    576444 non-null  object \n",
      "dtypes: float64(2), object(3)\n",
      "memory usage: 27.8+ MB\n"
     ]
    }
   ],
   "source": [
    "df_imdb_name.info()"
   ]
  },
  {
   "cell_type": "code",
   "execution_count": 262,
   "metadata": {
    "ExecuteTime": {
     "end_time": "2021-05-04T22:13:08.035458Z",
     "start_time": "2021-05-04T22:13:08.021496Z"
    },
    "scrolled": true
   },
   "outputs": [
    {
     "data": {
      "text/html": [
       "<div>\n",
       "<style scoped>\n",
       "    .dataframe tbody tr th:only-of-type {\n",
       "        vertical-align: middle;\n",
       "    }\n",
       "\n",
       "    .dataframe tbody tr th {\n",
       "        vertical-align: top;\n",
       "    }\n",
       "\n",
       "    .dataframe thead th {\n",
       "        text-align: right;\n",
       "    }\n",
       "</style>\n",
       "<table border=\"1\" class=\"dataframe\">\n",
       "  <thead>\n",
       "    <tr style=\"text-align: right;\">\n",
       "      <th></th>\n",
       "      <th>primary_name</th>\n",
       "      <th>birth_year</th>\n",
       "      <th>death_year</th>\n",
       "      <th>primary_profession</th>\n",
       "      <th>known_for_titles</th>\n",
       "    </tr>\n",
       "    <tr>\n",
       "      <th>nconst</th>\n",
       "      <th></th>\n",
       "      <th></th>\n",
       "      <th></th>\n",
       "      <th></th>\n",
       "      <th></th>\n",
       "    </tr>\n",
       "  </thead>\n",
       "  <tbody>\n",
       "    <tr>\n",
       "      <th>nm0061671</th>\n",
       "      <td>Mary Ellen Bauder</td>\n",
       "      <td>NaN</td>\n",
       "      <td>NaN</td>\n",
       "      <td>miscellaneous,production_manager,producer</td>\n",
       "      <td>tt0837562,tt2398241,tt0844471,tt0118553</td>\n",
       "    </tr>\n",
       "    <tr>\n",
       "      <th>nm0061865</th>\n",
       "      <td>Joseph Bauer</td>\n",
       "      <td>NaN</td>\n",
       "      <td>NaN</td>\n",
       "      <td>composer,music_department,sound_department</td>\n",
       "      <td>tt0896534,tt6791238,tt0287072,tt1682940</td>\n",
       "    </tr>\n",
       "    <tr>\n",
       "      <th>nm0062070</th>\n",
       "      <td>Bruce Baum</td>\n",
       "      <td>NaN</td>\n",
       "      <td>NaN</td>\n",
       "      <td>miscellaneous,actor,writer</td>\n",
       "      <td>tt1470654,tt0363631,tt0104030,tt0102898</td>\n",
       "    </tr>\n",
       "  </tbody>\n",
       "</table>\n",
       "</div>"
      ],
      "text/plain": [
       "                primary_name  birth_year  death_year  \\\n",
       "nconst                                                 \n",
       "nm0061671  Mary Ellen Bauder         NaN         NaN   \n",
       "nm0061865       Joseph Bauer         NaN         NaN   \n",
       "nm0062070         Bruce Baum         NaN         NaN   \n",
       "\n",
       "                                   primary_profession  \\\n",
       "nconst                                                  \n",
       "nm0061671   miscellaneous,production_manager,producer   \n",
       "nm0061865  composer,music_department,sound_department   \n",
       "nm0062070                  miscellaneous,actor,writer   \n",
       "\n",
       "                                  known_for_titles  \n",
       "nconst                                              \n",
       "nm0061671  tt0837562,tt2398241,tt0844471,tt0118553  \n",
       "nm0061865  tt0896534,tt6791238,tt0287072,tt1682940  \n",
       "nm0062070  tt1470654,tt0363631,tt0104030,tt0102898  "
      ]
     },
     "execution_count": 262,
     "metadata": {},
     "output_type": "execute_result"
    }
   ],
   "source": [
    "df_imdb_name.head(3)"
   ]
  },
  {
   "cell_type": "markdown",
   "metadata": {},
   "source": [
    "#### Observation df_imdb_name \n",
    "It looks as if the data is a name and profession\n",
    "and known for these movie titles.  \n",
    "The birth year and death year can be dropped as \n",
    "there is a high percentage of data missing from those columns."
   ]
  },
  {
   "cell_type": "markdown",
   "metadata": {
    "ExecuteTime": {
     "end_time": "2021-04-27T00:41:04.361218Z",
     "start_time": "2021-04-27T00:41:04.357228Z"
    }
   },
   "source": [
    "### IMDB akas-df_imdb_akas"
   ]
  },
  {
   "cell_type": "code",
   "execution_count": 263,
   "metadata": {
    "ExecuteTime": {
     "end_time": "2021-05-04T22:13:08.098290Z",
     "start_time": "2021-05-04T22:13:08.036456Z"
    }
   },
   "outputs": [
    {
     "name": "stdout",
     "output_type": "stream",
     "text": [
      "<class 'pandas.core.frame.DataFrame'>\n",
      "Index: 331703 entries, tt0369610 to tt9880178\n",
      "Data columns (total 7 columns):\n",
      " #   Column             Non-Null Count   Dtype  \n",
      "---  ------             --------------   -----  \n",
      " 0   ordering           331703 non-null  int64  \n",
      " 1   title              331703 non-null  object \n",
      " 2   region             278410 non-null  object \n",
      " 3   language           41715 non-null   object \n",
      " 4   types              168447 non-null  object \n",
      " 5   attributes         14925 non-null   object \n",
      " 6   is_original_title  331678 non-null  float64\n",
      "dtypes: float64(1), int64(1), object(5)\n",
      "memory usage: 20.2+ MB\n"
     ]
    }
   ],
   "source": [
    "df_imdb_akas.info()"
   ]
  },
  {
   "cell_type": "code",
   "execution_count": 264,
   "metadata": {
    "ExecuteTime": {
     "end_time": "2021-05-04T22:13:08.114247Z",
     "start_time": "2021-05-04T22:13:08.099287Z"
    }
   },
   "outputs": [
    {
     "data": {
      "text/html": [
       "<div>\n",
       "<style scoped>\n",
       "    .dataframe tbody tr th:only-of-type {\n",
       "        vertical-align: middle;\n",
       "    }\n",
       "\n",
       "    .dataframe tbody tr th {\n",
       "        vertical-align: top;\n",
       "    }\n",
       "\n",
       "    .dataframe thead th {\n",
       "        text-align: right;\n",
       "    }\n",
       "</style>\n",
       "<table border=\"1\" class=\"dataframe\">\n",
       "  <thead>\n",
       "    <tr style=\"text-align: right;\">\n",
       "      <th></th>\n",
       "      <th>ordering</th>\n",
       "      <th>title</th>\n",
       "      <th>region</th>\n",
       "      <th>language</th>\n",
       "      <th>types</th>\n",
       "      <th>attributes</th>\n",
       "      <th>is_original_title</th>\n",
       "    </tr>\n",
       "    <tr>\n",
       "      <th>title_id</th>\n",
       "      <th></th>\n",
       "      <th></th>\n",
       "      <th></th>\n",
       "      <th></th>\n",
       "      <th></th>\n",
       "      <th></th>\n",
       "      <th></th>\n",
       "    </tr>\n",
       "  </thead>\n",
       "  <tbody>\n",
       "    <tr>\n",
       "      <th>tt0369610</th>\n",
       "      <td>10</td>\n",
       "      <td>Джурасик свят</td>\n",
       "      <td>BG</td>\n",
       "      <td>bg</td>\n",
       "      <td>NaN</td>\n",
       "      <td>NaN</td>\n",
       "      <td>0.0</td>\n",
       "    </tr>\n",
       "    <tr>\n",
       "      <th>tt0369610</th>\n",
       "      <td>11</td>\n",
       "      <td>Jurashikku warudo</td>\n",
       "      <td>JP</td>\n",
       "      <td>NaN</td>\n",
       "      <td>imdbDisplay</td>\n",
       "      <td>NaN</td>\n",
       "      <td>0.0</td>\n",
       "    </tr>\n",
       "    <tr>\n",
       "      <th>tt0369610</th>\n",
       "      <td>12</td>\n",
       "      <td>Jurassic World: O Mundo dos Dinossauros</td>\n",
       "      <td>BR</td>\n",
       "      <td>NaN</td>\n",
       "      <td>imdbDisplay</td>\n",
       "      <td>NaN</td>\n",
       "      <td>0.0</td>\n",
       "    </tr>\n",
       "  </tbody>\n",
       "</table>\n",
       "</div>"
      ],
      "text/plain": [
       "           ordering                                    title region language  \\\n",
       "title_id                                                                       \n",
       "tt0369610        10                            Джурасик свят     BG       bg   \n",
       "tt0369610        11                        Jurashikku warudo     JP      NaN   \n",
       "tt0369610        12  Jurassic World: O Mundo dos Dinossauros     BR      NaN   \n",
       "\n",
       "                 types attributes  is_original_title  \n",
       "title_id                                              \n",
       "tt0369610          NaN        NaN                0.0  \n",
       "tt0369610  imdbDisplay        NaN                0.0  \n",
       "tt0369610  imdbDisplay        NaN                0.0  "
      ]
     },
     "execution_count": 264,
     "metadata": {},
     "output_type": "execute_result"
    }
   ],
   "source": [
    "df_imdb_akas.head(3)"
   ]
  },
  {
   "cell_type": "markdown",
   "metadata": {},
   "source": [
    "#### Observation df_imdb_akas\n",
    "This data looks to be aka movie names in non domestic markets.  There are lots of NaNs.  Should we just look at isoriginal title as 1?  Where does the title_id link to?  Is ok to leave NaNs alone?"
   ]
  },
  {
   "cell_type": "markdown",
   "metadata": {},
   "source": [
    "### IMDBTitle basics-df_imdbbasics"
   ]
  },
  {
   "cell_type": "code",
   "execution_count": 265,
   "metadata": {
    "ExecuteTime": {
     "end_time": "2021-05-04T22:13:08.146162Z",
     "start_time": "2021-05-04T22:13:08.115245Z"
    }
   },
   "outputs": [
    {
     "name": "stdout",
     "output_type": "stream",
     "text": [
      "<class 'pandas.core.frame.DataFrame'>\n",
      "Index: 146144 entries, tt0063540 to tt9916754\n",
      "Data columns (total 5 columns):\n",
      " #   Column           Non-Null Count   Dtype  \n",
      "---  ------           --------------   -----  \n",
      " 0   primary_title    146144 non-null  object \n",
      " 1   original_title   146123 non-null  object \n",
      " 2   start_year       146144 non-null  int64  \n",
      " 3   runtime_minutes  114405 non-null  float64\n",
      " 4   genres           140736 non-null  object \n",
      "dtypes: float64(1), int64(1), object(3)\n",
      "memory usage: 6.7+ MB\n"
     ]
    }
   ],
   "source": [
    "df_imdbbasics.info()"
   ]
  },
  {
   "cell_type": "code",
   "execution_count": 266,
   "metadata": {
    "ExecuteTime": {
     "end_time": "2021-05-04T22:13:08.162119Z",
     "start_time": "2021-05-04T22:13:08.147159Z"
    }
   },
   "outputs": [
    {
     "data": {
      "text/html": [
       "<div>\n",
       "<style scoped>\n",
       "    .dataframe tbody tr th:only-of-type {\n",
       "        vertical-align: middle;\n",
       "    }\n",
       "\n",
       "    .dataframe tbody tr th {\n",
       "        vertical-align: top;\n",
       "    }\n",
       "\n",
       "    .dataframe thead th {\n",
       "        text-align: right;\n",
       "    }\n",
       "</style>\n",
       "<table border=\"1\" class=\"dataframe\">\n",
       "  <thead>\n",
       "    <tr style=\"text-align: right;\">\n",
       "      <th></th>\n",
       "      <th>primary_title</th>\n",
       "      <th>original_title</th>\n",
       "      <th>start_year</th>\n",
       "      <th>runtime_minutes</th>\n",
       "      <th>genres</th>\n",
       "    </tr>\n",
       "    <tr>\n",
       "      <th>tconst</th>\n",
       "      <th></th>\n",
       "      <th></th>\n",
       "      <th></th>\n",
       "      <th></th>\n",
       "      <th></th>\n",
       "    </tr>\n",
       "  </thead>\n",
       "  <tbody>\n",
       "    <tr>\n",
       "      <th>tt9916706</th>\n",
       "      <td>Dankyavar Danka</td>\n",
       "      <td>Dankyavar Danka</td>\n",
       "      <td>2013</td>\n",
       "      <td>NaN</td>\n",
       "      <td>Comedy</td>\n",
       "    </tr>\n",
       "    <tr>\n",
       "      <th>tt9916730</th>\n",
       "      <td>6 Gunn</td>\n",
       "      <td>6 Gunn</td>\n",
       "      <td>2017</td>\n",
       "      <td>116.0</td>\n",
       "      <td>NaN</td>\n",
       "    </tr>\n",
       "    <tr>\n",
       "      <th>tt9916754</th>\n",
       "      <td>Chico Albuquerque - Revelações</td>\n",
       "      <td>Chico Albuquerque - Revelações</td>\n",
       "      <td>2013</td>\n",
       "      <td>NaN</td>\n",
       "      <td>Documentary</td>\n",
       "    </tr>\n",
       "  </tbody>\n",
       "</table>\n",
       "</div>"
      ],
      "text/plain": [
       "                            primary_title                  original_title  \\\n",
       "tconst                                                                      \n",
       "tt9916706                 Dankyavar Danka                 Dankyavar Danka   \n",
       "tt9916730                          6 Gunn                          6 Gunn   \n",
       "tt9916754  Chico Albuquerque - Revelações  Chico Albuquerque - Revelações   \n",
       "\n",
       "           start_year  runtime_minutes       genres  \n",
       "tconst                                               \n",
       "tt9916706        2013              NaN       Comedy  \n",
       "tt9916730        2017            116.0          NaN  \n",
       "tt9916754        2013              NaN  Documentary  "
      ]
     },
     "execution_count": 266,
     "metadata": {},
     "output_type": "execute_result"
    }
   ],
   "source": [
    "df_imdbbasics.tail(3)"
   ]
  },
  {
   "cell_type": "code",
   "execution_count": null,
   "metadata": {},
   "outputs": [],
   "source": []
  },
  {
   "cell_type": "markdown",
   "metadata": {},
   "source": [
    "#### Observation df_df_imdbbasics\n",
    "This data has primary title and original title and year and genre of the movie.  Many missing runtime minutes can set to 90 mins?  Main point here is the genre and year and title."
   ]
  },
  {
   "cell_type": "markdown",
   "metadata": {
    "ExecuteTime": {
     "end_time": "2021-04-27T00:46:34.783891Z",
     "start_time": "2021-04-27T00:46:34.781862Z"
    }
   },
   "source": [
    "### IMDB Crew-df_imfb_crew"
   ]
  },
  {
   "cell_type": "code",
   "execution_count": 267,
   "metadata": {
    "ExecuteTime": {
     "end_time": "2021-05-04T22:13:08.194033Z",
     "start_time": "2021-05-04T22:13:08.163117Z"
    }
   },
   "outputs": [
    {
     "name": "stdout",
     "output_type": "stream",
     "text": [
      "<class 'pandas.core.frame.DataFrame'>\n",
      "Index: 146144 entries, tt0285252 to tt9010172\n",
      "Data columns (total 2 columns):\n",
      " #   Column     Non-Null Count   Dtype \n",
      "---  ------     --------------   ----- \n",
      " 0   directors  140417 non-null  object\n",
      " 1   writers    110261 non-null  object\n",
      "dtypes: object(2)\n",
      "memory usage: 3.3+ MB\n"
     ]
    }
   ],
   "source": [
    "df_imdb_crew.info()"
   ]
  },
  {
   "cell_type": "code",
   "execution_count": 268,
   "metadata": {
    "ExecuteTime": {
     "end_time": "2021-05-04T22:13:08.208994Z",
     "start_time": "2021-05-04T22:13:08.195031Z"
    }
   },
   "outputs": [
    {
     "data": {
      "text/html": [
       "<div>\n",
       "<style scoped>\n",
       "    .dataframe tbody tr th:only-of-type {\n",
       "        vertical-align: middle;\n",
       "    }\n",
       "\n",
       "    .dataframe tbody tr th {\n",
       "        vertical-align: top;\n",
       "    }\n",
       "\n",
       "    .dataframe thead th {\n",
       "        text-align: right;\n",
       "    }\n",
       "</style>\n",
       "<table border=\"1\" class=\"dataframe\">\n",
       "  <thead>\n",
       "    <tr style=\"text-align: right;\">\n",
       "      <th></th>\n",
       "      <th>directors</th>\n",
       "      <th>writers</th>\n",
       "    </tr>\n",
       "    <tr>\n",
       "      <th>tconst</th>\n",
       "      <th></th>\n",
       "      <th></th>\n",
       "    </tr>\n",
       "  </thead>\n",
       "  <tbody>\n",
       "    <tr>\n",
       "      <th>tt0285252</th>\n",
       "      <td>nm0899854</td>\n",
       "      <td>nm0899854</td>\n",
       "    </tr>\n",
       "    <tr>\n",
       "      <th>tt0438973</th>\n",
       "      <td>NaN</td>\n",
       "      <td>nm0175726,nm1802864</td>\n",
       "    </tr>\n",
       "    <tr>\n",
       "      <th>tt0462036</th>\n",
       "      <td>nm1940585</td>\n",
       "      <td>nm1940585</td>\n",
       "    </tr>\n",
       "  </tbody>\n",
       "</table>\n",
       "</div>"
      ],
      "text/plain": [
       "           directors              writers\n",
       "tconst                                   \n",
       "tt0285252  nm0899854            nm0899854\n",
       "tt0438973        NaN  nm0175726,nm1802864\n",
       "tt0462036  nm1940585            nm1940585"
      ]
     },
     "execution_count": 268,
     "metadata": {},
     "output_type": "execute_result"
    }
   ],
   "source": [
    "df_imdb_crew.head(3)"
   ]
  },
  {
   "cell_type": "markdown",
   "metadata": {},
   "source": [
    "#### Observation df_df_imdb_crew\n",
    "This df matches directors and writers to tconst which is primary key in df_imdbbasics and df_imdb_principals."
   ]
  },
  {
   "cell_type": "markdown",
   "metadata": {},
   "source": [
    "### IMDB principals - df_imfb_principals"
   ]
  },
  {
   "cell_type": "code",
   "execution_count": 269,
   "metadata": {
    "ExecuteTime": {
     "end_time": "2021-05-04T22:13:08.352610Z",
     "start_time": "2021-05-04T22:13:08.209992Z"
    }
   },
   "outputs": [
    {
     "name": "stdout",
     "output_type": "stream",
     "text": [
      "<class 'pandas.core.frame.DataFrame'>\n",
      "Index: 1028186 entries, tt0111414 to tt9692684\n",
      "Data columns (total 5 columns):\n",
      " #   Column      Non-Null Count    Dtype \n",
      "---  ------      --------------    ----- \n",
      " 0   ordering    1028186 non-null  int64 \n",
      " 1   nconst      1028186 non-null  object\n",
      " 2   category    1028186 non-null  object\n",
      " 3   job         177684 non-null   object\n",
      " 4   characters  393360 non-null   object\n",
      "dtypes: int64(1), object(4)\n",
      "memory usage: 47.1+ MB\n"
     ]
    }
   ],
   "source": [
    "df_imdb_principals.info()"
   ]
  },
  {
   "cell_type": "code",
   "execution_count": 270,
   "metadata": {
    "ExecuteTime": {
     "end_time": "2021-05-04T22:13:08.368567Z",
     "start_time": "2021-05-04T22:13:08.353607Z"
    }
   },
   "outputs": [
    {
     "data": {
      "text/html": [
       "<div>\n",
       "<style scoped>\n",
       "    .dataframe tbody tr th:only-of-type {\n",
       "        vertical-align: middle;\n",
       "    }\n",
       "\n",
       "    .dataframe tbody tr th {\n",
       "        vertical-align: top;\n",
       "    }\n",
       "\n",
       "    .dataframe thead th {\n",
       "        text-align: right;\n",
       "    }\n",
       "</style>\n",
       "<table border=\"1\" class=\"dataframe\">\n",
       "  <thead>\n",
       "    <tr style=\"text-align: right;\">\n",
       "      <th></th>\n",
       "      <th>ordering</th>\n",
       "      <th>nconst</th>\n",
       "      <th>category</th>\n",
       "      <th>job</th>\n",
       "      <th>characters</th>\n",
       "    </tr>\n",
       "    <tr>\n",
       "      <th>tconst</th>\n",
       "      <th></th>\n",
       "      <th></th>\n",
       "      <th></th>\n",
       "      <th></th>\n",
       "      <th></th>\n",
       "    </tr>\n",
       "  </thead>\n",
       "  <tbody>\n",
       "    <tr>\n",
       "      <th>tt0111414</th>\n",
       "      <td>1</td>\n",
       "      <td>nm0246005</td>\n",
       "      <td>actor</td>\n",
       "      <td>NaN</td>\n",
       "      <td>[\"The Man\"]</td>\n",
       "    </tr>\n",
       "    <tr>\n",
       "      <th>tt0111414</th>\n",
       "      <td>2</td>\n",
       "      <td>nm0398271</td>\n",
       "      <td>director</td>\n",
       "      <td>NaN</td>\n",
       "      <td>NaN</td>\n",
       "    </tr>\n",
       "    <tr>\n",
       "      <th>tt0111414</th>\n",
       "      <td>3</td>\n",
       "      <td>nm3739909</td>\n",
       "      <td>producer</td>\n",
       "      <td>producer</td>\n",
       "      <td>NaN</td>\n",
       "    </tr>\n",
       "  </tbody>\n",
       "</table>\n",
       "</div>"
      ],
      "text/plain": [
       "           ordering     nconst  category       job   characters\n",
       "tconst                                                         \n",
       "tt0111414         1  nm0246005     actor       NaN  [\"The Man\"]\n",
       "tt0111414         2  nm0398271  director       NaN          NaN\n",
       "tt0111414         3  nm3739909  producer  producer          NaN"
      ]
     },
     "execution_count": 270,
     "metadata": {},
     "output_type": "execute_result"
    }
   ],
   "source": [
    "df_imdb_principals.head(3)"
   ]
  },
  {
   "cell_type": "markdown",
   "metadata": {
    "ExecuteTime": {
     "end_time": "2021-04-27T00:48:18.195027Z",
     "start_time": "2021-04-27T00:48:18.192036Z"
    }
   },
   "source": [
    "#### Observation df_imdb_principals\n",
    "This data lists the roles of principals in movies(tconst) to categories and job and characters if they act.            \n",
    "  Links to df_imdb_crew, df_imdbbasics, df_imdb_name, df_imdb_ratings.             \n",
    "      nconst links to values in the df_imdb_crew and df_imdb_name listing the directors and writers."
   ]
  },
  {
   "cell_type": "markdown",
   "metadata": {},
   "source": [
    "### IMDB ratings-df_imfb_ratings"
   ]
  },
  {
   "cell_type": "code",
   "execution_count": 271,
   "metadata": {
    "ExecuteTime": {
     "end_time": "2021-05-04T22:13:08.383526Z",
     "start_time": "2021-05-04T22:13:08.370562Z"
    }
   },
   "outputs": [
    {
     "name": "stdout",
     "output_type": "stream",
     "text": [
      "<class 'pandas.core.frame.DataFrame'>\n",
      "Index: 73856 entries, tt10356526 to tt9894098\n",
      "Data columns (total 2 columns):\n",
      " #   Column         Non-Null Count  Dtype  \n",
      "---  ------         --------------  -----  \n",
      " 0   averagerating  73856 non-null  float64\n",
      " 1   numvotes       73856 non-null  int64  \n",
      "dtypes: float64(1), int64(1)\n",
      "memory usage: 1.7+ MB\n"
     ]
    }
   ],
   "source": [
    "df_imdb_ratings.info()"
   ]
  },
  {
   "cell_type": "code",
   "execution_count": 272,
   "metadata": {
    "ExecuteTime": {
     "end_time": "2021-05-04T22:13:08.399484Z",
     "start_time": "2021-05-04T22:13:08.386520Z"
    }
   },
   "outputs": [
    {
     "data": {
      "text/html": [
       "<div>\n",
       "<style scoped>\n",
       "    .dataframe tbody tr th:only-of-type {\n",
       "        vertical-align: middle;\n",
       "    }\n",
       "\n",
       "    .dataframe tbody tr th {\n",
       "        vertical-align: top;\n",
       "    }\n",
       "\n",
       "    .dataframe thead th {\n",
       "        text-align: right;\n",
       "    }\n",
       "</style>\n",
       "<table border=\"1\" class=\"dataframe\">\n",
       "  <thead>\n",
       "    <tr style=\"text-align: right;\">\n",
       "      <th></th>\n",
       "      <th>averagerating</th>\n",
       "      <th>numvotes</th>\n",
       "    </tr>\n",
       "    <tr>\n",
       "      <th>tconst</th>\n",
       "      <th></th>\n",
       "      <th></th>\n",
       "    </tr>\n",
       "  </thead>\n",
       "  <tbody>\n",
       "    <tr>\n",
       "      <th>tt10356526</th>\n",
       "      <td>8.3</td>\n",
       "      <td>31</td>\n",
       "    </tr>\n",
       "    <tr>\n",
       "      <th>tt10384606</th>\n",
       "      <td>8.9</td>\n",
       "      <td>559</td>\n",
       "    </tr>\n",
       "    <tr>\n",
       "      <th>tt1042974</th>\n",
       "      <td>6.4</td>\n",
       "      <td>20</td>\n",
       "    </tr>\n",
       "  </tbody>\n",
       "</table>\n",
       "</div>"
      ],
      "text/plain": [
       "            averagerating  numvotes\n",
       "tconst                             \n",
       "tt10356526            8.3        31\n",
       "tt10384606            8.9       559\n",
       "tt1042974             6.4        20"
      ]
     },
     "execution_count": 272,
     "metadata": {},
     "output_type": "execute_result"
    }
   ],
   "source": [
    "df_imdb_ratings.head(3)"
   ]
  },
  {
   "cell_type": "markdown",
   "metadata": {},
   "source": [
    "#### Observation df_imdb_ratings\n",
    "Pretty straightforward rating and number of votes.  title tconst links to tconst(title) in other imdb tables."
   ]
  },
  {
   "cell_type": "markdown",
   "metadata": {
    "ExecuteTime": {
     "end_time": "2021-04-27T00:56:37.969913Z",
     "start_time": "2021-04-27T00:56:37.966921Z"
    }
   },
   "source": [
    "### TMB-df_tmb\n",
    "\n"
   ]
  },
  {
   "cell_type": "code",
   "execution_count": 273,
   "metadata": {
    "ExecuteTime": {
     "end_time": "2021-05-04T22:13:08.415441Z",
     "start_time": "2021-05-04T22:13:08.400482Z"
    }
   },
   "outputs": [
    {
     "name": "stdout",
     "output_type": "stream",
     "text": [
      "<class 'pandas.core.frame.DataFrame'>\n",
      "Int64Index: 26517 entries, 0 to 26516\n",
      "Data columns (total 9 columns):\n",
      " #   Column             Non-Null Count  Dtype  \n",
      "---  ------             --------------  -----  \n",
      " 0   genre_ids          26517 non-null  object \n",
      " 1   id                 26517 non-null  int64  \n",
      " 2   original_language  26517 non-null  object \n",
      " 3   original_title     26517 non-null  object \n",
      " 4   popularity         26517 non-null  float64\n",
      " 5   release_date       26517 non-null  object \n",
      " 6   title              26517 non-null  object \n",
      " 7   vote_average       26517 non-null  float64\n",
      " 8   vote_count         26517 non-null  int64  \n",
      "dtypes: float64(2), int64(2), object(5)\n",
      "memory usage: 2.0+ MB\n"
     ]
    }
   ],
   "source": [
    "##The Movie DB\n",
    "df_tmb.info()"
   ]
  },
  {
   "cell_type": "code",
   "execution_count": 274,
   "metadata": {
    "ExecuteTime": {
     "end_time": "2021-05-04T22:13:08.431398Z",
     "start_time": "2021-05-04T22:13:08.416439Z"
    }
   },
   "outputs": [
    {
     "data": {
      "text/html": [
       "<div>\n",
       "<style scoped>\n",
       "    .dataframe tbody tr th:only-of-type {\n",
       "        vertical-align: middle;\n",
       "    }\n",
       "\n",
       "    .dataframe tbody tr th {\n",
       "        vertical-align: top;\n",
       "    }\n",
       "\n",
       "    .dataframe thead th {\n",
       "        text-align: right;\n",
       "    }\n",
       "</style>\n",
       "<table border=\"1\" class=\"dataframe\">\n",
       "  <thead>\n",
       "    <tr style=\"text-align: right;\">\n",
       "      <th></th>\n",
       "      <th>genre_ids</th>\n",
       "      <th>id</th>\n",
       "      <th>original_language</th>\n",
       "      <th>original_title</th>\n",
       "      <th>popularity</th>\n",
       "      <th>release_date</th>\n",
       "      <th>title</th>\n",
       "      <th>vote_average</th>\n",
       "      <th>vote_count</th>\n",
       "    </tr>\n",
       "  </thead>\n",
       "  <tbody>\n",
       "    <tr>\n",
       "      <th>26514</th>\n",
       "      <td>[14, 28, 12]</td>\n",
       "      <td>381231</td>\n",
       "      <td>en</td>\n",
       "      <td>The Last One</td>\n",
       "      <td>0.6</td>\n",
       "      <td>2018-10-01</td>\n",
       "      <td>The Last One</td>\n",
       "      <td>0.0</td>\n",
       "      <td>1</td>\n",
       "    </tr>\n",
       "    <tr>\n",
       "      <th>26515</th>\n",
       "      <td>[10751, 12, 28]</td>\n",
       "      <td>366854</td>\n",
       "      <td>en</td>\n",
       "      <td>Trailer Made</td>\n",
       "      <td>0.6</td>\n",
       "      <td>2018-06-22</td>\n",
       "      <td>Trailer Made</td>\n",
       "      <td>0.0</td>\n",
       "      <td>1</td>\n",
       "    </tr>\n",
       "    <tr>\n",
       "      <th>26516</th>\n",
       "      <td>[53, 27]</td>\n",
       "      <td>309885</td>\n",
       "      <td>en</td>\n",
       "      <td>The Church</td>\n",
       "      <td>0.6</td>\n",
       "      <td>2018-10-05</td>\n",
       "      <td>The Church</td>\n",
       "      <td>0.0</td>\n",
       "      <td>1</td>\n",
       "    </tr>\n",
       "  </tbody>\n",
       "</table>\n",
       "</div>"
      ],
      "text/plain": [
       "             genre_ids      id original_language original_title  popularity  \\\n",
       "26514     [14, 28, 12]  381231                en   The Last One         0.6   \n",
       "26515  [10751, 12, 28]  366854                en   Trailer Made         0.6   \n",
       "26516         [53, 27]  309885                en     The Church         0.6   \n",
       "\n",
       "      release_date         title  vote_average  vote_count  \n",
       "26514   2018-10-01  The Last One           0.0           1  \n",
       "26515   2018-06-22  Trailer Made           0.0           1  \n",
       "26516   2018-10-05    The Church           0.0           1  "
      ]
     },
     "execution_count": 274,
     "metadata": {},
     "output_type": "execute_result"
    }
   ],
   "source": [
    "df_tmb.tail(3)"
   ]
  },
  {
   "cell_type": "markdown",
   "metadata": {},
   "source": [
    "#### Observation df_tmb\n",
    "There are no Nans.  This looks to be good data about the movies and genres.  \n",
    "Release date is an object and may be converted to a datatime if to be used.  Where to look up genre_ids?\n"
   ]
  },
  {
   "cell_type": "markdown",
   "metadata": {},
   "source": [
    "\n",
    "### TN The Numbers-df_tn_movie_budget"
   ]
  },
  {
   "cell_type": "code",
   "execution_count": 275,
   "metadata": {
    "ExecuteTime": {
     "end_time": "2021-05-04T22:13:08.447357Z",
     "start_time": "2021-05-04T22:13:08.435388Z"
    }
   },
   "outputs": [
    {
     "name": "stdout",
     "output_type": "stream",
     "text": [
      "<class 'pandas.core.frame.DataFrame'>\n",
      "Int64Index: 5782 entries, 1 to 82\n",
      "Data columns (total 5 columns):\n",
      " #   Column             Non-Null Count  Dtype \n",
      "---  ------             --------------  ----- \n",
      " 0   release_date       5782 non-null   object\n",
      " 1   movie              5782 non-null   object\n",
      " 2   production_budget  5782 non-null   object\n",
      " 3   domestic_gross     5782 non-null   object\n",
      " 4   worldwide_gross    5782 non-null   object\n",
      "dtypes: object(5)\n",
      "memory usage: 271.0+ KB\n"
     ]
    }
   ],
   "source": [
    "##The Numbers\n",
    "df_tn_movie_budget.info()"
   ]
  },
  {
   "cell_type": "code",
   "execution_count": 276,
   "metadata": {
    "ExecuteTime": {
     "end_time": "2021-05-04T22:13:08.462316Z",
     "start_time": "2021-05-04T22:13:08.450348Z"
    },
    "scrolled": true
   },
   "outputs": [
    {
     "data": {
      "text/html": [
       "<div>\n",
       "<style scoped>\n",
       "    .dataframe tbody tr th:only-of-type {\n",
       "        vertical-align: middle;\n",
       "    }\n",
       "\n",
       "    .dataframe tbody tr th {\n",
       "        vertical-align: top;\n",
       "    }\n",
       "\n",
       "    .dataframe thead th {\n",
       "        text-align: right;\n",
       "    }\n",
       "</style>\n",
       "<table border=\"1\" class=\"dataframe\">\n",
       "  <thead>\n",
       "    <tr style=\"text-align: right;\">\n",
       "      <th></th>\n",
       "      <th>release_date</th>\n",
       "      <th>movie</th>\n",
       "      <th>production_budget</th>\n",
       "      <th>domestic_gross</th>\n",
       "      <th>worldwide_gross</th>\n",
       "    </tr>\n",
       "    <tr>\n",
       "      <th>id</th>\n",
       "      <th></th>\n",
       "      <th></th>\n",
       "      <th></th>\n",
       "      <th></th>\n",
       "      <th></th>\n",
       "    </tr>\n",
       "  </thead>\n",
       "  <tbody>\n",
       "    <tr>\n",
       "      <th>1</th>\n",
       "      <td>Dec 18, 2009</td>\n",
       "      <td>Avatar</td>\n",
       "      <td>$425,000,000</td>\n",
       "      <td>$760,507,625</td>\n",
       "      <td>$2,776,345,279</td>\n",
       "    </tr>\n",
       "    <tr>\n",
       "      <th>2</th>\n",
       "      <td>May 20, 2011</td>\n",
       "      <td>Pirates of the Caribbean: On Stranger Tides</td>\n",
       "      <td>$410,600,000</td>\n",
       "      <td>$241,063,875</td>\n",
       "      <td>$1,045,663,875</td>\n",
       "    </tr>\n",
       "    <tr>\n",
       "      <th>3</th>\n",
       "      <td>Jun 7, 2019</td>\n",
       "      <td>Dark Phoenix</td>\n",
       "      <td>$350,000,000</td>\n",
       "      <td>$42,762,350</td>\n",
       "      <td>$149,762,350</td>\n",
       "    </tr>\n",
       "    <tr>\n",
       "      <th>4</th>\n",
       "      <td>May 1, 2015</td>\n",
       "      <td>Avengers: Age of Ultron</td>\n",
       "      <td>$330,600,000</td>\n",
       "      <td>$459,005,868</td>\n",
       "      <td>$1,403,013,963</td>\n",
       "    </tr>\n",
       "    <tr>\n",
       "      <th>5</th>\n",
       "      <td>Dec 15, 2017</td>\n",
       "      <td>Star Wars Ep. VIII: The Last Jedi</td>\n",
       "      <td>$317,000,000</td>\n",
       "      <td>$620,181,382</td>\n",
       "      <td>$1,316,721,747</td>\n",
       "    </tr>\n",
       "    <tr>\n",
       "      <th>6</th>\n",
       "      <td>Dec 18, 2015</td>\n",
       "      <td>Star Wars Ep. VII: The Force Awakens</td>\n",
       "      <td>$306,000,000</td>\n",
       "      <td>$936,662,225</td>\n",
       "      <td>$2,053,311,220</td>\n",
       "    </tr>\n",
       "    <tr>\n",
       "      <th>7</th>\n",
       "      <td>Apr 27, 2018</td>\n",
       "      <td>Avengers: Infinity War</td>\n",
       "      <td>$300,000,000</td>\n",
       "      <td>$678,815,482</td>\n",
       "      <td>$2,048,134,200</td>\n",
       "    </tr>\n",
       "    <tr>\n",
       "      <th>8</th>\n",
       "      <td>May 24, 2007</td>\n",
       "      <td>Pirates of the Caribbean: At Worldâs End</td>\n",
       "      <td>$300,000,000</td>\n",
       "      <td>$309,420,425</td>\n",
       "      <td>$963,420,425</td>\n",
       "    </tr>\n",
       "    <tr>\n",
       "      <th>9</th>\n",
       "      <td>Nov 17, 2017</td>\n",
       "      <td>Justice League</td>\n",
       "      <td>$300,000,000</td>\n",
       "      <td>$229,024,295</td>\n",
       "      <td>$655,945,209</td>\n",
       "    </tr>\n",
       "    <tr>\n",
       "      <th>10</th>\n",
       "      <td>Nov 6, 2015</td>\n",
       "      <td>Spectre</td>\n",
       "      <td>$300,000,000</td>\n",
       "      <td>$200,074,175</td>\n",
       "      <td>$879,620,923</td>\n",
       "    </tr>\n",
       "  </tbody>\n",
       "</table>\n",
       "</div>"
      ],
      "text/plain": [
       "    release_date                                        movie  \\\n",
       "id                                                              \n",
       "1   Dec 18, 2009                                       Avatar   \n",
       "2   May 20, 2011  Pirates of the Caribbean: On Stranger Tides   \n",
       "3    Jun 7, 2019                                 Dark Phoenix   \n",
       "4    May 1, 2015                      Avengers: Age of Ultron   \n",
       "5   Dec 15, 2017            Star Wars Ep. VIII: The Last Jedi   \n",
       "6   Dec 18, 2015         Star Wars Ep. VII: The Force Awakens   \n",
       "7   Apr 27, 2018                       Avengers: Infinity War   \n",
       "8   May 24, 2007   Pirates of the Caribbean: At Worldâs End   \n",
       "9   Nov 17, 2017                               Justice League   \n",
       "10   Nov 6, 2015                                      Spectre   \n",
       "\n",
       "   production_budget domestic_gross worldwide_gross  \n",
       "id                                                   \n",
       "1       $425,000,000   $760,507,625  $2,776,345,279  \n",
       "2       $410,600,000   $241,063,875  $1,045,663,875  \n",
       "3       $350,000,000    $42,762,350    $149,762,350  \n",
       "4       $330,600,000   $459,005,868  $1,403,013,963  \n",
       "5       $317,000,000   $620,181,382  $1,316,721,747  \n",
       "6       $306,000,000   $936,662,225  $2,053,311,220  \n",
       "7       $300,000,000   $678,815,482  $2,048,134,200  \n",
       "8       $300,000,000   $309,420,425    $963,420,425  \n",
       "9       $300,000,000   $229,024,295    $655,945,209  \n",
       "10      $300,000,000   $200,074,175    $879,620,923  "
      ]
     },
     "execution_count": 276,
     "metadata": {},
     "output_type": "execute_result"
    }
   ],
   "source": [
    "df_tn_movie_budget.head(10)"
   ]
  },
  {
   "cell_type": "markdown",
   "metadata": {
    "ExecuteTime": {
     "end_time": "2021-04-27T01:00:20.043026Z",
     "start_time": "2021-04-27T01:00:20.038991Z"
    }
   },
   "source": [
    "#### Observation df_tn_movie_budget\n",
    "There are no Nans.  This data is the movies, release date \n",
    "and worldwide gross with production budget.    Money data should be converted to \n",
    "int and dollas signs removed\n",
    "Release date is an object and may be converted to a datatime if to be used."
   ]
  },
  {
   "cell_type": "markdown",
   "metadata": {},
   "source": [
    "<br><br><br><br><br><br>\n",
    "\n",
    "\n",
    "\n",
    "## Data Cleaning and Typing\n",
    "Removing the NanNs, dropping columns which have no importance or too many nans, converting object datatypes to be useful."
   ]
  },
  {
   "cell_type": "markdown",
   "metadata": {},
   "source": [
    "### <font color=\"green\">Clean df_bom data</font>"
   ]
  },
  {
   "cell_type": "code",
   "execution_count": 277,
   "metadata": {
    "ExecuteTime": {
     "end_time": "2021-05-04T22:13:08.478274Z",
     "start_time": "2021-05-04T22:13:08.463314Z"
    }
   },
   "outputs": [
    {
     "data": {
      "text/plain": [
       "studio               5\n",
       "domestic_gross      28\n",
       "foreign_gross     1350\n",
       "year                 0\n",
       "dtype: int64"
      ]
     },
     "execution_count": 277,
     "metadata": {},
     "output_type": "execute_result"
    }
   ],
   "source": [
    "df_bom.isna().sum()"
   ]
  },
  {
   "cell_type": "code",
   "execution_count": 278,
   "metadata": {
    "ExecuteTime": {
     "end_time": "2021-05-04T22:13:08.494231Z",
     "start_time": "2021-05-04T22:13:08.479271Z"
    },
    "scrolled": true
   },
   "outputs": [
    {
     "data": {
      "text/plain": [
       "(3387, 4)"
      ]
     },
     "execution_count": 278,
     "metadata": {},
     "output_type": "execute_result"
    }
   ],
   "source": [
    "df_bom.shape"
   ]
  },
  {
   "cell_type": "code",
   "execution_count": 279,
   "metadata": {
    "ExecuteTime": {
     "end_time": "2021-05-04T22:13:08.510189Z",
     "start_time": "2021-05-04T22:13:08.495228Z"
    },
    "scrolled": true
   },
   "outputs": [
    {
     "name": "stdout",
     "output_type": "stream",
     "text": [
      "<class 'pandas.core.frame.DataFrame'>\n",
      "Index: 3387 entries, Toy Story 3 to An Actor Prepares\n",
      "Data columns (total 4 columns):\n",
      " #   Column          Non-Null Count  Dtype  \n",
      "---  ------          --------------  -----  \n",
      " 0   studio          3382 non-null   object \n",
      " 1   domestic_gross  3359 non-null   float64\n",
      " 2   foreign_gross   2037 non-null   object \n",
      " 3   year            3387 non-null   int64  \n",
      "dtypes: float64(1), int64(1), object(2)\n",
      "memory usage: 132.3+ KB\n"
     ]
    }
   ],
   "source": [
    "df_bom.info()"
   ]
  },
  {
   "cell_type": "code",
   "execution_count": 280,
   "metadata": {
    "ExecuteTime": {
     "end_time": "2021-05-04T22:13:08.526145Z",
     "start_time": "2021-05-04T22:13:08.511186Z"
    },
    "scrolled": true
   },
   "outputs": [],
   "source": [
    "#If NaN setting to 0..\n",
    "df_bom.fillna(0, inplace=True)"
   ]
  },
  {
   "cell_type": "code",
   "execution_count": 281,
   "metadata": {
    "ExecuteTime": {
     "end_time": "2021-05-04T22:13:08.542103Z",
     "start_time": "2021-05-04T22:13:08.527143Z"
    }
   },
   "outputs": [
    {
     "data": {
      "text/plain": [
       "studio            0\n",
       "domestic_gross    0\n",
       "foreign_gross     0\n",
       "year              0\n",
       "dtype: int64"
      ]
     },
     "execution_count": 281,
     "metadata": {},
     "output_type": "execute_result"
    }
   ],
   "source": [
    "df_bom.isna().sum()"
   ]
  },
  {
   "cell_type": "code",
   "execution_count": 282,
   "metadata": {
    "ExecuteTime": {
     "end_time": "2021-05-04T22:13:08.558060Z",
     "start_time": "2021-05-04T22:13:08.543100Z"
    }
   },
   "outputs": [
    {
     "name": "stdout",
     "output_type": "stream",
     "text": [
      "<class 'pandas.core.frame.DataFrame'>\n",
      "Index: 3387 entries, Toy Story 3 to An Actor Prepares\n",
      "Data columns (total 4 columns):\n",
      " #   Column          Non-Null Count  Dtype  \n",
      "---  ------          --------------  -----  \n",
      " 0   studio          3387 non-null   object \n",
      " 1   domestic_gross  3387 non-null   float64\n",
      " 2   foreign_gross   3387 non-null   object \n",
      " 3   year            3387 non-null   int64  \n",
      "dtypes: float64(1), int64(1), object(2)\n",
      "memory usage: 132.3+ KB\n"
     ]
    }
   ],
   "source": [
    "df_bom.info()\n",
    "#Need to convert the foreign gross to float"
   ]
  },
  {
   "cell_type": "markdown",
   "metadata": {},
   "source": [
    " A Few values needed to be converted to billions"
   ]
  },
  {
   "cell_type": "code",
   "execution_count": 283,
   "metadata": {
    "ExecuteTime": {
     "end_time": "2021-05-04T22:13:08.574018Z",
     "start_time": "2021-05-04T22:13:08.559058Z"
    }
   },
   "outputs": [],
   "source": [
    "# When converting to numeric foreign gross at line numbers 1872,1873,1874,2760,\n",
    "#3079 were in a shorthand billions\n",
    "# ie 1,131.6 for 1131600000.\n",
    "# this is the quick fix\n",
    "df_bom.iloc[[1872],[2]] =1131600000.0\n",
    "df_bom.iloc[[1873],[2]] =1019400000.0\n",
    "df_bom.iloc[[1874],[2]] =1163000000.0\n",
    "df_bom.iloc[[2760],[2]] =1010000000.0\n",
    "df_bom.iloc[[3079],[2]] =1369500000.0\n"
   ]
  },
  {
   "cell_type": "markdown",
   "metadata": {},
   "source": [
    "Convert the object number of foreign gross to numeric "
   ]
  },
  {
   "cell_type": "code",
   "execution_count": 284,
   "metadata": {
    "ExecuteTime": {
     "end_time": "2021-05-04T22:13:08.590010Z",
     "start_time": "2021-05-04T22:13:08.575015Z"
    },
    "scrolled": true
   },
   "outputs": [],
   "source": [
    "#Convert string to numeric values...5 or so of the billions needed to be converted\n",
    "df_bom['foreign_gross'] = pd.to_numeric(df_bom['foreign_gross'])"
   ]
  },
  {
   "cell_type": "code",
   "execution_count": 285,
   "metadata": {
    "ExecuteTime": {
     "end_time": "2021-05-04T22:13:08.605967Z",
     "start_time": "2021-05-04T22:13:08.590972Z"
    },
    "scrolled": false
   },
   "outputs": [
    {
     "name": "stdout",
     "output_type": "stream",
     "text": [
      "<class 'pandas.core.frame.DataFrame'>\n",
      "Index: 3387 entries, Toy Story 3 to An Actor Prepares\n",
      "Data columns (total 4 columns):\n",
      " #   Column          Non-Null Count  Dtype  \n",
      "---  ------          --------------  -----  \n",
      " 0   studio          3387 non-null   object \n",
      " 1   domestic_gross  3387 non-null   float64\n",
      " 2   foreign_gross   3387 non-null   float64\n",
      " 3   year            3387 non-null   int64  \n",
      "dtypes: float64(2), int64(1), object(1)\n",
      "memory usage: 132.3+ KB\n"
     ]
    }
   ],
   "source": [
    "df_bom.info()"
   ]
  },
  {
   "cell_type": "code",
   "execution_count": 286,
   "metadata": {
    "ExecuteTime": {
     "end_time": "2021-05-04T22:13:08.621925Z",
     "start_time": "2021-05-04T22:13:08.606929Z"
    }
   },
   "outputs": [],
   "source": [
    "#creating the worldwide_gross column from the dommestic and foreign gross\n",
    "df_bom['worldwide_gross'] = df_bom['domestic_gross'] + df_bom['foreign_gross']"
   ]
  },
  {
   "cell_type": "code",
   "execution_count": 287,
   "metadata": {
    "ExecuteTime": {
     "end_time": "2021-05-04T22:13:08.637883Z",
     "start_time": "2021-05-04T22:13:08.622887Z"
    }
   },
   "outputs": [
    {
     "data": {
      "text/html": [
       "<div>\n",
       "<style scoped>\n",
       "    .dataframe tbody tr th:only-of-type {\n",
       "        vertical-align: middle;\n",
       "    }\n",
       "\n",
       "    .dataframe tbody tr th {\n",
       "        vertical-align: top;\n",
       "    }\n",
       "\n",
       "    .dataframe thead th {\n",
       "        text-align: right;\n",
       "    }\n",
       "</style>\n",
       "<table border=\"1\" class=\"dataframe\">\n",
       "  <thead>\n",
       "    <tr style=\"text-align: right;\">\n",
       "      <th></th>\n",
       "      <th>studio</th>\n",
       "      <th>domestic_gross</th>\n",
       "      <th>foreign_gross</th>\n",
       "      <th>year</th>\n",
       "      <th>worldwide_gross</th>\n",
       "    </tr>\n",
       "    <tr>\n",
       "      <th>title</th>\n",
       "      <th></th>\n",
       "      <th></th>\n",
       "      <th></th>\n",
       "      <th></th>\n",
       "      <th></th>\n",
       "    </tr>\n",
       "  </thead>\n",
       "  <tbody>\n",
       "    <tr>\n",
       "      <th>Toy Story 3</th>\n",
       "      <td>BV</td>\n",
       "      <td>415000000.0</td>\n",
       "      <td>652000000.0</td>\n",
       "      <td>2010</td>\n",
       "      <td>1.067000e+09</td>\n",
       "    </tr>\n",
       "    <tr>\n",
       "      <th>Alice in Wonderland (2010)</th>\n",
       "      <td>BV</td>\n",
       "      <td>334200000.0</td>\n",
       "      <td>691300000.0</td>\n",
       "      <td>2010</td>\n",
       "      <td>1.025500e+09</td>\n",
       "    </tr>\n",
       "    <tr>\n",
       "      <th>Harry Potter and the Deathly Hallows Part 1</th>\n",
       "      <td>WB</td>\n",
       "      <td>296000000.0</td>\n",
       "      <td>664300000.0</td>\n",
       "      <td>2010</td>\n",
       "      <td>9.603000e+08</td>\n",
       "    </tr>\n",
       "    <tr>\n",
       "      <th>Inception</th>\n",
       "      <td>WB</td>\n",
       "      <td>292600000.0</td>\n",
       "      <td>535700000.0</td>\n",
       "      <td>2010</td>\n",
       "      <td>8.283000e+08</td>\n",
       "    </tr>\n",
       "    <tr>\n",
       "      <th>Shrek Forever After</th>\n",
       "      <td>P/DW</td>\n",
       "      <td>238700000.0</td>\n",
       "      <td>513900000.0</td>\n",
       "      <td>2010</td>\n",
       "      <td>7.526000e+08</td>\n",
       "    </tr>\n",
       "  </tbody>\n",
       "</table>\n",
       "</div>"
      ],
      "text/plain": [
       "                                            studio  domestic_gross  \\\n",
       "title                                                                \n",
       "Toy Story 3                                     BV     415000000.0   \n",
       "Alice in Wonderland (2010)                      BV     334200000.0   \n",
       "Harry Potter and the Deathly Hallows Part 1     WB     296000000.0   \n",
       "Inception                                       WB     292600000.0   \n",
       "Shrek Forever After                           P/DW     238700000.0   \n",
       "\n",
       "                                             foreign_gross  year  \\\n",
       "title                                                              \n",
       "Toy Story 3                                    652000000.0  2010   \n",
       "Alice in Wonderland (2010)                     691300000.0  2010   \n",
       "Harry Potter and the Deathly Hallows Part 1    664300000.0  2010   \n",
       "Inception                                      535700000.0  2010   \n",
       "Shrek Forever After                            513900000.0  2010   \n",
       "\n",
       "                                             worldwide_gross  \n",
       "title                                                         \n",
       "Toy Story 3                                     1.067000e+09  \n",
       "Alice in Wonderland (2010)                      1.025500e+09  \n",
       "Harry Potter and the Deathly Hallows Part 1     9.603000e+08  \n",
       "Inception                                       8.283000e+08  \n",
       "Shrek Forever After                             7.526000e+08  "
      ]
     },
     "execution_count": 287,
     "metadata": {},
     "output_type": "execute_result"
    }
   ],
   "source": [
    "df_bom.head()"
   ]
  },
  {
   "cell_type": "markdown",
   "metadata": {
    "ExecuteTime": {
     "end_time": "2021-04-26T05:31:30.670252Z",
     "start_time": "2021-04-26T05:31:30.650305Z"
    }
   },
   "source": [
    "<font color='green'>Observation</font> Set Foreign gross to 0 if NaN.  If we need we can use the movie budget to look up.\n",
    "Converted money columns to floats. Created worldwide_gross from domestc and foreign.\n",
    "\n"
   ]
  },
  {
   "cell_type": "markdown",
   "metadata": {},
   "source": [
    "### <font color=\"green\">Clean imdb_name data</font>"
   ]
  },
  {
   "cell_type": "code",
   "execution_count": 288,
   "metadata": {
    "ExecuteTime": {
     "end_time": "2021-05-04T22:13:08.653840Z",
     "start_time": "2021-05-04T22:13:08.639842Z"
    }
   },
   "outputs": [
    {
     "data": {
      "text/plain": [
       "(606648, 5)"
      ]
     },
     "execution_count": 288,
     "metadata": {},
     "output_type": "execute_result"
    }
   ],
   "source": [
    "df_imdb_name.shape"
   ]
  },
  {
   "cell_type": "code",
   "execution_count": 289,
   "metadata": {
    "ExecuteTime": {
     "end_time": "2021-05-04T22:13:08.732593Z",
     "start_time": "2021-05-04T22:13:08.654802Z"
    }
   },
   "outputs": [
    {
     "data": {
      "text/plain": [
       "primary_name               0\n",
       "birth_year            523912\n",
       "death_year            599865\n",
       "primary_profession     51340\n",
       "known_for_titles       30204\n",
       "dtype: int64"
      ]
     },
     "execution_count": 289,
     "metadata": {},
     "output_type": "execute_result"
    }
   ],
   "source": [
    "df_imdb_name.isna().sum()"
   ]
  },
  {
   "cell_type": "code",
   "execution_count": 290,
   "metadata": {
    "ExecuteTime": {
     "end_time": "2021-05-04T22:13:08.764508Z",
     "start_time": "2021-05-04T22:13:08.733591Z"
    }
   },
   "outputs": [],
   "source": [
    "#Can drop birth_year and death year\n",
    "df_imdb_name = df_imdb_name.drop(columns=['birth_year','death_year'])"
   ]
  },
  {
   "cell_type": "markdown",
   "metadata": {},
   "source": [
    "drop if both primary_profession and known_for_titles are both Nan"
   ]
  },
  {
   "cell_type": "code",
   "execution_count": 291,
   "metadata": {
    "ExecuteTime": {
     "end_time": "2021-05-04T22:13:08.842300Z",
     "start_time": "2021-05-04T22:13:08.765505Z"
    },
    "scrolled": true
   },
   "outputs": [
    {
     "data": {
      "text/plain": [
       "primary_name              0\n",
       "primary_profession    51340\n",
       "known_for_titles      30204\n",
       "dtype: int64"
      ]
     },
     "execution_count": 291,
     "metadata": {},
     "output_type": "execute_result"
    }
   ],
   "source": [
    "df_imdb_name.isna().sum()"
   ]
  },
  {
   "cell_type": "code",
   "execution_count": 292,
   "metadata": {
    "ExecuteTime": {
     "end_time": "2021-05-04T22:13:08.967003Z",
     "start_time": "2021-05-04T22:13:08.844297Z"
    }
   },
   "outputs": [],
   "source": [
    "#drop if both primary_profession and known_for_titles are both Nan\n",
    "col_lst = ['primary_profession', 'known_for_titles']\n",
    "df_imdb_name.dropna(axis = 0, subset = col_lst, how = 'all', inplace = True)\n"
   ]
  },
  {
   "cell_type": "code",
   "execution_count": 293,
   "metadata": {
    "ExecuteTime": {
     "end_time": "2021-05-04T22:13:09.030796Z",
     "start_time": "2021-05-04T22:13:08.967963Z"
    }
   },
   "outputs": [
    {
     "data": {
      "text/plain": [
       "primary_name              0\n",
       "primary_profession    41307\n",
       "known_for_titles      20171\n",
       "dtype: int64"
      ]
     },
     "execution_count": 293,
     "metadata": {},
     "output_type": "execute_result"
    }
   ],
   "source": [
    "df_imdb_name.isna().sum()"
   ]
  },
  {
   "cell_type": "markdown",
   "metadata": {},
   "source": [
    "<font color='green'>Observation</font> lots of NaNs but are supposed to be blank if non applicable.  put in holder value(NA, or job or characters? or 0?  Dropped 'birth_year','death_year'. If NAN for known_for can drop?  Final decision to fill na with 'unknown'"
   ]
  },
  {
   "cell_type": "code",
   "execution_count": 294,
   "metadata": {
    "ExecuteTime": {
     "end_time": "2021-05-04T22:13:09.076708Z",
     "start_time": "2021-05-04T22:13:09.031793Z"
    }
   },
   "outputs": [
    {
     "data": {
      "text/html": [
       "<div>\n",
       "<style scoped>\n",
       "    .dataframe tbody tr th:only-of-type {\n",
       "        vertical-align: middle;\n",
       "    }\n",
       "\n",
       "    .dataframe tbody tr th {\n",
       "        vertical-align: top;\n",
       "    }\n",
       "\n",
       "    .dataframe thead th {\n",
       "        text-align: right;\n",
       "    }\n",
       "</style>\n",
       "<table border=\"1\" class=\"dataframe\">\n",
       "  <thead>\n",
       "    <tr style=\"text-align: right;\">\n",
       "      <th></th>\n",
       "      <th>primary_name</th>\n",
       "      <th>primary_profession</th>\n",
       "      <th>known_for_titles</th>\n",
       "    </tr>\n",
       "    <tr>\n",
       "      <th>nconst</th>\n",
       "      <th></th>\n",
       "      <th></th>\n",
       "      <th></th>\n",
       "    </tr>\n",
       "  </thead>\n",
       "  <tbody>\n",
       "    <tr>\n",
       "      <th>nm10108345</th>\n",
       "      <td>Jiaxi Li</td>\n",
       "      <td>actor</td>\n",
       "      <td>NaN</td>\n",
       "    </tr>\n",
       "    <tr>\n",
       "      <th>nm10113099</th>\n",
       "      <td>Greg Quibell</td>\n",
       "      <td>actor</td>\n",
       "      <td>NaN</td>\n",
       "    </tr>\n",
       "    <tr>\n",
       "      <th>nm10114259</th>\n",
       "      <td>Vera Prifatamasari</td>\n",
       "      <td>actress</td>\n",
       "      <td>NaN</td>\n",
       "    </tr>\n",
       "    <tr>\n",
       "      <th>nm10115487</th>\n",
       "      <td>Laurette De Haan</td>\n",
       "      <td>director,writer,cinematographer</td>\n",
       "      <td>NaN</td>\n",
       "    </tr>\n",
       "    <tr>\n",
       "      <th>nm10115788</th>\n",
       "      <td>Sustraida's Band</td>\n",
       "      <td>composer</td>\n",
       "      <td>NaN</td>\n",
       "    </tr>\n",
       "  </tbody>\n",
       "</table>\n",
       "</div>"
      ],
      "text/plain": [
       "                  primary_name               primary_profession  \\\n",
       "nconst                                                            \n",
       "nm10108345            Jiaxi Li                            actor   \n",
       "nm10113099        Greg Quibell                            actor   \n",
       "nm10114259  Vera Prifatamasari                          actress   \n",
       "nm10115487    Laurette De Haan  director,writer,cinematographer   \n",
       "nm10115788    Sustraida's Band                         composer   \n",
       "\n",
       "           known_for_titles  \n",
       "nconst                       \n",
       "nm10108345              NaN  \n",
       "nm10113099              NaN  \n",
       "nm10114259              NaN  \n",
       "nm10115487              NaN  \n",
       "nm10115788              NaN  "
      ]
     },
     "execution_count": 294,
     "metadata": {},
     "output_type": "execute_result"
    }
   ],
   "source": [
    "df_imdb_name[df_imdb_name['known_for_titles'].isna()].head()"
   ]
  },
  {
   "cell_type": "code",
   "execution_count": 295,
   "metadata": {
    "ExecuteTime": {
     "end_time": "2021-05-04T22:13:09.139505Z",
     "start_time": "2021-05-04T22:13:09.077670Z"
    }
   },
   "outputs": [],
   "source": [
    "#if there is a Nan in remaining data fill in with unknown\n",
    "df_imdb_name['known_for_titles'].fillna(value='unknown', inplace=True)\n",
    "df_imdb_name['primary_profession'].fillna(value='unknown', inplace=True)"
   ]
  },
  {
   "cell_type": "code",
   "execution_count": 296,
   "metadata": {
    "ExecuteTime": {
     "end_time": "2021-05-04T22:13:09.203334Z",
     "start_time": "2021-05-04T22:13:09.140502Z"
    },
    "scrolled": true
   },
   "outputs": [
    {
     "data": {
      "text/plain": [
       "primary_name          0\n",
       "primary_profession    0\n",
       "known_for_titles      0\n",
       "dtype: int64"
      ]
     },
     "execution_count": 296,
     "metadata": {},
     "output_type": "execute_result"
    }
   ],
   "source": [
    "df_imdb_name.isna().sum()"
   ]
  },
  {
   "cell_type": "code",
   "execution_count": 297,
   "metadata": {
    "ExecuteTime": {
     "end_time": "2021-05-04T22:13:09.218294Z",
     "start_time": "2021-05-04T22:13:09.204332Z"
    }
   },
   "outputs": [
    {
     "data": {
      "text/plain": [
       "(596615, 3)"
      ]
     },
     "execution_count": 297,
     "metadata": {},
     "output_type": "execute_result"
    }
   ],
   "source": [
    "df_imdb_name.shape"
   ]
  },
  {
   "cell_type": "markdown",
   "metadata": {},
   "source": [
    "### <font color=\"green\">Clean imdb_akas data</font>"
   ]
  },
  {
   "cell_type": "code",
   "execution_count": 298,
   "metadata": {
    "ExecuteTime": {
     "end_time": "2021-05-04T22:13:09.234251Z",
     "start_time": "2021-05-04T22:13:09.220289Z"
    }
   },
   "outputs": [
    {
     "data": {
      "text/plain": [
       "(331703, 7)"
      ]
     },
     "execution_count": 298,
     "metadata": {},
     "output_type": "execute_result"
    }
   ],
   "source": [
    "df_imdb_akas.shape"
   ]
  },
  {
   "cell_type": "code",
   "execution_count": 299,
   "metadata": {
    "ExecuteTime": {
     "end_time": "2021-05-04T22:13:09.298081Z",
     "start_time": "2021-05-04T22:13:09.235249Z"
    }
   },
   "outputs": [
    {
     "name": "stdout",
     "output_type": "stream",
     "text": [
      "<class 'pandas.core.frame.DataFrame'>\n",
      "Index: 331703 entries, tt0369610 to tt9880178\n",
      "Data columns (total 7 columns):\n",
      " #   Column             Non-Null Count   Dtype  \n",
      "---  ------             --------------   -----  \n",
      " 0   ordering           331703 non-null  int64  \n",
      " 1   title              331703 non-null  object \n",
      " 2   region             278410 non-null  object \n",
      " 3   language           41715 non-null   object \n",
      " 4   types              168447 non-null  object \n",
      " 5   attributes         14925 non-null   object \n",
      " 6   is_original_title  331678 non-null  float64\n",
      "dtypes: float64(1), int64(1), object(5)\n",
      "memory usage: 20.2+ MB\n"
     ]
    }
   ],
   "source": [
    "df_imdb_akas.info()"
   ]
  },
  {
   "cell_type": "code",
   "execution_count": 300,
   "metadata": {
    "ExecuteTime": {
     "end_time": "2021-05-04T22:13:09.314038Z",
     "start_time": "2021-05-04T22:13:09.299078Z"
    }
   },
   "outputs": [],
   "source": [
    "#Unsure if this data is useful\n",
    "#df_imdb_akas = df_imdb_akas[df_imdb_akas['is_original_title'] == 1.0]"
   ]
  },
  {
   "cell_type": "code",
   "execution_count": 301,
   "metadata": {
    "ExecuteTime": {
     "end_time": "2021-05-04T22:13:09.376870Z",
     "start_time": "2021-05-04T22:13:09.316035Z"
    }
   },
   "outputs": [
    {
     "data": {
      "text/plain": [
       "ordering                  0\n",
       "title                     0\n",
       "region                53293\n",
       "language             289988\n",
       "types                163256\n",
       "attributes           316778\n",
       "is_original_title        25\n",
       "dtype: int64"
      ]
     },
     "execution_count": 301,
     "metadata": {},
     "output_type": "execute_result"
    }
   ],
   "source": [
    "df_imdb_akas.isna().sum()"
   ]
  },
  {
   "cell_type": "code",
   "execution_count": 302,
   "metadata": {
    "ExecuteTime": {
     "end_time": "2021-05-04T22:13:09.392827Z",
     "start_time": "2021-05-04T22:13:09.377867Z"
    }
   },
   "outputs": [
    {
     "data": {
      "text/html": [
       "<div>\n",
       "<style scoped>\n",
       "    .dataframe tbody tr th:only-of-type {\n",
       "        vertical-align: middle;\n",
       "    }\n",
       "\n",
       "    .dataframe tbody tr th {\n",
       "        vertical-align: top;\n",
       "    }\n",
       "\n",
       "    .dataframe thead th {\n",
       "        text-align: right;\n",
       "    }\n",
       "</style>\n",
       "<table border=\"1\" class=\"dataframe\">\n",
       "  <thead>\n",
       "    <tr style=\"text-align: right;\">\n",
       "      <th></th>\n",
       "      <th>ordering</th>\n",
       "      <th>title</th>\n",
       "      <th>region</th>\n",
       "      <th>language</th>\n",
       "      <th>types</th>\n",
       "      <th>attributes</th>\n",
       "      <th>is_original_title</th>\n",
       "    </tr>\n",
       "    <tr>\n",
       "      <th>title_id</th>\n",
       "      <th></th>\n",
       "      <th></th>\n",
       "      <th></th>\n",
       "      <th></th>\n",
       "      <th></th>\n",
       "      <th></th>\n",
       "      <th></th>\n",
       "    </tr>\n",
       "  </thead>\n",
       "  <tbody>\n",
       "    <tr>\n",
       "      <th>tt0369610</th>\n",
       "      <td>10</td>\n",
       "      <td>Джурасик свят</td>\n",
       "      <td>BG</td>\n",
       "      <td>bg</td>\n",
       "      <td>NaN</td>\n",
       "      <td>NaN</td>\n",
       "      <td>0.0</td>\n",
       "    </tr>\n",
       "    <tr>\n",
       "      <th>tt0369610</th>\n",
       "      <td>11</td>\n",
       "      <td>Jurashikku warudo</td>\n",
       "      <td>JP</td>\n",
       "      <td>NaN</td>\n",
       "      <td>imdbDisplay</td>\n",
       "      <td>NaN</td>\n",
       "      <td>0.0</td>\n",
       "    </tr>\n",
       "    <tr>\n",
       "      <th>tt0369610</th>\n",
       "      <td>12</td>\n",
       "      <td>Jurassic World: O Mundo dos Dinossauros</td>\n",
       "      <td>BR</td>\n",
       "      <td>NaN</td>\n",
       "      <td>imdbDisplay</td>\n",
       "      <td>NaN</td>\n",
       "      <td>0.0</td>\n",
       "    </tr>\n",
       "  </tbody>\n",
       "</table>\n",
       "</div>"
      ],
      "text/plain": [
       "           ordering                                    title region language  \\\n",
       "title_id                                                                       \n",
       "tt0369610        10                            Джурасик свят     BG       bg   \n",
       "tt0369610        11                        Jurashikku warudo     JP      NaN   \n",
       "tt0369610        12  Jurassic World: O Mundo dos Dinossauros     BR      NaN   \n",
       "\n",
       "                 types attributes  is_original_title  \n",
       "title_id                                              \n",
       "tt0369610          NaN        NaN                0.0  \n",
       "tt0369610  imdbDisplay        NaN                0.0  \n",
       "tt0369610  imdbDisplay        NaN                0.0  "
      ]
     },
     "execution_count": 302,
     "metadata": {},
     "output_type": "execute_result"
    }
   ],
   "source": [
    "df_imdb_akas.head(3)"
   ]
  },
  {
   "cell_type": "code",
   "execution_count": 303,
   "metadata": {
    "ExecuteTime": {
     "end_time": "2021-05-04T22:13:09.439702Z",
     "start_time": "2021-05-04T22:13:09.393825Z"
    }
   },
   "outputs": [
    {
     "data": {
      "text/plain": [
       "{'alternative',\n",
       " 'dvd',\n",
       " 'dvd\\x02imdbDisplay',\n",
       " 'festival',\n",
       " 'festival\\x02working',\n",
       " 'imdbDisplay',\n",
       " nan,\n",
       " 'original',\n",
       " 'tv',\n",
       " 'video',\n",
       " 'working'}"
      ]
     },
     "execution_count": 303,
     "metadata": {},
     "output_type": "execute_result"
    }
   ],
   "source": [
    "set(df_imdb_akas['types'])"
   ]
  },
  {
   "cell_type": "code",
   "execution_count": 304,
   "metadata": {
    "ExecuteTime": {
     "end_time": "2021-05-04T22:13:09.501536Z",
     "start_time": "2021-05-04T22:13:09.440699Z"
    }
   },
   "outputs": [],
   "source": [
    "#for NaNs in these columns set to unknown\n",
    "col_list = ['region','language','types','attributes']\n",
    "for col in col_list:\n",
    "    \n",
    "    df_imdb_akas[col].fillna(value='unknown', inplace=True)\n",
    " "
   ]
  },
  {
   "cell_type": "code",
   "execution_count": 305,
   "metadata": {
    "ExecuteTime": {
     "end_time": "2021-05-04T22:13:09.579328Z",
     "start_time": "2021-05-04T22:13:09.502534Z"
    },
    "scrolled": true
   },
   "outputs": [
    {
     "data": {
      "text/plain": [
       "ordering              0\n",
       "title                 0\n",
       "region                0\n",
       "language              0\n",
       "types                 0\n",
       "attributes            0\n",
       "is_original_title    25\n",
       "dtype: int64"
      ]
     },
     "execution_count": 305,
     "metadata": {},
     "output_type": "execute_result"
    }
   ],
   "source": [
    "df_imdb_akas.isna().sum()"
   ]
  },
  {
   "cell_type": "code",
   "execution_count": 306,
   "metadata": {
    "ExecuteTime": {
     "end_time": "2021-05-04T22:13:09.610246Z",
     "start_time": "2021-05-04T22:13:09.580326Z"
    }
   },
   "outputs": [],
   "source": [
    "df_imdb_akas = df_imdb_akas[df_imdb_akas['is_original_title'].notna()]"
   ]
  },
  {
   "cell_type": "code",
   "execution_count": 307,
   "metadata": {
    "ExecuteTime": {
     "end_time": "2021-05-04T22:13:09.626203Z",
     "start_time": "2021-05-04T22:13:09.611243Z"
    }
   },
   "outputs": [
    {
     "data": {
      "text/plain": [
       "(331678, 7)"
      ]
     },
     "execution_count": 307,
     "metadata": {},
     "output_type": "execute_result"
    }
   ],
   "source": [
    "df_imdb_akas.shape"
   ]
  },
  {
   "cell_type": "markdown",
   "metadata": {},
   "source": [
    "<font color='green'>Actions</font> In columns 'region','language','types','attributes'set Nan to 'unknown \n",
    "<br>removed is_original title id Nan"
   ]
  },
  {
   "cell_type": "markdown",
   "metadata": {},
   "source": [
    "### <font color=\"green\">Clean imdb_basics data</font>"
   ]
  },
  {
   "cell_type": "code",
   "execution_count": 308,
   "metadata": {
    "ExecuteTime": {
     "end_time": "2021-05-04T22:13:09.642160Z",
     "start_time": "2021-05-04T22:13:09.627200Z"
    }
   },
   "outputs": [
    {
     "data": {
      "text/plain": [
       "(146144, 5)"
      ]
     },
     "execution_count": 308,
     "metadata": {},
     "output_type": "execute_result"
    }
   ],
   "source": [
    "df_imdbbasics.shape"
   ]
  },
  {
   "cell_type": "code",
   "execution_count": 309,
   "metadata": {
    "ExecuteTime": {
     "end_time": "2021-05-04T22:13:09.673078Z",
     "start_time": "2021-05-04T22:13:09.643157Z"
    }
   },
   "outputs": [
    {
     "data": {
      "text/plain": [
       "primary_title          0\n",
       "original_title        21\n",
       "start_year             0\n",
       "runtime_minutes    31739\n",
       "genres              5408\n",
       "dtype: int64"
      ]
     },
     "execution_count": 309,
     "metadata": {},
     "output_type": "execute_result"
    }
   ],
   "source": [
    "df_imdbbasics.isna().sum()"
   ]
  },
  {
   "cell_type": "code",
   "execution_count": 310,
   "metadata": {
    "ExecuteTime": {
     "end_time": "2021-05-04T22:13:09.689035Z",
     "start_time": "2021-05-04T22:13:09.674076Z"
    }
   },
   "outputs": [
    {
     "data": {
      "text/html": [
       "<div>\n",
       "<style scoped>\n",
       "    .dataframe tbody tr th:only-of-type {\n",
       "        vertical-align: middle;\n",
       "    }\n",
       "\n",
       "    .dataframe tbody tr th {\n",
       "        vertical-align: top;\n",
       "    }\n",
       "\n",
       "    .dataframe thead th {\n",
       "        text-align: right;\n",
       "    }\n",
       "</style>\n",
       "<table border=\"1\" class=\"dataframe\">\n",
       "  <thead>\n",
       "    <tr style=\"text-align: right;\">\n",
       "      <th></th>\n",
       "      <th>primary_title</th>\n",
       "      <th>original_title</th>\n",
       "      <th>start_year</th>\n",
       "      <th>runtime_minutes</th>\n",
       "      <th>genres</th>\n",
       "    </tr>\n",
       "    <tr>\n",
       "      <th>tconst</th>\n",
       "      <th></th>\n",
       "      <th></th>\n",
       "      <th></th>\n",
       "      <th></th>\n",
       "      <th></th>\n",
       "    </tr>\n",
       "  </thead>\n",
       "  <tbody>\n",
       "    <tr>\n",
       "      <th>tt9916160</th>\n",
       "      <td>Drømmeland</td>\n",
       "      <td>Drømmeland</td>\n",
       "      <td>2019</td>\n",
       "      <td>72.0</td>\n",
       "      <td>Documentary</td>\n",
       "    </tr>\n",
       "    <tr>\n",
       "      <th>tt9916170</th>\n",
       "      <td>The Rehearsal</td>\n",
       "      <td>O Ensaio</td>\n",
       "      <td>2019</td>\n",
       "      <td>51.0</td>\n",
       "      <td>Drama</td>\n",
       "    </tr>\n",
       "    <tr>\n",
       "      <th>tt9916186</th>\n",
       "      <td>Illenau - die Geschichte einer ehemaligen Heil...</td>\n",
       "      <td>Illenau - die Geschichte einer ehemaligen Heil...</td>\n",
       "      <td>2017</td>\n",
       "      <td>84.0</td>\n",
       "      <td>Documentary</td>\n",
       "    </tr>\n",
       "    <tr>\n",
       "      <th>tt9916190</th>\n",
       "      <td>Safeguard</td>\n",
       "      <td>Safeguard</td>\n",
       "      <td>2019</td>\n",
       "      <td>90.0</td>\n",
       "      <td>Drama,Thriller</td>\n",
       "    </tr>\n",
       "    <tr>\n",
       "      <th>tt9916428</th>\n",
       "      <td>The Secret of China</td>\n",
       "      <td>The Secret of China</td>\n",
       "      <td>2019</td>\n",
       "      <td>NaN</td>\n",
       "      <td>Adventure,History,War</td>\n",
       "    </tr>\n",
       "    <tr>\n",
       "      <th>tt9916538</th>\n",
       "      <td>Kuambil Lagi Hatiku</td>\n",
       "      <td>Kuambil Lagi Hatiku</td>\n",
       "      <td>2019</td>\n",
       "      <td>123.0</td>\n",
       "      <td>Drama</td>\n",
       "    </tr>\n",
       "    <tr>\n",
       "      <th>tt9916622</th>\n",
       "      <td>Rodolpho Teóphilo - O Legado de um Pioneiro</td>\n",
       "      <td>Rodolpho Teóphilo - O Legado de um Pioneiro</td>\n",
       "      <td>2015</td>\n",
       "      <td>NaN</td>\n",
       "      <td>Documentary</td>\n",
       "    </tr>\n",
       "    <tr>\n",
       "      <th>tt9916706</th>\n",
       "      <td>Dankyavar Danka</td>\n",
       "      <td>Dankyavar Danka</td>\n",
       "      <td>2013</td>\n",
       "      <td>NaN</td>\n",
       "      <td>Comedy</td>\n",
       "    </tr>\n",
       "    <tr>\n",
       "      <th>tt9916730</th>\n",
       "      <td>6 Gunn</td>\n",
       "      <td>6 Gunn</td>\n",
       "      <td>2017</td>\n",
       "      <td>116.0</td>\n",
       "      <td>NaN</td>\n",
       "    </tr>\n",
       "    <tr>\n",
       "      <th>tt9916754</th>\n",
       "      <td>Chico Albuquerque - Revelações</td>\n",
       "      <td>Chico Albuquerque - Revelações</td>\n",
       "      <td>2013</td>\n",
       "      <td>NaN</td>\n",
       "      <td>Documentary</td>\n",
       "    </tr>\n",
       "  </tbody>\n",
       "</table>\n",
       "</div>"
      ],
      "text/plain": [
       "                                               primary_title  \\\n",
       "tconst                                                         \n",
       "tt9916160                                         Drømmeland   \n",
       "tt9916170                                      The Rehearsal   \n",
       "tt9916186  Illenau - die Geschichte einer ehemaligen Heil...   \n",
       "tt9916190                                          Safeguard   \n",
       "tt9916428                                The Secret of China   \n",
       "tt9916538                                Kuambil Lagi Hatiku   \n",
       "tt9916622        Rodolpho Teóphilo - O Legado de um Pioneiro   \n",
       "tt9916706                                    Dankyavar Danka   \n",
       "tt9916730                                             6 Gunn   \n",
       "tt9916754                     Chico Albuquerque - Revelações   \n",
       "\n",
       "                                              original_title  start_year  \\\n",
       "tconst                                                                     \n",
       "tt9916160                                         Drømmeland        2019   \n",
       "tt9916170                                           O Ensaio        2019   \n",
       "tt9916186  Illenau - die Geschichte einer ehemaligen Heil...        2017   \n",
       "tt9916190                                          Safeguard        2019   \n",
       "tt9916428                                The Secret of China        2019   \n",
       "tt9916538                                Kuambil Lagi Hatiku        2019   \n",
       "tt9916622        Rodolpho Teóphilo - O Legado de um Pioneiro        2015   \n",
       "tt9916706                                    Dankyavar Danka        2013   \n",
       "tt9916730                                             6 Gunn        2017   \n",
       "tt9916754                     Chico Albuquerque - Revelações        2013   \n",
       "\n",
       "           runtime_minutes                 genres  \n",
       "tconst                                             \n",
       "tt9916160             72.0            Documentary  \n",
       "tt9916170             51.0                  Drama  \n",
       "tt9916186             84.0            Documentary  \n",
       "tt9916190             90.0         Drama,Thriller  \n",
       "tt9916428              NaN  Adventure,History,War  \n",
       "tt9916538            123.0                  Drama  \n",
       "tt9916622              NaN            Documentary  \n",
       "tt9916706              NaN                 Comedy  \n",
       "tt9916730            116.0                    NaN  \n",
       "tt9916754              NaN            Documentary  "
      ]
     },
     "execution_count": 310,
     "metadata": {},
     "output_type": "execute_result"
    }
   ],
   "source": [
    "df_imdbbasics.tail(10)"
   ]
  },
  {
   "cell_type": "code",
   "execution_count": 311,
   "metadata": {
    "ExecuteTime": {
     "end_time": "2021-05-04T22:13:09.718955Z",
     "start_time": "2021-05-04T22:13:09.690032Z"
    }
   },
   "outputs": [
    {
     "name": "stdout",
     "output_type": "stream",
     "text": [
      "<class 'pandas.core.frame.DataFrame'>\n",
      "Index: 146144 entries, tt0063540 to tt9916754\n",
      "Data columns (total 5 columns):\n",
      " #   Column           Non-Null Count   Dtype  \n",
      "---  ------           --------------   -----  \n",
      " 0   primary_title    146144 non-null  object \n",
      " 1   original_title   146123 non-null  object \n",
      " 2   start_year       146144 non-null  int64  \n",
      " 3   runtime_minutes  114405 non-null  float64\n",
      " 4   genres           140736 non-null  object \n",
      "dtypes: float64(1), int64(1), object(3)\n",
      "memory usage: 6.7+ MB\n"
     ]
    }
   ],
   "source": [
    "df_imdbbasics.info()"
   ]
  },
  {
   "cell_type": "code",
   "execution_count": 312,
   "metadata": {
    "ExecuteTime": {
     "end_time": "2021-05-04T22:13:09.734912Z",
     "start_time": "2021-05-04T22:13:09.719952Z"
    }
   },
   "outputs": [],
   "source": [
    "#for NaNs in these columns set to unknown\n",
    "col_list = ['genres','original_title']\n",
    "for col in col_list:\n",
    "    \n",
    "    df_imdbbasics[col].fillna(value='unknown', inplace=True)"
   ]
  },
  {
   "cell_type": "code",
   "execution_count": 313,
   "metadata": {
    "ExecuteTime": {
     "end_time": "2021-05-04T22:13:09.750870Z",
     "start_time": "2021-05-04T22:13:09.736907Z"
    }
   },
   "outputs": [],
   "source": [
    "#If runtime minutes missing set to 89.5 minutes\n",
    "df_imdbbasics['runtime_minutes'].fillna(89.5,inplace=True)\n"
   ]
  },
  {
   "cell_type": "code",
   "execution_count": 314,
   "metadata": {
    "ExecuteTime": {
     "end_time": "2021-05-04T22:13:09.781787Z",
     "start_time": "2021-05-04T22:13:09.751867Z"
    }
   },
   "outputs": [
    {
     "data": {
      "text/plain": [
       "primary_title      0\n",
       "original_title     0\n",
       "start_year         0\n",
       "runtime_minutes    0\n",
       "genres             0\n",
       "dtype: int64"
      ]
     },
     "execution_count": 314,
     "metadata": {},
     "output_type": "execute_result"
    }
   ],
   "source": [
    "df_imdbbasics.isna().sum()"
   ]
  },
  {
   "cell_type": "markdown",
   "metadata": {
    "ExecuteTime": {
     "end_time": "2021-04-27T03:24:28.245105Z",
     "start_time": "2021-04-27T03:24:28.240085Z"
    }
   },
   "source": [
    "<font color='green'>Actions</font> In columns 'genres','original_title' set Nan to 'unknown \n",
    "<br>if runtime minutes set to 89.5 if Nan"
   ]
  },
  {
   "cell_type": "markdown",
   "metadata": {},
   "source": [
    "### <font color=\"green\">Clean imdb_crew data</font>"
   ]
  },
  {
   "cell_type": "code",
   "execution_count": 315,
   "metadata": {
    "ExecuteTime": {
     "end_time": "2021-05-04T22:13:09.796747Z",
     "start_time": "2021-05-04T22:13:09.782784Z"
    }
   },
   "outputs": [
    {
     "data": {
      "text/plain": [
       "(146144, 2)"
      ]
     },
     "execution_count": 315,
     "metadata": {},
     "output_type": "execute_result"
    }
   ],
   "source": [
    "df_imdb_crew.shape"
   ]
  },
  {
   "cell_type": "code",
   "execution_count": 316,
   "metadata": {
    "ExecuteTime": {
     "end_time": "2021-05-04T22:13:09.828662Z",
     "start_time": "2021-05-04T22:13:09.797744Z"
    },
    "scrolled": true
   },
   "outputs": [
    {
     "data": {
      "text/plain": [
       "directors     5727\n",
       "writers      35883\n",
       "dtype: int64"
      ]
     },
     "execution_count": 316,
     "metadata": {},
     "output_type": "execute_result"
    }
   ],
   "source": [
    "df_imdb_crew.isna().sum()"
   ]
  },
  {
   "cell_type": "code",
   "execution_count": 317,
   "metadata": {
    "ExecuteTime": {
     "end_time": "2021-05-04T22:13:09.859579Z",
     "start_time": "2021-05-04T22:13:09.839634Z"
    }
   },
   "outputs": [
    {
     "data": {
      "text/html": [
       "<div>\n",
       "<style scoped>\n",
       "    .dataframe tbody tr th:only-of-type {\n",
       "        vertical-align: middle;\n",
       "    }\n",
       "\n",
       "    .dataframe tbody tr th {\n",
       "        vertical-align: top;\n",
       "    }\n",
       "\n",
       "    .dataframe thead th {\n",
       "        text-align: right;\n",
       "    }\n",
       "</style>\n",
       "<table border=\"1\" class=\"dataframe\">\n",
       "  <thead>\n",
       "    <tr style=\"text-align: right;\">\n",
       "      <th></th>\n",
       "      <th>directors</th>\n",
       "      <th>writers</th>\n",
       "    </tr>\n",
       "    <tr>\n",
       "      <th>tconst</th>\n",
       "      <th></th>\n",
       "      <th></th>\n",
       "    </tr>\n",
       "  </thead>\n",
       "  <tbody>\n",
       "    <tr>\n",
       "      <th>tt0285252</th>\n",
       "      <td>nm0899854</td>\n",
       "      <td>nm0899854</td>\n",
       "    </tr>\n",
       "    <tr>\n",
       "      <th>tt0438973</th>\n",
       "      <td>NaN</td>\n",
       "      <td>nm0175726,nm1802864</td>\n",
       "    </tr>\n",
       "    <tr>\n",
       "      <th>tt0462036</th>\n",
       "      <td>nm1940585</td>\n",
       "      <td>nm1940585</td>\n",
       "    </tr>\n",
       "    <tr>\n",
       "      <th>tt0835418</th>\n",
       "      <td>nm0151540</td>\n",
       "      <td>nm0310087,nm0841532</td>\n",
       "    </tr>\n",
       "    <tr>\n",
       "      <th>tt0878654</th>\n",
       "      <td>nm0089502,nm2291498,nm2292011</td>\n",
       "      <td>nm0284943</td>\n",
       "    </tr>\n",
       "  </tbody>\n",
       "</table>\n",
       "</div>"
      ],
      "text/plain": [
       "                               directors              writers\n",
       "tconst                                                       \n",
       "tt0285252                      nm0899854            nm0899854\n",
       "tt0438973                            NaN  nm0175726,nm1802864\n",
       "tt0462036                      nm1940585            nm1940585\n",
       "tt0835418                      nm0151540  nm0310087,nm0841532\n",
       "tt0878654  nm0089502,nm2291498,nm2292011            nm0284943"
      ]
     },
     "execution_count": 317,
     "metadata": {},
     "output_type": "execute_result"
    }
   ],
   "source": [
    "df_imdb_crew.head(5)"
   ]
  },
  {
   "cell_type": "code",
   "execution_count": 318,
   "metadata": {
    "ExecuteTime": {
     "end_time": "2021-05-04T22:13:09.875536Z",
     "start_time": "2021-05-04T22:13:09.863568Z"
    }
   },
   "outputs": [
    {
     "data": {
      "text/plain": [
       "(146144, 2)"
      ]
     },
     "execution_count": 318,
     "metadata": {},
     "output_type": "execute_result"
    }
   ],
   "source": [
    "df_imdb_crew.shape"
   ]
  },
  {
   "cell_type": "code",
   "execution_count": 319,
   "metadata": {
    "ExecuteTime": {
     "end_time": "2021-05-04T22:13:09.907450Z",
     "start_time": "2021-05-04T22:13:09.876533Z"
    }
   },
   "outputs": [],
   "source": [
    "df_imdb_crew = df_imdb_crew[df_imdb_crew['directors'].notna() \n",
    "                            | df_imdb_crew['writers'].notna()]"
   ]
  },
  {
   "cell_type": "code",
   "execution_count": 320,
   "metadata": {
    "ExecuteTime": {
     "end_time": "2021-05-04T22:13:09.938368Z",
     "start_time": "2021-05-04T22:13:09.908448Z"
    }
   },
   "outputs": [
    {
     "name": "stderr",
     "output_type": "stream",
     "text": [
      "C:\\Users\\dsmith\\anaconda3\\envs\\learn-env\\lib\\site-packages\\pandas\\core\\series.py:4517: SettingWithCopyWarning: \n",
      "A value is trying to be set on a copy of a slice from a DataFrame\n",
      "\n",
      "See the caveats in the documentation: https://pandas.pydata.org/pandas-docs/stable/user_guide/indexing.html#returning-a-view-versus-a-copy\n",
      "  return super().fillna(\n"
     ]
    }
   ],
   "source": [
    "#for NaNs in these columns set to unknown\n",
    "col_list = ['directors','writers']\n",
    "for col in col_list:\n",
    "    df_imdb_crew[col].fillna(value='unknown', inplace=True)"
   ]
  },
  {
   "cell_type": "code",
   "execution_count": 321,
   "metadata": {
    "ExecuteTime": {
     "end_time": "2021-05-04T22:13:09.968288Z",
     "start_time": "2021-05-04T22:13:09.939365Z"
    }
   },
   "outputs": [
    {
     "name": "stdout",
     "output_type": "stream",
     "text": [
      "<class 'pandas.core.frame.DataFrame'>\n",
      "Index: 141670 entries, tt0285252 to tt9010172\n",
      "Data columns (total 2 columns):\n",
      " #   Column     Non-Null Count   Dtype \n",
      "---  ------     --------------   ----- \n",
      " 0   directors  141670 non-null  object\n",
      " 1   writers    141670 non-null  object\n",
      "dtypes: object(2)\n",
      "memory usage: 3.2+ MB\n"
     ]
    }
   ],
   "source": [
    "df_imdb_crew.info()"
   ]
  },
  {
   "cell_type": "markdown",
   "metadata": {},
   "source": [
    "<font color='green'>Actions</font> If directors and writers are NaN drop row(4474 rows).  If then if directors is Nan replace with holder 'unknown'.  If writers is Nan replace with unknown."
   ]
  },
  {
   "cell_type": "markdown",
   "metadata": {},
   "source": [
    "### <font color=\"green\">Clean imdb_principals data</font>"
   ]
  },
  {
   "cell_type": "code",
   "execution_count": 322,
   "metadata": {
    "ExecuteTime": {
     "end_time": "2021-05-04T22:13:09.984246Z",
     "start_time": "2021-05-04T22:13:09.969285Z"
    }
   },
   "outputs": [
    {
     "data": {
      "text/plain": [
       "(1028186, 5)"
      ]
     },
     "execution_count": 322,
     "metadata": {},
     "output_type": "execute_result"
    }
   ],
   "source": [
    "df_imdb_principals.shape"
   ]
  },
  {
   "cell_type": "code",
   "execution_count": 323,
   "metadata": {
    "ExecuteTime": {
     "end_time": "2021-05-04T22:13:10.000203Z",
     "start_time": "2021-05-04T22:13:09.985243Z"
    }
   },
   "outputs": [
    {
     "data": {
      "text/html": [
       "<div>\n",
       "<style scoped>\n",
       "    .dataframe tbody tr th:only-of-type {\n",
       "        vertical-align: middle;\n",
       "    }\n",
       "\n",
       "    .dataframe tbody tr th {\n",
       "        vertical-align: top;\n",
       "    }\n",
       "\n",
       "    .dataframe thead th {\n",
       "        text-align: right;\n",
       "    }\n",
       "</style>\n",
       "<table border=\"1\" class=\"dataframe\">\n",
       "  <thead>\n",
       "    <tr style=\"text-align: right;\">\n",
       "      <th></th>\n",
       "      <th>ordering</th>\n",
       "      <th>nconst</th>\n",
       "      <th>category</th>\n",
       "      <th>job</th>\n",
       "      <th>characters</th>\n",
       "    </tr>\n",
       "    <tr>\n",
       "      <th>tconst</th>\n",
       "      <th></th>\n",
       "      <th></th>\n",
       "      <th></th>\n",
       "      <th></th>\n",
       "      <th></th>\n",
       "    </tr>\n",
       "  </thead>\n",
       "  <tbody>\n",
       "    <tr>\n",
       "      <th>tt9692684</th>\n",
       "      <td>1</td>\n",
       "      <td>nm0186469</td>\n",
       "      <td>actor</td>\n",
       "      <td>NaN</td>\n",
       "      <td>[\"Ebenezer Scrooge\"]</td>\n",
       "    </tr>\n",
       "    <tr>\n",
       "      <th>tt9692684</th>\n",
       "      <td>2</td>\n",
       "      <td>nm4929530</td>\n",
       "      <td>self</td>\n",
       "      <td>NaN</td>\n",
       "      <td>[\"Herself\",\"Regan\"]</td>\n",
       "    </tr>\n",
       "    <tr>\n",
       "      <th>tt9692684</th>\n",
       "      <td>3</td>\n",
       "      <td>nm10441594</td>\n",
       "      <td>director</td>\n",
       "      <td>NaN</td>\n",
       "      <td>NaN</td>\n",
       "    </tr>\n",
       "    <tr>\n",
       "      <th>tt9692684</th>\n",
       "      <td>4</td>\n",
       "      <td>nm6009913</td>\n",
       "      <td>writer</td>\n",
       "      <td>writer</td>\n",
       "      <td>NaN</td>\n",
       "    </tr>\n",
       "    <tr>\n",
       "      <th>tt9692684</th>\n",
       "      <td>5</td>\n",
       "      <td>nm10441595</td>\n",
       "      <td>producer</td>\n",
       "      <td>producer</td>\n",
       "      <td>NaN</td>\n",
       "    </tr>\n",
       "  </tbody>\n",
       "</table>\n",
       "</div>"
      ],
      "text/plain": [
       "           ordering      nconst  category       job            characters\n",
       "tconst                                                                   \n",
       "tt9692684         1   nm0186469     actor       NaN  [\"Ebenezer Scrooge\"]\n",
       "tt9692684         2   nm4929530      self       NaN   [\"Herself\",\"Regan\"]\n",
       "tt9692684         3  nm10441594  director       NaN                   NaN\n",
       "tt9692684         4   nm6009913    writer    writer                   NaN\n",
       "tt9692684         5  nm10441595  producer  producer                   NaN"
      ]
     },
     "execution_count": 323,
     "metadata": {},
     "output_type": "execute_result"
    }
   ],
   "source": [
    "df_imdb_principals.tail()"
   ]
  },
  {
   "cell_type": "code",
   "execution_count": 324,
   "metadata": {
    "ExecuteTime": {
     "end_time": "2021-05-04T22:13:10.140859Z",
     "start_time": "2021-05-04T22:13:10.001200Z"
    }
   },
   "outputs": [
    {
     "data": {
      "text/plain": [
       "ordering           0\n",
       "nconst             0\n",
       "category           0\n",
       "job           850502\n",
       "characters    634826\n",
       "dtype: int64"
      ]
     },
     "execution_count": 324,
     "metadata": {},
     "output_type": "execute_result"
    }
   ],
   "source": [
    "df_imdb_principals.isna().sum()"
   ]
  },
  {
   "cell_type": "code",
   "execution_count": 325,
   "metadata": {
    "ExecuteTime": {
     "end_time": "2021-05-04T22:13:10.233612Z",
     "start_time": "2021-05-04T22:13:10.141824Z"
    }
   },
   "outputs": [],
   "source": [
    "#for NaNs in these columns set to unknown\n",
    "col_list = ['job','characters']\n",
    "for col in col_list:\n",
    "    df_imdb_principals[col].fillna(value='unknown', inplace=True)"
   ]
  },
  {
   "cell_type": "code",
   "execution_count": 326,
   "metadata": {
    "ExecuteTime": {
     "end_time": "2021-05-04T22:13:10.375200Z",
     "start_time": "2021-05-04T22:13:10.234575Z"
    }
   },
   "outputs": [
    {
     "name": "stdout",
     "output_type": "stream",
     "text": [
      "<class 'pandas.core.frame.DataFrame'>\n",
      "Index: 1028186 entries, tt0111414 to tt9692684\n",
      "Data columns (total 5 columns):\n",
      " #   Column      Non-Null Count    Dtype \n",
      "---  ------      --------------    ----- \n",
      " 0   ordering    1028186 non-null  int64 \n",
      " 1   nconst      1028186 non-null  object\n",
      " 2   category    1028186 non-null  object\n",
      " 3   job         1028186 non-null  object\n",
      " 4   characters  1028186 non-null  object\n",
      "dtypes: int64(1), object(4)\n",
      "memory usage: 47.1+ MB\n"
     ]
    }
   ],
   "source": [
    "df_imdb_principals.info()"
   ]
  },
  {
   "cell_type": "markdown",
   "metadata": {},
   "source": [
    "<font color='green'>Actions</font> replaced columns job and characters if Nan to 'unknown'"
   ]
  },
  {
   "cell_type": "markdown",
   "metadata": {},
   "source": [
    "### <font color=\"green\">Clean imdb_ratings data</font>"
   ]
  },
  {
   "cell_type": "code",
   "execution_count": 327,
   "metadata": {
    "ExecuteTime": {
     "end_time": "2021-05-04T22:13:10.391157Z",
     "start_time": "2021-05-04T22:13:10.376197Z"
    }
   },
   "outputs": [
    {
     "data": {
      "text/plain": [
       "(73856, 2)"
      ]
     },
     "execution_count": 327,
     "metadata": {},
     "output_type": "execute_result"
    }
   ],
   "source": [
    "df_imdb_ratings.shape"
   ]
  },
  {
   "cell_type": "code",
   "execution_count": 328,
   "metadata": {
    "ExecuteTime": {
     "end_time": "2021-05-04T22:13:10.407114Z",
     "start_time": "2021-05-04T22:13:10.392154Z"
    }
   },
   "outputs": [
    {
     "data": {
      "text/plain": [
       "averagerating    0\n",
       "numvotes         0\n",
       "dtype: int64"
      ]
     },
     "execution_count": 328,
     "metadata": {},
     "output_type": "execute_result"
    }
   ],
   "source": [
    "df_imdb_ratings.isna().sum()"
   ]
  },
  {
   "cell_type": "code",
   "execution_count": 329,
   "metadata": {
    "ExecuteTime": {
     "end_time": "2021-05-04T22:13:10.423072Z",
     "start_time": "2021-05-04T22:13:10.408111Z"
    }
   },
   "outputs": [
    {
     "data": {
      "text/html": [
       "<div>\n",
       "<style scoped>\n",
       "    .dataframe tbody tr th:only-of-type {\n",
       "        vertical-align: middle;\n",
       "    }\n",
       "\n",
       "    .dataframe tbody tr th {\n",
       "        vertical-align: top;\n",
       "    }\n",
       "\n",
       "    .dataframe thead th {\n",
       "        text-align: right;\n",
       "    }\n",
       "</style>\n",
       "<table border=\"1\" class=\"dataframe\">\n",
       "  <thead>\n",
       "    <tr style=\"text-align: right;\">\n",
       "      <th></th>\n",
       "      <th>averagerating</th>\n",
       "      <th>numvotes</th>\n",
       "    </tr>\n",
       "    <tr>\n",
       "      <th>tconst</th>\n",
       "      <th></th>\n",
       "      <th></th>\n",
       "    </tr>\n",
       "  </thead>\n",
       "  <tbody>\n",
       "    <tr>\n",
       "      <th>tt10356526</th>\n",
       "      <td>8.3</td>\n",
       "      <td>31</td>\n",
       "    </tr>\n",
       "    <tr>\n",
       "      <th>tt10384606</th>\n",
       "      <td>8.9</td>\n",
       "      <td>559</td>\n",
       "    </tr>\n",
       "    <tr>\n",
       "      <th>tt1042974</th>\n",
       "      <td>6.4</td>\n",
       "      <td>20</td>\n",
       "    </tr>\n",
       "    <tr>\n",
       "      <th>tt1043726</th>\n",
       "      <td>4.2</td>\n",
       "      <td>50352</td>\n",
       "    </tr>\n",
       "    <tr>\n",
       "      <th>tt1060240</th>\n",
       "      <td>6.5</td>\n",
       "      <td>21</td>\n",
       "    </tr>\n",
       "  </tbody>\n",
       "</table>\n",
       "</div>"
      ],
      "text/plain": [
       "            averagerating  numvotes\n",
       "tconst                             \n",
       "tt10356526            8.3        31\n",
       "tt10384606            8.9       559\n",
       "tt1042974             6.4        20\n",
       "tt1043726             4.2     50352\n",
       "tt1060240             6.5        21"
      ]
     },
     "execution_count": 329,
     "metadata": {},
     "output_type": "execute_result"
    }
   ],
   "source": [
    "df_imdb_ratings.head()"
   ]
  },
  {
   "cell_type": "code",
   "execution_count": 330,
   "metadata": {
    "ExecuteTime": {
     "end_time": "2021-05-04T22:13:10.439029Z",
     "start_time": "2021-05-04T22:13:10.424069Z"
    }
   },
   "outputs": [
    {
     "name": "stdout",
     "output_type": "stream",
     "text": [
      "<class 'pandas.core.frame.DataFrame'>\n",
      "Index: 73856 entries, tt10356526 to tt9894098\n",
      "Data columns (total 2 columns):\n",
      " #   Column         Non-Null Count  Dtype  \n",
      "---  ------         --------------  -----  \n",
      " 0   averagerating  73856 non-null  float64\n",
      " 1   numvotes       73856 non-null  int64  \n",
      "dtypes: float64(1), int64(1)\n",
      "memory usage: 1.7+ MB\n"
     ]
    }
   ],
   "source": [
    "df_imdb_ratings.info()"
   ]
  },
  {
   "cell_type": "markdown",
   "metadata": {},
   "source": [
    "<font color=green>Actions</font> All Clean.  No missing data in this lookup table"
   ]
  },
  {
   "cell_type": "markdown",
   "metadata": {},
   "source": [
    "### <font color=\"green\">Clean df_tmb data</font>"
   ]
  },
  {
   "cell_type": "code",
   "execution_count": 331,
   "metadata": {
    "ExecuteTime": {
     "end_time": "2021-05-04T22:13:10.455018Z",
     "start_time": "2021-05-04T22:13:10.440026Z"
    }
   },
   "outputs": [
    {
     "data": {
      "text/plain": [
       "(26517, 9)"
      ]
     },
     "execution_count": 331,
     "metadata": {},
     "output_type": "execute_result"
    }
   ],
   "source": [
    "df_tmb.shape"
   ]
  },
  {
   "cell_type": "code",
   "execution_count": 332,
   "metadata": {
    "ExecuteTime": {
     "end_time": "2021-05-04T22:13:10.470976Z",
     "start_time": "2021-05-04T22:13:10.455984Z"
    }
   },
   "outputs": [
    {
     "data": {
      "text/plain": [
       "genre_ids            0\n",
       "id                   0\n",
       "original_language    0\n",
       "original_title       0\n",
       "popularity           0\n",
       "release_date         0\n",
       "title                0\n",
       "vote_average         0\n",
       "vote_count           0\n",
       "dtype: int64"
      ]
     },
     "execution_count": 332,
     "metadata": {},
     "output_type": "execute_result"
    }
   ],
   "source": [
    "df_tmb.isna().sum()"
   ]
  },
  {
   "cell_type": "code",
   "execution_count": 333,
   "metadata": {
    "ExecuteTime": {
     "end_time": "2021-05-04T22:13:10.486951Z",
     "start_time": "2021-05-04T22:13:10.471941Z"
    }
   },
   "outputs": [
    {
     "name": "stdout",
     "output_type": "stream",
     "text": [
      "<class 'pandas.core.frame.DataFrame'>\n",
      "Int64Index: 26517 entries, 0 to 26516\n",
      "Data columns (total 9 columns):\n",
      " #   Column             Non-Null Count  Dtype  \n",
      "---  ------             --------------  -----  \n",
      " 0   genre_ids          26517 non-null  object \n",
      " 1   id                 26517 non-null  int64  \n",
      " 2   original_language  26517 non-null  object \n",
      " 3   original_title     26517 non-null  object \n",
      " 4   popularity         26517 non-null  float64\n",
      " 5   release_date       26517 non-null  object \n",
      " 6   title              26517 non-null  object \n",
      " 7   vote_average       26517 non-null  float64\n",
      " 8   vote_count         26517 non-null  int64  \n",
      "dtypes: float64(2), int64(2), object(5)\n",
      "memory usage: 2.0+ MB\n"
     ]
    }
   ],
   "source": [
    "df_tmb.info()"
   ]
  },
  {
   "cell_type": "code",
   "execution_count": 334,
   "metadata": {
    "ExecuteTime": {
     "end_time": "2021-05-04T22:13:10.502860Z",
     "start_time": "2021-05-04T22:13:10.487898Z"
    },
    "scrolled": true
   },
   "outputs": [
    {
     "data": {
      "text/html": [
       "<div>\n",
       "<style scoped>\n",
       "    .dataframe tbody tr th:only-of-type {\n",
       "        vertical-align: middle;\n",
       "    }\n",
       "\n",
       "    .dataframe tbody tr th {\n",
       "        vertical-align: top;\n",
       "    }\n",
       "\n",
       "    .dataframe thead th {\n",
       "        text-align: right;\n",
       "    }\n",
       "</style>\n",
       "<table border=\"1\" class=\"dataframe\">\n",
       "  <thead>\n",
       "    <tr style=\"text-align: right;\">\n",
       "      <th></th>\n",
       "      <th>genre_ids</th>\n",
       "      <th>id</th>\n",
       "      <th>original_language</th>\n",
       "      <th>original_title</th>\n",
       "      <th>popularity</th>\n",
       "      <th>release_date</th>\n",
       "      <th>title</th>\n",
       "      <th>vote_average</th>\n",
       "      <th>vote_count</th>\n",
       "    </tr>\n",
       "  </thead>\n",
       "  <tbody>\n",
       "    <tr>\n",
       "      <th>0</th>\n",
       "      <td>[12, 14, 10751]</td>\n",
       "      <td>12444</td>\n",
       "      <td>en</td>\n",
       "      <td>Harry Potter and the Deathly Hallows: Part 1</td>\n",
       "      <td>33.533</td>\n",
       "      <td>2010-11-19</td>\n",
       "      <td>Harry Potter and the Deathly Hallows: Part 1</td>\n",
       "      <td>7.7</td>\n",
       "      <td>10788</td>\n",
       "    </tr>\n",
       "    <tr>\n",
       "      <th>1</th>\n",
       "      <td>[14, 12, 16, 10751]</td>\n",
       "      <td>10191</td>\n",
       "      <td>en</td>\n",
       "      <td>How to Train Your Dragon</td>\n",
       "      <td>28.734</td>\n",
       "      <td>2010-03-26</td>\n",
       "      <td>How to Train Your Dragon</td>\n",
       "      <td>7.7</td>\n",
       "      <td>7610</td>\n",
       "    </tr>\n",
       "    <tr>\n",
       "      <th>2</th>\n",
       "      <td>[12, 28, 878]</td>\n",
       "      <td>10138</td>\n",
       "      <td>en</td>\n",
       "      <td>Iron Man 2</td>\n",
       "      <td>28.515</td>\n",
       "      <td>2010-05-07</td>\n",
       "      <td>Iron Man 2</td>\n",
       "      <td>6.8</td>\n",
       "      <td>12368</td>\n",
       "    </tr>\n",
       "  </tbody>\n",
       "</table>\n",
       "</div>"
      ],
      "text/plain": [
       "             genre_ids     id original_language  \\\n",
       "0      [12, 14, 10751]  12444                en   \n",
       "1  [14, 12, 16, 10751]  10191                en   \n",
       "2        [12, 28, 878]  10138                en   \n",
       "\n",
       "                                 original_title  popularity release_date  \\\n",
       "0  Harry Potter and the Deathly Hallows: Part 1      33.533   2010-11-19   \n",
       "1                      How to Train Your Dragon      28.734   2010-03-26   \n",
       "2                                    Iron Man 2      28.515   2010-05-07   \n",
       "\n",
       "                                          title  vote_average  vote_count  \n",
       "0  Harry Potter and the Deathly Hallows: Part 1           7.7       10788  \n",
       "1                      How to Train Your Dragon           7.7        7610  \n",
       "2                                    Iron Man 2           6.8       12368  "
      ]
     },
     "execution_count": 334,
     "metadata": {},
     "output_type": "execute_result"
    }
   ],
   "source": [
    "df_tmb.head(3)"
   ]
  },
  {
   "cell_type": "code",
   "execution_count": null,
   "metadata": {
    "ExecuteTime": {
     "end_time": "2021-04-28T00:37:04.060551Z",
     "start_time": "2021-04-28T00:37:04.054566Z"
    }
   },
   "outputs": [],
   "source": []
  },
  {
   "cell_type": "code",
   "execution_count": null,
   "metadata": {},
   "outputs": [],
   "source": []
  },
  {
   "cell_type": "code",
   "execution_count": null,
   "metadata": {},
   "outputs": [],
   "source": []
  },
  {
   "cell_type": "markdown",
   "metadata": {},
   "source": [
    "<font color=green>Actions:</font> Clean Data Note: Convert release date to datetime when using"
   ]
  },
  {
   "cell_type": "markdown",
   "metadata": {},
   "source": [
    "### <font color=\"green\">Clean df_tn_movie_budget data</font>"
   ]
  },
  {
   "cell_type": "code",
   "execution_count": 335,
   "metadata": {
    "ExecuteTime": {
     "end_time": "2021-05-04T22:13:10.518854Z",
     "start_time": "2021-05-04T22:13:10.503856Z"
    }
   },
   "outputs": [
    {
     "data": {
      "text/plain": [
       "(5782, 5)"
      ]
     },
     "execution_count": 335,
     "metadata": {},
     "output_type": "execute_result"
    }
   ],
   "source": [
    "df_tn_movie_budget.shape"
   ]
  },
  {
   "cell_type": "code",
   "execution_count": 336,
   "metadata": {
    "ExecuteTime": {
     "end_time": "2021-05-04T22:13:10.534806Z",
     "start_time": "2021-05-04T22:13:10.519813Z"
    },
    "scrolled": true
   },
   "outputs": [
    {
     "data": {
      "text/plain": [
       "release_date         0\n",
       "movie                0\n",
       "production_budget    0\n",
       "domestic_gross       0\n",
       "worldwide_gross      0\n",
       "dtype: int64"
      ]
     },
     "execution_count": 336,
     "metadata": {},
     "output_type": "execute_result"
    }
   ],
   "source": [
    "df_tn_movie_budget.isna().sum()"
   ]
  },
  {
   "cell_type": "code",
   "execution_count": 337,
   "metadata": {
    "ExecuteTime": {
     "end_time": "2021-05-04T22:13:10.565724Z",
     "start_time": "2021-05-04T22:13:10.535770Z"
    }
   },
   "outputs": [
    {
     "data": {
      "text/html": [
       "<div>\n",
       "<style scoped>\n",
       "    .dataframe tbody tr th:only-of-type {\n",
       "        vertical-align: middle;\n",
       "    }\n",
       "\n",
       "    .dataframe tbody tr th {\n",
       "        vertical-align: top;\n",
       "    }\n",
       "\n",
       "    .dataframe thead th {\n",
       "        text-align: right;\n",
       "    }\n",
       "</style>\n",
       "<table border=\"1\" class=\"dataframe\">\n",
       "  <thead>\n",
       "    <tr style=\"text-align: right;\">\n",
       "      <th></th>\n",
       "      <th>release_date</th>\n",
       "      <th>movie</th>\n",
       "      <th>production_budget</th>\n",
       "      <th>domestic_gross</th>\n",
       "      <th>worldwide_gross</th>\n",
       "    </tr>\n",
       "    <tr>\n",
       "      <th>id</th>\n",
       "      <th></th>\n",
       "      <th></th>\n",
       "      <th></th>\n",
       "      <th></th>\n",
       "      <th></th>\n",
       "    </tr>\n",
       "  </thead>\n",
       "  <tbody>\n",
       "    <tr>\n",
       "      <th>1</th>\n",
       "      <td>Dec 18, 2009</td>\n",
       "      <td>Avatar</td>\n",
       "      <td>$425,000,000</td>\n",
       "      <td>$760,507,625</td>\n",
       "      <td>$2,776,345,279</td>\n",
       "    </tr>\n",
       "    <tr>\n",
       "      <th>2</th>\n",
       "      <td>May 20, 2011</td>\n",
       "      <td>Pirates of the Caribbean: On Stranger Tides</td>\n",
       "      <td>$410,600,000</td>\n",
       "      <td>$241,063,875</td>\n",
       "      <td>$1,045,663,875</td>\n",
       "    </tr>\n",
       "    <tr>\n",
       "      <th>3</th>\n",
       "      <td>Jun 7, 2019</td>\n",
       "      <td>Dark Phoenix</td>\n",
       "      <td>$350,000,000</td>\n",
       "      <td>$42,762,350</td>\n",
       "      <td>$149,762,350</td>\n",
       "    </tr>\n",
       "    <tr>\n",
       "      <th>4</th>\n",
       "      <td>May 1, 2015</td>\n",
       "      <td>Avengers: Age of Ultron</td>\n",
       "      <td>$330,600,000</td>\n",
       "      <td>$459,005,868</td>\n",
       "      <td>$1,403,013,963</td>\n",
       "    </tr>\n",
       "    <tr>\n",
       "      <th>5</th>\n",
       "      <td>Dec 15, 2017</td>\n",
       "      <td>Star Wars Ep. VIII: The Last Jedi</td>\n",
       "      <td>$317,000,000</td>\n",
       "      <td>$620,181,382</td>\n",
       "      <td>$1,316,721,747</td>\n",
       "    </tr>\n",
       "    <tr>\n",
       "      <th>6</th>\n",
       "      <td>Dec 18, 2015</td>\n",
       "      <td>Star Wars Ep. VII: The Force Awakens</td>\n",
       "      <td>$306,000,000</td>\n",
       "      <td>$936,662,225</td>\n",
       "      <td>$2,053,311,220</td>\n",
       "    </tr>\n",
       "    <tr>\n",
       "      <th>7</th>\n",
       "      <td>Apr 27, 2018</td>\n",
       "      <td>Avengers: Infinity War</td>\n",
       "      <td>$300,000,000</td>\n",
       "      <td>$678,815,482</td>\n",
       "      <td>$2,048,134,200</td>\n",
       "    </tr>\n",
       "    <tr>\n",
       "      <th>8</th>\n",
       "      <td>May 24, 2007</td>\n",
       "      <td>Pirates of the Caribbean: At Worldâs End</td>\n",
       "      <td>$300,000,000</td>\n",
       "      <td>$309,420,425</td>\n",
       "      <td>$963,420,425</td>\n",
       "    </tr>\n",
       "    <tr>\n",
       "      <th>9</th>\n",
       "      <td>Nov 17, 2017</td>\n",
       "      <td>Justice League</td>\n",
       "      <td>$300,000,000</td>\n",
       "      <td>$229,024,295</td>\n",
       "      <td>$655,945,209</td>\n",
       "    </tr>\n",
       "    <tr>\n",
       "      <th>10</th>\n",
       "      <td>Nov 6, 2015</td>\n",
       "      <td>Spectre</td>\n",
       "      <td>$300,000,000</td>\n",
       "      <td>$200,074,175</td>\n",
       "      <td>$879,620,923</td>\n",
       "    </tr>\n",
       "    <tr>\n",
       "      <th>11</th>\n",
       "      <td>Jul 20, 2012</td>\n",
       "      <td>The Dark Knight Rises</td>\n",
       "      <td>$275,000,000</td>\n",
       "      <td>$448,139,099</td>\n",
       "      <td>$1,084,439,099</td>\n",
       "    </tr>\n",
       "    <tr>\n",
       "      <th>12</th>\n",
       "      <td>May 25, 2018</td>\n",
       "      <td>Solo: A Star Wars Story</td>\n",
       "      <td>$275,000,000</td>\n",
       "      <td>$213,767,512</td>\n",
       "      <td>$393,151,347</td>\n",
       "    </tr>\n",
       "    <tr>\n",
       "      <th>13</th>\n",
       "      <td>Jul 2, 2013</td>\n",
       "      <td>The Lone Ranger</td>\n",
       "      <td>$275,000,000</td>\n",
       "      <td>$89,302,115</td>\n",
       "      <td>$260,002,115</td>\n",
       "    </tr>\n",
       "    <tr>\n",
       "      <th>14</th>\n",
       "      <td>Mar 9, 2012</td>\n",
       "      <td>John Carter</td>\n",
       "      <td>$275,000,000</td>\n",
       "      <td>$73,058,679</td>\n",
       "      <td>$282,778,100</td>\n",
       "    </tr>\n",
       "    <tr>\n",
       "      <th>15</th>\n",
       "      <td>Nov 24, 2010</td>\n",
       "      <td>Tangled</td>\n",
       "      <td>$260,000,000</td>\n",
       "      <td>$200,821,936</td>\n",
       "      <td>$586,477,240</td>\n",
       "    </tr>\n",
       "    <tr>\n",
       "      <th>16</th>\n",
       "      <td>May 4, 2007</td>\n",
       "      <td>Spider-Man 3</td>\n",
       "      <td>$258,000,000</td>\n",
       "      <td>$336,530,303</td>\n",
       "      <td>$894,860,230</td>\n",
       "    </tr>\n",
       "    <tr>\n",
       "      <th>17</th>\n",
       "      <td>May 6, 2016</td>\n",
       "      <td>Captain America: Civil War</td>\n",
       "      <td>$250,000,000</td>\n",
       "      <td>$408,084,349</td>\n",
       "      <td>$1,140,069,413</td>\n",
       "    </tr>\n",
       "    <tr>\n",
       "      <th>18</th>\n",
       "      <td>Mar 25, 2016</td>\n",
       "      <td>Batman v Superman: Dawn of Justice</td>\n",
       "      <td>$250,000,000</td>\n",
       "      <td>$330,360,194</td>\n",
       "      <td>$867,500,281</td>\n",
       "    </tr>\n",
       "    <tr>\n",
       "      <th>19</th>\n",
       "      <td>Dec 14, 2012</td>\n",
       "      <td>The Hobbit: An Unexpected Journey</td>\n",
       "      <td>$250,000,000</td>\n",
       "      <td>$303,003,568</td>\n",
       "      <td>$1,017,003,568</td>\n",
       "    </tr>\n",
       "    <tr>\n",
       "      <th>20</th>\n",
       "      <td>Jul 15, 2009</td>\n",
       "      <td>Harry Potter and the Half-Blood Prince</td>\n",
       "      <td>$250,000,000</td>\n",
       "      <td>$302,089,278</td>\n",
       "      <td>$935,213,767</td>\n",
       "    </tr>\n",
       "    <tr>\n",
       "      <th>21</th>\n",
       "      <td>Dec 13, 2013</td>\n",
       "      <td>The Hobbit: The Desolation of Smaug</td>\n",
       "      <td>$250,000,000</td>\n",
       "      <td>$258,366,855</td>\n",
       "      <td>$960,366,855</td>\n",
       "    </tr>\n",
       "    <tr>\n",
       "      <th>22</th>\n",
       "      <td>Dec 17, 2014</td>\n",
       "      <td>The Hobbit: The Battle of the Five Armies</td>\n",
       "      <td>$250,000,000</td>\n",
       "      <td>$255,119,788</td>\n",
       "      <td>$945,577,621</td>\n",
       "    </tr>\n",
       "    <tr>\n",
       "      <th>23</th>\n",
       "      <td>Apr 14, 2017</td>\n",
       "      <td>The Fate of the Furious</td>\n",
       "      <td>$250,000,000</td>\n",
       "      <td>$225,764,765</td>\n",
       "      <td>$1,234,846,267</td>\n",
       "    </tr>\n",
       "    <tr>\n",
       "      <th>24</th>\n",
       "      <td>Jun 28, 2006</td>\n",
       "      <td>Superman Returns</td>\n",
       "      <td>$232,000,000</td>\n",
       "      <td>$200,120,000</td>\n",
       "      <td>$374,085,065</td>\n",
       "    </tr>\n",
       "    <tr>\n",
       "      <th>25</th>\n",
       "      <td>May 26, 2017</td>\n",
       "      <td>Pirates of the Caribbean: Dead Men Tell No Tales</td>\n",
       "      <td>$230,000,000</td>\n",
       "      <td>$172,558,876</td>\n",
       "      <td>$788,241,137</td>\n",
       "    </tr>\n",
       "    <tr>\n",
       "      <th>26</th>\n",
       "      <td>Nov 14, 2008</td>\n",
       "      <td>Quantum of Solace</td>\n",
       "      <td>$230,000,000</td>\n",
       "      <td>$169,368,427</td>\n",
       "      <td>$591,692,078</td>\n",
       "    </tr>\n",
       "    <tr>\n",
       "      <th>27</th>\n",
       "      <td>May 4, 2012</td>\n",
       "      <td>The Avengers</td>\n",
       "      <td>$225,000,000</td>\n",
       "      <td>$623,279,547</td>\n",
       "      <td>$1,517,935,897</td>\n",
       "    </tr>\n",
       "    <tr>\n",
       "      <th>28</th>\n",
       "      <td>Jul 7, 2006</td>\n",
       "      <td>Pirates of the Caribbean: Dead Manâs Chest</td>\n",
       "      <td>$225,000,000</td>\n",
       "      <td>$423,315,812</td>\n",
       "      <td>$1,066,215,812</td>\n",
       "    </tr>\n",
       "    <tr>\n",
       "      <th>29</th>\n",
       "      <td>Jun 14, 2013</td>\n",
       "      <td>Man of Steel</td>\n",
       "      <td>$225,000,000</td>\n",
       "      <td>$291,045,518</td>\n",
       "      <td>$667,999,518</td>\n",
       "    </tr>\n",
       "    <tr>\n",
       "      <th>30</th>\n",
       "      <td>May 16, 2008</td>\n",
       "      <td>The Chronicles of Narnia: Prince Caspian</td>\n",
       "      <td>$225,000,000</td>\n",
       "      <td>$141,621,490</td>\n",
       "      <td>$417,341,288</td>\n",
       "    </tr>\n",
       "    <tr>\n",
       "      <th>31</th>\n",
       "      <td>Jul 3, 2012</td>\n",
       "      <td>The Amazing Spider-Man</td>\n",
       "      <td>$220,000,000</td>\n",
       "      <td>$262,030,663</td>\n",
       "      <td>$757,890,267</td>\n",
       "    </tr>\n",
       "    <tr>\n",
       "      <th>32</th>\n",
       "      <td>May 18, 2012</td>\n",
       "      <td>Battleship</td>\n",
       "      <td>$220,000,000</td>\n",
       "      <td>$65,233,400</td>\n",
       "      <td>$313,477,717</td>\n",
       "    </tr>\n",
       "    <tr>\n",
       "      <th>33</th>\n",
       "      <td>Jun 21, 2017</td>\n",
       "      <td>Transformers: The Last Knight</td>\n",
       "      <td>$217,000,000</td>\n",
       "      <td>$130,168,683</td>\n",
       "      <td>$602,893,340</td>\n",
       "    </tr>\n",
       "    <tr>\n",
       "      <th>34</th>\n",
       "      <td>Jun 12, 2015</td>\n",
       "      <td>Jurassic World</td>\n",
       "      <td>$215,000,000</td>\n",
       "      <td>$652,270,625</td>\n",
       "      <td>$1,648,854,864</td>\n",
       "    </tr>\n",
       "    <tr>\n",
       "      <th>35</th>\n",
       "      <td>May 25, 2012</td>\n",
       "      <td>Men in Black 3</td>\n",
       "      <td>$215,000,000</td>\n",
       "      <td>$179,020,854</td>\n",
       "      <td>$654,213,485</td>\n",
       "    </tr>\n",
       "    <tr>\n",
       "      <th>36</th>\n",
       "      <td>Jun 24, 2009</td>\n",
       "      <td>Transformers: Revenge of the Fallen</td>\n",
       "      <td>$210,000,000</td>\n",
       "      <td>$402,111,870</td>\n",
       "      <td>$836,519,699</td>\n",
       "    </tr>\n",
       "    <tr>\n",
       "      <th>37</th>\n",
       "      <td>Jun 27, 2014</td>\n",
       "      <td>Transformers: Age of Extinction</td>\n",
       "      <td>$210,000,000</td>\n",
       "      <td>$245,439,076</td>\n",
       "      <td>$1,104,039,076</td>\n",
       "    </tr>\n",
       "    <tr>\n",
       "      <th>38</th>\n",
       "      <td>May 26, 2006</td>\n",
       "      <td>X-Men: The Last Stand</td>\n",
       "      <td>$210,000,000</td>\n",
       "      <td>$234,362,462</td>\n",
       "      <td>$459,260,946</td>\n",
       "    </tr>\n",
       "    <tr>\n",
       "      <th>39</th>\n",
       "      <td>May 14, 2010</td>\n",
       "      <td>Robin Hood</td>\n",
       "      <td>$210,000,000</td>\n",
       "      <td>$105,487,148</td>\n",
       "      <td>$322,459,006</td>\n",
       "    </tr>\n",
       "    <tr>\n",
       "      <th>40</th>\n",
       "      <td>Dec 14, 2005</td>\n",
       "      <td>King Kong</td>\n",
       "      <td>$207,000,000</td>\n",
       "      <td>$218,080,025</td>\n",
       "      <td>$550,517,357</td>\n",
       "    </tr>\n",
       "    <tr>\n",
       "      <th>41</th>\n",
       "      <td>Dec 7, 2007</td>\n",
       "      <td>The Golden Compass</td>\n",
       "      <td>$205,000,000</td>\n",
       "      <td>$70,107,728</td>\n",
       "      <td>$367,262,558</td>\n",
       "    </tr>\n",
       "    <tr>\n",
       "      <th>42</th>\n",
       "      <td>Feb 16, 2018</td>\n",
       "      <td>Black Panther</td>\n",
       "      <td>$200,000,000</td>\n",
       "      <td>$700,059,566</td>\n",
       "      <td>$1,348,258,224</td>\n",
       "    </tr>\n",
       "    <tr>\n",
       "      <th>43</th>\n",
       "      <td>Dec 19, 1997</td>\n",
       "      <td>Titanic</td>\n",
       "      <td>$200,000,000</td>\n",
       "      <td>$659,363,944</td>\n",
       "      <td>$2,208,208,395</td>\n",
       "    </tr>\n",
       "    <tr>\n",
       "      <th>44</th>\n",
       "      <td>Jun 15, 2018</td>\n",
       "      <td>Incredibles 2</td>\n",
       "      <td>$200,000,000</td>\n",
       "      <td>$608,581,744</td>\n",
       "      <td>$1,242,520,711</td>\n",
       "    </tr>\n",
       "    <tr>\n",
       "      <th>45</th>\n",
       "      <td>Dec 16, 2016</td>\n",
       "      <td>Rogue One: A Star Wars Story</td>\n",
       "      <td>$200,000,000</td>\n",
       "      <td>$532,177,324</td>\n",
       "      <td>$1,049,102,856</td>\n",
       "    </tr>\n",
       "    <tr>\n",
       "      <th>46</th>\n",
       "      <td>Jun 17, 2016</td>\n",
       "      <td>Finding Dory</td>\n",
       "      <td>$200,000,000</td>\n",
       "      <td>$486,295,561</td>\n",
       "      <td>$1,021,215,193</td>\n",
       "    </tr>\n",
       "    <tr>\n",
       "      <th>47</th>\n",
       "      <td>Jun 18, 2010</td>\n",
       "      <td>Toy Story 3</td>\n",
       "      <td>$200,000,000</td>\n",
       "      <td>$415,004,880</td>\n",
       "      <td>$1,068,879,522</td>\n",
       "    </tr>\n",
       "    <tr>\n",
       "      <th>48</th>\n",
       "      <td>May 3, 2013</td>\n",
       "      <td>Iron Man 3</td>\n",
       "      <td>$200,000,000</td>\n",
       "      <td>$408,992,272</td>\n",
       "      <td>$1,215,392,272</td>\n",
       "    </tr>\n",
       "    <tr>\n",
       "      <th>49</th>\n",
       "      <td>May 5, 2017</td>\n",
       "      <td>Guardians of the Galaxy Vol 2</td>\n",
       "      <td>$200,000,000</td>\n",
       "      <td>$389,813,101</td>\n",
       "      <td>$862,316,233</td>\n",
       "    </tr>\n",
       "    <tr>\n",
       "      <th>50</th>\n",
       "      <td>Jun 30, 2004</td>\n",
       "      <td>Spider-Man 2</td>\n",
       "      <td>$200,000,000</td>\n",
       "      <td>$373,524,485</td>\n",
       "      <td>$795,110,670</td>\n",
       "    </tr>\n",
       "  </tbody>\n",
       "</table>\n",
       "</div>"
      ],
      "text/plain": [
       "    release_date                                             movie  \\\n",
       "id                                                                   \n",
       "1   Dec 18, 2009                                            Avatar   \n",
       "2   May 20, 2011       Pirates of the Caribbean: On Stranger Tides   \n",
       "3    Jun 7, 2019                                      Dark Phoenix   \n",
       "4    May 1, 2015                           Avengers: Age of Ultron   \n",
       "5   Dec 15, 2017                 Star Wars Ep. VIII: The Last Jedi   \n",
       "6   Dec 18, 2015              Star Wars Ep. VII: The Force Awakens   \n",
       "7   Apr 27, 2018                            Avengers: Infinity War   \n",
       "8   May 24, 2007        Pirates of the Caribbean: At Worldâs End   \n",
       "9   Nov 17, 2017                                    Justice League   \n",
       "10   Nov 6, 2015                                           Spectre   \n",
       "11  Jul 20, 2012                             The Dark Knight Rises   \n",
       "12  May 25, 2018                           Solo: A Star Wars Story   \n",
       "13   Jul 2, 2013                                   The Lone Ranger   \n",
       "14   Mar 9, 2012                                       John Carter   \n",
       "15  Nov 24, 2010                                           Tangled   \n",
       "16   May 4, 2007                                      Spider-Man 3   \n",
       "17   May 6, 2016                        Captain America: Civil War   \n",
       "18  Mar 25, 2016                Batman v Superman: Dawn of Justice   \n",
       "19  Dec 14, 2012                 The Hobbit: An Unexpected Journey   \n",
       "20  Jul 15, 2009            Harry Potter and the Half-Blood Prince   \n",
       "21  Dec 13, 2013               The Hobbit: The Desolation of Smaug   \n",
       "22  Dec 17, 2014         The Hobbit: The Battle of the Five Armies   \n",
       "23  Apr 14, 2017                           The Fate of the Furious   \n",
       "24  Jun 28, 2006                                  Superman Returns   \n",
       "25  May 26, 2017  Pirates of the Caribbean: Dead Men Tell No Tales   \n",
       "26  Nov 14, 2008                                 Quantum of Solace   \n",
       "27   May 4, 2012                                      The Avengers   \n",
       "28   Jul 7, 2006      Pirates of the Caribbean: Dead Manâs Chest   \n",
       "29  Jun 14, 2013                                      Man of Steel   \n",
       "30  May 16, 2008          The Chronicles of Narnia: Prince Caspian   \n",
       "31   Jul 3, 2012                            The Amazing Spider-Man   \n",
       "32  May 18, 2012                                        Battleship   \n",
       "33  Jun 21, 2017                     Transformers: The Last Knight   \n",
       "34  Jun 12, 2015                                    Jurassic World   \n",
       "35  May 25, 2012                                    Men in Black 3   \n",
       "36  Jun 24, 2009               Transformers: Revenge of the Fallen   \n",
       "37  Jun 27, 2014                   Transformers: Age of Extinction   \n",
       "38  May 26, 2006                             X-Men: The Last Stand   \n",
       "39  May 14, 2010                                        Robin Hood   \n",
       "40  Dec 14, 2005                                         King Kong   \n",
       "41   Dec 7, 2007                                The Golden Compass   \n",
       "42  Feb 16, 2018                                     Black Panther   \n",
       "43  Dec 19, 1997                                           Titanic   \n",
       "44  Jun 15, 2018                                     Incredibles 2   \n",
       "45  Dec 16, 2016                      Rogue One: A Star Wars Story   \n",
       "46  Jun 17, 2016                                      Finding Dory   \n",
       "47  Jun 18, 2010                                       Toy Story 3   \n",
       "48   May 3, 2013                                        Iron Man 3   \n",
       "49   May 5, 2017                     Guardians of the Galaxy Vol 2   \n",
       "50  Jun 30, 2004                                      Spider-Man 2   \n",
       "\n",
       "   production_budget domestic_gross worldwide_gross  \n",
       "id                                                   \n",
       "1       $425,000,000   $760,507,625  $2,776,345,279  \n",
       "2       $410,600,000   $241,063,875  $1,045,663,875  \n",
       "3       $350,000,000    $42,762,350    $149,762,350  \n",
       "4       $330,600,000   $459,005,868  $1,403,013,963  \n",
       "5       $317,000,000   $620,181,382  $1,316,721,747  \n",
       "6       $306,000,000   $936,662,225  $2,053,311,220  \n",
       "7       $300,000,000   $678,815,482  $2,048,134,200  \n",
       "8       $300,000,000   $309,420,425    $963,420,425  \n",
       "9       $300,000,000   $229,024,295    $655,945,209  \n",
       "10      $300,000,000   $200,074,175    $879,620,923  \n",
       "11      $275,000,000   $448,139,099  $1,084,439,099  \n",
       "12      $275,000,000   $213,767,512    $393,151,347  \n",
       "13      $275,000,000    $89,302,115    $260,002,115  \n",
       "14      $275,000,000    $73,058,679    $282,778,100  \n",
       "15      $260,000,000   $200,821,936    $586,477,240  \n",
       "16      $258,000,000   $336,530,303    $894,860,230  \n",
       "17      $250,000,000   $408,084,349  $1,140,069,413  \n",
       "18      $250,000,000   $330,360,194    $867,500,281  \n",
       "19      $250,000,000   $303,003,568  $1,017,003,568  \n",
       "20      $250,000,000   $302,089,278    $935,213,767  \n",
       "21      $250,000,000   $258,366,855    $960,366,855  \n",
       "22      $250,000,000   $255,119,788    $945,577,621  \n",
       "23      $250,000,000   $225,764,765  $1,234,846,267  \n",
       "24      $232,000,000   $200,120,000    $374,085,065  \n",
       "25      $230,000,000   $172,558,876    $788,241,137  \n",
       "26      $230,000,000   $169,368,427    $591,692,078  \n",
       "27      $225,000,000   $623,279,547  $1,517,935,897  \n",
       "28      $225,000,000   $423,315,812  $1,066,215,812  \n",
       "29      $225,000,000   $291,045,518    $667,999,518  \n",
       "30      $225,000,000   $141,621,490    $417,341,288  \n",
       "31      $220,000,000   $262,030,663    $757,890,267  \n",
       "32      $220,000,000    $65,233,400    $313,477,717  \n",
       "33      $217,000,000   $130,168,683    $602,893,340  \n",
       "34      $215,000,000   $652,270,625  $1,648,854,864  \n",
       "35      $215,000,000   $179,020,854    $654,213,485  \n",
       "36      $210,000,000   $402,111,870    $836,519,699  \n",
       "37      $210,000,000   $245,439,076  $1,104,039,076  \n",
       "38      $210,000,000   $234,362,462    $459,260,946  \n",
       "39      $210,000,000   $105,487,148    $322,459,006  \n",
       "40      $207,000,000   $218,080,025    $550,517,357  \n",
       "41      $205,000,000    $70,107,728    $367,262,558  \n",
       "42      $200,000,000   $700,059,566  $1,348,258,224  \n",
       "43      $200,000,000   $659,363,944  $2,208,208,395  \n",
       "44      $200,000,000   $608,581,744  $1,242,520,711  \n",
       "45      $200,000,000   $532,177,324  $1,049,102,856  \n",
       "46      $200,000,000   $486,295,561  $1,021,215,193  \n",
       "47      $200,000,000   $415,004,880  $1,068,879,522  \n",
       "48      $200,000,000   $408,992,272  $1,215,392,272  \n",
       "49      $200,000,000   $389,813,101    $862,316,233  \n",
       "50      $200,000,000   $373,524,485    $795,110,670  "
      ]
     },
     "execution_count": 337,
     "metadata": {},
     "output_type": "execute_result"
    }
   ],
   "source": [
    "df_tn_movie_budget.head(50)"
   ]
  },
  {
   "cell_type": "code",
   "execution_count": 338,
   "metadata": {
    "ExecuteTime": {
     "end_time": "2021-05-04T22:13:10.597641Z",
     "start_time": "2021-05-04T22:13:10.566687Z"
    }
   },
   "outputs": [
    {
     "name": "stdout",
     "output_type": "stream",
     "text": [
      "release_date\n",
      "Dec 31, 2014    0.004151\n",
      "Dec 31, 2015    0.003978\n",
      "Dec 31, 2010    0.002594\n",
      "Dec 31, 2008    0.002421\n",
      "Dec 31, 2013    0.002248\n",
      "Name: release_date, dtype: float64\n",
      "===================================\n",
      "movie\n",
      "Halloween       0.000519\n",
      "Home            0.000519\n",
      "King Kong       0.000519\n",
      "Pet Sematary    0.000346\n",
      "The Square      0.000346\n",
      "Name: movie, dtype: float64\n",
      "===================================\n",
      "production_budget\n",
      "$20,000,000    0.039952\n",
      "$10,000,000    0.036666\n",
      "$30,000,000    0.030612\n",
      "$15,000,000    0.029920\n",
      "$25,000,000    0.029575\n",
      "Name: production_budget, dtype: float64\n",
      "===================================\n",
      "domestic_gross\n",
      "$0             0.094777\n",
      "$8,000,000     0.001557\n",
      "$7,000,000     0.001211\n",
      "$2,000,000     0.001211\n",
      "$10,000,000    0.001038\n",
      "Name: domestic_gross, dtype: float64\n",
      "===================================\n",
      "worldwide_gross\n",
      "$0             0.063473\n",
      "$8,000,000     0.001557\n",
      "$7,000,000     0.001038\n",
      "$2,000,000     0.001038\n",
      "$15,000,000    0.000692\n",
      "Name: worldwide_gross, dtype: float64\n",
      "===================================\n"
     ]
    }
   ],
   "source": [
    "for col in df_tn_movie_budget:\n",
    "    print(col)\n",
    "    print(df_tn_movie_budget[col].value_counts(normalize = True)[:5])\n",
    "    print(\"===================================\")"
   ]
  },
  {
   "cell_type": "markdown",
   "metadata": {
    "ExecuteTime": {
     "end_time": "2021-04-25T21:41:59.038386Z",
     "start_time": "2021-04-25T21:41:54.396Z"
    }
   },
   "source": [
    "Domectic gross has 9.4 % of zero values.  Similiar to worldwide gross.  \n",
    "\n",
    "Will need to address."
   ]
  },
  {
   "cell_type": "markdown",
   "metadata": {},
   "source": [
    "look at budget data in bom, rott, tn\n",
    "df_tn_movie_budget[df_tn_movie_budget['domestic_gross'] > 500000000.0]"
   ]
  },
  {
   "cell_type": "code",
   "execution_count": 339,
   "metadata": {
    "ExecuteTime": {
     "end_time": "2021-05-04T22:13:10.613596Z",
     "start_time": "2021-05-04T22:13:10.600599Z"
    }
   },
   "outputs": [],
   "source": [
    "#Convert the object columns to ints where we can manipulate mathematically\n",
    "#money string to ints\n",
    "def money_to_float(df,col):\n",
    "    df[col] = df[col].astype(str).str.replace(\"$\", \"\").str.replace(\",\", \"\").astype('float')\n",
    "    return df"
   ]
  },
  {
   "cell_type": "code",
   "execution_count": 340,
   "metadata": {
    "ExecuteTime": {
     "end_time": "2021-05-04T22:13:10.645511Z",
     "start_time": "2021-05-04T22:13:10.614560Z"
    }
   },
   "outputs": [],
   "source": [
    "money_cols = ['production_budget','domestic_gross', 'worldwide_gross']\n",
    "\n",
    "for col in money_cols:\n",
    "    df_tn_movie_budget = money_to_float(df_tn_movie_budget,col)"
   ]
  },
  {
   "cell_type": "code",
   "execution_count": 341,
   "metadata": {
    "ExecuteTime": {
     "end_time": "2021-05-04T22:13:10.661434Z",
     "start_time": "2021-05-04T22:13:10.646475Z"
    }
   },
   "outputs": [
    {
     "data": {
      "text/html": [
       "<div>\n",
       "<style scoped>\n",
       "    .dataframe tbody tr th:only-of-type {\n",
       "        vertical-align: middle;\n",
       "    }\n",
       "\n",
       "    .dataframe tbody tr th {\n",
       "        vertical-align: top;\n",
       "    }\n",
       "\n",
       "    .dataframe thead th {\n",
       "        text-align: right;\n",
       "    }\n",
       "</style>\n",
       "<table border=\"1\" class=\"dataframe\">\n",
       "  <thead>\n",
       "    <tr style=\"text-align: right;\">\n",
       "      <th></th>\n",
       "      <th>release_date</th>\n",
       "      <th>movie</th>\n",
       "      <th>production_budget</th>\n",
       "      <th>domestic_gross</th>\n",
       "      <th>worldwide_gross</th>\n",
       "    </tr>\n",
       "    <tr>\n",
       "      <th>id</th>\n",
       "      <th></th>\n",
       "      <th></th>\n",
       "      <th></th>\n",
       "      <th></th>\n",
       "      <th></th>\n",
       "    </tr>\n",
       "  </thead>\n",
       "  <tbody>\n",
       "    <tr>\n",
       "      <th>1</th>\n",
       "      <td>Dec 18, 2009</td>\n",
       "      <td>Avatar</td>\n",
       "      <td>425000000.0</td>\n",
       "      <td>760507625.0</td>\n",
       "      <td>2.776345e+09</td>\n",
       "    </tr>\n",
       "    <tr>\n",
       "      <th>2</th>\n",
       "      <td>May 20, 2011</td>\n",
       "      <td>Pirates of the Caribbean: On Stranger Tides</td>\n",
       "      <td>410600000.0</td>\n",
       "      <td>241063875.0</td>\n",
       "      <td>1.045664e+09</td>\n",
       "    </tr>\n",
       "    <tr>\n",
       "      <th>3</th>\n",
       "      <td>Jun 7, 2019</td>\n",
       "      <td>Dark Phoenix</td>\n",
       "      <td>350000000.0</td>\n",
       "      <td>42762350.0</td>\n",
       "      <td>1.497624e+08</td>\n",
       "    </tr>\n",
       "    <tr>\n",
       "      <th>4</th>\n",
       "      <td>May 1, 2015</td>\n",
       "      <td>Avengers: Age of Ultron</td>\n",
       "      <td>330600000.0</td>\n",
       "      <td>459005868.0</td>\n",
       "      <td>1.403014e+09</td>\n",
       "    </tr>\n",
       "    <tr>\n",
       "      <th>5</th>\n",
       "      <td>Dec 15, 2017</td>\n",
       "      <td>Star Wars Ep. VIII: The Last Jedi</td>\n",
       "      <td>317000000.0</td>\n",
       "      <td>620181382.0</td>\n",
       "      <td>1.316722e+09</td>\n",
       "    </tr>\n",
       "    <tr>\n",
       "      <th>6</th>\n",
       "      <td>Dec 18, 2015</td>\n",
       "      <td>Star Wars Ep. VII: The Force Awakens</td>\n",
       "      <td>306000000.0</td>\n",
       "      <td>936662225.0</td>\n",
       "      <td>2.053311e+09</td>\n",
       "    </tr>\n",
       "    <tr>\n",
       "      <th>7</th>\n",
       "      <td>Apr 27, 2018</td>\n",
       "      <td>Avengers: Infinity War</td>\n",
       "      <td>300000000.0</td>\n",
       "      <td>678815482.0</td>\n",
       "      <td>2.048134e+09</td>\n",
       "    </tr>\n",
       "    <tr>\n",
       "      <th>8</th>\n",
       "      <td>May 24, 2007</td>\n",
       "      <td>Pirates of the Caribbean: At Worldâs End</td>\n",
       "      <td>300000000.0</td>\n",
       "      <td>309420425.0</td>\n",
       "      <td>9.634204e+08</td>\n",
       "    </tr>\n",
       "    <tr>\n",
       "      <th>9</th>\n",
       "      <td>Nov 17, 2017</td>\n",
       "      <td>Justice League</td>\n",
       "      <td>300000000.0</td>\n",
       "      <td>229024295.0</td>\n",
       "      <td>6.559452e+08</td>\n",
       "    </tr>\n",
       "    <tr>\n",
       "      <th>10</th>\n",
       "      <td>Nov 6, 2015</td>\n",
       "      <td>Spectre</td>\n",
       "      <td>300000000.0</td>\n",
       "      <td>200074175.0</td>\n",
       "      <td>8.796209e+08</td>\n",
       "    </tr>\n",
       "  </tbody>\n",
       "</table>\n",
       "</div>"
      ],
      "text/plain": [
       "    release_date                                        movie  \\\n",
       "id                                                              \n",
       "1   Dec 18, 2009                                       Avatar   \n",
       "2   May 20, 2011  Pirates of the Caribbean: On Stranger Tides   \n",
       "3    Jun 7, 2019                                 Dark Phoenix   \n",
       "4    May 1, 2015                      Avengers: Age of Ultron   \n",
       "5   Dec 15, 2017            Star Wars Ep. VIII: The Last Jedi   \n",
       "6   Dec 18, 2015         Star Wars Ep. VII: The Force Awakens   \n",
       "7   Apr 27, 2018                       Avengers: Infinity War   \n",
       "8   May 24, 2007   Pirates of the Caribbean: At Worldâs End   \n",
       "9   Nov 17, 2017                               Justice League   \n",
       "10   Nov 6, 2015                                      Spectre   \n",
       "\n",
       "    production_budget  domestic_gross  worldwide_gross  \n",
       "id                                                      \n",
       "1         425000000.0     760507625.0     2.776345e+09  \n",
       "2         410600000.0     241063875.0     1.045664e+09  \n",
       "3         350000000.0      42762350.0     1.497624e+08  \n",
       "4         330600000.0     459005868.0     1.403014e+09  \n",
       "5         317000000.0     620181382.0     1.316722e+09  \n",
       "6         306000000.0     936662225.0     2.053311e+09  \n",
       "7         300000000.0     678815482.0     2.048134e+09  \n",
       "8         300000000.0     309420425.0     9.634204e+08  \n",
       "9         300000000.0     229024295.0     6.559452e+08  \n",
       "10        300000000.0     200074175.0     8.796209e+08  "
      ]
     },
     "execution_count": 341,
     "metadata": {},
     "output_type": "execute_result"
    }
   ],
   "source": [
    "df_tn_movie_budget.head(10)"
   ]
  },
  {
   "cell_type": "code",
   "execution_count": 342,
   "metadata": {
    "ExecuteTime": {
     "end_time": "2021-05-04T22:13:10.677391Z",
     "start_time": "2021-05-04T22:13:10.662431Z"
    }
   },
   "outputs": [
    {
     "name": "stdout",
     "output_type": "stream",
     "text": [
      "<class 'pandas.core.frame.DataFrame'>\n",
      "Int64Index: 5782 entries, 1 to 82\n",
      "Data columns (total 5 columns):\n",
      " #   Column             Non-Null Count  Dtype  \n",
      "---  ------             --------------  -----  \n",
      " 0   release_date       5782 non-null   object \n",
      " 1   movie              5782 non-null   object \n",
      " 2   production_budget  5782 non-null   float64\n",
      " 3   domestic_gross     5782 non-null   float64\n",
      " 4   worldwide_gross    5782 non-null   float64\n",
      "dtypes: float64(3), object(2)\n",
      "memory usage: 271.0+ KB\n"
     ]
    }
   ],
   "source": [
    "df_tn_movie_budget.info()"
   ]
  },
  {
   "cell_type": "markdown",
   "metadata": {},
   "source": [
    "<font color=green>Actions</font> Converted string currrency to float values. Convert release date to datetime when using"
   ]
  },
  {
   "cell_type": "markdown",
   "metadata": {},
   "source": [
    "### Save cleaned files as tidy files"
   ]
  },
  {
   "cell_type": "markdown",
   "metadata": {
    "ExecuteTime": {
     "end_time": "2021-04-30T00:33:58.307370Z",
     "start_time": "2021-04-30T00:33:58.302417Z"
    }
   },
   "source": [
    "<font color=green>Action:</font> For each of the cleaned DataFrames save the df tidy.csv.\n",
    "<br>Will not have to keep the original .gz files and can load the cleaned files in EDA."
   ]
  },
  {
   "cell_type": "code",
   "execution_count": 343,
   "metadata": {
    "ExecuteTime": {
     "end_time": "2021-05-04T22:13:10.693349Z",
     "start_time": "2021-05-04T22:13:10.678388Z"
    }
   },
   "outputs": [],
   "source": [
    "#dicts of dfname and df\n",
    "def create_df_dict(namelist,dflist):\n",
    "    dict_df_names = dict(zip(namelist, dflist))\n",
    "    return dict_df_names \n",
    "\n",
    "#takes a dict and saves all to csvs per savepath\n",
    "def save_dict_tocsv(savepath, dict_dfs, suffix):\n",
    "    for key,value in dict_dfs.items():\n",
    "        value.to_csv(path_or_buf = savepath \n",
    "                     + key +'_tidy' + suffix, encoding='utf8')"
   ]
  },
  {
   "cell_type": "code",
   "execution_count": 344,
   "metadata": {
    "ExecuteTime": {
     "end_time": "2021-05-04T22:13:15.763786Z",
     "start_time": "2021-05-04T22:13:10.694346Z"
    }
   },
   "outputs": [],
   "source": [
    "##List of Cleaned dfs\n",
    "dfs_tidy_dict = [df_bom,df_imdb_name,df_imdb_akas,df_imdbbasics,df_imdb_crew,  \n",
    "       df_imdb_principals,df_imdb_ratings,df_tmb,df_tn_movie_budget]\n",
    "dfs_names = ['df_bom','df_imdb_name','df_imdb_akas','df_imdbbasics','df_imdb_crew',  \n",
    "       'df_imdb_principals','df_imdb_ratings','df_tmb','df_tn_movie_budget']\n",
    "savepath = './data/'\n",
    "\n",
    "dict_cleaned_dfs = create_df_dict(dfs_names, dfs_tidy_dict)\n",
    "save_dict_tocsv('./data/', dict_cleaned_dfs,'.csv' )"
   ]
  },
  {
   "cell_type": "markdown",
   "metadata": {
    "ExecuteTime": {
     "end_time": "2021-05-04T17:14:59.078410Z",
     "start_time": "2021-05-04T17:14:59.070420Z"
    }
   },
   "source": [
    "***\n",
    "***\n",
    "***\n"
   ]
  },
  {
   "cell_type": "markdown",
   "metadata": {},
   "source": [
    "EDA in eda_notebook.ipynb"
   ]
  },
  {
   "cell_type": "code",
   "execution_count": null,
   "metadata": {},
   "outputs": [],
   "source": []
  },
  {
   "cell_type": "code",
   "execution_count": null,
   "metadata": {},
   "outputs": [],
   "source": []
  },
  {
   "cell_type": "markdown",
   "metadata": {},
   "source": [
    "# Data Exploration\n",
    "\n",
    "In this workbook we:\n",
    "1. Reload the cleaned data to DataFrames\n",
    "2. Perform EDA(Exploraory Data Analysis) to Answer Questions about the business problem\n",
    "3. Summarize the EDA\n"
   ]
  },
  {
   "cell_type": "markdown",
   "metadata": {},
   "source": [
    "## Reload Cleaned data"
   ]
  },
  {
   "cell_type": "code",
   "execution_count": 345,
   "metadata": {
    "ExecuteTime": {
     "end_time": "2021-05-04T22:13:15.778746Z",
     "start_time": "2021-05-04T22:13:15.764783Z"
    }
   },
   "outputs": [],
   "source": [
    "#helper to list all csv or type files in a dir\n",
    "def find_csv_filenames( path_to_dir, suffix=\".csv\"):\n",
    "    filenames = listdir(path_to_dir)\n",
    "    return [ filename for filename in filenames if filename.endswith( suffix ) ]\n",
    "\n",
    "#creates dataframes for type specified\n",
    "def create_dfs(path, filelist, suffix=\".csv\"):\n",
    "    #Read all the files and store in a dataFrame\n",
    "    # the data Frames for each file will be listed in a dict \n",
    "    # where key is the name and value is the df\n",
    "    dict_csv_files = {}\n",
    "\n",
    "    for filename in csvfiles:\n",
    "        filename_cleaned = filename.replace(\"_tidy.csv\", \"\").replace(\".\",\"_\")#cleaning\n",
    "        filename_df = pd.read_csv(path + filename, index_col = 0, encoding='utf8')\n",
    "        dict_csv_files[filename_cleaned] = filename_df\n",
    "    return dict_csv_files    \n",
    "\n",
    "#dicts of dfname and df\n",
    "def create_df_dict(namelist,dflist):\n",
    "    dict_df_names = dict(zip(namelist, dflist))\n",
    "    return dict_df_names \n",
    "\n",
    "#takes a dict and saves all to csvs per savepath\n",
    "def save_dict_tocsv(savepath, dict_dfs, suffix):\n",
    "    for key,value in dict_dfs.items():\n",
    "        value.to_csv(path_or_buf = savepath \n",
    "                     + key +'_tidy' + suffix, encoding='utf8')"
   ]
  },
  {
   "cell_type": "code",
   "execution_count": 346,
   "metadata": {
    "ExecuteTime": {
     "end_time": "2021-05-04T22:13:19.308306Z",
     "start_time": "2021-05-04T22:13:15.779744Z"
    }
   },
   "outputs": [],
   "source": [
    "#Create csvfiles, tsvfiles and call createdfs dict\n",
    "path = './data/'\n",
    "csvfiles = find_csv_filenames(path)\n",
    "dict_dfs = create_dfs(path, csvfiles, suffix=\".csv\" )"
   ]
  },
  {
   "cell_type": "code",
   "execution_count": 347,
   "metadata": {
    "ExecuteTime": {
     "end_time": "2021-05-04T22:13:19.323266Z",
     "start_time": "2021-05-04T22:13:19.309303Z"
    }
   },
   "outputs": [
    {
     "data": {
      "text/plain": [
       "dict_keys(['df_bom', 'df_imdbbasics', 'df_imdb_akas', 'df_imdb_crew', 'df_imdb_name', 'df_imdb_principals', 'df_imdb_ratings', 'df_tmb', 'df_tn_movie_budget', 'tn_moviesource_csv', 'tn_mpaa_ratings_csv'])"
      ]
     },
     "execution_count": 347,
     "metadata": {},
     "output_type": "execute_result"
    }
   ],
   "source": [
    "dict_dfs.keys()"
   ]
  },
  {
   "cell_type": "code",
   "execution_count": 348,
   "metadata": {
    "ExecuteTime": {
     "end_time": "2021-05-04T22:13:19.339223Z",
     "start_time": "2021-05-04T22:13:19.325261Z"
    }
   },
   "outputs": [],
   "source": [
    "##Create Working DataFrames\n",
    "df_bom = dict_dfs['df_bom']\n",
    "df_imdbbasics = dict_dfs['df_imdbbasics'] \n",
    "df_imdb_akas = dict_dfs['df_imdb_akas']       \n",
    "df_imdb_name = dict_dfs['df_imdb_name']    \n",
    "df_imdb_crew = dict_dfs['df_imdb_crew']     \n",
    "df_imdb_principals = dict_dfs['df_imdb_principals']     \n",
    "df_imdb_ratings = dict_dfs['df_imdb_ratings']         \n",
    "df_tmb = dict_dfs['df_tmb']                        \n",
    "df_tn_movie_budget = dict_dfs['df_tn_movie_budget']\n"
   ]
  },
  {
   "cell_type": "markdown",
   "metadata": {
    "ExecuteTime": {
     "end_time": "2021-05-02T20:10:41.054152Z",
     "start_time": "2021-05-02T20:10:41.049164Z"
    }
   },
   "source": [
    "***\n",
    "***\n",
    "***"
   ]
  },
  {
   "cell_type": "markdown",
   "metadata": {},
   "source": [
    "## Data Exploration<br>\n",
    "In the EDA (Exploratory Data Analysis) phase, we will work to answer the following question about the business problem by visually answering the data.  Our business problem is to deliver actionable insights about the movie industry, specifically types of movies.  I approached this Business Problem as defining a movie studio business strategy which leads me to these<br>\n"
   ]
  },
  {
   "cell_type": "markdown",
   "metadata": {
    "ExecuteTime": {
     "end_time": "2021-04-30T05:39:40.747793Z",
     "start_time": "2021-04-30T05:39:40.737820Z"
    }
   },
   "source": [
    "\n",
    "__Questions:__\n",
    "1. What is success for a feature film? This educates and defines expectations\n",
    "2. At what level of production budget will we be comfortable investing?\n",
    "3. What types of feature films genres are we going to make?\n",
    "4. When should we most optimally release our movies? Are there better months for our releases?\n",
    "5. How many feature films should we release per year? ie drives initial investment\n",
    "6. Any correlation to MPA Rating?\n",
    "7. Who in the industry would be good to work with as producers and directors?\n",
    "7. Other factors to consider."
   ]
  },
  {
   "cell_type": "markdown",
   "metadata": {},
   "source": [
    "### What is success for a feature film?\n",
    "To answer this we should look to analyse data for movies we might consider making.\n",
    "\n",
    "In industry terms there are four types of production level movies.\n",
    "1. High Budget: Production budget(PB) is greater than 80 Million US Dollars\n",
    "2. Medium Budget: PB is between 2 to 80 Million USD\n",
    "3. Low Bugdet: PB is between 10K and 2 Million USD\n",
    "4. Micro Budget: PB is under 10K\n",
    "  \n",
    "\n",
    "As a first run in the movie business Microscoft would not want to take a chance on high budget features so we will look at returns in the Medium budget.  The average PB(production budget) is right around $65 Million.  We will start with that as our cap.\n",
    "Best Return on Investment of Medium budget movies"
   ]
  },
  {
   "cell_type": "markdown",
   "metadata": {},
   "source": [
    "Lets look at the df_tn_movie_budget data focusing at worldwide gross."
   ]
  },
  {
   "cell_type": "code",
   "execution_count": 349,
   "metadata": {
    "ExecuteTime": {
     "end_time": "2021-05-04T22:13:19.354183Z",
     "start_time": "2021-05-04T22:13:19.340220Z"
    }
   },
   "outputs": [
    {
     "name": "stdout",
     "output_type": "stream",
     "text": [
      "<class 'pandas.core.frame.DataFrame'>\n",
      "Int64Index: 5782 entries, 1 to 82\n",
      "Data columns (total 5 columns):\n",
      " #   Column             Non-Null Count  Dtype  \n",
      "---  ------             --------------  -----  \n",
      " 0   release_date       5782 non-null   object \n",
      " 1   movie              5782 non-null   object \n",
      " 2   production_budget  5782 non-null   float64\n",
      " 3   domestic_gross     5782 non-null   float64\n",
      " 4   worldwide_gross    5782 non-null   float64\n",
      "dtypes: float64(3), object(2)\n",
      "memory usage: 271.0+ KB\n"
     ]
    }
   ],
   "source": [
    "df_tn_movie_budget.info()"
   ]
  },
  {
   "cell_type": "markdown",
   "metadata": {},
   "source": [
    "Lets create a feature for difference between worldwide gross and prod budget <br>\n",
    "Business terms: Profit = Returned - Investment <br>\n",
    "Our Data: profit_over_pb = worldwide_gross - production_budget<br>\n",
    "\n",
    "Let's Calculate percent returned for movies with budgets below $65Mill <br>\n",
    "Business terms: ROI = Profit / Cost of the investment * 100 <br>\n",
    "Our Data: roi_percent= profit_over_pb / production_budget *100"
   ]
  },
  {
   "cell_type": "code",
   "execution_count": 350,
   "metadata": {
    "ExecuteTime": {
     "end_time": "2021-05-04T22:13:19.370140Z",
     "start_time": "2021-05-04T22:13:19.356178Z"
    }
   },
   "outputs": [],
   "source": [
    "df_tn_movie_budget['profit_over_pb'] = df_tn_movie_budget['worldwide_gross'] - \\\n",
    "df_tn_movie_budget['production_budget']"
   ]
  },
  {
   "cell_type": "code",
   "execution_count": 351,
   "metadata": {
    "ExecuteTime": {
     "end_time": "2021-05-04T22:13:19.386098Z",
     "start_time": "2021-05-04T22:13:19.372135Z"
    }
   },
   "outputs": [],
   "source": [
    "df_tn_movie_budget['roi_percent'] = round((df_tn_movie_budget['profit_over_pb'] / \\\n",
    "df_tn_movie_budget['production_budget'])*100,1)#round to 1 digit\n"
   ]
  },
  {
   "cell_type": "code",
   "execution_count": 352,
   "metadata": {
    "ExecuteTime": {
     "end_time": "2021-05-04T22:13:19.417015Z",
     "start_time": "2021-05-04T22:13:19.387095Z"
    }
   },
   "outputs": [
    {
     "data": {
      "text/html": [
       "<div>\n",
       "<style scoped>\n",
       "    .dataframe tbody tr th:only-of-type {\n",
       "        vertical-align: middle;\n",
       "    }\n",
       "\n",
       "    .dataframe tbody tr th {\n",
       "        vertical-align: top;\n",
       "    }\n",
       "\n",
       "    .dataframe thead th {\n",
       "        text-align: right;\n",
       "    }\n",
       "</style>\n",
       "<table border=\"1\" class=\"dataframe\">\n",
       "  <thead>\n",
       "    <tr style=\"text-align: right;\">\n",
       "      <th></th>\n",
       "      <th>release_date</th>\n",
       "      <th>movie</th>\n",
       "      <th>production_budget</th>\n",
       "      <th>domestic_gross</th>\n",
       "      <th>worldwide_gross</th>\n",
       "      <th>profit_over_pb</th>\n",
       "      <th>roi_percent</th>\n",
       "    </tr>\n",
       "    <tr>\n",
       "      <th>id</th>\n",
       "      <th></th>\n",
       "      <th></th>\n",
       "      <th></th>\n",
       "      <th></th>\n",
       "      <th></th>\n",
       "      <th></th>\n",
       "      <th></th>\n",
       "    </tr>\n",
       "  </thead>\n",
       "  <tbody>\n",
       "    <tr>\n",
       "      <th>46</th>\n",
       "      <td>Jun 30, 1972</td>\n",
       "      <td>Deep Throat</td>\n",
       "      <td>25000.0</td>\n",
       "      <td>45000000.0</td>\n",
       "      <td>45000000.0</td>\n",
       "      <td>44975000.0</td>\n",
       "      <td>179900.0</td>\n",
       "    </tr>\n",
       "    <tr>\n",
       "      <th>14</th>\n",
       "      <td>Mar 21, 1980</td>\n",
       "      <td>Mad Max</td>\n",
       "      <td>200000.0</td>\n",
       "      <td>8750000.0</td>\n",
       "      <td>99750000.0</td>\n",
       "      <td>99550000.0</td>\n",
       "      <td>49775.0</td>\n",
       "    </tr>\n",
       "    <tr>\n",
       "      <th>93</th>\n",
       "      <td>Sep 25, 2009</td>\n",
       "      <td>Paranormal Activity</td>\n",
       "      <td>450000.0</td>\n",
       "      <td>107918810.0</td>\n",
       "      <td>194183034.0</td>\n",
       "      <td>193733034.0</td>\n",
       "      <td>43051.8</td>\n",
       "    </tr>\n",
       "    <tr>\n",
       "      <th>80</th>\n",
       "      <td>Jul 10, 2015</td>\n",
       "      <td>The Gallows</td>\n",
       "      <td>100000.0</td>\n",
       "      <td>22764410.0</td>\n",
       "      <td>41656474.0</td>\n",
       "      <td>41556474.0</td>\n",
       "      <td>41556.5</td>\n",
       "    </tr>\n",
       "    <tr>\n",
       "      <th>7</th>\n",
       "      <td>Jul 14, 1999</td>\n",
       "      <td>The Blair Witch Project</td>\n",
       "      <td>600000.0</td>\n",
       "      <td>140539099.0</td>\n",
       "      <td>248300000.0</td>\n",
       "      <td>247700000.0</td>\n",
       "      <td>41283.3</td>\n",
       "    </tr>\n",
       "    <tr>\n",
       "      <th>10</th>\n",
       "      <td>May 7, 2004</td>\n",
       "      <td>Super Size Me</td>\n",
       "      <td>65000.0</td>\n",
       "      <td>11529368.0</td>\n",
       "      <td>22233808.0</td>\n",
       "      <td>22168808.0</td>\n",
       "      <td>34105.9</td>\n",
       "    </tr>\n",
       "    <tr>\n",
       "      <th>47</th>\n",
       "      <td>Aug 13, 1942</td>\n",
       "      <td>Bambi</td>\n",
       "      <td>858000.0</td>\n",
       "      <td>102797000.0</td>\n",
       "      <td>268000000.0</td>\n",
       "      <td>267142000.0</td>\n",
       "      <td>31135.4</td>\n",
       "    </tr>\n",
       "    <tr>\n",
       "      <th>74</th>\n",
       "      <td>Feb 26, 1993</td>\n",
       "      <td>El Mariachi</td>\n",
       "      <td>7000.0</td>\n",
       "      <td>2040920.0</td>\n",
       "      <td>2041928.0</td>\n",
       "      <td>2034928.0</td>\n",
       "      <td>29070.4</td>\n",
       "    </tr>\n",
       "    <tr>\n",
       "      <th>77</th>\n",
       "      <td>Oct 1, 1968</td>\n",
       "      <td>Night of the Living Dead</td>\n",
       "      <td>114000.0</td>\n",
       "      <td>12087064.0</td>\n",
       "      <td>30087064.0</td>\n",
       "      <td>29973064.0</td>\n",
       "      <td>26292.2</td>\n",
       "    </tr>\n",
       "    <tr>\n",
       "      <th>11</th>\n",
       "      <td>Nov 21, 1976</td>\n",
       "      <td>Rocky</td>\n",
       "      <td>1000000.0</td>\n",
       "      <td>117235147.0</td>\n",
       "      <td>225000000.0</td>\n",
       "      <td>224000000.0</td>\n",
       "      <td>22400.0</td>\n",
       "    </tr>\n",
       "    <tr>\n",
       "      <th>37</th>\n",
       "      <td>Oct 17, 1978</td>\n",
       "      <td>Halloween</td>\n",
       "      <td>325000.0</td>\n",
       "      <td>47000000.0</td>\n",
       "      <td>70000000.0</td>\n",
       "      <td>69675000.0</td>\n",
       "      <td>21438.5</td>\n",
       "    </tr>\n",
       "    <tr>\n",
       "      <th>16</th>\n",
       "      <td>Aug 9, 1995</td>\n",
       "      <td>The Brothers McMullen</td>\n",
       "      <td>50000.0</td>\n",
       "      <td>10426506.0</td>\n",
       "      <td>10426506.0</td>\n",
       "      <td>10376506.0</td>\n",
       "      <td>20753.0</td>\n",
       "    </tr>\n",
       "    <tr>\n",
       "      <th>66</th>\n",
       "      <td>Oct 18, 1974</td>\n",
       "      <td>The Texas Chainsaw Massacre</td>\n",
       "      <td>140000.0</td>\n",
       "      <td>26572439.0</td>\n",
       "      <td>26572439.0</td>\n",
       "      <td>26432439.0</td>\n",
       "      <td>18880.3</td>\n",
       "    </tr>\n",
       "    <tr>\n",
       "      <th>73</th>\n",
       "      <td>Aug 11, 1973</td>\n",
       "      <td>American Graffiti</td>\n",
       "      <td>777000.0</td>\n",
       "      <td>115000000.0</td>\n",
       "      <td>140000000.0</td>\n",
       "      <td>139223000.0</td>\n",
       "      <td>17918.0</td>\n",
       "    </tr>\n",
       "    <tr>\n",
       "      <th>82</th>\n",
       "      <td>Aug 5, 2005</td>\n",
       "      <td>My Date With Drew</td>\n",
       "      <td>1100.0</td>\n",
       "      <td>181041.0</td>\n",
       "      <td>181041.0</td>\n",
       "      <td>179941.0</td>\n",
       "      <td>16358.3</td>\n",
       "    </tr>\n",
       "    <tr>\n",
       "      <th>57</th>\n",
       "      <td>May 16, 2007</td>\n",
       "      <td>Once</td>\n",
       "      <td>150000.0</td>\n",
       "      <td>9445857.0</td>\n",
       "      <td>23323631.0</td>\n",
       "      <td>23173631.0</td>\n",
       "      <td>15449.1</td>\n",
       "    </tr>\n",
       "    <tr>\n",
       "      <th>43</th>\n",
       "      <td>Oct 19, 1994</td>\n",
       "      <td>Clerks</td>\n",
       "      <td>27000.0</td>\n",
       "      <td>3073428.0</td>\n",
       "      <td>3894240.0</td>\n",
       "      <td>3867240.0</td>\n",
       "      <td>14323.1</td>\n",
       "    </tr>\n",
       "    <tr>\n",
       "      <th>13</th>\n",
       "      <td>Jul 25, 1969</td>\n",
       "      <td>The Stewardesses</td>\n",
       "      <td>200000.0</td>\n",
       "      <td>13500000.0</td>\n",
       "      <td>25000000.0</td>\n",
       "      <td>24800000.0</td>\n",
       "      <td>12400.0</td>\n",
       "    </tr>\n",
       "    <tr>\n",
       "      <th>18</th>\n",
       "      <td>Dec 21, 1937</td>\n",
       "      <td>Snow White and the Seven Dwarfs</td>\n",
       "      <td>1488000.0</td>\n",
       "      <td>184925486.0</td>\n",
       "      <td>184925486.0</td>\n",
       "      <td>183437486.0</td>\n",
       "      <td>12327.8</td>\n",
       "    </tr>\n",
       "    <tr>\n",
       "      <th>58</th>\n",
       "      <td>Jan 1, 1971</td>\n",
       "      <td>Billy Jack</td>\n",
       "      <td>800000.0</td>\n",
       "      <td>98000000.0</td>\n",
       "      <td>98000000.0</td>\n",
       "      <td>97200000.0</td>\n",
       "      <td>12150.0</td>\n",
       "    </tr>\n",
       "    <tr>\n",
       "      <th>75</th>\n",
       "      <td>Oct 8, 2004</td>\n",
       "      <td>Primer</td>\n",
       "      <td>7000.0</td>\n",
       "      <td>424760.0</td>\n",
       "      <td>841926.0</td>\n",
       "      <td>834926.0</td>\n",
       "      <td>11927.5</td>\n",
       "    </tr>\n",
       "    <tr>\n",
       "      <th>47</th>\n",
       "      <td>Aug 1, 1997</td>\n",
       "      <td>In the Company of Men</td>\n",
       "      <td>25000.0</td>\n",
       "      <td>2883661.0</td>\n",
       "      <td>2883661.0</td>\n",
       "      <td>2858661.0</td>\n",
       "      <td>11434.6</td>\n",
       "    </tr>\n",
       "    <tr>\n",
       "      <th>8</th>\n",
       "      <td>Jun 11, 2004</td>\n",
       "      <td>Napoleon Dynamite</td>\n",
       "      <td>400000.0</td>\n",
       "      <td>44540956.0</td>\n",
       "      <td>46122713.0</td>\n",
       "      <td>45722713.0</td>\n",
       "      <td>11430.7</td>\n",
       "    </tr>\n",
       "    <tr>\n",
       "      <th>31</th>\n",
       "      <td>Aug 6, 2004</td>\n",
       "      <td>Open Water</td>\n",
       "      <td>500000.0</td>\n",
       "      <td>30500882.0</td>\n",
       "      <td>55518641.0</td>\n",
       "      <td>55018641.0</td>\n",
       "      <td>11003.7</td>\n",
       "    </tr>\n",
       "    <tr>\n",
       "      <th>25</th>\n",
       "      <td>May 9, 1980</td>\n",
       "      <td>Friday the 13th</td>\n",
       "      <td>550000.0</td>\n",
       "      <td>39754601.0</td>\n",
       "      <td>59754601.0</td>\n",
       "      <td>59204601.0</td>\n",
       "      <td>10764.5</td>\n",
       "    </tr>\n",
       "    <tr>\n",
       "      <th>81</th>\n",
       "      <td>Sep 29, 2006</td>\n",
       "      <td>Facing the Giants</td>\n",
       "      <td>100000.0</td>\n",
       "      <td>10178331.0</td>\n",
       "      <td>10243159.0</td>\n",
       "      <td>10143159.0</td>\n",
       "      <td>10143.2</td>\n",
       "    </tr>\n",
       "    <tr>\n",
       "      <th>12</th>\n",
       "      <td>Jan 6, 2012</td>\n",
       "      <td>The Devil Inside</td>\n",
       "      <td>1000000.0</td>\n",
       "      <td>53262945.0</td>\n",
       "      <td>101759490.0</td>\n",
       "      <td>100759490.0</td>\n",
       "      <td>10075.9</td>\n",
       "    </tr>\n",
       "    <tr>\n",
       "      <th>56</th>\n",
       "      <td>Jan 1, 1971</td>\n",
       "      <td>Sweet Sweetback's Baad Asssss Song</td>\n",
       "      <td>150000.0</td>\n",
       "      <td>15200000.0</td>\n",
       "      <td>15200000.0</td>\n",
       "      <td>15050000.0</td>\n",
       "      <td>10033.3</td>\n",
       "    </tr>\n",
       "    <tr>\n",
       "      <th>68</th>\n",
       "      <td>Dec 15, 1939</td>\n",
       "      <td>Gone with the Wind</td>\n",
       "      <td>3900000.0</td>\n",
       "      <td>198680470.0</td>\n",
       "      <td>390525192.0</td>\n",
       "      <td>386625192.0</td>\n",
       "      <td>9913.5</td>\n",
       "    </tr>\n",
       "    <tr>\n",
       "      <th>78</th>\n",
       "      <td>Feb 8, 1915</td>\n",
       "      <td>The Birth of a Nation</td>\n",
       "      <td>110000.0</td>\n",
       "      <td>10000000.0</td>\n",
       "      <td>11000000.0</td>\n",
       "      <td>10890000.0</td>\n",
       "      <td>9900.0</td>\n",
       "    </tr>\n",
       "    <tr>\n",
       "      <th>69</th>\n",
       "      <td>May 1, 1981</td>\n",
       "      <td>Graduation Day</td>\n",
       "      <td>250000.0</td>\n",
       "      <td>23894000.0</td>\n",
       "      <td>23894000.0</td>\n",
       "      <td>23644000.0</td>\n",
       "      <td>9457.6</td>\n",
       "    </tr>\n",
       "    <tr>\n",
       "      <th>76</th>\n",
       "      <td>Feb 15, 1950</td>\n",
       "      <td>Cinderella</td>\n",
       "      <td>2900000.0</td>\n",
       "      <td>85000000.0</td>\n",
       "      <td>263591415.0</td>\n",
       "      <td>260691415.0</td>\n",
       "      <td>8989.4</td>\n",
       "    </tr>\n",
       "    <tr>\n",
       "      <th>7</th>\n",
       "      <td>Nov 19, 1925</td>\n",
       "      <td>The Big Parade</td>\n",
       "      <td>245000.0</td>\n",
       "      <td>11000000.0</td>\n",
       "      <td>22000000.0</td>\n",
       "      <td>21755000.0</td>\n",
       "      <td>8879.6</td>\n",
       "    </tr>\n",
       "    <tr>\n",
       "      <th>60</th>\n",
       "      <td>Apr 23, 2009</td>\n",
       "      <td>Home</td>\n",
       "      <td>500000.0</td>\n",
       "      <td>15433.0</td>\n",
       "      <td>44793168.0</td>\n",
       "      <td>44293168.0</td>\n",
       "      <td>8858.6</td>\n",
       "    </tr>\n",
       "    <tr>\n",
       "      <th>57</th>\n",
       "      <td>Oct 29, 2004</td>\n",
       "      <td>Saw</td>\n",
       "      <td>1200000.0</td>\n",
       "      <td>55968727.0</td>\n",
       "      <td>103880027.0</td>\n",
       "      <td>102680027.0</td>\n",
       "      <td>8556.7</td>\n",
       "    </tr>\n",
       "    <tr>\n",
       "      <th>26</th>\n",
       "      <td>Apr 15, 1983</td>\n",
       "      <td>The Evil Dead</td>\n",
       "      <td>375000.0</td>\n",
       "      <td>2400000.0</td>\n",
       "      <td>29400000.0</td>\n",
       "      <td>29025000.0</td>\n",
       "      <td>7740.0</td>\n",
       "    </tr>\n",
       "    <tr>\n",
       "      <th>26</th>\n",
       "      <td>Jun 11, 1982</td>\n",
       "      <td>ET: The Extra-Terrestrial</td>\n",
       "      <td>10500000.0</td>\n",
       "      <td>435110554.0</td>\n",
       "      <td>792965326.0</td>\n",
       "      <td>782465326.0</td>\n",
       "      <td>7452.1</td>\n",
       "    </tr>\n",
       "    <tr>\n",
       "      <th>48</th>\n",
       "      <td>Apr 19, 2002</td>\n",
       "      <td>My Big Fat Greek Wedding</td>\n",
       "      <td>5000000.0</td>\n",
       "      <td>241438208.0</td>\n",
       "      <td>374890034.0</td>\n",
       "      <td>369890034.0</td>\n",
       "      <td>7397.8</td>\n",
       "    </tr>\n",
       "    <tr>\n",
       "      <th>90</th>\n",
       "      <td>Aug 13, 1997</td>\n",
       "      <td>The Full Monty</td>\n",
       "      <td>3500000.0</td>\n",
       "      <td>45950122.0</td>\n",
       "      <td>261249383.0</td>\n",
       "      <td>257749383.0</td>\n",
       "      <td>7364.3</td>\n",
       "    </tr>\n",
       "    <tr>\n",
       "      <th>65</th>\n",
       "      <td>May 25, 1977</td>\n",
       "      <td>Star Wars Ep. IV: A New Hope</td>\n",
       "      <td>11000000.0</td>\n",
       "      <td>460998007.0</td>\n",
       "      <td>786598007.0</td>\n",
       "      <td>775598007.0</td>\n",
       "      <td>7050.9</td>\n",
       "    </tr>\n",
       "    <tr>\n",
       "      <th>82</th>\n",
       "      <td>Jan 1, 1977</td>\n",
       "      <td>Eraserhead</td>\n",
       "      <td>100000.0</td>\n",
       "      <td>7000000.0</td>\n",
       "      <td>7014590.0</td>\n",
       "      <td>6914590.0</td>\n",
       "      <td>6914.6</td>\n",
       "    </tr>\n",
       "    <tr>\n",
       "      <th>7</th>\n",
       "      <td>Jul 10, 1998</td>\n",
       "      <td>Pi</td>\n",
       "      <td>68000.0</td>\n",
       "      <td>3221152.0</td>\n",
       "      <td>4678513.0</td>\n",
       "      <td>4610513.0</td>\n",
       "      <td>6780.2</td>\n",
       "    </tr>\n",
       "    <tr>\n",
       "      <th>66</th>\n",
       "      <td>Mar 9, 2001</td>\n",
       "      <td>Dayereh</td>\n",
       "      <td>10000.0</td>\n",
       "      <td>673780.0</td>\n",
       "      <td>673780.0</td>\n",
       "      <td>663780.0</td>\n",
       "      <td>6637.8</td>\n",
       "    </tr>\n",
       "    <tr>\n",
       "      <th>29</th>\n",
       "      <td>Sep 26, 2008</td>\n",
       "      <td>Fireproof</td>\n",
       "      <td>500000.0</td>\n",
       "      <td>33456317.0</td>\n",
       "      <td>33473297.0</td>\n",
       "      <td>32973297.0</td>\n",
       "      <td>6594.7</td>\n",
       "    </tr>\n",
       "    <tr>\n",
       "      <th>63</th>\n",
       "      <td>Apr 1, 2011</td>\n",
       "      <td>Insidious</td>\n",
       "      <td>1500000.0</td>\n",
       "      <td>54009150.0</td>\n",
       "      <td>99870886.0</td>\n",
       "      <td>98370886.0</td>\n",
       "      <td>6558.1</td>\n",
       "    </tr>\n",
       "    <tr>\n",
       "      <th>13</th>\n",
       "      <td>Jun 16, 1978</td>\n",
       "      <td>Grease</td>\n",
       "      <td>6000000.0</td>\n",
       "      <td>181813770.0</td>\n",
       "      <td>387510179.0</td>\n",
       "      <td>381510179.0</td>\n",
       "      <td>6358.5</td>\n",
       "    </tr>\n",
       "    <tr>\n",
       "      <th>14</th>\n",
       "      <td>Apr 17, 2015</td>\n",
       "      <td>Unfriended</td>\n",
       "      <td>1000000.0</td>\n",
       "      <td>32789645.0</td>\n",
       "      <td>64364198.0</td>\n",
       "      <td>63364198.0</td>\n",
       "      <td>6336.4</td>\n",
       "    </tr>\n",
       "    <tr>\n",
       "      <th>30</th>\n",
       "      <td>Nov 15, 1974</td>\n",
       "      <td>Benji</td>\n",
       "      <td>500000.0</td>\n",
       "      <td>31559560.0</td>\n",
       "      <td>31559560.0</td>\n",
       "      <td>31059560.0</td>\n",
       "      <td>6211.9</td>\n",
       "    </tr>\n",
       "    <tr>\n",
       "      <th>85</th>\n",
       "      <td>Oct 9, 1998</td>\n",
       "      <td>The Mighty</td>\n",
       "      <td>100000.0</td>\n",
       "      <td>2652246.0</td>\n",
       "      <td>6121582.0</td>\n",
       "      <td>6021582.0</td>\n",
       "      <td>6021.6</td>\n",
       "    </tr>\n",
       "    <tr>\n",
       "      <th>70</th>\n",
       "      <td>Apr 4, 1997</td>\n",
       "      <td>Chasing Amy</td>\n",
       "      <td>250000.0</td>\n",
       "      <td>12006514.0</td>\n",
       "      <td>15155095.0</td>\n",
       "      <td>14905095.0</td>\n",
       "      <td>5962.0</td>\n",
       "    </tr>\n",
       "  </tbody>\n",
       "</table>\n",
       "</div>"
      ],
      "text/plain": [
       "    release_date                               movie  production_budget  \\\n",
       "id                                                                        \n",
       "46  Jun 30, 1972                         Deep Throat            25000.0   \n",
       "14  Mar 21, 1980                             Mad Max           200000.0   \n",
       "93  Sep 25, 2009                 Paranormal Activity           450000.0   \n",
       "80  Jul 10, 2015                         The Gallows           100000.0   \n",
       "7   Jul 14, 1999             The Blair Witch Project           600000.0   \n",
       "10   May 7, 2004                       Super Size Me            65000.0   \n",
       "47  Aug 13, 1942                               Bambi           858000.0   \n",
       "74  Feb 26, 1993                         El Mariachi             7000.0   \n",
       "77   Oct 1, 1968            Night of the Living Dead           114000.0   \n",
       "11  Nov 21, 1976                               Rocky          1000000.0   \n",
       "37  Oct 17, 1978                           Halloween           325000.0   \n",
       "16   Aug 9, 1995               The Brothers McMullen            50000.0   \n",
       "66  Oct 18, 1974         The Texas Chainsaw Massacre           140000.0   \n",
       "73  Aug 11, 1973                   American Graffiti           777000.0   \n",
       "82   Aug 5, 2005                   My Date With Drew             1100.0   \n",
       "57  May 16, 2007                                Once           150000.0   \n",
       "43  Oct 19, 1994                              Clerks            27000.0   \n",
       "13  Jul 25, 1969                    The Stewardesses           200000.0   \n",
       "18  Dec 21, 1937     Snow White and the Seven Dwarfs          1488000.0   \n",
       "58   Jan 1, 1971                          Billy Jack           800000.0   \n",
       "75   Oct 8, 2004                              Primer             7000.0   \n",
       "47   Aug 1, 1997               In the Company of Men            25000.0   \n",
       "8   Jun 11, 2004                   Napoleon Dynamite           400000.0   \n",
       "31   Aug 6, 2004                          Open Water           500000.0   \n",
       "25   May 9, 1980                     Friday the 13th           550000.0   \n",
       "81  Sep 29, 2006                   Facing the Giants           100000.0   \n",
       "12   Jan 6, 2012                    The Devil Inside          1000000.0   \n",
       "56   Jan 1, 1971  Sweet Sweetback's Baad Asssss Song           150000.0   \n",
       "68  Dec 15, 1939                  Gone with the Wind          3900000.0   \n",
       "78   Feb 8, 1915               The Birth of a Nation           110000.0   \n",
       "69   May 1, 1981                      Graduation Day           250000.0   \n",
       "76  Feb 15, 1950                          Cinderella          2900000.0   \n",
       "7   Nov 19, 1925                      The Big Parade           245000.0   \n",
       "60  Apr 23, 2009                                Home           500000.0   \n",
       "57  Oct 29, 2004                                 Saw          1200000.0   \n",
       "26  Apr 15, 1983                       The Evil Dead           375000.0   \n",
       "26  Jun 11, 1982           ET: The Extra-Terrestrial         10500000.0   \n",
       "48  Apr 19, 2002            My Big Fat Greek Wedding          5000000.0   \n",
       "90  Aug 13, 1997                      The Full Monty          3500000.0   \n",
       "65  May 25, 1977        Star Wars Ep. IV: A New Hope         11000000.0   \n",
       "82   Jan 1, 1977                          Eraserhead           100000.0   \n",
       "7   Jul 10, 1998                                  Pi            68000.0   \n",
       "66   Mar 9, 2001                             Dayereh            10000.0   \n",
       "29  Sep 26, 2008                           Fireproof           500000.0   \n",
       "63   Apr 1, 2011                           Insidious          1500000.0   \n",
       "13  Jun 16, 1978                              Grease          6000000.0   \n",
       "14  Apr 17, 2015                          Unfriended          1000000.0   \n",
       "30  Nov 15, 1974                               Benji           500000.0   \n",
       "85   Oct 9, 1998                          The Mighty           100000.0   \n",
       "70   Apr 4, 1997                         Chasing Amy           250000.0   \n",
       "\n",
       "    domestic_gross  worldwide_gross  profit_over_pb  roi_percent  \n",
       "id                                                                \n",
       "46      45000000.0       45000000.0      44975000.0     179900.0  \n",
       "14       8750000.0       99750000.0      99550000.0      49775.0  \n",
       "93     107918810.0      194183034.0     193733034.0      43051.8  \n",
       "80      22764410.0       41656474.0      41556474.0      41556.5  \n",
       "7      140539099.0      248300000.0     247700000.0      41283.3  \n",
       "10      11529368.0       22233808.0      22168808.0      34105.9  \n",
       "47     102797000.0      268000000.0     267142000.0      31135.4  \n",
       "74       2040920.0        2041928.0       2034928.0      29070.4  \n",
       "77      12087064.0       30087064.0      29973064.0      26292.2  \n",
       "11     117235147.0      225000000.0     224000000.0      22400.0  \n",
       "37      47000000.0       70000000.0      69675000.0      21438.5  \n",
       "16      10426506.0       10426506.0      10376506.0      20753.0  \n",
       "66      26572439.0       26572439.0      26432439.0      18880.3  \n",
       "73     115000000.0      140000000.0     139223000.0      17918.0  \n",
       "82        181041.0         181041.0        179941.0      16358.3  \n",
       "57       9445857.0       23323631.0      23173631.0      15449.1  \n",
       "43       3073428.0        3894240.0       3867240.0      14323.1  \n",
       "13      13500000.0       25000000.0      24800000.0      12400.0  \n",
       "18     184925486.0      184925486.0     183437486.0      12327.8  \n",
       "58      98000000.0       98000000.0      97200000.0      12150.0  \n",
       "75        424760.0         841926.0        834926.0      11927.5  \n",
       "47       2883661.0        2883661.0       2858661.0      11434.6  \n",
       "8       44540956.0       46122713.0      45722713.0      11430.7  \n",
       "31      30500882.0       55518641.0      55018641.0      11003.7  \n",
       "25      39754601.0       59754601.0      59204601.0      10764.5  \n",
       "81      10178331.0       10243159.0      10143159.0      10143.2  \n",
       "12      53262945.0      101759490.0     100759490.0      10075.9  \n",
       "56      15200000.0       15200000.0      15050000.0      10033.3  \n",
       "68     198680470.0      390525192.0     386625192.0       9913.5  \n",
       "78      10000000.0       11000000.0      10890000.0       9900.0  \n",
       "69      23894000.0       23894000.0      23644000.0       9457.6  \n",
       "76      85000000.0      263591415.0     260691415.0       8989.4  \n",
       "7       11000000.0       22000000.0      21755000.0       8879.6  \n",
       "60         15433.0       44793168.0      44293168.0       8858.6  \n",
       "57      55968727.0      103880027.0     102680027.0       8556.7  \n",
       "26       2400000.0       29400000.0      29025000.0       7740.0  \n",
       "26     435110554.0      792965326.0     782465326.0       7452.1  \n",
       "48     241438208.0      374890034.0     369890034.0       7397.8  \n",
       "90      45950122.0      261249383.0     257749383.0       7364.3  \n",
       "65     460998007.0      786598007.0     775598007.0       7050.9  \n",
       "82       7000000.0        7014590.0       6914590.0       6914.6  \n",
       "7        3221152.0        4678513.0       4610513.0       6780.2  \n",
       "66        673780.0         673780.0        663780.0       6637.8  \n",
       "29      33456317.0       33473297.0      32973297.0       6594.7  \n",
       "63      54009150.0       99870886.0      98370886.0       6558.1  \n",
       "13     181813770.0      387510179.0     381510179.0       6358.5  \n",
       "14      32789645.0       64364198.0      63364198.0       6336.4  \n",
       "30      31559560.0       31559560.0      31059560.0       6211.9  \n",
       "85       2652246.0        6121582.0       6021582.0       6021.6  \n",
       "70      12006514.0       15155095.0      14905095.0       5962.0  "
      ]
     },
     "execution_count": 352,
     "metadata": {},
     "output_type": "execute_result"
    }
   ],
   "source": [
    "#Sort on roi_percent\n",
    "df_tn_movie_budget.sort_values(by='roi_percent',ascending = False).head(50)"
   ]
  },
  {
   "cell_type": "markdown",
   "metadata": {
    "ExecuteTime": {
     "end_time": "2021-04-28T06:46:12.447328Z",
     "start_time": "2021-04-28T06:46:12.441345Z"
    }
   },
   "source": [
    "Lets filter to look at movies where budget is less than=$65 mill"
   ]
  },
  {
   "cell_type": "code",
   "execution_count": 353,
   "metadata": {
    "ExecuteTime": {
     "end_time": "2021-05-04T22:13:19.432972Z",
     "start_time": "2021-05-04T22:13:19.419009Z"
    }
   },
   "outputs": [],
   "source": [
    "df_budget_sub65m = df_tn_movie_budget[df_tn_movie_budget['production_budget'] \\\n",
    "                   <= 65000000.0].sort_values(by='roi_percent', ascending = False)"
   ]
  },
  {
   "cell_type": "code",
   "execution_count": 354,
   "metadata": {
    "ExecuteTime": {
     "end_time": "2021-05-04T22:13:19.448929Z",
     "start_time": "2021-05-04T22:13:19.434967Z"
    }
   },
   "outputs": [
    {
     "name": "stdout",
     "output_type": "stream",
     "text": [
      "<class 'pandas.core.frame.DataFrame'>\n",
      "Int64Index: 5012 entries, 46 to 63\n",
      "Data columns (total 7 columns):\n",
      " #   Column             Non-Null Count  Dtype  \n",
      "---  ------             --------------  -----  \n",
      " 0   release_date       5012 non-null   object \n",
      " 1   movie              5012 non-null   object \n",
      " 2   production_budget  5012 non-null   float64\n",
      " 3   domestic_gross     5012 non-null   float64\n",
      " 4   worldwide_gross    5012 non-null   float64\n",
      " 5   profit_over_pb     5012 non-null   float64\n",
      " 6   roi_percent        5012 non-null   float64\n",
      "dtypes: float64(5), object(2)\n",
      "memory usage: 313.2+ KB\n"
     ]
    }
   ],
   "source": [
    "df_budget_sub65m.info()#Note 5012 movies"
   ]
  },
  {
   "cell_type": "code",
   "execution_count": 355,
   "metadata": {
    "ExecuteTime": {
     "end_time": "2021-05-04T22:13:19.464887Z",
     "start_time": "2021-05-04T22:13:19.450924Z"
    }
   },
   "outputs": [],
   "source": [
    "df_budget_sub65m.reset_index(inplace =True) "
   ]
  },
  {
   "cell_type": "code",
   "execution_count": 356,
   "metadata": {
    "ExecuteTime": {
     "end_time": "2021-05-04T22:13:19.480844Z",
     "start_time": "2021-05-04T22:13:19.466882Z"
    }
   },
   "outputs": [],
   "source": [
    "#filer movies greater than 2 Mil\n",
    "df_budg_2to65mil = df_budget_sub65m[df_budget_sub65m['production_budget'] \\\n",
    "                   >= 2000000.0].sort_values(by='roi_percent', ascending = False)"
   ]
  },
  {
   "cell_type": "code",
   "execution_count": 357,
   "metadata": {
    "ExecuteTime": {
     "end_time": "2021-05-04T22:13:19.496801Z",
     "start_time": "2021-05-04T22:13:19.482838Z"
    }
   },
   "outputs": [
    {
     "name": "stdout",
     "output_type": "stream",
     "text": [
      "<class 'pandas.core.frame.DataFrame'>\n",
      "Int64Index: 4231 entries, 28 to 5010\n",
      "Data columns (total 8 columns):\n",
      " #   Column             Non-Null Count  Dtype  \n",
      "---  ------             --------------  -----  \n",
      " 0   id                 4231 non-null   int64  \n",
      " 1   release_date       4231 non-null   object \n",
      " 2   movie              4231 non-null   object \n",
      " 3   production_budget  4231 non-null   float64\n",
      " 4   domestic_gross     4231 non-null   float64\n",
      " 5   worldwide_gross    4231 non-null   float64\n",
      " 6   profit_over_pb     4231 non-null   float64\n",
      " 7   roi_percent        4231 non-null   float64\n",
      "dtypes: float64(5), int64(1), object(2)\n",
      "memory usage: 297.5+ KB\n"
     ]
    }
   ],
   "source": [
    "df_budg_2to65mil.info()#note 4231 movies"
   ]
  },
  {
   "cell_type": "code",
   "execution_count": 358,
   "metadata": {
    "ExecuteTime": {
     "end_time": "2021-05-04T22:13:19.512759Z",
     "start_time": "2021-05-04T22:13:19.498796Z"
    }
   },
   "outputs": [],
   "source": [
    "df_budg_2to65mil.reset_index(inplace =True) "
   ]
  },
  {
   "cell_type": "markdown",
   "metadata": {},
   "source": [
    "Lets create a easy human readable feature called __x_times_invest__.<br>This is equal to our worldwide_gross / PB where as ROI percent is the profit / PB * 100."
   ]
  },
  {
   "cell_type": "code",
   "execution_count": 359,
   "metadata": {
    "ExecuteTime": {
     "end_time": "2021-05-04T22:13:19.528716Z",
     "start_time": "2021-05-04T22:13:19.513757Z"
    }
   },
   "outputs": [],
   "source": [
    "df_budg_2to65mil['x_times_invest'] = round(df_budg_2to65mil['worldwide_gross']/df_budg_2to65mil['production_budget'],1)"
   ]
  },
  {
   "cell_type": "code",
   "execution_count": 360,
   "metadata": {
    "ExecuteTime": {
     "end_time": "2021-05-04T22:13:19.560631Z",
     "start_time": "2021-05-04T22:13:19.530711Z"
    }
   },
   "outputs": [
    {
     "data": {
      "text/html": [
       "<div>\n",
       "<style scoped>\n",
       "    .dataframe tbody tr th:only-of-type {\n",
       "        vertical-align: middle;\n",
       "    }\n",
       "\n",
       "    .dataframe tbody tr th {\n",
       "        vertical-align: top;\n",
       "    }\n",
       "\n",
       "    .dataframe thead th {\n",
       "        text-align: right;\n",
       "    }\n",
       "</style>\n",
       "<table border=\"1\" class=\"dataframe\">\n",
       "  <thead>\n",
       "    <tr style=\"text-align: right;\">\n",
       "      <th></th>\n",
       "      <th>index</th>\n",
       "      <th>id</th>\n",
       "      <th>release_date</th>\n",
       "      <th>movie</th>\n",
       "      <th>production_budget</th>\n",
       "      <th>domestic_gross</th>\n",
       "      <th>worldwide_gross</th>\n",
       "      <th>profit_over_pb</th>\n",
       "      <th>roi_percent</th>\n",
       "      <th>x_times_invest</th>\n",
       "    </tr>\n",
       "  </thead>\n",
       "  <tbody>\n",
       "    <tr>\n",
       "      <th>0</th>\n",
       "      <td>28</td>\n",
       "      <td>68</td>\n",
       "      <td>Dec 15, 1939</td>\n",
       "      <td>Gone with the Wind</td>\n",
       "      <td>3900000.0</td>\n",
       "      <td>198680470.0</td>\n",
       "      <td>390525192.0</td>\n",
       "      <td>386625192.0</td>\n",
       "      <td>9913.5</td>\n",
       "      <td>100.1</td>\n",
       "    </tr>\n",
       "    <tr>\n",
       "      <th>1</th>\n",
       "      <td>31</td>\n",
       "      <td>76</td>\n",
       "      <td>Feb 15, 1950</td>\n",
       "      <td>Cinderella</td>\n",
       "      <td>2900000.0</td>\n",
       "      <td>85000000.0</td>\n",
       "      <td>263591415.0</td>\n",
       "      <td>260691415.0</td>\n",
       "      <td>8989.4</td>\n",
       "      <td>90.9</td>\n",
       "    </tr>\n",
       "    <tr>\n",
       "      <th>2</th>\n",
       "      <td>36</td>\n",
       "      <td>26</td>\n",
       "      <td>Jun 11, 1982</td>\n",
       "      <td>ET: The Extra-Terrestrial</td>\n",
       "      <td>10500000.0</td>\n",
       "      <td>435110554.0</td>\n",
       "      <td>792965326.0</td>\n",
       "      <td>782465326.0</td>\n",
       "      <td>7452.1</td>\n",
       "      <td>75.5</td>\n",
       "    </tr>\n",
       "    <tr>\n",
       "      <th>3</th>\n",
       "      <td>37</td>\n",
       "      <td>48</td>\n",
       "      <td>Apr 19, 2002</td>\n",
       "      <td>My Big Fat Greek Wedding</td>\n",
       "      <td>5000000.0</td>\n",
       "      <td>241438208.0</td>\n",
       "      <td>374890034.0</td>\n",
       "      <td>369890034.0</td>\n",
       "      <td>7397.8</td>\n",
       "      <td>75.0</td>\n",
       "    </tr>\n",
       "    <tr>\n",
       "      <th>4</th>\n",
       "      <td>38</td>\n",
       "      <td>90</td>\n",
       "      <td>Aug 13, 1997</td>\n",
       "      <td>The Full Monty</td>\n",
       "      <td>3500000.0</td>\n",
       "      <td>45950122.0</td>\n",
       "      <td>261249383.0</td>\n",
       "      <td>257749383.0</td>\n",
       "      <td>7364.3</td>\n",
       "      <td>74.6</td>\n",
       "    </tr>\n",
       "    <tr>\n",
       "      <th>5</th>\n",
       "      <td>39</td>\n",
       "      <td>65</td>\n",
       "      <td>May 25, 1977</td>\n",
       "      <td>Star Wars Ep. IV: A New Hope</td>\n",
       "      <td>11000000.0</td>\n",
       "      <td>460998007.0</td>\n",
       "      <td>786598007.0</td>\n",
       "      <td>775598007.0</td>\n",
       "      <td>7050.9</td>\n",
       "      <td>71.5</td>\n",
       "    </tr>\n",
       "    <tr>\n",
       "      <th>6</th>\n",
       "      <td>45</td>\n",
       "      <td>13</td>\n",
       "      <td>Jun 16, 1978</td>\n",
       "      <td>Grease</td>\n",
       "      <td>6000000.0</td>\n",
       "      <td>181813770.0</td>\n",
       "      <td>387510179.0</td>\n",
       "      <td>381510179.0</td>\n",
       "      <td>6358.5</td>\n",
       "      <td>64.6</td>\n",
       "    </tr>\n",
       "    <tr>\n",
       "      <th>7</th>\n",
       "      <td>52</td>\n",
       "      <td>65</td>\n",
       "      <td>Oct 20, 2010</td>\n",
       "      <td>Paranormal Activity 2</td>\n",
       "      <td>3000000.0</td>\n",
       "      <td>84752907.0</td>\n",
       "      <td>177512032.0</td>\n",
       "      <td>174512032.0</td>\n",
       "      <td>5817.1</td>\n",
       "      <td>59.2</td>\n",
       "    </tr>\n",
       "    <tr>\n",
       "      <th>8</th>\n",
       "      <td>54</td>\n",
       "      <td>50</td>\n",
       "      <td>Jan 20, 2017</td>\n",
       "      <td>Split</td>\n",
       "      <td>5000000.0</td>\n",
       "      <td>138141585.0</td>\n",
       "      <td>278964806.0</td>\n",
       "      <td>273964806.0</td>\n",
       "      <td>5479.3</td>\n",
       "      <td>55.8</td>\n",
       "    </tr>\n",
       "    <tr>\n",
       "      <th>9</th>\n",
       "      <td>56</td>\n",
       "      <td>25</td>\n",
       "      <td>Mar 9, 1994</td>\n",
       "      <td>Four Weddings and a Funeral</td>\n",
       "      <td>4500000.0</td>\n",
       "      <td>52700832.0</td>\n",
       "      <td>242895809.0</td>\n",
       "      <td>238395809.0</td>\n",
       "      <td>5297.7</td>\n",
       "      <td>54.0</td>\n",
       "    </tr>\n",
       "    <tr>\n",
       "      <th>10</th>\n",
       "      <td>60</td>\n",
       "      <td>49</td>\n",
       "      <td>Feb 24, 2017</td>\n",
       "      <td>Get Out</td>\n",
       "      <td>5000000.0</td>\n",
       "      <td>176040665.0</td>\n",
       "      <td>255367951.0</td>\n",
       "      <td>250367951.0</td>\n",
       "      <td>5007.4</td>\n",
       "      <td>51.1</td>\n",
       "    </tr>\n",
       "    <tr>\n",
       "      <th>11</th>\n",
       "      <td>62</td>\n",
       "      <td>64</td>\n",
       "      <td>Jul 28, 1978</td>\n",
       "      <td>National Lampoon's Animal House</td>\n",
       "      <td>3000000.0</td>\n",
       "      <td>141600000.0</td>\n",
       "      <td>141600000.0</td>\n",
       "      <td>138600000.0</td>\n",
       "      <td>4620.0</td>\n",
       "      <td>47.2</td>\n",
       "    </tr>\n",
       "    <tr>\n",
       "      <th>12</th>\n",
       "      <td>64</td>\n",
       "      <td>1</td>\n",
       "      <td>Feb 7, 1974</td>\n",
       "      <td>Blazing Saddles</td>\n",
       "      <td>2600000.0</td>\n",
       "      <td>119500000.0</td>\n",
       "      <td>119500000.0</td>\n",
       "      <td>116900000.0</td>\n",
       "      <td>4496.2</td>\n",
       "      <td>46.0</td>\n",
       "    </tr>\n",
       "    <tr>\n",
       "      <th>13</th>\n",
       "      <td>65</td>\n",
       "      <td>18</td>\n",
       "      <td>May 25, 2012</td>\n",
       "      <td>Les Intouchables</td>\n",
       "      <td>10800000.0</td>\n",
       "      <td>13182281.0</td>\n",
       "      <td>484873045.0</td>\n",
       "      <td>474073045.0</td>\n",
       "      <td>4389.6</td>\n",
       "      <td>44.9</td>\n",
       "    </tr>\n",
       "    <tr>\n",
       "      <th>14</th>\n",
       "      <td>68</td>\n",
       "      <td>68</td>\n",
       "      <td>Dec 22, 1964</td>\n",
       "      <td>Goldfinger</td>\n",
       "      <td>3000000.0</td>\n",
       "      <td>51100000.0</td>\n",
       "      <td>124900000.0</td>\n",
       "      <td>121900000.0</td>\n",
       "      <td>4063.3</td>\n",
       "      <td>41.6</td>\n",
       "    </tr>\n",
       "    <tr>\n",
       "      <th>15</th>\n",
       "      <td>69</td>\n",
       "      <td>51</td>\n",
       "      <td>Oct 21, 2011</td>\n",
       "      <td>Paranormal Activity 3</td>\n",
       "      <td>5000000.0</td>\n",
       "      <td>104028807.0</td>\n",
       "      <td>207039844.0</td>\n",
       "      <td>202039844.0</td>\n",
       "      <td>4040.8</td>\n",
       "      <td>41.4</td>\n",
       "    </tr>\n",
       "    <tr>\n",
       "      <th>16</th>\n",
       "      <td>71</td>\n",
       "      <td>99</td>\n",
       "      <td>Feb 9, 2007</td>\n",
       "      <td>Das Leben der Anderen</td>\n",
       "      <td>2000000.0</td>\n",
       "      <td>11284657.0</td>\n",
       "      <td>81197047.0</td>\n",
       "      <td>79197047.0</td>\n",
       "      <td>3959.9</td>\n",
       "      <td>40.6</td>\n",
       "    </tr>\n",
       "    <tr>\n",
       "      <th>17</th>\n",
       "      <td>74</td>\n",
       "      <td>84</td>\n",
       "      <td>Oct 3, 2014</td>\n",
       "      <td>Annabelle</td>\n",
       "      <td>6500000.0</td>\n",
       "      <td>84273813.0</td>\n",
       "      <td>256862920.0</td>\n",
       "      <td>250362920.0</td>\n",
       "      <td>3851.7</td>\n",
       "      <td>39.5</td>\n",
       "    </tr>\n",
       "    <tr>\n",
       "      <th>18</th>\n",
       "      <td>75</td>\n",
       "      <td>88</td>\n",
       "      <td>Apr 8, 1964</td>\n",
       "      <td>From Russia With Love</td>\n",
       "      <td>2000000.0</td>\n",
       "      <td>24800000.0</td>\n",
       "      <td>78900000.0</td>\n",
       "      <td>76900000.0</td>\n",
       "      <td>3845.0</td>\n",
       "      <td>39.4</td>\n",
       "    </tr>\n",
       "    <tr>\n",
       "      <th>19</th>\n",
       "      <td>76</td>\n",
       "      <td>41</td>\n",
       "      <td>Jun 20, 1975</td>\n",
       "      <td>Jaws</td>\n",
       "      <td>12000000.0</td>\n",
       "      <td>260000000.0</td>\n",
       "      <td>470700000.0</td>\n",
       "      <td>458700000.0</td>\n",
       "      <td>3822.5</td>\n",
       "      <td>39.2</td>\n",
       "    </tr>\n",
       "  </tbody>\n",
       "</table>\n",
       "</div>"
      ],
      "text/plain": [
       "    index  id  release_date                            movie  \\\n",
       "0      28  68  Dec 15, 1939               Gone with the Wind   \n",
       "1      31  76  Feb 15, 1950                       Cinderella   \n",
       "2      36  26  Jun 11, 1982        ET: The Extra-Terrestrial   \n",
       "3      37  48  Apr 19, 2002         My Big Fat Greek Wedding   \n",
       "4      38  90  Aug 13, 1997                   The Full Monty   \n",
       "5      39  65  May 25, 1977     Star Wars Ep. IV: A New Hope   \n",
       "6      45  13  Jun 16, 1978                           Grease   \n",
       "7      52  65  Oct 20, 2010            Paranormal Activity 2   \n",
       "8      54  50  Jan 20, 2017                            Split   \n",
       "9      56  25   Mar 9, 1994      Four Weddings and a Funeral   \n",
       "10     60  49  Feb 24, 2017                          Get Out   \n",
       "11     62  64  Jul 28, 1978  National Lampoon's Animal House   \n",
       "12     64   1   Feb 7, 1974                  Blazing Saddles   \n",
       "13     65  18  May 25, 2012                 Les Intouchables   \n",
       "14     68  68  Dec 22, 1964                       Goldfinger   \n",
       "15     69  51  Oct 21, 2011            Paranormal Activity 3   \n",
       "16     71  99   Feb 9, 2007            Das Leben der Anderen   \n",
       "17     74  84   Oct 3, 2014                        Annabelle   \n",
       "18     75  88   Apr 8, 1964            From Russia With Love   \n",
       "19     76  41  Jun 20, 1975                             Jaws   \n",
       "\n",
       "    production_budget  domestic_gross  worldwide_gross  profit_over_pb  \\\n",
       "0           3900000.0     198680470.0      390525192.0     386625192.0   \n",
       "1           2900000.0      85000000.0      263591415.0     260691415.0   \n",
       "2          10500000.0     435110554.0      792965326.0     782465326.0   \n",
       "3           5000000.0     241438208.0      374890034.0     369890034.0   \n",
       "4           3500000.0      45950122.0      261249383.0     257749383.0   \n",
       "5          11000000.0     460998007.0      786598007.0     775598007.0   \n",
       "6           6000000.0     181813770.0      387510179.0     381510179.0   \n",
       "7           3000000.0      84752907.0      177512032.0     174512032.0   \n",
       "8           5000000.0     138141585.0      278964806.0     273964806.0   \n",
       "9           4500000.0      52700832.0      242895809.0     238395809.0   \n",
       "10          5000000.0     176040665.0      255367951.0     250367951.0   \n",
       "11          3000000.0     141600000.0      141600000.0     138600000.0   \n",
       "12          2600000.0     119500000.0      119500000.0     116900000.0   \n",
       "13         10800000.0      13182281.0      484873045.0     474073045.0   \n",
       "14          3000000.0      51100000.0      124900000.0     121900000.0   \n",
       "15          5000000.0     104028807.0      207039844.0     202039844.0   \n",
       "16          2000000.0      11284657.0       81197047.0      79197047.0   \n",
       "17          6500000.0      84273813.0      256862920.0     250362920.0   \n",
       "18          2000000.0      24800000.0       78900000.0      76900000.0   \n",
       "19         12000000.0     260000000.0      470700000.0     458700000.0   \n",
       "\n",
       "    roi_percent  x_times_invest  \n",
       "0        9913.5           100.1  \n",
       "1        8989.4            90.9  \n",
       "2        7452.1            75.5  \n",
       "3        7397.8            75.0  \n",
       "4        7364.3            74.6  \n",
       "5        7050.9            71.5  \n",
       "6        6358.5            64.6  \n",
       "7        5817.1            59.2  \n",
       "8        5479.3            55.8  \n",
       "9        5297.7            54.0  \n",
       "10       5007.4            51.1  \n",
       "11       4620.0            47.2  \n",
       "12       4496.2            46.0  \n",
       "13       4389.6            44.9  \n",
       "14       4063.3            41.6  \n",
       "15       4040.8            41.4  \n",
       "16       3959.9            40.6  \n",
       "17       3851.7            39.5  \n",
       "18       3845.0            39.4  \n",
       "19       3822.5            39.2  "
      ]
     },
     "execution_count": 360,
     "metadata": {},
     "output_type": "execute_result"
    }
   ],
   "source": [
    "df_budg_2to65mil.head(20)"
   ]
  },
  {
   "cell_type": "markdown",
   "metadata": {},
   "source": [
    "It makes sense to only focus on recent movies.  Lets look at the movies from 2010 onward."
   ]
  },
  {
   "cell_type": "code",
   "execution_count": 361,
   "metadata": {
    "ExecuteTime": {
     "end_time": "2021-05-04T22:13:20.109163Z",
     "start_time": "2021-05-04T22:13:19.561628Z"
    }
   },
   "outputs": [],
   "source": [
    "df_budg_2to65mil_11yr = df_budg_2to65mil[pd.to_datetime(df_budg_2to65mil['release_date']).dt.year >= 2010]"
   ]
  },
  {
   "cell_type": "code",
   "execution_count": 362,
   "metadata": {
    "ExecuteTime": {
     "end_time": "2021-05-04T22:13:20.125121Z",
     "start_time": "2021-05-04T22:13:20.110161Z"
    }
   },
   "outputs": [],
   "source": [
    "df_budg_2to65mil_11yr.reset_index(inplace =True) "
   ]
  },
  {
   "cell_type": "code",
   "execution_count": 363,
   "metadata": {
    "ExecuteTime": {
     "end_time": "2021-05-04T22:13:20.171995Z",
     "start_time": "2021-05-04T22:13:20.126118Z"
    },
    "scrolled": true
   },
   "outputs": [
    {
     "data": {
      "text/html": [
       "<div>\n",
       "<style scoped>\n",
       "    .dataframe tbody tr th:only-of-type {\n",
       "        vertical-align: middle;\n",
       "    }\n",
       "\n",
       "    .dataframe tbody tr th {\n",
       "        vertical-align: top;\n",
       "    }\n",
       "\n",
       "    .dataframe thead th {\n",
       "        text-align: right;\n",
       "    }\n",
       "</style>\n",
       "<table border=\"1\" class=\"dataframe\">\n",
       "  <thead>\n",
       "    <tr style=\"text-align: right;\">\n",
       "      <th></th>\n",
       "      <th>level_0</th>\n",
       "      <th>index</th>\n",
       "      <th>id</th>\n",
       "      <th>production_budget</th>\n",
       "      <th>domestic_gross</th>\n",
       "      <th>worldwide_gross</th>\n",
       "      <th>profit_over_pb</th>\n",
       "      <th>roi_percent</th>\n",
       "      <th>x_times_invest</th>\n",
       "    </tr>\n",
       "  </thead>\n",
       "  <tbody>\n",
       "    <tr>\n",
       "      <th>count</th>\n",
       "      <td>1485.000000</td>\n",
       "      <td>1485.000000</td>\n",
       "      <td>1485.000000</td>\n",
       "      <td>1.485000e+03</td>\n",
       "      <td>1.485000e+03</td>\n",
       "      <td>1.485000e+03</td>\n",
       "      <td>1.485000e+03</td>\n",
       "      <td>1485.000000</td>\n",
       "      <td>1485.000000</td>\n",
       "    </tr>\n",
       "    <tr>\n",
       "      <th>mean</th>\n",
       "      <td>2207.599327</td>\n",
       "      <td>2542.965657</td>\n",
       "      <td>51.546128</td>\n",
       "      <td>2.082116e+07</td>\n",
       "      <td>2.718077e+07</td>\n",
       "      <td>5.767083e+07</td>\n",
       "      <td>3.684966e+07</td>\n",
       "      <td>200.663569</td>\n",
       "      <td>3.004377</td>\n",
       "    </tr>\n",
       "    <tr>\n",
       "      <th>std</th>\n",
       "      <td>1280.861844</td>\n",
       "      <td>1423.621413</td>\n",
       "      <td>28.217390</td>\n",
       "      <td>1.654820e+07</td>\n",
       "      <td>3.899086e+07</td>\n",
       "      <td>8.573114e+07</td>\n",
       "      <td>7.879218e+07</td>\n",
       "      <td>502.658395</td>\n",
       "      <td>5.027945</td>\n",
       "    </tr>\n",
       "    <tr>\n",
       "      <th>min</th>\n",
       "      <td>7.000000</td>\n",
       "      <td>52.000000</td>\n",
       "      <td>1.000000</td>\n",
       "      <td>2.000000e+06</td>\n",
       "      <td>0.000000e+00</td>\n",
       "      <td>0.000000e+00</td>\n",
       "      <td>-6.448372e+07</td>\n",
       "      <td>-100.000000</td>\n",
       "      <td>0.000000</td>\n",
       "    </tr>\n",
       "    <tr>\n",
       "      <th>25%</th>\n",
       "      <td>1132.000000</td>\n",
       "      <td>1369.000000</td>\n",
       "      <td>28.000000</td>\n",
       "      <td>7.000000e+06</td>\n",
       "      <td>3.100070e+05</td>\n",
       "      <td>3.721988e+06</td>\n",
       "      <td>-4.412809e+06</td>\n",
       "      <td>-67.800000</td>\n",
       "      <td>0.300000</td>\n",
       "    </tr>\n",
       "    <tr>\n",
       "      <th>50%</th>\n",
       "      <td>2142.000000</td>\n",
       "      <td>2439.000000</td>\n",
       "      <td>52.000000</td>\n",
       "      <td>1.600000e+07</td>\n",
       "      <td>1.254598e+07</td>\n",
       "      <td>2.638704e+07</td>\n",
       "      <td>9.867665e+06</td>\n",
       "      <td>61.500000</td>\n",
       "      <td>1.600000</td>\n",
       "    </tr>\n",
       "    <tr>\n",
       "      <th>75%</th>\n",
       "      <td>3415.000000</td>\n",
       "      <td>3822.000000</td>\n",
       "      <td>76.000000</td>\n",
       "      <td>3.000000e+07</td>\n",
       "      <td>3.912359e+07</td>\n",
       "      <td>7.634739e+07</td>\n",
       "      <td>4.940194e+07</td>\n",
       "      <td>246.200000</td>\n",
       "      <td>3.500000</td>\n",
       "    </tr>\n",
       "    <tr>\n",
       "      <th>max</th>\n",
       "      <td>4230.000000</td>\n",
       "      <td>5010.000000</td>\n",
       "      <td>100.000000</td>\n",
       "      <td>6.500000e+07</td>\n",
       "      <td>3.630707e+08</td>\n",
       "      <td>8.949853e+08</td>\n",
       "      <td>8.399853e+08</td>\n",
       "      <td>5817.100000</td>\n",
       "      <td>59.200000</td>\n",
       "    </tr>\n",
       "  </tbody>\n",
       "</table>\n",
       "</div>"
      ],
      "text/plain": [
       "           level_0        index           id  production_budget  \\\n",
       "count  1485.000000  1485.000000  1485.000000       1.485000e+03   \n",
       "mean   2207.599327  2542.965657    51.546128       2.082116e+07   \n",
       "std    1280.861844  1423.621413    28.217390       1.654820e+07   \n",
       "min       7.000000    52.000000     1.000000       2.000000e+06   \n",
       "25%    1132.000000  1369.000000    28.000000       7.000000e+06   \n",
       "50%    2142.000000  2439.000000    52.000000       1.600000e+07   \n",
       "75%    3415.000000  3822.000000    76.000000       3.000000e+07   \n",
       "max    4230.000000  5010.000000   100.000000       6.500000e+07   \n",
       "\n",
       "       domestic_gross  worldwide_gross  profit_over_pb  roi_percent  \\\n",
       "count    1.485000e+03     1.485000e+03    1.485000e+03  1485.000000   \n",
       "mean     2.718077e+07     5.767083e+07    3.684966e+07   200.663569   \n",
       "std      3.899086e+07     8.573114e+07    7.879218e+07   502.658395   \n",
       "min      0.000000e+00     0.000000e+00   -6.448372e+07  -100.000000   \n",
       "25%      3.100070e+05     3.721988e+06   -4.412809e+06   -67.800000   \n",
       "50%      1.254598e+07     2.638704e+07    9.867665e+06    61.500000   \n",
       "75%      3.912359e+07     7.634739e+07    4.940194e+07   246.200000   \n",
       "max      3.630707e+08     8.949853e+08    8.399853e+08  5817.100000   \n",
       "\n",
       "       x_times_invest  \n",
       "count     1485.000000  \n",
       "mean         3.004377  \n",
       "std          5.027945  \n",
       "min          0.000000  \n",
       "25%          0.300000  \n",
       "50%          1.600000  \n",
       "75%          3.500000  \n",
       "max         59.200000  "
      ]
     },
     "execution_count": 363,
     "metadata": {},
     "output_type": "execute_result"
    }
   ],
   "source": [
    "df_budg_2to65mil_11yr.describe()"
   ]
  },
  {
   "cell_type": "markdown",
   "metadata": {
    "ExecuteTime": {
     "end_time": "2021-05-02T20:09:45.032986Z",
     "start_time": "2021-05-02T20:09:45.027968Z"
    }
   },
   "source": [
    "***\n",
    "***\n",
    "***"
   ]
  },
  {
   "cell_type": "markdown",
   "metadata": {},
   "source": [
    "#### What is our target?  \n",
    "Based on industry research, movies dont truly turn a profit until the 2.0 to 2.5 times PB mark due to marketing and distributors. <br>\n",
    "__Note:__ The __median__ value of medium budget movies (2-65mil) is __61.5% ROI or 1.6 x the investment.__<br>\n",
    " Lets set our target and define success as movies with 150% ROI_percent or wwgross 2.5 times the investment.<br>\n",
    " __Example:__PB is 5000000, __2.5__ times is 12,500,000 for worldwide_gross<br>   Profit would be 7500000  ROI%=7500000 /5000000 *100 =__150%__ <br>\n",
    " __Note:__There are many outlers in this data. These movies are extremly successful. Graph only to 1750%.  Max was 6000% ROI%"
   ]
  },
  {
   "cell_type": "code",
   "execution_count": 364,
   "metadata": {
    "ExecuteTime": {
     "end_time": "2021-05-04T22:13:20.406368Z",
     "start_time": "2021-05-04T22:13:20.172994Z"
    }
   },
   "outputs": [
    {
     "data": {
      "image/png": "[encoded data removed]",
      "text/plain": [
       "<Figure size 936x216 with 1 Axes>"
      ]
     },
     "metadata": {},
     "output_type": "display_data"
    }
   ],
   "source": [
    "#Insert graph of all movies roi with red line at 2.5xPB or 150% roi\n",
    "\n",
    "sns.set(style=\"whitegrid\") \n",
    "fig, ax1 = plt.subplots(figsize=(13,3),)\n",
    "\n",
    "boxplot = sns.boxplot(ax=ax1, x=df_budg_2to65mil_11yr[\"roi_percent\"],color='skyblue')\n",
    "#sns.stripplot(ax=ax1, x=df_budg_2to65mil_11yr[\"roi_percent\"],color='skyblue')\n",
    "ax1.set(xlabel = 'ROI Percent', title='Boxplot of ROI Percent with Success Line')\n",
    "ax1.axvline(150, ls='--',color='red',label='Success Line 150%')\n",
    "ax1.set_xlim(xmin=-250,xmax=1750)\n",
    "ax1.legend(loc='upper right')\n",
    "ax1.text(x=-10,y=0,s=\"65% Fail\")\n",
    "plt.show();"
   ]
  },
  {
   "cell_type": "markdown",
   "metadata": {},
   "source": [
    "__Note:__ How many movies with roi_percent at >=150% ? Only 533 from 1485. Only __35% were successful.  65% fail__."
   ]
  },
  {
   "cell_type": "code",
   "execution_count": 365,
   "metadata": {
    "ExecuteTime": {
     "end_time": "2021-05-04T22:13:20.421328Z",
     "start_time": "2021-05-04T22:13:20.407366Z"
    }
   },
   "outputs": [],
   "source": [
    "#lets only analyze the movies with >=150% ROI(533 movies)\n",
    "df_budg_success_11yrs = df_budg_2to65mil_11yr[df_budg_2to65mil_11yr['roi_percent'] >= 150]"
   ]
  },
  {
   "cell_type": "markdown",
   "metadata": {
    "ExecuteTime": {
     "end_time": "2021-04-28T06:19:36.771106Z",
     "start_time": "2021-04-28T06:19:36.761099Z"
    }
   },
   "source": [
    "533 successful movies\n",
    "INSERT graph of top 10"
   ]
  },
  {
   "cell_type": "code",
   "execution_count": 366,
   "metadata": {
    "ExecuteTime": {
     "end_time": "2021-05-04T22:13:20.452246Z",
     "start_time": "2021-05-04T22:13:20.422326Z"
    },
    "scrolled": false
   },
   "outputs": [
    {
     "data": {
      "text/html": [
       "<div>\n",
       "<style scoped>\n",
       "    .dataframe tbody tr th:only-of-type {\n",
       "        vertical-align: middle;\n",
       "    }\n",
       "\n",
       "    .dataframe tbody tr th {\n",
       "        vertical-align: top;\n",
       "    }\n",
       "\n",
       "    .dataframe thead th {\n",
       "        text-align: right;\n",
       "    }\n",
       "</style>\n",
       "<table border=\"1\" class=\"dataframe\">\n",
       "  <thead>\n",
       "    <tr style=\"text-align: right;\">\n",
       "      <th></th>\n",
       "      <th>level_0</th>\n",
       "      <th>index</th>\n",
       "      <th>id</th>\n",
       "      <th>release_date</th>\n",
       "      <th>movie</th>\n",
       "      <th>production_budget</th>\n",
       "      <th>domestic_gross</th>\n",
       "      <th>worldwide_gross</th>\n",
       "      <th>profit_over_pb</th>\n",
       "      <th>roi_percent</th>\n",
       "      <th>x_times_invest</th>\n",
       "    </tr>\n",
       "  </thead>\n",
       "  <tbody>\n",
       "    <tr>\n",
       "      <th>0</th>\n",
       "      <td>7</td>\n",
       "      <td>52</td>\n",
       "      <td>65</td>\n",
       "      <td>Oct 20, 2010</td>\n",
       "      <td>Paranormal Activity 2</td>\n",
       "      <td>3000000.0</td>\n",
       "      <td>84752907.0</td>\n",
       "      <td>177512032.0</td>\n",
       "      <td>174512032.0</td>\n",
       "      <td>5817.1</td>\n",
       "      <td>59.2</td>\n",
       "    </tr>\n",
       "    <tr>\n",
       "      <th>1</th>\n",
       "      <td>8</td>\n",
       "      <td>54</td>\n",
       "      <td>50</td>\n",
       "      <td>Jan 20, 2017</td>\n",
       "      <td>Split</td>\n",
       "      <td>5000000.0</td>\n",
       "      <td>138141585.0</td>\n",
       "      <td>278964806.0</td>\n",
       "      <td>273964806.0</td>\n",
       "      <td>5479.3</td>\n",
       "      <td>55.8</td>\n",
       "    </tr>\n",
       "    <tr>\n",
       "      <th>2</th>\n",
       "      <td>10</td>\n",
       "      <td>60</td>\n",
       "      <td>49</td>\n",
       "      <td>Feb 24, 2017</td>\n",
       "      <td>Get Out</td>\n",
       "      <td>5000000.0</td>\n",
       "      <td>176040665.0</td>\n",
       "      <td>255367951.0</td>\n",
       "      <td>250367951.0</td>\n",
       "      <td>5007.4</td>\n",
       "      <td>51.1</td>\n",
       "    </tr>\n",
       "    <tr>\n",
       "      <th>3</th>\n",
       "      <td>13</td>\n",
       "      <td>65</td>\n",
       "      <td>18</td>\n",
       "      <td>May 25, 2012</td>\n",
       "      <td>Les Intouchables</td>\n",
       "      <td>10800000.0</td>\n",
       "      <td>13182281.0</td>\n",
       "      <td>484873045.0</td>\n",
       "      <td>474073045.0</td>\n",
       "      <td>4389.6</td>\n",
       "      <td>44.9</td>\n",
       "    </tr>\n",
       "    <tr>\n",
       "      <th>4</th>\n",
       "      <td>15</td>\n",
       "      <td>69</td>\n",
       "      <td>51</td>\n",
       "      <td>Oct 21, 2011</td>\n",
       "      <td>Paranormal Activity 3</td>\n",
       "      <td>5000000.0</td>\n",
       "      <td>104028807.0</td>\n",
       "      <td>207039844.0</td>\n",
       "      <td>202039844.0</td>\n",
       "      <td>4040.8</td>\n",
       "      <td>41.4</td>\n",
       "    </tr>\n",
       "    <tr>\n",
       "      <th>5</th>\n",
       "      <td>17</td>\n",
       "      <td>74</td>\n",
       "      <td>84</td>\n",
       "      <td>Oct 3, 2014</td>\n",
       "      <td>Annabelle</td>\n",
       "      <td>6500000.0</td>\n",
       "      <td>84273813.0</td>\n",
       "      <td>256862920.0</td>\n",
       "      <td>250362920.0</td>\n",
       "      <td>3851.7</td>\n",
       "      <td>39.5</td>\n",
       "    </tr>\n",
       "    <tr>\n",
       "      <th>6</th>\n",
       "      <td>29</td>\n",
       "      <td>96</td>\n",
       "      <td>53</td>\n",
       "      <td>Sep 13, 2013</td>\n",
       "      <td>Insidious Chapter 2</td>\n",
       "      <td>5000000.0</td>\n",
       "      <td>83586447.0</td>\n",
       "      <td>161921515.0</td>\n",
       "      <td>156921515.0</td>\n",
       "      <td>3138.4</td>\n",
       "      <td>32.4</td>\n",
       "    </tr>\n",
       "    <tr>\n",
       "      <th>7</th>\n",
       "      <td>31</td>\n",
       "      <td>98</td>\n",
       "      <td>56</td>\n",
       "      <td>Dec 21, 2016</td>\n",
       "      <td>Dangal</td>\n",
       "      <td>9500000.0</td>\n",
       "      <td>12391761.0</td>\n",
       "      <td>294654618.0</td>\n",
       "      <td>285154618.0</td>\n",
       "      <td>3001.6</td>\n",
       "      <td>31.0</td>\n",
       "    </tr>\n",
       "    <tr>\n",
       "      <th>8</th>\n",
       "      <td>35</td>\n",
       "      <td>104</td>\n",
       "      <td>67</td>\n",
       "      <td>Jun 7, 2013</td>\n",
       "      <td>The Purge</td>\n",
       "      <td>3000000.0</td>\n",
       "      <td>64473115.0</td>\n",
       "      <td>91266581.0</td>\n",
       "      <td>88266581.0</td>\n",
       "      <td>2942.2</td>\n",
       "      <td>30.4</td>\n",
       "    </tr>\n",
       "    <tr>\n",
       "      <th>9</th>\n",
       "      <td>37</td>\n",
       "      <td>107</td>\n",
       "      <td>55</td>\n",
       "      <td>Jul 22, 2016</td>\n",
       "      <td>Lights Out</td>\n",
       "      <td>5000000.0</td>\n",
       "      <td>67268835.0</td>\n",
       "      <td>148806510.0</td>\n",
       "      <td>143806510.0</td>\n",
       "      <td>2876.1</td>\n",
       "      <td>29.8</td>\n",
       "    </tr>\n",
       "  </tbody>\n",
       "</table>\n",
       "</div>"
      ],
      "text/plain": [
       "   level_0  index  id  release_date                  movie  production_budget  \\\n",
       "0        7     52  65  Oct 20, 2010  Paranormal Activity 2          3000000.0   \n",
       "1        8     54  50  Jan 20, 2017                  Split          5000000.0   \n",
       "2       10     60  49  Feb 24, 2017                Get Out          5000000.0   \n",
       "3       13     65  18  May 25, 2012       Les Intouchables         10800000.0   \n",
       "4       15     69  51  Oct 21, 2011  Paranormal Activity 3          5000000.0   \n",
       "5       17     74  84   Oct 3, 2014              Annabelle          6500000.0   \n",
       "6       29     96  53  Sep 13, 2013    Insidious Chapter 2          5000000.0   \n",
       "7       31     98  56  Dec 21, 2016                 Dangal          9500000.0   \n",
       "8       35    104  67   Jun 7, 2013              The Purge          3000000.0   \n",
       "9       37    107  55  Jul 22, 2016             Lights Out          5000000.0   \n",
       "\n",
       "   domestic_gross  worldwide_gross  profit_over_pb  roi_percent  \\\n",
       "0      84752907.0      177512032.0     174512032.0       5817.1   \n",
       "1     138141585.0      278964806.0     273964806.0       5479.3   \n",
       "2     176040665.0      255367951.0     250367951.0       5007.4   \n",
       "3      13182281.0      484873045.0     474073045.0       4389.6   \n",
       "4     104028807.0      207039844.0     202039844.0       4040.8   \n",
       "5      84273813.0      256862920.0     250362920.0       3851.7   \n",
       "6      83586447.0      161921515.0     156921515.0       3138.4   \n",
       "7      12391761.0      294654618.0     285154618.0       3001.6   \n",
       "8      64473115.0       91266581.0      88266581.0       2942.2   \n",
       "9      67268835.0      148806510.0     143806510.0       2876.1   \n",
       "\n",
       "   x_times_invest  \n",
       "0            59.2  \n",
       "1            55.8  \n",
       "2            51.1  \n",
       "3            44.9  \n",
       "4            41.4  \n",
       "5            39.5  \n",
       "6            32.4  \n",
       "7            31.0  \n",
       "8            30.4  \n",
       "9            29.8  "
      ]
     },
     "execution_count": 366,
     "metadata": {},
     "output_type": "execute_result"
    }
   ],
   "source": [
    "df_budg_success_11yrs.head(10)\n"
   ]
  },
  {
   "cell_type": "code",
   "execution_count": 367,
   "metadata": {
    "ExecuteTime": {
     "end_time": "2021-05-04T22:13:20.467206Z",
     "start_time": "2021-05-04T22:13:20.454241Z"
    }
   },
   "outputs": [],
   "source": [
    "df_budg_success_11yrs = df_budg_success_11yrs.drop(columns=['level_0','index'])\n"
   ]
  },
  {
   "cell_type": "code",
   "execution_count": 368,
   "metadata": {
    "ExecuteTime": {
     "end_time": "2021-05-04T22:13:20.499121Z",
     "start_time": "2021-05-04T22:13:20.469201Z"
    }
   },
   "outputs": [
    {
     "data": {
      "text/html": [
       "<div>\n",
       "<style scoped>\n",
       "    .dataframe tbody tr th:only-of-type {\n",
       "        vertical-align: middle;\n",
       "    }\n",
       "\n",
       "    .dataframe tbody tr th {\n",
       "        vertical-align: top;\n",
       "    }\n",
       "\n",
       "    .dataframe thead th {\n",
       "        text-align: right;\n",
       "    }\n",
       "</style>\n",
       "<table border=\"1\" class=\"dataframe\">\n",
       "  <thead>\n",
       "    <tr style=\"text-align: right;\">\n",
       "      <th></th>\n",
       "      <th>id</th>\n",
       "      <th>production_budget</th>\n",
       "      <th>domestic_gross</th>\n",
       "      <th>worldwide_gross</th>\n",
       "      <th>profit_over_pb</th>\n",
       "      <th>roi_percent</th>\n",
       "      <th>x_times_invest</th>\n",
       "    </tr>\n",
       "  </thead>\n",
       "  <tbody>\n",
       "    <tr>\n",
       "      <th>count</th>\n",
       "      <td>533.000000</td>\n",
       "      <td>5.330000e+02</td>\n",
       "      <td>5.330000e+02</td>\n",
       "      <td>5.330000e+02</td>\n",
       "      <td>5.330000e+02</td>\n",
       "      <td>533.000000</td>\n",
       "      <td>533.000000</td>\n",
       "    </tr>\n",
       "    <tr>\n",
       "      <th>mean</th>\n",
       "      <td>55.587242</td>\n",
       "      <td>2.263056e+07</td>\n",
       "      <td>5.674026e+07</td>\n",
       "      <td>1.231468e+08</td>\n",
       "      <td>1.005162e+08</td>\n",
       "      <td>586.596998</td>\n",
       "      <td>6.863227</td>\n",
       "    </tr>\n",
       "    <tr>\n",
       "      <th>std</th>\n",
       "      <td>29.401908</td>\n",
       "      <td>1.712939e+07</td>\n",
       "      <td>4.938324e+07</td>\n",
       "      <td>1.112654e+08</td>\n",
       "      <td>1.014964e+08</td>\n",
       "      <td>678.787104</td>\n",
       "      <td>6.790683</td>\n",
       "    </tr>\n",
       "    <tr>\n",
       "      <th>min</th>\n",
       "      <td>1.000000</td>\n",
       "      <td>2.000000e+06</td>\n",
       "      <td>0.000000e+00</td>\n",
       "      <td>5.941994e+06</td>\n",
       "      <td>3.941994e+06</td>\n",
       "      <td>150.000000</td>\n",
       "      <td>2.500000</td>\n",
       "    </tr>\n",
       "    <tr>\n",
       "      <th>25%</th>\n",
       "      <td>33.000000</td>\n",
       "      <td>8.500000e+06</td>\n",
       "      <td>2.150269e+07</td>\n",
       "      <td>4.701145e+07</td>\n",
       "      <td>3.678539e+07</td>\n",
       "      <td>227.800000</td>\n",
       "      <td>3.300000</td>\n",
       "    </tr>\n",
       "    <tr>\n",
       "      <th>50%</th>\n",
       "      <td>59.000000</td>\n",
       "      <td>1.800000e+07</td>\n",
       "      <td>4.629074e+07</td>\n",
       "      <td>9.405095e+07</td>\n",
       "      <td>7.049704e+07</td>\n",
       "      <td>364.000000</td>\n",
       "      <td>4.600000</td>\n",
       "    </tr>\n",
       "    <tr>\n",
       "      <th>75%</th>\n",
       "      <td>82.000000</td>\n",
       "      <td>3.500000e+07</td>\n",
       "      <td>7.546858e+07</td>\n",
       "      <td>1.625028e+08</td>\n",
       "      <td>1.292782e+08</td>\n",
       "      <td>679.200000</td>\n",
       "      <td>7.800000</td>\n",
       "    </tr>\n",
       "    <tr>\n",
       "      <th>max</th>\n",
       "      <td>100.000000</td>\n",
       "      <td>6.500000e+07</td>\n",
       "      <td>3.630707e+08</td>\n",
       "      <td>8.949853e+08</td>\n",
       "      <td>8.399853e+08</td>\n",
       "      <td>5817.100000</td>\n",
       "      <td>59.200000</td>\n",
       "    </tr>\n",
       "  </tbody>\n",
       "</table>\n",
       "</div>"
      ],
      "text/plain": [
       "               id  production_budget  domestic_gross  worldwide_gross  \\\n",
       "count  533.000000       5.330000e+02    5.330000e+02     5.330000e+02   \n",
       "mean    55.587242       2.263056e+07    5.674026e+07     1.231468e+08   \n",
       "std     29.401908       1.712939e+07    4.938324e+07     1.112654e+08   \n",
       "min      1.000000       2.000000e+06    0.000000e+00     5.941994e+06   \n",
       "25%     33.000000       8.500000e+06    2.150269e+07     4.701145e+07   \n",
       "50%     59.000000       1.800000e+07    4.629074e+07     9.405095e+07   \n",
       "75%     82.000000       3.500000e+07    7.546858e+07     1.625028e+08   \n",
       "max    100.000000       6.500000e+07    3.630707e+08     8.949853e+08   \n",
       "\n",
       "       profit_over_pb  roi_percent  x_times_invest  \n",
       "count    5.330000e+02   533.000000      533.000000  \n",
       "mean     1.005162e+08   586.596998        6.863227  \n",
       "std      1.014964e+08   678.787104        6.790683  \n",
       "min      3.941994e+06   150.000000        2.500000  \n",
       "25%      3.678539e+07   227.800000        3.300000  \n",
       "50%      7.049704e+07   364.000000        4.600000  \n",
       "75%      1.292782e+08   679.200000        7.800000  \n",
       "max      8.399853e+08  5817.100000       59.200000  "
      ]
     },
     "execution_count": 368,
     "metadata": {},
     "output_type": "execute_result"
    }
   ],
   "source": [
    "df_budg_success_11yrs.describe()"
   ]
  },
  {
   "cell_type": "code",
   "execution_count": 369,
   "metadata": {
    "ExecuteTime": {
     "end_time": "2021-05-04T22:13:20.515078Z",
     "start_time": "2021-05-04T22:13:20.500118Z"
    }
   },
   "outputs": [],
   "source": [
    "#save successful movies to file\n",
    "df_budg_success_11yrs.to_csv(path_or_buf = path + 'budg_success_11yrs')"
   ]
  },
  {
   "cell_type": "markdown",
   "metadata": {},
   "source": [
    "__Conclusion:__ The Percent RoI for movies in the medium budget range from 2 - 65 M USD has a mean of 586% return but median is 61.5%. The mean is skewed due to the number of outliers.  Most movies do not succeed.  In this data, __65%__ do not succeed.  Considering marketing and distribution, A successful movie should return at least 2.5 times the production budget, ie 150% Roi.  Going forward we will only look at those movies. "
   ]
  },
  {
   "cell_type": "markdown",
   "metadata": {
    "ExecuteTime": {
     "end_time": "2021-04-30T05:49:36.131180Z",
     "start_time": "2021-04-30T05:49:36.127145Z"
    }
   },
   "source": [
    "### Question: What level of production budget will we be comfortable investing?"
   ]
  },
  {
   "cell_type": "markdown",
   "metadata": {},
   "source": [
    "Of the 533 Successful Films in medium budget range since 2010, lets look into the production budgets of those.\n"
   ]
  },
  {
   "cell_type": "code",
   "execution_count": 370,
   "metadata": {
    "ExecuteTime": {
     "end_time": "2021-05-04T22:13:20.560955Z",
     "start_time": "2021-05-04T22:13:20.517073Z"
    }
   },
   "outputs": [
    {
     "data": {
      "text/html": [
       "<div>\n",
       "<style scoped>\n",
       "    .dataframe tbody tr th:only-of-type {\n",
       "        vertical-align: middle;\n",
       "    }\n",
       "\n",
       "    .dataframe tbody tr th {\n",
       "        vertical-align: top;\n",
       "    }\n",
       "\n",
       "    .dataframe thead th {\n",
       "        text-align: right;\n",
       "    }\n",
       "</style>\n",
       "<table border=\"1\" class=\"dataframe\">\n",
       "  <thead>\n",
       "    <tr style=\"text-align: right;\">\n",
       "      <th></th>\n",
       "      <th>id</th>\n",
       "      <th>production_budget</th>\n",
       "      <th>domestic_gross</th>\n",
       "      <th>worldwide_gross</th>\n",
       "      <th>profit_over_pb</th>\n",
       "      <th>roi_percent</th>\n",
       "      <th>x_times_invest</th>\n",
       "    </tr>\n",
       "  </thead>\n",
       "  <tbody>\n",
       "    <tr>\n",
       "      <th>count</th>\n",
       "      <td>533.000000</td>\n",
       "      <td>5.330000e+02</td>\n",
       "      <td>5.330000e+02</td>\n",
       "      <td>5.330000e+02</td>\n",
       "      <td>5.330000e+02</td>\n",
       "      <td>533.000000</td>\n",
       "      <td>533.000000</td>\n",
       "    </tr>\n",
       "    <tr>\n",
       "      <th>mean</th>\n",
       "      <td>55.587242</td>\n",
       "      <td>2.263056e+07</td>\n",
       "      <td>5.674026e+07</td>\n",
       "      <td>1.231468e+08</td>\n",
       "      <td>1.005162e+08</td>\n",
       "      <td>586.596998</td>\n",
       "      <td>6.863227</td>\n",
       "    </tr>\n",
       "    <tr>\n",
       "      <th>std</th>\n",
       "      <td>29.401908</td>\n",
       "      <td>1.712939e+07</td>\n",
       "      <td>4.938324e+07</td>\n",
       "      <td>1.112654e+08</td>\n",
       "      <td>1.014964e+08</td>\n",
       "      <td>678.787104</td>\n",
       "      <td>6.790683</td>\n",
       "    </tr>\n",
       "    <tr>\n",
       "      <th>min</th>\n",
       "      <td>1.000000</td>\n",
       "      <td>2.000000e+06</td>\n",
       "      <td>0.000000e+00</td>\n",
       "      <td>5.941994e+06</td>\n",
       "      <td>3.941994e+06</td>\n",
       "      <td>150.000000</td>\n",
       "      <td>2.500000</td>\n",
       "    </tr>\n",
       "    <tr>\n",
       "      <th>25%</th>\n",
       "      <td>33.000000</td>\n",
       "      <td>8.500000e+06</td>\n",
       "      <td>2.150269e+07</td>\n",
       "      <td>4.701145e+07</td>\n",
       "      <td>3.678539e+07</td>\n",
       "      <td>227.800000</td>\n",
       "      <td>3.300000</td>\n",
       "    </tr>\n",
       "    <tr>\n",
       "      <th>50%</th>\n",
       "      <td>59.000000</td>\n",
       "      <td>1.800000e+07</td>\n",
       "      <td>4.629074e+07</td>\n",
       "      <td>9.405095e+07</td>\n",
       "      <td>7.049704e+07</td>\n",
       "      <td>364.000000</td>\n",
       "      <td>4.600000</td>\n",
       "    </tr>\n",
       "    <tr>\n",
       "      <th>75%</th>\n",
       "      <td>82.000000</td>\n",
       "      <td>3.500000e+07</td>\n",
       "      <td>7.546858e+07</td>\n",
       "      <td>1.625028e+08</td>\n",
       "      <td>1.292782e+08</td>\n",
       "      <td>679.200000</td>\n",
       "      <td>7.800000</td>\n",
       "    </tr>\n",
       "    <tr>\n",
       "      <th>max</th>\n",
       "      <td>100.000000</td>\n",
       "      <td>6.500000e+07</td>\n",
       "      <td>3.630707e+08</td>\n",
       "      <td>8.949853e+08</td>\n",
       "      <td>8.399853e+08</td>\n",
       "      <td>5817.100000</td>\n",
       "      <td>59.200000</td>\n",
       "    </tr>\n",
       "  </tbody>\n",
       "</table>\n",
       "</div>"
      ],
      "text/plain": [
       "               id  production_budget  domestic_gross  worldwide_gross  \\\n",
       "count  533.000000       5.330000e+02    5.330000e+02     5.330000e+02   \n",
       "mean    55.587242       2.263056e+07    5.674026e+07     1.231468e+08   \n",
       "std     29.401908       1.712939e+07    4.938324e+07     1.112654e+08   \n",
       "min      1.000000       2.000000e+06    0.000000e+00     5.941994e+06   \n",
       "25%     33.000000       8.500000e+06    2.150269e+07     4.701145e+07   \n",
       "50%     59.000000       1.800000e+07    4.629074e+07     9.405095e+07   \n",
       "75%     82.000000       3.500000e+07    7.546858e+07     1.625028e+08   \n",
       "max    100.000000       6.500000e+07    3.630707e+08     8.949853e+08   \n",
       "\n",
       "       profit_over_pb  roi_percent  x_times_invest  \n",
       "count    5.330000e+02   533.000000      533.000000  \n",
       "mean     1.005162e+08   586.596998        6.863227  \n",
       "std      1.014964e+08   678.787104        6.790683  \n",
       "min      3.941994e+06   150.000000        2.500000  \n",
       "25%      3.678539e+07   227.800000        3.300000  \n",
       "50%      7.049704e+07   364.000000        4.600000  \n",
       "75%      1.292782e+08   679.200000        7.800000  \n",
       "max      8.399853e+08  5817.100000       59.200000  "
      ]
     },
     "execution_count": 370,
     "metadata": {},
     "output_type": "execute_result"
    }
   ],
   "source": [
    "df_budg_success_11yrs.describe()"
   ]
  },
  {
   "cell_type": "code",
   "execution_count": 371,
   "metadata": {
    "ExecuteTime": {
     "end_time": "2021-05-04T22:13:21.076576Z",
     "start_time": "2021-05-04T22:13:20.562950Z"
    }
   },
   "outputs": [
    {
     "data": {
      "image/png": "[encoded data removed]",
      "text/plain": [
       "<Figure size 1296x432 with 1 Axes>"
      ]
     },
     "metadata": {},
     "output_type": "display_data"
    }
   ],
   "source": [
    "#Histogram of Production budget bins\n",
    "\n",
    "sns.set(style=\"whitegrid\") \n",
    "fig, ax1 = plt.subplots(figsize=(18,6),sharex=True ,sharey=True)\n",
    "\n",
    "histplot = sns.histplot(ax=ax1, x=df_budg_success_11yrs[\"production_budget\"],\n",
    "                        color='skyblue',bins=7,label='Bin Range of $9M')\n",
    "\n",
    "ax1.set_xlabel('Production Budgets', fontsize=15)\n",
    "ax1.set_ylabel('Number of Films', fontsize=15)\n",
    "ax1.set_title('533 Successful Films: Histogram of Production Budgets',fontsize=20)\n",
    "#Set the Average Line\n",
    "ax1.axvline(df_budg_success_11yrs[\"production_budget\"].mean(), ls='--',\n",
    "            color='green',label='$22.6M Mean')\n",
    "ax1.set(xlim = (0,67000000))\n",
    "# fixing xticks warning with matplotlib.ticker \"FixedLocator\"\n",
    "ticks_loc = ax1.get_xticks().tolist()\n",
    "ax1.xaxis.set_major_locator(mticker.FixedLocator(ticks_loc))\n",
    "ax1.set_xticklabels(['{:,.2f}'.format(x/1000000) + 'M' for x in ticks_loc])\n",
    "\n",
    "ax1.set(xlim = (0,67000000))\n",
    "ax1.legend(loc='upper right')\n",
    "\n",
    "fig.savefig('./images/ProdBudg.png', bbox_inches='tight')\n",
    "\n",
    "\n",
    "plt.show();"
   ]
  },
  {
   "cell_type": "markdown",
   "metadata": {},
   "source": [
    "__Conclusion:__ Most of the movies are in the 2M to 11M and 11M to 20M bin ranges with a steady decline as budgets increase.  We do not need to spend a high amount on budget to make a successful film.\n",
    "    We need to look at _genres_ of the movies to determine more.  Looking at the Average ROI per range would also be informative."
   ]
  },
  {
   "cell_type": "markdown",
   "metadata": {
    "ExecuteTime": {
     "end_time": "2021-05-02T20:08:33.019988Z",
     "start_time": "2021-05-02T20:08:33.015001Z"
    }
   },
   "source": [
    "***\n",
    "***\n",
    "***"
   ]
  },
  {
   "cell_type": "markdown",
   "metadata": {},
   "source": [
    "### Question: What types of feature film genres should we make?\n",
    "Lets pull in genre information for the movies.  This has been noted in the df_imdbbasics.  We will join this with out budget data.\n",
    "\n",
    "\n"
   ]
  },
  {
   "cell_type": "code",
   "execution_count": 372,
   "metadata": {
    "ExecuteTime": {
     "end_time": "2021-05-04T22:13:21.091536Z",
     "start_time": "2021-05-04T22:13:21.078571Z"
    },
    "scrolled": true
   },
   "outputs": [
    {
     "data": {
      "text/html": [
       "<div>\n",
       "<style scoped>\n",
       "    .dataframe tbody tr th:only-of-type {\n",
       "        vertical-align: middle;\n",
       "    }\n",
       "\n",
       "    .dataframe tbody tr th {\n",
       "        vertical-align: top;\n",
       "    }\n",
       "\n",
       "    .dataframe thead th {\n",
       "        text-align: right;\n",
       "    }\n",
       "</style>\n",
       "<table border=\"1\" class=\"dataframe\">\n",
       "  <thead>\n",
       "    <tr style=\"text-align: right;\">\n",
       "      <th></th>\n",
       "      <th>primary_title</th>\n",
       "      <th>original_title</th>\n",
       "      <th>start_year</th>\n",
       "      <th>runtime_minutes</th>\n",
       "      <th>genres</th>\n",
       "    </tr>\n",
       "    <tr>\n",
       "      <th>tconst</th>\n",
       "      <th></th>\n",
       "      <th></th>\n",
       "      <th></th>\n",
       "      <th></th>\n",
       "      <th></th>\n",
       "    </tr>\n",
       "  </thead>\n",
       "  <tbody>\n",
       "    <tr>\n",
       "      <th>tt0063540</th>\n",
       "      <td>Sunghursh</td>\n",
       "      <td>Sunghursh</td>\n",
       "      <td>2013</td>\n",
       "      <td>175.0</td>\n",
       "      <td>Action,Crime,Drama</td>\n",
       "    </tr>\n",
       "    <tr>\n",
       "      <th>tt0066787</th>\n",
       "      <td>One Day Before the Rainy Season</td>\n",
       "      <td>Ashad Ka Ek Din</td>\n",
       "      <td>2019</td>\n",
       "      <td>114.0</td>\n",
       "      <td>Biography,Drama</td>\n",
       "    </tr>\n",
       "    <tr>\n",
       "      <th>tt0069049</th>\n",
       "      <td>The Other Side of the Wind</td>\n",
       "      <td>The Other Side of the Wind</td>\n",
       "      <td>2018</td>\n",
       "      <td>122.0</td>\n",
       "      <td>Drama</td>\n",
       "    </tr>\n",
       "  </tbody>\n",
       "</table>\n",
       "</div>"
      ],
      "text/plain": [
       "                             primary_title              original_title  \\\n",
       "tconst                                                                   \n",
       "tt0063540                        Sunghursh                   Sunghursh   \n",
       "tt0066787  One Day Before the Rainy Season             Ashad Ka Ek Din   \n",
       "tt0069049       The Other Side of the Wind  The Other Side of the Wind   \n",
       "\n",
       "           start_year  runtime_minutes              genres  \n",
       "tconst                                                      \n",
       "tt0063540        2013            175.0  Action,Crime,Drama  \n",
       "tt0066787        2019            114.0     Biography,Drama  \n",
       "tt0069049        2018            122.0               Drama  "
      ]
     },
     "execution_count": 372,
     "metadata": {},
     "output_type": "execute_result"
    }
   ],
   "source": [
    "df_imdbbasics.head(3)"
   ]
  },
  {
   "cell_type": "code",
   "execution_count": 373,
   "metadata": {
    "ExecuteTime": {
     "end_time": "2021-05-04T22:13:21.107493Z",
     "start_time": "2021-05-04T22:13:21.093530Z"
    }
   },
   "outputs": [
    {
     "name": "stdout",
     "output_type": "stream",
     "text": [
      "<class 'pandas.core.frame.DataFrame'>\n",
      "Int64Index: 533 entries, 0 to 532\n",
      "Data columns (total 9 columns):\n",
      " #   Column             Non-Null Count  Dtype  \n",
      "---  ------             --------------  -----  \n",
      " 0   id                 533 non-null    int64  \n",
      " 1   release_date       533 non-null    object \n",
      " 2   movie              533 non-null    object \n",
      " 3   production_budget  533 non-null    float64\n",
      " 4   domestic_gross     533 non-null    float64\n",
      " 5   worldwide_gross    533 non-null    float64\n",
      " 6   profit_over_pb     533 non-null    float64\n",
      " 7   roi_percent        533 non-null    float64\n",
      " 8   x_times_invest     533 non-null    float64\n",
      "dtypes: float64(6), int64(1), object(2)\n",
      "memory usage: 41.6+ KB\n"
     ]
    }
   ],
   "source": [
    "df_budg_success_11yrs.info()"
   ]
  },
  {
   "cell_type": "code",
   "execution_count": 374,
   "metadata": {
    "ExecuteTime": {
     "end_time": "2021-05-04T22:13:21.250112Z",
     "start_time": "2021-05-04T22:13:21.109488Z"
    }
   },
   "outputs": [],
   "source": [
    "#We will do a left join on the successful movies and the imdb basics \n",
    "#keying on movie name and year of release\n",
    "df_budget_genres = pd.merge(df_budg_success_11yrs, df_imdbbasics, \n",
    "                            left_on=  ['movie',\n",
    "                                       pd.to_datetime(df_budg_success_11yrs['release_date']).dt.year],\n",
    "                            right_on= ['primary_title','start_year'], \n",
    "                            how = 'left')"
   ]
  },
  {
   "cell_type": "code",
   "execution_count": 375,
   "metadata": {
    "ExecuteTime": {
     "end_time": "2021-05-04T22:13:21.266069Z",
     "start_time": "2021-05-04T22:13:21.251109Z"
    }
   },
   "outputs": [
    {
     "name": "stdout",
     "output_type": "stream",
     "text": [
      "<class 'pandas.core.frame.DataFrame'>\n",
      "Int64Index: 544 entries, 0 to 543\n",
      "Data columns (total 14 columns):\n",
      " #   Column             Non-Null Count  Dtype  \n",
      "---  ------             --------------  -----  \n",
      " 0   id                 544 non-null    int64  \n",
      " 1   release_date       544 non-null    object \n",
      " 2   movie              544 non-null    object \n",
      " 3   production_budget  544 non-null    float64\n",
      " 4   domestic_gross     544 non-null    float64\n",
      " 5   worldwide_gross    544 non-null    float64\n",
      " 6   profit_over_pb     544 non-null    float64\n",
      " 7   roi_percent        544 non-null    float64\n",
      " 8   x_times_invest     544 non-null    float64\n",
      " 9   primary_title      429 non-null    object \n",
      " 10  original_title     429 non-null    object \n",
      " 11  start_year         544 non-null    int64  \n",
      " 12  runtime_minutes    429 non-null    float64\n",
      " 13  genres             429 non-null    object \n",
      "dtypes: float64(7), int64(2), object(5)\n",
      "memory usage: 63.8+ KB\n"
     ]
    }
   ],
   "source": [
    "df_budget_genres.info()"
   ]
  },
  {
   "cell_type": "code",
   "execution_count": 376,
   "metadata": {
    "ExecuteTime": {
     "end_time": "2021-05-04T22:13:21.282026Z",
     "start_time": "2021-05-04T22:13:21.268065Z"
    }
   },
   "outputs": [],
   "source": [
    "#We have to exclude where the genres were unknown or Nan\n",
    "df_budget_genres = df_budget_genres[df_budget_genres.genres != 'unknown']"
   ]
  },
  {
   "cell_type": "code",
   "execution_count": 377,
   "metadata": {
    "ExecuteTime": {
     "end_time": "2021-05-04T22:13:21.297984Z",
     "start_time": "2021-05-04T22:13:21.284022Z"
    }
   },
   "outputs": [],
   "source": [
    "df_budget_genres = df_budget_genres[df_budget_genres.primary_title.notna()]"
   ]
  },
  {
   "cell_type": "code",
   "execution_count": 378,
   "metadata": {
    "ExecuteTime": {
     "end_time": "2021-05-04T22:13:21.313941Z",
     "start_time": "2021-05-04T22:13:21.298981Z"
    }
   },
   "outputs": [
    {
     "name": "stdout",
     "output_type": "stream",
     "text": [
      "<class 'pandas.core.frame.DataFrame'>\n",
      "Int64Index: 428 entries, 0 to 543\n",
      "Data columns (total 14 columns):\n",
      " #   Column             Non-Null Count  Dtype  \n",
      "---  ------             --------------  -----  \n",
      " 0   id                 428 non-null    int64  \n",
      " 1   release_date       428 non-null    object \n",
      " 2   movie              428 non-null    object \n",
      " 3   production_budget  428 non-null    float64\n",
      " 4   domestic_gross     428 non-null    float64\n",
      " 5   worldwide_gross    428 non-null    float64\n",
      " 6   profit_over_pb     428 non-null    float64\n",
      " 7   roi_percent        428 non-null    float64\n",
      " 8   x_times_invest     428 non-null    float64\n",
      " 9   primary_title      428 non-null    object \n",
      " 10  original_title     428 non-null    object \n",
      " 11  start_year         428 non-null    int64  \n",
      " 12  runtime_minutes    428 non-null    float64\n",
      " 13  genres             428 non-null    object \n",
      "dtypes: float64(7), int64(2), object(5)\n",
      "memory usage: 50.2+ KB\n"
     ]
    }
   ],
   "source": [
    "#We have matching genre info for 428 successful movies\n",
    "df_budget_genres.info()"
   ]
  },
  {
   "cell_type": "code",
   "execution_count": 379,
   "metadata": {
    "ExecuteTime": {
     "end_time": "2021-05-04T22:13:21.344858Z",
     "start_time": "2021-05-04T22:13:21.315936Z"
    },
    "scrolled": true
   },
   "outputs": [
    {
     "data": {
      "text/html": [
       "<div>\n",
       "<style scoped>\n",
       "    .dataframe tbody tr th:only-of-type {\n",
       "        vertical-align: middle;\n",
       "    }\n",
       "\n",
       "    .dataframe tbody tr th {\n",
       "        vertical-align: top;\n",
       "    }\n",
       "\n",
       "    .dataframe thead th {\n",
       "        text-align: right;\n",
       "    }\n",
       "</style>\n",
       "<table border=\"1\" class=\"dataframe\">\n",
       "  <thead>\n",
       "    <tr style=\"text-align: right;\">\n",
       "      <th></th>\n",
       "      <th>id</th>\n",
       "      <th>release_date</th>\n",
       "      <th>movie</th>\n",
       "      <th>production_budget</th>\n",
       "      <th>domestic_gross</th>\n",
       "      <th>worldwide_gross</th>\n",
       "      <th>profit_over_pb</th>\n",
       "      <th>roi_percent</th>\n",
       "      <th>x_times_invest</th>\n",
       "      <th>primary_title</th>\n",
       "      <th>original_title</th>\n",
       "      <th>start_year</th>\n",
       "      <th>runtime_minutes</th>\n",
       "      <th>genres</th>\n",
       "    </tr>\n",
       "  </thead>\n",
       "  <tbody>\n",
       "    <tr>\n",
       "      <th>530</th>\n",
       "      <td>1</td>\n",
       "      <td>Feb 18, 2011</td>\n",
       "      <td>Big Mommas: Like Father, Like Son</td>\n",
       "      <td>32000000.0</td>\n",
       "      <td>37915414.0</td>\n",
       "      <td>82332450.0</td>\n",
       "      <td>50332450.0</td>\n",
       "      <td>157.3</td>\n",
       "      <td>2.6</td>\n",
       "      <td>Big Mommas: Like Father, Like Son</td>\n",
       "      <td>Big Mommas: Like Father, Like Son</td>\n",
       "      <td>2011</td>\n",
       "      <td>107.0</td>\n",
       "      <td>[Action, Comedy, Crime]</td>\n",
       "    </tr>\n",
       "    <tr>\n",
       "      <th>532</th>\n",
       "      <td>66</td>\n",
       "      <td>Dec 19, 2012</td>\n",
       "      <td>Zero Dark Thirty</td>\n",
       "      <td>52500000.0</td>\n",
       "      <td>95720716.0</td>\n",
       "      <td>134612435.0</td>\n",
       "      <td>82112435.0</td>\n",
       "      <td>156.4</td>\n",
       "      <td>2.6</td>\n",
       "      <td>Zero Dark Thirty</td>\n",
       "      <td>Zero Dark Thirty</td>\n",
       "      <td>2012</td>\n",
       "      <td>157.0</td>\n",
       "      <td>[Drama, Thriller]</td>\n",
       "    </tr>\n",
       "    <tr>\n",
       "      <th>535</th>\n",
       "      <td>62</td>\n",
       "      <td>Jan 12, 2018</td>\n",
       "      <td>The Commuter</td>\n",
       "      <td>40000000.0</td>\n",
       "      <td>36343858.0</td>\n",
       "      <td>101985431.0</td>\n",
       "      <td>61985431.0</td>\n",
       "      <td>155.0</td>\n",
       "      <td>2.5</td>\n",
       "      <td>The Commuter</td>\n",
       "      <td>The Commuter</td>\n",
       "      <td>2018</td>\n",
       "      <td>105.0</td>\n",
       "      <td>[Action, Mystery, Thriller]</td>\n",
       "    </tr>\n",
       "    <tr>\n",
       "      <th>536</th>\n",
       "      <td>77</td>\n",
       "      <td>Sep 21, 2012</td>\n",
       "      <td>The Perks of Being a Wallflower</td>\n",
       "      <td>13000000.0</td>\n",
       "      <td>17742948.0</td>\n",
       "      <td>33069303.0</td>\n",
       "      <td>20069303.0</td>\n",
       "      <td>154.4</td>\n",
       "      <td>2.5</td>\n",
       "      <td>The Perks of Being a Wallflower</td>\n",
       "      <td>The Perks of Being a Wallflower</td>\n",
       "      <td>2012</td>\n",
       "      <td>103.0</td>\n",
       "      <td>[Drama]</td>\n",
       "    </tr>\n",
       "    <tr>\n",
       "      <th>537</th>\n",
       "      <td>6</td>\n",
       "      <td>Oct 24, 2014</td>\n",
       "      <td>John Wick</td>\n",
       "      <td>30000000.0</td>\n",
       "      <td>43037835.0</td>\n",
       "      <td>76235001.0</td>\n",
       "      <td>46235001.0</td>\n",
       "      <td>154.1</td>\n",
       "      <td>2.5</td>\n",
       "      <td>John Wick</td>\n",
       "      <td>John Wick</td>\n",
       "      <td>2014</td>\n",
       "      <td>101.0</td>\n",
       "      <td>[Action, Crime, Thriller]</td>\n",
       "    </tr>\n",
       "    <tr>\n",
       "      <th>539</th>\n",
       "      <td>81</td>\n",
       "      <td>Mar 4, 2011</td>\n",
       "      <td>The Adjustment Bureau</td>\n",
       "      <td>50200000.0</td>\n",
       "      <td>62495645.0</td>\n",
       "      <td>126931325.0</td>\n",
       "      <td>76731325.0</td>\n",
       "      <td>152.9</td>\n",
       "      <td>2.5</td>\n",
       "      <td>The Adjustment Bureau</td>\n",
       "      <td>The Adjustment Bureau</td>\n",
       "      <td>2011</td>\n",
       "      <td>106.0</td>\n",
       "      <td>[Romance, Sci-Fi, Thriller]</td>\n",
       "    </tr>\n",
       "    <tr>\n",
       "      <th>540</th>\n",
       "      <td>58</td>\n",
       "      <td>Mar 18, 2011</td>\n",
       "      <td>Paul</td>\n",
       "      <td>40000000.0</td>\n",
       "      <td>37412945.0</td>\n",
       "      <td>101162106.0</td>\n",
       "      <td>61162106.0</td>\n",
       "      <td>152.9</td>\n",
       "      <td>2.5</td>\n",
       "      <td>Paul</td>\n",
       "      <td>Paul</td>\n",
       "      <td>2011</td>\n",
       "      <td>104.0</td>\n",
       "      <td>[Adventure, Comedy, Sci-Fi]</td>\n",
       "    </tr>\n",
       "    <tr>\n",
       "      <th>541</th>\n",
       "      <td>82</td>\n",
       "      <td>Dec 25, 2014</td>\n",
       "      <td>Unbroken</td>\n",
       "      <td>65000000.0</td>\n",
       "      <td>115637895.0</td>\n",
       "      <td>163527824.0</td>\n",
       "      <td>98527824.0</td>\n",
       "      <td>151.6</td>\n",
       "      <td>2.5</td>\n",
       "      <td>Unbroken</td>\n",
       "      <td>Unbroken</td>\n",
       "      <td>2014</td>\n",
       "      <td>137.0</td>\n",
       "      <td>[Biography, Drama, Sport]</td>\n",
       "    </tr>\n",
       "    <tr>\n",
       "      <th>542</th>\n",
       "      <td>8</td>\n",
       "      <td>Dec 29, 2010</td>\n",
       "      <td>Another Year</td>\n",
       "      <td>8000000.0</td>\n",
       "      <td>3205706.0</td>\n",
       "      <td>20005613.0</td>\n",
       "      <td>12005613.0</td>\n",
       "      <td>150.1</td>\n",
       "      <td>2.5</td>\n",
       "      <td>Another Year</td>\n",
       "      <td>Another Year</td>\n",
       "      <td>2010</td>\n",
       "      <td>129.0</td>\n",
       "      <td>[Comedy, Drama]</td>\n",
       "    </tr>\n",
       "    <tr>\n",
       "      <th>543</th>\n",
       "      <td>81</td>\n",
       "      <td>Nov 11, 2016</td>\n",
       "      <td>Almost Christmas</td>\n",
       "      <td>17000000.0</td>\n",
       "      <td>42065185.0</td>\n",
       "      <td>42493506.0</td>\n",
       "      <td>25493506.0</td>\n",
       "      <td>150.0</td>\n",
       "      <td>2.5</td>\n",
       "      <td>Almost Christmas</td>\n",
       "      <td>Almost Christmas</td>\n",
       "      <td>2016</td>\n",
       "      <td>111.0</td>\n",
       "      <td>[Comedy, Drama]</td>\n",
       "    </tr>\n",
       "  </tbody>\n",
       "</table>\n",
       "</div>"
      ],
      "text/plain": [
       "     id  release_date                              movie  production_budget  \\\n",
       "530   1  Feb 18, 2011  Big Mommas: Like Father, Like Son         32000000.0   \n",
       "532  66  Dec 19, 2012                   Zero Dark Thirty         52500000.0   \n",
       "535  62  Jan 12, 2018                       The Commuter         40000000.0   \n",
       "536  77  Sep 21, 2012    The Perks of Being a Wallflower         13000000.0   \n",
       "537   6  Oct 24, 2014                          John Wick         30000000.0   \n",
       "539  81   Mar 4, 2011              The Adjustment Bureau         50200000.0   \n",
       "540  58  Mar 18, 2011                               Paul         40000000.0   \n",
       "541  82  Dec 25, 2014                           Unbroken         65000000.0   \n",
       "542   8  Dec 29, 2010                       Another Year          8000000.0   \n",
       "543  81  Nov 11, 2016                   Almost Christmas         17000000.0   \n",
       "\n",
       "     domestic_gross  worldwide_gross  profit_over_pb  roi_percent  \\\n",
       "530      37915414.0       82332450.0      50332450.0        157.3   \n",
       "532      95720716.0      134612435.0      82112435.0        156.4   \n",
       "535      36343858.0      101985431.0      61985431.0        155.0   \n",
       "536      17742948.0       33069303.0      20069303.0        154.4   \n",
       "537      43037835.0       76235001.0      46235001.0        154.1   \n",
       "539      62495645.0      126931325.0      76731325.0        152.9   \n",
       "540      37412945.0      101162106.0      61162106.0        152.9   \n",
       "541     115637895.0      163527824.0      98527824.0        151.6   \n",
       "542       3205706.0       20005613.0      12005613.0        150.1   \n",
       "543      42065185.0       42493506.0      25493506.0        150.0   \n",
       "\n",
       "     x_times_invest                      primary_title  \\\n",
       "530             2.6  Big Mommas: Like Father, Like Son   \n",
       "532             2.6                   Zero Dark Thirty   \n",
       "535             2.5                       The Commuter   \n",
       "536             2.5    The Perks of Being a Wallflower   \n",
       "537             2.5                          John Wick   \n",
       "539             2.5              The Adjustment Bureau   \n",
       "540             2.5                               Paul   \n",
       "541             2.5                           Unbroken   \n",
       "542             2.5                       Another Year   \n",
       "543             2.5                   Almost Christmas   \n",
       "\n",
       "                        original_title  start_year  runtime_minutes  \\\n",
       "530  Big Mommas: Like Father, Like Son        2011            107.0   \n",
       "532                   Zero Dark Thirty        2012            157.0   \n",
       "535                       The Commuter        2018            105.0   \n",
       "536    The Perks of Being a Wallflower        2012            103.0   \n",
       "537                          John Wick        2014            101.0   \n",
       "539              The Adjustment Bureau        2011            106.0   \n",
       "540                               Paul        2011            104.0   \n",
       "541                           Unbroken        2014            137.0   \n",
       "542                       Another Year        2010            129.0   \n",
       "543                   Almost Christmas        2016            111.0   \n",
       "\n",
       "                          genres  \n",
       "530      [Action, Comedy, Crime]  \n",
       "532            [Drama, Thriller]  \n",
       "535  [Action, Mystery, Thriller]  \n",
       "536                      [Drama]  \n",
       "537    [Action, Crime, Thriller]  \n",
       "539  [Romance, Sci-Fi, Thriller]  \n",
       "540  [Adventure, Comedy, Sci-Fi]  \n",
       "541    [Biography, Drama, Sport]  \n",
       "542              [Comedy, Drama]  \n",
       "543              [Comedy, Drama]  "
      ]
     },
     "execution_count": 379,
     "metadata": {},
     "output_type": "execute_result"
    }
   ],
   "source": [
    "#Onlyrun this code once or the genre lis will be in a list itself\n",
    "#genres is a list of upto 3 genres, splitting it to get the individual genres\n",
    "df_budget_genres['genres'] = df_budget_genres['genres'].astype(str).apply(lambda x: x.split(\",\") if x else x)\n",
    "df_budget_genres.tail(10)"
   ]
  },
  {
   "cell_type": "code",
   "execution_count": 380,
   "metadata": {
    "ExecuteTime": {
     "end_time": "2021-05-04T22:13:21.360816Z",
     "start_time": "2021-05-04T22:13:21.346853Z"
    }
   },
   "outputs": [
    {
     "name": "stdout",
     "output_type": "stream",
     "text": [
      "<class 'pandas.core.frame.DataFrame'>\n",
      "Int64Index: 428 entries, 0 to 543\n",
      "Data columns (total 14 columns):\n",
      " #   Column             Non-Null Count  Dtype  \n",
      "---  ------             --------------  -----  \n",
      " 0   id                 428 non-null    int64  \n",
      " 1   release_date       428 non-null    object \n",
      " 2   movie              428 non-null    object \n",
      " 3   production_budget  428 non-null    float64\n",
      " 4   domestic_gross     428 non-null    float64\n",
      " 5   worldwide_gross    428 non-null    float64\n",
      " 6   profit_over_pb     428 non-null    float64\n",
      " 7   roi_percent        428 non-null    float64\n",
      " 8   x_times_invest     428 non-null    float64\n",
      " 9   primary_title      428 non-null    object \n",
      " 10  original_title     428 non-null    object \n",
      " 11  start_year         428 non-null    int64  \n",
      " 12  runtime_minutes    428 non-null    float64\n",
      " 13  genres             428 non-null    object \n",
      "dtypes: float64(7), int64(2), object(5)\n",
      "memory usage: 50.2+ KB\n"
     ]
    }
   ],
   "source": [
    "df_budget_genres.info()"
   ]
  },
  {
   "cell_type": "code",
   "execution_count": 381,
   "metadata": {
    "ExecuteTime": {
     "end_time": "2021-05-04T22:13:21.376809Z",
     "start_time": "2021-05-04T22:13:21.362811Z"
    }
   },
   "outputs": [],
   "source": [
    "#a set of distinct genres in the df\n",
    "all_genres = set()\n",
    "for genres in df_budget_genres['genres']:\n",
    "    if genres:\n",
    "        all_genres.update(genres)"
   ]
  },
  {
   "cell_type": "code",
   "execution_count": 382,
   "metadata": {
    "ExecuteTime": {
     "end_time": "2021-05-04T22:13:21.392771Z",
     "start_time": "2021-05-04T22:13:21.378768Z"
    }
   },
   "outputs": [
    {
     "data": {
      "text/plain": [
       "{'Action',\n",
       " 'Adventure',\n",
       " 'Animation',\n",
       " 'Biography',\n",
       " 'Comedy',\n",
       " 'Crime',\n",
       " 'Documentary',\n",
       " 'Drama',\n",
       " 'Family',\n",
       " 'Fantasy',\n",
       " 'History',\n",
       " 'Horror',\n",
       " 'Music',\n",
       " 'Musical',\n",
       " 'Mystery',\n",
       " 'Romance',\n",
       " 'Sci-Fi',\n",
       " 'Sport',\n",
       " 'Thriller',\n",
       " 'War',\n",
       " 'Western'}"
      ]
     },
     "execution_count": 382,
     "metadata": {},
     "output_type": "execute_result"
    }
   ],
   "source": [
    "#Listing of all distinct genres \n",
    "all_genres"
   ]
  },
  {
   "cell_type": "code",
   "execution_count": 383,
   "metadata": {
    "ExecuteTime": {
     "end_time": "2021-05-04T22:13:21.439650Z",
     "start_time": "2021-05-04T22:13:21.394725Z"
    }
   },
   "outputs": [
    {
     "data": {
      "text/html": [
       "<div>\n",
       "<style scoped>\n",
       "    .dataframe tbody tr th:only-of-type {\n",
       "        vertical-align: middle;\n",
       "    }\n",
       "\n",
       "    .dataframe tbody tr th {\n",
       "        vertical-align: top;\n",
       "    }\n",
       "\n",
       "    .dataframe thead th {\n",
       "        text-align: right;\n",
       "    }\n",
       "</style>\n",
       "<table border=\"1\" class=\"dataframe\">\n",
       "  <thead>\n",
       "    <tr style=\"text-align: right;\">\n",
       "      <th></th>\n",
       "      <th>id</th>\n",
       "      <th>release_date</th>\n",
       "      <th>movie</th>\n",
       "      <th>production_budget</th>\n",
       "      <th>domestic_gross</th>\n",
       "      <th>worldwide_gross</th>\n",
       "      <th>profit_over_pb</th>\n",
       "      <th>roi_percent</th>\n",
       "      <th>x_times_invest</th>\n",
       "      <th>primary_title</th>\n",
       "      <th>...</th>\n",
       "      <th>War</th>\n",
       "      <th>Sport</th>\n",
       "      <th>Thriller</th>\n",
       "      <th>Animation</th>\n",
       "      <th>Romance</th>\n",
       "      <th>Music</th>\n",
       "      <th>Horror</th>\n",
       "      <th>Western</th>\n",
       "      <th>Musical</th>\n",
       "      <th>Mystery</th>\n",
       "    </tr>\n",
       "  </thead>\n",
       "  <tbody>\n",
       "    <tr>\n",
       "      <th>0</th>\n",
       "      <td>65</td>\n",
       "      <td>Oct 20, 2010</td>\n",
       "      <td>Paranormal Activity 2</td>\n",
       "      <td>3000000.0</td>\n",
       "      <td>84752907.0</td>\n",
       "      <td>177512032.0</td>\n",
       "      <td>174512032.0</td>\n",
       "      <td>5817.1</td>\n",
       "      <td>59.2</td>\n",
       "      <td>Paranormal Activity 2</td>\n",
       "      <td>...</td>\n",
       "      <td>0.0</td>\n",
       "      <td>0.0</td>\n",
       "      <td>0.0</td>\n",
       "      <td>0.0</td>\n",
       "      <td>0.0</td>\n",
       "      <td>0.0</td>\n",
       "      <td>0.0</td>\n",
       "      <td>0.0</td>\n",
       "      <td>0.0</td>\n",
       "      <td>0.0</td>\n",
       "    </tr>\n",
       "    <tr>\n",
       "      <th>2</th>\n",
       "      <td>49</td>\n",
       "      <td>Feb 24, 2017</td>\n",
       "      <td>Get Out</td>\n",
       "      <td>5000000.0</td>\n",
       "      <td>176040665.0</td>\n",
       "      <td>255367951.0</td>\n",
       "      <td>250367951.0</td>\n",
       "      <td>5007.4</td>\n",
       "      <td>51.1</td>\n",
       "      <td>Get Out</td>\n",
       "      <td>...</td>\n",
       "      <td>0.0</td>\n",
       "      <td>0.0</td>\n",
       "      <td>0.0</td>\n",
       "      <td>0.0</td>\n",
       "      <td>0.0</td>\n",
       "      <td>0.0</td>\n",
       "      <td>0.0</td>\n",
       "      <td>0.0</td>\n",
       "      <td>0.0</td>\n",
       "      <td>0.0</td>\n",
       "    </tr>\n",
       "    <tr>\n",
       "      <th>4</th>\n",
       "      <td>51</td>\n",
       "      <td>Oct 21, 2011</td>\n",
       "      <td>Paranormal Activity 3</td>\n",
       "      <td>5000000.0</td>\n",
       "      <td>104028807.0</td>\n",
       "      <td>207039844.0</td>\n",
       "      <td>202039844.0</td>\n",
       "      <td>4040.8</td>\n",
       "      <td>41.4</td>\n",
       "      <td>Paranormal Activity 3</td>\n",
       "      <td>...</td>\n",
       "      <td>0.0</td>\n",
       "      <td>0.0</td>\n",
       "      <td>0.0</td>\n",
       "      <td>0.0</td>\n",
       "      <td>0.0</td>\n",
       "      <td>0.0</td>\n",
       "      <td>0.0</td>\n",
       "      <td>0.0</td>\n",
       "      <td>0.0</td>\n",
       "      <td>0.0</td>\n",
       "    </tr>\n",
       "    <tr>\n",
       "      <th>5</th>\n",
       "      <td>84</td>\n",
       "      <td>Oct 3, 2014</td>\n",
       "      <td>Annabelle</td>\n",
       "      <td>6500000.0</td>\n",
       "      <td>84273813.0</td>\n",
       "      <td>256862920.0</td>\n",
       "      <td>250362920.0</td>\n",
       "      <td>3851.7</td>\n",
       "      <td>39.5</td>\n",
       "      <td>Annabelle</td>\n",
       "      <td>...</td>\n",
       "      <td>0.0</td>\n",
       "      <td>0.0</td>\n",
       "      <td>0.0</td>\n",
       "      <td>0.0</td>\n",
       "      <td>0.0</td>\n",
       "      <td>0.0</td>\n",
       "      <td>0.0</td>\n",
       "      <td>0.0</td>\n",
       "      <td>0.0</td>\n",
       "      <td>0.0</td>\n",
       "    </tr>\n",
       "    <tr>\n",
       "      <th>7</th>\n",
       "      <td>56</td>\n",
       "      <td>Dec 21, 2016</td>\n",
       "      <td>Dangal</td>\n",
       "      <td>9500000.0</td>\n",
       "      <td>12391761.0</td>\n",
       "      <td>294654618.0</td>\n",
       "      <td>285154618.0</td>\n",
       "      <td>3001.6</td>\n",
       "      <td>31.0</td>\n",
       "      <td>Dangal</td>\n",
       "      <td>...</td>\n",
       "      <td>0.0</td>\n",
       "      <td>0.0</td>\n",
       "      <td>0.0</td>\n",
       "      <td>0.0</td>\n",
       "      <td>0.0</td>\n",
       "      <td>0.0</td>\n",
       "      <td>0.0</td>\n",
       "      <td>0.0</td>\n",
       "      <td>0.0</td>\n",
       "      <td>0.0</td>\n",
       "    </tr>\n",
       "  </tbody>\n",
       "</table>\n",
       "<p>5 rows × 35 columns</p>\n",
       "</div>"
      ],
      "text/plain": [
       "   id  release_date                  movie  production_budget  domestic_gross  \\\n",
       "0  65  Oct 20, 2010  Paranormal Activity 2          3000000.0      84752907.0   \n",
       "2  49  Feb 24, 2017                Get Out          5000000.0     176040665.0   \n",
       "4  51  Oct 21, 2011  Paranormal Activity 3          5000000.0     104028807.0   \n",
       "5  84   Oct 3, 2014              Annabelle          6500000.0      84273813.0   \n",
       "7  56  Dec 21, 2016                 Dangal          9500000.0      12391761.0   \n",
       "\n",
       "   worldwide_gross  profit_over_pb  roi_percent  x_times_invest  \\\n",
       "0      177512032.0     174512032.0       5817.1            59.2   \n",
       "2      255367951.0     250367951.0       5007.4            51.1   \n",
       "4      207039844.0     202039844.0       4040.8            41.4   \n",
       "5      256862920.0     250362920.0       3851.7            39.5   \n",
       "7      294654618.0     285154618.0       3001.6            31.0   \n",
       "\n",
       "           primary_title  ...  War  Sport  Thriller Animation  Romance  Music  \\\n",
       "0  Paranormal Activity 2  ...  0.0    0.0       0.0       0.0      0.0    0.0   \n",
       "2                Get Out  ...  0.0    0.0       0.0       0.0      0.0    0.0   \n",
       "4  Paranormal Activity 3  ...  0.0    0.0       0.0       0.0      0.0    0.0   \n",
       "5              Annabelle  ...  0.0    0.0       0.0       0.0      0.0    0.0   \n",
       "7                 Dangal  ...  0.0    0.0       0.0       0.0      0.0    0.0   \n",
       "\n",
       "   Horror  Western  Musical  Mystery  \n",
       "0     0.0      0.0      0.0      0.0  \n",
       "2     0.0      0.0      0.0      0.0  \n",
       "4     0.0      0.0      0.0      0.0  \n",
       "5     0.0      0.0      0.0      0.0  \n",
       "7     0.0      0.0      0.0      0.0  \n",
       "\n",
       "[5 rows x 35 columns]"
      ]
     },
     "execution_count": 383,
     "metadata": {},
     "output_type": "execute_result"
    }
   ],
   "source": [
    "#adding cols with zeros for all the genres we have. Will modify genre to 1 \n",
    "#if the film is of that genre.\n",
    "for genre in all_genres:\n",
    "    df_budget_genres[genre] = np.zeros(shape=df_budget_genres.shape[0])\n",
    "                                \n",
    "df_budget_genres.head()"
   ]
  },
  {
   "cell_type": "code",
   "execution_count": 384,
   "metadata": {
    "ExecuteTime": {
     "end_time": "2021-05-04T22:13:21.804629Z",
     "start_time": "2021-05-04T22:13:21.441600Z"
    }
   },
   "outputs": [
    {
     "data": {
      "text/html": [
       "<div>\n",
       "<style scoped>\n",
       "    .dataframe tbody tr th:only-of-type {\n",
       "        vertical-align: middle;\n",
       "    }\n",
       "\n",
       "    .dataframe tbody tr th {\n",
       "        vertical-align: top;\n",
       "    }\n",
       "\n",
       "    .dataframe thead th {\n",
       "        text-align: right;\n",
       "    }\n",
       "</style>\n",
       "<table border=\"1\" class=\"dataframe\">\n",
       "  <thead>\n",
       "    <tr style=\"text-align: right;\">\n",
       "      <th></th>\n",
       "      <th>id</th>\n",
       "      <th>release_date</th>\n",
       "      <th>movie</th>\n",
       "      <th>production_budget</th>\n",
       "      <th>domestic_gross</th>\n",
       "      <th>worldwide_gross</th>\n",
       "      <th>profit_over_pb</th>\n",
       "      <th>roi_percent</th>\n",
       "      <th>x_times_invest</th>\n",
       "      <th>primary_title</th>\n",
       "      <th>...</th>\n",
       "      <th>War</th>\n",
       "      <th>Sport</th>\n",
       "      <th>Thriller</th>\n",
       "      <th>Animation</th>\n",
       "      <th>Romance</th>\n",
       "      <th>Music</th>\n",
       "      <th>Horror</th>\n",
       "      <th>Western</th>\n",
       "      <th>Musical</th>\n",
       "      <th>Mystery</th>\n",
       "    </tr>\n",
       "  </thead>\n",
       "  <tbody>\n",
       "    <tr>\n",
       "      <th>0</th>\n",
       "      <td>65</td>\n",
       "      <td>Oct 20, 2010</td>\n",
       "      <td>Paranormal Activity 2</td>\n",
       "      <td>3000000.0</td>\n",
       "      <td>84752907.0</td>\n",
       "      <td>177512032.0</td>\n",
       "      <td>174512032.0</td>\n",
       "      <td>5817.1</td>\n",
       "      <td>59.2</td>\n",
       "      <td>Paranormal Activity 2</td>\n",
       "      <td>...</td>\n",
       "      <td>0.0</td>\n",
       "      <td>0.0</td>\n",
       "      <td>0.0</td>\n",
       "      <td>0.0</td>\n",
       "      <td>0.0</td>\n",
       "      <td>0.0</td>\n",
       "      <td>1.0</td>\n",
       "      <td>0.0</td>\n",
       "      <td>0.0</td>\n",
       "      <td>0.0</td>\n",
       "    </tr>\n",
       "    <tr>\n",
       "      <th>2</th>\n",
       "      <td>49</td>\n",
       "      <td>Feb 24, 2017</td>\n",
       "      <td>Get Out</td>\n",
       "      <td>5000000.0</td>\n",
       "      <td>176040665.0</td>\n",
       "      <td>255367951.0</td>\n",
       "      <td>250367951.0</td>\n",
       "      <td>5007.4</td>\n",
       "      <td>51.1</td>\n",
       "      <td>Get Out</td>\n",
       "      <td>...</td>\n",
       "      <td>0.0</td>\n",
       "      <td>0.0</td>\n",
       "      <td>1.0</td>\n",
       "      <td>0.0</td>\n",
       "      <td>0.0</td>\n",
       "      <td>0.0</td>\n",
       "      <td>1.0</td>\n",
       "      <td>0.0</td>\n",
       "      <td>0.0</td>\n",
       "      <td>1.0</td>\n",
       "    </tr>\n",
       "    <tr>\n",
       "      <th>4</th>\n",
       "      <td>51</td>\n",
       "      <td>Oct 21, 2011</td>\n",
       "      <td>Paranormal Activity 3</td>\n",
       "      <td>5000000.0</td>\n",
       "      <td>104028807.0</td>\n",
       "      <td>207039844.0</td>\n",
       "      <td>202039844.0</td>\n",
       "      <td>4040.8</td>\n",
       "      <td>41.4</td>\n",
       "      <td>Paranormal Activity 3</td>\n",
       "      <td>...</td>\n",
       "      <td>0.0</td>\n",
       "      <td>0.0</td>\n",
       "      <td>1.0</td>\n",
       "      <td>0.0</td>\n",
       "      <td>0.0</td>\n",
       "      <td>0.0</td>\n",
       "      <td>1.0</td>\n",
       "      <td>0.0</td>\n",
       "      <td>0.0</td>\n",
       "      <td>1.0</td>\n",
       "    </tr>\n",
       "    <tr>\n",
       "      <th>5</th>\n",
       "      <td>84</td>\n",
       "      <td>Oct 3, 2014</td>\n",
       "      <td>Annabelle</td>\n",
       "      <td>6500000.0</td>\n",
       "      <td>84273813.0</td>\n",
       "      <td>256862920.0</td>\n",
       "      <td>250362920.0</td>\n",
       "      <td>3851.7</td>\n",
       "      <td>39.5</td>\n",
       "      <td>Annabelle</td>\n",
       "      <td>...</td>\n",
       "      <td>0.0</td>\n",
       "      <td>0.0</td>\n",
       "      <td>1.0</td>\n",
       "      <td>0.0</td>\n",
       "      <td>0.0</td>\n",
       "      <td>0.0</td>\n",
       "      <td>1.0</td>\n",
       "      <td>0.0</td>\n",
       "      <td>0.0</td>\n",
       "      <td>1.0</td>\n",
       "    </tr>\n",
       "    <tr>\n",
       "      <th>7</th>\n",
       "      <td>56</td>\n",
       "      <td>Dec 21, 2016</td>\n",
       "      <td>Dangal</td>\n",
       "      <td>9500000.0</td>\n",
       "      <td>12391761.0</td>\n",
       "      <td>294654618.0</td>\n",
       "      <td>285154618.0</td>\n",
       "      <td>3001.6</td>\n",
       "      <td>31.0</td>\n",
       "      <td>Dangal</td>\n",
       "      <td>...</td>\n",
       "      <td>0.0</td>\n",
       "      <td>0.0</td>\n",
       "      <td>0.0</td>\n",
       "      <td>0.0</td>\n",
       "      <td>0.0</td>\n",
       "      <td>0.0</td>\n",
       "      <td>0.0</td>\n",
       "      <td>0.0</td>\n",
       "      <td>0.0</td>\n",
       "      <td>0.0</td>\n",
       "    </tr>\n",
       "  </tbody>\n",
       "</table>\n",
       "<p>5 rows × 35 columns</p>\n",
       "</div>"
      ],
      "text/plain": [
       "   id  release_date                  movie  production_budget  domestic_gross  \\\n",
       "0  65  Oct 20, 2010  Paranormal Activity 2          3000000.0      84752907.0   \n",
       "2  49  Feb 24, 2017                Get Out          5000000.0     176040665.0   \n",
       "4  51  Oct 21, 2011  Paranormal Activity 3          5000000.0     104028807.0   \n",
       "5  84   Oct 3, 2014              Annabelle          6500000.0      84273813.0   \n",
       "7  56  Dec 21, 2016                 Dangal          9500000.0      12391761.0   \n",
       "\n",
       "   worldwide_gross  profit_over_pb  roi_percent  x_times_invest  \\\n",
       "0      177512032.0     174512032.0       5817.1            59.2   \n",
       "2      255367951.0     250367951.0       5007.4            51.1   \n",
       "4      207039844.0     202039844.0       4040.8            41.4   \n",
       "5      256862920.0     250362920.0       3851.7            39.5   \n",
       "7      294654618.0     285154618.0       3001.6            31.0   \n",
       "\n",
       "           primary_title  ...  War  Sport  Thriller Animation  Romance  Music  \\\n",
       "0  Paranormal Activity 2  ...  0.0    0.0       0.0       0.0      0.0    0.0   \n",
       "2                Get Out  ...  0.0    0.0       1.0       0.0      0.0    0.0   \n",
       "4  Paranormal Activity 3  ...  0.0    0.0       1.0       0.0      0.0    0.0   \n",
       "5              Annabelle  ...  0.0    0.0       1.0       0.0      0.0    0.0   \n",
       "7                 Dangal  ...  0.0    0.0       0.0       0.0      0.0    0.0   \n",
       "\n",
       "   Horror  Western  Musical  Mystery  \n",
       "0     1.0      0.0      0.0      0.0  \n",
       "2     1.0      0.0      0.0      1.0  \n",
       "4     1.0      0.0      0.0      1.0  \n",
       "5     1.0      0.0      0.0      1.0  \n",
       "7     0.0      0.0      0.0      0.0  \n",
       "\n",
       "[5 rows x 35 columns]"
      ]
     },
     "execution_count": 384,
     "metadata": {},
     "output_type": "execute_result"
    }
   ],
   "source": [
    "#setting the genre to be 1 if the film is of that genre\n",
    "for index, row in df_budget_genres.iterrows():\n",
    "    if row['genres']:\n",
    "        for genre in row['genres']:\n",
    "            df_budget_genres.loc[index, genre] = 1\n",
    "\n",
    "df_budget_genres.head()"
   ]
  },
  {
   "cell_type": "code",
   "execution_count": 385,
   "metadata": {
    "ExecuteTime": {
     "end_time": "2021-05-04T22:13:21.820586Z",
     "start_time": "2021-05-04T22:13:21.806623Z"
    }
   },
   "outputs": [
    {
     "data": {
      "text/plain": [
       "21"
      ]
     },
     "execution_count": 385,
     "metadata": {},
     "output_type": "execute_result"
    }
   ],
   "source": [
    "len(all_genres)"
   ]
  },
  {
   "cell_type": "code",
   "execution_count": 386,
   "metadata": {
    "ExecuteTime": {
     "end_time": "2021-05-04T22:13:21.852501Z",
     "start_time": "2021-05-04T22:13:21.821583Z"
    },
    "scrolled": true
   },
   "outputs": [
    {
     "name": "stdout",
     "output_type": "stream",
     "text": [
      "Viewing values in col: Documentary\n",
      "Top 5 values:\n",
      "0.0    416\n",
      "1.0     12\n",
      "Name: Documentary, dtype: int64\n",
      "Viewing values in col: Adventure\n",
      "Top 5 values:\n",
      "0.0    384\n",
      "1.0     44\n",
      "Name: Adventure, dtype: int64\n",
      "Viewing values in col: History\n",
      "Top 5 values:\n",
      "0.0    415\n",
      "1.0     13\n",
      "Name: History, dtype: int64\n",
      "Viewing values in col: Crime\n",
      "Top 5 values:\n",
      "0.0    366\n",
      "1.0     62\n",
      "Name: Crime, dtype: int64\n",
      "Viewing values in col: Action\n",
      "Top 5 values:\n",
      "0.0    352\n",
      "1.0     76\n",
      "Name: Action, dtype: int64\n",
      "Viewing values in col: Drama\n",
      "Top 5 values:\n",
      "1.0    228\n",
      "0.0    200\n",
      "Name: Drama, dtype: int64\n",
      "Viewing values in col: Fantasy\n",
      "Top 5 values:\n",
      "0.0    409\n",
      "1.0     19\n",
      "Name: Fantasy, dtype: int64\n",
      "Viewing values in col: Sci-Fi\n",
      "Top 5 values:\n",
      "0.0    402\n",
      "1.0     26\n",
      "Name: Sci-Fi, dtype: int64\n",
      "Viewing values in col: Family\n",
      "Top 5 values:\n",
      "0.0    412\n",
      "1.0     16\n",
      "Name: Family, dtype: int64\n",
      "Viewing values in col: Biography\n",
      "Top 5 values:\n",
      "0.0    376\n",
      "1.0     52\n",
      "Name: Biography, dtype: int64\n",
      "Viewing values in col: Comedy\n",
      "Top 5 values:\n",
      "0.0    264\n",
      "1.0    164\n",
      "Name: Comedy, dtype: int64\n",
      "Viewing values in col: War\n",
      "Top 5 values:\n",
      "0.0    426\n",
      "1.0      2\n",
      "Name: War, dtype: int64\n",
      "Viewing values in col: Sport\n",
      "Top 5 values:\n",
      "0.0    418\n",
      "1.0     10\n",
      "Name: Sport, dtype: int64\n",
      "Viewing values in col: Thriller\n",
      "Top 5 values:\n",
      "0.0    332\n",
      "1.0     96\n",
      "Name: Thriller, dtype: int64\n",
      "Viewing values in col: Animation\n",
      "Top 5 values:\n",
      "0.0    418\n",
      "1.0     10\n",
      "Name: Animation, dtype: int64\n",
      "Viewing values in col: Romance\n",
      "Top 5 values:\n",
      "0.0    357\n",
      "1.0     71\n",
      "Name: Romance, dtype: int64\n",
      "Viewing values in col: Music\n",
      "Top 5 values:\n",
      "0.0    406\n",
      "1.0     22\n",
      "Name: Music, dtype: int64\n",
      "Viewing values in col: Horror\n",
      "Top 5 values:\n",
      "0.0    349\n",
      "1.0     79\n",
      "Name: Horror, dtype: int64\n",
      "Viewing values in col: Western\n",
      "Top 5 values:\n",
      "0.0    427\n",
      "1.0      1\n",
      "Name: Western, dtype: int64\n",
      "Viewing values in col: Musical\n",
      "Top 5 values:\n",
      "0.0    427\n",
      "1.0      1\n",
      "Name: Musical, dtype: int64\n",
      "Viewing values in col: Mystery\n",
      "Top 5 values:\n",
      "0.0    372\n",
      "1.0     56\n",
      "Name: Mystery, dtype: int64\n"
     ]
    }
   ],
   "source": [
    "#checking the counts for all different genres\n",
    "#all_genres\n",
    "for col in all_genres:\n",
    "    print(f'Viewing values in col: {col}')\n",
    "    print(f'Top 5 values:\\n{df_budget_genres[col].value_counts()}')"
   ]
  },
  {
   "cell_type": "code",
   "execution_count": 387,
   "metadata": {
    "ExecuteTime": {
     "end_time": "2021-05-04T22:13:21.868458Z",
     "start_time": "2021-05-04T22:13:21.853498Z"
    }
   },
   "outputs": [],
   "source": [
    "#making a list of all genres\n",
    "cols = list(df_budget_genres.columns)\n",
    "genre_cols = cols[14:]\n",
    "\n",
    "#getting a dict with genre counts\n",
    "genre_count = {}\n",
    "for col in genre_cols:\n",
    "    count = np.sum(df_budget_genres[col] == 1).sum() \n",
    "    genre_count[col] = count"
   ]
  },
  {
   "cell_type": "code",
   "execution_count": 388,
   "metadata": {
    "ExecuteTime": {
     "end_time": "2021-05-04T22:13:21.884415Z",
     "start_time": "2021-05-04T22:13:21.870453Z"
    },
    "scrolled": true
   },
   "outputs": [
    {
     "data": {
      "text/plain": [
       "{'Documentary': 12,\n",
       " 'Adventure': 44,\n",
       " 'History': 13,\n",
       " 'Crime': 62,\n",
       " 'Action': 76,\n",
       " 'Drama': 228,\n",
       " 'Fantasy': 19,\n",
       " 'Sci-Fi': 26,\n",
       " 'Family': 16,\n",
       " 'Biography': 52,\n",
       " 'Comedy': 164,\n",
       " 'War': 2,\n",
       " 'Sport': 10,\n",
       " 'Thriller': 96,\n",
       " 'Animation': 10,\n",
       " 'Romance': 71,\n",
       " 'Music': 22,\n",
       " 'Horror': 79,\n",
       " 'Western': 1,\n",
       " 'Musical': 1,\n",
       " 'Mystery': 56}"
      ]
     },
     "execution_count": 388,
     "metadata": {},
     "output_type": "execute_result"
    }
   ],
   "source": [
    "genre_count"
   ]
  },
  {
   "cell_type": "code",
   "execution_count": 389,
   "metadata": {
    "ExecuteTime": {
     "end_time": "2021-05-04T22:13:21.900372Z",
     "start_time": "2021-05-04T22:13:21.885413Z"
    }
   },
   "outputs": [],
   "source": [
    "keys = list(genre_count.keys())\n",
    "values = list(genre_count.values())"
   ]
  },
  {
   "cell_type": "code",
   "execution_count": 390,
   "metadata": {
    "ExecuteTime": {
     "end_time": "2021-05-04T22:13:22.311274Z",
     "start_time": "2021-05-04T22:13:21.901370Z"
    }
   },
   "outputs": [
    {
     "data": {
      "image/png": "[encoded data removed]",
      "text/plain": [
       "<Figure size 864x288 with 1 Axes>"
      ]
     },
     "metadata": {},
     "output_type": "display_data"
    }
   ],
   "source": [
    "#Histogram of Genres Counts\n",
    "\n",
    "sns.set(style=\"darkgrid\") \n",
    "fig, ax1 = plt.subplots(figsize=(12,4),sharex=True ,sharey=True)\n",
    "\n",
    "histplot = sns.barplot(y = keys, x = values, color = 'skyblue',\n",
    "                       label='Count of Genre Tags')\n",
    "\n",
    "ax1.set_xlabel('Genre Count', fontsize=15)\n",
    "ax1.set_ylabel('Film Genres', fontsize=15)\n",
    "ax1.set_title('Count of All Distinct Genres,All Ratings',fontsize=20)\n",
    "#Set the Average Line\n",
    "\n",
    "ax1.set(xlim = (0,250))\n",
    "\n",
    "ax1.legend(loc='upper right')\n",
    "plt.show();\n"
   ]
  },
  {
   "cell_type": "markdown",
   "metadata": {},
   "source": [
    "The 6 most popular genres are Drama, Comedy, Thriller, Horror, Action and Romance."
   ]
  },
  {
   "cell_type": "markdown",
   "metadata": {},
   "source": [
    "Grouping by genres to look at sum, mean and max related to worldwide gross \n",
    "and roi_percent."
   ]
  },
  {
   "cell_type": "code",
   "execution_count": 391,
   "metadata": {
    "ExecuteTime": {
     "end_time": "2021-05-04T22:13:22.374105Z",
     "start_time": "2021-05-04T22:13:22.313268Z"
    }
   },
   "outputs": [],
   "source": [
    "#Total Gross by Genre\n",
    "ww_gross = {}\n",
    "for genre in all_genres:\n",
    "    grouped = df_budget_genres.groupby(by =''.join(genre)).sum()\n",
    "    ww_gross[genre] = grouped.iloc[1]['worldwide_gross']"
   ]
  },
  {
   "cell_type": "code",
   "execution_count": 392,
   "metadata": {
    "ExecuteTime": {
     "end_time": "2021-05-04T22:13:22.437934Z",
     "start_time": "2021-05-04T22:13:22.376100Z"
    }
   },
   "outputs": [],
   "source": [
    "#Average Gross by Genre\n",
    "ww_gross_avg = {}\n",
    "for genre in all_genres:\n",
    "    grouped = df_budget_genres.groupby(by =''.join(genre)).mean()\n",
    "    ww_gross_avg[genre] = grouped.iloc[1]['worldwide_gross']"
   ]
  },
  {
   "cell_type": "code",
   "execution_count": 393,
   "metadata": {
    "ExecuteTime": {
     "end_time": "2021-05-04T22:13:22.850830Z",
     "start_time": "2021-05-04T22:13:22.438932Z"
    }
   },
   "outputs": [],
   "source": [
    "#Max Roi% by Genre\n",
    "max_roi_genre = {}\n",
    "for genre in all_genres:\n",
    "    grouped = df_budget_genres.groupby(by =''.join(genre)).max()\n",
    "    max_roi_genre[genre] = grouped.iloc[1]['roi_percent']"
   ]
  },
  {
   "cell_type": "code",
   "execution_count": 394,
   "metadata": {
    "ExecuteTime": {
     "end_time": "2021-05-04T22:13:22.914659Z",
     "start_time": "2021-05-04T22:13:22.852825Z"
    }
   },
   "outputs": [],
   "source": [
    "#Average Roi% by Genre\n",
    "avg_roi_genre = {}\n",
    "for genre in all_genres:\n",
    "    grouped = df_budget_genres.groupby(by =''.join(genre)).mean()\n",
    "    avg_roi_genre[genre] = grouped.iloc[1]['roi_percent']"
   ]
  },
  {
   "cell_type": "code",
   "execution_count": 395,
   "metadata": {
    "ExecuteTime": {
     "end_time": "2021-05-04T22:13:22.978489Z",
     "start_time": "2021-05-04T22:13:22.916654Z"
    }
   },
   "outputs": [],
   "source": [
    "#Average Prod Budget by Genre\n",
    "avg_prod_budget = {}\n",
    "for genre in all_genres:\n",
    "    grouped = df_budget_genres.groupby(by =''.join(genre)).mean()\n",
    "    avg_prod_budget[genre] = grouped.iloc[1]['production_budget']"
   ]
  },
  {
   "cell_type": "code",
   "execution_count": 396,
   "metadata": {
    "ExecuteTime": {
     "end_time": "2021-05-04T22:13:23.374465Z",
     "start_time": "2021-05-04T22:13:22.980484Z"
    }
   },
   "outputs": [],
   "source": [
    "#Min Prod Budget by Genre\n",
    "min_prod_budget = {}\n",
    "for genre in all_genres:\n",
    "    grouped = df_budget_genres.groupby(by =''.join(genre)).min()\n",
    "    min_prod_budget[genre] = grouped.iloc[1]['production_budget']"
   ]
  },
  {
   "cell_type": "code",
   "execution_count": 397,
   "metadata": {
    "ExecuteTime": {
     "end_time": "2021-05-04T22:13:23.390432Z",
     "start_time": "2021-05-04T22:13:23.376424Z"
    }
   },
   "outputs": [
    {
     "data": {
      "text/plain": [
       "{'Documentary': 61298916.916666664,\n",
       " 'Adventure': 162563478.88636363,\n",
       " 'History': 152316510.76923078,\n",
       " 'Crime': 122348923.75806452,\n",
       " 'Action': 166454629.31578946,\n",
       " 'Drama': 116104601.25438596,\n",
       " 'Fantasy': 103467528.4736842,\n",
       " 'Sci-Fi': 149113348.15384614,\n",
       " 'Family': 117984713.4375,\n",
       " 'Biography': 147391950.3653846,\n",
       " 'Comedy': 123180125.51829268,\n",
       " 'War': 109060110.0,\n",
       " 'Sport': 106054711.0,\n",
       " 'Thriller': 138370908.53125,\n",
       " 'Animation': 238795442.3,\n",
       " 'Romance': 120397643.92957747,\n",
       " 'Music': 145486606.3181818,\n",
       " 'Horror': 109805546.06329113,\n",
       " 'Western': 252276928.0,\n",
       " 'Musical': 50827466.0,\n",
       " 'Mystery': 121582196.875}"
      ]
     },
     "execution_count": 397,
     "metadata": {},
     "output_type": "execute_result"
    }
   ],
   "source": [
    "ww_gross_avg"
   ]
  },
  {
   "cell_type": "code",
   "execution_count": 398,
   "metadata": {
    "ExecuteTime": {
     "end_time": "2021-05-04T22:13:23.406389Z",
     "start_time": "2021-05-04T22:13:23.392382Z"
    }
   },
   "outputs": [
    {
     "data": {
      "text/plain": [
       "{'Documentary': 735587003.0,\n",
       " 'Adventure': 7152793071.0,\n",
       " 'History': 1980114640.0,\n",
       " 'Crime': 7585633273.0,\n",
       " 'Action': 12650551828.0,\n",
       " 'Drama': 26471849086.0,\n",
       " 'Fantasy': 1965883041.0,\n",
       " 'Sci-Fi': 3876947052.0,\n",
       " 'Family': 1887755415.0,\n",
       " 'Biography': 7664381419.0,\n",
       " 'Comedy': 20201540585.0,\n",
       " 'War': 218120220.0,\n",
       " 'Sport': 1060547110.0,\n",
       " 'Thriller': 13283607219.0,\n",
       " 'Animation': 2387954423.0,\n",
       " 'Romance': 8548232719.0,\n",
       " 'Music': 3200705339.0,\n",
       " 'Horror': 8674638139.0,\n",
       " 'Western': 252276928.0,\n",
       " 'Musical': 50827466.0,\n",
       " 'Mystery': 6808603025.0}"
      ]
     },
     "execution_count": 398,
     "metadata": {},
     "output_type": "execute_result"
    }
   ],
   "source": [
    "ww_gross"
   ]
  },
  {
   "cell_type": "code",
   "execution_count": 399,
   "metadata": {
    "ExecuteTime": {
     "end_time": "2021-05-04T22:13:23.422347Z",
     "start_time": "2021-05-04T22:13:23.408339Z"
    }
   },
   "outputs": [
    {
     "data": {
      "text/plain": [
       "{'Documentary': 2876.1,\n",
       " 'Adventure': 1281.1,\n",
       " 'History': 827.1,\n",
       " 'Crime': 1234.9,\n",
       " 'Action': 3001.6,\n",
       " 'Drama': 3001.6,\n",
       " 'Fantasy': 2296.9,\n",
       " 'Sci-Fi': 1867.8,\n",
       " 'Family': 1423.0,\n",
       " 'Biography': 3001.6,\n",
       " 'Comedy': 2617.9,\n",
       " 'War': 468.1,\n",
       " 'Sport': 1075.1,\n",
       " 'Thriller': 5007.4,\n",
       " 'Animation': 710.9,\n",
       " 'Romance': 2617.9,\n",
       " 'Music': 2031.8,\n",
       " 'Horror': 5817.1,\n",
       " 'Western': 620.8,\n",
       " 'Musical': 512.4,\n",
       " 'Mystery': 5007.4}"
      ]
     },
     "execution_count": 399,
     "metadata": {},
     "output_type": "execute_result"
    }
   ],
   "source": [
    "max_roi_genre"
   ]
  },
  {
   "cell_type": "code",
   "execution_count": 400,
   "metadata": {
    "ExecuteTime": {
     "end_time": "2021-05-04T22:13:23.438296Z",
     "start_time": "2021-05-04T22:13:23.424297Z"
    }
   },
   "outputs": [
    {
     "data": {
      "text/plain": [
       "{'Documentary': 625.5666666666666,\n",
       " 'Adventure': 375.74090909090904,\n",
       " 'History': 436.8076923076923,\n",
       " 'Crime': 336.148387096774,\n",
       " 'Action': 441.0249999999998,\n",
       " 'Drama': 554.131140350877,\n",
       " 'Fantasy': 598.884210526316,\n",
       " 'Sci-Fi': 603.6384615384616,\n",
       " 'Family': 420.64375,\n",
       " 'Biography': 549.0634615384616,\n",
       " 'Comedy': 458.09085365853673,\n",
       " 'War': 384.3,\n",
       " 'Sport': 361.71,\n",
       " 'Thriller': 821.5989583333327,\n",
       " 'Animation': 412.9200000000001,\n",
       " 'Romance': 515.9394366197183,\n",
       " 'Music': 549.4454545454547,\n",
       " 'Horror': 1035.9037974683538,\n",
       " 'Western': 620.8,\n",
       " 'Musical': 512.4,\n",
       " 'Mystery': 1009.175}"
      ]
     },
     "execution_count": 400,
     "metadata": {},
     "output_type": "execute_result"
    }
   ],
   "source": [
    "avg_roi_genre"
   ]
  },
  {
   "cell_type": "code",
   "execution_count": 401,
   "metadata": {
    "ExecuteTime": {
     "end_time": "2021-05-04T22:13:25.905698Z",
     "start_time": "2021-05-04T22:13:23.440254Z"
    }
   },
   "outputs": [
    {
     "data": {
      "image/png": "[encoded data removed]",
      "text/plain": [
       "<Figure size 720x1008 with 6 Axes>"
      ]
     },
     "metadata": {},
     "output_type": "display_data"
    }
   ],
   "source": [
    "#Genre Grid \n",
    "#This graph of subplots could be refactored to a function and could be reused \n",
    "sns.set(style=\"darkgrid\") \n",
    "fig, ((ax1, ax2), (ax3, ax4), (ax5, ax6)) = plt.subplots(figsize=(10,14),\n",
    "                                                 nrows=3,ncols=2, )\n",
    "\n",
    "df_items1 = pd.DataFrame(ww_gross.items())\n",
    "barplot = sns.barplot(data=df_items1, x=1, y=0,ax=ax1, color = 'skyblue',)\n",
    "ax1.set(xlabel = 'Worldwide Gross in Billions ',\n",
    "        ylabel='Genre', title='Total Gross per Genre');\n",
    "ax1.set_ylabel('Film Genres', fontsize=15)\n",
    "ax1.set_title('Total Gross per Genre',fontsize=15)\n",
    "# fixing xticks warning with matplotlib.ticker \"FixedLocator\"\n",
    "ticks_loc = ax1.get_xticks().tolist()\n",
    "ax1.xaxis.set_major_locator(mticker.FixedLocator(ticks_loc))\n",
    "ax1.set_xticklabels(['{:,.1f}'.format(x/1000000000) + 'B' for x in ticks_loc])\n",
    "\n",
    "\n",
    "df_items2 = pd.DataFrame(ww_gross_avg.items())\n",
    "ax2 = sns.barplot(data=df_items2, x=1, y=0,ax=ax2,color = 'skyblue')\n",
    "ax2.set(xlabel = 'Worldwide Gross in Millions ', ylabel='Genre',\n",
    "        title='Average Gross per Genre');\n",
    "\n",
    "ax2.set_ylabel('Film Genres', fontsize=15)\n",
    "ax2.set_title('Average Gross per Genre',fontsize=15)\n",
    "# fixing xticks warning with matplotlib.ticker \"FixedLocator\"\n",
    "ticks_loc = ax2.get_xticks().tolist()\n",
    "ax2.xaxis.set_major_locator(mticker.FixedLocator(ticks_loc))\n",
    "ax2.set_xticklabels(['{:,.0f}'.format(x/1000000) + 'M' for x in ticks_loc])\n",
    "\n",
    "\n",
    "df_items3 = pd.DataFrame(max_roi_genre.items())\n",
    "ax3 = sns.barplot(data=df_items3, x=1, y=0, ax=ax3,color = 'skyblue')\n",
    "ax3.set(xlabel = '% ROI', ylabel='Film Genre', title='Max Roi Percent per Genre');\n",
    "ax3.set_ylabel('Film Genres', fontsize=15)\n",
    "ax3.set_title('Max Roi Percent per Genre',fontsize=15)\n",
    "\n",
    "df_items4 = pd.DataFrame(avg_roi_genre.items())\n",
    "ax4 = sns.barplot(data=df_items4, x=1, y=0, ax=ax4, color = 'skyblue')\n",
    "ax4.set(xlabel = '% ROI', ylabel='Film Genre', title='Avg Roi Percent per Genre');\n",
    "ax4.set_ylabel('Film Genres', fontsize=15)\n",
    "ax4.set_title('Avg Roi Percent per Genre',fontsize=15)\n",
    "# Save just the portion _inside_ the second axis's boundaries\n",
    "extent = ax4.get_window_extent().transformed(fig.dpi_scale_trans.inverted())\n",
    "\n",
    "# Pad the saved area by 10% in the x-direction and 20% in the y-direction\n",
    "fig.savefig('./images/ax4_genre.png', bbox_inches=extent.expanded(1.1, 1.2))\n",
    "\n",
    "\n",
    "df_items5 = pd.DataFrame(min_prod_budget.items())\n",
    "ax5 = sns.barplot(data=df_items5, x=1, y=0, ax=ax5, color = 'skyblue')\n",
    "ax5.set(xlabel = 'Production Budget in Millions', ylabel='Genre', title='Min Production per Genre')\n",
    "ax5.set_ylabel('Film Genres', fontsize=15)\n",
    "ax5.set_title('Min Production per Genre',fontsize=15)\n",
    "# fixing xticks warning with matplotlib.ticker \"FixedLocator\"\n",
    "ticks_loc = ax5.get_xticks().tolist()\n",
    "ax5.xaxis.set_major_locator(mticker.FixedLocator(ticks_loc))\n",
    "ax5.set_xticklabels(['{:,.2f}'.format(x/1000000) + 'M' for x in ticks_loc])\n",
    "\n",
    "\n",
    "df_items6 = pd.DataFrame(avg_prod_budget.items())\n",
    "ax6 = sns.barplot(data=df_items6, x=1, y=0, ax=ax6, color = 'skyblue')\n",
    "ax6.set(xlabel = 'Production Budget in Millions', ylabel='Genre', title='Avg Production per Genre')\n",
    "ax6.set_ylabel('Film Genres', fontsize=15)\n",
    "ax6.set_title('Avg Production per Genre',fontsize=15)\n",
    "# fixing xticks warning with matplotlib.ticker \"FixedLocator\"\n",
    "ticks_loc = ax6.get_xticks().tolist()\n",
    "ax6.xaxis.set_major_locator(mticker.FixedLocator(ticks_loc))\n",
    "ax6.set_xticklabels(['{:,.2f}'.format(x/1000000) + 'M' for x in ticks_loc])\n",
    "\n",
    "plt.subplots_adjust(wspace=0.8,hspace=.4)\n",
    "plt.show();\n"
   ]
  },
  {
   "cell_type": "code",
   "execution_count": 402,
   "metadata": {
    "ExecuteTime": {
     "end_time": "2021-05-04T22:13:25.921659Z",
     "start_time": "2021-05-04T22:13:25.906656Z"
    }
   },
   "outputs": [],
   "source": [
    "#Observations---Horror Mystery Thriller are top3 Average Return on budget.  Thriller is one of the top 3 in count"
   ]
  },
  {
   "cell_type": "code",
   "execution_count": null,
   "metadata": {},
   "outputs": [],
   "source": []
  },
  {
   "cell_type": "code",
   "execution_count": 403,
   "metadata": {
    "ExecuteTime": {
     "end_time": "2021-05-04T22:13:26.407317Z",
     "start_time": "2021-05-04T22:13:25.923611Z"
    }
   },
   "outputs": [
    {
     "data": {
      "image/png": "[encoded data removed]",
      "text/plain": [
       "<Figure size 432x432 with 1 Axes>"
      ]
     },
     "metadata": {},
     "output_type": "display_data"
    }
   ],
   "source": [
    "#This graph of subplots could be refactored to a function and could be reused \n",
    "sns.set(style=\"darkgrid\") \n",
    "fig, ax4 = plt.subplots(figsize=(6,6),\n",
    "                                                 nrows=1,ncols=1, )\n",
    "df_items4 = pd.DataFrame(avg_roi_genre.items())\n",
    "ax4 = sns.barplot(data=df_items4, x=1, y=0, ax=ax4, color = 'skyblue')\n",
    "ax4.set(xlabel = '% ROI', ylabel='Film Genre', title='Avg Roi Percent per Genre');\n",
    "ax4.set_ylabel('Film Genres', fontsize=15)\n",
    "ax4.set_title('Avg Roi Percent per Genre',fontsize=15)\n",
    "# Save just the portion _inside_ the second axis's boundaries\n",
    "extent = ax4.get_window_extent().transformed(fig.dpi_scale_trans.inverted())\n",
    "\n",
    "# Pad the saved area by 10% in the x-direction and 20% in the y-direction\n",
    "fig.savefig('./images/ax4_genre.png', bbox_inches=extent.expanded(1.1, 1.2))\n"
   ]
  },
  {
   "cell_type": "code",
   "execution_count": null,
   "metadata": {},
   "outputs": [],
   "source": []
  },
  {
   "cell_type": "code",
   "execution_count": null,
   "metadata": {},
   "outputs": [],
   "source": []
  },
  {
   "cell_type": "markdown",
   "metadata": {},
   "source": [
    "__Conclusion:__ Higher returns are with the Horror, Mystery, and Thriller genres."
   ]
  },
  {
   "cell_type": "markdown",
   "metadata": {},
   "source": [
    "#### How does MPAA Rating correlate?"
   ]
  },
  {
   "cell_type": "code",
   "execution_count": 404,
   "metadata": {
    "ExecuteTime": {
     "end_time": "2021-05-04T22:13:26.453194Z",
     "start_time": "2021-05-04T22:13:26.409312Z"
    }
   },
   "outputs": [
    {
     "data": {
      "text/html": [
       "<div>\n",
       "<style scoped>\n",
       "    .dataframe tbody tr th:only-of-type {\n",
       "        vertical-align: middle;\n",
       "    }\n",
       "\n",
       "    .dataframe tbody tr th {\n",
       "        vertical-align: top;\n",
       "    }\n",
       "\n",
       "    .dataframe thead th {\n",
       "        text-align: right;\n",
       "    }\n",
       "</style>\n",
       "<table border=\"1\" class=\"dataframe\">\n",
       "  <thead>\n",
       "    <tr style=\"text-align: right;\">\n",
       "      <th></th>\n",
       "      <th>id</th>\n",
       "      <th>release_date</th>\n",
       "      <th>movie</th>\n",
       "      <th>production_budget</th>\n",
       "      <th>domestic_gross</th>\n",
       "      <th>worldwide_gross</th>\n",
       "      <th>profit_over_pb</th>\n",
       "      <th>roi_percent</th>\n",
       "      <th>x_times_invest</th>\n",
       "      <th>primary_title</th>\n",
       "      <th>...</th>\n",
       "      <th>War</th>\n",
       "      <th>Sport</th>\n",
       "      <th>Thriller</th>\n",
       "      <th>Animation</th>\n",
       "      <th>Romance</th>\n",
       "      <th>Music</th>\n",
       "      <th>Horror</th>\n",
       "      <th>Western</th>\n",
       "      <th>Musical</th>\n",
       "      <th>Mystery</th>\n",
       "    </tr>\n",
       "  </thead>\n",
       "  <tbody>\n",
       "    <tr>\n",
       "      <th>0</th>\n",
       "      <td>65</td>\n",
       "      <td>Oct 20, 2010</td>\n",
       "      <td>Paranormal Activity 2</td>\n",
       "      <td>3000000.0</td>\n",
       "      <td>84752907.0</td>\n",
       "      <td>177512032.0</td>\n",
       "      <td>174512032.0</td>\n",
       "      <td>5817.1</td>\n",
       "      <td>59.2</td>\n",
       "      <td>Paranormal Activity 2</td>\n",
       "      <td>...</td>\n",
       "      <td>0.0</td>\n",
       "      <td>0.0</td>\n",
       "      <td>0.0</td>\n",
       "      <td>0.0</td>\n",
       "      <td>0.0</td>\n",
       "      <td>0.0</td>\n",
       "      <td>1.0</td>\n",
       "      <td>0.0</td>\n",
       "      <td>0.0</td>\n",
       "      <td>0.0</td>\n",
       "    </tr>\n",
       "    <tr>\n",
       "      <th>2</th>\n",
       "      <td>49</td>\n",
       "      <td>Feb 24, 2017</td>\n",
       "      <td>Get Out</td>\n",
       "      <td>5000000.0</td>\n",
       "      <td>176040665.0</td>\n",
       "      <td>255367951.0</td>\n",
       "      <td>250367951.0</td>\n",
       "      <td>5007.4</td>\n",
       "      <td>51.1</td>\n",
       "      <td>Get Out</td>\n",
       "      <td>...</td>\n",
       "      <td>0.0</td>\n",
       "      <td>0.0</td>\n",
       "      <td>1.0</td>\n",
       "      <td>0.0</td>\n",
       "      <td>0.0</td>\n",
       "      <td>0.0</td>\n",
       "      <td>1.0</td>\n",
       "      <td>0.0</td>\n",
       "      <td>0.0</td>\n",
       "      <td>1.0</td>\n",
       "    </tr>\n",
       "    <tr>\n",
       "      <th>4</th>\n",
       "      <td>51</td>\n",
       "      <td>Oct 21, 2011</td>\n",
       "      <td>Paranormal Activity 3</td>\n",
       "      <td>5000000.0</td>\n",
       "      <td>104028807.0</td>\n",
       "      <td>207039844.0</td>\n",
       "      <td>202039844.0</td>\n",
       "      <td>4040.8</td>\n",
       "      <td>41.4</td>\n",
       "      <td>Paranormal Activity 3</td>\n",
       "      <td>...</td>\n",
       "      <td>0.0</td>\n",
       "      <td>0.0</td>\n",
       "      <td>1.0</td>\n",
       "      <td>0.0</td>\n",
       "      <td>0.0</td>\n",
       "      <td>0.0</td>\n",
       "      <td>1.0</td>\n",
       "      <td>0.0</td>\n",
       "      <td>0.0</td>\n",
       "      <td>1.0</td>\n",
       "    </tr>\n",
       "    <tr>\n",
       "      <th>5</th>\n",
       "      <td>84</td>\n",
       "      <td>Oct 3, 2014</td>\n",
       "      <td>Annabelle</td>\n",
       "      <td>6500000.0</td>\n",
       "      <td>84273813.0</td>\n",
       "      <td>256862920.0</td>\n",
       "      <td>250362920.0</td>\n",
       "      <td>3851.7</td>\n",
       "      <td>39.5</td>\n",
       "      <td>Annabelle</td>\n",
       "      <td>...</td>\n",
       "      <td>0.0</td>\n",
       "      <td>0.0</td>\n",
       "      <td>1.0</td>\n",
       "      <td>0.0</td>\n",
       "      <td>0.0</td>\n",
       "      <td>0.0</td>\n",
       "      <td>1.0</td>\n",
       "      <td>0.0</td>\n",
       "      <td>0.0</td>\n",
       "      <td>1.0</td>\n",
       "    </tr>\n",
       "    <tr>\n",
       "      <th>7</th>\n",
       "      <td>56</td>\n",
       "      <td>Dec 21, 2016</td>\n",
       "      <td>Dangal</td>\n",
       "      <td>9500000.0</td>\n",
       "      <td>12391761.0</td>\n",
       "      <td>294654618.0</td>\n",
       "      <td>285154618.0</td>\n",
       "      <td>3001.6</td>\n",
       "      <td>31.0</td>\n",
       "      <td>Dangal</td>\n",
       "      <td>...</td>\n",
       "      <td>0.0</td>\n",
       "      <td>0.0</td>\n",
       "      <td>0.0</td>\n",
       "      <td>0.0</td>\n",
       "      <td>0.0</td>\n",
       "      <td>0.0</td>\n",
       "      <td>0.0</td>\n",
       "      <td>0.0</td>\n",
       "      <td>0.0</td>\n",
       "      <td>0.0</td>\n",
       "    </tr>\n",
       "    <tr>\n",
       "      <th>...</th>\n",
       "      <td>...</td>\n",
       "      <td>...</td>\n",
       "      <td>...</td>\n",
       "      <td>...</td>\n",
       "      <td>...</td>\n",
       "      <td>...</td>\n",
       "      <td>...</td>\n",
       "      <td>...</td>\n",
       "      <td>...</td>\n",
       "      <td>...</td>\n",
       "      <td>...</td>\n",
       "      <td>...</td>\n",
       "      <td>...</td>\n",
       "      <td>...</td>\n",
       "      <td>...</td>\n",
       "      <td>...</td>\n",
       "      <td>...</td>\n",
       "      <td>...</td>\n",
       "      <td>...</td>\n",
       "      <td>...</td>\n",
       "      <td>...</td>\n",
       "    </tr>\n",
       "    <tr>\n",
       "      <th>539</th>\n",
       "      <td>81</td>\n",
       "      <td>Mar 4, 2011</td>\n",
       "      <td>The Adjustment Bureau</td>\n",
       "      <td>50200000.0</td>\n",
       "      <td>62495645.0</td>\n",
       "      <td>126931325.0</td>\n",
       "      <td>76731325.0</td>\n",
       "      <td>152.9</td>\n",
       "      <td>2.5</td>\n",
       "      <td>The Adjustment Bureau</td>\n",
       "      <td>...</td>\n",
       "      <td>0.0</td>\n",
       "      <td>0.0</td>\n",
       "      <td>1.0</td>\n",
       "      <td>0.0</td>\n",
       "      <td>1.0</td>\n",
       "      <td>0.0</td>\n",
       "      <td>0.0</td>\n",
       "      <td>0.0</td>\n",
       "      <td>0.0</td>\n",
       "      <td>0.0</td>\n",
       "    </tr>\n",
       "    <tr>\n",
       "      <th>540</th>\n",
       "      <td>58</td>\n",
       "      <td>Mar 18, 2011</td>\n",
       "      <td>Paul</td>\n",
       "      <td>40000000.0</td>\n",
       "      <td>37412945.0</td>\n",
       "      <td>101162106.0</td>\n",
       "      <td>61162106.0</td>\n",
       "      <td>152.9</td>\n",
       "      <td>2.5</td>\n",
       "      <td>Paul</td>\n",
       "      <td>...</td>\n",
       "      <td>0.0</td>\n",
       "      <td>0.0</td>\n",
       "      <td>0.0</td>\n",
       "      <td>0.0</td>\n",
       "      <td>0.0</td>\n",
       "      <td>0.0</td>\n",
       "      <td>0.0</td>\n",
       "      <td>0.0</td>\n",
       "      <td>0.0</td>\n",
       "      <td>0.0</td>\n",
       "    </tr>\n",
       "    <tr>\n",
       "      <th>541</th>\n",
       "      <td>82</td>\n",
       "      <td>Dec 25, 2014</td>\n",
       "      <td>Unbroken</td>\n",
       "      <td>65000000.0</td>\n",
       "      <td>115637895.0</td>\n",
       "      <td>163527824.0</td>\n",
       "      <td>98527824.0</td>\n",
       "      <td>151.6</td>\n",
       "      <td>2.5</td>\n",
       "      <td>Unbroken</td>\n",
       "      <td>...</td>\n",
       "      <td>0.0</td>\n",
       "      <td>1.0</td>\n",
       "      <td>0.0</td>\n",
       "      <td>0.0</td>\n",
       "      <td>0.0</td>\n",
       "      <td>0.0</td>\n",
       "      <td>0.0</td>\n",
       "      <td>0.0</td>\n",
       "      <td>0.0</td>\n",
       "      <td>0.0</td>\n",
       "    </tr>\n",
       "    <tr>\n",
       "      <th>542</th>\n",
       "      <td>8</td>\n",
       "      <td>Dec 29, 2010</td>\n",
       "      <td>Another Year</td>\n",
       "      <td>8000000.0</td>\n",
       "      <td>3205706.0</td>\n",
       "      <td>20005613.0</td>\n",
       "      <td>12005613.0</td>\n",
       "      <td>150.1</td>\n",
       "      <td>2.5</td>\n",
       "      <td>Another Year</td>\n",
       "      <td>...</td>\n",
       "      <td>0.0</td>\n",
       "      <td>0.0</td>\n",
       "      <td>0.0</td>\n",
       "      <td>0.0</td>\n",
       "      <td>0.0</td>\n",
       "      <td>0.0</td>\n",
       "      <td>0.0</td>\n",
       "      <td>0.0</td>\n",
       "      <td>0.0</td>\n",
       "      <td>0.0</td>\n",
       "    </tr>\n",
       "    <tr>\n",
       "      <th>543</th>\n",
       "      <td>81</td>\n",
       "      <td>Nov 11, 2016</td>\n",
       "      <td>Almost Christmas</td>\n",
       "      <td>17000000.0</td>\n",
       "      <td>42065185.0</td>\n",
       "      <td>42493506.0</td>\n",
       "      <td>25493506.0</td>\n",
       "      <td>150.0</td>\n",
       "      <td>2.5</td>\n",
       "      <td>Almost Christmas</td>\n",
       "      <td>...</td>\n",
       "      <td>0.0</td>\n",
       "      <td>0.0</td>\n",
       "      <td>0.0</td>\n",
       "      <td>0.0</td>\n",
       "      <td>0.0</td>\n",
       "      <td>0.0</td>\n",
       "      <td>0.0</td>\n",
       "      <td>0.0</td>\n",
       "      <td>0.0</td>\n",
       "      <td>0.0</td>\n",
       "    </tr>\n",
       "  </tbody>\n",
       "</table>\n",
       "<p>428 rows × 35 columns</p>\n",
       "</div>"
      ],
      "text/plain": [
       "     id  release_date                  movie  production_budget  \\\n",
       "0    65  Oct 20, 2010  Paranormal Activity 2          3000000.0   \n",
       "2    49  Feb 24, 2017                Get Out          5000000.0   \n",
       "4    51  Oct 21, 2011  Paranormal Activity 3          5000000.0   \n",
       "5    84   Oct 3, 2014              Annabelle          6500000.0   \n",
       "7    56  Dec 21, 2016                 Dangal          9500000.0   \n",
       "..   ..           ...                    ...                ...   \n",
       "539  81   Mar 4, 2011  The Adjustment Bureau         50200000.0   \n",
       "540  58  Mar 18, 2011                   Paul         40000000.0   \n",
       "541  82  Dec 25, 2014               Unbroken         65000000.0   \n",
       "542   8  Dec 29, 2010           Another Year          8000000.0   \n",
       "543  81  Nov 11, 2016       Almost Christmas         17000000.0   \n",
       "\n",
       "     domestic_gross  worldwide_gross  profit_over_pb  roi_percent  \\\n",
       "0        84752907.0      177512032.0     174512032.0       5817.1   \n",
       "2       176040665.0      255367951.0     250367951.0       5007.4   \n",
       "4       104028807.0      207039844.0     202039844.0       4040.8   \n",
       "5        84273813.0      256862920.0     250362920.0       3851.7   \n",
       "7        12391761.0      294654618.0     285154618.0       3001.6   \n",
       "..              ...              ...             ...          ...   \n",
       "539      62495645.0      126931325.0      76731325.0        152.9   \n",
       "540      37412945.0      101162106.0      61162106.0        152.9   \n",
       "541     115637895.0      163527824.0      98527824.0        151.6   \n",
       "542       3205706.0       20005613.0      12005613.0        150.1   \n",
       "543      42065185.0       42493506.0      25493506.0        150.0   \n",
       "\n",
       "     x_times_invest          primary_title  ...  War  Sport  Thriller  \\\n",
       "0              59.2  Paranormal Activity 2  ...  0.0    0.0       0.0   \n",
       "2              51.1                Get Out  ...  0.0    0.0       1.0   \n",
       "4              41.4  Paranormal Activity 3  ...  0.0    0.0       1.0   \n",
       "5              39.5              Annabelle  ...  0.0    0.0       1.0   \n",
       "7              31.0                 Dangal  ...  0.0    0.0       0.0   \n",
       "..              ...                    ...  ...  ...    ...       ...   \n",
       "539             2.5  The Adjustment Bureau  ...  0.0    0.0       1.0   \n",
       "540             2.5                   Paul  ...  0.0    0.0       0.0   \n",
       "541             2.5               Unbroken  ...  0.0    1.0       0.0   \n",
       "542             2.5           Another Year  ...  0.0    0.0       0.0   \n",
       "543             2.5       Almost Christmas  ...  0.0    0.0       0.0   \n",
       "\n",
       "    Animation  Romance  Music  Horror  Western  Musical  Mystery  \n",
       "0         0.0      0.0    0.0     1.0      0.0      0.0      0.0  \n",
       "2         0.0      0.0    0.0     1.0      0.0      0.0      1.0  \n",
       "4         0.0      0.0    0.0     1.0      0.0      0.0      1.0  \n",
       "5         0.0      0.0    0.0     1.0      0.0      0.0      1.0  \n",
       "7         0.0      0.0    0.0     0.0      0.0      0.0      0.0  \n",
       "..        ...      ...    ...     ...      ...      ...      ...  \n",
       "539       0.0      1.0    0.0     0.0      0.0      0.0      0.0  \n",
       "540       0.0      0.0    0.0     0.0      0.0      0.0      0.0  \n",
       "541       0.0      0.0    0.0     0.0      0.0      0.0      0.0  \n",
       "542       0.0      0.0    0.0     0.0      0.0      0.0      0.0  \n",
       "543       0.0      0.0    0.0     0.0      0.0      0.0      0.0  \n",
       "\n",
       "[428 rows x 35 columns]"
      ]
     },
     "execution_count": 404,
     "metadata": {},
     "output_type": "execute_result"
    }
   ],
   "source": [
    "#Lets Add in Movie MPAA Rating and exclude R to protect our parent name brand\n",
    "#MPAA Rating is in the \n",
    "df_budget_genres"
   ]
  },
  {
   "cell_type": "code",
   "execution_count": 405,
   "metadata": {
    "ExecuteTime": {
     "end_time": "2021-05-04T22:13:26.468154Z",
     "start_time": "2021-05-04T22:13:26.455189Z"
    }
   },
   "outputs": [],
   "source": [
    "df_mpaa_ratings = pd.read_csv('./data/tn_mpaa_ratings.csv',index_col = 0, encoding='utf8')"
   ]
  },
  {
   "cell_type": "code",
   "execution_count": 406,
   "metadata": {
    "ExecuteTime": {
     "end_time": "2021-05-04T22:13:26.484112Z",
     "start_time": "2021-05-04T22:13:26.469152Z"
    }
   },
   "outputs": [
    {
     "data": {
      "text/html": [
       "<div>\n",
       "<style scoped>\n",
       "    .dataframe tbody tr th:only-of-type {\n",
       "        vertical-align: middle;\n",
       "    }\n",
       "\n",
       "    .dataframe tbody tr th {\n",
       "        vertical-align: top;\n",
       "    }\n",
       "\n",
       "    .dataframe thead th {\n",
       "        text-align: right;\n",
       "    }\n",
       "</style>\n",
       "<table border=\"1\" class=\"dataframe\">\n",
       "  <thead>\n",
       "    <tr style=\"text-align: right;\">\n",
       "      <th></th>\n",
       "      <th>Released</th>\n",
       "      <th>Title</th>\n",
       "      <th>ProductionBudget</th>\n",
       "      <th>WorldwideBox Office</th>\n",
       "      <th>mpaa_rating</th>\n",
       "    </tr>\n",
       "  </thead>\n",
       "  <tbody>\n",
       "    <tr>\n",
       "      <th>0</th>\n",
       "      <td>Feb 11, 2011</td>\n",
       "      <td>Gnomeo and Juliet</td>\n",
       "      <td>$36,000,000</td>\n",
       "      <td>$193,737,977</td>\n",
       "      <td>G</td>\n",
       "    </tr>\n",
       "    <tr>\n",
       "      <th>1</th>\n",
       "      <td>Feb 11, 2011</td>\n",
       "      <td>Justin Bieber: Never Say Never</td>\n",
       "      <td>$13,000,000</td>\n",
       "      <td>$99,034,125</td>\n",
       "      <td>G</td>\n",
       "    </tr>\n",
       "    <tr>\n",
       "      <th>2</th>\n",
       "      <td>Jul 15, 2011</td>\n",
       "      <td>Winnie the Pooh</td>\n",
       "      <td>$30,000,000</td>\n",
       "      <td>$50,145,607</td>\n",
       "      <td>G</td>\n",
       "    </tr>\n",
       "    <tr>\n",
       "      <th>3</th>\n",
       "      <td>Jul 23, 2010</td>\n",
       "      <td>Ramona and Beezus</td>\n",
       "      <td>$15,000,000</td>\n",
       "      <td>$27,469,621</td>\n",
       "      <td>G</td>\n",
       "    </tr>\n",
       "    <tr>\n",
       "      <th>4</th>\n",
       "      <td>Feb 17, 2012</td>\n",
       "      <td>Kari gurashi no Arietti</td>\n",
       "      <td>$23,000,000</td>\n",
       "      <td>$151,496,097</td>\n",
       "      <td>G</td>\n",
       "    </tr>\n",
       "    <tr>\n",
       "      <th>5</th>\n",
       "      <td>Dec 13, 2011</td>\n",
       "      <td>George Balanchine's The Nutcracker</td>\n",
       "      <td>$19,000,000</td>\n",
       "      <td>$2,119,994</td>\n",
       "      <td>G</td>\n",
       "    </tr>\n",
       "    <tr>\n",
       "      <th>6</th>\n",
       "      <td>Oct 21, 2011</td>\n",
       "      <td>The Mighty Macs</td>\n",
       "      <td>$7,000,000</td>\n",
       "      <td>$1,891,936</td>\n",
       "      <td>G</td>\n",
       "    </tr>\n",
       "    <tr>\n",
       "      <th>7</th>\n",
       "      <td>Aug 29, 2012</td>\n",
       "      <td>The Oogieloves in the BIG Balloon Adv…</td>\n",
       "      <td>$20,000,000</td>\n",
       "      <td>$1,065,907</td>\n",
       "      <td>G</td>\n",
       "    </tr>\n",
       "    <tr>\n",
       "      <th>8</th>\n",
       "      <td>Oct 4, 2011</td>\n",
       "      <td>La vÃ©ritable histoire du Chat BottÃ©</td>\n",
       "      <td>$25,000,000</td>\n",
       "      <td>$8,208,594</td>\n",
       "      <td>G</td>\n",
       "    </tr>\n",
       "    <tr>\n",
       "      <th>9</th>\n",
       "      <td>Dec 31, 2012</td>\n",
       "      <td>Zambezia</td>\n",
       "      <td>$20,000,000</td>\n",
       "      <td>$34,454,336</td>\n",
       "      <td>G</td>\n",
       "    </tr>\n",
       "  </tbody>\n",
       "</table>\n",
       "</div>"
      ],
      "text/plain": [
       "       Released                                   Title ProductionBudget  \\\n",
       "0  Feb 11, 2011                       Gnomeo and Juliet      $36,000,000   \n",
       "1  Feb 11, 2011          Justin Bieber: Never Say Never      $13,000,000   \n",
       "2  Jul 15, 2011                         Winnie the Pooh      $30,000,000   \n",
       "3  Jul 23, 2010                       Ramona and Beezus      $15,000,000   \n",
       "4  Feb 17, 2012                 Kari gurashi no Arietti      $23,000,000   \n",
       "5  Dec 13, 2011      George Balanchine's The Nutcracker      $19,000,000   \n",
       "6  Oct 21, 2011                         The Mighty Macs       $7,000,000   \n",
       "7  Aug 29, 2012  The Oogieloves in the BIG Balloon Adv…      $20,000,000   \n",
       "8   Oct 4, 2011   La vÃ©ritable histoire du Chat BottÃ©      $25,000,000   \n",
       "9  Dec 31, 2012                                Zambezia      $20,000,000   \n",
       "\n",
       "  WorldwideBox Office mpaa_rating  \n",
       "0        $193,737,977           G  \n",
       "1         $99,034,125           G  \n",
       "2         $50,145,607           G  \n",
       "3         $27,469,621           G  \n",
       "4        $151,496,097           G  \n",
       "5          $2,119,994           G  \n",
       "6          $1,891,936           G  \n",
       "7          $1,065,907           G  \n",
       "8          $8,208,594           G  \n",
       "9         $34,454,336           G  "
      ]
     },
     "execution_count": 406,
     "metadata": {},
     "output_type": "execute_result"
    }
   ],
   "source": [
    "df_mpaa_ratings.head(10)"
   ]
  },
  {
   "cell_type": "code",
   "execution_count": 407,
   "metadata": {
    "ExecuteTime": {
     "end_time": "2021-05-04T22:13:26.734442Z",
     "start_time": "2021-05-04T22:13:26.486107Z"
    }
   },
   "outputs": [],
   "source": [
    "#We will do a left join on the successful movies and the imdb basics \n",
    "#keying on movie name and year of release\n",
    "df_budget_genre_ratings = pd.merge(df_budget_genres, df_mpaa_ratings, \n",
    "                            left_on=  ['movie',\n",
    "                                       pd.to_datetime(df_budget_genres['release_date']).dt.year],\n",
    "                            right_on= ['Title',\n",
    "                                       pd.to_datetime(df_mpaa_ratings['Released']).dt.year], \n",
    "                            how = 'left')"
   ]
  },
  {
   "cell_type": "code",
   "execution_count": 408,
   "metadata": {
    "ExecuteTime": {
     "end_time": "2021-05-04T22:13:26.749402Z",
     "start_time": "2021-05-04T22:13:26.736437Z"
    }
   },
   "outputs": [],
   "source": [
    "df_budget_genre_ratings = df_budget_genre_ratings[df_budget_genre_ratings['mpaa_rating'].notna()]"
   ]
  },
  {
   "cell_type": "code",
   "execution_count": 409,
   "metadata": {
    "ExecuteTime": {
     "end_time": "2021-05-04T22:13:26.780320Z",
     "start_time": "2021-05-04T22:13:26.751397Z"
    }
   },
   "outputs": [
    {
     "data": {
      "text/html": [
       "<div>\n",
       "<style scoped>\n",
       "    .dataframe tbody tr th:only-of-type {\n",
       "        vertical-align: middle;\n",
       "    }\n",
       "\n",
       "    .dataframe tbody tr th {\n",
       "        vertical-align: top;\n",
       "    }\n",
       "\n",
       "    .dataframe thead th {\n",
       "        text-align: right;\n",
       "    }\n",
       "</style>\n",
       "<table border=\"1\" class=\"dataframe\">\n",
       "  <thead>\n",
       "    <tr style=\"text-align: right;\">\n",
       "      <th></th>\n",
       "      <th>id</th>\n",
       "      <th>key_1</th>\n",
       "      <th>release_date</th>\n",
       "      <th>movie</th>\n",
       "      <th>production_budget</th>\n",
       "      <th>domestic_gross</th>\n",
       "      <th>worldwide_gross</th>\n",
       "      <th>profit_over_pb</th>\n",
       "      <th>roi_percent</th>\n",
       "      <th>x_times_invest</th>\n",
       "      <th>...</th>\n",
       "      <th>Music</th>\n",
       "      <th>Horror</th>\n",
       "      <th>Western</th>\n",
       "      <th>Musical</th>\n",
       "      <th>Mystery</th>\n",
       "      <th>Released</th>\n",
       "      <th>Title</th>\n",
       "      <th>ProductionBudget</th>\n",
       "      <th>WorldwideBox Office</th>\n",
       "      <th>mpaa_rating</th>\n",
       "    </tr>\n",
       "  </thead>\n",
       "  <tbody>\n",
       "    <tr>\n",
       "      <th>0</th>\n",
       "      <td>65</td>\n",
       "      <td>2010</td>\n",
       "      <td>Oct 20, 2010</td>\n",
       "      <td>Paranormal Activity 2</td>\n",
       "      <td>3000000.0</td>\n",
       "      <td>84752907.0</td>\n",
       "      <td>177512032.0</td>\n",
       "      <td>174512032.0</td>\n",
       "      <td>5817.1</td>\n",
       "      <td>59.2</td>\n",
       "      <td>...</td>\n",
       "      <td>0.0</td>\n",
       "      <td>1.0</td>\n",
       "      <td>0.0</td>\n",
       "      <td>0.0</td>\n",
       "      <td>0.0</td>\n",
       "      <td>Oct 20, 2010</td>\n",
       "      <td>Paranormal Activity 2</td>\n",
       "      <td>$3,000,000</td>\n",
       "      <td>$177,512,032</td>\n",
       "      <td>R</td>\n",
       "    </tr>\n",
       "    <tr>\n",
       "      <th>1</th>\n",
       "      <td>49</td>\n",
       "      <td>2017</td>\n",
       "      <td>Feb 24, 2017</td>\n",
       "      <td>Get Out</td>\n",
       "      <td>5000000.0</td>\n",
       "      <td>176040665.0</td>\n",
       "      <td>255367951.0</td>\n",
       "      <td>250367951.0</td>\n",
       "      <td>5007.4</td>\n",
       "      <td>51.1</td>\n",
       "      <td>...</td>\n",
       "      <td>0.0</td>\n",
       "      <td>1.0</td>\n",
       "      <td>0.0</td>\n",
       "      <td>0.0</td>\n",
       "      <td>1.0</td>\n",
       "      <td>Feb 24, 2017</td>\n",
       "      <td>Get Out</td>\n",
       "      <td>$5,000,000</td>\n",
       "      <td>$252,500,135</td>\n",
       "      <td>R</td>\n",
       "    </tr>\n",
       "    <tr>\n",
       "      <th>2</th>\n",
       "      <td>51</td>\n",
       "      <td>2011</td>\n",
       "      <td>Oct 21, 2011</td>\n",
       "      <td>Paranormal Activity 3</td>\n",
       "      <td>5000000.0</td>\n",
       "      <td>104028807.0</td>\n",
       "      <td>207039844.0</td>\n",
       "      <td>202039844.0</td>\n",
       "      <td>4040.8</td>\n",
       "      <td>41.4</td>\n",
       "      <td>...</td>\n",
       "      <td>0.0</td>\n",
       "      <td>1.0</td>\n",
       "      <td>0.0</td>\n",
       "      <td>0.0</td>\n",
       "      <td>1.0</td>\n",
       "      <td>Oct 21, 2011</td>\n",
       "      <td>Paranormal Activity 3</td>\n",
       "      <td>$5,000,000</td>\n",
       "      <td>$207,039,844</td>\n",
       "      <td>R</td>\n",
       "    </tr>\n",
       "    <tr>\n",
       "      <th>5</th>\n",
       "      <td>67</td>\n",
       "      <td>2013</td>\n",
       "      <td>Jun 7, 2013</td>\n",
       "      <td>The Purge</td>\n",
       "      <td>3000000.0</td>\n",
       "      <td>64473115.0</td>\n",
       "      <td>91266581.0</td>\n",
       "      <td>88266581.0</td>\n",
       "      <td>2942.2</td>\n",
       "      <td>30.4</td>\n",
       "      <td>...</td>\n",
       "      <td>0.0</td>\n",
       "      <td>1.0</td>\n",
       "      <td>0.0</td>\n",
       "      <td>0.0</td>\n",
       "      <td>0.0</td>\n",
       "      <td>Jun 7, 2013</td>\n",
       "      <td>The Purge</td>\n",
       "      <td>$3,000,000</td>\n",
       "      <td>$91,266,581</td>\n",
       "      <td>R</td>\n",
       "    </tr>\n",
       "    <tr>\n",
       "      <th>6</th>\n",
       "      <td>67</td>\n",
       "      <td>2013</td>\n",
       "      <td>Jun 7, 2013</td>\n",
       "      <td>The Purge</td>\n",
       "      <td>3000000.0</td>\n",
       "      <td>64473115.0</td>\n",
       "      <td>91266581.0</td>\n",
       "      <td>88266581.0</td>\n",
       "      <td>2942.2</td>\n",
       "      <td>30.4</td>\n",
       "      <td>...</td>\n",
       "      <td>0.0</td>\n",
       "      <td>1.0</td>\n",
       "      <td>0.0</td>\n",
       "      <td>0.0</td>\n",
       "      <td>0.0</td>\n",
       "      <td>Jun 7, 2013</td>\n",
       "      <td>The Purge</td>\n",
       "      <td>$3,000,000</td>\n",
       "      <td>$91,266,581</td>\n",
       "      <td>R</td>\n",
       "    </tr>\n",
       "  </tbody>\n",
       "</table>\n",
       "<p>5 rows × 41 columns</p>\n",
       "</div>"
      ],
      "text/plain": [
       "   id  key_1  release_date                  movie  production_budget  \\\n",
       "0  65   2010  Oct 20, 2010  Paranormal Activity 2          3000000.0   \n",
       "1  49   2017  Feb 24, 2017                Get Out          5000000.0   \n",
       "2  51   2011  Oct 21, 2011  Paranormal Activity 3          5000000.0   \n",
       "5  67   2013   Jun 7, 2013              The Purge          3000000.0   \n",
       "6  67   2013   Jun 7, 2013              The Purge          3000000.0   \n",
       "\n",
       "   domestic_gross  worldwide_gross  profit_over_pb  roi_percent  \\\n",
       "0      84752907.0      177512032.0     174512032.0       5817.1   \n",
       "1     176040665.0      255367951.0     250367951.0       5007.4   \n",
       "2     104028807.0      207039844.0     202039844.0       4040.8   \n",
       "5      64473115.0       91266581.0      88266581.0       2942.2   \n",
       "6      64473115.0       91266581.0      88266581.0       2942.2   \n",
       "\n",
       "   x_times_invest  ... Music Horror  Western  Musical Mystery      Released  \\\n",
       "0            59.2  ...   0.0    1.0      0.0      0.0     0.0  Oct 20, 2010   \n",
       "1            51.1  ...   0.0    1.0      0.0      0.0     1.0  Feb 24, 2017   \n",
       "2            41.4  ...   0.0    1.0      0.0      0.0     1.0  Oct 21, 2011   \n",
       "5            30.4  ...   0.0    1.0      0.0      0.0     0.0   Jun 7, 2013   \n",
       "6            30.4  ...   0.0    1.0      0.0      0.0     0.0   Jun 7, 2013   \n",
       "\n",
       "                   Title  ProductionBudget  WorldwideBox Office  mpaa_rating  \n",
       "0  Paranormal Activity 2        $3,000,000         $177,512,032            R  \n",
       "1                Get Out        $5,000,000         $252,500,135            R  \n",
       "2  Paranormal Activity 3        $5,000,000         $207,039,844            R  \n",
       "5              The Purge        $3,000,000          $91,266,581            R  \n",
       "6              The Purge        $3,000,000          $91,266,581            R  \n",
       "\n",
       "[5 rows x 41 columns]"
      ]
     },
     "execution_count": 409,
     "metadata": {},
     "output_type": "execute_result"
    }
   ],
   "source": [
    "df_budget_genre_ratings.head()"
   ]
  },
  {
   "cell_type": "code",
   "execution_count": 410,
   "metadata": {
    "ExecuteTime": {
     "end_time": "2021-05-04T22:13:26.796277Z",
     "start_time": "2021-05-04T22:13:26.782314Z"
    }
   },
   "outputs": [],
   "source": [
    "df_budget_genre_ratings.drop(columns=['id', 'key_1','primary_title',\n",
    "                                      'original_title','Released',\n",
    "                                      'ProductionBudget',\n",
    "                                      'WorldwideBox Office','runtime_minutes'],\n",
    "                             inplace=True)"
   ]
  },
  {
   "cell_type": "code",
   "execution_count": 411,
   "metadata": {
    "ExecuteTime": {
     "end_time": "2021-05-04T22:13:26.812234Z",
     "start_time": "2021-05-04T22:13:26.798271Z"
    }
   },
   "outputs": [],
   "source": [
    "df_budget_genre_ratings.reset_index(inplace=True)"
   ]
  },
  {
   "cell_type": "code",
   "execution_count": 412,
   "metadata": {
    "ExecuteTime": {
     "end_time": "2021-05-04T22:13:26.859109Z",
     "start_time": "2021-05-04T22:13:26.814229Z"
    },
    "scrolled": false
   },
   "outputs": [
    {
     "data": {
      "text/html": [
       "<div>\n",
       "<style scoped>\n",
       "    .dataframe tbody tr th:only-of-type {\n",
       "        vertical-align: middle;\n",
       "    }\n",
       "\n",
       "    .dataframe tbody tr th {\n",
       "        vertical-align: top;\n",
       "    }\n",
       "\n",
       "    .dataframe thead th {\n",
       "        text-align: right;\n",
       "    }\n",
       "</style>\n",
       "<table border=\"1\" class=\"dataframe\">\n",
       "  <thead>\n",
       "    <tr style=\"text-align: right;\">\n",
       "      <th></th>\n",
       "      <th>index</th>\n",
       "      <th>release_date</th>\n",
       "      <th>movie</th>\n",
       "      <th>production_budget</th>\n",
       "      <th>domestic_gross</th>\n",
       "      <th>worldwide_gross</th>\n",
       "      <th>profit_over_pb</th>\n",
       "      <th>roi_percent</th>\n",
       "      <th>x_times_invest</th>\n",
       "      <th>start_year</th>\n",
       "      <th>...</th>\n",
       "      <th>Thriller</th>\n",
       "      <th>Animation</th>\n",
       "      <th>Romance</th>\n",
       "      <th>Music</th>\n",
       "      <th>Horror</th>\n",
       "      <th>Western</th>\n",
       "      <th>Musical</th>\n",
       "      <th>Mystery</th>\n",
       "      <th>Title</th>\n",
       "      <th>mpaa_rating</th>\n",
       "    </tr>\n",
       "  </thead>\n",
       "  <tbody>\n",
       "    <tr>\n",
       "      <th>0</th>\n",
       "      <td>0</td>\n",
       "      <td>Oct 20, 2010</td>\n",
       "      <td>Paranormal Activity 2</td>\n",
       "      <td>3000000.0</td>\n",
       "      <td>84752907.0</td>\n",
       "      <td>177512032.0</td>\n",
       "      <td>174512032.0</td>\n",
       "      <td>5817.1</td>\n",
       "      <td>59.2</td>\n",
       "      <td>2010</td>\n",
       "      <td>...</td>\n",
       "      <td>0.0</td>\n",
       "      <td>0.0</td>\n",
       "      <td>0.0</td>\n",
       "      <td>0.0</td>\n",
       "      <td>1.0</td>\n",
       "      <td>0.0</td>\n",
       "      <td>0.0</td>\n",
       "      <td>0.0</td>\n",
       "      <td>Paranormal Activity 2</td>\n",
       "      <td>R</td>\n",
       "    </tr>\n",
       "    <tr>\n",
       "      <th>1</th>\n",
       "      <td>1</td>\n",
       "      <td>Feb 24, 2017</td>\n",
       "      <td>Get Out</td>\n",
       "      <td>5000000.0</td>\n",
       "      <td>176040665.0</td>\n",
       "      <td>255367951.0</td>\n",
       "      <td>250367951.0</td>\n",
       "      <td>5007.4</td>\n",
       "      <td>51.1</td>\n",
       "      <td>2017</td>\n",
       "      <td>...</td>\n",
       "      <td>1.0</td>\n",
       "      <td>0.0</td>\n",
       "      <td>0.0</td>\n",
       "      <td>0.0</td>\n",
       "      <td>1.0</td>\n",
       "      <td>0.0</td>\n",
       "      <td>0.0</td>\n",
       "      <td>1.0</td>\n",
       "      <td>Get Out</td>\n",
       "      <td>R</td>\n",
       "    </tr>\n",
       "    <tr>\n",
       "      <th>2</th>\n",
       "      <td>2</td>\n",
       "      <td>Oct 21, 2011</td>\n",
       "      <td>Paranormal Activity 3</td>\n",
       "      <td>5000000.0</td>\n",
       "      <td>104028807.0</td>\n",
       "      <td>207039844.0</td>\n",
       "      <td>202039844.0</td>\n",
       "      <td>4040.8</td>\n",
       "      <td>41.4</td>\n",
       "      <td>2011</td>\n",
       "      <td>...</td>\n",
       "      <td>1.0</td>\n",
       "      <td>0.0</td>\n",
       "      <td>0.0</td>\n",
       "      <td>0.0</td>\n",
       "      <td>1.0</td>\n",
       "      <td>0.0</td>\n",
       "      <td>0.0</td>\n",
       "      <td>1.0</td>\n",
       "      <td>Paranormal Activity 3</td>\n",
       "      <td>R</td>\n",
       "    </tr>\n",
       "    <tr>\n",
       "      <th>3</th>\n",
       "      <td>5</td>\n",
       "      <td>Jun 7, 2013</td>\n",
       "      <td>The Purge</td>\n",
       "      <td>3000000.0</td>\n",
       "      <td>64473115.0</td>\n",
       "      <td>91266581.0</td>\n",
       "      <td>88266581.0</td>\n",
       "      <td>2942.2</td>\n",
       "      <td>30.4</td>\n",
       "      <td>2013</td>\n",
       "      <td>...</td>\n",
       "      <td>1.0</td>\n",
       "      <td>0.0</td>\n",
       "      <td>0.0</td>\n",
       "      <td>0.0</td>\n",
       "      <td>1.0</td>\n",
       "      <td>0.0</td>\n",
       "      <td>0.0</td>\n",
       "      <td>0.0</td>\n",
       "      <td>The Purge</td>\n",
       "      <td>R</td>\n",
       "    </tr>\n",
       "    <tr>\n",
       "      <th>4</th>\n",
       "      <td>6</td>\n",
       "      <td>Jun 7, 2013</td>\n",
       "      <td>The Purge</td>\n",
       "      <td>3000000.0</td>\n",
       "      <td>64473115.0</td>\n",
       "      <td>91266581.0</td>\n",
       "      <td>88266581.0</td>\n",
       "      <td>2942.2</td>\n",
       "      <td>30.4</td>\n",
       "      <td>2013</td>\n",
       "      <td>...</td>\n",
       "      <td>1.0</td>\n",
       "      <td>0.0</td>\n",
       "      <td>0.0</td>\n",
       "      <td>0.0</td>\n",
       "      <td>1.0</td>\n",
       "      <td>0.0</td>\n",
       "      <td>0.0</td>\n",
       "      <td>0.0</td>\n",
       "      <td>The Purge</td>\n",
       "      <td>R</td>\n",
       "    </tr>\n",
       "    <tr>\n",
       "      <th>...</th>\n",
       "      <td>...</td>\n",
       "      <td>...</td>\n",
       "      <td>...</td>\n",
       "      <td>...</td>\n",
       "      <td>...</td>\n",
       "      <td>...</td>\n",
       "      <td>...</td>\n",
       "      <td>...</td>\n",
       "      <td>...</td>\n",
       "      <td>...</td>\n",
       "      <td>...</td>\n",
       "      <td>...</td>\n",
       "      <td>...</td>\n",
       "      <td>...</td>\n",
       "      <td>...</td>\n",
       "      <td>...</td>\n",
       "      <td>...</td>\n",
       "      <td>...</td>\n",
       "      <td>...</td>\n",
       "      <td>...</td>\n",
       "      <td>...</td>\n",
       "    </tr>\n",
       "    <tr>\n",
       "      <th>399</th>\n",
       "      <td>451</td>\n",
       "      <td>Mar 4, 2011</td>\n",
       "      <td>The Adjustment Bureau</td>\n",
       "      <td>50200000.0</td>\n",
       "      <td>62495645.0</td>\n",
       "      <td>126931325.0</td>\n",
       "      <td>76731325.0</td>\n",
       "      <td>152.9</td>\n",
       "      <td>2.5</td>\n",
       "      <td>2011</td>\n",
       "      <td>...</td>\n",
       "      <td>1.0</td>\n",
       "      <td>0.0</td>\n",
       "      <td>1.0</td>\n",
       "      <td>0.0</td>\n",
       "      <td>0.0</td>\n",
       "      <td>0.0</td>\n",
       "      <td>0.0</td>\n",
       "      <td>0.0</td>\n",
       "      <td>The Adjustment Bureau</td>\n",
       "      <td>PG-13</td>\n",
       "    </tr>\n",
       "    <tr>\n",
       "      <th>400</th>\n",
       "      <td>452</td>\n",
       "      <td>Mar 18, 2011</td>\n",
       "      <td>Paul</td>\n",
       "      <td>40000000.0</td>\n",
       "      <td>37412945.0</td>\n",
       "      <td>101162106.0</td>\n",
       "      <td>61162106.0</td>\n",
       "      <td>152.9</td>\n",
       "      <td>2.5</td>\n",
       "      <td>2011</td>\n",
       "      <td>...</td>\n",
       "      <td>0.0</td>\n",
       "      <td>0.0</td>\n",
       "      <td>0.0</td>\n",
       "      <td>0.0</td>\n",
       "      <td>0.0</td>\n",
       "      <td>0.0</td>\n",
       "      <td>0.0</td>\n",
       "      <td>0.0</td>\n",
       "      <td>Paul</td>\n",
       "      <td>R</td>\n",
       "    </tr>\n",
       "    <tr>\n",
       "      <th>401</th>\n",
       "      <td>453</td>\n",
       "      <td>Dec 25, 2014</td>\n",
       "      <td>Unbroken</td>\n",
       "      <td>65000000.0</td>\n",
       "      <td>115637895.0</td>\n",
       "      <td>163527824.0</td>\n",
       "      <td>98527824.0</td>\n",
       "      <td>151.6</td>\n",
       "      <td>2.5</td>\n",
       "      <td>2014</td>\n",
       "      <td>...</td>\n",
       "      <td>0.0</td>\n",
       "      <td>0.0</td>\n",
       "      <td>0.0</td>\n",
       "      <td>0.0</td>\n",
       "      <td>0.0</td>\n",
       "      <td>0.0</td>\n",
       "      <td>0.0</td>\n",
       "      <td>0.0</td>\n",
       "      <td>Unbroken</td>\n",
       "      <td>PG-13</td>\n",
       "    </tr>\n",
       "    <tr>\n",
       "      <th>402</th>\n",
       "      <td>454</td>\n",
       "      <td>Dec 29, 2010</td>\n",
       "      <td>Another Year</td>\n",
       "      <td>8000000.0</td>\n",
       "      <td>3205706.0</td>\n",
       "      <td>20005613.0</td>\n",
       "      <td>12005613.0</td>\n",
       "      <td>150.1</td>\n",
       "      <td>2.5</td>\n",
       "      <td>2010</td>\n",
       "      <td>...</td>\n",
       "      <td>0.0</td>\n",
       "      <td>0.0</td>\n",
       "      <td>0.0</td>\n",
       "      <td>0.0</td>\n",
       "      <td>0.0</td>\n",
       "      <td>0.0</td>\n",
       "      <td>0.0</td>\n",
       "      <td>0.0</td>\n",
       "      <td>Another Year</td>\n",
       "      <td>PG-13</td>\n",
       "    </tr>\n",
       "    <tr>\n",
       "      <th>403</th>\n",
       "      <td>455</td>\n",
       "      <td>Nov 11, 2016</td>\n",
       "      <td>Almost Christmas</td>\n",
       "      <td>17000000.0</td>\n",
       "      <td>42065185.0</td>\n",
       "      <td>42493506.0</td>\n",
       "      <td>25493506.0</td>\n",
       "      <td>150.0</td>\n",
       "      <td>2.5</td>\n",
       "      <td>2016</td>\n",
       "      <td>...</td>\n",
       "      <td>0.0</td>\n",
       "      <td>0.0</td>\n",
       "      <td>0.0</td>\n",
       "      <td>0.0</td>\n",
       "      <td>0.0</td>\n",
       "      <td>0.0</td>\n",
       "      <td>0.0</td>\n",
       "      <td>0.0</td>\n",
       "      <td>Almost Christmas</td>\n",
       "      <td>PG-13</td>\n",
       "    </tr>\n",
       "  </tbody>\n",
       "</table>\n",
       "<p>404 rows × 34 columns</p>\n",
       "</div>"
      ],
      "text/plain": [
       "     index  release_date                  movie  production_budget  \\\n",
       "0        0  Oct 20, 2010  Paranormal Activity 2          3000000.0   \n",
       "1        1  Feb 24, 2017                Get Out          5000000.0   \n",
       "2        2  Oct 21, 2011  Paranormal Activity 3          5000000.0   \n",
       "3        5   Jun 7, 2013              The Purge          3000000.0   \n",
       "4        6   Jun 7, 2013              The Purge          3000000.0   \n",
       "..     ...           ...                    ...                ...   \n",
       "399    451   Mar 4, 2011  The Adjustment Bureau         50200000.0   \n",
       "400    452  Mar 18, 2011                   Paul         40000000.0   \n",
       "401    453  Dec 25, 2014               Unbroken         65000000.0   \n",
       "402    454  Dec 29, 2010           Another Year          8000000.0   \n",
       "403    455  Nov 11, 2016       Almost Christmas         17000000.0   \n",
       "\n",
       "     domestic_gross  worldwide_gross  profit_over_pb  roi_percent  \\\n",
       "0        84752907.0      177512032.0     174512032.0       5817.1   \n",
       "1       176040665.0      255367951.0     250367951.0       5007.4   \n",
       "2       104028807.0      207039844.0     202039844.0       4040.8   \n",
       "3        64473115.0       91266581.0      88266581.0       2942.2   \n",
       "4        64473115.0       91266581.0      88266581.0       2942.2   \n",
       "..              ...              ...             ...          ...   \n",
       "399      62495645.0      126931325.0      76731325.0        152.9   \n",
       "400      37412945.0      101162106.0      61162106.0        152.9   \n",
       "401     115637895.0      163527824.0      98527824.0        151.6   \n",
       "402       3205706.0       20005613.0      12005613.0        150.1   \n",
       "403      42065185.0       42493506.0      25493506.0        150.0   \n",
       "\n",
       "     x_times_invest  start_year  ... Thriller  Animation  Romance  Music  \\\n",
       "0              59.2        2010  ...      0.0        0.0      0.0    0.0   \n",
       "1              51.1        2017  ...      1.0        0.0      0.0    0.0   \n",
       "2              41.4        2011  ...      1.0        0.0      0.0    0.0   \n",
       "3              30.4        2013  ...      1.0        0.0      0.0    0.0   \n",
       "4              30.4        2013  ...      1.0        0.0      0.0    0.0   \n",
       "..              ...         ...  ...      ...        ...      ...    ...   \n",
       "399             2.5        2011  ...      1.0        0.0      1.0    0.0   \n",
       "400             2.5        2011  ...      0.0        0.0      0.0    0.0   \n",
       "401             2.5        2014  ...      0.0        0.0      0.0    0.0   \n",
       "402             2.5        2010  ...      0.0        0.0      0.0    0.0   \n",
       "403             2.5        2016  ...      0.0        0.0      0.0    0.0   \n",
       "\n",
       "     Horror  Western  Musical  Mystery                  Title  mpaa_rating  \n",
       "0       1.0      0.0      0.0      0.0  Paranormal Activity 2            R  \n",
       "1       1.0      0.0      0.0      1.0                Get Out            R  \n",
       "2       1.0      0.0      0.0      1.0  Paranormal Activity 3            R  \n",
       "3       1.0      0.0      0.0      0.0              The Purge            R  \n",
       "4       1.0      0.0      0.0      0.0              The Purge            R  \n",
       "..      ...      ...      ...      ...                    ...          ...  \n",
       "399     0.0      0.0      0.0      0.0  The Adjustment Bureau        PG-13  \n",
       "400     0.0      0.0      0.0      0.0                   Paul            R  \n",
       "401     0.0      0.0      0.0      0.0               Unbroken        PG-13  \n",
       "402     0.0      0.0      0.0      0.0           Another Year        PG-13  \n",
       "403     0.0      0.0      0.0      0.0       Almost Christmas        PG-13  \n",
       "\n",
       "[404 rows x 34 columns]"
      ]
     },
     "execution_count": 412,
     "metadata": {},
     "output_type": "execute_result"
    }
   ],
   "source": [
    "df_budget_genre_ratings"
   ]
  },
  {
   "cell_type": "code",
   "execution_count": 413,
   "metadata": {
    "ExecuteTime": {
     "end_time": "2021-05-04T22:13:26.875067Z",
     "start_time": "2021-05-04T22:13:26.861104Z"
    }
   },
   "outputs": [],
   "source": [
    "df_budget_genre_ratings.drop(columns=['index'], inplace=True)"
   ]
  },
  {
   "cell_type": "code",
   "execution_count": 414,
   "metadata": {
    "ExecuteTime": {
     "end_time": "2021-05-04T22:13:26.907024Z",
     "start_time": "2021-05-04T22:13:26.877061Z"
    }
   },
   "outputs": [
    {
     "data": {
      "text/html": [
       "<div>\n",
       "<style scoped>\n",
       "    .dataframe tbody tr th:only-of-type {\n",
       "        vertical-align: middle;\n",
       "    }\n",
       "\n",
       "    .dataframe tbody tr th {\n",
       "        vertical-align: top;\n",
       "    }\n",
       "\n",
       "    .dataframe thead th {\n",
       "        text-align: right;\n",
       "    }\n",
       "</style>\n",
       "<table border=\"1\" class=\"dataframe\">\n",
       "  <thead>\n",
       "    <tr style=\"text-align: right;\">\n",
       "      <th></th>\n",
       "      <th>release_date</th>\n",
       "      <th>movie</th>\n",
       "      <th>production_budget</th>\n",
       "      <th>domestic_gross</th>\n",
       "      <th>worldwide_gross</th>\n",
       "      <th>profit_over_pb</th>\n",
       "      <th>roi_percent</th>\n",
       "      <th>x_times_invest</th>\n",
       "      <th>start_year</th>\n",
       "      <th>genres</th>\n",
       "      <th>...</th>\n",
       "      <th>Thriller</th>\n",
       "      <th>Animation</th>\n",
       "      <th>Romance</th>\n",
       "      <th>Music</th>\n",
       "      <th>Horror</th>\n",
       "      <th>Western</th>\n",
       "      <th>Musical</th>\n",
       "      <th>Mystery</th>\n",
       "      <th>Title</th>\n",
       "      <th>mpaa_rating</th>\n",
       "    </tr>\n",
       "  </thead>\n",
       "  <tbody>\n",
       "    <tr>\n",
       "      <th>0</th>\n",
       "      <td>Oct 20, 2010</td>\n",
       "      <td>Paranormal Activity 2</td>\n",
       "      <td>3000000.0</td>\n",
       "      <td>84752907.0</td>\n",
       "      <td>177512032.0</td>\n",
       "      <td>174512032.0</td>\n",
       "      <td>5817.1</td>\n",
       "      <td>59.2</td>\n",
       "      <td>2010</td>\n",
       "      <td>[Horror]</td>\n",
       "      <td>...</td>\n",
       "      <td>0.0</td>\n",
       "      <td>0.0</td>\n",
       "      <td>0.0</td>\n",
       "      <td>0.0</td>\n",
       "      <td>1.0</td>\n",
       "      <td>0.0</td>\n",
       "      <td>0.0</td>\n",
       "      <td>0.0</td>\n",
       "      <td>Paranormal Activity 2</td>\n",
       "      <td>R</td>\n",
       "    </tr>\n",
       "    <tr>\n",
       "      <th>1</th>\n",
       "      <td>Feb 24, 2017</td>\n",
       "      <td>Get Out</td>\n",
       "      <td>5000000.0</td>\n",
       "      <td>176040665.0</td>\n",
       "      <td>255367951.0</td>\n",
       "      <td>250367951.0</td>\n",
       "      <td>5007.4</td>\n",
       "      <td>51.1</td>\n",
       "      <td>2017</td>\n",
       "      <td>[Horror, Mystery, Thriller]</td>\n",
       "      <td>...</td>\n",
       "      <td>1.0</td>\n",
       "      <td>0.0</td>\n",
       "      <td>0.0</td>\n",
       "      <td>0.0</td>\n",
       "      <td>1.0</td>\n",
       "      <td>0.0</td>\n",
       "      <td>0.0</td>\n",
       "      <td>1.0</td>\n",
       "      <td>Get Out</td>\n",
       "      <td>R</td>\n",
       "    </tr>\n",
       "    <tr>\n",
       "      <th>2</th>\n",
       "      <td>Oct 21, 2011</td>\n",
       "      <td>Paranormal Activity 3</td>\n",
       "      <td>5000000.0</td>\n",
       "      <td>104028807.0</td>\n",
       "      <td>207039844.0</td>\n",
       "      <td>202039844.0</td>\n",
       "      <td>4040.8</td>\n",
       "      <td>41.4</td>\n",
       "      <td>2011</td>\n",
       "      <td>[Horror, Mystery, Thriller]</td>\n",
       "      <td>...</td>\n",
       "      <td>1.0</td>\n",
       "      <td>0.0</td>\n",
       "      <td>0.0</td>\n",
       "      <td>0.0</td>\n",
       "      <td>1.0</td>\n",
       "      <td>0.0</td>\n",
       "      <td>0.0</td>\n",
       "      <td>1.0</td>\n",
       "      <td>Paranormal Activity 3</td>\n",
       "      <td>R</td>\n",
       "    </tr>\n",
       "    <tr>\n",
       "      <th>3</th>\n",
       "      <td>Jun 7, 2013</td>\n",
       "      <td>The Purge</td>\n",
       "      <td>3000000.0</td>\n",
       "      <td>64473115.0</td>\n",
       "      <td>91266581.0</td>\n",
       "      <td>88266581.0</td>\n",
       "      <td>2942.2</td>\n",
       "      <td>30.4</td>\n",
       "      <td>2013</td>\n",
       "      <td>[Horror, Thriller]</td>\n",
       "      <td>...</td>\n",
       "      <td>1.0</td>\n",
       "      <td>0.0</td>\n",
       "      <td>0.0</td>\n",
       "      <td>0.0</td>\n",
       "      <td>1.0</td>\n",
       "      <td>0.0</td>\n",
       "      <td>0.0</td>\n",
       "      <td>0.0</td>\n",
       "      <td>The Purge</td>\n",
       "      <td>R</td>\n",
       "    </tr>\n",
       "    <tr>\n",
       "      <th>4</th>\n",
       "      <td>Jun 7, 2013</td>\n",
       "      <td>The Purge</td>\n",
       "      <td>3000000.0</td>\n",
       "      <td>64473115.0</td>\n",
       "      <td>91266581.0</td>\n",
       "      <td>88266581.0</td>\n",
       "      <td>2942.2</td>\n",
       "      <td>30.4</td>\n",
       "      <td>2013</td>\n",
       "      <td>[Horror, Thriller]</td>\n",
       "      <td>...</td>\n",
       "      <td>1.0</td>\n",
       "      <td>0.0</td>\n",
       "      <td>0.0</td>\n",
       "      <td>0.0</td>\n",
       "      <td>1.0</td>\n",
       "      <td>0.0</td>\n",
       "      <td>0.0</td>\n",
       "      <td>0.0</td>\n",
       "      <td>The Purge</td>\n",
       "      <td>R</td>\n",
       "    </tr>\n",
       "  </tbody>\n",
       "</table>\n",
       "<p>5 rows × 33 columns</p>\n",
       "</div>"
      ],
      "text/plain": [
       "   release_date                  movie  production_budget  domestic_gross  \\\n",
       "0  Oct 20, 2010  Paranormal Activity 2          3000000.0      84752907.0   \n",
       "1  Feb 24, 2017                Get Out          5000000.0     176040665.0   \n",
       "2  Oct 21, 2011  Paranormal Activity 3          5000000.0     104028807.0   \n",
       "3   Jun 7, 2013              The Purge          3000000.0      64473115.0   \n",
       "4   Jun 7, 2013              The Purge          3000000.0      64473115.0   \n",
       "\n",
       "   worldwide_gross  profit_over_pb  roi_percent  x_times_invest  start_year  \\\n",
       "0      177512032.0     174512032.0       5817.1            59.2        2010   \n",
       "1      255367951.0     250367951.0       5007.4            51.1        2017   \n",
       "2      207039844.0     202039844.0       4040.8            41.4        2011   \n",
       "3       91266581.0      88266581.0       2942.2            30.4        2013   \n",
       "4       91266581.0      88266581.0       2942.2            30.4        2013   \n",
       "\n",
       "                        genres  ...  Thriller  Animation  Romance  Music  \\\n",
       "0                     [Horror]  ...       0.0        0.0      0.0    0.0   \n",
       "1  [Horror, Mystery, Thriller]  ...       1.0        0.0      0.0    0.0   \n",
       "2  [Horror, Mystery, Thriller]  ...       1.0        0.0      0.0    0.0   \n",
       "3           [Horror, Thriller]  ...       1.0        0.0      0.0    0.0   \n",
       "4           [Horror, Thriller]  ...       1.0        0.0      0.0    0.0   \n",
       "\n",
       "   Horror  Western  Musical  Mystery                  Title  mpaa_rating  \n",
       "0     1.0      0.0      0.0      0.0  Paranormal Activity 2            R  \n",
       "1     1.0      0.0      0.0      1.0                Get Out            R  \n",
       "2     1.0      0.0      0.0      1.0  Paranormal Activity 3            R  \n",
       "3     1.0      0.0      0.0      0.0              The Purge            R  \n",
       "4     1.0      0.0      0.0      0.0              The Purge            R  \n",
       "\n",
       "[5 rows x 33 columns]"
      ]
     },
     "execution_count": 414,
     "metadata": {},
     "output_type": "execute_result"
    }
   ],
   "source": [
    "df_budget_genre_ratings.head()"
   ]
  },
  {
   "cell_type": "code",
   "execution_count": 415,
   "metadata": {
    "ExecuteTime": {
     "end_time": "2021-05-04T22:13:26.921984Z",
     "start_time": "2021-05-04T22:13:26.908975Z"
    }
   },
   "outputs": [
    {
     "data": {
      "text/plain": [
       "R        193\n",
       "PG-13    173\n",
       "PG        37\n",
       "G          1\n",
       "Name: mpaa_rating, dtype: int64"
      ]
     },
     "execution_count": 415,
     "metadata": {},
     "output_type": "execute_result"
    }
   ],
   "source": [
    "df_budget_genre_ratings.mpaa_rating.value_counts()"
   ]
  },
  {
   "cell_type": "code",
   "execution_count": 416,
   "metadata": {
    "ExecuteTime": {
     "end_time": "2021-05-04T22:13:26.936945Z",
     "start_time": "2021-05-04T22:13:26.923935Z"
    }
   },
   "outputs": [],
   "source": [
    "ratings = ['R','PG-13','PG','G']"
   ]
  },
  {
   "cell_type": "code",
   "execution_count": 417,
   "metadata": {
    "ExecuteTime": {
     "end_time": "2021-05-04T22:13:26.951863Z",
     "start_time": "2021-05-04T22:13:26.938895Z"
    }
   },
   "outputs": [],
   "source": [
    "ratingsvalues = list(df_budget_genre_ratings.mpaa_rating.value_counts())"
   ]
  },
  {
   "cell_type": "code",
   "execution_count": 418,
   "metadata": {
    "ExecuteTime": {
     "end_time": "2021-05-04T22:13:26.967861Z",
     "start_time": "2021-05-04T22:13:26.953856Z"
    }
   },
   "outputs": [
    {
     "data": {
      "text/plain": [
       "[193, 173, 37, 1]"
      ]
     },
     "execution_count": 418,
     "metadata": {},
     "output_type": "execute_result"
    }
   ],
   "source": [
    "ratingsvalues"
   ]
  },
  {
   "cell_type": "code",
   "execution_count": 419,
   "metadata": {
    "ExecuteTime": {
     "end_time": "2021-05-04T22:13:27.204222Z",
     "start_time": "2021-05-04T22:13:26.969813Z"
    }
   },
   "outputs": [
    {
     "data": {
      "image/png": "[encoded data removed]",
      "text/plain": [
       "<Figure size 576x216 with 1 Axes>"
      ]
     },
     "metadata": {},
     "output_type": "display_data"
    }
   ],
   "source": [
    "#Histogram of Production budget bins\n",
    "\n",
    "sns.set(style=\"darkgrid\") \n",
    "fig, ax1 = plt.subplots(figsize=(8,3))\n",
    "\n",
    "histplot = sns.barplot(y = ratings, x = ratingsvalues, color = 'skyblue',\n",
    "                       label='Count of MPAA Rating')\n",
    "\n",
    "ax1.set_xlabel('MPAA Ratings Count', fontsize=15)\n",
    "ax1.set_ylabel('MPAA Ratings', fontsize=15)\n",
    "ax1.set_title('Count of All MPAA Ratings',fontsize=20)\n",
    "#Set the Average Line\n",
    "\n",
    "#ax1.set(xlim = (0,250))\n",
    "\n",
    "#ax1.legend(loc='upper right')\n",
    "plt.show();"
   ]
  },
  {
   "cell_type": "code",
   "execution_count": 420,
   "metadata": {
    "ExecuteTime": {
     "end_time": "2021-05-04T22:13:27.251104Z",
     "start_time": "2021-05-04T22:13:27.206181Z"
    }
   },
   "outputs": [
    {
     "data": {
      "text/html": [
       "<div>\n",
       "<style scoped>\n",
       "    .dataframe tbody tr th:only-of-type {\n",
       "        vertical-align: middle;\n",
       "    }\n",
       "\n",
       "    .dataframe tbody tr th {\n",
       "        vertical-align: top;\n",
       "    }\n",
       "\n",
       "    .dataframe thead th {\n",
       "        text-align: right;\n",
       "    }\n",
       "</style>\n",
       "<table border=\"1\" class=\"dataframe\">\n",
       "  <thead>\n",
       "    <tr style=\"text-align: right;\">\n",
       "      <th></th>\n",
       "      <th>release_date</th>\n",
       "      <th>movie</th>\n",
       "      <th>production_budget</th>\n",
       "      <th>domestic_gross</th>\n",
       "      <th>worldwide_gross</th>\n",
       "      <th>profit_over_pb</th>\n",
       "      <th>roi_percent</th>\n",
       "      <th>x_times_invest</th>\n",
       "      <th>start_year</th>\n",
       "      <th>genres</th>\n",
       "      <th>...</th>\n",
       "      <th>Thriller</th>\n",
       "      <th>Animation</th>\n",
       "      <th>Romance</th>\n",
       "      <th>Music</th>\n",
       "      <th>Horror</th>\n",
       "      <th>Western</th>\n",
       "      <th>Musical</th>\n",
       "      <th>Mystery</th>\n",
       "      <th>Title</th>\n",
       "      <th>mpaa_rating</th>\n",
       "    </tr>\n",
       "  </thead>\n",
       "  <tbody>\n",
       "    <tr>\n",
       "      <th>0</th>\n",
       "      <td>Oct 20, 2010</td>\n",
       "      <td>Paranormal Activity 2</td>\n",
       "      <td>3000000.0</td>\n",
       "      <td>84752907.0</td>\n",
       "      <td>177512032.0</td>\n",
       "      <td>174512032.0</td>\n",
       "      <td>5817.1</td>\n",
       "      <td>59.2</td>\n",
       "      <td>2010</td>\n",
       "      <td>[Horror]</td>\n",
       "      <td>...</td>\n",
       "      <td>0.0</td>\n",
       "      <td>0.0</td>\n",
       "      <td>0.0</td>\n",
       "      <td>0.0</td>\n",
       "      <td>1.0</td>\n",
       "      <td>0.0</td>\n",
       "      <td>0.0</td>\n",
       "      <td>0.0</td>\n",
       "      <td>Paranormal Activity 2</td>\n",
       "      <td>R</td>\n",
       "    </tr>\n",
       "    <tr>\n",
       "      <th>1</th>\n",
       "      <td>Feb 24, 2017</td>\n",
       "      <td>Get Out</td>\n",
       "      <td>5000000.0</td>\n",
       "      <td>176040665.0</td>\n",
       "      <td>255367951.0</td>\n",
       "      <td>250367951.0</td>\n",
       "      <td>5007.4</td>\n",
       "      <td>51.1</td>\n",
       "      <td>2017</td>\n",
       "      <td>[Horror, Mystery, Thriller]</td>\n",
       "      <td>...</td>\n",
       "      <td>1.0</td>\n",
       "      <td>0.0</td>\n",
       "      <td>0.0</td>\n",
       "      <td>0.0</td>\n",
       "      <td>1.0</td>\n",
       "      <td>0.0</td>\n",
       "      <td>0.0</td>\n",
       "      <td>1.0</td>\n",
       "      <td>Get Out</td>\n",
       "      <td>R</td>\n",
       "    </tr>\n",
       "    <tr>\n",
       "      <th>2</th>\n",
       "      <td>Oct 21, 2011</td>\n",
       "      <td>Paranormal Activity 3</td>\n",
       "      <td>5000000.0</td>\n",
       "      <td>104028807.0</td>\n",
       "      <td>207039844.0</td>\n",
       "      <td>202039844.0</td>\n",
       "      <td>4040.8</td>\n",
       "      <td>41.4</td>\n",
       "      <td>2011</td>\n",
       "      <td>[Horror, Mystery, Thriller]</td>\n",
       "      <td>...</td>\n",
       "      <td>1.0</td>\n",
       "      <td>0.0</td>\n",
       "      <td>0.0</td>\n",
       "      <td>0.0</td>\n",
       "      <td>1.0</td>\n",
       "      <td>0.0</td>\n",
       "      <td>0.0</td>\n",
       "      <td>1.0</td>\n",
       "      <td>Paranormal Activity 3</td>\n",
       "      <td>R</td>\n",
       "    </tr>\n",
       "    <tr>\n",
       "      <th>3</th>\n",
       "      <td>Jun 7, 2013</td>\n",
       "      <td>The Purge</td>\n",
       "      <td>3000000.0</td>\n",
       "      <td>64473115.0</td>\n",
       "      <td>91266581.0</td>\n",
       "      <td>88266581.0</td>\n",
       "      <td>2942.2</td>\n",
       "      <td>30.4</td>\n",
       "      <td>2013</td>\n",
       "      <td>[Horror, Thriller]</td>\n",
       "      <td>...</td>\n",
       "      <td>1.0</td>\n",
       "      <td>0.0</td>\n",
       "      <td>0.0</td>\n",
       "      <td>0.0</td>\n",
       "      <td>1.0</td>\n",
       "      <td>0.0</td>\n",
       "      <td>0.0</td>\n",
       "      <td>0.0</td>\n",
       "      <td>The Purge</td>\n",
       "      <td>R</td>\n",
       "    </tr>\n",
       "    <tr>\n",
       "      <th>4</th>\n",
       "      <td>Jun 7, 2013</td>\n",
       "      <td>The Purge</td>\n",
       "      <td>3000000.0</td>\n",
       "      <td>64473115.0</td>\n",
       "      <td>91266581.0</td>\n",
       "      <td>88266581.0</td>\n",
       "      <td>2942.2</td>\n",
       "      <td>30.4</td>\n",
       "      <td>2013</td>\n",
       "      <td>[Horror, Thriller]</td>\n",
       "      <td>...</td>\n",
       "      <td>1.0</td>\n",
       "      <td>0.0</td>\n",
       "      <td>0.0</td>\n",
       "      <td>0.0</td>\n",
       "      <td>1.0</td>\n",
       "      <td>0.0</td>\n",
       "      <td>0.0</td>\n",
       "      <td>0.0</td>\n",
       "      <td>The Purge</td>\n",
       "      <td>R</td>\n",
       "    </tr>\n",
       "    <tr>\n",
       "      <th>...</th>\n",
       "      <td>...</td>\n",
       "      <td>...</td>\n",
       "      <td>...</td>\n",
       "      <td>...</td>\n",
       "      <td>...</td>\n",
       "      <td>...</td>\n",
       "      <td>...</td>\n",
       "      <td>...</td>\n",
       "      <td>...</td>\n",
       "      <td>...</td>\n",
       "      <td>...</td>\n",
       "      <td>...</td>\n",
       "      <td>...</td>\n",
       "      <td>...</td>\n",
       "      <td>...</td>\n",
       "      <td>...</td>\n",
       "      <td>...</td>\n",
       "      <td>...</td>\n",
       "      <td>...</td>\n",
       "      <td>...</td>\n",
       "      <td>...</td>\n",
       "    </tr>\n",
       "    <tr>\n",
       "      <th>399</th>\n",
       "      <td>Mar 4, 2011</td>\n",
       "      <td>The Adjustment Bureau</td>\n",
       "      <td>50200000.0</td>\n",
       "      <td>62495645.0</td>\n",
       "      <td>126931325.0</td>\n",
       "      <td>76731325.0</td>\n",
       "      <td>152.9</td>\n",
       "      <td>2.5</td>\n",
       "      <td>2011</td>\n",
       "      <td>[Romance, Sci-Fi, Thriller]</td>\n",
       "      <td>...</td>\n",
       "      <td>1.0</td>\n",
       "      <td>0.0</td>\n",
       "      <td>1.0</td>\n",
       "      <td>0.0</td>\n",
       "      <td>0.0</td>\n",
       "      <td>0.0</td>\n",
       "      <td>0.0</td>\n",
       "      <td>0.0</td>\n",
       "      <td>The Adjustment Bureau</td>\n",
       "      <td>PG-13</td>\n",
       "    </tr>\n",
       "    <tr>\n",
       "      <th>400</th>\n",
       "      <td>Mar 18, 2011</td>\n",
       "      <td>Paul</td>\n",
       "      <td>40000000.0</td>\n",
       "      <td>37412945.0</td>\n",
       "      <td>101162106.0</td>\n",
       "      <td>61162106.0</td>\n",
       "      <td>152.9</td>\n",
       "      <td>2.5</td>\n",
       "      <td>2011</td>\n",
       "      <td>[Adventure, Comedy, Sci-Fi]</td>\n",
       "      <td>...</td>\n",
       "      <td>0.0</td>\n",
       "      <td>0.0</td>\n",
       "      <td>0.0</td>\n",
       "      <td>0.0</td>\n",
       "      <td>0.0</td>\n",
       "      <td>0.0</td>\n",
       "      <td>0.0</td>\n",
       "      <td>0.0</td>\n",
       "      <td>Paul</td>\n",
       "      <td>R</td>\n",
       "    </tr>\n",
       "    <tr>\n",
       "      <th>401</th>\n",
       "      <td>Dec 25, 2014</td>\n",
       "      <td>Unbroken</td>\n",
       "      <td>65000000.0</td>\n",
       "      <td>115637895.0</td>\n",
       "      <td>163527824.0</td>\n",
       "      <td>98527824.0</td>\n",
       "      <td>151.6</td>\n",
       "      <td>2.5</td>\n",
       "      <td>2014</td>\n",
       "      <td>[Biography, Drama, Sport]</td>\n",
       "      <td>...</td>\n",
       "      <td>0.0</td>\n",
       "      <td>0.0</td>\n",
       "      <td>0.0</td>\n",
       "      <td>0.0</td>\n",
       "      <td>0.0</td>\n",
       "      <td>0.0</td>\n",
       "      <td>0.0</td>\n",
       "      <td>0.0</td>\n",
       "      <td>Unbroken</td>\n",
       "      <td>PG-13</td>\n",
       "    </tr>\n",
       "    <tr>\n",
       "      <th>402</th>\n",
       "      <td>Dec 29, 2010</td>\n",
       "      <td>Another Year</td>\n",
       "      <td>8000000.0</td>\n",
       "      <td>3205706.0</td>\n",
       "      <td>20005613.0</td>\n",
       "      <td>12005613.0</td>\n",
       "      <td>150.1</td>\n",
       "      <td>2.5</td>\n",
       "      <td>2010</td>\n",
       "      <td>[Comedy, Drama]</td>\n",
       "      <td>...</td>\n",
       "      <td>0.0</td>\n",
       "      <td>0.0</td>\n",
       "      <td>0.0</td>\n",
       "      <td>0.0</td>\n",
       "      <td>0.0</td>\n",
       "      <td>0.0</td>\n",
       "      <td>0.0</td>\n",
       "      <td>0.0</td>\n",
       "      <td>Another Year</td>\n",
       "      <td>PG-13</td>\n",
       "    </tr>\n",
       "    <tr>\n",
       "      <th>403</th>\n",
       "      <td>Nov 11, 2016</td>\n",
       "      <td>Almost Christmas</td>\n",
       "      <td>17000000.0</td>\n",
       "      <td>42065185.0</td>\n",
       "      <td>42493506.0</td>\n",
       "      <td>25493506.0</td>\n",
       "      <td>150.0</td>\n",
       "      <td>2.5</td>\n",
       "      <td>2016</td>\n",
       "      <td>[Comedy, Drama]</td>\n",
       "      <td>...</td>\n",
       "      <td>0.0</td>\n",
       "      <td>0.0</td>\n",
       "      <td>0.0</td>\n",
       "      <td>0.0</td>\n",
       "      <td>0.0</td>\n",
       "      <td>0.0</td>\n",
       "      <td>0.0</td>\n",
       "      <td>0.0</td>\n",
       "      <td>Almost Christmas</td>\n",
       "      <td>PG-13</td>\n",
       "    </tr>\n",
       "  </tbody>\n",
       "</table>\n",
       "<p>404 rows × 33 columns</p>\n",
       "</div>"
      ],
      "text/plain": [
       "     release_date                  movie  production_budget  domestic_gross  \\\n",
       "0    Oct 20, 2010  Paranormal Activity 2          3000000.0      84752907.0   \n",
       "1    Feb 24, 2017                Get Out          5000000.0     176040665.0   \n",
       "2    Oct 21, 2011  Paranormal Activity 3          5000000.0     104028807.0   \n",
       "3     Jun 7, 2013              The Purge          3000000.0      64473115.0   \n",
       "4     Jun 7, 2013              The Purge          3000000.0      64473115.0   \n",
       "..            ...                    ...                ...             ...   \n",
       "399   Mar 4, 2011  The Adjustment Bureau         50200000.0      62495645.0   \n",
       "400  Mar 18, 2011                   Paul         40000000.0      37412945.0   \n",
       "401  Dec 25, 2014               Unbroken         65000000.0     115637895.0   \n",
       "402  Dec 29, 2010           Another Year          8000000.0       3205706.0   \n",
       "403  Nov 11, 2016       Almost Christmas         17000000.0      42065185.0   \n",
       "\n",
       "     worldwide_gross  profit_over_pb  roi_percent  x_times_invest  start_year  \\\n",
       "0        177512032.0     174512032.0       5817.1            59.2        2010   \n",
       "1        255367951.0     250367951.0       5007.4            51.1        2017   \n",
       "2        207039844.0     202039844.0       4040.8            41.4        2011   \n",
       "3         91266581.0      88266581.0       2942.2            30.4        2013   \n",
       "4         91266581.0      88266581.0       2942.2            30.4        2013   \n",
       "..               ...             ...          ...             ...         ...   \n",
       "399      126931325.0      76731325.0        152.9             2.5        2011   \n",
       "400      101162106.0      61162106.0        152.9             2.5        2011   \n",
       "401      163527824.0      98527824.0        151.6             2.5        2014   \n",
       "402       20005613.0      12005613.0        150.1             2.5        2010   \n",
       "403       42493506.0      25493506.0        150.0             2.5        2016   \n",
       "\n",
       "                          genres  ...  Thriller  Animation  Romance  Music  \\\n",
       "0                       [Horror]  ...       0.0        0.0      0.0    0.0   \n",
       "1    [Horror, Mystery, Thriller]  ...       1.0        0.0      0.0    0.0   \n",
       "2    [Horror, Mystery, Thriller]  ...       1.0        0.0      0.0    0.0   \n",
       "3             [Horror, Thriller]  ...       1.0        0.0      0.0    0.0   \n",
       "4             [Horror, Thriller]  ...       1.0        0.0      0.0    0.0   \n",
       "..                           ...  ...       ...        ...      ...    ...   \n",
       "399  [Romance, Sci-Fi, Thriller]  ...       1.0        0.0      1.0    0.0   \n",
       "400  [Adventure, Comedy, Sci-Fi]  ...       0.0        0.0      0.0    0.0   \n",
       "401    [Biography, Drama, Sport]  ...       0.0        0.0      0.0    0.0   \n",
       "402              [Comedy, Drama]  ...       0.0        0.0      0.0    0.0   \n",
       "403              [Comedy, Drama]  ...       0.0        0.0      0.0    0.0   \n",
       "\n",
       "     Horror  Western  Musical  Mystery                  Title  mpaa_rating  \n",
       "0       1.0      0.0      0.0      0.0  Paranormal Activity 2            R  \n",
       "1       1.0      0.0      0.0      1.0                Get Out            R  \n",
       "2       1.0      0.0      0.0      1.0  Paranormal Activity 3            R  \n",
       "3       1.0      0.0      0.0      0.0              The Purge            R  \n",
       "4       1.0      0.0      0.0      0.0              The Purge            R  \n",
       "..      ...      ...      ...      ...                    ...          ...  \n",
       "399     0.0      0.0      0.0      0.0  The Adjustment Bureau        PG-13  \n",
       "400     0.0      0.0      0.0      0.0                   Paul            R  \n",
       "401     0.0      0.0      0.0      0.0               Unbroken        PG-13  \n",
       "402     0.0      0.0      0.0      0.0           Another Year        PG-13  \n",
       "403     0.0      0.0      0.0      0.0       Almost Christmas        PG-13  \n",
       "\n",
       "[404 rows x 33 columns]"
      ]
     },
     "execution_count": 420,
     "metadata": {},
     "output_type": "execute_result"
    }
   ],
   "source": [
    "df_budget_genre_ratings"
   ]
  },
  {
   "cell_type": "code",
   "execution_count": 421,
   "metadata": {
    "ExecuteTime": {
     "end_time": "2021-05-04T22:13:27.267062Z",
     "start_time": "2021-05-04T22:13:27.253055Z"
    }
   },
   "outputs": [],
   "source": [
    "\n",
    "    grouped = df_budget_genre_ratings.groupby(by ='mpaa_rating').mean()\n"
   ]
  },
  {
   "cell_type": "code",
   "execution_count": 422,
   "metadata": {
    "ExecuteTime": {
     "end_time": "2021-05-04T22:13:27.283019Z",
     "start_time": "2021-05-04T22:13:27.269013Z"
    }
   },
   "outputs": [
    {
     "ename": "NameError",
     "evalue": "name 'avg_roi_by_rating' is not defined",
     "output_type": "error",
     "traceback": [
      "\u001b[1;31m---------------------------------------------------------------------------\u001b[0m",
      "\u001b[1;31mNameError\u001b[0m                                 Traceback (most recent call last)",
      "\u001b[1;32m<ipython-input-422-49c89dc1aed1>\u001b[0m in \u001b[0;36m<module>\u001b[1;34m\u001b[0m\n\u001b[1;32m----> 1\u001b[1;33m \u001b[0mavg_roi_by_rating\u001b[0m\u001b[1;33m[\u001b[0m\u001b[0mratings\u001b[0m\u001b[1;33m]\u001b[0m \u001b[1;33m=\u001b[0m \u001b[0mgrouped\u001b[0m\u001b[1;33m.\u001b[0m\u001b[0miloc\u001b[0m\u001b[1;33m[\u001b[0m\u001b[1;36m1\u001b[0m\u001b[1;33m]\u001b[0m\u001b[1;33m[\u001b[0m\u001b[1;34m'roi_percent'\u001b[0m\u001b[1;33m]\u001b[0m\u001b[1;33m\u001b[0m\u001b[1;33m\u001b[0m\u001b[0m\n\u001b[0m",
      "\u001b[1;31mNameError\u001b[0m: name 'avg_roi_by_rating' is not defined"
     ]
    }
   ],
   "source": [
    "    avg_roi_by_rating[ratings] = grouped.iloc[1]['roi_percent']"
   ]
  },
  {
   "cell_type": "code",
   "execution_count": null,
   "metadata": {
    "ExecuteTime": {
     "end_time": "2021-05-04T22:13:27.304916Z",
     "start_time": "2021-05-04T22:13:05.307Z"
    }
   },
   "outputs": [],
   "source": [
    "avg_roi_by_rating"
   ]
  },
  {
   "cell_type": "code",
   "execution_count": null,
   "metadata": {
    "ExecuteTime": {
     "end_time": "2021-05-04T22:13:27.305914Z",
     "start_time": "2021-05-04T22:13:05.311Z"
    }
   },
   "outputs": [],
   "source": [
    "df_not_R = df_budget_genre_ratings[df_budget_genre_ratings['mpaa_rating'] != 'R']"
   ]
  },
  {
   "cell_type": "code",
   "execution_count": null,
   "metadata": {
    "ExecuteTime": {
     "end_time": "2021-05-04T22:13:27.306913Z",
     "start_time": "2021-05-04T22:13:05.315Z"
    }
   },
   "outputs": [],
   "source": [
    "df_not_R"
   ]
  },
  {
   "cell_type": "code",
   "execution_count": null,
   "metadata": {
    "ExecuteTime": {
     "end_time": "2021-05-04T22:13:27.307911Z",
     "start_time": "2021-05-04T22:13:05.318Z"
    }
   },
   "outputs": [],
   "source": [
    "#making a list of all columns\n",
    "colsnotr = list(df_not_R.columns)"
   ]
  },
  {
   "cell_type": "code",
   "execution_count": null,
   "metadata": {
    "ExecuteTime": {
     "end_time": "2021-05-04T22:13:27.308908Z",
     "start_time": "2021-05-04T22:13:05.321Z"
    }
   },
   "outputs": [],
   "source": [
    "colsnotr"
   ]
  },
  {
   "cell_type": "code",
   "execution_count": null,
   "metadata": {
    "ExecuteTime": {
     "end_time": "2021-05-04T22:13:27.309905Z",
     "start_time": "2021-05-04T22:13:05.325Z"
    }
   },
   "outputs": [],
   "source": [
    "genre_colsnotr = cols[14:36]"
   ]
  },
  {
   "cell_type": "code",
   "execution_count": null,
   "metadata": {
    "ExecuteTime": {
     "end_time": "2021-05-04T22:13:27.310902Z",
     "start_time": "2021-05-04T22:13:05.329Z"
    }
   },
   "outputs": [],
   "source": [
    "df_not_R"
   ]
  },
  {
   "cell_type": "code",
   "execution_count": null,
   "metadata": {
    "ExecuteTime": {
     "end_time": "2021-05-04T22:13:27.311900Z",
     "start_time": "2021-05-04T22:13:05.332Z"
    }
   },
   "outputs": [],
   "source": [
    "\n",
    "genre_colsnotr = cols[14:36]\n",
    "\n",
    "#getting a dict with genre counts\n",
    "genre_countnotr = {}\n",
    "for col in genre_cols:\n",
    "    count = np.sum(df_not_R[col] == 1).sum() \n",
    "    genre_countnotr[col] = count"
   ]
  },
  {
   "cell_type": "code",
   "execution_count": null,
   "metadata": {
    "ExecuteTime": {
     "end_time": "2021-05-04T22:13:27.312897Z",
     "start_time": "2021-05-04T22:13:05.335Z"
    }
   },
   "outputs": [],
   "source": [
    "genre_countnotr"
   ]
  },
  {
   "cell_type": "code",
   "execution_count": null,
   "metadata": {
    "ExecuteTime": {
     "end_time": "2021-05-04T22:13:27.313894Z",
     "start_time": "2021-05-04T22:13:05.339Z"
    }
   },
   "outputs": [],
   "source": [
    "keys_notr = list(genre_countnotr.keys())\n",
    "values_notr = list(genre_countnotr.values())"
   ]
  },
  {
   "cell_type": "code",
   "execution_count": null,
   "metadata": {
    "ExecuteTime": {
     "end_time": "2021-05-04T22:13:27.314892Z",
     "start_time": "2021-05-04T22:13:05.342Z"
    }
   },
   "outputs": [],
   "source": [
    "#Histogram of Genres Counts\n",
    "\n",
    "sns.set(style=\"darkgrid\") \n",
    "fig, ax1 = plt.subplots(figsize=(12,4),sharex=True ,sharey=True)\n",
    "\n",
    "histplot = sns.barplot(y = keys_notr, x = values_notr, color = 'skyblue',\n",
    "                       label='Count of Genre Tags')\n",
    "\n",
    "ax1.set_xlabel('Genre Count', fontsize=15)\n",
    "ax1.set_ylabel('Film Genres', fontsize=15)\n",
    "ax1.set_title('Count of All Distinct Genres not R rated',fontsize=20)\n",
    "#Set the Average Line\n",
    "\n",
    "ax1.set(xlim = (0,140))\n",
    "\n",
    "ax1.legend(loc='upper right')\n",
    "plt.show();\n"
   ]
  },
  {
   "cell_type": "code",
   "execution_count": null,
   "metadata": {},
   "outputs": [],
   "source": []
  },
  {
   "cell_type": "code",
   "execution_count": null,
   "metadata": {
    "ExecuteTime": {
     "end_time": "2021-05-04T22:13:27.315889Z",
     "start_time": "2021-05-04T22:13:05.347Z"
    }
   },
   "outputs": [],
   "source": [
    "#Average Roi% by Genre\n",
    "max_roi_genrenotr= {}\n",
    "for genre in all_genresnotr:\n",
    "    grouped = df_not_R.groupby(by =''.join(genre)).max()\n",
    "    max_roi_genrenotr[genre] = grouped.iloc[0]['roi_percent']"
   ]
  },
  {
   "cell_type": "code",
   "execution_count": null,
   "metadata": {
    "ExecuteTime": {
     "end_time": "2021-05-04T22:13:27.317884Z",
     "start_time": "2021-05-04T22:13:05.351Z"
    }
   },
   "outputs": [],
   "source": [
    "#Average Roi% by Genre\n",
    "avg_roi_genrenotr= {}\n",
    "for genre in all_genresnotr:\n",
    "    grouped = df_not_R.groupby(by =''.join(genre)).mean()\n",
    "    avg_roi_genrenotr[genre] = grouped.iloc[0]['roi_percent']"
   ]
  },
  {
   "cell_type": "code",
   "execution_count": null,
   "metadata": {
    "ExecuteTime": {
     "end_time": "2021-05-04T22:13:27.318881Z",
     "start_time": "2021-05-04T22:13:05.354Z"
    }
   },
   "outputs": [],
   "source": [
    "#Average Gross by Genre\n",
    "ww_gross_avgnotr = {}\n",
    "for genre in all_genresnotr:\n",
    "    grouped = df_not_R.groupby(by =''.join(genre)).mean()\n",
    "    ww_gross_avg[genre] = grouped.iloc[0]['worldwide_gross']"
   ]
  },
  {
   "cell_type": "code",
   "execution_count": null,
   "metadata": {
    "ExecuteTime": {
     "end_time": "2021-05-04T22:13:27.319879Z",
     "start_time": "2021-05-04T22:13:05.358Z"
    }
   },
   "outputs": [],
   "source": [
    "#Average PB by Genre\n",
    "pb_avgnotr = {}\n",
    "for genre in all_genresnotr:\n",
    "    grouped = df_not_R.groupby(by =''.join(genre)).mean()\n",
    "    pb_avgnotr[genre] = grouped.iloc[0]['production_budget']"
   ]
  },
  {
   "cell_type": "code",
   "execution_count": null,
   "metadata": {
    "ExecuteTime": {
     "end_time": "2021-05-04T22:13:27.320876Z",
     "start_time": "2021-05-04T22:13:05.361Z"
    }
   },
   "outputs": [],
   "source": [
    "max_pb_genrenotr = {}\n",
    "for genre in all_genresnotr:\n",
    "    grouped = df_not_R.groupby(by =''.join(genre)).max()\n",
    "    max_pb_genrenotr[genre] = grouped.iloc[0]['production_budget']"
   ]
  },
  {
   "cell_type": "code",
   "execution_count": null,
   "metadata": {
    "ExecuteTime": {
     "end_time": "2021-05-04T22:13:27.321873Z",
     "start_time": "2021-05-04T22:13:05.364Z"
    }
   },
   "outputs": [],
   "source": [
    "max_roi_genrenotr"
   ]
  },
  {
   "cell_type": "code",
   "execution_count": null,
   "metadata": {
    "ExecuteTime": {
     "end_time": "2021-05-04T22:13:27.322871Z",
     "start_time": "2021-05-04T22:13:05.368Z"
    }
   },
   "outputs": [],
   "source": [
    "#a set of distinct genres in the df\n",
    "all_genresnotr = set()\n",
    "for genres in df_not_R['genres']:\n",
    "    if genres:\n",
    "        all_genresnotr.update(genres)"
   ]
  },
  {
   "cell_type": "code",
   "execution_count": null,
   "metadata": {
    "ExecuteTime": {
     "end_time": "2021-05-04T22:13:27.323868Z",
     "start_time": "2021-05-04T22:13:05.371Z"
    }
   },
   "outputs": [],
   "source": [
    "#Genre Grid \n",
    "#This graph of subplots could be refactored to a function and could be reused \n",
    "sns.set(style=\"darkgrid\") \n",
    "fig, ((ax3, ax4), (ax5, ax6)) = plt.subplots(figsize=(10,12),\n",
    "                                                 nrows=2,ncols=2, )\n",
    "max_roi_genrenotr\n",
    "df_items3 = pd.DataFrame(max_roi_genrenotr.items())\n",
    "ax3 = sns.barplot(data=df_items3, x=1, y=0, ax=ax3, color = 'skyblue')\n",
    "ax3.set(xlabel = '% ROI', ylabel='Film Genre', title='Max Roi Percent per Genre');\n",
    "ax3.set_ylabel('Film Genres', fontsize=15)\n",
    "ax3.set_title('Max Roi Percent per Genre',fontsize=15)\n",
    "\n",
    "\n",
    "\n",
    "df_items4 = pd.DataFrame(avg_roi_genrenotr.items())\n",
    "ax4 = sns.barplot(data=df_items4, x=1, y=0, ax=ax4, color = 'skyblue')\n",
    "ax4.set(xlabel = '% ROI', ylabel='Film Genre', title='Avg Roi Percent per Genre');\n",
    "ax4.set_ylabel('Film Genres', fontsize=15)\n",
    "ax4.set_title('Avg Roi Percent per Genre',fontsize=15)\n",
    "\n",
    "df_items5 = pd.DataFrame(max_pb_genrenotr.items())\n",
    "ax5 = sns.barplot(data=df_items5, x=1, y=0, ax=ax5, color = 'skyblue')\n",
    "ax5.set(xlabel = 'PB', ylabel='Film Genre', title='Max PB per Genre');\n",
    "ax5.set_ylabel('Film Genres', fontsize=15)\n",
    "ax5.set_title('Max PB per Genre',fontsize=15)\n",
    "# fixing xticks warning with matplotlib.ticker \"FixedLocator\"\n",
    "ticks_loc = ax5.get_xticks().tolist()\n",
    "ax5.xaxis.set_major_locator(mticker.FixedLocator(ticks_loc))\n",
    "ax5.set_xticklabels(['{:,.0f}'.format(x/1000000) + 'M' for x in ticks_loc])\n",
    "\n",
    "df_items6 = pd.DataFrame(pb_avgnotr.items())\n",
    "ax6 = sns.barplot(data=df_items6, x=1, y=0, ax=ax6, color = 'skyblue')\n",
    "ax6.set(xlabel = 'Production Budget in Millions', ylabel='Genre', title='Avg Production per Genre')\n",
    "ax6.set_ylabel('Film Genres', fontsize=15)\n",
    "ax6.set_title('Avg Production per Genre',fontsize=15)\n",
    "# fixing xticks warning with matplotlib.ticker \"FixedLocator\"\n",
    "ticks_loc = ax6.get_xticks().tolist()\n",
    "ax6.xaxis.set_major_locator(mticker.FixedLocator(ticks_loc))\n",
    "ax6.set_xticklabels(['{:,.0f}'.format(x/1000000) + 'M' for x in ticks_loc])\n",
    "\n",
    "plt.subplots_adjust(wspace=0.8,hspace=.4)\n",
    "plt.show();\n"
   ]
  },
  {
   "cell_type": "code",
   "execution_count": null,
   "metadata": {
    "ExecuteTime": {
     "end_time": "2021-05-04T22:13:27.324865Z",
     "start_time": "2021-05-04T22:13:05.377Z"
    }
   },
   "outputs": [],
   "source": [
    "sns.set(style=\"darkgrid\") \n",
    "fig, ax4 = plt.subplots(figsize=(6,6),nrows=1,ncols=1, )\n",
    "\n",
    "df_items4 = pd.DataFrame(avg_roi_genrenotr.items())\n",
    "ax4 = sns.barplot(data=df_items4, x=1, y=0, ax=ax4, color = 'skyblue')\n",
    "ax4.set(xlabel = '% ROI', ylabel='Film Genre', title='Avg Roi Percent per Genre');\n",
    "ax4.set_ylabel('Film Genres', fontsize=15)\n",
    "ax4.set_title('Avg Roi Percent per Genre',fontsize=15)"
   ]
  },
  {
   "cell_type": "markdown",
   "metadata": {
    "ExecuteTime": {
     "end_time": "2021-04-30T11:21:06.735430Z",
     "start_time": "2021-04-30T11:21:06.730440Z"
    }
   },
   "source": [
    "__Conclusion:__ Genres higher average returns are with R rating are Horror, Mystery and Thrillers.  Excluding R ratings, Comedy has a higher ROI% closely followed by Adventure, Crime, Action, Sport, Romance.  Anything really except Horror, Drama are worst when not R rated but not by much."
   ]
  },
  {
   "cell_type": "markdown",
   "metadata": {
    "ExecuteTime": {
     "end_time": "2021-04-29T03:09:50.546023Z",
     "start_time": "2021-04-29T03:09:50.354499Z"
    }
   },
   "source": [
    "### Question: When should we most optimally release our movies? Are there better months for our releases?"
   ]
  },
  {
   "cell_type": "markdown",
   "metadata": {},
   "source": [
    "In answering the question When to Release the movie lets look to see when previous movies were released.\n",
    "Lets make a column for release month.\n"
   ]
  },
  {
   "cell_type": "code",
   "execution_count": null,
   "metadata": {
    "ExecuteTime": {
     "end_time": "2021-05-04T22:13:27.325862Z",
     "start_time": "2021-05-04T22:13:05.385Z"
    }
   },
   "outputs": [],
   "source": [
    "df_budget_genres.head()"
   ]
  },
  {
   "cell_type": "code",
   "execution_count": null,
   "metadata": {
    "ExecuteTime": {
     "end_time": "2021-05-04T22:13:27.327857Z",
     "start_time": "2021-05-04T22:13:05.390Z"
    }
   },
   "outputs": [],
   "source": [
    "df_budget_genres['release_month'] = pd.to_datetime(df_budget_genres.release_date).dt.strftime('%b')\n",
    "#df_budget_genres['release_month'] = pd.to_datetime(df_budget_genres.release_date).dt.month"
   ]
  },
  {
   "cell_type": "code",
   "execution_count": null,
   "metadata": {
    "ExecuteTime": {
     "end_time": "2021-05-04T22:13:27.328854Z",
     "start_time": "2021-05-04T22:13:05.394Z"
    }
   },
   "outputs": [],
   "source": [
    "df_budget_genres.head()"
   ]
  },
  {
   "cell_type": "code",
   "execution_count": null,
   "metadata": {
    "ExecuteTime": {
     "end_time": "2021-05-04T22:13:27.329852Z",
     "start_time": "2021-05-04T22:13:05.398Z"
    }
   },
   "outputs": [],
   "source": [
    "df_budget_genres"
   ]
  },
  {
   "cell_type": "code",
   "execution_count": null,
   "metadata": {
    "ExecuteTime": {
     "end_time": "2021-05-04T22:13:27.330850Z",
     "start_time": "2021-05-04T22:13:05.401Z"
    }
   },
   "outputs": [],
   "source": [
    "pd.to_datetime(df_budget_genres['release_date']).dt.year"
   ]
  },
  {
   "cell_type": "code",
   "execution_count": null,
   "metadata": {
    "ExecuteTime": {
     "end_time": "2021-05-04T22:13:27.331847Z",
     "start_time": "2021-05-04T22:13:05.406Z"
    }
   },
   "outputs": [],
   "source": [
    "df_budget_genres['month'] = pd.to_datetime(df_budget_genres['release_date']).dt.month"
   ]
  },
  {
   "cell_type": "code",
   "execution_count": null,
   "metadata": {
    "ExecuteTime": {
     "end_time": "2021-05-04T22:13:27.333842Z",
     "start_time": "2021-05-04T22:13:05.410Z"
    }
   },
   "outputs": [],
   "source": [
    "df_budget_genres.sort_values(by='month', inplace=True)"
   ]
  },
  {
   "cell_type": "code",
   "execution_count": null,
   "metadata": {
    "ExecuteTime": {
     "end_time": "2021-05-04T22:13:27.334839Z",
     "start_time": "2021-05-04T22:13:05.413Z"
    }
   },
   "outputs": [],
   "source": [
    "##Histplot of movies release in month\n",
    "sns.set(style=\"darkgrid\") \n",
    "fig, (ax1, ax2) = plt.subplots(figsize=(16,6),nrows =2, ncols=1,sharex=True ,sharey=False)\n",
    "ax1 = sns.histplot(df_budget_genres, x=\"release_month\",bins=12,shrink=.8, ax=ax1)\n",
    "ax1.set(xlabel = 'Month of Film Release', ylabel='Number of Films', title='Count per Month')\n",
    "\n",
    "sns.boxplot(x='release_month',y='roi_percent',data=df_budget_genres,ax=ax2,\n",
    "            palette='cool',fliersize=0)\n",
    "ax2.set(xlabel = 'Month vs ROI %', ylabel='ROI %', )\n",
    "ax2.set_ylim(top=1600)\n",
    "ax2.axhline(y=570)\n",
    "\n",
    "plt.subplots_adjust(wspace=0.8, hspace=0.05)\n",
    "plt.show();\n"
   ]
  },
  {
   "cell_type": "markdown",
   "metadata": {},
   "source": [
    "__Conclusion:__  Some very good high returns on investment occurred in the months of October and December.  The median returns per month are similar and all under the 10 times investment.  There is a down trend with September and May not having huge gains.  October could be closely related with Halloween and Horror and/or Thriler movies.  Safe months are June, July, Aug, Oct Nov."
   ]
  },
  {
   "cell_type": "markdown",
   "metadata": {},
   "source": [
    "\n",
    "\n",
    "\n",
    "\n",
    "\n",
    "\n",
    "\n",
    "\n",
    "\n",
    "\n",
    "\n",
    "\n",
    "\n",
    "\n",
    "\n",
    "***\n",
    "\n",
    "***\n",
    "\n",
    "***\n"
   ]
  },
  {
   "cell_type": "markdown",
   "metadata": {
    "ExecuteTime": {
     "end_time": "2021-04-29T03:55:51.490834Z",
     "start_time": "2021-04-29T03:55:51.482819Z"
    }
   },
   "source": [
    "### Question: How many feature films should we release per year? ie drives initial investment"
   ]
  },
  {
   "cell_type": "markdown",
   "metadata": {
    "ExecuteTime": {
     "end_time": "2021-04-29T04:32:32.047768Z",
     "start_time": "2021-04-29T04:32:32.016817Z"
    }
   },
   "source": [
    "#How many movies a year? Lets Look at the successful studios number a year.\n",
    "df_bom has studio info...We can join on budget genres to get month and year.\n"
   ]
  },
  {
   "cell_type": "code",
   "execution_count": null,
   "metadata": {
    "ExecuteTime": {
     "end_time": "2021-05-04T22:13:27.335836Z",
     "start_time": "2021-05-04T22:13:05.421Z"
    }
   },
   "outputs": [],
   "source": [
    "df_bom.head()"
   ]
  },
  {
   "cell_type": "code",
   "execution_count": null,
   "metadata": {
    "ExecuteTime": {
     "end_time": "2021-05-04T22:13:27.336833Z",
     "start_time": "2021-05-04T22:13:05.425Z"
    }
   },
   "outputs": [],
   "source": [
    "df_budget_genres.info()"
   ]
  },
  {
   "cell_type": "code",
   "execution_count": null,
   "metadata": {
    "ExecuteTime": {
     "end_time": "2021-05-04T22:13:27.338828Z",
     "start_time": "2021-05-04T22:13:05.429Z"
    }
   },
   "outputs": [],
   "source": [
    "df_studios_bud_genres = pd.merge(df_budget_genres, df_bom, \n",
    "                            left_on=  ['movie',pd.to_datetime(df_budget_genres['release_date']).dt.year],\n",
    "                            right_on= ['title','year'], \n",
    "                            how = 'left')"
   ]
  },
  {
   "cell_type": "code",
   "execution_count": null,
   "metadata": {
    "ExecuteTime": {
     "end_time": "2021-05-04T22:13:27.339825Z",
     "start_time": "2021-05-04T22:13:05.433Z"
    }
   },
   "outputs": [],
   "source": [
    "df_studios_bud_genres[df_studios_bud_genres.studio.isna()]"
   ]
  },
  {
   "cell_type": "code",
   "execution_count": null,
   "metadata": {
    "ExecuteTime": {
     "end_time": "2021-05-04T22:13:27.340823Z",
     "start_time": "2021-05-04T22:13:05.437Z"
    }
   },
   "outputs": [],
   "source": [
    "df_bom[df_bom.index== 'Get Out']"
   ]
  },
  {
   "cell_type": "code",
   "execution_count": null,
   "metadata": {
    "ExecuteTime": {
     "end_time": "2021-05-04T22:13:27.341820Z",
     "start_time": "2021-05-04T22:13:05.441Z"
    }
   },
   "outputs": [],
   "source": [
    "df_studios_bud_genres = df_studios_bud_genres[df_studios_bud_genres.studio.notna()]"
   ]
  },
  {
   "cell_type": "code",
   "execution_count": null,
   "metadata": {
    "ExecuteTime": {
     "end_time": "2021-05-04T22:13:27.342818Z",
     "start_time": "2021-05-04T22:13:05.444Z"
    }
   },
   "outputs": [],
   "source": [
    "#a set of distinct genres in the df\n",
    "all_studios = set(df_studios_bud_genres['studio'])"
   ]
  },
  {
   "cell_type": "code",
   "execution_count": null,
   "metadata": {
    "ExecuteTime": {
     "end_time": "2021-05-04T22:13:27.343815Z",
     "start_time": "2021-05-04T22:13:05.448Z"
    }
   },
   "outputs": [],
   "source": [
    "all_studios"
   ]
  },
  {
   "cell_type": "code",
   "execution_count": null,
   "metadata": {
    "ExecuteTime": {
     "end_time": "2021-05-04T22:13:27.345809Z",
     "start_time": "2021-05-04T22:13:05.453Z"
    }
   },
   "outputs": [],
   "source": [
    "#getting a dict with Studio counts\n",
    "studio_count = {}\n",
    "for col in genre_cols:\n",
    "    count = np.sum(df_budget_genres[col] == 1).sum() \n",
    "    genre_count[col] = count"
   ]
  },
  {
   "cell_type": "code",
   "execution_count": null,
   "metadata": {
    "ExecuteTime": {
     "end_time": "2021-05-04T22:13:27.346806Z",
     "start_time": "2021-05-04T22:13:05.456Z"
    }
   },
   "outputs": [],
   "source": [
    "df_studios_bud_genres['studio'].value_counts()"
   ]
  },
  {
   "cell_type": "code",
   "execution_count": null,
   "metadata": {
    "ExecuteTime": {
     "end_time": "2021-05-04T22:13:27.347804Z",
     "start_time": "2021-05-04T22:13:05.460Z"
    }
   },
   "outputs": [],
   "source": [
    "studio_count = dict(df_studios_bud_genres['studio'].value_counts())"
   ]
  },
  {
   "cell_type": "code",
   "execution_count": null,
   "metadata": {
    "ExecuteTime": {
     "end_time": "2021-05-04T22:13:27.348801Z",
     "start_time": "2021-05-04T22:13:05.463Z"
    }
   },
   "outputs": [],
   "source": [
    "studio_count"
   ]
  },
  {
   "cell_type": "code",
   "execution_count": null,
   "metadata": {
    "ExecuteTime": {
     "end_time": "2021-05-04T22:13:27.349799Z",
     "start_time": "2021-05-04T22:13:05.468Z"
    }
   },
   "outputs": [],
   "source": [
    "df_bom_studio = df_bom.groupby(by=['studio','year']).count()"
   ]
  },
  {
   "cell_type": "code",
   "execution_count": null,
   "metadata": {
    "ExecuteTime": {
     "end_time": "2021-05-04T22:13:27.350796Z",
     "start_time": "2021-05-04T22:13:05.474Z"
    }
   },
   "outputs": [],
   "source": [
    "df_bom_studio"
   ]
  },
  {
   "cell_type": "code",
   "execution_count": null,
   "metadata": {
    "ExecuteTime": {
     "end_time": "2021-05-04T22:13:27.352791Z",
     "start_time": "2021-05-04T22:13:05.480Z"
    }
   },
   "outputs": [],
   "source": [
    "df_bom_studio_pivott = df_bom.pivot_table(index='studio' ,values='worldwide_gross',\n",
    "                                          columns='year',\n",
    "                                          margins=True,margins_name='count',\n",
    "                                          aggfunc='count',fill_value=0)"
   ]
  },
  {
   "cell_type": "code",
   "execution_count": null,
   "metadata": {
    "ExecuteTime": {
     "end_time": "2021-05-04T22:13:27.353788Z",
     "start_time": "2021-05-04T22:13:05.484Z"
    }
   },
   "outputs": [],
   "source": [
    "\n",
    "df_bom_studio_pivott.sort_values(['count'], ascending=[False], inplace=True)\n",
    "df_bom_studio_pivott"
   ]
  },
  {
   "cell_type": "code",
   "execution_count": null,
   "metadata": {
    "ExecuteTime": {
     "end_time": "2021-05-04T22:13:27.354785Z",
     "start_time": "2021-05-04T22:13:05.488Z"
    }
   },
   "outputs": [],
   "source": [
    "type(df_bom_studio)"
   ]
  },
  {
   "cell_type": "code",
   "execution_count": null,
   "metadata": {
    "ExecuteTime": {
     "end_time": "2021-05-04T22:13:27.355783Z",
     "start_time": "2021-05-04T22:13:05.492Z"
    }
   },
   "outputs": [],
   "source": [
    "testpiv = df_bom_studio_pivott[1:21]"
   ]
  },
  {
   "cell_type": "code",
   "execution_count": null,
   "metadata": {
    "ExecuteTime": {
     "end_time": "2021-05-04T22:13:27.356780Z",
     "start_time": "2021-05-04T22:13:05.496Z"
    }
   },
   "outputs": [],
   "source": [
    "mask=[False, False, False, False, False, False, \n",
    "                       False, False, False,True]\n",
    "# use Seaborn styles\n",
    "sns.set()\n",
    "fig, ax9 = plt.subplots(figsize=(12, 8))\n",
    "\n",
    "ax9 = sns.heatmap(annot=True, fmt=\"d\", linewidths=.5,data=testpiv, ax=ax9, cmap='coolwarm',mask=mask)\n",
    "ax9.set(xlabel = 'Film Year', ylabel='Film Studio', title='Studio Films per Year ')\n",
    "plt.show()\n",
    "\n"
   ]
  },
  {
   "cell_type": "code",
   "execution_count": null,
   "metadata": {
    "ExecuteTime": {
     "end_time": "2021-05-04T22:13:27.357777Z",
     "start_time": "2021-05-04T22:13:05.500Z"
    }
   },
   "outputs": [],
   "source": [
    "# of the Successful movies number per year\n",
    "#df_studios_bud_genres['studio'].value_counts())\n",
    "df_studio_budget_pivott = df_studios_bud_genres.pivot_table(index='studio' ,values='worldwide_gross_x',\n",
    "                                          columns='year',\n",
    "                                          margins=True,margins_name='count',\n",
    "                                          aggfunc='count',fill_value=0)"
   ]
  },
  {
   "cell_type": "code",
   "execution_count": null,
   "metadata": {
    "ExecuteTime": {
     "end_time": "2021-05-04T22:13:27.358774Z",
     "start_time": "2021-05-04T22:13:05.504Z"
    }
   },
   "outputs": [],
   "source": [
    "df_studio_budget_pivott.sort_values(['count'], ascending=[False], inplace=True)"
   ]
  },
  {
   "cell_type": "code",
   "execution_count": null,
   "metadata": {
    "ExecuteTime": {
     "end_time": "2021-04-29T13:58:25.427865Z",
     "start_time": "2021-04-29T13:58:25.410857Z"
    }
   },
   "outputs": [],
   "source": []
  },
  {
   "cell_type": "code",
   "execution_count": null,
   "metadata": {
    "ExecuteTime": {
     "end_time": "2021-05-04T22:13:27.359772Z",
     "start_time": "2021-05-04T22:13:05.510Z"
    }
   },
   "outputs": [],
   "source": [
    "mask=[False, False, False, False, False, False, \n",
    "                       False, False, False,True]\n",
    "# use Seaborn styles\n",
    "sns.set()\n",
    "fig, ax10 = plt.subplots(figsize=(12, 8))\n",
    "\n",
    "ax10 = sns.heatmap(annot=True, fmt=\"d\", linewidths=.5,data=df_studio_budget_pivott[1:21], ax=ax10, cmap='coolwarm',mask=mask)\n",
    "ax10.set(xlabel = 'Film Year', ylabel='Film Studio', title='Successful Films per Year ')\n",
    "fig.savefig('./images/SuccessFilmsYear.png', bbox_inches='tight')\n",
    "plt.show()"
   ]
  },
  {
   "cell_type": "code",
   "execution_count": null,
   "metadata": {},
   "outputs": [],
   "source": []
  },
  {
   "cell_type": "markdown",
   "metadata": {},
   "source": [
    "__Conclusion:__  With a max of 9 successful films a year is spectacular, a safe bet looks to be 3 to 5 starting out."
   ]
  },
  {
   "cell_type": "markdown",
   "metadata": {
    "ExecuteTime": {
     "end_time": "2021-05-02T19:34:31.888333Z",
     "start_time": "2021-05-02T19:34:31.883305Z"
    }
   },
   "source": [
    "\n",
    "***\n",
    "\n",
    "***\n",
    "\n",
    "***"
   ]
  },
  {
   "cell_type": "markdown",
   "metadata": {},
   "source": [
    "### Question:  What are the sources of the movies?"
   ]
  },
  {
   "cell_type": "markdown",
   "metadata": {},
   "source": [
    "We scraped some data from TheNumbers which had the source material.\n"
   ]
  },
  {
   "cell_type": "code",
   "execution_count": null,
   "metadata": {
    "ExecuteTime": {
     "end_time": "2021-05-04T22:13:27.360769Z",
     "start_time": "2021-05-04T22:13:05.522Z"
    }
   },
   "outputs": [],
   "source": [
    "df_movie_source = pd.read_csv('./data/tn_moviesource.csv',index_col = 0, encoding='utf8')"
   ]
  },
  {
   "cell_type": "code",
   "execution_count": null,
   "metadata": {
    "ExecuteTime": {
     "end_time": "2021-05-04T22:13:27.361767Z",
     "start_time": "2021-05-04T22:13:05.526Z"
    }
   },
   "outputs": [],
   "source": [
    "df_movie_source['Source'].value_counts()"
   ]
  },
  {
   "cell_type": "code",
   "execution_count": null,
   "metadata": {
    "ExecuteTime": {
     "end_time": "2021-05-04T22:13:27.362764Z",
     "start_time": "2021-05-04T22:13:05.529Z"
    }
   },
   "outputs": [],
   "source": [
    "df_budget_genre_ratings_source = pd.merge(df_budget_genre_ratings, df_movie_source, \n",
    "                            left_on=  ['movie'],\n",
    "                            right_on= ['Title'], \n",
    "                            how = 'left')"
   ]
  },
  {
   "cell_type": "code",
   "execution_count": null,
   "metadata": {
    "ExecuteTime": {
     "end_time": "2021-05-04T22:13:27.363761Z",
     "start_time": "2021-05-04T22:13:05.533Z"
    }
   },
   "outputs": [],
   "source": [
    "df_budget_genre_ratings_source.columns"
   ]
  },
  {
   "cell_type": "code",
   "execution_count": null,
   "metadata": {
    "ExecuteTime": {
     "end_time": "2021-05-04T22:13:27.365756Z",
     "start_time": "2021-05-04T22:13:05.537Z"
    }
   },
   "outputs": [],
   "source": [
    "df_budget_genre_ratings_source.drop(columns=['Title','Released_y','Released_x', 'Title_y',\n",
    "                                             'Source_x','Released_x', 'Title_y', 'Source_x'],inplace=True)"
   ]
  },
  {
   "cell_type": "code",
   "execution_count": null,
   "metadata": {
    "ExecuteTime": {
     "end_time": "2021-05-04T22:13:27.366753Z",
     "start_time": "2021-05-04T22:13:05.540Z"
    }
   },
   "outputs": [],
   "source": [
    "df_budget_genre_ratings_source"
   ]
  },
  {
   "cell_type": "code",
   "execution_count": null,
   "metadata": {
    "ExecuteTime": {
     "end_time": "2021-05-04T22:13:27.367750Z",
     "start_time": "2021-05-04T22:13:05.544Z"
    }
   },
   "outputs": [],
   "source": [
    "\n",
    "sourcecounts = df_budget_genre_ratings_source['Source_y'].value_counts(ascending=False).to_frame()"
   ]
  },
  {
   "cell_type": "code",
   "execution_count": null,
   "metadata": {
    "ExecuteTime": {
     "end_time": "2021-05-04T22:13:27.368746Z",
     "start_time": "2021-05-04T22:13:05.547Z"
    }
   },
   "outputs": [],
   "source": [
    "sourcecounts"
   ]
  },
  {
   "cell_type": "markdown",
   "metadata": {
    "ExecuteTime": {
     "end_time": "2021-05-02T20:16:46.929140Z",
     "start_time": "2021-05-02T20:16:46.924179Z"
    }
   },
   "source": [
    "__Conclusion:__ Original Screenplay 219 , Based on book or short story 70, Real Life Events 48"
   ]
  },
  {
   "cell_type": "markdown",
   "metadata": {},
   "source": [
    "***\n",
    "***\n",
    "***"
   ]
  },
  {
   "cell_type": "markdown",
   "metadata": {},
   "source": [
    "# Conclusions\n",
    "Empower Studios Portfolio Strategy includes:\n",
    "Either<br>\n",
    "__Embrace R__  \n",
    "Horror Mystery Thriller Highest ROI%<br>\n",
    "Have the highest average return on Investment.<br>\n",
    "or<br>\n",
    "__Produce No R__\n",
    " Drama, Comedy and Romance, or any except Horror aka Disney Approach<br>\n",
    " \n",
    "Both Plans include<br>\n",
    "Produce 5 to 8 films per year in the <$20M budget Range<br>\n",
    "Release in Summer or late Fall<br>\n",
    "Looking for 50% Original Content 50% Book Source or Factual Events other\n",
    "\n",
    "## Next Steps\n",
    "Analysis of Successful Producers, Directors, Cinematographers, Actors<br>\n",
    "Associating critical rating with success<br>\n",
    "Academy Awards nominations with successful box office<br>"
   ]
  },
  {
   "cell_type": "code",
   "execution_count": null,
   "metadata": {},
   "outputs": [],
   "source": []
  }
 ],
 "metadata": {
  "kernelspec": {
   "display_name": "Python 3",
   "language": "python",
   "name": "python3"
  },
  "language_info": {
   "codemirror_mode": {
    "name": "ipython",
    "version": 3
   },
   "file_extension": ".py",
   "mimetype": "text/x-python",
   "name": "python",
   "nbconvert_exporter": "python",
   "pygments_lexer": "ipython3",
   "version": "3.8.5"
  },
  "toc": {
   "base_numbering": 1,
   "nav_menu": {},
   "number_sections": true,
   "sideBar": true,
   "skip_h1_title": false,
   "title_cell": "Table of Contents",
   "title_sidebar": "Contents",
   "toc_cell": false,
   "toc_position": {
    "height": "calc(100% - 180px)",
    "left": "10px",
    "top": "150px",
    "width": "292.431px"
   },
   "toc_section_display": true,
   "toc_window_display": false
  },
  "varInspector": {
   "cols": {
    "lenName": 16,
    "lenType": 16,
    "lenVar": 40
   },
   "kernels_config": {
    "python": {
     "delete_cmd_postfix": "",
     "delete_cmd_prefix": "del ",
     "library": "var_list.py",
     "varRefreshCmd": "print(var_dic_list())"
    },
    "r": {
     "delete_cmd_postfix": ") ",
     "delete_cmd_prefix": "rm(",
     "library": "var_list.r",
     "varRefreshCmd": "cat(var_dic_list()) "
    }
   },
   "types_to_exclude": [
    "module",
    "function",
    "builtin_function_or_method",
    "instance",
    "_Feature"
   ],
   "window_display": false
  }
 },
 "nbformat": 4,
 "nbformat_minor": 2
}
