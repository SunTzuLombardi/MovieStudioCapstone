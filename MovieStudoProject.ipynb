{
 "cells": [
  {
   "cell_type": "markdown",
   "metadata": {},
   "source": [
    "* Student name: __Daniel M. Smith__\n",
    "* Student pace: __Full Time Online__\n",
    "* Scheduled project review date/time: __May 4, 2021 11 AM__\n",
    "* Instructor name: __Project Reviewer: Claude Fried__ <br> __Cohort Lead: Abhineet Kulkarni__\n",
    "                 \n",
    "* Blog post URL: https://danielmsmith1.medium.com/pivot-vs-pivottable-vs-groupby-2d8723beb782\n"
   ]
  },
  {
   "cell_type": "markdown",
   "metadata": {
    "ExecuteTime": {
     "end_time": "2021-04-30T12:07:12.125028Z",
     "start_time": "2021-04-30T12:07:12.112028Z"
    }
   },
   "source": [
    "Daniel M. Smith <br>\n",
    "Movie Studio Project Phase 1 Flatiron School"
   ]
  },
  {
   "cell_type": "markdown",
   "metadata": {},
   "source": [
    "# Business Understanding\n",
    "Microsoft sees all the big companies creating original video content and they want to get in on the fun. They have decided to create a new movie studio, but they don’t know anything about creating movies. You are charged with exploring what types of films are currently doing the best at the box office. You must then translate those findings into actionable insights that the head of Microsoft's new movie studio can use to help decide what type of films to create."
   ]
  },
  {
   "cell_type": "markdown",
   "metadata": {},
   "source": [
    "# Data Mining \n",
    "Initial data was provided and can be downloaded [here](https://github.com/learn-co-curriculum/dsc-phase-1-project/tree/master/zippedData)."
   ]
  },
  {
   "cell_type": "markdown",
   "metadata": {},
   "source": [
    "# Data Cleaning \n",
    "\n",
    "In this workbook we:\n",
    "1. Load the data into pandas DataFrames\n",
    "2. Inspect and observe the DataFrames\n",
    "3. Clean and convert the data into appropriate types\n"
   ]
  },
  {
   "cell_type": "markdown",
   "metadata": {},
   "source": [
    "## Initial Reading of data files"
   ]
  },
  {
   "cell_type": "code",
   "execution_count": 3,
   "metadata": {
    "ExecuteTime": {
     "end_time": "2021-05-04T19:15:20.669400Z",
     "start_time": "2021-05-04T19:15:20.660425Z"
    }
   },
   "outputs": [],
   "source": [
    "import pandas as pd\n",
    "import numpy as nm\n",
    "from os import listdir\n",
    "import seaborn as sns\n",
    "import matplotlib.pyplot as plt\n",
    "import matplotlib.ticker as mticker\n",
    "\n",
    "path = '../zippedData/'"
   ]
  },
  {
   "cell_type": "code",
   "execution_count": 4,
   "metadata": {
    "ExecuteTime": {
     "end_time": "2021-05-04T19:15:20.684360Z",
     "start_time": "2021-05-04T19:15:20.670397Z"
    }
   },
   "outputs": [],
   "source": [
    "#helper to list all csv or type files in a dir\n",
    "def find_csv_filenames( path_to_dir, suffix=\".csv\"):\n",
    "    filenames = listdir(path_to_dir)\n",
    "    return [ filename for filename in filenames if filename.endswith( suffix ) ]\n",
    "\n",
    "#creates dataframes for type specified\n",
    "def create_dfs(filelist, suffix=\".csv\" ):\n",
    "    #Read all the files and store in a dataFrame\n",
    "    # the data Frames for each file will be listed in a dict \n",
    "    # where key is the name and value is the df\n",
    "    dict_csv_files = {}\n",
    "    \n",
    "    for filename in csvfiles:\n",
    "        filename_cleaned = filename.replace(\".csv\", \"\").replace(\".\",\"_\")#cleaning\n",
    "        filename_df = pd.read_csv(path + filename, index_col = 0, encoding='utf8')\n",
    "        dict_csv_files[filename_cleaned] = filename_df\n",
    "    return dict_csv_files    \n"
   ]
  },
  {
   "cell_type": "code",
   "execution_count": 5,
   "metadata": {
    "ExecuteTime": {
     "end_time": "2021-05-04T19:15:21.093267Z",
     "start_time": "2021-05-04T19:15:20.685357Z"
    }
   },
   "outputs": [
    {
     "ename": "FileNotFoundError",
     "evalue": "[WinError 3] The system cannot find the path specified: '../zippedData/'",
     "output_type": "error",
     "traceback": [
      "\u001b[1;31m---------------------------------------------------------------------------\u001b[0m",
      "\u001b[1;31mFileNotFoundError\u001b[0m                         Traceback (most recent call last)",
      "\u001b[1;32m<ipython-input-5-e330f7f8e661>\u001b[0m in \u001b[0;36m<module>\u001b[1;34m\u001b[0m\n\u001b[0;32m      1\u001b[0m \u001b[1;31m#Create csvfiles, tsvfiles and call createdfs dict\u001b[0m\u001b[1;33m\u001b[0m\u001b[1;33m\u001b[0m\u001b[1;33m\u001b[0m\u001b[0m\n\u001b[1;32m----> 2\u001b[1;33m \u001b[0mcsvfiles\u001b[0m \u001b[1;33m=\u001b[0m \u001b[0mfind_csv_filenames\u001b[0m\u001b[1;33m(\u001b[0m\u001b[0mpath\u001b[0m\u001b[1;33m)\u001b[0m\u001b[1;33m\u001b[0m\u001b[1;33m\u001b[0m\u001b[0m\n\u001b[0m\u001b[0;32m      3\u001b[0m \u001b[0mtsvfiles\u001b[0m \u001b[1;33m=\u001b[0m \u001b[0mfind_csv_filenames\u001b[0m\u001b[1;33m(\u001b[0m\u001b[0mpath\u001b[0m\u001b[1;33m,\u001b[0m\u001b[1;34m'.tsv'\u001b[0m\u001b[1;33m)\u001b[0m\u001b[1;33m\u001b[0m\u001b[1;33m\u001b[0m\u001b[0m\n\u001b[0;32m      4\u001b[0m \u001b[0mdict_dfs\u001b[0m \u001b[1;33m=\u001b[0m \u001b[0mcreate_dfs\u001b[0m\u001b[1;33m(\u001b[0m\u001b[0mcsvfiles\u001b[0m\u001b[1;33m,\u001b[0m \u001b[0msuffix\u001b[0m\u001b[1;33m=\u001b[0m\u001b[1;34m\".csv\"\u001b[0m \u001b[1;33m)\u001b[0m\u001b[1;33m\u001b[0m\u001b[1;33m\u001b[0m\u001b[0m\n",
      "\u001b[1;32m<ipython-input-4-90ae2e2ee2f8>\u001b[0m in \u001b[0;36mfind_csv_filenames\u001b[1;34m(path_to_dir, suffix)\u001b[0m\n\u001b[0;32m      1\u001b[0m \u001b[1;31m#helper to list all csv or type files in a dir\u001b[0m\u001b[1;33m\u001b[0m\u001b[1;33m\u001b[0m\u001b[1;33m\u001b[0m\u001b[0m\n\u001b[0;32m      2\u001b[0m \u001b[1;32mdef\u001b[0m \u001b[0mfind_csv_filenames\u001b[0m\u001b[1;33m(\u001b[0m \u001b[0mpath_to_dir\u001b[0m\u001b[1;33m,\u001b[0m \u001b[0msuffix\u001b[0m\u001b[1;33m=\u001b[0m\u001b[1;34m\".csv\"\u001b[0m\u001b[1;33m)\u001b[0m\u001b[1;33m:\u001b[0m\u001b[1;33m\u001b[0m\u001b[1;33m\u001b[0m\u001b[0m\n\u001b[1;32m----> 3\u001b[1;33m     \u001b[0mfilenames\u001b[0m \u001b[1;33m=\u001b[0m \u001b[0mlistdir\u001b[0m\u001b[1;33m(\u001b[0m\u001b[0mpath_to_dir\u001b[0m\u001b[1;33m)\u001b[0m\u001b[1;33m\u001b[0m\u001b[1;33m\u001b[0m\u001b[0m\n\u001b[0m\u001b[0;32m      4\u001b[0m     \u001b[1;32mreturn\u001b[0m \u001b[1;33m[\u001b[0m \u001b[0mfilename\u001b[0m \u001b[1;32mfor\u001b[0m \u001b[0mfilename\u001b[0m \u001b[1;32min\u001b[0m \u001b[0mfilenames\u001b[0m \u001b[1;32mif\u001b[0m \u001b[0mfilename\u001b[0m\u001b[1;33m.\u001b[0m\u001b[0mendswith\u001b[0m\u001b[1;33m(\u001b[0m \u001b[0msuffix\u001b[0m \u001b[1;33m)\u001b[0m \u001b[1;33m]\u001b[0m\u001b[1;33m\u001b[0m\u001b[1;33m\u001b[0m\u001b[0m\n\u001b[0;32m      5\u001b[0m \u001b[1;33m\u001b[0m\u001b[0m\n",
      "\u001b[1;31mFileNotFoundError\u001b[0m: [WinError 3] The system cannot find the path specified: '../zippedData/'"
     ]
    }
   ],
   "source": [
    "#Create csvfiles, tsvfiles and call createdfs dict\n",
    "csvfiles = find_csv_filenames(path)\n",
    "tsvfiles = find_csv_filenames(path,'.tsv')\n",
    "dict_dfs = create_dfs(csvfiles, suffix=\".csv\" )"
   ]
  },
  {
   "cell_type": "code",
   "execution_count": null,
   "metadata": {
    "ExecuteTime": {
     "end_time": "2021-05-04T19:15:21.097256Z",
     "start_time": "2021-05-04T19:15:20.672Z"
    }
   },
   "outputs": [],
   "source": [
    "dict_dfs.keys()"
   ]
  },
  {
   "cell_type": "code",
   "execution_count": null,
   "metadata": {
    "ExecuteTime": {
     "end_time": "2021-05-04T19:15:21.098253Z",
     "start_time": "2021-05-04T19:15:20.676Z"
    }
   },
   "outputs": [],
   "source": [
    "##Create Working DataFrames\n",
    "df_bom = dict_dfs['bom_movie_gross']\n",
    "df_imdb_name = dict_dfs['imdb_name_basics']       \n",
    "df_imdb_akas = dict_dfs['imdb_title_akas']       \n",
    "df_imdbbasics = dict_dfs['imdb_title_basics']    \n",
    "df_imdb_crew = dict_dfs['imdb_title_crew']     \n",
    "df_imdb_principals = dict_dfs['imdb_title_principals']     \n",
    "df_imdb_ratings = dict_dfs['imdb_title_ratings']         \n",
    "df_tmb = dict_dfs['tmdb_movies']                        \n",
    "df_tn_movie_budget = dict_dfs['tn_movie_budgets']\n",
    "#Excluding rott.tsvfiles  df_rott_info = dict_dfs(' pd.read_csv('zippedData/rt.movie_info.tsv', sep='\\t')\n",
    "#df_rott_rev = dict_dfs(' pd.read_csv('zippedData/rt.reviews.tsv',encoding= 'unicode_escape', sep='\\t')"
   ]
  },
  {
   "cell_type": "markdown",
   "metadata": {
    "ExecuteTime": {
     "end_time": "2021-04-26T22:56:53.296931Z",
     "start_time": "2021-04-26T22:56:53.293938Z"
    }
   },
   "source": [
    "## Inspect DataFrames\n",
    "Inspecting the dfs, Noting observations about the data, describing the data types.  \n",
    "We have 9 DataFrames from the 9 files:  \n",
    "df_bom  \n",
    "df_imdb_name   \n",
    "df_imdb_akas   \n",
    "df_imdbbasics   \n",
    "df_imdb_crew  \n",
    "df_imdb_principals      \n",
    "df_imdb_ratings          \n",
    "df_tmb        \n",
    "df_tn_movie_budget  "
   ]
  },
  {
   "cell_type": "markdown",
   "metadata": {},
   "source": [
    "### Box Office Mojo-df_bom"
   ]
  },
  {
   "cell_type": "code",
   "execution_count": null,
   "metadata": {
    "ExecuteTime": {
     "end_time": "2021-05-04T19:15:21.099251Z",
     "start_time": "2021-05-04T19:15:20.682Z"
    }
   },
   "outputs": [],
   "source": [
    "df_bom.info()"
   ]
  },
  {
   "cell_type": "code",
   "execution_count": null,
   "metadata": {
    "ExecuteTime": {
     "end_time": "2021-05-04T19:15:21.100248Z",
     "start_time": "2021-05-04T19:15:20.687Z"
    }
   },
   "outputs": [],
   "source": [
    "df_bom.head(3)"
   ]
  },
  {
   "cell_type": "markdown",
   "metadata": {},
   "source": [
    "#### Observation df_bom (Box office Mojo) \n",
    "It looks as if the data is for 2010 to 2018 movies \n",
    "of domestic and foreign gross in dollars.   \n",
    "Foreign gross needs to be converted to int datatype."
   ]
  },
  {
   "cell_type": "markdown",
   "metadata": {
    "ExecuteTime": {
     "end_time": "2021-04-27T00:40:10.788599Z",
     "start_time": "2021-04-27T00:40:10.786570Z"
    }
   },
   "source": [
    "### IMDB name basics-df_imdb_name"
   ]
  },
  {
   "cell_type": "code",
   "execution_count": null,
   "metadata": {
    "ExecuteTime": {
     "end_time": "2021-05-04T19:15:21.101245Z",
     "start_time": "2021-05-04T19:15:20.695Z"
    }
   },
   "outputs": [],
   "source": [
    "df_imdb_name.info()"
   ]
  },
  {
   "cell_type": "code",
   "execution_count": null,
   "metadata": {
    "ExecuteTime": {
     "end_time": "2021-05-04T19:15:21.102242Z",
     "start_time": "2021-05-04T19:15:20.699Z"
    },
    "scrolled": true
   },
   "outputs": [],
   "source": [
    "df_imdb_name.head(3)"
   ]
  },
  {
   "cell_type": "markdown",
   "metadata": {},
   "source": [
    "#### Observation df_imdb_name \n",
    "It looks as if the data is a name and profession\n",
    "and known for these movie titles.  \n",
    "The birth year and death year can be dropped as \n",
    "there is a high percentage of data missing from those columns."
   ]
  },
  {
   "cell_type": "markdown",
   "metadata": {
    "ExecuteTime": {
     "end_time": "2021-04-27T00:41:04.361218Z",
     "start_time": "2021-04-27T00:41:04.357228Z"
    }
   },
   "source": [
    "### IMDB akas-df_imdb_akas"
   ]
  },
  {
   "cell_type": "code",
   "execution_count": null,
   "metadata": {
    "ExecuteTime": {
     "end_time": "2021-05-04T19:15:21.103240Z",
     "start_time": "2021-05-04T19:15:20.705Z"
    }
   },
   "outputs": [],
   "source": [
    "df_imdb_akas.info()"
   ]
  },
  {
   "cell_type": "code",
   "execution_count": null,
   "metadata": {
    "ExecuteTime": {
     "end_time": "2021-05-04T19:15:21.103240Z",
     "start_time": "2021-05-04T19:15:20.710Z"
    }
   },
   "outputs": [],
   "source": [
    "df_imdb_akas.head(3)"
   ]
  },
  {
   "cell_type": "markdown",
   "metadata": {},
   "source": [
    "#### Observation df_imdb_akas\n",
    "This data looks to be aka movie names in non domestic markets.  There are lots of NaNs.  Should we just look at isoriginal title as 1?  Where does the title_id link to?  Is ok to leave NaNs alone?"
   ]
  },
  {
   "cell_type": "markdown",
   "metadata": {},
   "source": [
    "### IMDBTitle basics-df_imdbbasics"
   ]
  },
  {
   "cell_type": "code",
   "execution_count": null,
   "metadata": {
    "ExecuteTime": {
     "end_time": "2021-05-04T19:15:21.104238Z",
     "start_time": "2021-05-04T19:15:20.716Z"
    }
   },
   "outputs": [],
   "source": [
    "df_imdbbasics.info()"
   ]
  },
  {
   "cell_type": "code",
   "execution_count": null,
   "metadata": {
    "ExecuteTime": {
     "end_time": "2021-05-04T19:15:21.105235Z",
     "start_time": "2021-05-04T19:15:20.722Z"
    }
   },
   "outputs": [],
   "source": [
    "df_imdbbasics.tail(3)"
   ]
  },
  {
   "cell_type": "code",
   "execution_count": null,
   "metadata": {},
   "outputs": [],
   "source": []
  },
  {
   "cell_type": "markdown",
   "metadata": {},
   "source": [
    "#### Observation df_df_imdbbasics\n",
    "This data has primary title and original title and year and genre of the movie.  Many missing runtime minutes can set to 90 mins?  Main point here is the genre and year and title."
   ]
  },
  {
   "cell_type": "markdown",
   "metadata": {
    "ExecuteTime": {
     "end_time": "2021-04-27T00:46:34.783891Z",
     "start_time": "2021-04-27T00:46:34.781862Z"
    }
   },
   "source": [
    "### IMDB Crew-df_imfb_crew"
   ]
  },
  {
   "cell_type": "code",
   "execution_count": null,
   "metadata": {
    "ExecuteTime": {
     "end_time": "2021-05-04T19:15:21.106232Z",
     "start_time": "2021-05-04T19:15:20.732Z"
    }
   },
   "outputs": [],
   "source": [
    "df_imdb_crew.info()"
   ]
  },
  {
   "cell_type": "code",
   "execution_count": null,
   "metadata": {
    "ExecuteTime": {
     "end_time": "2021-05-04T19:15:21.107230Z",
     "start_time": "2021-05-04T19:15:20.736Z"
    }
   },
   "outputs": [],
   "source": [
    "df_imdb_crew.head(3)"
   ]
  },
  {
   "cell_type": "markdown",
   "metadata": {},
   "source": [
    "#### Observation df_df_imdb_crew\n",
    "This df matches directors and writers to tconst which is primary key in df_imdbbasics and df_imdb_principals."
   ]
  },
  {
   "cell_type": "markdown",
   "metadata": {},
   "source": [
    "### IMDB principals - df_imfb_principals"
   ]
  },
  {
   "cell_type": "code",
   "execution_count": null,
   "metadata": {
    "ExecuteTime": {
     "end_time": "2021-05-04T19:15:21.109224Z",
     "start_time": "2021-05-04T19:15:20.743Z"
    }
   },
   "outputs": [],
   "source": [
    "df_imdb_principals.info()"
   ]
  },
  {
   "cell_type": "code",
   "execution_count": null,
   "metadata": {
    "ExecuteTime": {
     "end_time": "2021-05-04T19:15:21.110221Z",
     "start_time": "2021-05-04T19:15:20.748Z"
    }
   },
   "outputs": [],
   "source": [
    "df_imdb_principals.head(3)"
   ]
  },
  {
   "cell_type": "markdown",
   "metadata": {
    "ExecuteTime": {
     "end_time": "2021-04-27T00:48:18.195027Z",
     "start_time": "2021-04-27T00:48:18.192036Z"
    }
   },
   "source": [
    "#### Observation df_imdb_principals\n",
    "This data lists the roles of principals in movies(tconst) to categories and job and characters if they act.            \n",
    "  Links to df_imdb_crew, df_imdbbasics, df_imdb_name, df_imdb_ratings.             \n",
    "      nconst links to values in the df_imdb_crew and df_imdb_name listing the directors and writers."
   ]
  },
  {
   "cell_type": "markdown",
   "metadata": {},
   "source": [
    "### IMDB ratings-df_imfb_ratings"
   ]
  },
  {
   "cell_type": "code",
   "execution_count": null,
   "metadata": {
    "ExecuteTime": {
     "end_time": "2021-05-04T19:15:21.111218Z",
     "start_time": "2021-05-04T19:15:20.756Z"
    }
   },
   "outputs": [],
   "source": [
    "df_imdb_ratings.info()"
   ]
  },
  {
   "cell_type": "code",
   "execution_count": null,
   "metadata": {
    "ExecuteTime": {
     "end_time": "2021-05-04T19:15:21.112216Z",
     "start_time": "2021-05-04T19:15:20.760Z"
    }
   },
   "outputs": [],
   "source": [
    "df_imdb_ratings.head(3)"
   ]
  },
  {
   "cell_type": "markdown",
   "metadata": {},
   "source": [
    "#### Observation df_imdb_ratings\n",
    "Pretty straightforward rating and number of votes.  title tconst links to tconst(title) in other imdb tables."
   ]
  },
  {
   "cell_type": "markdown",
   "metadata": {
    "ExecuteTime": {
     "end_time": "2021-04-27T00:56:37.969913Z",
     "start_time": "2021-04-27T00:56:37.966921Z"
    }
   },
   "source": [
    "### TMB-df_tmb\n",
    "\n"
   ]
  },
  {
   "cell_type": "code",
   "execution_count": null,
   "metadata": {
    "ExecuteTime": {
     "end_time": "2021-05-04T19:15:21.113214Z",
     "start_time": "2021-05-04T19:15:20.766Z"
    }
   },
   "outputs": [],
   "source": [
    "##The Movie DB\n",
    "df_tmb.info()"
   ]
  },
  {
   "cell_type": "code",
   "execution_count": null,
   "metadata": {
    "ExecuteTime": {
     "end_time": "2021-05-04T19:15:21.114211Z",
     "start_time": "2021-05-04T19:15:20.770Z"
    }
   },
   "outputs": [],
   "source": [
    "df_tmb.tail(3)"
   ]
  },
  {
   "cell_type": "markdown",
   "metadata": {},
   "source": [
    "#### Observation df_tmb\n",
    "There are no Nans.  This looks to be good data about the movies and genres.  \n",
    "Release date is an object and may be converted to a datatime if to be used.  Where to look up genre_ids?\n"
   ]
  },
  {
   "cell_type": "markdown",
   "metadata": {},
   "source": [
    "\n",
    "### TN The Numbers-df_tn_movie_budget"
   ]
  },
  {
   "cell_type": "code",
   "execution_count": null,
   "metadata": {
    "ExecuteTime": {
     "end_time": "2021-05-04T19:15:21.115208Z",
     "start_time": "2021-05-04T19:15:20.776Z"
    }
   },
   "outputs": [],
   "source": [
    "##The Numbers\n",
    "df_tn_movie_budget.info()"
   ]
  },
  {
   "cell_type": "code",
   "execution_count": null,
   "metadata": {
    "ExecuteTime": {
     "end_time": "2021-05-04T19:15:21.116205Z",
     "start_time": "2021-05-04T19:15:20.781Z"
    },
    "scrolled": true
   },
   "outputs": [],
   "source": [
    "df_tn_movie_budget.head(10)"
   ]
  },
  {
   "cell_type": "markdown",
   "metadata": {
    "ExecuteTime": {
     "end_time": "2021-04-27T01:00:20.043026Z",
     "start_time": "2021-04-27T01:00:20.038991Z"
    }
   },
   "source": [
    "#### Observation df_tn_movie_budget\n",
    "There are no Nans.  This data is the movies, release date \n",
    "and worldwide gross with production budget.    Money data should be converted to \n",
    "int and dollas signs removed\n",
    "Release date is an object and may be converted to a datatime if to be used."
   ]
  },
  {
   "cell_type": "markdown",
   "metadata": {},
   "source": [
    "<br><br><br><br><br><br>\n",
    "\n",
    "\n",
    "\n",
    "## Data Cleaning and Typing\n",
    "Removing the NanNs, dropping columns which have no importance or too many nans, converting object datatypes to be useful."
   ]
  },
  {
   "cell_type": "markdown",
   "metadata": {},
   "source": [
    "### <font color=\"green\">Clean df_bom data</font>"
   ]
  },
  {
   "cell_type": "code",
   "execution_count": null,
   "metadata": {
    "ExecuteTime": {
     "end_time": "2021-05-04T19:15:21.116205Z",
     "start_time": "2021-05-04T19:15:20.788Z"
    }
   },
   "outputs": [],
   "source": [
    "df_bom.isna().sum()"
   ]
  },
  {
   "cell_type": "code",
   "execution_count": null,
   "metadata": {
    "ExecuteTime": {
     "end_time": "2021-05-04T19:15:21.118201Z",
     "start_time": "2021-05-04T19:15:20.792Z"
    },
    "scrolled": true
   },
   "outputs": [],
   "source": [
    "df_bom.shape"
   ]
  },
  {
   "cell_type": "code",
   "execution_count": null,
   "metadata": {
    "ExecuteTime": {
     "end_time": "2021-05-04T19:15:21.120196Z",
     "start_time": "2021-05-04T19:15:20.796Z"
    },
    "scrolled": true
   },
   "outputs": [],
   "source": [
    "df_bom.info()"
   ]
  },
  {
   "cell_type": "code",
   "execution_count": null,
   "metadata": {
    "ExecuteTime": {
     "end_time": "2021-05-04T19:15:21.122190Z",
     "start_time": "2021-05-04T19:15:20.799Z"
    },
    "scrolled": true
   },
   "outputs": [],
   "source": [
    "#If NaN setting to 0..\n",
    "df_bom.fillna(0, inplace=True)"
   ]
  },
  {
   "cell_type": "code",
   "execution_count": null,
   "metadata": {
    "ExecuteTime": {
     "end_time": "2021-05-04T19:15:21.123191Z",
     "start_time": "2021-05-04T19:15:20.803Z"
    }
   },
   "outputs": [],
   "source": [
    "df_bom.isna().sum()"
   ]
  },
  {
   "cell_type": "code",
   "execution_count": null,
   "metadata": {
    "ExecuteTime": {
     "end_time": "2021-05-04T19:15:21.124184Z",
     "start_time": "2021-05-04T19:15:20.810Z"
    }
   },
   "outputs": [],
   "source": [
    "df_bom.info()\n",
    "#Need to convert the foreign gross to float"
   ]
  },
  {
   "cell_type": "markdown",
   "metadata": {},
   "source": [
    " A Few values needed to be converted to billions"
   ]
  },
  {
   "cell_type": "code",
   "execution_count": null,
   "metadata": {
    "ExecuteTime": {
     "end_time": "2021-05-04T19:15:21.126179Z",
     "start_time": "2021-05-04T19:15:20.816Z"
    }
   },
   "outputs": [],
   "source": [
    "# When converting to numeric foreign gross at line numbers 1872,1873,1874,2760,\n",
    "#3079 were in a shorthand billions\n",
    "# ie 1,131.6 for 1131600000.\n",
    "# this is the quick fix\n",
    "df_bom.iloc[[1872],[2]] =1131600000.0\n",
    "df_bom.iloc[[1873],[2]] =1019400000.0\n",
    "df_bom.iloc[[1874],[2]] =1163000000.0\n",
    "df_bom.iloc[[2760],[2]] =1010000000.0\n",
    "df_bom.iloc[[3079],[2]] =1369500000.0\n"
   ]
  },
  {
   "cell_type": "markdown",
   "metadata": {},
   "source": [
    "Convert the object number of foreign gross to numeric "
   ]
  },
  {
   "cell_type": "code",
   "execution_count": null,
   "metadata": {
    "ExecuteTime": {
     "end_time": "2021-05-04T19:15:21.127176Z",
     "start_time": "2021-05-04T19:15:20.821Z"
    },
    "scrolled": true
   },
   "outputs": [],
   "source": [
    "#Convert string to numeric values...5 or so of the billions needed to be converted\n",
    "df_bom['foreign_gross'] = pd.to_numeric(df_bom['foreign_gross'])"
   ]
  },
  {
   "cell_type": "code",
   "execution_count": null,
   "metadata": {
    "ExecuteTime": {
     "end_time": "2021-05-04T19:15:21.128174Z",
     "start_time": "2021-05-04T19:15:20.826Z"
    },
    "scrolled": false
   },
   "outputs": [],
   "source": [
    "df_bom.info()"
   ]
  },
  {
   "cell_type": "code",
   "execution_count": null,
   "metadata": {
    "ExecuteTime": {
     "end_time": "2021-05-04T19:15:21.130174Z",
     "start_time": "2021-05-04T19:15:20.831Z"
    }
   },
   "outputs": [],
   "source": [
    "#creating the worldwide_gross column from the dommestic and foreign gross\n",
    "df_bom['worldwide_gross'] = df_bom['domestic_gross'] + df_bom['foreign_gross']"
   ]
  },
  {
   "cell_type": "code",
   "execution_count": null,
   "metadata": {
    "ExecuteTime": {
     "end_time": "2021-05-04T19:15:21.131166Z",
     "start_time": "2021-05-04T19:15:20.836Z"
    }
   },
   "outputs": [],
   "source": [
    "df_bom.head()"
   ]
  },
  {
   "cell_type": "markdown",
   "metadata": {
    "ExecuteTime": {
     "end_time": "2021-04-26T05:31:30.670252Z",
     "start_time": "2021-04-26T05:31:30.650305Z"
    }
   },
   "source": [
    "<font color='green'>Observation</font> Set Foreign gross to 0 if NaN.  If we need we can use the movie budget to look up.\n",
    "Converted money columns to floats. Created worldwide_gross from domestc and foreign.\n",
    "\n"
   ]
  },
  {
   "cell_type": "markdown",
   "metadata": {},
   "source": [
    "### <font color=\"green\">Clean imdb_name data</font>"
   ]
  },
  {
   "cell_type": "code",
   "execution_count": null,
   "metadata": {
    "ExecuteTime": {
     "end_time": "2021-05-04T19:15:21.132164Z",
     "start_time": "2021-05-04T19:15:20.842Z"
    }
   },
   "outputs": [],
   "source": [
    "df_imdb_name.shape"
   ]
  },
  {
   "cell_type": "code",
   "execution_count": null,
   "metadata": {
    "ExecuteTime": {
     "end_time": "2021-05-04T19:15:21.132164Z",
     "start_time": "2021-05-04T19:15:20.845Z"
    }
   },
   "outputs": [],
   "source": [
    "df_imdb_name.isna().sum()"
   ]
  },
  {
   "cell_type": "code",
   "execution_count": null,
   "metadata": {
    "ExecuteTime": {
     "end_time": "2021-05-04T19:15:21.133161Z",
     "start_time": "2021-05-04T19:15:20.849Z"
    }
   },
   "outputs": [],
   "source": [
    "#Can drop birth_year and death year\n",
    "df_imdb_name = df_imdb_name.drop(columns=['birth_year','death_year'])"
   ]
  },
  {
   "cell_type": "markdown",
   "metadata": {},
   "source": [
    "drop if both primary_profession and known_for_titles are both Nan"
   ]
  },
  {
   "cell_type": "code",
   "execution_count": null,
   "metadata": {
    "ExecuteTime": {
     "end_time": "2021-05-04T19:15:21.134157Z",
     "start_time": "2021-05-04T19:15:20.854Z"
    },
    "scrolled": true
   },
   "outputs": [],
   "source": [
    "df_imdb_name.isna().sum()"
   ]
  },
  {
   "cell_type": "code",
   "execution_count": null,
   "metadata": {
    "ExecuteTime": {
     "end_time": "2021-05-04T19:15:21.135154Z",
     "start_time": "2021-05-04T19:15:20.858Z"
    }
   },
   "outputs": [],
   "source": [
    "#drop if both primary_profession and known_for_titles are both Nan\n",
    "col_lst = ['primary_profession', 'known_for_titles']\n",
    "df_imdb_name.dropna(axis = 0, subset = col_lst, how = 'all', inplace = True)\n"
   ]
  },
  {
   "cell_type": "code",
   "execution_count": null,
   "metadata": {
    "ExecuteTime": {
     "end_time": "2021-05-04T19:15:21.135154Z",
     "start_time": "2021-05-04T19:15:20.861Z"
    }
   },
   "outputs": [],
   "source": [
    "df_imdb_name.isna().sum()"
   ]
  },
  {
   "cell_type": "markdown",
   "metadata": {},
   "source": [
    "<font color='green'>Observation</font> lots of NaNs but are supposed to be blank if non applicable.  put in holder value(NA, or job or characters? or 0?  Dropped 'birth_year','death_year'. If NAN for known_for can drop?  Final decision to fill na with 'unknown'"
   ]
  },
  {
   "cell_type": "code",
   "execution_count": null,
   "metadata": {
    "ExecuteTime": {
     "end_time": "2021-05-04T19:15:21.136152Z",
     "start_time": "2021-05-04T19:15:20.866Z"
    }
   },
   "outputs": [],
   "source": [
    "df_imdb_name[df_imdb_name['known_for_titles'].isna()].head()"
   ]
  },
  {
   "cell_type": "code",
   "execution_count": null,
   "metadata": {
    "ExecuteTime": {
     "end_time": "2021-05-04T19:15:21.137149Z",
     "start_time": "2021-05-04T19:15:20.870Z"
    }
   },
   "outputs": [],
   "source": [
    "#if there is a Nan in remaining data fill in with unknown\n",
    "df_imdb_name['known_for_titles'].fillna(value='unknown', inplace=True)\n",
    "df_imdb_name['primary_profession'].fillna(value='unknown', inplace=True)"
   ]
  },
  {
   "cell_type": "code",
   "execution_count": null,
   "metadata": {
    "ExecuteTime": {
     "end_time": "2021-05-04T19:15:21.138146Z",
     "start_time": "2021-05-04T19:15:20.874Z"
    },
    "scrolled": true
   },
   "outputs": [],
   "source": [
    "df_imdb_name.isna().sum()"
   ]
  },
  {
   "cell_type": "code",
   "execution_count": null,
   "metadata": {
    "ExecuteTime": {
     "end_time": "2021-05-04T19:15:21.138146Z",
     "start_time": "2021-05-04T19:15:20.879Z"
    }
   },
   "outputs": [],
   "source": [
    "df_imdb_name.shape"
   ]
  },
  {
   "cell_type": "markdown",
   "metadata": {},
   "source": [
    "### <font color=\"green\">Clean imdb_akas data</font>"
   ]
  },
  {
   "cell_type": "code",
   "execution_count": null,
   "metadata": {
    "ExecuteTime": {
     "end_time": "2021-05-04T19:15:21.139144Z",
     "start_time": "2021-05-04T19:15:20.884Z"
    }
   },
   "outputs": [],
   "source": [
    "df_imdb_akas.shape"
   ]
  },
  {
   "cell_type": "code",
   "execution_count": null,
   "metadata": {
    "ExecuteTime": {
     "end_time": "2021-05-04T19:15:21.140141Z",
     "start_time": "2021-05-04T19:15:20.888Z"
    }
   },
   "outputs": [],
   "source": [
    "df_imdb_akas.info()"
   ]
  },
  {
   "cell_type": "code",
   "execution_count": null,
   "metadata": {
    "ExecuteTime": {
     "end_time": "2021-05-04T19:15:21.141138Z",
     "start_time": "2021-05-04T19:15:20.893Z"
    }
   },
   "outputs": [],
   "source": [
    "#Unsure if this data is useful\n",
    "#df_imdb_akas = df_imdb_akas[df_imdb_akas['is_original_title'] == 1.0]"
   ]
  },
  {
   "cell_type": "code",
   "execution_count": null,
   "metadata": {
    "ExecuteTime": {
     "end_time": "2021-05-04T19:15:21.141138Z",
     "start_time": "2021-05-04T19:15:20.897Z"
    }
   },
   "outputs": [],
   "source": [
    "df_imdb_akas.isna().sum()"
   ]
  },
  {
   "cell_type": "code",
   "execution_count": null,
   "metadata": {
    "ExecuteTime": {
     "end_time": "2021-05-04T19:15:21.142135Z",
     "start_time": "2021-05-04T19:15:20.904Z"
    }
   },
   "outputs": [],
   "source": [
    "df_imdb_akas.head(3)"
   ]
  },
  {
   "cell_type": "code",
   "execution_count": null,
   "metadata": {
    "ExecuteTime": {
     "end_time": "2021-05-04T19:15:21.143133Z",
     "start_time": "2021-05-04T19:15:20.908Z"
    }
   },
   "outputs": [],
   "source": [
    "set(df_imdb_akas['types'])"
   ]
  },
  {
   "cell_type": "code",
   "execution_count": null,
   "metadata": {
    "ExecuteTime": {
     "end_time": "2021-05-04T19:15:21.143133Z",
     "start_time": "2021-05-04T19:15:20.912Z"
    }
   },
   "outputs": [],
   "source": [
    "#for NaNs in these columns set to unknown\n",
    "col_list = ['region','language','types','attributes']\n",
    "for col in col_list:\n",
    "    \n",
    "    df_imdb_akas[col].fillna(value='unknown', inplace=True)\n",
    " "
   ]
  },
  {
   "cell_type": "code",
   "execution_count": null,
   "metadata": {
    "ExecuteTime": {
     "end_time": "2021-05-04T19:15:21.144130Z",
     "start_time": "2021-05-04T19:15:20.916Z"
    },
    "scrolled": true
   },
   "outputs": [],
   "source": [
    "df_imdb_akas.isna().sum()"
   ]
  },
  {
   "cell_type": "code",
   "execution_count": null,
   "metadata": {
    "ExecuteTime": {
     "end_time": "2021-05-04T19:15:21.145127Z",
     "start_time": "2021-05-04T19:15:20.920Z"
    }
   },
   "outputs": [],
   "source": [
    "df_imdb_akas = df_imdb_akas[df_imdb_akas['is_original_title'].notna()]"
   ]
  },
  {
   "cell_type": "code",
   "execution_count": null,
   "metadata": {
    "ExecuteTime": {
     "end_time": "2021-05-04T19:15:21.146125Z",
     "start_time": "2021-05-04T19:15:20.924Z"
    }
   },
   "outputs": [],
   "source": [
    "df_imdb_akas.shape"
   ]
  },
  {
   "cell_type": "markdown",
   "metadata": {},
   "source": [
    "<font color='green'>Actions</font> In columns 'region','language','types','attributes'set Nan to 'unknown \n",
    "<br>removed is_original title id Nan"
   ]
  },
  {
   "cell_type": "markdown",
   "metadata": {},
   "source": [
    "### <font color=\"green\">Clean imdb_basics data</font>"
   ]
  },
  {
   "cell_type": "code",
   "execution_count": null,
   "metadata": {
    "ExecuteTime": {
     "end_time": "2021-05-04T19:15:21.147123Z",
     "start_time": "2021-05-04T19:15:20.930Z"
    }
   },
   "outputs": [],
   "source": [
    "df_imdbbasics.shape"
   ]
  },
  {
   "cell_type": "code",
   "execution_count": null,
   "metadata": {
    "ExecuteTime": {
     "end_time": "2021-05-04T19:15:21.148120Z",
     "start_time": "2021-05-04T19:15:20.933Z"
    }
   },
   "outputs": [],
   "source": [
    "df_imdbbasics.isna().sum()"
   ]
  },
  {
   "cell_type": "code",
   "execution_count": null,
   "metadata": {
    "ExecuteTime": {
     "end_time": "2021-05-04T19:15:21.149117Z",
     "start_time": "2021-05-04T19:15:20.937Z"
    }
   },
   "outputs": [],
   "source": [
    "df_imdbbasics.tail(10)"
   ]
  },
  {
   "cell_type": "code",
   "execution_count": null,
   "metadata": {
    "ExecuteTime": {
     "end_time": "2021-05-04T19:15:21.150115Z",
     "start_time": "2021-05-04T19:15:20.941Z"
    }
   },
   "outputs": [],
   "source": [
    "df_imdbbasics.info()"
   ]
  },
  {
   "cell_type": "code",
   "execution_count": null,
   "metadata": {
    "ExecuteTime": {
     "end_time": "2021-05-04T19:15:21.153106Z",
     "start_time": "2021-05-04T19:15:20.945Z"
    }
   },
   "outputs": [],
   "source": [
    "#for NaNs in these columns set to unknown\n",
    "col_list = ['genres','original_title']\n",
    "for col in col_list:\n",
    "    \n",
    "    df_imdbbasics[col].fillna(value='unknown', inplace=True)"
   ]
  },
  {
   "cell_type": "code",
   "execution_count": null,
   "metadata": {
    "ExecuteTime": {
     "end_time": "2021-05-04T19:15:21.154104Z",
     "start_time": "2021-05-04T19:15:20.949Z"
    }
   },
   "outputs": [],
   "source": [
    "#If runtime minutes missing set to 89.5 minutes\n",
    "df_imdbbasics['runtime_minutes'].fillna(89.5,inplace=True)\n"
   ]
  },
  {
   "cell_type": "code",
   "execution_count": null,
   "metadata": {
    "ExecuteTime": {
     "end_time": "2021-05-04T19:15:21.155101Z",
     "start_time": "2021-05-04T19:15:20.953Z"
    }
   },
   "outputs": [],
   "source": [
    "df_imdbbasics.isna().sum()"
   ]
  },
  {
   "cell_type": "markdown",
   "metadata": {
    "ExecuteTime": {
     "end_time": "2021-04-27T03:24:28.245105Z",
     "start_time": "2021-04-27T03:24:28.240085Z"
    }
   },
   "source": [
    "<font color='green'>Actions</font> In columns 'genres','original_title' set Nan to 'unknown \n",
    "<br>if runtime minutes set to 89.5 if Nan"
   ]
  },
  {
   "cell_type": "markdown",
   "metadata": {},
   "source": [
    "### <font color=\"green\">Clean imdb_crew data</font>"
   ]
  },
  {
   "cell_type": "code",
   "execution_count": null,
   "metadata": {
    "ExecuteTime": {
     "end_time": "2021-05-04T19:15:21.156098Z",
     "start_time": "2021-05-04T19:15:20.959Z"
    }
   },
   "outputs": [],
   "source": [
    "df_imdb_crew.shape"
   ]
  },
  {
   "cell_type": "code",
   "execution_count": null,
   "metadata": {
    "ExecuteTime": {
     "end_time": "2021-05-04T19:15:21.156098Z",
     "start_time": "2021-05-04T19:15:20.963Z"
    },
    "scrolled": true
   },
   "outputs": [],
   "source": [
    "df_imdb_crew.isna().sum()"
   ]
  },
  {
   "cell_type": "code",
   "execution_count": null,
   "metadata": {
    "ExecuteTime": {
     "end_time": "2021-05-04T19:15:21.157096Z",
     "start_time": "2021-05-04T19:15:20.966Z"
    }
   },
   "outputs": [],
   "source": [
    "df_imdb_crew.head(5)"
   ]
  },
  {
   "cell_type": "code",
   "execution_count": null,
   "metadata": {
    "ExecuteTime": {
     "end_time": "2021-05-04T19:15:21.158093Z",
     "start_time": "2021-05-04T19:15:20.970Z"
    }
   },
   "outputs": [],
   "source": [
    "df_imdb_crew.shape"
   ]
  },
  {
   "cell_type": "code",
   "execution_count": null,
   "metadata": {
    "ExecuteTime": {
     "end_time": "2021-05-04T19:15:21.158093Z",
     "start_time": "2021-05-04T19:15:20.974Z"
    }
   },
   "outputs": [],
   "source": [
    "df_imdb_crew = df_imdb_crew[df_imdb_crew['directors'].notna() \n",
    "                            | df_imdb_crew['writers'].notna()]"
   ]
  },
  {
   "cell_type": "code",
   "execution_count": null,
   "metadata": {
    "ExecuteTime": {
     "end_time": "2021-05-04T19:15:21.159090Z",
     "start_time": "2021-05-04T19:15:20.978Z"
    }
   },
   "outputs": [],
   "source": [
    "#for NaNs in these columns set to unknown\n",
    "col_list = ['directors','writers']\n",
    "for col in col_list:\n",
    "    df_imdb_crew[col].fillna(value='unknown', inplace=True)"
   ]
  },
  {
   "cell_type": "code",
   "execution_count": null,
   "metadata": {
    "ExecuteTime": {
     "end_time": "2021-05-04T19:15:21.160088Z",
     "start_time": "2021-05-04T19:15:20.982Z"
    }
   },
   "outputs": [],
   "source": [
    "df_imdb_crew.info()"
   ]
  },
  {
   "cell_type": "markdown",
   "metadata": {},
   "source": [
    "<font color='green'>Actions</font> If directors and writers are NaN drop row(4474 rows).  If then if directors is Nan replace with holder 'unknown'.  If writers is Nan replace with unknown."
   ]
  },
  {
   "cell_type": "markdown",
   "metadata": {},
   "source": [
    "### <font color=\"green\">Clean imdb_principals data</font>"
   ]
  },
  {
   "cell_type": "code",
   "execution_count": null,
   "metadata": {
    "ExecuteTime": {
     "end_time": "2021-05-04T19:15:21.160088Z",
     "start_time": "2021-05-04T19:15:20.988Z"
    }
   },
   "outputs": [],
   "source": [
    "df_imdb_principals.shape"
   ]
  },
  {
   "cell_type": "code",
   "execution_count": null,
   "metadata": {
    "ExecuteTime": {
     "end_time": "2021-05-04T19:15:21.161085Z",
     "start_time": "2021-05-04T19:15:20.992Z"
    }
   },
   "outputs": [],
   "source": [
    "df_imdb_principals.tail()"
   ]
  },
  {
   "cell_type": "code",
   "execution_count": null,
   "metadata": {
    "ExecuteTime": {
     "end_time": "2021-05-04T19:15:21.162082Z",
     "start_time": "2021-05-04T19:15:20.997Z"
    }
   },
   "outputs": [],
   "source": [
    "df_imdb_principals.isna().sum()"
   ]
  },
  {
   "cell_type": "code",
   "execution_count": null,
   "metadata": {
    "ExecuteTime": {
     "end_time": "2021-05-04T19:15:21.162082Z",
     "start_time": "2021-05-04T19:15:21.001Z"
    }
   },
   "outputs": [],
   "source": [
    "#for NaNs in these columns set to unknown\n",
    "col_list = ['job','characters']\n",
    "for col in col_list:\n",
    "    df_imdb_principals[col].fillna(value='unknown', inplace=True)"
   ]
  },
  {
   "cell_type": "code",
   "execution_count": null,
   "metadata": {
    "ExecuteTime": {
     "end_time": "2021-05-04T19:15:21.164078Z",
     "start_time": "2021-05-04T19:15:21.005Z"
    }
   },
   "outputs": [],
   "source": [
    "df_imdb_principals.info()"
   ]
  },
  {
   "cell_type": "markdown",
   "metadata": {},
   "source": [
    "<font color='green'>Actions</font> replaced columns job and characters if Nan to 'unknown'"
   ]
  },
  {
   "cell_type": "markdown",
   "metadata": {},
   "source": [
    "### <font color=\"green\">Clean imdb_ratings data</font>"
   ]
  },
  {
   "cell_type": "code",
   "execution_count": null,
   "metadata": {
    "ExecuteTime": {
     "end_time": "2021-05-04T19:15:21.165075Z",
     "start_time": "2021-05-04T19:15:21.010Z"
    }
   },
   "outputs": [],
   "source": [
    "df_imdb_ratings.shape"
   ]
  },
  {
   "cell_type": "code",
   "execution_count": null,
   "metadata": {
    "ExecuteTime": {
     "end_time": "2021-05-04T19:15:21.165075Z",
     "start_time": "2021-05-04T19:15:21.015Z"
    }
   },
   "outputs": [],
   "source": [
    "df_imdb_ratings.isna().sum()"
   ]
  },
  {
   "cell_type": "code",
   "execution_count": null,
   "metadata": {
    "ExecuteTime": {
     "end_time": "2021-05-04T19:15:21.166072Z",
     "start_time": "2021-05-04T19:15:21.019Z"
    }
   },
   "outputs": [],
   "source": [
    "df_imdb_ratings.head()"
   ]
  },
  {
   "cell_type": "code",
   "execution_count": null,
   "metadata": {
    "ExecuteTime": {
     "end_time": "2021-05-04T19:15:21.167072Z",
     "start_time": "2021-05-04T19:15:21.023Z"
    }
   },
   "outputs": [],
   "source": [
    "df_imdb_ratings.info()"
   ]
  },
  {
   "cell_type": "markdown",
   "metadata": {},
   "source": [
    "<font color=green>Actions</font> All Clean.  No missing data in this lookup table"
   ]
  },
  {
   "cell_type": "markdown",
   "metadata": {},
   "source": [
    "### <font color=\"green\">Clean df_tmb data</font>"
   ]
  },
  {
   "cell_type": "code",
   "execution_count": null,
   "metadata": {
    "ExecuteTime": {
     "end_time": "2021-05-04T19:15:21.168067Z",
     "start_time": "2021-05-04T19:15:21.029Z"
    }
   },
   "outputs": [],
   "source": [
    "df_tmb.shape"
   ]
  },
  {
   "cell_type": "code",
   "execution_count": null,
   "metadata": {
    "ExecuteTime": {
     "end_time": "2021-05-04T19:15:21.169063Z",
     "start_time": "2021-05-04T19:15:21.033Z"
    }
   },
   "outputs": [],
   "source": [
    "df_tmb.isna().sum()"
   ]
  },
  {
   "cell_type": "code",
   "execution_count": null,
   "metadata": {
    "ExecuteTime": {
     "end_time": "2021-05-04T19:15:21.169063Z",
     "start_time": "2021-05-04T19:15:21.037Z"
    }
   },
   "outputs": [],
   "source": [
    "df_tmb.info()"
   ]
  },
  {
   "cell_type": "code",
   "execution_count": null,
   "metadata": {
    "ExecuteTime": {
     "end_time": "2021-05-04T19:15:21.170061Z",
     "start_time": "2021-05-04T19:15:21.042Z"
    },
    "scrolled": true
   },
   "outputs": [],
   "source": [
    "df_tmb.head(3)"
   ]
  },
  {
   "cell_type": "code",
   "execution_count": null,
   "metadata": {
    "ExecuteTime": {
     "end_time": "2021-04-28T00:37:04.060551Z",
     "start_time": "2021-04-28T00:37:04.054566Z"
    }
   },
   "outputs": [],
   "source": []
  },
  {
   "cell_type": "code",
   "execution_count": null,
   "metadata": {},
   "outputs": [],
   "source": []
  },
  {
   "cell_type": "code",
   "execution_count": null,
   "metadata": {},
   "outputs": [],
   "source": []
  },
  {
   "cell_type": "markdown",
   "metadata": {},
   "source": [
    "<font color=green>Actions:</font> Clean Data Note: Convert release date to datetime when using"
   ]
  },
  {
   "cell_type": "markdown",
   "metadata": {},
   "source": [
    "### <font color=\"green\">Clean df_tn_movie_budget data</font>"
   ]
  },
  {
   "cell_type": "code",
   "execution_count": null,
   "metadata": {
    "ExecuteTime": {
     "end_time": "2021-05-04T19:15:21.171058Z",
     "start_time": "2021-05-04T19:15:21.054Z"
    }
   },
   "outputs": [],
   "source": [
    "df_tn_movie_budget.shape"
   ]
  },
  {
   "cell_type": "code",
   "execution_count": null,
   "metadata": {
    "ExecuteTime": {
     "end_time": "2021-05-04T19:15:21.172055Z",
     "start_time": "2021-05-04T19:15:21.058Z"
    },
    "scrolled": true
   },
   "outputs": [],
   "source": [
    "df_tn_movie_budget.isna().sum()"
   ]
  },
  {
   "cell_type": "code",
   "execution_count": null,
   "metadata": {
    "ExecuteTime": {
     "end_time": "2021-05-04T19:15:21.173053Z",
     "start_time": "2021-05-04T19:15:21.063Z"
    }
   },
   "outputs": [],
   "source": [
    "df_tn_movie_budget.head(50)"
   ]
  },
  {
   "cell_type": "code",
   "execution_count": null,
   "metadata": {
    "ExecuteTime": {
     "end_time": "2021-05-04T19:15:21.174050Z",
     "start_time": "2021-05-04T19:15:21.067Z"
    }
   },
   "outputs": [],
   "source": [
    "for col in df_tn_movie_budget:\n",
    "    print(col)\n",
    "    print(df_tn_movie_budget[col].value_counts(normalize = True)[:5])\n",
    "    print(\"===================================\")"
   ]
  },
  {
   "cell_type": "markdown",
   "metadata": {
    "ExecuteTime": {
     "end_time": "2021-04-25T21:41:59.038386Z",
     "start_time": "2021-04-25T21:41:54.396Z"
    }
   },
   "source": [
    "Domectic gross has 9.4 % of zero values.  Similiar to worldwide gross.  \n",
    "\n",
    "Will need to address."
   ]
  },
  {
   "cell_type": "markdown",
   "metadata": {},
   "source": [
    "look at budget data in bom, rott, tn\n",
    "df_tn_movie_budget[df_tn_movie_budget['domestic_gross'] > 500000000.0]"
   ]
  },
  {
   "cell_type": "code",
   "execution_count": null,
   "metadata": {
    "ExecuteTime": {
     "end_time": "2021-05-04T19:15:21.175048Z",
     "start_time": "2021-05-04T19:15:21.073Z"
    }
   },
   "outputs": [],
   "source": [
    "#Convert the object columns to ints where we can manipulate mathematically\n",
    "#money string to ints\n",
    "def money_to_float(df,col):\n",
    "    df[col] = df[col].astype(str).str.replace(\"$\", \"\").str.replace(\",\", \"\").astype('float')\n",
    "    return df"
   ]
  },
  {
   "cell_type": "code",
   "execution_count": null,
   "metadata": {
    "ExecuteTime": {
     "end_time": "2021-05-04T19:15:21.176045Z",
     "start_time": "2021-05-04T19:15:21.077Z"
    }
   },
   "outputs": [],
   "source": [
    "money_cols = ['production_budget','domestic_gross', 'worldwide_gross']\n",
    "\n",
    "for col in money_cols:\n",
    "    df_tn_movie_budget = money_to_float(df_tn_movie_budget,col)"
   ]
  },
  {
   "cell_type": "code",
   "execution_count": null,
   "metadata": {
    "ExecuteTime": {
     "end_time": "2021-05-04T19:15:21.177043Z",
     "start_time": "2021-05-04T19:15:21.082Z"
    }
   },
   "outputs": [],
   "source": [
    "df_tn_movie_budget.head(10)"
   ]
  },
  {
   "cell_type": "code",
   "execution_count": null,
   "metadata": {
    "ExecuteTime": {
     "end_time": "2021-05-04T19:15:21.177043Z",
     "start_time": "2021-05-04T19:15:21.085Z"
    }
   },
   "outputs": [],
   "source": [
    "df_tn_movie_budget.info()"
   ]
  },
  {
   "cell_type": "markdown",
   "metadata": {},
   "source": [
    "<font color=green>Actions</font> Converted string currrency to float values. Convert release date to datetime when using"
   ]
  },
  {
   "cell_type": "markdown",
   "metadata": {},
   "source": [
    "### Save cleaned files as tidy files"
   ]
  },
  {
   "cell_type": "markdown",
   "metadata": {
    "ExecuteTime": {
     "end_time": "2021-04-30T00:33:58.307370Z",
     "start_time": "2021-04-30T00:33:58.302417Z"
    }
   },
   "source": [
    "<font color=green>Action:</font> For each of the cleaned DataFrames save the df tidy.csv.\n",
    "<br>Will not have to keep the original .gz files and can load the cleaned files in EDA."
   ]
  },
  {
   "cell_type": "code",
   "execution_count": null,
   "metadata": {
    "ExecuteTime": {
     "end_time": "2021-05-04T19:15:21.178040Z",
     "start_time": "2021-05-04T19:15:21.092Z"
    }
   },
   "outputs": [],
   "source": [
    "#dicts of dfname and df\n",
    "def create_df_dict(namelist,dflist):\n",
    "    dict_df_names = dict(zip(namelist, dflist))\n",
    "    return dict_df_names \n",
    "\n",
    "#takes a dict and saves all to csvs per savepath\n",
    "def save_dict_tocsv(savepath, dict_dfs, suffix):\n",
    "    for key,value in dict_dfs.items():\n",
    "        value.to_csv(path_or_buf = savepath \n",
    "                     + key +'_tidy' + suffix, encoding='utf8')"
   ]
  },
  {
   "cell_type": "code",
   "execution_count": null,
   "metadata": {
    "ExecuteTime": {
     "end_time": "2021-05-04T19:15:21.179037Z",
     "start_time": "2021-05-04T19:15:21.096Z"
    }
   },
   "outputs": [],
   "source": [
    "##List of Cleaned dfs\n",
    "dfs_tidy_dict = [df_bom,df_imdb_name,df_imdb_akas,df_imdbbasics,df_imdb_crew,  \n",
    "       df_imdb_principals,df_imdb_ratings,df_tmb,df_tn_movie_budget]\n",
    "dfs_names = ['df_bom','df_imdb_name','df_imdb_akas','df_imdbbasics','df_imdb_crew',  \n",
    "       'df_imdb_principals','df_imdb_ratings','df_tmb','df_tn_movie_budget']\n",
    "savepath = '../data/'\n",
    "\n",
    "dict_cleaned_dfs = create_df_dict(dfs_names, dfs_tidy_dict)\n",
    "save_dict_tocsv('../data/', dict_cleaned_dfs,'.csv' )"
   ]
  },
  {
   "cell_type": "markdown",
   "metadata": {
    "ExecuteTime": {
     "end_time": "2021-05-04T17:14:59.078410Z",
     "start_time": "2021-05-04T17:14:59.070420Z"
    }
   },
   "source": [
    "***\n",
    "***\n",
    "***\n"
   ]
  },
  {
   "cell_type": "markdown",
   "metadata": {},
   "source": [
    "EDA in eda_notebook.ipynb"
   ]
  },
  {
   "cell_type": "code",
   "execution_count": null,
   "metadata": {},
   "outputs": [],
   "source": []
  },
  {
   "cell_type": "code",
   "execution_count": null,
   "metadata": {},
   "outputs": [],
   "source": []
  },
  {
   "cell_type": "markdown",
   "metadata": {},
   "source": [
    "# Data Exploration\n",
    "\n",
    "In this workbook we:\n",
    "1. Reload the cleaned data to DataFrames\n",
    "2. Perform EDA(Exploraory Data Analysis) to Answer Questions about the business problem\n",
    "3. Summarize the EDA\n"
   ]
  },
  {
   "cell_type": "markdown",
   "metadata": {},
   "source": [
    "## Reload Cleaned data"
   ]
  },
  {
   "cell_type": "code",
   "execution_count": 6,
   "metadata": {
    "ExecuteTime": {
     "end_time": "2021-05-04T19:15:21.281763Z",
     "start_time": "2021-05-04T19:15:21.273784Z"
    }
   },
   "outputs": [],
   "source": [
    "#helper to list all csv or type files in a dir\n",
    "def find_csv_filenames( path_to_dir, suffix=\".csv\"):\n",
    "    filenames = listdir(path_to_dir)\n",
    "    return [ filename for filename in filenames if filename.endswith( suffix ) ]\n",
    "\n",
    "#creates dataframes for type specified\n",
    "def create_dfs(path, filelist, suffix=\".csv\"):\n",
    "    #Read all the files and store in a dataFrame\n",
    "    # the data Frames for each file will be listed in a dict \n",
    "    # where key is the name and value is the df\n",
    "    dict_csv_files = {}\n",
    "\n",
    "    for filename in csvfiles:\n",
    "        filename_cleaned = filename.replace(\"_tidy.csv\", \"\").replace(\".\",\"_\")#cleaning\n",
    "        filename_df = pd.read_csv(path + filename, index_col = 0, encoding='utf8')\n",
    "        dict_csv_files[filename_cleaned] = filename_df\n",
    "    return dict_csv_files    \n",
    "\n",
    "#dicts of dfname and df\n",
    "def create_df_dict(namelist,dflist):\n",
    "    dict_df_names = dict(zip(namelist, dflist))\n",
    "    return dict_df_names \n",
    "\n",
    "#takes a dict and saves all to csvs per savepath\n",
    "def save_dict_tocsv(savepath, dict_dfs, suffix):\n",
    "    for key,value in dict_dfs.items():\n",
    "        value.to_csv(path_or_buf = savepath \n",
    "                     + key +'_tidy' + suffix, encoding='utf8')"
   ]
  },
  {
   "cell_type": "code",
   "execution_count": 7,
   "metadata": {
    "ExecuteTime": {
     "end_time": "2021-05-04T19:15:21.297753Z",
     "start_time": "2021-05-04T19:15:21.282761Z"
    }
   },
   "outputs": [
    {
     "ename": "FileNotFoundError",
     "evalue": "[WinError 3] The system cannot find the path specified: '../data/'",
     "output_type": "error",
     "traceback": [
      "\u001b[1;31m---------------------------------------------------------------------------\u001b[0m",
      "\u001b[1;31mFileNotFoundError\u001b[0m                         Traceback (most recent call last)",
      "\u001b[1;32m<ipython-input-7-753b01e5d1ec>\u001b[0m in \u001b[0;36m<module>\u001b[1;34m\u001b[0m\n\u001b[0;32m      1\u001b[0m \u001b[1;31m#Create csvfiles, tsvfiles and call createdfs dict\u001b[0m\u001b[1;33m\u001b[0m\u001b[1;33m\u001b[0m\u001b[1;33m\u001b[0m\u001b[0m\n\u001b[0;32m      2\u001b[0m \u001b[0mpath\u001b[0m \u001b[1;33m=\u001b[0m \u001b[1;34m'../data/'\u001b[0m\u001b[1;33m\u001b[0m\u001b[1;33m\u001b[0m\u001b[0m\n\u001b[1;32m----> 3\u001b[1;33m \u001b[0mcsvfiles\u001b[0m \u001b[1;33m=\u001b[0m \u001b[0mfind_csv_filenames\u001b[0m\u001b[1;33m(\u001b[0m\u001b[0mpath\u001b[0m\u001b[1;33m)\u001b[0m\u001b[1;33m\u001b[0m\u001b[1;33m\u001b[0m\u001b[0m\n\u001b[0m\u001b[0;32m      4\u001b[0m \u001b[0mdict_dfs\u001b[0m \u001b[1;33m=\u001b[0m \u001b[0mcreate_dfs\u001b[0m\u001b[1;33m(\u001b[0m\u001b[0mpath\u001b[0m\u001b[1;33m,\u001b[0m \u001b[0mcsvfiles\u001b[0m\u001b[1;33m,\u001b[0m \u001b[0msuffix\u001b[0m\u001b[1;33m=\u001b[0m\u001b[1;34m\".csv\"\u001b[0m \u001b[1;33m)\u001b[0m\u001b[1;33m\u001b[0m\u001b[1;33m\u001b[0m\u001b[0m\n",
      "\u001b[1;32m<ipython-input-6-44f06c4b8ec7>\u001b[0m in \u001b[0;36mfind_csv_filenames\u001b[1;34m(path_to_dir, suffix)\u001b[0m\n\u001b[0;32m      1\u001b[0m \u001b[1;31m#helper to list all csv or type files in a dir\u001b[0m\u001b[1;33m\u001b[0m\u001b[1;33m\u001b[0m\u001b[1;33m\u001b[0m\u001b[0m\n\u001b[0;32m      2\u001b[0m \u001b[1;32mdef\u001b[0m \u001b[0mfind_csv_filenames\u001b[0m\u001b[1;33m(\u001b[0m \u001b[0mpath_to_dir\u001b[0m\u001b[1;33m,\u001b[0m \u001b[0msuffix\u001b[0m\u001b[1;33m=\u001b[0m\u001b[1;34m\".csv\"\u001b[0m\u001b[1;33m)\u001b[0m\u001b[1;33m:\u001b[0m\u001b[1;33m\u001b[0m\u001b[1;33m\u001b[0m\u001b[0m\n\u001b[1;32m----> 3\u001b[1;33m     \u001b[0mfilenames\u001b[0m \u001b[1;33m=\u001b[0m \u001b[0mlistdir\u001b[0m\u001b[1;33m(\u001b[0m\u001b[0mpath_to_dir\u001b[0m\u001b[1;33m)\u001b[0m\u001b[1;33m\u001b[0m\u001b[1;33m\u001b[0m\u001b[0m\n\u001b[0m\u001b[0;32m      4\u001b[0m     \u001b[1;32mreturn\u001b[0m \u001b[1;33m[\u001b[0m \u001b[0mfilename\u001b[0m \u001b[1;32mfor\u001b[0m \u001b[0mfilename\u001b[0m \u001b[1;32min\u001b[0m \u001b[0mfilenames\u001b[0m \u001b[1;32mif\u001b[0m \u001b[0mfilename\u001b[0m\u001b[1;33m.\u001b[0m\u001b[0mendswith\u001b[0m\u001b[1;33m(\u001b[0m \u001b[0msuffix\u001b[0m \u001b[1;33m)\u001b[0m \u001b[1;33m]\u001b[0m\u001b[1;33m\u001b[0m\u001b[1;33m\u001b[0m\u001b[0m\n\u001b[0;32m      5\u001b[0m \u001b[1;33m\u001b[0m\u001b[0m\n",
      "\u001b[1;31mFileNotFoundError\u001b[0m: [WinError 3] The system cannot find the path specified: '../data/'"
     ]
    }
   ],
   "source": [
    "#Create csvfiles, tsvfiles and call createdfs dict\n",
    "path = '../data/'\n",
    "csvfiles = find_csv_filenames(path)\n",
    "dict_dfs = create_dfs(path, csvfiles, suffix=\".csv\" )"
   ]
  },
  {
   "cell_type": "code",
   "execution_count": null,
   "metadata": {
    "ExecuteTime": {
     "end_time": "2021-05-04T19:15:21.298717Z",
     "start_time": "2021-05-04T19:15:21.130Z"
    }
   },
   "outputs": [],
   "source": [
    "dict_dfs.keys()"
   ]
  },
  {
   "cell_type": "code",
   "execution_count": null,
   "metadata": {
    "ExecuteTime": {
     "end_time": "2021-05-04T19:15:21.299715Z",
     "start_time": "2021-05-04T19:15:21.139Z"
    }
   },
   "outputs": [],
   "source": [
    "##Create Working DataFrames\n",
    "df_bom = dict_dfs['df_bom']\n",
    "df_imdbbasics = dict_dfs['df_imdbbasics'] \n",
    "df_imdb_akas = dict_dfs['df_imdb_akas']       \n",
    "df_imdb_name = dict_dfs['df_imdb_name']    \n",
    "df_imdb_crew = dict_dfs['df_imdb_crew']     \n",
    "df_imdb_principals = dict_dfs['df_imdb_principals']     \n",
    "df_imdb_ratings = dict_dfs['df_imdb_ratings']         \n",
    "df_tmb = dict_dfs['df_tmb']                        \n",
    "df_tn_movie_budget = dict_dfs['df_tn_movie_budget']\n"
   ]
  },
  {
   "cell_type": "markdown",
   "metadata": {
    "ExecuteTime": {
     "end_time": "2021-05-02T20:10:41.054152Z",
     "start_time": "2021-05-02T20:10:41.049164Z"
    }
   },
   "source": [
    "***\n",
    "***\n",
    "***"
   ]
  },
  {
   "cell_type": "markdown",
   "metadata": {},
   "source": [
    "## Data Exploration<br>\n",
    "In the EDA (Exploratory Data Analysis) phase, we will work to answer the following question about the business problem by visually answering the data.  Our business problem is to deliver actionable insights about the movie industry, specifically types of movies.  I approached this Business Problem as defining a movie studio business strategy which leads me to these<br>\n"
   ]
  },
  {
   "cell_type": "markdown",
   "metadata": {
    "ExecuteTime": {
     "end_time": "2021-04-30T05:39:40.747793Z",
     "start_time": "2021-04-30T05:39:40.737820Z"
    }
   },
   "source": [
    "\n",
    "__Questions:__\n",
    "1. What is success for a feature film? This educates and defines expectations\n",
    "2. At what level of production budget will we be comfortable investing?\n",
    "3. What types of feature films genres are we going to make?\n",
    "4. When should we most optimally release our movies? Are there better months for our releases?\n",
    "5. How many feature films should we release per year? ie drives initial investment\n",
    "6. Any correlation to MPA Rating?\n",
    "7. Who in the industry would be good to work with as producers and directors?\n",
    "7. Other factors to consider."
   ]
  },
  {
   "cell_type": "markdown",
   "metadata": {},
   "source": [
    "### What is success for a feature film?\n",
    "To answer this we should look to analyse data for movies we might consider making.\n",
    "\n",
    "In industry terms there are four types of production level movies.\n",
    "1. High Budget: Production budget(PB) is greater than 80 Million US Dollars\n",
    "2. Medium Budget: PB is between 2 to 80 Million USD\n",
    "3. Low Bugdet: PB is between 10K and 2 Million USD\n",
    "4. Micro Budget: PB is under 10K\n",
    "  \n",
    "\n",
    "As a first run in the movie business Microscoft would not want to take a chance on high budget features so we will look at returns in the Medium budget.  The average PB(production budget) is right around $65 Million.  We will start with that as our cap.\n",
    "Best Return on Investment of Medium budget movies"
   ]
  },
  {
   "cell_type": "markdown",
   "metadata": {},
   "source": [
    "Lets look at the df_tn_movie_budget data focusing at worldwide gross."
   ]
  },
  {
   "cell_type": "code",
   "execution_count": null,
   "metadata": {
    "ExecuteTime": {
     "end_time": "2021-05-04T19:15:21.300711Z",
     "start_time": "2021-05-04T19:15:21.163Z"
    }
   },
   "outputs": [],
   "source": [
    "df_tn_movie_budget.info()"
   ]
  },
  {
   "cell_type": "markdown",
   "metadata": {},
   "source": [
    "Lets create a feature for difference between worldwide gross and prod budget <br>\n",
    "Business terms: Profit = Returned - Investment <br>\n",
    "Our Data: profit_over_pb = worldwide_gross - production_budget<br>\n",
    "\n",
    "Let's Calculate percent returned for movies with budgets below $65Mill <br>\n",
    "Business terms: ROI = Profit / Cost of the investment * 100 <br>\n",
    "Our Data: roi_percent= profit_over_pb / production_budget *100"
   ]
  },
  {
   "cell_type": "code",
   "execution_count": null,
   "metadata": {
    "ExecuteTime": {
     "end_time": "2021-05-04T19:15:21.301709Z",
     "start_time": "2021-05-04T19:15:21.171Z"
    }
   },
   "outputs": [],
   "source": [
    "df_tn_movie_budget['profit_over_pb'] = df_tn_movie_budget['worldwide_gross'] - \\\n",
    "df_tn_movie_budget['production_budget']"
   ]
  },
  {
   "cell_type": "code",
   "execution_count": null,
   "metadata": {
    "ExecuteTime": {
     "end_time": "2021-05-04T19:15:21.302706Z",
     "start_time": "2021-05-04T19:15:21.177Z"
    }
   },
   "outputs": [],
   "source": [
    "df_tn_movie_budget['roi_percent'] = round((df_tn_movie_budget['profit_over_pb'] / \\\n",
    "df_tn_movie_budget['production_budget'])*100,1)#round to 1 digit\n"
   ]
  },
  {
   "cell_type": "code",
   "execution_count": null,
   "metadata": {
    "ExecuteTime": {
     "end_time": "2021-05-04T19:15:21.302706Z",
     "start_time": "2021-05-04T19:15:21.184Z"
    }
   },
   "outputs": [],
   "source": [
    "#Sort on roi_percent\n",
    "df_tn_movie_budget.sort_values(by='roi_percent',ascending = False).head(50)"
   ]
  },
  {
   "cell_type": "markdown",
   "metadata": {
    "ExecuteTime": {
     "end_time": "2021-04-28T06:46:12.447328Z",
     "start_time": "2021-04-28T06:46:12.441345Z"
    }
   },
   "source": [
    "Lets filter to look at movies where budget is less than=$65 mill"
   ]
  },
  {
   "cell_type": "code",
   "execution_count": null,
   "metadata": {
    "ExecuteTime": {
     "end_time": "2021-05-04T19:15:21.304702Z",
     "start_time": "2021-05-04T19:15:21.191Z"
    }
   },
   "outputs": [],
   "source": [
    "df_budget_sub65m = df_tn_movie_budget[df_tn_movie_budget['production_budget'] \\\n",
    "                   <= 65000000.0].sort_values(by='roi_percent', ascending = False)"
   ]
  },
  {
   "cell_type": "code",
   "execution_count": null,
   "metadata": {
    "ExecuteTime": {
     "end_time": "2021-05-04T19:15:21.305698Z",
     "start_time": "2021-05-04T19:15:21.196Z"
    }
   },
   "outputs": [],
   "source": [
    "df_budget_sub65m.info()#Note 5012 movies"
   ]
  },
  {
   "cell_type": "code",
   "execution_count": null,
   "metadata": {
    "ExecuteTime": {
     "end_time": "2021-05-04T19:15:21.306698Z",
     "start_time": "2021-05-04T19:15:21.201Z"
    }
   },
   "outputs": [],
   "source": [
    "df_budget_sub65m.reset_index(inplace =True) "
   ]
  },
  {
   "cell_type": "code",
   "execution_count": null,
   "metadata": {
    "ExecuteTime": {
     "end_time": "2021-05-04T19:15:21.308691Z",
     "start_time": "2021-05-04T19:15:21.206Z"
    }
   },
   "outputs": [],
   "source": [
    "#filer movies greater than 2 Mil\n",
    "df_budg_2to65mil = df_budget_sub65m[df_budget_sub65m['production_budget'] \\\n",
    "                   >= 2000000.0].sort_values(by='roi_percent', ascending = False)"
   ]
  },
  {
   "cell_type": "code",
   "execution_count": null,
   "metadata": {
    "ExecuteTime": {
     "end_time": "2021-05-04T19:15:21.309688Z",
     "start_time": "2021-05-04T19:15:21.211Z"
    }
   },
   "outputs": [],
   "source": [
    "df_budg_2to65mil.info()#note 4231 movies"
   ]
  },
  {
   "cell_type": "code",
   "execution_count": null,
   "metadata": {
    "ExecuteTime": {
     "end_time": "2021-05-04T19:15:21.309688Z",
     "start_time": "2021-05-04T19:15:21.216Z"
    }
   },
   "outputs": [],
   "source": [
    "df_budg_2to65mil.reset_index(inplace =True) "
   ]
  },
  {
   "cell_type": "markdown",
   "metadata": {},
   "source": [
    "Lets create a easy human readable feature called __x_times_invest__.<br>This is equal to our worldwide_gross / PB where as ROI percent is the profit / PB * 100."
   ]
  },
  {
   "cell_type": "code",
   "execution_count": null,
   "metadata": {
    "ExecuteTime": {
     "end_time": "2021-05-04T19:15:21.310685Z",
     "start_time": "2021-05-04T19:15:21.222Z"
    }
   },
   "outputs": [],
   "source": [
    "df_budg_2to65mil['x_times_invest'] = round(df_budg_2to65mil['worldwide_gross']/df_budg_2to65mil['production_budget'],1)"
   ]
  },
  {
   "cell_type": "code",
   "execution_count": null,
   "metadata": {
    "ExecuteTime": {
     "end_time": "2021-05-04T19:15:21.312681Z",
     "start_time": "2021-05-04T19:15:21.228Z"
    }
   },
   "outputs": [],
   "source": [
    "df_budg_2to65mil.head(20)"
   ]
  },
  {
   "cell_type": "markdown",
   "metadata": {},
   "source": [
    "It makes sense to only focus on recent movies.  Lets look at the movies from 2010 onward."
   ]
  },
  {
   "cell_type": "code",
   "execution_count": null,
   "metadata": {
    "ExecuteTime": {
     "end_time": "2021-05-04T19:15:21.313677Z",
     "start_time": "2021-05-04T19:15:21.235Z"
    }
   },
   "outputs": [],
   "source": [
    "df_budg_2to65mil_11yr = df_budg_2to65mil[pd.to_datetime(df_budg_2to65mil['release_date']).dt.year >= 2010]"
   ]
  },
  {
   "cell_type": "code",
   "execution_count": null,
   "metadata": {
    "ExecuteTime": {
     "end_time": "2021-05-04T19:15:21.314675Z",
     "start_time": "2021-05-04T19:15:21.240Z"
    }
   },
   "outputs": [],
   "source": [
    "df_budg_2to65mil_11yr.reset_index(inplace =True) "
   ]
  },
  {
   "cell_type": "code",
   "execution_count": null,
   "metadata": {
    "ExecuteTime": {
     "end_time": "2021-05-04T19:15:21.315672Z",
     "start_time": "2021-05-04T19:15:21.245Z"
    },
    "scrolled": true
   },
   "outputs": [],
   "source": [
    "df_budg_2to65mil_11yr.describe()"
   ]
  },
  {
   "cell_type": "markdown",
   "metadata": {
    "ExecuteTime": {
     "end_time": "2021-05-02T20:09:45.032986Z",
     "start_time": "2021-05-02T20:09:45.027968Z"
    }
   },
   "source": [
    "***\n",
    "***\n",
    "***"
   ]
  },
  {
   "cell_type": "markdown",
   "metadata": {},
   "source": [
    "#### What is our target?  \n",
    "Based on industry research, movies dont truly turn a profit until the 2.0 to 2.5 times PB mark due to marketing and distributors. <br>\n",
    "__Note:__ The __median__ value of medium budget movies (2-65mil) is __61.5% ROI or 1.6 x the investment.__<br>\n",
    " Lets set our target and define success as movies with 150% ROI_percent or wwgross 2.5 times the investment.<br>\n",
    " __Example:__PB is 5000000, __2.5__ times is 12,500,000 for worldwide_gross<br>   Profit would be 7500000  ROI%=7500000 /5000000 *100 =__150%__ <br>\n",
    " __Note:__There are many outlers in this data. These movies are extremly successful. Graph only to 1750%.  Max was 6000% ROI%"
   ]
  },
  {
   "cell_type": "code",
   "execution_count": null,
   "metadata": {
    "ExecuteTime": {
     "end_time": "2021-05-04T19:15:21.316669Z",
     "start_time": "2021-05-04T19:15:21.254Z"
    }
   },
   "outputs": [],
   "source": [
    "#Insert graph of all movies roi with red line at 2.5xPB or 150% roi\n",
    "\n",
    "sns.set(style=\"whitegrid\") \n",
    "fig, ax1 = plt.subplots(figsize=(13,3),)\n",
    "\n",
    "boxplot = sns.boxplot(ax=ax1, x=df_budg_2to65mil_11yr[\"roi_percent\"],color='skyblue')\n",
    "#sns.stripplot(ax=ax1, x=df_budg_2to65mil_11yr[\"roi_percent\"],color='skyblue')\n",
    "ax1.set(xlabel = 'ROI Percent', title='Boxplot of ROI Percent with Success Line')\n",
    "ax1.axvline(150, ls='--',color='red',label='Success Line 150%')\n",
    "ax1.set_xlim(xmin=-250,xmax=1750)\n",
    "ax1.legend(loc='upper right')\n",
    "ax1.text(x=-10,y=0,s=\"65% Fail\")\n",
    "plt.show();"
   ]
  },
  {
   "cell_type": "markdown",
   "metadata": {},
   "source": [
    "__Note:__ How many movies with roi_percent at >=150% ? Only 533 from 1485. Only __35% were successful.  65% fail__."
   ]
  },
  {
   "cell_type": "code",
   "execution_count": null,
   "metadata": {
    "ExecuteTime": {
     "end_time": "2021-05-04T19:15:21.316669Z",
     "start_time": "2021-05-04T19:15:21.262Z"
    }
   },
   "outputs": [],
   "source": [
    "#lets only analyze the movies with >=150% ROI(533 movies)\n",
    "df_budg_success_11yrs = df_budg_2to65mil_11yr[df_budg_2to65mil_11yr['roi_percent'] >= 150]"
   ]
  },
  {
   "cell_type": "markdown",
   "metadata": {
    "ExecuteTime": {
     "end_time": "2021-04-28T06:19:36.771106Z",
     "start_time": "2021-04-28T06:19:36.761099Z"
    }
   },
   "source": [
    "533 successful movies\n",
    "INSERT graph of top 10"
   ]
  },
  {
   "cell_type": "code",
   "execution_count": null,
   "metadata": {
    "ExecuteTime": {
     "end_time": "2021-05-04T19:15:21.317666Z",
     "start_time": "2021-05-04T19:15:21.269Z"
    },
    "scrolled": false
   },
   "outputs": [],
   "source": [
    "df_budg_success_11yrs.head(10)\n"
   ]
  },
  {
   "cell_type": "code",
   "execution_count": null,
   "metadata": {
    "ExecuteTime": {
     "end_time": "2021-05-04T19:15:21.319660Z",
     "start_time": "2021-05-04T19:15:21.274Z"
    }
   },
   "outputs": [],
   "source": [
    "df_budg_success_11yrs = df_budg_success_11yrs.drop(columns=['level_0','index'])\n"
   ]
  },
  {
   "cell_type": "code",
   "execution_count": null,
   "metadata": {
    "ExecuteTime": {
     "end_time": "2021-05-04T19:15:21.320658Z",
     "start_time": "2021-05-04T19:15:21.288Z"
    }
   },
   "outputs": [],
   "source": [
    "df_budg_success_11yrs.describe()"
   ]
  },
  {
   "cell_type": "code",
   "execution_count": null,
   "metadata": {
    "ExecuteTime": {
     "end_time": "2021-05-04T19:15:21.321656Z",
     "start_time": "2021-05-04T19:15:21.293Z"
    }
   },
   "outputs": [],
   "source": [
    "#save successful movies to file\n",
    "df_budg_success_11yrs.to_csv(path_or_buf = path + 'budg_success_11yrs')"
   ]
  },
  {
   "cell_type": "markdown",
   "metadata": {},
   "source": [
    "__Conclusion:__ The Percent RoI for movies in the medium budget range from 2 - 65 M USD has a mean of 586% return but median is 61.5%. The mean is skewed due to the number of outliers.  Most movies do not succeed.  In this data, __65%__ do not succeed.  Considering marketing and distribution, A successful movie should return at least 2.5 times the production budget, ie 150% Roi.  Going forward we will only look at those movies. "
   ]
  },
  {
   "cell_type": "markdown",
   "metadata": {
    "ExecuteTime": {
     "end_time": "2021-04-30T05:49:36.131180Z",
     "start_time": "2021-04-30T05:49:36.127145Z"
    }
   },
   "source": [
    "### Question: What level of production budget will we be comfortable investing?"
   ]
  },
  {
   "cell_type": "markdown",
   "metadata": {},
   "source": [
    "Of the 533 Successful Films in medium budget range since 2010, lets look into the production budgets of those.\n"
   ]
  },
  {
   "cell_type": "code",
   "execution_count": 8,
   "metadata": {
    "ExecuteTime": {
     "end_time": "2021-05-04T19:15:21.422433Z",
     "start_time": "2021-05-04T19:15:21.413410Z"
    }
   },
   "outputs": [
    {
     "ename": "NameError",
     "evalue": "name 'df_budg_success_11yrs' is not defined",
     "output_type": "error",
     "traceback": [
      "\u001b[1;31m---------------------------------------------------------------------------\u001b[0m",
      "\u001b[1;31mNameError\u001b[0m                                 Traceback (most recent call last)",
      "\u001b[1;32m<ipython-input-8-1dbfa29fe814>\u001b[0m in \u001b[0;36m<module>\u001b[1;34m\u001b[0m\n\u001b[1;32m----> 1\u001b[1;33m \u001b[0mdf_budg_success_11yrs\u001b[0m\u001b[1;33m.\u001b[0m\u001b[0mdescribe\u001b[0m\u001b[1;33m(\u001b[0m\u001b[1;33m)\u001b[0m\u001b[1;33m\u001b[0m\u001b[1;33m\u001b[0m\u001b[0m\n\u001b[0m",
      "\u001b[1;31mNameError\u001b[0m: name 'df_budg_success_11yrs' is not defined"
     ]
    }
   ],
   "source": [
    "df_budg_success_11yrs.describe()"
   ]
  },
  {
   "cell_type": "code",
   "execution_count": null,
   "metadata": {
    "ExecuteTime": {
     "end_time": "2021-05-04T19:15:21.424381Z",
     "start_time": "2021-05-04T19:15:21.308Z"
    }
   },
   "outputs": [],
   "source": [
    "#Histogram of Production budget bins\n",
    "\n",
    "sns.set(style=\"whitegrid\") \n",
    "fig, ax1 = plt.subplots(figsize=(18,6),sharex=True ,sharey=True)\n",
    "\n",
    "histplot = sns.histplot(ax=ax1, x=df_budg_success_11yrs[\"production_budget\"],\n",
    "                        color='skyblue',bins=7,label='Bin Range of $9M')\n",
    "\n",
    "ax1.set_xlabel('Production Budgets', fontsize=15)\n",
    "ax1.set_ylabel('Number of Films', fontsize=15)\n",
    "ax1.set_title('533 Successful Films: Histogram of Production Budgets',fontsize=20)\n",
    "#Set the Average Line\n",
    "ax1.axvline(df_budg_success_11yrs[\"production_budget\"].mean(), ls='--',\n",
    "            color='green',label='$22.6M Mean')\n",
    "ax1.set(xlim = (0,67000000))\n",
    "# fixing xticks warning with matplotlib.ticker \"FixedLocator\"\n",
    "ticks_loc = ax1.get_xticks().tolist()\n",
    "ax1.xaxis.set_major_locator(mticker.FixedLocator(ticks_loc))\n",
    "ax1.set_xticklabels(['{:,.2f}'.format(x/1000000) + 'M' for x in ticks_loc])\n",
    "\n",
    "ax1.set(xlim = (0,67000000))\n",
    "ax1.legend(loc='upper right')\n",
    "\n",
    "fig.savefig('../images/ProdBudg.png', bbox_inches='tight')\n",
    "\n",
    "\n",
    "plt.show();"
   ]
  },
  {
   "cell_type": "markdown",
   "metadata": {},
   "source": [
    "__Conclusion:__ Most of the movies are in the 2M to 11M and 11M to 20M bin ranges with a steady decline as budgets increase.  We do not need to spend a high amount on budget to make a successful film.\n",
    "    We need to look at _genres_ of the movies to determine more.  Looking at the Average ROI per range would also be informative."
   ]
  },
  {
   "cell_type": "markdown",
   "metadata": {
    "ExecuteTime": {
     "end_time": "2021-05-02T20:08:33.019988Z",
     "start_time": "2021-05-02T20:08:33.015001Z"
    }
   },
   "source": [
    "***\n",
    "***\n",
    "***"
   ]
  },
  {
   "cell_type": "markdown",
   "metadata": {},
   "source": [
    "### Question: What types of feature film genres should we make?\n",
    "Lets pull in genre information for the movies.  This has been noted in the df_imdbbasics.  We will join this with out budget data.\n",
    "\n",
    "\n"
   ]
  },
  {
   "cell_type": "code",
   "execution_count": null,
   "metadata": {
    "ExecuteTime": {
     "end_time": "2021-05-04T19:15:21.426376Z",
     "start_time": "2021-05-04T19:15:21.317Z"
    },
    "scrolled": true
   },
   "outputs": [],
   "source": [
    "df_imdbbasics.head(3)"
   ]
  },
  {
   "cell_type": "code",
   "execution_count": null,
   "metadata": {
    "ExecuteTime": {
     "end_time": "2021-05-04T19:15:21.427373Z",
     "start_time": "2021-05-04T19:15:21.322Z"
    }
   },
   "outputs": [],
   "source": [
    "df_budg_success_11yrs.info()"
   ]
  },
  {
   "cell_type": "code",
   "execution_count": null,
   "metadata": {
    "ExecuteTime": {
     "end_time": "2021-05-04T19:15:21.428371Z",
     "start_time": "2021-05-04T19:15:21.326Z"
    }
   },
   "outputs": [],
   "source": [
    "#We will do a left join on the successful movies and the imdb basics \n",
    "#keying on movie name and year of release\n",
    "df_budget_genres = pd.merge(df_budg_success_11yrs, df_imdbbasics, \n",
    "                            left_on=  ['movie',\n",
    "                                       pd.to_datetime(df_budg_success_11yrs['release_date']).dt.year],\n",
    "                            right_on= ['primary_title','start_year'], \n",
    "                            how = 'left')"
   ]
  },
  {
   "cell_type": "code",
   "execution_count": null,
   "metadata": {
    "ExecuteTime": {
     "end_time": "2021-05-04T19:15:21.430365Z",
     "start_time": "2021-05-04T19:15:21.330Z"
    }
   },
   "outputs": [],
   "source": [
    "df_budget_genres.info()"
   ]
  },
  {
   "cell_type": "code",
   "execution_count": null,
   "metadata": {
    "ExecuteTime": {
     "end_time": "2021-05-04T19:15:21.431362Z",
     "start_time": "2021-05-04T19:15:21.334Z"
    }
   },
   "outputs": [],
   "source": [
    "#We have to exclude where the genres were unknown or Nan\n",
    "df_budget_genres = df_budget_genres[df_budget_genres.genres != 'unknown']"
   ]
  },
  {
   "cell_type": "code",
   "execution_count": null,
   "metadata": {
    "ExecuteTime": {
     "end_time": "2021-05-04T19:15:21.432360Z",
     "start_time": "2021-05-04T19:15:21.338Z"
    }
   },
   "outputs": [],
   "source": [
    "df_budget_genres = df_budget_genres[df_budget_genres.primary_title.notna()]"
   ]
  },
  {
   "cell_type": "code",
   "execution_count": null,
   "metadata": {
    "ExecuteTime": {
     "end_time": "2021-05-04T19:15:21.433357Z",
     "start_time": "2021-05-04T19:15:21.342Z"
    }
   },
   "outputs": [],
   "source": [
    "#We have matching genre info for 428 successful movies\n",
    "df_budget_genres.info()"
   ]
  },
  {
   "cell_type": "code",
   "execution_count": null,
   "metadata": {
    "ExecuteTime": {
     "end_time": "2021-05-04T19:15:21.434354Z",
     "start_time": "2021-05-04T19:15:21.347Z"
    },
    "scrolled": true
   },
   "outputs": [],
   "source": [
    "#Onlyrun this code once or the genre lis will be in a list itself\n",
    "#genres is a list of upto 3 genres, splitting it to get the individual genres\n",
    "df_budget_genres['genres'] = df_budget_genres['genres'].astype(str).apply(lambda x: x.split(\",\") if x else x)\n",
    "df_budget_genres.tail(10)"
   ]
  },
  {
   "cell_type": "code",
   "execution_count": null,
   "metadata": {
    "ExecuteTime": {
     "end_time": "2021-05-04T19:15:21.435351Z",
     "start_time": "2021-05-04T19:15:21.350Z"
    }
   },
   "outputs": [],
   "source": [
    "df_budget_genres.info()"
   ]
  },
  {
   "cell_type": "code",
   "execution_count": null,
   "metadata": {
    "ExecuteTime": {
     "end_time": "2021-05-04T19:15:21.436349Z",
     "start_time": "2021-05-04T19:15:21.354Z"
    }
   },
   "outputs": [],
   "source": [
    "#a set of distinct genres in the df\n",
    "all_genres = set()\n",
    "for genres in df_budget_genres['genres']:\n",
    "    if genres:\n",
    "        all_genres.update(genres)"
   ]
  },
  {
   "cell_type": "code",
   "execution_count": null,
   "metadata": {
    "ExecuteTime": {
     "end_time": "2021-05-04T19:15:21.437346Z",
     "start_time": "2021-05-04T19:15:21.358Z"
    }
   },
   "outputs": [],
   "source": [
    "#Listing of all distinct genres \n",
    "all_genres"
   ]
  },
  {
   "cell_type": "code",
   "execution_count": null,
   "metadata": {
    "ExecuteTime": {
     "end_time": "2021-05-04T19:15:21.438343Z",
     "start_time": "2021-05-04T19:15:21.362Z"
    }
   },
   "outputs": [],
   "source": [
    "#adding cols with zeros for all the genres we have. Will modify genre to 1 \n",
    "#if the film is of that genre.\n",
    "for genre in all_genres:\n",
    "    df_budget_genres[genre] = np.zeros(shape=df_budget_genres.shape[0])\n",
    "                                \n",
    "df_budget_genres.head()"
   ]
  },
  {
   "cell_type": "code",
   "execution_count": null,
   "metadata": {
    "ExecuteTime": {
     "end_time": "2021-05-04T19:15:21.439341Z",
     "start_time": "2021-05-04T19:15:21.367Z"
    }
   },
   "outputs": [],
   "source": [
    "#setting the genre to be 1 if the film is of that genre\n",
    "for index, row in df_budget_genres.iterrows():\n",
    "    if row['genres']:\n",
    "        for genre in row['genres']:\n",
    "            df_budget_genres.loc[index, genre] = 1\n",
    "\n",
    "df_budget_genres.head()"
   ]
  },
  {
   "cell_type": "code",
   "execution_count": null,
   "metadata": {
    "ExecuteTime": {
     "end_time": "2021-05-04T19:15:21.440338Z",
     "start_time": "2021-05-04T19:15:21.370Z"
    }
   },
   "outputs": [],
   "source": [
    "len(all_genres)"
   ]
  },
  {
   "cell_type": "code",
   "execution_count": null,
   "metadata": {
    "ExecuteTime": {
     "end_time": "2021-05-04T19:15:21.441336Z",
     "start_time": "2021-05-04T19:15:21.374Z"
    },
    "scrolled": true
   },
   "outputs": [],
   "source": [
    "#checking the counts for all different genres\n",
    "#all_genres\n",
    "for col in all_genres:\n",
    "    print(f'Viewing values in col: {col}')\n",
    "    print(f'Top 5 values:\\n{df_budget_genres[col].value_counts()}')"
   ]
  },
  {
   "cell_type": "code",
   "execution_count": null,
   "metadata": {
    "ExecuteTime": {
     "end_time": "2021-05-04T19:15:21.441336Z",
     "start_time": "2021-05-04T19:15:21.377Z"
    }
   },
   "outputs": [],
   "source": [
    "#making a list of all genres\n",
    "cols = list(df_budget_genres.columns)\n",
    "genre_cols = cols[14:]\n",
    "\n",
    "#getting a dict with genre counts\n",
    "genre_count = {}\n",
    "for col in genre_cols:\n",
    "    count = np.sum(df_budget_genres[col] == 1).sum() \n",
    "    genre_count[col] = count"
   ]
  },
  {
   "cell_type": "code",
   "execution_count": null,
   "metadata": {
    "ExecuteTime": {
     "end_time": "2021-05-04T19:15:21.442332Z",
     "start_time": "2021-05-04T19:15:21.381Z"
    },
    "scrolled": true
   },
   "outputs": [],
   "source": [
    "genre_count"
   ]
  },
  {
   "cell_type": "code",
   "execution_count": null,
   "metadata": {
    "ExecuteTime": {
     "end_time": "2021-05-04T19:15:21.443330Z",
     "start_time": "2021-05-04T19:15:21.385Z"
    }
   },
   "outputs": [],
   "source": [
    "keys = list(genre_count.keys())\n",
    "values = list(genre_count.values())"
   ]
  },
  {
   "cell_type": "code",
   "execution_count": null,
   "metadata": {
    "ExecuteTime": {
     "end_time": "2021-05-04T19:15:21.444327Z",
     "start_time": "2021-05-04T19:15:21.388Z"
    }
   },
   "outputs": [],
   "source": [
    "#Histogram of Genres Counts\n",
    "\n",
    "sns.set(style=\"darkgrid\") \n",
    "fig, ax1 = plt.subplots(figsize=(12,4),sharex=True ,sharey=True)\n",
    "\n",
    "histplot = sns.barplot(y = keys, x = values, color = 'skyblue',\n",
    "                       label='Count of Genre Tags')\n",
    "\n",
    "ax1.set_xlabel('Genre Count', fontsize=15)\n",
    "ax1.set_ylabel('Film Genres', fontsize=15)\n",
    "ax1.set_title('Count of All Distinct Genres,All Ratings',fontsize=20)\n",
    "#Set the Average Line\n",
    "\n",
    "ax1.set(xlim = (0,250))\n",
    "\n",
    "ax1.legend(loc='upper right')\n",
    "plt.show();\n"
   ]
  },
  {
   "cell_type": "markdown",
   "metadata": {},
   "source": [
    "The 6 most popular genres are Drama, Comedy, Thriller, Horror, Action and Romance."
   ]
  },
  {
   "cell_type": "markdown",
   "metadata": {},
   "source": [
    "Grouping by genres to look at sum, mean and max related to worldwide gross \n",
    "and roi_percent."
   ]
  },
  {
   "cell_type": "code",
   "execution_count": null,
   "metadata": {
    "ExecuteTime": {
     "end_time": "2021-05-04T19:15:21.445325Z",
     "start_time": "2021-05-04T19:15:21.395Z"
    }
   },
   "outputs": [],
   "source": [
    "#Total Gross by Genre\n",
    "ww_gross = {}\n",
    "for genre in all_genres:\n",
    "    grouped = df_budget_genres.groupby(by =''.join(genre)).sum()\n",
    "    ww_gross[genre] = grouped.iloc[1]['worldwide_gross']"
   ]
  },
  {
   "cell_type": "code",
   "execution_count": null,
   "metadata": {
    "ExecuteTime": {
     "end_time": "2021-05-04T19:15:21.446322Z",
     "start_time": "2021-05-04T19:15:21.398Z"
    }
   },
   "outputs": [],
   "source": [
    "#Average Gross by Genre\n",
    "ww_gross_avg = {}\n",
    "for genre in all_genres:\n",
    "    grouped = df_budget_genres.groupby(by =''.join(genre)).mean()\n",
    "    ww_gross_avg[genre] = grouped.iloc[1]['worldwide_gross']"
   ]
  },
  {
   "cell_type": "code",
   "execution_count": null,
   "metadata": {
    "ExecuteTime": {
     "end_time": "2021-05-04T19:15:21.447320Z",
     "start_time": "2021-05-04T19:15:21.401Z"
    }
   },
   "outputs": [],
   "source": [
    "#Max Roi% by Genre\n",
    "max_roi_genre = {}\n",
    "for genre in all_genres:\n",
    "    grouped = df_budget_genres.groupby(by =''.join(genre)).max()\n",
    "    max_roi_genre[genre] = grouped.iloc[1]['roi_percent']"
   ]
  },
  {
   "cell_type": "code",
   "execution_count": null,
   "metadata": {
    "ExecuteTime": {
     "end_time": "2021-05-04T19:15:21.448317Z",
     "start_time": "2021-05-04T19:15:21.405Z"
    }
   },
   "outputs": [],
   "source": [
    "#Average Roi% by Genre\n",
    "avg_roi_genre = {}\n",
    "for genre in all_genres:\n",
    "    grouped = df_budget_genres.groupby(by =''.join(genre)).mean()\n",
    "    avg_roi_genre[genre] = grouped.iloc[1]['roi_percent']"
   ]
  },
  {
   "cell_type": "code",
   "execution_count": null,
   "metadata": {
    "ExecuteTime": {
     "end_time": "2021-05-04T19:15:21.449314Z",
     "start_time": "2021-05-04T19:15:21.409Z"
    }
   },
   "outputs": [],
   "source": [
    "#Average Prod Budget by Genre\n",
    "avg_prod_budget = {}\n",
    "for genre in all_genres:\n",
    "    grouped = df_budget_genres.groupby(by =''.join(genre)).mean()\n",
    "    avg_prod_budget[genre] = grouped.iloc[1]['production_budget']"
   ]
  },
  {
   "cell_type": "code",
   "execution_count": null,
   "metadata": {
    "ExecuteTime": {
     "end_time": "2021-05-04T19:15:21.450312Z",
     "start_time": "2021-05-04T19:15:21.412Z"
    }
   },
   "outputs": [],
   "source": [
    "#Min Prod Budget by Genre\n",
    "min_prod_budget = {}\n",
    "for genre in all_genres:\n",
    "    grouped = df_budget_genres.groupby(by =''.join(genre)).min()\n",
    "    min_prod_budget[genre] = grouped.iloc[1]['production_budget']"
   ]
  },
  {
   "cell_type": "code",
   "execution_count": null,
   "metadata": {
    "ExecuteTime": {
     "end_time": "2021-05-04T19:15:21.451309Z",
     "start_time": "2021-05-04T19:15:21.415Z"
    }
   },
   "outputs": [],
   "source": [
    "ww_gross_avg"
   ]
  },
  {
   "cell_type": "code",
   "execution_count": null,
   "metadata": {
    "ExecuteTime": {
     "end_time": "2021-05-04T19:15:21.452306Z",
     "start_time": "2021-05-04T19:15:21.420Z"
    }
   },
   "outputs": [],
   "source": [
    "ww_gross"
   ]
  },
  {
   "cell_type": "code",
   "execution_count": 9,
   "metadata": {
    "ExecuteTime": {
     "end_time": "2021-05-04T19:15:21.547098Z",
     "start_time": "2021-05-04T19:15:21.538077Z"
    }
   },
   "outputs": [
    {
     "ename": "NameError",
     "evalue": "name 'max_roi_genre' is not defined",
     "output_type": "error",
     "traceback": [
      "\u001b[1;31m---------------------------------------------------------------------------\u001b[0m",
      "\u001b[1;31mNameError\u001b[0m                                 Traceback (most recent call last)",
      "\u001b[1;32m<ipython-input-9-78d015860607>\u001b[0m in \u001b[0;36m<module>\u001b[1;34m\u001b[0m\n\u001b[1;32m----> 1\u001b[1;33m \u001b[0mmax_roi_genre\u001b[0m\u001b[1;33m\u001b[0m\u001b[1;33m\u001b[0m\u001b[0m\n\u001b[0m",
      "\u001b[1;31mNameError\u001b[0m: name 'max_roi_genre' is not defined"
     ]
    }
   ],
   "source": [
    "max_roi_genre"
   ]
  },
  {
   "cell_type": "code",
   "execution_count": null,
   "metadata": {
    "ExecuteTime": {
     "end_time": "2021-05-04T19:15:21.548051Z",
     "start_time": "2021-05-04T19:15:21.431Z"
    }
   },
   "outputs": [],
   "source": [
    "avg_roi_genre"
   ]
  },
  {
   "cell_type": "code",
   "execution_count": null,
   "metadata": {
    "ExecuteTime": {
     "end_time": "2021-05-04T19:15:21.549047Z",
     "start_time": "2021-05-04T19:15:21.436Z"
    }
   },
   "outputs": [],
   "source": [
    "#Genre Grid \n",
    "#This graph of subplots could be refactored to a function and could be reused \n",
    "sns.set(style=\"darkgrid\") \n",
    "fig, ((ax1, ax2), (ax3, ax4), (ax5, ax6)) = plt.subplots(figsize=(10,14),\n",
    "                                                 nrows=3,ncols=2, )\n",
    "\n",
    "df_items1 = pd.DataFrame(ww_gross.items())\n",
    "barplot = sns.barplot(data=df_items1, x=1, y=0,ax=ax1, color = 'skyblue',)\n",
    "ax1.set(xlabel = 'Worldwide Gross in Billions ',\n",
    "        ylabel='Genre', title='Total Gross per Genre');\n",
    "ax1.set_ylabel('Film Genres', fontsize=15)\n",
    "ax1.set_title('Total Gross per Genre',fontsize=15)\n",
    "# fixing xticks warning with matplotlib.ticker \"FixedLocator\"\n",
    "ticks_loc = ax1.get_xticks().tolist()\n",
    "ax1.xaxis.set_major_locator(mticker.FixedLocator(ticks_loc))\n",
    "ax1.set_xticklabels(['{:,.1f}'.format(x/1000000000) + 'B' for x in ticks_loc])\n",
    "\n",
    "\n",
    "df_items2 = pd.DataFrame(ww_gross_avg.items())\n",
    "ax2 = sns.barplot(data=df_items2, x=1, y=0,ax=ax2,color = 'skyblue')\n",
    "ax2.set(xlabel = 'Worldwide Gross in Millions ', ylabel='Genre',\n",
    "        title='Average Gross per Genre');\n",
    "\n",
    "ax2.set_ylabel('Film Genres', fontsize=15)\n",
    "ax2.set_title('Average Gross per Genre',fontsize=15)\n",
    "# fixing xticks warning with matplotlib.ticker \"FixedLocator\"\n",
    "ticks_loc = ax2.get_xticks().tolist()\n",
    "ax2.xaxis.set_major_locator(mticker.FixedLocator(ticks_loc))\n",
    "ax2.set_xticklabels(['{:,.0f}'.format(x/1000000) + 'M' for x in ticks_loc])\n",
    "\n",
    "\n",
    "df_items3 = pd.DataFrame(max_roi_genre.items())\n",
    "ax3 = sns.barplot(data=df_items3, x=1, y=0, ax=ax3,color = 'skyblue')\n",
    "ax3.set(xlabel = '% ROI', ylabel='Film Genre', title='Max Roi Percent per Genre');\n",
    "ax3.set_ylabel('Film Genres', fontsize=15)\n",
    "ax3.set_title('Max Roi Percent per Genre',fontsize=15)\n",
    "\n",
    "df_items4 = pd.DataFrame(avg_roi_genre.items())\n",
    "ax4 = sns.barplot(data=df_items4, x=1, y=0, ax=ax4, color = 'skyblue')\n",
    "ax4.set(xlabel = '% ROI', ylabel='Film Genre', title='Avg Roi Percent per Genre');\n",
    "ax4.set_ylabel('Film Genres', fontsize=15)\n",
    "ax4.set_title('Avg Roi Percent per Genre',fontsize=15)\n",
    "# Save just the portion _inside_ the second axis's boundaries\n",
    "extent = ax4.get_window_extent().transformed(fig.dpi_scale_trans.inverted())\n",
    "\n",
    "# Pad the saved area by 10% in the x-direction and 20% in the y-direction\n",
    "fig.savefig('../images/ax4_genre.png', bbox_inches=extent.expanded(1.1, 1.2))\n",
    "\n",
    "\n",
    "df_items5 = pd.DataFrame(min_prod_budget.items())\n",
    "ax5 = sns.barplot(data=df_items5, x=1, y=0, ax=ax5, color = 'skyblue')\n",
    "ax5.set(xlabel = 'Production Budget in Millions', ylabel='Genre', title='Min Production per Genre')\n",
    "ax5.set_ylabel('Film Genres', fontsize=15)\n",
    "ax5.set_title('Min Production per Genre',fontsize=15)\n",
    "# fixing xticks warning with matplotlib.ticker \"FixedLocator\"\n",
    "ticks_loc = ax5.get_xticks().tolist()\n",
    "ax5.xaxis.set_major_locator(mticker.FixedLocator(ticks_loc))\n",
    "ax5.set_xticklabels(['{:,.2f}'.format(x/1000000) + 'M' for x in ticks_loc])\n",
    "\n",
    "\n",
    "df_items6 = pd.DataFrame(avg_prod_budget.items())\n",
    "ax6 = sns.barplot(data=df_items6, x=1, y=0, ax=ax6, color = 'skyblue')\n",
    "ax6.set(xlabel = 'Production Budget in Millions', ylabel='Genre', title='Avg Production per Genre')\n",
    "ax6.set_ylabel('Film Genres', fontsize=15)\n",
    "ax6.set_title('Avg Production per Genre',fontsize=15)\n",
    "# fixing xticks warning with matplotlib.ticker \"FixedLocator\"\n",
    "ticks_loc = ax6.get_xticks().tolist()\n",
    "ax6.xaxis.set_major_locator(mticker.FixedLocator(ticks_loc))\n",
    "ax6.set_xticklabels(['{:,.2f}'.format(x/1000000) + 'M' for x in ticks_loc])\n",
    "\n",
    "plt.subplots_adjust(wspace=0.8,hspace=.4)\n",
    "plt.show();\n"
   ]
  },
  {
   "cell_type": "code",
   "execution_count": null,
   "metadata": {
    "ExecuteTime": {
     "end_time": "2021-05-04T19:15:21.550046Z",
     "start_time": "2021-05-04T19:15:21.440Z"
    }
   },
   "outputs": [],
   "source": [
    "#Observations---Horror Mystery Thriller are top3 Average Return on budget.  Thriller is one of the top 3 in count"
   ]
  },
  {
   "cell_type": "code",
   "execution_count": null,
   "metadata": {},
   "outputs": [],
   "source": []
  },
  {
   "cell_type": "code",
   "execution_count": null,
   "metadata": {
    "ExecuteTime": {
     "end_time": "2021-05-04T19:15:21.551042Z",
     "start_time": "2021-05-04T19:15:21.447Z"
    }
   },
   "outputs": [],
   "source": [
    "#This graph of subplots could be refactored to a function and could be reused \n",
    "sns.set(style=\"darkgrid\") \n",
    "fig, ax4 = plt.subplots(figsize=(6,6),\n",
    "                                                 nrows=1,ncols=1, )\n",
    "df_items4 = pd.DataFrame(avg_roi_genre.items())\n",
    "ax4 = sns.barplot(data=df_items4, x=1, y=0, ax=ax4, color = 'skyblue')\n",
    "ax4.set(xlabel = '% ROI', ylabel='Film Genre', title='Avg Roi Percent per Genre');\n",
    "ax4.set_ylabel('Film Genres', fontsize=15)\n",
    "ax4.set_title('Avg Roi Percent per Genre',fontsize=15)\n",
    "# Save just the portion _inside_ the second axis's boundaries\n",
    "extent = ax4.get_window_extent().transformed(fig.dpi_scale_trans.inverted())\n",
    "\n",
    "# Pad the saved area by 10% in the x-direction and 20% in the y-direction\n",
    "fig.savefig('../images/ax4_genre.png', bbox_inches=extent.expanded(1.1, 1.2))\n"
   ]
  },
  {
   "cell_type": "code",
   "execution_count": null,
   "metadata": {},
   "outputs": [],
   "source": []
  },
  {
   "cell_type": "code",
   "execution_count": null,
   "metadata": {},
   "outputs": [],
   "source": []
  },
  {
   "cell_type": "markdown",
   "metadata": {},
   "source": [
    "__Conclusion:__ Higher returns are with the Horror, Mystery, and Thriller genres."
   ]
  },
  {
   "cell_type": "markdown",
   "metadata": {},
   "source": [
    "#### How does MPAA Rating correlate?"
   ]
  },
  {
   "cell_type": "code",
   "execution_count": null,
   "metadata": {
    "ExecuteTime": {
     "end_time": "2021-05-04T19:15:21.552039Z",
     "start_time": "2021-05-04T19:15:21.459Z"
    }
   },
   "outputs": [],
   "source": [
    "#Lets Add in Movie MPAA Rating and exclude R to protect our parent name brand\n",
    "#MPAA Rating is in the \n",
    "df_budget_genres"
   ]
  },
  {
   "cell_type": "code",
   "execution_count": null,
   "metadata": {
    "ExecuteTime": {
     "end_time": "2021-05-04T19:15:21.553037Z",
     "start_time": "2021-05-04T19:15:21.463Z"
    }
   },
   "outputs": [],
   "source": [
    "df_mpaa_ratings = pd.read_csv('../data/tn_mpaa_ratings.csv',index_col = 0, encoding='utf8')"
   ]
  },
  {
   "cell_type": "code",
   "execution_count": null,
   "metadata": {
    "ExecuteTime": {
     "end_time": "2021-05-04T19:15:21.553037Z",
     "start_time": "2021-05-04T19:15:21.466Z"
    }
   },
   "outputs": [],
   "source": [
    "df_mpaa_ratings.head(10)"
   ]
  },
  {
   "cell_type": "code",
   "execution_count": null,
   "metadata": {
    "ExecuteTime": {
     "end_time": "2021-05-04T19:15:21.554034Z",
     "start_time": "2021-05-04T19:15:21.470Z"
    }
   },
   "outputs": [],
   "source": [
    "#We will do a left join on the successful movies and the imdb basics \n",
    "#keying on movie name and year of release\n",
    "df_budget_genre_ratings = pd.merge(df_budget_genres, df_mpaa_ratings, \n",
    "                            left_on=  ['movie',\n",
    "                                       pd.to_datetime(df_budget_genres['release_date']).dt.year],\n",
    "                            right_on= ['Title',\n",
    "                                       pd.to_datetime(df_mpaa_ratings['Released']).dt.year], \n",
    "                            how = 'left')"
   ]
  },
  {
   "cell_type": "code",
   "execution_count": null,
   "metadata": {
    "ExecuteTime": {
     "end_time": "2021-05-04T19:15:21.557028Z",
     "start_time": "2021-05-04T19:15:21.474Z"
    }
   },
   "outputs": [],
   "source": [
    "df_budget_genre_ratings = df_budget_genre_ratings[df_budget_genre_ratings['mpaa_rating'].notna()]"
   ]
  },
  {
   "cell_type": "code",
   "execution_count": null,
   "metadata": {
    "ExecuteTime": {
     "end_time": "2021-05-04T19:15:21.558024Z",
     "start_time": "2021-05-04T19:15:21.477Z"
    }
   },
   "outputs": [],
   "source": [
    "df_budget_genre_ratings.head()"
   ]
  },
  {
   "cell_type": "code",
   "execution_count": null,
   "metadata": {
    "ExecuteTime": {
     "end_time": "2021-05-04T19:15:21.559021Z",
     "start_time": "2021-05-04T19:15:21.481Z"
    }
   },
   "outputs": [],
   "source": [
    "df_budget_genre_ratings.drop(columns=['id', 'key_1','primary_title',\n",
    "                                      'original_title','Released',\n",
    "                                      'ProductionBudget',\n",
    "                                      'WorldwideBox Office','runtime_minutes'],\n",
    "                             inplace=True)"
   ]
  },
  {
   "cell_type": "code",
   "execution_count": null,
   "metadata": {
    "ExecuteTime": {
     "end_time": "2021-05-04T19:15:21.560018Z",
     "start_time": "2021-05-04T19:15:21.484Z"
    }
   },
   "outputs": [],
   "source": [
    "df_budget_genre_ratings.reset_index(inplace=True)"
   ]
  },
  {
   "cell_type": "code",
   "execution_count": null,
   "metadata": {
    "ExecuteTime": {
     "end_time": "2021-05-04T19:15:21.561015Z",
     "start_time": "2021-05-04T19:15:21.491Z"
    },
    "scrolled": false
   },
   "outputs": [],
   "source": [
    "df_budget_genre_ratings"
   ]
  },
  {
   "cell_type": "code",
   "execution_count": null,
   "metadata": {
    "ExecuteTime": {
     "end_time": "2021-05-04T19:15:21.562013Z",
     "start_time": "2021-05-04T19:15:21.496Z"
    }
   },
   "outputs": [],
   "source": [
    "df_budget_genre_ratings.drop(columns=['index'], inplace=True)"
   ]
  },
  {
   "cell_type": "code",
   "execution_count": null,
   "metadata": {
    "ExecuteTime": {
     "end_time": "2021-05-04T19:15:21.563010Z",
     "start_time": "2021-05-04T19:15:21.500Z"
    }
   },
   "outputs": [],
   "source": [
    "df_budget_genre_ratings.head()"
   ]
  },
  {
   "cell_type": "code",
   "execution_count": null,
   "metadata": {
    "ExecuteTime": {
     "end_time": "2021-05-04T19:15:21.564008Z",
     "start_time": "2021-05-04T19:15:21.504Z"
    }
   },
   "outputs": [],
   "source": [
    "df_budget_genre_ratings.mpaa_rating.value_counts()"
   ]
  },
  {
   "cell_type": "code",
   "execution_count": null,
   "metadata": {
    "ExecuteTime": {
     "end_time": "2021-05-04T19:15:21.565006Z",
     "start_time": "2021-05-04T19:15:21.507Z"
    }
   },
   "outputs": [],
   "source": [
    "ratings = ['R','PG-13','PG','G']"
   ]
  },
  {
   "cell_type": "code",
   "execution_count": null,
   "metadata": {
    "ExecuteTime": {
     "end_time": "2021-05-04T19:15:21.566003Z",
     "start_time": "2021-05-04T19:15:21.510Z"
    }
   },
   "outputs": [],
   "source": [
    "ratingsvalues = list(df_budget_genre_ratings.mpaa_rating.value_counts())"
   ]
  },
  {
   "cell_type": "code",
   "execution_count": null,
   "metadata": {
    "ExecuteTime": {
     "end_time": "2021-05-04T19:15:21.567000Z",
     "start_time": "2021-05-04T19:15:21.513Z"
    }
   },
   "outputs": [],
   "source": [
    "ratingsvalues"
   ]
  },
  {
   "cell_type": "code",
   "execution_count": null,
   "metadata": {
    "ExecuteTime": {
     "end_time": "2021-05-04T19:15:21.567997Z",
     "start_time": "2021-05-04T19:15:21.516Z"
    }
   },
   "outputs": [],
   "source": [
    "#Histogram of Production budget bins\n",
    "\n",
    "sns.set(style=\"darkgrid\") \n",
    "fig, ax1 = plt.subplots(figsize=(8,3))\n",
    "\n",
    "histplot = sns.barplot(y = ratings, x = ratingsvalues, color = 'skyblue',\n",
    "                       label='Count of MPAA Rating')\n",
    "\n",
    "ax1.set_xlabel('MPAA Ratings Count', fontsize=15)\n",
    "ax1.set_ylabel('MPAA Ratings', fontsize=15)\n",
    "ax1.set_title('Count of All MPAA Ratings',fontsize=20)\n",
    "#Set the Average Line\n",
    "\n",
    "#ax1.set(xlim = (0,250))\n",
    "\n",
    "#ax1.legend(loc='upper right')\n",
    "plt.show();"
   ]
  },
  {
   "cell_type": "code",
   "execution_count": null,
   "metadata": {
    "ExecuteTime": {
     "end_time": "2021-05-04T19:15:21.568995Z",
     "start_time": "2021-05-04T19:15:21.520Z"
    }
   },
   "outputs": [],
   "source": [
    "df_budget_genre_ratings"
   ]
  },
  {
   "cell_type": "code",
   "execution_count": null,
   "metadata": {
    "ExecuteTime": {
     "end_time": "2021-05-04T19:15:21.570989Z",
     "start_time": "2021-05-04T19:15:21.524Z"
    }
   },
   "outputs": [],
   "source": [
    "\n",
    "    grouped = df_budget_genre_ratings.groupby(by ='mpaa_rating').mean()\n"
   ]
  },
  {
   "cell_type": "code",
   "execution_count": null,
   "metadata": {
    "ExecuteTime": {
     "end_time": "2021-05-04T19:15:21.571987Z",
     "start_time": "2021-05-04T19:15:21.527Z"
    }
   },
   "outputs": [],
   "source": [
    "    avg_roi_by_rating[ratings] = grouped.iloc[1]['roi_percent']"
   ]
  },
  {
   "cell_type": "code",
   "execution_count": null,
   "metadata": {
    "ExecuteTime": {
     "end_time": "2021-05-04T19:15:21.572984Z",
     "start_time": "2021-05-04T19:15:21.530Z"
    }
   },
   "outputs": [],
   "source": [
    "avg_roi_by_rating"
   ]
  },
  {
   "cell_type": "code",
   "execution_count": null,
   "metadata": {
    "ExecuteTime": {
     "end_time": "2021-05-04T19:15:21.573981Z",
     "start_time": "2021-05-04T19:15:21.533Z"
    }
   },
   "outputs": [],
   "source": [
    "df_not_R = df_budget_genre_ratings[df_budget_genre_ratings['mpaa_rating'] != 'R']"
   ]
  },
  {
   "cell_type": "code",
   "execution_count": null,
   "metadata": {
    "ExecuteTime": {
     "end_time": "2021-05-04T19:15:21.574978Z",
     "start_time": "2021-05-04T19:15:21.536Z"
    }
   },
   "outputs": [],
   "source": [
    "df_not_R"
   ]
  },
  {
   "cell_type": "code",
   "execution_count": null,
   "metadata": {
    "ExecuteTime": {
     "end_time": "2021-05-04T19:15:21.575975Z",
     "start_time": "2021-05-04T19:15:21.540Z"
    }
   },
   "outputs": [],
   "source": [
    "#making a list of all columns\n",
    "colsnotr = list(df_not_R.columns)"
   ]
  },
  {
   "cell_type": "code",
   "execution_count": null,
   "metadata": {
    "ExecuteTime": {
     "end_time": "2021-05-04T19:15:21.576973Z",
     "start_time": "2021-05-04T19:15:21.544Z"
    }
   },
   "outputs": [],
   "source": [
    "colsnotr"
   ]
  },
  {
   "cell_type": "code",
   "execution_count": 10,
   "metadata": {
    "ExecuteTime": {
     "end_time": "2021-05-04T19:15:21.673763Z",
     "start_time": "2021-05-04T19:15:21.660748Z"
    }
   },
   "outputs": [
    {
     "ename": "NameError",
     "evalue": "name 'cols' is not defined",
     "output_type": "error",
     "traceback": [
      "\u001b[1;31m---------------------------------------------------------------------------\u001b[0m",
      "\u001b[1;31mNameError\u001b[0m                                 Traceback (most recent call last)",
      "\u001b[1;32m<ipython-input-10-da766c23150f>\u001b[0m in \u001b[0;36m<module>\u001b[1;34m\u001b[0m\n\u001b[1;32m----> 1\u001b[1;33m \u001b[0mgenre_colsnotr\u001b[0m \u001b[1;33m=\u001b[0m \u001b[0mcols\u001b[0m\u001b[1;33m[\u001b[0m\u001b[1;36m14\u001b[0m\u001b[1;33m:\u001b[0m\u001b[1;36m36\u001b[0m\u001b[1;33m]\u001b[0m\u001b[1;33m\u001b[0m\u001b[1;33m\u001b[0m\u001b[0m\n\u001b[0m",
      "\u001b[1;31mNameError\u001b[0m: name 'cols' is not defined"
     ]
    }
   ],
   "source": [
    "genre_colsnotr = cols[14:36]"
   ]
  },
  {
   "cell_type": "code",
   "execution_count": null,
   "metadata": {
    "ExecuteTime": {
     "end_time": "2021-05-04T19:15:21.674711Z",
     "start_time": "2021-05-04T19:15:21.552Z"
    }
   },
   "outputs": [],
   "source": [
    "df_not_R"
   ]
  },
  {
   "cell_type": "code",
   "execution_count": null,
   "metadata": {
    "ExecuteTime": {
     "end_time": "2021-05-04T19:15:21.675709Z",
     "start_time": "2021-05-04T19:15:21.557Z"
    }
   },
   "outputs": [],
   "source": [
    "\n",
    "genre_colsnotr = cols[14:36]\n",
    "\n",
    "#getting a dict with genre counts\n",
    "genre_countnotr = {}\n",
    "for col in genre_cols:\n",
    "    count = np.sum(df_not_R[col] == 1).sum() \n",
    "    genre_countnotr[col] = count"
   ]
  },
  {
   "cell_type": "code",
   "execution_count": null,
   "metadata": {
    "ExecuteTime": {
     "end_time": "2021-05-04T19:15:21.676742Z",
     "start_time": "2021-05-04T19:15:21.562Z"
    }
   },
   "outputs": [],
   "source": [
    "genre_countnotr"
   ]
  },
  {
   "cell_type": "code",
   "execution_count": null,
   "metadata": {
    "ExecuteTime": {
     "end_time": "2021-05-04T19:15:21.677704Z",
     "start_time": "2021-05-04T19:15:21.566Z"
    }
   },
   "outputs": [],
   "source": [
    "keys_notr = list(genre_countnotr.keys())\n",
    "values_notr = list(genre_countnotr.values())"
   ]
  },
  {
   "cell_type": "code",
   "execution_count": null,
   "metadata": {
    "ExecuteTime": {
     "end_time": "2021-05-04T19:15:21.678701Z",
     "start_time": "2021-05-04T19:15:21.570Z"
    }
   },
   "outputs": [],
   "source": [
    "#Histogram of Genres Counts\n",
    "\n",
    "sns.set(style=\"darkgrid\") \n",
    "fig, ax1 = plt.subplots(figsize=(12,4),sharex=True ,sharey=True)\n",
    "\n",
    "histplot = sns.barplot(y = keys_notr, x = values_notr, color = 'skyblue',\n",
    "                       label='Count of Genre Tags')\n",
    "\n",
    "ax1.set_xlabel('Genre Count', fontsize=15)\n",
    "ax1.set_ylabel('Film Genres', fontsize=15)\n",
    "ax1.set_title('Count of All Distinct Genres not R rated',fontsize=20)\n",
    "#Set the Average Line\n",
    "\n",
    "ax1.set(xlim = (0,140))\n",
    "\n",
    "ax1.legend(loc='upper right')\n",
    "plt.show();\n"
   ]
  },
  {
   "cell_type": "code",
   "execution_count": null,
   "metadata": {},
   "outputs": [],
   "source": []
  },
  {
   "cell_type": "code",
   "execution_count": null,
   "metadata": {
    "ExecuteTime": {
     "end_time": "2021-05-04T19:15:21.679698Z",
     "start_time": "2021-05-04T19:15:21.577Z"
    }
   },
   "outputs": [],
   "source": [
    "#Average Roi% by Genre\n",
    "max_roi_genrenotr= {}\n",
    "for genre in all_genresnotr:\n",
    "    grouped = df_not_R.groupby(by =''.join(genre)).max()\n",
    "    max_roi_genrenotr[genre] = grouped.iloc[0]['roi_percent']"
   ]
  },
  {
   "cell_type": "code",
   "execution_count": null,
   "metadata": {
    "ExecuteTime": {
     "end_time": "2021-05-04T19:15:21.679698Z",
     "start_time": "2021-05-04T19:15:21.581Z"
    }
   },
   "outputs": [],
   "source": [
    "#Average Roi% by Genre\n",
    "avg_roi_genrenotr= {}\n",
    "for genre in all_genresnotr:\n",
    "    grouped = df_not_R.groupby(by =''.join(genre)).mean()\n",
    "    avg_roi_genrenotr[genre] = grouped.iloc[0]['roi_percent']"
   ]
  },
  {
   "cell_type": "code",
   "execution_count": null,
   "metadata": {
    "ExecuteTime": {
     "end_time": "2021-05-04T19:15:21.680695Z",
     "start_time": "2021-05-04T19:15:21.584Z"
    }
   },
   "outputs": [],
   "source": [
    "#Average Gross by Genre\n",
    "ww_gross_avgnotr = {}\n",
    "for genre in all_genresnotr:\n",
    "    grouped = df_not_R.groupby(by =''.join(genre)).mean()\n",
    "    ww_gross_avg[genre] = grouped.iloc[0]['worldwide_gross']"
   ]
  },
  {
   "cell_type": "code",
   "execution_count": null,
   "metadata": {
    "ExecuteTime": {
     "end_time": "2021-05-04T19:15:21.681692Z",
     "start_time": "2021-05-04T19:15:21.588Z"
    }
   },
   "outputs": [],
   "source": [
    "#Average PB by Genre\n",
    "pb_avgnotr = {}\n",
    "for genre in all_genresnotr:\n",
    "    grouped = df_not_R.groupby(by =''.join(genre)).mean()\n",
    "    pb_avgnotr[genre] = grouped.iloc[0]['production_budget']"
   ]
  },
  {
   "cell_type": "code",
   "execution_count": null,
   "metadata": {
    "ExecuteTime": {
     "end_time": "2021-05-04T19:15:21.682690Z",
     "start_time": "2021-05-04T19:15:21.591Z"
    }
   },
   "outputs": [],
   "source": [
    "max_pb_genrenotr = {}\n",
    "for genre in all_genresnotr:\n",
    "    grouped = df_not_R.groupby(by =''.join(genre)).max()\n",
    "    max_pb_genrenotr[genre] = grouped.iloc[0]['production_budget']"
   ]
  },
  {
   "cell_type": "code",
   "execution_count": null,
   "metadata": {
    "ExecuteTime": {
     "end_time": "2021-05-04T19:15:21.682690Z",
     "start_time": "2021-05-04T19:15:21.595Z"
    }
   },
   "outputs": [],
   "source": [
    "max_roi_genrenotr"
   ]
  },
  {
   "cell_type": "code",
   "execution_count": null,
   "metadata": {
    "ExecuteTime": {
     "end_time": "2021-05-04T19:15:21.683687Z",
     "start_time": "2021-05-04T19:15:21.598Z"
    }
   },
   "outputs": [],
   "source": [
    "#a set of distinct genres in the df\n",
    "all_genresnotr = set()\n",
    "for genres in df_not_R['genres']:\n",
    "    if genres:\n",
    "        all_genresnotr.update(genres)"
   ]
  },
  {
   "cell_type": "code",
   "execution_count": null,
   "metadata": {
    "ExecuteTime": {
     "end_time": "2021-05-04T19:15:21.684685Z",
     "start_time": "2021-05-04T19:15:21.602Z"
    }
   },
   "outputs": [],
   "source": [
    "#Genre Grid \n",
    "#This graph of subplots could be refactored to a function and could be reused \n",
    "sns.set(style=\"darkgrid\") \n",
    "fig, ((ax3, ax4), (ax5, ax6)) = plt.subplots(figsize=(10,12),\n",
    "                                                 nrows=2,ncols=2, )\n",
    "max_roi_genrenotr\n",
    "df_items3 = pd.DataFrame(max_roi_genrenotr.items())\n",
    "ax3 = sns.barplot(data=df_items3, x=1, y=0, ax=ax3, color = 'skyblue')\n",
    "ax3.set(xlabel = '% ROI', ylabel='Film Genre', title='Max Roi Percent per Genre');\n",
    "ax3.set_ylabel('Film Genres', fontsize=15)\n",
    "ax3.set_title('Max Roi Percent per Genre',fontsize=15)\n",
    "\n",
    "\n",
    "\n",
    "df_items4 = pd.DataFrame(avg_roi_genrenotr.items())\n",
    "ax4 = sns.barplot(data=df_items4, x=1, y=0, ax=ax4, color = 'skyblue')\n",
    "ax4.set(xlabel = '% ROI', ylabel='Film Genre', title='Avg Roi Percent per Genre');\n",
    "ax4.set_ylabel('Film Genres', fontsize=15)\n",
    "ax4.set_title('Avg Roi Percent per Genre',fontsize=15)\n",
    "\n",
    "df_items5 = pd.DataFrame(max_pb_genrenotr.items())\n",
    "ax5 = sns.barplot(data=df_items5, x=1, y=0, ax=ax5, color = 'skyblue')\n",
    "ax5.set(xlabel = 'PB', ylabel='Film Genre', title='Max PB per Genre');\n",
    "ax5.set_ylabel('Film Genres', fontsize=15)\n",
    "ax5.set_title('Max PB per Genre',fontsize=15)\n",
    "# fixing xticks warning with matplotlib.ticker \"FixedLocator\"\n",
    "ticks_loc = ax5.get_xticks().tolist()\n",
    "ax5.xaxis.set_major_locator(mticker.FixedLocator(ticks_loc))\n",
    "ax5.set_xticklabels(['{:,.0f}'.format(x/1000000) + 'M' for x in ticks_loc])\n",
    "\n",
    "df_items6 = pd.DataFrame(pb_avgnotr.items())\n",
    "ax6 = sns.barplot(data=df_items6, x=1, y=0, ax=ax6, color = 'skyblue')\n",
    "ax6.set(xlabel = 'Production Budget in Millions', ylabel='Genre', title='Avg Production per Genre')\n",
    "ax6.set_ylabel('Film Genres', fontsize=15)\n",
    "ax6.set_title('Avg Production per Genre',fontsize=15)\n",
    "# fixing xticks warning with matplotlib.ticker \"FixedLocator\"\n",
    "ticks_loc = ax6.get_xticks().tolist()\n",
    "ax6.xaxis.set_major_locator(mticker.FixedLocator(ticks_loc))\n",
    "ax6.set_xticklabels(['{:,.0f}'.format(x/1000000) + 'M' for x in ticks_loc])\n",
    "\n",
    "plt.subplots_adjust(wspace=0.8,hspace=.4)\n",
    "plt.show();\n"
   ]
  },
  {
   "cell_type": "code",
   "execution_count": null,
   "metadata": {
    "ExecuteTime": {
     "end_time": "2021-05-04T19:15:21.685682Z",
     "start_time": "2021-05-04T19:15:21.605Z"
    }
   },
   "outputs": [],
   "source": [
    "sns.set(style=\"darkgrid\") \n",
    "fig, ax4 = plt.subplots(figsize=(6,6),nrows=1,ncols=1, )\n",
    "\n",
    "df_items4 = pd.DataFrame(avg_roi_genrenotr.items())\n",
    "ax4 = sns.barplot(data=df_items4, x=1, y=0, ax=ax4, color = 'skyblue')\n",
    "ax4.set(xlabel = '% ROI', ylabel='Film Genre', title='Avg Roi Percent per Genre');\n",
    "ax4.set_ylabel('Film Genres', fontsize=15)\n",
    "ax4.set_title('Avg Roi Percent per Genre',fontsize=15)"
   ]
  },
  {
   "cell_type": "markdown",
   "metadata": {
    "ExecuteTime": {
     "end_time": "2021-04-30T11:21:06.735430Z",
     "start_time": "2021-04-30T11:21:06.730440Z"
    }
   },
   "source": [
    "__Conclusion:__ Genres higher average returns are with R rating are Horror, Mystery and Thrillers.  Excluding R ratings, Comedy has a higher ROI% closely followed by Adventure, Crime, Action, Sport, Romance.  Anything really except Horror, Drama are worst when not R rated but not by much."
   ]
  },
  {
   "cell_type": "markdown",
   "metadata": {
    "ExecuteTime": {
     "end_time": "2021-04-29T03:09:50.546023Z",
     "start_time": "2021-04-29T03:09:50.354499Z"
    }
   },
   "source": [
    "### Question: When should we most optimally release our movies? Are there better months for our releases?"
   ]
  },
  {
   "cell_type": "markdown",
   "metadata": {},
   "source": [
    "In answering the question When to Release the movie lets look to see when previous movies were released.\n",
    "Lets make a column for release month.\n"
   ]
  },
  {
   "cell_type": "code",
   "execution_count": null,
   "metadata": {
    "ExecuteTime": {
     "end_time": "2021-05-04T19:15:21.685682Z",
     "start_time": "2021-05-04T19:15:21.612Z"
    }
   },
   "outputs": [],
   "source": [
    "df_budget_genres.head()"
   ]
  },
  {
   "cell_type": "code",
   "execution_count": null,
   "metadata": {
    "ExecuteTime": {
     "end_time": "2021-05-04T19:15:21.686679Z",
     "start_time": "2021-05-04T19:15:21.616Z"
    }
   },
   "outputs": [],
   "source": [
    "df_budget_genres['release_month'] = pd.to_datetime(df_budget_genres.release_date).dt.strftime('%b')\n",
    "#df_budget_genres['release_month'] = pd.to_datetime(df_budget_genres.release_date).dt.month"
   ]
  },
  {
   "cell_type": "code",
   "execution_count": null,
   "metadata": {
    "ExecuteTime": {
     "end_time": "2021-05-04T19:15:21.687677Z",
     "start_time": "2021-05-04T19:15:21.619Z"
    }
   },
   "outputs": [],
   "source": [
    "df_budget_genres.head()"
   ]
  },
  {
   "cell_type": "code",
   "execution_count": null,
   "metadata": {
    "ExecuteTime": {
     "end_time": "2021-05-04T19:15:21.688675Z",
     "start_time": "2021-05-04T19:15:21.623Z"
    }
   },
   "outputs": [],
   "source": [
    "df_budget_genres"
   ]
  },
  {
   "cell_type": "code",
   "execution_count": null,
   "metadata": {
    "ExecuteTime": {
     "end_time": "2021-05-04T19:15:21.689671Z",
     "start_time": "2021-05-04T19:15:21.626Z"
    }
   },
   "outputs": [],
   "source": [
    "pd.to_datetime(df_budget_genres['release_date']).dt.year"
   ]
  },
  {
   "cell_type": "code",
   "execution_count": null,
   "metadata": {
    "ExecuteTime": {
     "end_time": "2021-05-04T19:15:21.691666Z",
     "start_time": "2021-05-04T19:15:21.629Z"
    }
   },
   "outputs": [],
   "source": [
    "df_budget_genres['month'] = pd.to_datetime(df_budget_genres['release_date']).dt.month"
   ]
  },
  {
   "cell_type": "code",
   "execution_count": null,
   "metadata": {
    "ExecuteTime": {
     "end_time": "2021-05-04T19:15:21.692663Z",
     "start_time": "2021-05-04T19:15:21.632Z"
    }
   },
   "outputs": [],
   "source": [
    "df_budget_genres.sort_values(by='month', inplace=True)"
   ]
  },
  {
   "cell_type": "code",
   "execution_count": null,
   "metadata": {
    "ExecuteTime": {
     "end_time": "2021-05-04T19:15:21.692663Z",
     "start_time": "2021-05-04T19:15:21.635Z"
    }
   },
   "outputs": [],
   "source": [
    "##Histplot of movies release in month\n",
    "sns.set(style=\"darkgrid\") \n",
    "fig, (ax1, ax2) = plt.subplots(figsize=(16,6),nrows =2, ncols=1,sharex=True ,sharey=False)\n",
    "ax1 = sns.histplot(df_budget_genres, x=\"release_month\",bins=12,shrink=.8, ax=ax1)\n",
    "ax1.set(xlabel = 'Month of Film Release', ylabel='Number of Films', title='Count per Month')\n",
    "\n",
    "sns.boxplot(x='release_month',y='roi_percent',data=df_budget_genres,ax=ax2,\n",
    "            palette='cool',fliersize=0)\n",
    "ax2.set(xlabel = 'Month vs ROI %', ylabel='ROI %', )\n",
    "ax2.set_ylim(top=1600)\n",
    "ax2.axhline(y=570)\n",
    "\n",
    "plt.subplots_adjust(wspace=0.8, hspace=0.05)\n",
    "plt.show();\n"
   ]
  },
  {
   "cell_type": "markdown",
   "metadata": {},
   "source": [
    "__Conclusion:__  Some very good high returns on investment occurred in the months of October and December.  The median returns per month are similar and all under the 10 times investment.  There is a down trend with September and May not having huge gains.  October could be closely related with Halloween and Horror and/or Thriler movies.  Safe months are June, July, Aug, Oct Nov."
   ]
  },
  {
   "cell_type": "markdown",
   "metadata": {},
   "source": [
    "\n",
    "\n",
    "\n",
    "\n",
    "\n",
    "\n",
    "\n",
    "\n",
    "\n",
    "\n",
    "\n",
    "\n",
    "\n",
    "\n",
    "\n",
    "***\n",
    "\n",
    "***\n",
    "\n",
    "***\n"
   ]
  },
  {
   "cell_type": "markdown",
   "metadata": {
    "ExecuteTime": {
     "end_time": "2021-04-29T03:55:51.490834Z",
     "start_time": "2021-04-29T03:55:51.482819Z"
    }
   },
   "source": [
    "### Question: How many feature films should we release per year? ie drives initial investment"
   ]
  },
  {
   "cell_type": "markdown",
   "metadata": {
    "ExecuteTime": {
     "end_time": "2021-04-29T04:32:32.047768Z",
     "start_time": "2021-04-29T04:32:32.016817Z"
    }
   },
   "source": [
    "#How many movies a year? Lets Look at the successful studios number a year.\n",
    "df_bom has studio info...We can join on budget genres to get month and year.\n"
   ]
  },
  {
   "cell_type": "code",
   "execution_count": null,
   "metadata": {
    "ExecuteTime": {
     "end_time": "2021-05-04T19:15:21.693660Z",
     "start_time": "2021-05-04T19:15:21.643Z"
    }
   },
   "outputs": [],
   "source": [
    "df_bom.head()"
   ]
  },
  {
   "cell_type": "code",
   "execution_count": null,
   "metadata": {
    "ExecuteTime": {
     "end_time": "2021-05-04T19:15:21.694658Z",
     "start_time": "2021-05-04T19:15:21.646Z"
    }
   },
   "outputs": [],
   "source": [
    "df_budget_genres.info()"
   ]
  },
  {
   "cell_type": "code",
   "execution_count": null,
   "metadata": {
    "ExecuteTime": {
     "end_time": "2021-05-04T19:15:21.695656Z",
     "start_time": "2021-05-04T19:15:21.650Z"
    }
   },
   "outputs": [],
   "source": [
    "df_studios_bud_genres = pd.merge(df_budget_genres, df_bom, \n",
    "                            left_on=  ['movie',pd.to_datetime(df_budget_genres['release_date']).dt.year],\n",
    "                            right_on= ['title','year'], \n",
    "                            how = 'left')"
   ]
  },
  {
   "cell_type": "code",
   "execution_count": null,
   "metadata": {
    "ExecuteTime": {
     "end_time": "2021-05-04T19:15:21.696653Z",
     "start_time": "2021-05-04T19:15:21.653Z"
    }
   },
   "outputs": [],
   "source": [
    "df_studios_bud_genres[df_studios_bud_genres.studio.isna()]"
   ]
  },
  {
   "cell_type": "code",
   "execution_count": null,
   "metadata": {
    "ExecuteTime": {
     "end_time": "2021-05-04T19:15:21.696653Z",
     "start_time": "2021-05-04T19:15:21.656Z"
    }
   },
   "outputs": [],
   "source": [
    "df_bom[df_bom.index== 'Get Out']"
   ]
  },
  {
   "cell_type": "code",
   "execution_count": null,
   "metadata": {
    "ExecuteTime": {
     "end_time": "2021-05-04T19:15:21.697651Z",
     "start_time": "2021-05-04T19:15:21.659Z"
    }
   },
   "outputs": [],
   "source": [
    "df_studios_bud_genres = df_studios_bud_genres[df_studios_bud_genres.studio.notna()]"
   ]
  },
  {
   "cell_type": "code",
   "execution_count": null,
   "metadata": {
    "ExecuteTime": {
     "end_time": "2021-05-04T19:15:21.698647Z",
     "start_time": "2021-05-04T19:15:21.663Z"
    }
   },
   "outputs": [],
   "source": [
    "#a set of distinct genres in the df\n",
    "all_studios = set(df_studios_bud_genres['studio'])"
   ]
  },
  {
   "cell_type": "code",
   "execution_count": null,
   "metadata": {
    "ExecuteTime": {
     "end_time": "2021-05-04T19:15:21.698647Z",
     "start_time": "2021-05-04T19:15:21.667Z"
    }
   },
   "outputs": [],
   "source": [
    "all_studios"
   ]
  },
  {
   "cell_type": "code",
   "execution_count": null,
   "metadata": {
    "ExecuteTime": {
     "end_time": "2021-05-04T19:15:21.699644Z",
     "start_time": "2021-05-04T19:15:21.671Z"
    }
   },
   "outputs": [],
   "source": [
    "#getting a dict with Studio counts\n",
    "studio_count = {}\n",
    "for col in genre_cols:\n",
    "    count = np.sum(df_budget_genres[col] == 1).sum() \n",
    "    genre_count[col] = count"
   ]
  },
  {
   "cell_type": "code",
   "execution_count": 11,
   "metadata": {
    "ExecuteTime": {
     "end_time": "2021-05-04T19:15:21.815335Z",
     "start_time": "2021-05-04T19:15:21.799410Z"
    }
   },
   "outputs": [
    {
     "ename": "NameError",
     "evalue": "name 'df_studios_bud_genres' is not defined",
     "output_type": "error",
     "traceback": [
      "\u001b[1;31m---------------------------------------------------------------------------\u001b[0m",
      "\u001b[1;31mNameError\u001b[0m                                 Traceback (most recent call last)",
      "\u001b[1;32m<ipython-input-11-d47e79e94f38>\u001b[0m in \u001b[0;36m<module>\u001b[1;34m\u001b[0m\n\u001b[1;32m----> 1\u001b[1;33m \u001b[0mdf_studios_bud_genres\u001b[0m\u001b[1;33m[\u001b[0m\u001b[1;34m'studio'\u001b[0m\u001b[1;33m]\u001b[0m\u001b[1;33m.\u001b[0m\u001b[0mvalue_counts\u001b[0m\u001b[1;33m(\u001b[0m\u001b[1;33m)\u001b[0m\u001b[1;33m\u001b[0m\u001b[1;33m\u001b[0m\u001b[0m\n\u001b[0m",
      "\u001b[1;31mNameError\u001b[0m: name 'df_studios_bud_genres' is not defined"
     ]
    }
   ],
   "source": [
    "df_studios_bud_genres['studio'].value_counts()"
   ]
  },
  {
   "cell_type": "code",
   "execution_count": null,
   "metadata": {
    "ExecuteTime": {
     "end_time": "2021-05-04T19:15:21.816333Z",
     "start_time": "2021-05-04T19:15:21.679Z"
    }
   },
   "outputs": [],
   "source": [
    "studio_count = dict(df_studios_bud_genres['studio'].value_counts())"
   ]
  },
  {
   "cell_type": "code",
   "execution_count": null,
   "metadata": {
    "ExecuteTime": {
     "end_time": "2021-05-04T19:15:21.816333Z",
     "start_time": "2021-05-04T19:15:21.683Z"
    }
   },
   "outputs": [],
   "source": [
    "studio_count"
   ]
  },
  {
   "cell_type": "code",
   "execution_count": null,
   "metadata": {
    "ExecuteTime": {
     "end_time": "2021-05-04T19:15:21.817330Z",
     "start_time": "2021-05-04T19:15:21.687Z"
    }
   },
   "outputs": [],
   "source": [
    "df_bom_studio = df_bom.groupby(by=['studio','year']).count()"
   ]
  },
  {
   "cell_type": "code",
   "execution_count": null,
   "metadata": {
    "ExecuteTime": {
     "end_time": "2021-05-04T19:15:21.818328Z",
     "start_time": "2021-05-04T19:15:21.691Z"
    }
   },
   "outputs": [],
   "source": [
    "df_bom_studio"
   ]
  },
  {
   "cell_type": "code",
   "execution_count": null,
   "metadata": {
    "ExecuteTime": {
     "end_time": "2021-05-04T19:15:21.819325Z",
     "start_time": "2021-05-04T19:15:21.695Z"
    }
   },
   "outputs": [],
   "source": [
    "df_bom_studio_pivott = df_bom.pivot_table(index='studio' ,values='worldwide_gross',\n",
    "                                          columns='year',\n",
    "                                          margins=True,margins_name='count',\n",
    "                                          aggfunc='count',fill_value=0)"
   ]
  },
  {
   "cell_type": "code",
   "execution_count": null,
   "metadata": {
    "ExecuteTime": {
     "end_time": "2021-05-04T19:15:21.819325Z",
     "start_time": "2021-05-04T19:15:21.699Z"
    }
   },
   "outputs": [],
   "source": [
    "\n",
    "df_bom_studio_pivott.sort_values(['count'], ascending=[False], inplace=True)\n",
    "df_bom_studio_pivott"
   ]
  },
  {
   "cell_type": "code",
   "execution_count": null,
   "metadata": {
    "ExecuteTime": {
     "end_time": "2021-05-04T19:15:21.820323Z",
     "start_time": "2021-05-04T19:15:21.704Z"
    }
   },
   "outputs": [],
   "source": [
    "type(df_bom_studio)"
   ]
  },
  {
   "cell_type": "code",
   "execution_count": null,
   "metadata": {
    "ExecuteTime": {
     "end_time": "2021-05-04T19:15:21.821321Z",
     "start_time": "2021-05-04T19:15:21.708Z"
    }
   },
   "outputs": [],
   "source": [
    "testpiv = df_bom_studio_pivott[1:21]"
   ]
  },
  {
   "cell_type": "code",
   "execution_count": null,
   "metadata": {
    "ExecuteTime": {
     "end_time": "2021-05-04T19:15:21.822317Z",
     "start_time": "2021-05-04T19:15:21.711Z"
    }
   },
   "outputs": [],
   "source": [
    "mask=[False, False, False, False, False, False, \n",
    "                       False, False, False,True]\n",
    "# use Seaborn styles\n",
    "sns.set()\n",
    "fig, ax9 = plt.subplots(figsize=(12, 8))\n",
    "\n",
    "ax9 = sns.heatmap(annot=True, fmt=\"d\", linewidths=.5,data=testpiv, ax=ax9, cmap='coolwarm',mask=mask)\n",
    "ax9.set(xlabel = 'Film Year', ylabel='Film Studio', title='Studio Films per Year ')\n",
    "plt.show()\n",
    "\n"
   ]
  },
  {
   "cell_type": "code",
   "execution_count": null,
   "metadata": {
    "ExecuteTime": {
     "end_time": "2021-05-04T19:15:21.822317Z",
     "start_time": "2021-05-04T19:15:21.715Z"
    }
   },
   "outputs": [],
   "source": [
    "# of the Successful movies number per year\n",
    "#df_studios_bud_genres['studio'].value_counts())\n",
    "df_studio_budget_pivott = df_studios_bud_genres.pivot_table(index='studio' ,values='worldwide_gross_x',\n",
    "                                          columns='year',\n",
    "                                          margins=True,margins_name='count',\n",
    "                                          aggfunc='count',fill_value=0)"
   ]
  },
  {
   "cell_type": "code",
   "execution_count": null,
   "metadata": {
    "ExecuteTime": {
     "end_time": "2021-05-04T19:15:21.823315Z",
     "start_time": "2021-05-04T19:15:21.718Z"
    }
   },
   "outputs": [],
   "source": [
    "df_studio_budget_pivott.sort_values(['count'], ascending=[False], inplace=True)"
   ]
  },
  {
   "cell_type": "code",
   "execution_count": null,
   "metadata": {
    "ExecuteTime": {
     "end_time": "2021-04-29T13:58:25.427865Z",
     "start_time": "2021-04-29T13:58:25.410857Z"
    }
   },
   "outputs": [],
   "source": []
  },
  {
   "cell_type": "code",
   "execution_count": null,
   "metadata": {
    "ExecuteTime": {
     "end_time": "2021-05-04T19:15:21.824312Z",
     "start_time": "2021-05-04T19:15:21.724Z"
    }
   },
   "outputs": [],
   "source": [
    "mask=[False, False, False, False, False, False, \n",
    "                       False, False, False,True]\n",
    "# use Seaborn styles\n",
    "sns.set()\n",
    "fig, ax10 = plt.subplots(figsize=(12, 8))\n",
    "\n",
    "ax10 = sns.heatmap(annot=True, fmt=\"d\", linewidths=.5,data=df_studio_budget_pivott[1:21], ax=ax10, cmap='coolwarm',mask=mask)\n",
    "ax10.set(xlabel = 'Film Year', ylabel='Film Studio', title='Successful Films per Year ')\n",
    "fig.savefig('../images/SuccessFilmsYear.png', bbox_inches='tight')\n",
    "plt.show()"
   ]
  },
  {
   "cell_type": "code",
   "execution_count": null,
   "metadata": {},
   "outputs": [],
   "source": []
  },
  {
   "cell_type": "markdown",
   "metadata": {},
   "source": [
    "__Conclusion:__  With a max of 9 successful films a year is spectacular, a safe bet looks to be 3 to 5 starting out."
   ]
  },
  {
   "cell_type": "markdown",
   "metadata": {
    "ExecuteTime": {
     "end_time": "2021-05-02T19:34:31.888333Z",
     "start_time": "2021-05-02T19:34:31.883305Z"
    }
   },
   "source": [
    "\n",
    "***\n",
    "\n",
    "***\n",
    "\n",
    "***"
   ]
  },
  {
   "cell_type": "markdown",
   "metadata": {},
   "source": [
    "### Question:  What are the sources of the movies?"
   ]
  },
  {
   "cell_type": "markdown",
   "metadata": {},
   "source": [
    "We scraped some data from TheNumbers which had the source material.\n"
   ]
  },
  {
   "cell_type": "code",
   "execution_count": null,
   "metadata": {
    "ExecuteTime": {
     "end_time": "2021-05-04T19:15:21.825309Z",
     "start_time": "2021-05-04T19:15:21.733Z"
    }
   },
   "outputs": [],
   "source": [
    "df_movie_source = pd.read_csv('../data/tn_moviesource.csv',index_col = 0, encoding='utf8')"
   ]
  },
  {
   "cell_type": "code",
   "execution_count": null,
   "metadata": {
    "ExecuteTime": {
     "end_time": "2021-05-04T19:15:21.825309Z",
     "start_time": "2021-05-04T19:15:21.737Z"
    }
   },
   "outputs": [],
   "source": [
    "df_movie_source['Source'].value_counts()"
   ]
  },
  {
   "cell_type": "code",
   "execution_count": null,
   "metadata": {
    "ExecuteTime": {
     "end_time": "2021-05-04T19:15:21.826306Z",
     "start_time": "2021-05-04T19:15:21.741Z"
    }
   },
   "outputs": [],
   "source": [
    "df_budget_genre_ratings_source = pd.merge(df_budget_genre_ratings, df_movie_source, \n",
    "                            left_on=  ['movie'],\n",
    "                            right_on= ['Title'], \n",
    "                            how = 'left')"
   ]
  },
  {
   "cell_type": "code",
   "execution_count": null,
   "metadata": {
    "ExecuteTime": {
     "end_time": "2021-05-04T19:15:21.827303Z",
     "start_time": "2021-05-04T19:15:21.744Z"
    }
   },
   "outputs": [],
   "source": [
    "df_budget_genre_ratings_source.columns"
   ]
  },
  {
   "cell_type": "code",
   "execution_count": null,
   "metadata": {
    "ExecuteTime": {
     "end_time": "2021-05-04T19:15:21.828301Z",
     "start_time": "2021-05-04T19:15:21.749Z"
    }
   },
   "outputs": [],
   "source": [
    "df_budget_genre_ratings_source.drop(columns=['Title','Released_y','Released_x', 'Title_y',\n",
    "                                             'Source_x','Released_x', 'Title_y', 'Source_x'],inplace=True)"
   ]
  },
  {
   "cell_type": "code",
   "execution_count": null,
   "metadata": {
    "ExecuteTime": {
     "end_time": "2021-05-04T19:15:21.828301Z",
     "start_time": "2021-05-04T19:15:21.753Z"
    }
   },
   "outputs": [],
   "source": [
    "df_budget_genre_ratings_source"
   ]
  },
  {
   "cell_type": "code",
   "execution_count": null,
   "metadata": {
    "ExecuteTime": {
     "end_time": "2021-05-04T19:15:21.829298Z",
     "start_time": "2021-05-04T19:15:21.756Z"
    }
   },
   "outputs": [],
   "source": [
    "\n",
    "sourcecounts = df_budget_genre_ratings_source['Source_y'].value_counts(ascending=False).to_frame()"
   ]
  },
  {
   "cell_type": "code",
   "execution_count": null,
   "metadata": {
    "ExecuteTime": {
     "end_time": "2021-05-04T19:15:21.830296Z",
     "start_time": "2021-05-04T19:15:21.759Z"
    }
   },
   "outputs": [],
   "source": [
    "sourcecounts"
   ]
  },
  {
   "cell_type": "markdown",
   "metadata": {
    "ExecuteTime": {
     "end_time": "2021-05-02T20:16:46.929140Z",
     "start_time": "2021-05-02T20:16:46.924179Z"
    }
   },
   "source": [
    "__Conclusion:__ Original Screenplay 219 , Based on book or short story 70, Real Life Events 48"
   ]
  },
  {
   "cell_type": "markdown",
   "metadata": {},
   "source": [
    "***\n",
    "***\n",
    "***"
   ]
  },
  {
   "cell_type": "markdown",
   "metadata": {},
   "source": [
    "# Conclusions\n",
    "Empower Studios Portfolio Strategy includes:\n",
    "Either<br>\n",
    "__Embrace R__  \n",
    "Horror Mystery Thriller Highest ROI%<br>\n",
    "Have the highest average return on Investment.<br>\n",
    "or<br>\n",
    "__Produce No R__\n",
    " Drama, Comedy and Romance, or any except Horror aka Disney Approach<br>\n",
    " \n",
    "Both Plans include<br>\n",
    "Produce 5 to 8 films per year in the <$20M budget Range<br>\n",
    "Release in Summer or late Fall<br>\n",
    "Looking for 50% Original Content 50% Book Source or Factual Events other\n",
    "\n",
    "## Next Steps\n",
    "Analysis of Successful Producers, Directors, Cinematographers, Actors<br>\n",
    "Associating critical rating with success<br>\n",
    "Academy Awards nominations with successful box office<br>"
   ]
  },
  {
   "cell_type": "code",
   "execution_count": null,
   "metadata": {},
   "outputs": [],
   "source": []
  }
 ],
 "metadata": {
  "kernelspec": {
   "display_name": "Python 3",
   "language": "python",
   "name": "python3"
  },
  "language_info": {
   "codemirror_mode": {
    "name": "ipython",
    "version": 3
   },
   "file_extension": ".py",
   "mimetype": "text/x-python",
   "name": "python",
   "nbconvert_exporter": "python",
   "pygments_lexer": "ipython3",
   "version": "3.8.5"
  },
  "toc": {
   "base_numbering": 1,
   "nav_menu": {},
   "number_sections": true,
   "sideBar": true,
   "skip_h1_title": false,
   "title_cell": "Table of Contents",
   "title_sidebar": "Contents",
   "toc_cell": false,
   "toc_position": {
    "height": "calc(100% - 180px)",
    "left": "10px",
    "top": "150px",
    "width": "292.431px"
   },
   "toc_section_display": true,
   "toc_window_display": true
  },
  "varInspector": {
   "cols": {
    "lenName": 16,
    "lenType": 16,
    "lenVar": 40
   },
   "kernels_config": {
    "python": {
     "delete_cmd_postfix": "",
     "delete_cmd_prefix": "del ",
     "library": "var_list.py",
     "varRefreshCmd": "print(var_dic_list())"
    },
    "r": {
     "delete_cmd_postfix": ") ",
     "delete_cmd_prefix": "rm(",
     "library": "var_list.r",
     "varRefreshCmd": "cat(var_dic_list()) "
    }
   },
   "types_to_exclude": [
    "module",
    "function",
    "builtin_function_or_method",
    "instance",
    "_Feature"
   ],
   "window_display": false
  }
 },
 "nbformat": 4,
 "nbformat_minor": 2
}
