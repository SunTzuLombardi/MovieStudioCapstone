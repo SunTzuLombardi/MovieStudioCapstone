{
 "cells": [
  {
   "cell_type": "markdown",
   "metadata": {},
   "source": [
    "# Initial Load and Data Cleaning \n",
    "\n",
    "In this workbook we:\n",
    "1. Load the data into pandas DataFrames\n",
    "2. Inspect and observe the DataFrames\n",
    "3. Clean and convert the data into appropriate types\n"
   ]
  },
  {
   "cell_type": "markdown",
   "metadata": {},
   "source": [
    "## Initial Reading of data files"
   ]
  },
  {
   "cell_type": "code",
   "execution_count": 329,
   "metadata": {
    "ExecuteTime": {
     "end_time": "2021-04-28T02:49:06.178189Z",
     "start_time": "2021-04-28T02:48:54.849102Z"
    }
   },
   "outputs": [],
   "source": [
    "import pandas as pd\n",
    "import numpy as nm\n",
    "from os import listdir\n",
    "import seaborn as sns\n",
    "\n",
    "path = 'zippedData/'"
   ]
  },
  {
   "cell_type": "code",
   "execution_count": 18,
   "metadata": {
    "ExecuteTime": {
     "end_time": "2021-04-26T22:44:52.074579Z",
     "start_time": "2021-04-26T22:44:52.069592Z"
    }
   },
   "outputs": [],
   "source": [
    "#helper to list all csv or type files in a dir\n",
    "def find_csv_filenames( path_to_dir, suffix=\".csv\"):\n",
    "    filenames = listdir(path_to_dir)\n",
    "    return [ filename for filename in filenames if filename.endswith( suffix ) ]\n",
    "\n",
    "#creates dataframes for type specified\n",
    "def create_dfs(filelist, suffix=\".csv\" ):\n",
    "    #Read all the files and store in a dataFrame\n",
    "    # the data Frames for each file will be listed in a dict \n",
    "    # where key is the name and value is the df\n",
    "    dict_csv_files = {}\n",
    "    path = 'zippedData/'\n",
    "    for filename in csvfiles:\n",
    "        filename_cleaned = filename.replace(\".csv\", \"\").replace(\".\",\"_\")#cleaning\n",
    "        filename_df = pd.read_csv(path + filename, index_col = 0)\n",
    "        dict_csv_files[filename_cleaned] = filename_df\n",
    "    return dict_csv_files    \n"
   ]
  },
  {
   "cell_type": "code",
   "execution_count": 19,
   "metadata": {
    "ExecuteTime": {
     "end_time": "2021-04-26T22:44:57.831295Z",
     "start_time": "2021-04-26T22:44:54.889989Z"
    }
   },
   "outputs": [],
   "source": [
    "#Create csvfiles, tsvfiles and call createdfs dict\n",
    "csvfiles = find_csv_filenames(path)\n",
    "tsvfiles = find_csv_filenames(path,'.tsv')\n",
    "dict_dfs = create_dfs(csvfiles, suffix=\".csv\" )"
   ]
  },
  {
   "cell_type": "code",
   "execution_count": 20,
   "metadata": {
    "ExecuteTime": {
     "end_time": "2021-04-26T22:45:32.563903Z",
     "start_time": "2021-04-26T22:45:32.559885Z"
    }
   },
   "outputs": [
    {
     "data": {
      "text/plain": [
       "dict_keys(['bom_movie_gross', 'imdb_name_basics', 'imdb_title_akas', 'imdb_title_basics', 'imdb_title_crew', 'imdb_title_principals', 'imdb_title_ratings', 'tmdb_movies', 'tn_movie_budgets'])"
      ]
     },
     "execution_count": 20,
     "metadata": {},
     "output_type": "execute_result"
    }
   ],
   "source": [
    "dict_dfs.keys()"
   ]
  },
  {
   "cell_type": "code",
   "execution_count": 22,
   "metadata": {
    "ExecuteTime": {
     "end_time": "2021-04-26T22:55:18.420546Z",
     "start_time": "2021-04-26T22:55:18.415558Z"
    }
   },
   "outputs": [],
   "source": [
    "##Create Working DataFrames\n",
    "df_bom = dict_dfs['bom_movie_gross']\n",
    "df_imdb_name = dict_dfs['imdb_name_basics']       \n",
    "df_imdb_akas = dict_dfs['imdb_title_akas']       \n",
    "df_imdbbasics = dict_dfs['imdb_title_basics']    \n",
    "df_imdb_crew = dict_dfs['imdb_title_crew']     \n",
    "df_imdb_principals = dict_dfs['imdb_title_principals']     \n",
    "df_imdb_ratings = dict_dfs['imdb_title_ratings']         \n",
    "df_tmb = dict_dfs['tmdb_movies']                        \n",
    "df_tn_movie_budget = dict_dfs['tn_movie_budgets']\n",
    "#Excluding rott.tsvfiles  df_rott_info = dict_dfs(' pd.read_csv('zippedData/rt.movie_info.tsv', sep='\\t')\n",
    "#df_rott_rev = dict_dfs(' pd.read_csv('zippedData/rt.reviews.tsv',encoding= 'unicode_escape', sep='\\t')"
   ]
  },
  {
   "cell_type": "markdown",
   "metadata": {
    "ExecuteTime": {
     "end_time": "2021-04-26T22:56:53.296931Z",
     "start_time": "2021-04-26T22:56:53.293938Z"
    }
   },
   "source": [
    "## Inspect DataFrames\n",
    "Inspecting the dfs, Noting observations about the data, describing the data types.  \n",
    "We have 9 DataFrames from the 9 files:  \n",
    "df_bom  \n",
    "df_imdb_name   \n",
    "df_imdb_akas   \n",
    "df_imdbbasics   \n",
    "df_imdb_crew  \n",
    "df_imdb_principals      \n",
    "df_imdb_ratings          \n",
    "df_tmb        \n",
    "df_tn_movie_budget  "
   ]
  },
  {
   "cell_type": "markdown",
   "metadata": {},
   "source": [
    "### Box Office Mojo-df_bom"
   ]
  },
  {
   "cell_type": "code",
   "execution_count": 26,
   "metadata": {
    "ExecuteTime": {
     "end_time": "2021-04-26T22:59:12.542621Z",
     "start_time": "2021-04-26T22:59:12.533680Z"
    }
   },
   "outputs": [
    {
     "name": "stdout",
     "output_type": "stream",
     "text": [
      "<class 'pandas.core.frame.DataFrame'>\n",
      "Index: 3387 entries, Toy Story 3 to An Actor Prepares\n",
      "Data columns (total 4 columns):\n",
      " #   Column          Non-Null Count  Dtype  \n",
      "---  ------          --------------  -----  \n",
      " 0   studio          3382 non-null   object \n",
      " 1   domestic_gross  3359 non-null   float64\n",
      " 2   foreign_gross   2037 non-null   object \n",
      " 3   year            3387 non-null   int64  \n",
      "dtypes: float64(1), int64(1), object(2)\n",
      "memory usage: 132.3+ KB\n"
     ]
    }
   ],
   "source": [
    "df_bom.info()"
   ]
  },
  {
   "cell_type": "code",
   "execution_count": 27,
   "metadata": {
    "ExecuteTime": {
     "end_time": "2021-04-26T23:14:53.667860Z",
     "start_time": "2021-04-26T23:14:53.658927Z"
    }
   },
   "outputs": [
    {
     "data": {
      "text/html": [
       "<div>\n",
       "<style scoped>\n",
       "    .dataframe tbody tr th:only-of-type {\n",
       "        vertical-align: middle;\n",
       "    }\n",
       "\n",
       "    .dataframe tbody tr th {\n",
       "        vertical-align: top;\n",
       "    }\n",
       "\n",
       "    .dataframe thead th {\n",
       "        text-align: right;\n",
       "    }\n",
       "</style>\n",
       "<table border=\"1\" class=\"dataframe\">\n",
       "  <thead>\n",
       "    <tr style=\"text-align: right;\">\n",
       "      <th></th>\n",
       "      <th>studio</th>\n",
       "      <th>domestic_gross</th>\n",
       "      <th>foreign_gross</th>\n",
       "      <th>year</th>\n",
       "    </tr>\n",
       "    <tr>\n",
       "      <th>title</th>\n",
       "      <th></th>\n",
       "      <th></th>\n",
       "      <th></th>\n",
       "      <th></th>\n",
       "    </tr>\n",
       "  </thead>\n",
       "  <tbody>\n",
       "    <tr>\n",
       "      <th>Toy Story 3</th>\n",
       "      <td>BV</td>\n",
       "      <td>415000000.0</td>\n",
       "      <td>652000000</td>\n",
       "      <td>2010</td>\n",
       "    </tr>\n",
       "    <tr>\n",
       "      <th>Alice in Wonderland (2010)</th>\n",
       "      <td>BV</td>\n",
       "      <td>334200000.0</td>\n",
       "      <td>691300000</td>\n",
       "      <td>2010</td>\n",
       "    </tr>\n",
       "    <tr>\n",
       "      <th>Harry Potter and the Deathly Hallows Part 1</th>\n",
       "      <td>WB</td>\n",
       "      <td>296000000.0</td>\n",
       "      <td>664300000</td>\n",
       "      <td>2010</td>\n",
       "    </tr>\n",
       "  </tbody>\n",
       "</table>\n",
       "</div>"
      ],
      "text/plain": [
       "                                            studio  domestic_gross  \\\n",
       "title                                                                \n",
       "Toy Story 3                                     BV     415000000.0   \n",
       "Alice in Wonderland (2010)                      BV     334200000.0   \n",
       "Harry Potter and the Deathly Hallows Part 1     WB     296000000.0   \n",
       "\n",
       "                                            foreign_gross  year  \n",
       "title                                                            \n",
       "Toy Story 3                                     652000000  2010  \n",
       "Alice in Wonderland (2010)                      691300000  2010  \n",
       "Harry Potter and the Deathly Hallows Part 1     664300000  2010  "
      ]
     },
     "execution_count": 27,
     "metadata": {},
     "output_type": "execute_result"
    }
   ],
   "source": [
    "df_bom.head(3)"
   ]
  },
  {
   "cell_type": "markdown",
   "metadata": {},
   "source": [
    "#### Observation df_bom (Box office Mojo) \n",
    "It looks as if the data is for 2010 to 2018 movies \n",
    "of domestic and foreign gross in dollars.   \n",
    "Foreign gross needs to be converted to int datatype."
   ]
  },
  {
   "cell_type": "markdown",
   "metadata": {
    "ExecuteTime": {
     "end_time": "2021-04-27T00:40:10.788599Z",
     "start_time": "2021-04-27T00:40:10.786570Z"
    }
   },
   "source": [
    "### IMDB name basics-df_imdb_name"
   ]
  },
  {
   "cell_type": "code",
   "execution_count": 30,
   "metadata": {
    "ExecuteTime": {
     "end_time": "2021-04-27T00:30:35.190426Z",
     "start_time": "2021-04-27T00:30:35.067751Z"
    }
   },
   "outputs": [
    {
     "name": "stdout",
     "output_type": "stream",
     "text": [
      "<class 'pandas.core.frame.DataFrame'>\n",
      "Index: 606648 entries, nm0061671 to nm9993380\n",
      "Data columns (total 5 columns):\n",
      " #   Column              Non-Null Count   Dtype  \n",
      "---  ------              --------------   -----  \n",
      " 0   primary_name        606648 non-null  object \n",
      " 1   birth_year          82736 non-null   float64\n",
      " 2   death_year          6783 non-null    float64\n",
      " 3   primary_profession  555308 non-null  object \n",
      " 4   known_for_titles    576444 non-null  object \n",
      "dtypes: float64(2), object(3)\n",
      "memory usage: 27.8+ MB\n"
     ]
    }
   ],
   "source": [
    "df_imdb_name.info()"
   ]
  },
  {
   "cell_type": "code",
   "execution_count": 31,
   "metadata": {
    "ExecuteTime": {
     "end_time": "2021-04-27T00:31:53.218447Z",
     "start_time": "2021-04-27T00:31:53.209470Z"
    },
    "scrolled": true
   },
   "outputs": [
    {
     "data": {
      "text/html": [
       "<div>\n",
       "<style scoped>\n",
       "    .dataframe tbody tr th:only-of-type {\n",
       "        vertical-align: middle;\n",
       "    }\n",
       "\n",
       "    .dataframe tbody tr th {\n",
       "        vertical-align: top;\n",
       "    }\n",
       "\n",
       "    .dataframe thead th {\n",
       "        text-align: right;\n",
       "    }\n",
       "</style>\n",
       "<table border=\"1\" class=\"dataframe\">\n",
       "  <thead>\n",
       "    <tr style=\"text-align: right;\">\n",
       "      <th></th>\n",
       "      <th>primary_name</th>\n",
       "      <th>birth_year</th>\n",
       "      <th>death_year</th>\n",
       "      <th>primary_profession</th>\n",
       "      <th>known_for_titles</th>\n",
       "    </tr>\n",
       "    <tr>\n",
       "      <th>nconst</th>\n",
       "      <th></th>\n",
       "      <th></th>\n",
       "      <th></th>\n",
       "      <th></th>\n",
       "      <th></th>\n",
       "    </tr>\n",
       "  </thead>\n",
       "  <tbody>\n",
       "    <tr>\n",
       "      <th>nm0061671</th>\n",
       "      <td>Mary Ellen Bauder</td>\n",
       "      <td>NaN</td>\n",
       "      <td>NaN</td>\n",
       "      <td>miscellaneous,production_manager,producer</td>\n",
       "      <td>tt0837562,tt2398241,tt0844471,tt0118553</td>\n",
       "    </tr>\n",
       "    <tr>\n",
       "      <th>nm0061865</th>\n",
       "      <td>Joseph Bauer</td>\n",
       "      <td>NaN</td>\n",
       "      <td>NaN</td>\n",
       "      <td>composer,music_department,sound_department</td>\n",
       "      <td>tt0896534,tt6791238,tt0287072,tt1682940</td>\n",
       "    </tr>\n",
       "    <tr>\n",
       "      <th>nm0062070</th>\n",
       "      <td>Bruce Baum</td>\n",
       "      <td>NaN</td>\n",
       "      <td>NaN</td>\n",
       "      <td>miscellaneous,actor,writer</td>\n",
       "      <td>tt1470654,tt0363631,tt0104030,tt0102898</td>\n",
       "    </tr>\n",
       "  </tbody>\n",
       "</table>\n",
       "</div>"
      ],
      "text/plain": [
       "                primary_name  birth_year  death_year  \\\n",
       "nconst                                                 \n",
       "nm0061671  Mary Ellen Bauder         NaN         NaN   \n",
       "nm0061865       Joseph Bauer         NaN         NaN   \n",
       "nm0062070         Bruce Baum         NaN         NaN   \n",
       "\n",
       "                                   primary_profession  \\\n",
       "nconst                                                  \n",
       "nm0061671   miscellaneous,production_manager,producer   \n",
       "nm0061865  composer,music_department,sound_department   \n",
       "nm0062070                  miscellaneous,actor,writer   \n",
       "\n",
       "                                  known_for_titles  \n",
       "nconst                                              \n",
       "nm0061671  tt0837562,tt2398241,tt0844471,tt0118553  \n",
       "nm0061865  tt0896534,tt6791238,tt0287072,tt1682940  \n",
       "nm0062070  tt1470654,tt0363631,tt0104030,tt0102898  "
      ]
     },
     "execution_count": 31,
     "metadata": {},
     "output_type": "execute_result"
    }
   ],
   "source": [
    "df_imdb_name.head(3)"
   ]
  },
  {
   "cell_type": "markdown",
   "metadata": {},
   "source": [
    "#### Observation df_imdb_name \n",
    "It looks as if the data is a name and profession\n",
    "and known for these movie titles.  \n",
    "The birth year and death year can be dropped as \n",
    "there is a high percentage of data missing from those columns."
   ]
  },
  {
   "cell_type": "markdown",
   "metadata": {
    "ExecuteTime": {
     "end_time": "2021-04-27T00:41:04.361218Z",
     "start_time": "2021-04-27T00:41:04.357228Z"
    }
   },
   "source": [
    "### IMDB akas-df_imdb_akas"
   ]
  },
  {
   "cell_type": "code",
   "execution_count": 38,
   "metadata": {
    "ExecuteTime": {
     "end_time": "2021-04-27T00:54:08.985246Z",
     "start_time": "2021-04-27T00:54:08.902467Z"
    }
   },
   "outputs": [
    {
     "name": "stdout",
     "output_type": "stream",
     "text": [
      "<class 'pandas.core.frame.DataFrame'>\n",
      "Index: 331703 entries, tt0369610 to tt9880178\n",
      "Data columns (total 7 columns):\n",
      " #   Column             Non-Null Count   Dtype  \n",
      "---  ------             --------------   -----  \n",
      " 0   ordering           331703 non-null  int64  \n",
      " 1   title              331703 non-null  object \n",
      " 2   region             278410 non-null  object \n",
      " 3   language           41715 non-null   object \n",
      " 4   types              168447 non-null  object \n",
      " 5   attributes         14925 non-null   object \n",
      " 6   is_original_title  331678 non-null  float64\n",
      "dtypes: float64(1), int64(1), object(5)\n",
      "memory usage: 20.2+ MB\n"
     ]
    }
   ],
   "source": [
    "df_imdb_akas.info()"
   ]
  },
  {
   "cell_type": "code",
   "execution_count": 58,
   "metadata": {
    "ExecuteTime": {
     "end_time": "2021-04-27T02:13:40.723220Z",
     "start_time": "2021-04-27T02:13:40.714244Z"
    }
   },
   "outputs": [
    {
     "data": {
      "text/html": [
       "<div>\n",
       "<style scoped>\n",
       "    .dataframe tbody tr th:only-of-type {\n",
       "        vertical-align: middle;\n",
       "    }\n",
       "\n",
       "    .dataframe tbody tr th {\n",
       "        vertical-align: top;\n",
       "    }\n",
       "\n",
       "    .dataframe thead th {\n",
       "        text-align: right;\n",
       "    }\n",
       "</style>\n",
       "<table border=\"1\" class=\"dataframe\">\n",
       "  <thead>\n",
       "    <tr style=\"text-align: right;\">\n",
       "      <th></th>\n",
       "      <th>ordering</th>\n",
       "      <th>title</th>\n",
       "      <th>region</th>\n",
       "      <th>language</th>\n",
       "      <th>types</th>\n",
       "      <th>attributes</th>\n",
       "      <th>is_original_title</th>\n",
       "    </tr>\n",
       "    <tr>\n",
       "      <th>title_id</th>\n",
       "      <th></th>\n",
       "      <th></th>\n",
       "      <th></th>\n",
       "      <th></th>\n",
       "      <th></th>\n",
       "      <th></th>\n",
       "      <th></th>\n",
       "    </tr>\n",
       "  </thead>\n",
       "  <tbody>\n",
       "    <tr>\n",
       "      <th>tt0369610</th>\n",
       "      <td>10</td>\n",
       "      <td>Джурасик свят</td>\n",
       "      <td>BG</td>\n",
       "      <td>bg</td>\n",
       "      <td>NaN</td>\n",
       "      <td>NaN</td>\n",
       "      <td>0.0</td>\n",
       "    </tr>\n",
       "    <tr>\n",
       "      <th>tt0369610</th>\n",
       "      <td>11</td>\n",
       "      <td>Jurashikku warudo</td>\n",
       "      <td>JP</td>\n",
       "      <td>NaN</td>\n",
       "      <td>imdbDisplay</td>\n",
       "      <td>NaN</td>\n",
       "      <td>0.0</td>\n",
       "    </tr>\n",
       "    <tr>\n",
       "      <th>tt0369610</th>\n",
       "      <td>12</td>\n",
       "      <td>Jurassic World: O Mundo dos Dinossauros</td>\n",
       "      <td>BR</td>\n",
       "      <td>NaN</td>\n",
       "      <td>imdbDisplay</td>\n",
       "      <td>NaN</td>\n",
       "      <td>0.0</td>\n",
       "    </tr>\n",
       "  </tbody>\n",
       "</table>\n",
       "</div>"
      ],
      "text/plain": [
       "           ordering                                    title region language  \\\n",
       "title_id                                                                       \n",
       "tt0369610        10                            Джурасик свят     BG       bg   \n",
       "tt0369610        11                        Jurashikku warudo     JP      NaN   \n",
       "tt0369610        12  Jurassic World: O Mundo dos Dinossauros     BR      NaN   \n",
       "\n",
       "                 types attributes  is_original_title  \n",
       "title_id                                              \n",
       "tt0369610          NaN        NaN                0.0  \n",
       "tt0369610  imdbDisplay        NaN                0.0  \n",
       "tt0369610  imdbDisplay        NaN                0.0  "
      ]
     },
     "execution_count": 58,
     "metadata": {},
     "output_type": "execute_result"
    }
   ],
   "source": [
    "df_imdb_akas.head(3)"
   ]
  },
  {
   "cell_type": "markdown",
   "metadata": {},
   "source": [
    "#### Observation df_imdb_akas\n",
    "This data looks to be aka movie names in non domestic markets.  There are lots of NaNs.  Should we just look at isoriginal title as 1?  Where does the title_id link to?  Is ok to leave NaNs alone?"
   ]
  },
  {
   "cell_type": "markdown",
   "metadata": {},
   "source": [
    "### IMDBTitle basics-df_imdbbasics"
   ]
  },
  {
   "cell_type": "code",
   "execution_count": 40,
   "metadata": {
    "ExecuteTime": {
     "end_time": "2021-04-27T00:54:26.628852Z",
     "start_time": "2021-04-27T00:54:26.593910Z"
    }
   },
   "outputs": [
    {
     "name": "stdout",
     "output_type": "stream",
     "text": [
      "<class 'pandas.core.frame.DataFrame'>\n",
      "Index: 146144 entries, tt0063540 to tt9916754\n",
      "Data columns (total 5 columns):\n",
      " #   Column           Non-Null Count   Dtype  \n",
      "---  ------           --------------   -----  \n",
      " 0   primary_title    146144 non-null  object \n",
      " 1   original_title   146123 non-null  object \n",
      " 2   start_year       146144 non-null  int64  \n",
      " 3   runtime_minutes  114405 non-null  float64\n",
      " 4   genres           140736 non-null  object \n",
      "dtypes: float64(1), int64(1), object(3)\n",
      "memory usage: 6.7+ MB\n"
     ]
    }
   ],
   "source": [
    "df_imdbbasics.info()"
   ]
  },
  {
   "cell_type": "code",
   "execution_count": 41,
   "metadata": {
    "ExecuteTime": {
     "end_time": "2021-04-27T00:54:32.371099Z",
     "start_time": "2021-04-27T00:54:32.362123Z"
    }
   },
   "outputs": [
    {
     "data": {
      "text/html": [
       "<div>\n",
       "<style scoped>\n",
       "    .dataframe tbody tr th:only-of-type {\n",
       "        vertical-align: middle;\n",
       "    }\n",
       "\n",
       "    .dataframe tbody tr th {\n",
       "        vertical-align: top;\n",
       "    }\n",
       "\n",
       "    .dataframe thead th {\n",
       "        text-align: right;\n",
       "    }\n",
       "</style>\n",
       "<table border=\"1\" class=\"dataframe\">\n",
       "  <thead>\n",
       "    <tr style=\"text-align: right;\">\n",
       "      <th></th>\n",
       "      <th>primary_title</th>\n",
       "      <th>original_title</th>\n",
       "      <th>start_year</th>\n",
       "      <th>runtime_minutes</th>\n",
       "      <th>genres</th>\n",
       "    </tr>\n",
       "    <tr>\n",
       "      <th>tconst</th>\n",
       "      <th></th>\n",
       "      <th></th>\n",
       "      <th></th>\n",
       "      <th></th>\n",
       "      <th></th>\n",
       "    </tr>\n",
       "  </thead>\n",
       "  <tbody>\n",
       "    <tr>\n",
       "      <th>tt9916706</th>\n",
       "      <td>Dankyavar Danka</td>\n",
       "      <td>Dankyavar Danka</td>\n",
       "      <td>2013</td>\n",
       "      <td>NaN</td>\n",
       "      <td>Comedy</td>\n",
       "    </tr>\n",
       "    <tr>\n",
       "      <th>tt9916730</th>\n",
       "      <td>6 Gunn</td>\n",
       "      <td>6 Gunn</td>\n",
       "      <td>2017</td>\n",
       "      <td>116.0</td>\n",
       "      <td>NaN</td>\n",
       "    </tr>\n",
       "    <tr>\n",
       "      <th>tt9916754</th>\n",
       "      <td>Chico Albuquerque - Revelações</td>\n",
       "      <td>Chico Albuquerque - Revelações</td>\n",
       "      <td>2013</td>\n",
       "      <td>NaN</td>\n",
       "      <td>Documentary</td>\n",
       "    </tr>\n",
       "  </tbody>\n",
       "</table>\n",
       "</div>"
      ],
      "text/plain": [
       "                            primary_title                  original_title  \\\n",
       "tconst                                                                      \n",
       "tt9916706                 Dankyavar Danka                 Dankyavar Danka   \n",
       "tt9916730                          6 Gunn                          6 Gunn   \n",
       "tt9916754  Chico Albuquerque - Revelações  Chico Albuquerque - Revelações   \n",
       "\n",
       "           start_year  runtime_minutes       genres  \n",
       "tconst                                               \n",
       "tt9916706        2013              NaN       Comedy  \n",
       "tt9916730        2017            116.0          NaN  \n",
       "tt9916754        2013              NaN  Documentary  "
      ]
     },
     "execution_count": 41,
     "metadata": {},
     "output_type": "execute_result"
    }
   ],
   "source": [
    "df_imdbbasics.tail(3)"
   ]
  },
  {
   "cell_type": "code",
   "execution_count": null,
   "metadata": {},
   "outputs": [],
   "source": []
  },
  {
   "cell_type": "markdown",
   "metadata": {},
   "source": [
    "#### Observation df_df_imdbbasics\n",
    "This data has primary title and original title and year and genre of the movie.  Many missing runtime minutes can set to 90 mins?  Main point here is the genre and year and title."
   ]
  },
  {
   "cell_type": "markdown",
   "metadata": {
    "ExecuteTime": {
     "end_time": "2021-04-27T00:46:34.783891Z",
     "start_time": "2021-04-27T00:46:34.781862Z"
    }
   },
   "source": [
    "### IMDB Crew-df_imfb_crew"
   ]
  },
  {
   "cell_type": "code",
   "execution_count": 35,
   "metadata": {
    "ExecuteTime": {
     "end_time": "2021-04-27T00:42:54.715256Z",
     "start_time": "2021-04-27T00:42:54.689349Z"
    }
   },
   "outputs": [
    {
     "name": "stdout",
     "output_type": "stream",
     "text": [
      "<class 'pandas.core.frame.DataFrame'>\n",
      "Index: 146144 entries, tt0285252 to tt9010172\n",
      "Data columns (total 2 columns):\n",
      " #   Column     Non-Null Count   Dtype \n",
      "---  ------     --------------   ----- \n",
      " 0   directors  140417 non-null  object\n",
      " 1   writers    110261 non-null  object\n",
      "dtypes: object(2)\n",
      "memory usage: 3.3+ MB\n"
     ]
    }
   ],
   "source": [
    "df_imdb_crew.info()"
   ]
  },
  {
   "cell_type": "code",
   "execution_count": 42,
   "metadata": {
    "ExecuteTime": {
     "end_time": "2021-04-27T00:54:40.176832Z",
     "start_time": "2021-04-27T00:54:40.169822Z"
    }
   },
   "outputs": [
    {
     "data": {
      "text/html": [
       "<div>\n",
       "<style scoped>\n",
       "    .dataframe tbody tr th:only-of-type {\n",
       "        vertical-align: middle;\n",
       "    }\n",
       "\n",
       "    .dataframe tbody tr th {\n",
       "        vertical-align: top;\n",
       "    }\n",
       "\n",
       "    .dataframe thead th {\n",
       "        text-align: right;\n",
       "    }\n",
       "</style>\n",
       "<table border=\"1\" class=\"dataframe\">\n",
       "  <thead>\n",
       "    <tr style=\"text-align: right;\">\n",
       "      <th></th>\n",
       "      <th>directors</th>\n",
       "      <th>writers</th>\n",
       "    </tr>\n",
       "    <tr>\n",
       "      <th>tconst</th>\n",
       "      <th></th>\n",
       "      <th></th>\n",
       "    </tr>\n",
       "  </thead>\n",
       "  <tbody>\n",
       "    <tr>\n",
       "      <th>tt0285252</th>\n",
       "      <td>nm0899854</td>\n",
       "      <td>nm0899854</td>\n",
       "    </tr>\n",
       "    <tr>\n",
       "      <th>tt0438973</th>\n",
       "      <td>NaN</td>\n",
       "      <td>nm0175726,nm1802864</td>\n",
       "    </tr>\n",
       "    <tr>\n",
       "      <th>tt0462036</th>\n",
       "      <td>nm1940585</td>\n",
       "      <td>nm1940585</td>\n",
       "    </tr>\n",
       "  </tbody>\n",
       "</table>\n",
       "</div>"
      ],
      "text/plain": [
       "           directors              writers\n",
       "tconst                                   \n",
       "tt0285252  nm0899854            nm0899854\n",
       "tt0438973        NaN  nm0175726,nm1802864\n",
       "tt0462036  nm1940585            nm1940585"
      ]
     },
     "execution_count": 42,
     "metadata": {},
     "output_type": "execute_result"
    }
   ],
   "source": [
    "df_imdb_crew.head(3)"
   ]
  },
  {
   "cell_type": "markdown",
   "metadata": {},
   "source": [
    "#### Observation df_df_imdb_crew\n",
    "This df matches directors and writers to tconst which is primary key in df_imdbbasics and df_imdb_principals."
   ]
  },
  {
   "cell_type": "markdown",
   "metadata": {},
   "source": [
    "### IMDB principals - df_imfb_principals"
   ]
  },
  {
   "cell_type": "code",
   "execution_count": 43,
   "metadata": {
    "ExecuteTime": {
     "end_time": "2021-04-27T00:54:43.837024Z",
     "start_time": "2021-04-27T00:54:43.649526Z"
    }
   },
   "outputs": [
    {
     "name": "stdout",
     "output_type": "stream",
     "text": [
      "<class 'pandas.core.frame.DataFrame'>\n",
      "Index: 1028186 entries, tt0111414 to tt9692684\n",
      "Data columns (total 5 columns):\n",
      " #   Column      Non-Null Count    Dtype \n",
      "---  ------      --------------    ----- \n",
      " 0   ordering    1028186 non-null  int64 \n",
      " 1   nconst      1028186 non-null  object\n",
      " 2   category    1028186 non-null  object\n",
      " 3   job         177684 non-null   object\n",
      " 4   characters  393360 non-null   object\n",
      "dtypes: int64(1), object(4)\n",
      "memory usage: 47.1+ MB\n"
     ]
    }
   ],
   "source": [
    "df_imdb_principals.info()"
   ]
  },
  {
   "cell_type": "code",
   "execution_count": 164,
   "metadata": {
    "ExecuteTime": {
     "end_time": "2021-04-27T04:35:21.253414Z",
     "start_time": "2021-04-27T04:35:21.243440Z"
    }
   },
   "outputs": [
    {
     "data": {
      "text/html": [
       "<div>\n",
       "<style scoped>\n",
       "    .dataframe tbody tr th:only-of-type {\n",
       "        vertical-align: middle;\n",
       "    }\n",
       "\n",
       "    .dataframe tbody tr th {\n",
       "        vertical-align: top;\n",
       "    }\n",
       "\n",
       "    .dataframe thead th {\n",
       "        text-align: right;\n",
       "    }\n",
       "</style>\n",
       "<table border=\"1\" class=\"dataframe\">\n",
       "  <thead>\n",
       "    <tr style=\"text-align: right;\">\n",
       "      <th></th>\n",
       "      <th>ordering</th>\n",
       "      <th>nconst</th>\n",
       "      <th>category</th>\n",
       "      <th>job</th>\n",
       "      <th>characters</th>\n",
       "    </tr>\n",
       "    <tr>\n",
       "      <th>tconst</th>\n",
       "      <th></th>\n",
       "      <th></th>\n",
       "      <th></th>\n",
       "      <th></th>\n",
       "      <th></th>\n",
       "    </tr>\n",
       "  </thead>\n",
       "  <tbody>\n",
       "    <tr>\n",
       "      <th>tt0111414</th>\n",
       "      <td>1</td>\n",
       "      <td>nm0246005</td>\n",
       "      <td>actor</td>\n",
       "      <td>NaN</td>\n",
       "      <td>[\"The Man\"]</td>\n",
       "    </tr>\n",
       "    <tr>\n",
       "      <th>tt0111414</th>\n",
       "      <td>2</td>\n",
       "      <td>nm0398271</td>\n",
       "      <td>director</td>\n",
       "      <td>NaN</td>\n",
       "      <td>NaN</td>\n",
       "    </tr>\n",
       "    <tr>\n",
       "      <th>tt0111414</th>\n",
       "      <td>3</td>\n",
       "      <td>nm3739909</td>\n",
       "      <td>producer</td>\n",
       "      <td>producer</td>\n",
       "      <td>NaN</td>\n",
       "    </tr>\n",
       "  </tbody>\n",
       "</table>\n",
       "</div>"
      ],
      "text/plain": [
       "           ordering     nconst  category       job   characters\n",
       "tconst                                                         \n",
       "tt0111414         1  nm0246005     actor       NaN  [\"The Man\"]\n",
       "tt0111414         2  nm0398271  director       NaN          NaN\n",
       "tt0111414         3  nm3739909  producer  producer          NaN"
      ]
     },
     "execution_count": 164,
     "metadata": {},
     "output_type": "execute_result"
    }
   ],
   "source": [
    "df_imdb_principals.head(3)"
   ]
  },
  {
   "cell_type": "markdown",
   "metadata": {
    "ExecuteTime": {
     "end_time": "2021-04-27T00:48:18.195027Z",
     "start_time": "2021-04-27T00:48:18.192036Z"
    }
   },
   "source": [
    "#### Observation df_imdb_principals\n",
    "This data lists the roles of principals in movies(tconst) to categories and job and characters if they act.            \n",
    "  Links to df_imdb_crew, df_imdbbasics, df_imdb_name, df_imdb_ratings.             \n",
    "      nconst links to values in the df_imdb_crew and df_imdb_name listing the directors and writers."
   ]
  },
  {
   "cell_type": "markdown",
   "metadata": {},
   "source": [
    "### IMDB ratings-df_imfb_ratings"
   ]
  },
  {
   "cell_type": "code",
   "execution_count": 45,
   "metadata": {
    "ExecuteTime": {
     "end_time": "2021-04-27T00:54:51.725839Z",
     "start_time": "2021-04-27T00:54:51.714904Z"
    }
   },
   "outputs": [
    {
     "name": "stdout",
     "output_type": "stream",
     "text": [
      "<class 'pandas.core.frame.DataFrame'>\n",
      "Index: 73856 entries, tt10356526 to tt9894098\n",
      "Data columns (total 2 columns):\n",
      " #   Column         Non-Null Count  Dtype  \n",
      "---  ------         --------------  -----  \n",
      " 0   averagerating  73856 non-null  float64\n",
      " 1   numvotes       73856 non-null  int64  \n",
      "dtypes: float64(1), int64(1)\n",
      "memory usage: 1.7+ MB\n"
     ]
    }
   ],
   "source": [
    "df_imdb_ratings.info()"
   ]
  },
  {
   "cell_type": "code",
   "execution_count": 46,
   "metadata": {
    "ExecuteTime": {
     "end_time": "2021-04-27T00:54:54.602707Z",
     "start_time": "2021-04-27T00:54:54.595715Z"
    }
   },
   "outputs": [
    {
     "data": {
      "text/html": [
       "<div>\n",
       "<style scoped>\n",
       "    .dataframe tbody tr th:only-of-type {\n",
       "        vertical-align: middle;\n",
       "    }\n",
       "\n",
       "    .dataframe tbody tr th {\n",
       "        vertical-align: top;\n",
       "    }\n",
       "\n",
       "    .dataframe thead th {\n",
       "        text-align: right;\n",
       "    }\n",
       "</style>\n",
       "<table border=\"1\" class=\"dataframe\">\n",
       "  <thead>\n",
       "    <tr style=\"text-align: right;\">\n",
       "      <th></th>\n",
       "      <th>averagerating</th>\n",
       "      <th>numvotes</th>\n",
       "    </tr>\n",
       "    <tr>\n",
       "      <th>tconst</th>\n",
       "      <th></th>\n",
       "      <th></th>\n",
       "    </tr>\n",
       "  </thead>\n",
       "  <tbody>\n",
       "    <tr>\n",
       "      <th>tt10356526</th>\n",
       "      <td>8.3</td>\n",
       "      <td>31</td>\n",
       "    </tr>\n",
       "    <tr>\n",
       "      <th>tt10384606</th>\n",
       "      <td>8.9</td>\n",
       "      <td>559</td>\n",
       "    </tr>\n",
       "    <tr>\n",
       "      <th>tt1042974</th>\n",
       "      <td>6.4</td>\n",
       "      <td>20</td>\n",
       "    </tr>\n",
       "  </tbody>\n",
       "</table>\n",
       "</div>"
      ],
      "text/plain": [
       "            averagerating  numvotes\n",
       "tconst                             \n",
       "tt10356526            8.3        31\n",
       "tt10384606            8.9       559\n",
       "tt1042974             6.4        20"
      ]
     },
     "execution_count": 46,
     "metadata": {},
     "output_type": "execute_result"
    }
   ],
   "source": [
    "df_imdb_ratings.head(3)"
   ]
  },
  {
   "cell_type": "markdown",
   "metadata": {},
   "source": [
    "#### Observation df_imdb_ratings\n",
    "Pretty straightforward rating and number of votes.  title tconst links to tconst(title) in other imdb tables."
   ]
  },
  {
   "cell_type": "markdown",
   "metadata": {
    "ExecuteTime": {
     "end_time": "2021-04-27T00:56:37.969913Z",
     "start_time": "2021-04-27T00:56:37.966921Z"
    }
   },
   "source": [
    "### TMB-df_tmb\n",
    "\n"
   ]
  },
  {
   "cell_type": "code",
   "execution_count": 49,
   "metadata": {
    "ExecuteTime": {
     "end_time": "2021-04-27T00:56:39.953504Z",
     "start_time": "2021-04-27T00:56:39.936583Z"
    }
   },
   "outputs": [
    {
     "name": "stdout",
     "output_type": "stream",
     "text": [
      "<class 'pandas.core.frame.DataFrame'>\n",
      "Int64Index: 26517 entries, 0 to 26516\n",
      "Data columns (total 9 columns):\n",
      " #   Column             Non-Null Count  Dtype  \n",
      "---  ------             --------------  -----  \n",
      " 0   genre_ids          26517 non-null  object \n",
      " 1   id                 26517 non-null  int64  \n",
      " 2   original_language  26517 non-null  object \n",
      " 3   original_title     26517 non-null  object \n",
      " 4   popularity         26517 non-null  float64\n",
      " 5   release_date       26517 non-null  object \n",
      " 6   title              26517 non-null  object \n",
      " 7   vote_average       26517 non-null  float64\n",
      " 8   vote_count         26517 non-null  int64  \n",
      "dtypes: float64(2), int64(2), object(5)\n",
      "memory usage: 2.0+ MB\n"
     ]
    }
   ],
   "source": [
    "##The Movie DB\n",
    "df_tmb.info()"
   ]
  },
  {
   "cell_type": "code",
   "execution_count": 51,
   "metadata": {
    "ExecuteTime": {
     "end_time": "2021-04-27T01:13:56.452794Z",
     "start_time": "2021-04-27T01:13:56.439829Z"
    }
   },
   "outputs": [
    {
     "data": {
      "text/html": [
       "<div>\n",
       "<style scoped>\n",
       "    .dataframe tbody tr th:only-of-type {\n",
       "        vertical-align: middle;\n",
       "    }\n",
       "\n",
       "    .dataframe tbody tr th {\n",
       "        vertical-align: top;\n",
       "    }\n",
       "\n",
       "    .dataframe thead th {\n",
       "        text-align: right;\n",
       "    }\n",
       "</style>\n",
       "<table border=\"1\" class=\"dataframe\">\n",
       "  <thead>\n",
       "    <tr style=\"text-align: right;\">\n",
       "      <th></th>\n",
       "      <th>genre_ids</th>\n",
       "      <th>id</th>\n",
       "      <th>original_language</th>\n",
       "      <th>original_title</th>\n",
       "      <th>popularity</th>\n",
       "      <th>release_date</th>\n",
       "      <th>title</th>\n",
       "      <th>vote_average</th>\n",
       "      <th>vote_count</th>\n",
       "    </tr>\n",
       "  </thead>\n",
       "  <tbody>\n",
       "    <tr>\n",
       "      <th>26514</th>\n",
       "      <td>[14, 28, 12]</td>\n",
       "      <td>381231</td>\n",
       "      <td>en</td>\n",
       "      <td>The Last One</td>\n",
       "      <td>0.6</td>\n",
       "      <td>2018-10-01</td>\n",
       "      <td>The Last One</td>\n",
       "      <td>0.0</td>\n",
       "      <td>1</td>\n",
       "    </tr>\n",
       "    <tr>\n",
       "      <th>26515</th>\n",
       "      <td>[10751, 12, 28]</td>\n",
       "      <td>366854</td>\n",
       "      <td>en</td>\n",
       "      <td>Trailer Made</td>\n",
       "      <td>0.6</td>\n",
       "      <td>2018-06-22</td>\n",
       "      <td>Trailer Made</td>\n",
       "      <td>0.0</td>\n",
       "      <td>1</td>\n",
       "    </tr>\n",
       "    <tr>\n",
       "      <th>26516</th>\n",
       "      <td>[53, 27]</td>\n",
       "      <td>309885</td>\n",
       "      <td>en</td>\n",
       "      <td>The Church</td>\n",
       "      <td>0.6</td>\n",
       "      <td>2018-10-05</td>\n",
       "      <td>The Church</td>\n",
       "      <td>0.0</td>\n",
       "      <td>1</td>\n",
       "    </tr>\n",
       "  </tbody>\n",
       "</table>\n",
       "</div>"
      ],
      "text/plain": [
       "             genre_ids      id original_language original_title  popularity  \\\n",
       "26514     [14, 28, 12]  381231                en   The Last One         0.6   \n",
       "26515  [10751, 12, 28]  366854                en   Trailer Made         0.6   \n",
       "26516         [53, 27]  309885                en     The Church         0.6   \n",
       "\n",
       "      release_date         title  vote_average  vote_count  \n",
       "26514   2018-10-01  The Last One           0.0           1  \n",
       "26515   2018-06-22  Trailer Made           0.0           1  \n",
       "26516   2018-10-05    The Church           0.0           1  "
      ]
     },
     "execution_count": 51,
     "metadata": {},
     "output_type": "execute_result"
    }
   ],
   "source": [
    "df_tmb.tail(3)"
   ]
  },
  {
   "cell_type": "markdown",
   "metadata": {},
   "source": [
    "#### Observation df_tmb\n",
    "There are no Nans.  This looks to be good data about the movies and genres.  \n",
    "Release date is an object and may be converted to a datatime if to be used.  Where to look up genre_ids?\n"
   ]
  },
  {
   "cell_type": "markdown",
   "metadata": {},
   "source": [
    "\n",
    "### TN The Numbers-df_tn_movie_budget"
   ]
  },
  {
   "cell_type": "code",
   "execution_count": 52,
   "metadata": {
    "ExecuteTime": {
     "end_time": "2021-04-27T01:16:33.152052Z",
     "start_time": "2021-04-27T01:16:33.143077Z"
    }
   },
   "outputs": [
    {
     "name": "stdout",
     "output_type": "stream",
     "text": [
      "<class 'pandas.core.frame.DataFrame'>\n",
      "Int64Index: 5782 entries, 1 to 82\n",
      "Data columns (total 5 columns):\n",
      " #   Column             Non-Null Count  Dtype \n",
      "---  ------             --------------  ----- \n",
      " 0   release_date       5782 non-null   object\n",
      " 1   movie              5782 non-null   object\n",
      " 2   production_budget  5782 non-null   object\n",
      " 3   domestic_gross     5782 non-null   object\n",
      " 4   worldwide_gross    5782 non-null   object\n",
      "dtypes: object(5)\n",
      "memory usage: 271.0+ KB\n"
     ]
    }
   ],
   "source": [
    "##The Numbers\n",
    "df_tn_movie_budget.info()"
   ]
  },
  {
   "cell_type": "code",
   "execution_count": 54,
   "metadata": {
    "ExecuteTime": {
     "end_time": "2021-04-27T01:24:20.280523Z",
     "start_time": "2021-04-27T01:24:20.270548Z"
    },
    "scrolled": true
   },
   "outputs": [
    {
     "data": {
      "text/html": [
       "<div>\n",
       "<style scoped>\n",
       "    .dataframe tbody tr th:only-of-type {\n",
       "        vertical-align: middle;\n",
       "    }\n",
       "\n",
       "    .dataframe tbody tr th {\n",
       "        vertical-align: top;\n",
       "    }\n",
       "\n",
       "    .dataframe thead th {\n",
       "        text-align: right;\n",
       "    }\n",
       "</style>\n",
       "<table border=\"1\" class=\"dataframe\">\n",
       "  <thead>\n",
       "    <tr style=\"text-align: right;\">\n",
       "      <th></th>\n",
       "      <th>release_date</th>\n",
       "      <th>movie</th>\n",
       "      <th>production_budget</th>\n",
       "      <th>domestic_gross</th>\n",
       "      <th>worldwide_gross</th>\n",
       "    </tr>\n",
       "    <tr>\n",
       "      <th>id</th>\n",
       "      <th></th>\n",
       "      <th></th>\n",
       "      <th></th>\n",
       "      <th></th>\n",
       "      <th></th>\n",
       "    </tr>\n",
       "  </thead>\n",
       "  <tbody>\n",
       "    <tr>\n",
       "      <th>1</th>\n",
       "      <td>Dec 18, 2009</td>\n",
       "      <td>Avatar</td>\n",
       "      <td>$425,000,000</td>\n",
       "      <td>$760,507,625</td>\n",
       "      <td>$2,776,345,279</td>\n",
       "    </tr>\n",
       "    <tr>\n",
       "      <th>2</th>\n",
       "      <td>May 20, 2011</td>\n",
       "      <td>Pirates of the Caribbean: On Stranger Tides</td>\n",
       "      <td>$410,600,000</td>\n",
       "      <td>$241,063,875</td>\n",
       "      <td>$1,045,663,875</td>\n",
       "    </tr>\n",
       "    <tr>\n",
       "      <th>3</th>\n",
       "      <td>Jun 7, 2019</td>\n",
       "      <td>Dark Phoenix</td>\n",
       "      <td>$350,000,000</td>\n",
       "      <td>$42,762,350</td>\n",
       "      <td>$149,762,350</td>\n",
       "    </tr>\n",
       "  </tbody>\n",
       "</table>\n",
       "</div>"
      ],
      "text/plain": [
       "    release_date                                        movie  \\\n",
       "id                                                              \n",
       "1   Dec 18, 2009                                       Avatar   \n",
       "2   May 20, 2011  Pirates of the Caribbean: On Stranger Tides   \n",
       "3    Jun 7, 2019                                 Dark Phoenix   \n",
       "\n",
       "   production_budget domestic_gross worldwide_gross  \n",
       "id                                                   \n",
       "1       $425,000,000   $760,507,625  $2,776,345,279  \n",
       "2       $410,600,000   $241,063,875  $1,045,663,875  \n",
       "3       $350,000,000    $42,762,350    $149,762,350  "
      ]
     },
     "execution_count": 54,
     "metadata": {},
     "output_type": "execute_result"
    }
   ],
   "source": [
    "df_tn_movie_budget.head(3)"
   ]
  },
  {
   "cell_type": "markdown",
   "metadata": {
    "ExecuteTime": {
     "end_time": "2021-04-27T01:00:20.043026Z",
     "start_time": "2021-04-27T01:00:20.038991Z"
    }
   },
   "source": [
    "#### Observation df_tn_movie_budget\n",
    "There are no Nans.  This data is the movies, release date \n",
    "and worldwide gross with production budget.    Money data should be converted to \n",
    "int and dollas signs removed\n",
    "Release date is an object and may be converted to a datatime if to be used."
   ]
  },
  {
   "cell_type": "markdown",
   "metadata": {},
   "source": [
    "<br><br><br><br><br><br>\n",
    "\n",
    "\n",
    "\n",
    "## Data Cleaning and Typing\n",
    "Removing the NanNs, dropping columns which have no importance or too many nans, converting object datatypes to be useful."
   ]
  },
  {
   "cell_type": "markdown",
   "metadata": {},
   "source": [
    "### <font color=\"green\">Clean df_bom data</font>"
   ]
  },
  {
   "cell_type": "code",
   "execution_count": 165,
   "metadata": {
    "ExecuteTime": {
     "end_time": "2021-04-27T04:37:31.985206Z",
     "start_time": "2021-04-27T04:37:31.978225Z"
    }
   },
   "outputs": [
    {
     "data": {
      "text/plain": [
       "studio             0\n",
       "domestic_gross     0\n",
       "foreign_gross      0\n",
       "year               0\n",
       "worldwide_gross    0\n",
       "dtype: int64"
      ]
     },
     "execution_count": 165,
     "metadata": {},
     "output_type": "execute_result"
    }
   ],
   "source": [
    "df_bom.isna().sum()"
   ]
  },
  {
   "cell_type": "code",
   "execution_count": 166,
   "metadata": {
    "ExecuteTime": {
     "end_time": "2021-04-27T04:37:36.963150Z",
     "start_time": "2021-04-27T04:37:36.957135Z"
    },
    "scrolled": true
   },
   "outputs": [
    {
     "data": {
      "text/plain": [
       "(3387, 5)"
      ]
     },
     "execution_count": 166,
     "metadata": {},
     "output_type": "execute_result"
    }
   ],
   "source": [
    "df_bom.shape"
   ]
  },
  {
   "cell_type": "code",
   "execution_count": 167,
   "metadata": {
    "ExecuteTime": {
     "end_time": "2021-04-27T04:37:40.193690Z",
     "start_time": "2021-04-27T04:37:40.185711Z"
    },
    "scrolled": true
   },
   "outputs": [
    {
     "name": "stdout",
     "output_type": "stream",
     "text": [
      "<class 'pandas.core.frame.DataFrame'>\n",
      "Index: 3387 entries, Toy Story 3 to An Actor Prepares\n",
      "Data columns (total 5 columns):\n",
      " #   Column           Non-Null Count  Dtype  \n",
      "---  ------           --------------  -----  \n",
      " 0   studio           3387 non-null   object \n",
      " 1   domestic_gross   3387 non-null   float64\n",
      " 2   foreign_gross    3387 non-null   float64\n",
      " 3   year             3387 non-null   int64  \n",
      " 4   worldwide_gross  3387 non-null   float64\n",
      "dtypes: float64(3), int64(1), object(1)\n",
      "memory usage: 318.8+ KB\n"
     ]
    }
   ],
   "source": [
    "df_bom.info()"
   ]
  },
  {
   "cell_type": "code",
   "execution_count": 130,
   "metadata": {
    "ExecuteTime": {
     "end_time": "2021-04-27T03:50:17.061828Z",
     "start_time": "2021-04-27T03:50:17.055845Z"
    },
    "scrolled": true
   },
   "outputs": [],
   "source": [
    "#If NaN setting to 0..\n",
    "df_bom.fillna(0, inplace=True)"
   ]
  },
  {
   "cell_type": "code",
   "execution_count": 131,
   "metadata": {
    "ExecuteTime": {
     "end_time": "2021-04-27T03:50:31.446812Z",
     "start_time": "2021-04-27T03:50:31.439867Z"
    }
   },
   "outputs": [
    {
     "data": {
      "text/plain": [
       "studio            0\n",
       "domestic_gross    0\n",
       "foreign_gross     0\n",
       "year              0\n",
       "dtype: int64"
      ]
     },
     "execution_count": 131,
     "metadata": {},
     "output_type": "execute_result"
    }
   ],
   "source": [
    "df_bom.isna().sum()"
   ]
  },
  {
   "cell_type": "code",
   "execution_count": 132,
   "metadata": {
    "ExecuteTime": {
     "end_time": "2021-04-27T03:50:56.508567Z",
     "start_time": "2021-04-27T03:50:56.499559Z"
    }
   },
   "outputs": [
    {
     "name": "stdout",
     "output_type": "stream",
     "text": [
      "<class 'pandas.core.frame.DataFrame'>\n",
      "Index: 3387 entries, Toy Story 3 to An Actor Prepares\n",
      "Data columns (total 4 columns):\n",
      " #   Column          Non-Null Count  Dtype  \n",
      "---  ------          --------------  -----  \n",
      " 0   studio          3387 non-null   object \n",
      " 1   domestic_gross  3387 non-null   float64\n",
      " 2   foreign_gross   3387 non-null   object \n",
      " 3   year            3387 non-null   int64  \n",
      "dtypes: float64(1), int64(1), object(2)\n",
      "memory usage: 292.3+ KB\n"
     ]
    }
   ],
   "source": [
    "df_bom.info()\n",
    "#Need to convert the foreign gross to float"
   ]
  },
  {
   "cell_type": "markdown",
   "metadata": {},
   "source": [
    " A Few values needed to be converted to billions"
   ]
  },
  {
   "cell_type": "code",
   "execution_count": null,
   "metadata": {},
   "outputs": [],
   "source": [
    "# When converting to numeric foreign gross at line numbers 1872,1873,1874,2760,\n",
    "#3079 were in a shorthand billions\n",
    "# ie 1,131.6 for 1131600000.\n",
    "# this is the quick fix\n",
    "df_bom.iloc[[1872],[2]] =1131600000.0\n",
    "df_bom.iloc[[1873],[2]] =1019400000.0\n",
    "df_bom.iloc[[1874],[2]] =1163000000.0\n",
    "df_bom.iloc[[2760],[2]] =1010000000.0\n",
    "df_bom.iloc[[3079],[2]] =1369500000.0\n"
   ]
  },
  {
   "cell_type": "markdown",
   "metadata": {},
   "source": [
    "Convert the object number of foreign gross to numeric "
   ]
  },
  {
   "cell_type": "code",
   "execution_count": 158,
   "metadata": {
    "ExecuteTime": {
     "end_time": "2021-04-27T04:02:48.393674Z",
     "start_time": "2021-04-27T04:02:48.387655Z"
    },
    "scrolled": true
   },
   "outputs": [],
   "source": [
    "#Convert string to numeric values...5 or so of the billions needed to be converted\n",
    "df_bom['foreign_gross'] = pd.to_numeric(df_bom['foreign_gross'])"
   ]
  },
  {
   "cell_type": "code",
   "execution_count": 163,
   "metadata": {
    "ExecuteTime": {
     "end_time": "2021-04-27T04:20:38.482516Z",
     "start_time": "2021-04-27T04:20:38.472543Z"
    },
    "scrolled": false
   },
   "outputs": [
    {
     "name": "stdout",
     "output_type": "stream",
     "text": [
      "<class 'pandas.core.frame.DataFrame'>\n",
      "Index: 3387 entries, Toy Story 3 to An Actor Prepares\n",
      "Data columns (total 5 columns):\n",
      " #   Column           Non-Null Count  Dtype  \n",
      "---  ------           --------------  -----  \n",
      " 0   studio           3387 non-null   object \n",
      " 1   domestic_gross   3387 non-null   float64\n",
      " 2   foreign_gross    3387 non-null   float64\n",
      " 3   year             3387 non-null   int64  \n",
      " 4   worldwide_gross  3387 non-null   float64\n",
      "dtypes: float64(3), int64(1), object(1)\n",
      "memory usage: 318.8+ KB\n"
     ]
    }
   ],
   "source": [
    "df_bom.info()"
   ]
  },
  {
   "cell_type": "code",
   "execution_count": 161,
   "metadata": {
    "ExecuteTime": {
     "end_time": "2021-04-27T04:17:32.256912Z",
     "start_time": "2021-04-27T04:17:32.249929Z"
    }
   },
   "outputs": [],
   "source": [
    "#creating the worldwide_gross column from the dommestic and foreign gross\n",
    "df_bom['worldwide_gross'] = df_bom['domestic_gross'] + df_bom['foreign_gross']"
   ]
  },
  {
   "cell_type": "code",
   "execution_count": 162,
   "metadata": {
    "ExecuteTime": {
     "end_time": "2021-04-27T04:17:54.034048Z",
     "start_time": "2021-04-27T04:17:54.023078Z"
    }
   },
   "outputs": [
    {
     "data": {
      "text/html": [
       "<div>\n",
       "<style scoped>\n",
       "    .dataframe tbody tr th:only-of-type {\n",
       "        vertical-align: middle;\n",
       "    }\n",
       "\n",
       "    .dataframe tbody tr th {\n",
       "        vertical-align: top;\n",
       "    }\n",
       "\n",
       "    .dataframe thead th {\n",
       "        text-align: right;\n",
       "    }\n",
       "</style>\n",
       "<table border=\"1\" class=\"dataframe\">\n",
       "  <thead>\n",
       "    <tr style=\"text-align: right;\">\n",
       "      <th></th>\n",
       "      <th>studio</th>\n",
       "      <th>domestic_gross</th>\n",
       "      <th>foreign_gross</th>\n",
       "      <th>year</th>\n",
       "      <th>worldwide_gross</th>\n",
       "    </tr>\n",
       "    <tr>\n",
       "      <th>title</th>\n",
       "      <th></th>\n",
       "      <th></th>\n",
       "      <th></th>\n",
       "      <th></th>\n",
       "      <th></th>\n",
       "    </tr>\n",
       "  </thead>\n",
       "  <tbody>\n",
       "    <tr>\n",
       "      <th>Toy Story 3</th>\n",
       "      <td>BV</td>\n",
       "      <td>415000000.0</td>\n",
       "      <td>652000000.0</td>\n",
       "      <td>2010</td>\n",
       "      <td>1.067000e+09</td>\n",
       "    </tr>\n",
       "    <tr>\n",
       "      <th>Alice in Wonderland (2010)</th>\n",
       "      <td>BV</td>\n",
       "      <td>334200000.0</td>\n",
       "      <td>691300000.0</td>\n",
       "      <td>2010</td>\n",
       "      <td>1.025500e+09</td>\n",
       "    </tr>\n",
       "    <tr>\n",
       "      <th>Harry Potter and the Deathly Hallows Part 1</th>\n",
       "      <td>WB</td>\n",
       "      <td>296000000.0</td>\n",
       "      <td>664300000.0</td>\n",
       "      <td>2010</td>\n",
       "      <td>9.603000e+08</td>\n",
       "    </tr>\n",
       "    <tr>\n",
       "      <th>Inception</th>\n",
       "      <td>WB</td>\n",
       "      <td>292600000.0</td>\n",
       "      <td>535700000.0</td>\n",
       "      <td>2010</td>\n",
       "      <td>8.283000e+08</td>\n",
       "    </tr>\n",
       "    <tr>\n",
       "      <th>Shrek Forever After</th>\n",
       "      <td>P/DW</td>\n",
       "      <td>238700000.0</td>\n",
       "      <td>513900000.0</td>\n",
       "      <td>2010</td>\n",
       "      <td>7.526000e+08</td>\n",
       "    </tr>\n",
       "  </tbody>\n",
       "</table>\n",
       "</div>"
      ],
      "text/plain": [
       "                                            studio  domestic_gross  \\\n",
       "title                                                                \n",
       "Toy Story 3                                     BV     415000000.0   \n",
       "Alice in Wonderland (2010)                      BV     334200000.0   \n",
       "Harry Potter and the Deathly Hallows Part 1     WB     296000000.0   \n",
       "Inception                                       WB     292600000.0   \n",
       "Shrek Forever After                           P/DW     238700000.0   \n",
       "\n",
       "                                             foreign_gross  year  \\\n",
       "title                                                              \n",
       "Toy Story 3                                    652000000.0  2010   \n",
       "Alice in Wonderland (2010)                     691300000.0  2010   \n",
       "Harry Potter and the Deathly Hallows Part 1    664300000.0  2010   \n",
       "Inception                                      535700000.0  2010   \n",
       "Shrek Forever After                            513900000.0  2010   \n",
       "\n",
       "                                             worldwide_gross  \n",
       "title                                                         \n",
       "Toy Story 3                                     1.067000e+09  \n",
       "Alice in Wonderland (2010)                      1.025500e+09  \n",
       "Harry Potter and the Deathly Hallows Part 1     9.603000e+08  \n",
       "Inception                                       8.283000e+08  \n",
       "Shrek Forever After                             7.526000e+08  "
      ]
     },
     "execution_count": 162,
     "metadata": {},
     "output_type": "execute_result"
    }
   ],
   "source": [
    "df_bom.head()"
   ]
  },
  {
   "cell_type": "markdown",
   "metadata": {
    "ExecuteTime": {
     "end_time": "2021-04-26T05:31:30.670252Z",
     "start_time": "2021-04-26T05:31:30.650305Z"
    }
   },
   "source": [
    "<font color='green'>Observation</font> Set Foreign gross to 0 if NaN.  If we need we can use the movie budget to look up.\n",
    "Converted money columns to floats. Created worldwide_gross from domestc and foreign.\n",
    "\n"
   ]
  },
  {
   "cell_type": "markdown",
   "metadata": {},
   "source": [
    "### <font color=\"green\">Clean imdb_name data</font>"
   ]
  },
  {
   "cell_type": "code",
   "execution_count": 288,
   "metadata": {
    "ExecuteTime": {
     "end_time": "2021-04-26T16:43:34.305311Z",
     "start_time": "2021-04-26T16:43:34.288353Z"
    }
   },
   "outputs": [
    {
     "data": {
      "text/plain": [
       "(606648, 6)"
      ]
     },
     "execution_count": 288,
     "metadata": {},
     "output_type": "execute_result"
    }
   ],
   "source": [
    "df_imdb_name.shape"
   ]
  },
  {
   "cell_type": "code",
   "execution_count": 185,
   "metadata": {
    "ExecuteTime": {
     "end_time": "2021-04-27T22:19:58.352148Z",
     "start_time": "2021-04-27T22:19:58.274343Z"
    }
   },
   "outputs": [
    {
     "data": {
      "text/plain": [
       "primary_name               0\n",
       "birth_year            523912\n",
       "death_year            599865\n",
       "primary_profession     51340\n",
       "known_for_titles       30204\n",
       "dtype: int64"
      ]
     },
     "execution_count": 185,
     "metadata": {},
     "output_type": "execute_result"
    }
   ],
   "source": [
    "df_imdb_name.isna().sum()"
   ]
  },
  {
   "cell_type": "code",
   "execution_count": 186,
   "metadata": {
    "ExecuteTime": {
     "end_time": "2021-04-27T22:20:00.981100Z",
     "start_time": "2021-04-27T22:20:00.956134Z"
    }
   },
   "outputs": [],
   "source": [
    "#Can drop birth_year and death year\n",
    "df_imdb_name = df_imdb_name.drop(columns=['birth_year','death_year'])"
   ]
  },
  {
   "cell_type": "markdown",
   "metadata": {},
   "source": [
    "drop if both primary_profession and known_for_titles are both Nan"
   ]
  },
  {
   "cell_type": "code",
   "execution_count": 189,
   "metadata": {
    "ExecuteTime": {
     "end_time": "2021-04-27T22:27:31.236634Z",
     "start_time": "2021-04-27T22:27:31.160803Z"
    },
    "scrolled": true
   },
   "outputs": [
    {
     "data": {
      "text/plain": [
       "primary_name              0\n",
       "primary_profession    51340\n",
       "known_for_titles      30204\n",
       "dtype: int64"
      ]
     },
     "execution_count": 189,
     "metadata": {},
     "output_type": "execute_result"
    }
   ],
   "source": [
    "df_imdb_name.isna().sum()"
   ]
  },
  {
   "cell_type": "code",
   "execution_count": 193,
   "metadata": {
    "ExecuteTime": {
     "end_time": "2021-04-27T22:28:55.713187Z",
     "start_time": "2021-04-27T22:28:55.603478Z"
    }
   },
   "outputs": [],
   "source": [
    "#drop if both primary_profession and known_for_titles are both Nan\n",
    "col_lst = ['primary_profession', 'known_for_titles']\n",
    "df_imdb_name.dropna(axis = 0, subset = col_lst, how = 'all', inplace = True)\n"
   ]
  },
  {
   "cell_type": "code",
   "execution_count": 194,
   "metadata": {
    "ExecuteTime": {
     "end_time": "2021-04-27T22:29:08.341313Z",
     "start_time": "2021-04-27T22:29:08.274491Z"
    }
   },
   "outputs": [
    {
     "data": {
      "text/plain": [
       "primary_name              0\n",
       "primary_profession    41307\n",
       "known_for_titles      20171\n",
       "dtype: int64"
      ]
     },
     "execution_count": 194,
     "metadata": {},
     "output_type": "execute_result"
    }
   ],
   "source": [
    "df_imdb_name.isna().sum()"
   ]
  },
  {
   "cell_type": "markdown",
   "metadata": {},
   "source": [
    "<font color='green'>Observation</font> lots of NaNs but are supposed to be blank if non applicable.  put in holder value(NA, or job or characters? or 0?  Dropped 'birth_year','death_year'. If NAN for known_for can drop?  Final decision to fill na with 'unknown'"
   ]
  },
  {
   "cell_type": "code",
   "execution_count": 196,
   "metadata": {
    "ExecuteTime": {
     "end_time": "2021-04-27T22:30:39.893432Z",
     "start_time": "2021-04-27T22:30:39.863504Z"
    }
   },
   "outputs": [
    {
     "data": {
      "text/html": [
       "<div>\n",
       "<style scoped>\n",
       "    .dataframe tbody tr th:only-of-type {\n",
       "        vertical-align: middle;\n",
       "    }\n",
       "\n",
       "    .dataframe tbody tr th {\n",
       "        vertical-align: top;\n",
       "    }\n",
       "\n",
       "    .dataframe thead th {\n",
       "        text-align: right;\n",
       "    }\n",
       "</style>\n",
       "<table border=\"1\" class=\"dataframe\">\n",
       "  <thead>\n",
       "    <tr style=\"text-align: right;\">\n",
       "      <th></th>\n",
       "      <th>primary_name</th>\n",
       "      <th>primary_profession</th>\n",
       "      <th>known_for_titles</th>\n",
       "    </tr>\n",
       "    <tr>\n",
       "      <th>nconst</th>\n",
       "      <th></th>\n",
       "      <th></th>\n",
       "      <th></th>\n",
       "    </tr>\n",
       "  </thead>\n",
       "  <tbody>\n",
       "    <tr>\n",
       "      <th>nm10108345</th>\n",
       "      <td>Jiaxi Li</td>\n",
       "      <td>actor</td>\n",
       "      <td>NaN</td>\n",
       "    </tr>\n",
       "    <tr>\n",
       "      <th>nm10113099</th>\n",
       "      <td>Greg Quibell</td>\n",
       "      <td>actor</td>\n",
       "      <td>NaN</td>\n",
       "    </tr>\n",
       "    <tr>\n",
       "      <th>nm10114259</th>\n",
       "      <td>Vera Prifatamasari</td>\n",
       "      <td>actress</td>\n",
       "      <td>NaN</td>\n",
       "    </tr>\n",
       "    <tr>\n",
       "      <th>nm10115487</th>\n",
       "      <td>Laurette De Haan</td>\n",
       "      <td>director,writer,cinematographer</td>\n",
       "      <td>NaN</td>\n",
       "    </tr>\n",
       "    <tr>\n",
       "      <th>nm10115788</th>\n",
       "      <td>Sustraida's Band</td>\n",
       "      <td>composer</td>\n",
       "      <td>NaN</td>\n",
       "    </tr>\n",
       "  </tbody>\n",
       "</table>\n",
       "</div>"
      ],
      "text/plain": [
       "                  primary_name               primary_profession  \\\n",
       "nconst                                                            \n",
       "nm10108345            Jiaxi Li                            actor   \n",
       "nm10113099        Greg Quibell                            actor   \n",
       "nm10114259  Vera Prifatamasari                          actress   \n",
       "nm10115487    Laurette De Haan  director,writer,cinematographer   \n",
       "nm10115788    Sustraida's Band                         composer   \n",
       "\n",
       "           known_for_titles  \n",
       "nconst                       \n",
       "nm10108345              NaN  \n",
       "nm10113099              NaN  \n",
       "nm10114259              NaN  \n",
       "nm10115487              NaN  \n",
       "nm10115788              NaN  "
      ]
     },
     "execution_count": 196,
     "metadata": {},
     "output_type": "execute_result"
    }
   ],
   "source": [
    "df_imdb_name[df_imdb_name['known_for_titles'].isna()].head()"
   ]
  },
  {
   "cell_type": "code",
   "execution_count": 201,
   "metadata": {
    "ExecuteTime": {
     "end_time": "2021-04-27T22:48:30.551109Z",
     "start_time": "2021-04-27T22:48:30.497221Z"
    }
   },
   "outputs": [],
   "source": [
    "#if there is a Nan in remaining data fill in with unknown\n",
    "df_imdb_name['known_for_titles'].fillna(value='unknown', inplace=True)\n",
    "df_imdb_name['primary_profession'].fillna(value='unknown', inplace=True)"
   ]
  },
  {
   "cell_type": "code",
   "execution_count": 202,
   "metadata": {
    "ExecuteTime": {
     "end_time": "2021-04-27T22:48:33.248600Z",
     "start_time": "2021-04-27T22:48:33.181761Z"
    },
    "scrolled": true
   },
   "outputs": [
    {
     "data": {
      "text/plain": [
       "primary_name          0\n",
       "primary_profession    0\n",
       "known_for_titles      0\n",
       "dtype: int64"
      ]
     },
     "execution_count": 202,
     "metadata": {},
     "output_type": "execute_result"
    }
   ],
   "source": [
    "df_imdb_name.isna().sum()"
   ]
  },
  {
   "cell_type": "code",
   "execution_count": 203,
   "metadata": {
    "ExecuteTime": {
     "end_time": "2021-04-27T22:48:49.396688Z",
     "start_time": "2021-04-27T22:48:49.392699Z"
    }
   },
   "outputs": [
    {
     "data": {
      "text/plain": [
       "(596615, 3)"
      ]
     },
     "execution_count": 203,
     "metadata": {},
     "output_type": "execute_result"
    }
   ],
   "source": [
    "df_imdb_name.shape"
   ]
  },
  {
   "cell_type": "markdown",
   "metadata": {},
   "source": [
    "### <font color=\"green\">Clean imdb_akas data</font>"
   ]
  },
  {
   "cell_type": "code",
   "execution_count": 293,
   "metadata": {
    "ExecuteTime": {
     "end_time": "2021-04-26T16:51:58.491487Z",
     "start_time": "2021-04-26T16:51:58.487498Z"
    }
   },
   "outputs": [
    {
     "data": {
      "text/plain": [
       "(331703, 8)"
      ]
     },
     "execution_count": 293,
     "metadata": {},
     "output_type": "execute_result"
    }
   ],
   "source": [
    "df_imdb_akas.shape"
   ]
  },
  {
   "cell_type": "code",
   "execution_count": 206,
   "metadata": {
    "ExecuteTime": {
     "end_time": "2021-04-27T23:47:41.556100Z",
     "start_time": "2021-04-27T23:47:41.492267Z"
    }
   },
   "outputs": [
    {
     "name": "stdout",
     "output_type": "stream",
     "text": [
      "<class 'pandas.core.frame.DataFrame'>\n",
      "Index: 331703 entries, tt0369610 to tt9880178\n",
      "Data columns (total 7 columns):\n",
      " #   Column             Non-Null Count   Dtype  \n",
      "---  ------             --------------   -----  \n",
      " 0   ordering           331703 non-null  int64  \n",
      " 1   title              331703 non-null  object \n",
      " 2   region             331703 non-null  object \n",
      " 3   language           41715 non-null   object \n",
      " 4   types              168447 non-null  object \n",
      " 5   attributes         14925 non-null   object \n",
      " 6   is_original_title  331678 non-null  float64\n",
      "dtypes: float64(1), int64(1), object(5)\n",
      "memory usage: 20.2+ MB\n"
     ]
    }
   ],
   "source": [
    "df_imdb_akas.info()"
   ]
  },
  {
   "cell_type": "code",
   "execution_count": 343,
   "metadata": {
    "ExecuteTime": {
     "end_time": "2021-04-26T17:44:11.615359Z",
     "start_time": "2021-04-26T17:44:11.604355Z"
    }
   },
   "outputs": [],
   "source": [
    "#Unsure if this data is useful\n",
    "#df_imdb_akas = df_imdb_akas[df_imdb_akas['is_original_title'] == 1.0]"
   ]
  },
  {
   "cell_type": "code",
   "execution_count": 205,
   "metadata": {
    "ExecuteTime": {
     "end_time": "2021-04-27T23:47:29.501562Z",
     "start_time": "2021-04-27T23:47:29.376929Z"
    }
   },
   "outputs": [
    {
     "data": {
      "text/plain": [
       "ordering                  0\n",
       "title                     0\n",
       "region                    0\n",
       "language             289988\n",
       "types                163256\n",
       "attributes           316778\n",
       "is_original_title        25\n",
       "dtype: int64"
      ]
     },
     "execution_count": 205,
     "metadata": {},
     "output_type": "execute_result"
    }
   ],
   "source": [
    "df_imdb_akas.isna().sum()"
   ]
  },
  {
   "cell_type": "code",
   "execution_count": 168,
   "metadata": {
    "ExecuteTime": {
     "end_time": "2021-04-27T04:40:36.877772Z",
     "start_time": "2021-04-27T04:40:36.865804Z"
    }
   },
   "outputs": [
    {
     "data": {
      "text/html": [
       "<div>\n",
       "<style scoped>\n",
       "    .dataframe tbody tr th:only-of-type {\n",
       "        vertical-align: middle;\n",
       "    }\n",
       "\n",
       "    .dataframe tbody tr th {\n",
       "        vertical-align: top;\n",
       "    }\n",
       "\n",
       "    .dataframe thead th {\n",
       "        text-align: right;\n",
       "    }\n",
       "</style>\n",
       "<table border=\"1\" class=\"dataframe\">\n",
       "  <thead>\n",
       "    <tr style=\"text-align: right;\">\n",
       "      <th></th>\n",
       "      <th>ordering</th>\n",
       "      <th>title</th>\n",
       "      <th>region</th>\n",
       "      <th>language</th>\n",
       "      <th>types</th>\n",
       "      <th>attributes</th>\n",
       "      <th>is_original_title</th>\n",
       "    </tr>\n",
       "    <tr>\n",
       "      <th>title_id</th>\n",
       "      <th></th>\n",
       "      <th></th>\n",
       "      <th></th>\n",
       "      <th></th>\n",
       "      <th></th>\n",
       "      <th></th>\n",
       "      <th></th>\n",
       "    </tr>\n",
       "  </thead>\n",
       "  <tbody>\n",
       "    <tr>\n",
       "      <th>tt0369610</th>\n",
       "      <td>10</td>\n",
       "      <td>Джурасик свят</td>\n",
       "      <td>BG</td>\n",
       "      <td>bg</td>\n",
       "      <td>NaN</td>\n",
       "      <td>NaN</td>\n",
       "      <td>0.0</td>\n",
       "    </tr>\n",
       "    <tr>\n",
       "      <th>tt0369610</th>\n",
       "      <td>11</td>\n",
       "      <td>Jurashikku warudo</td>\n",
       "      <td>JP</td>\n",
       "      <td>NaN</td>\n",
       "      <td>imdbDisplay</td>\n",
       "      <td>NaN</td>\n",
       "      <td>0.0</td>\n",
       "    </tr>\n",
       "    <tr>\n",
       "      <th>tt0369610</th>\n",
       "      <td>12</td>\n",
       "      <td>Jurassic World: O Mundo dos Dinossauros</td>\n",
       "      <td>BR</td>\n",
       "      <td>NaN</td>\n",
       "      <td>imdbDisplay</td>\n",
       "      <td>NaN</td>\n",
       "      <td>0.0</td>\n",
       "    </tr>\n",
       "  </tbody>\n",
       "</table>\n",
       "</div>"
      ],
      "text/plain": [
       "           ordering                                    title region language  \\\n",
       "title_id                                                                       \n",
       "tt0369610        10                            Джурасик свят     BG       bg   \n",
       "tt0369610        11                        Jurashikku warudo     JP      NaN   \n",
       "tt0369610        12  Jurassic World: O Mundo dos Dinossauros     BR      NaN   \n",
       "\n",
       "                 types attributes  is_original_title  \n",
       "title_id                                              \n",
       "tt0369610          NaN        NaN                0.0  \n",
       "tt0369610  imdbDisplay        NaN                0.0  \n",
       "tt0369610  imdbDisplay        NaN                0.0  "
      ]
     },
     "execution_count": 168,
     "metadata": {},
     "output_type": "execute_result"
    }
   ],
   "source": [
    "df_imdb_akas.head(3)"
   ]
  },
  {
   "cell_type": "code",
   "execution_count": 210,
   "metadata": {
    "ExecuteTime": {
     "end_time": "2021-04-27T23:51:04.001361Z",
     "start_time": "2021-04-27T23:51:03.941520Z"
    }
   },
   "outputs": [
    {
     "data": {
      "text/plain": [
       "{'alternative',\n",
       " 'dvd',\n",
       " 'dvd\\x02imdbDisplay',\n",
       " 'festival',\n",
       " 'festival\\x02working',\n",
       " 'imdbDisplay',\n",
       " 'original',\n",
       " 'tv',\n",
       " 'unknown',\n",
       " 'video',\n",
       " 'working'}"
      ]
     },
     "execution_count": 210,
     "metadata": {},
     "output_type": "execute_result"
    }
   ],
   "source": [
    "set(df_imdb_akas['types'])"
   ]
  },
  {
   "cell_type": "code",
   "execution_count": 213,
   "metadata": {
    "ExecuteTime": {
     "end_time": "2021-04-27T23:54:38.071016Z",
     "start_time": "2021-04-27T23:54:38.020115Z"
    }
   },
   "outputs": [],
   "source": [
    "#for NaNs in these columns set to unknown\n",
    "col_list = ['region','language','types','attributes']\n",
    "for col in col_list:\n",
    "    \n",
    "    df_imdb_akas[col].fillna(value='unknown', inplace=True)\n",
    " "
   ]
  },
  {
   "cell_type": "code",
   "execution_count": 220,
   "metadata": {
    "ExecuteTime": {
     "end_time": "2021-04-27T23:58:58.807182Z",
     "start_time": "2021-04-27T23:58:58.744305Z"
    },
    "scrolled": true
   },
   "outputs": [
    {
     "data": {
      "text/plain": [
       "ordering             0\n",
       "title                0\n",
       "region               0\n",
       "language             0\n",
       "types                0\n",
       "attributes           0\n",
       "is_original_title    0\n",
       "dtype: int64"
      ]
     },
     "execution_count": 220,
     "metadata": {},
     "output_type": "execute_result"
    }
   ],
   "source": [
    "df_imdb_akas.isna().sum()"
   ]
  },
  {
   "cell_type": "code",
   "execution_count": 218,
   "metadata": {
    "ExecuteTime": {
     "end_time": "2021-04-27T23:58:36.957998Z",
     "start_time": "2021-04-27T23:58:36.924035Z"
    }
   },
   "outputs": [],
   "source": [
    "df_imdb_akas = df_imdb_akas[df_imdb_akas['is_original_title'].notna()]"
   ]
  },
  {
   "cell_type": "code",
   "execution_count": 219,
   "metadata": {
    "ExecuteTime": {
     "end_time": "2021-04-27T23:58:54.562263Z",
     "start_time": "2021-04-27T23:58:54.557273Z"
    }
   },
   "outputs": [
    {
     "data": {
      "text/plain": [
       "(331678, 7)"
      ]
     },
     "execution_count": 219,
     "metadata": {},
     "output_type": "execute_result"
    }
   ],
   "source": [
    "df_imdb_akas.shape"
   ]
  },
  {
   "cell_type": "markdown",
   "metadata": {},
   "source": [
    "<font color='green'>Actions</font> In columns 'region','language','types','attributes'set Nan to 'unknown \n",
    "<br>removed is_original title id Nan"
   ]
  },
  {
   "cell_type": "markdown",
   "metadata": {},
   "source": [
    "### <font color=\"green\">Clean imdb_basics data</font>"
   ]
  },
  {
   "cell_type": "code",
   "execution_count": 221,
   "metadata": {
    "ExecuteTime": {
     "end_time": "2021-04-28T00:01:47.811749Z",
     "start_time": "2021-04-28T00:01:47.806761Z"
    }
   },
   "outputs": [
    {
     "data": {
      "text/plain": [
       "(146144, 5)"
      ]
     },
     "execution_count": 221,
     "metadata": {},
     "output_type": "execute_result"
    }
   ],
   "source": [
    "df_imdbbasics.shape"
   ]
  },
  {
   "cell_type": "code",
   "execution_count": 222,
   "metadata": {
    "ExecuteTime": {
     "end_time": "2021-04-28T00:01:51.451518Z",
     "start_time": "2021-04-28T00:01:51.389678Z"
    }
   },
   "outputs": [
    {
     "data": {
      "text/plain": [
       "primary_title          0\n",
       "original_title        21\n",
       "start_year             0\n",
       "runtime_minutes    31739\n",
       "genres              5408\n",
       "dtype: int64"
      ]
     },
     "execution_count": 222,
     "metadata": {},
     "output_type": "execute_result"
    }
   ],
   "source": [
    "df_imdbbasics.isna().sum()"
   ]
  },
  {
   "cell_type": "code",
   "execution_count": 169,
   "metadata": {
    "ExecuteTime": {
     "end_time": "2021-04-27T04:41:04.070662Z",
     "start_time": "2021-04-27T04:41:04.060687Z"
    }
   },
   "outputs": [
    {
     "data": {
      "text/html": [
       "<div>\n",
       "<style scoped>\n",
       "    .dataframe tbody tr th:only-of-type {\n",
       "        vertical-align: middle;\n",
       "    }\n",
       "\n",
       "    .dataframe tbody tr th {\n",
       "        vertical-align: top;\n",
       "    }\n",
       "\n",
       "    .dataframe thead th {\n",
       "        text-align: right;\n",
       "    }\n",
       "</style>\n",
       "<table border=\"1\" class=\"dataframe\">\n",
       "  <thead>\n",
       "    <tr style=\"text-align: right;\">\n",
       "      <th></th>\n",
       "      <th>primary_title</th>\n",
       "      <th>original_title</th>\n",
       "      <th>start_year</th>\n",
       "      <th>runtime_minutes</th>\n",
       "      <th>genres</th>\n",
       "    </tr>\n",
       "    <tr>\n",
       "      <th>tconst</th>\n",
       "      <th></th>\n",
       "      <th></th>\n",
       "      <th></th>\n",
       "      <th></th>\n",
       "      <th></th>\n",
       "    </tr>\n",
       "  </thead>\n",
       "  <tbody>\n",
       "    <tr>\n",
       "      <th>tt0063540</th>\n",
       "      <td>Sunghursh</td>\n",
       "      <td>Sunghursh</td>\n",
       "      <td>2013</td>\n",
       "      <td>175.0</td>\n",
       "      <td>Action,Crime,Drama</td>\n",
       "    </tr>\n",
       "    <tr>\n",
       "      <th>tt0066787</th>\n",
       "      <td>One Day Before the Rainy Season</td>\n",
       "      <td>Ashad Ka Ek Din</td>\n",
       "      <td>2019</td>\n",
       "      <td>114.0</td>\n",
       "      <td>Biography,Drama</td>\n",
       "    </tr>\n",
       "    <tr>\n",
       "      <th>tt0069049</th>\n",
       "      <td>The Other Side of the Wind</td>\n",
       "      <td>The Other Side of the Wind</td>\n",
       "      <td>2018</td>\n",
       "      <td>122.0</td>\n",
       "      <td>Drama</td>\n",
       "    </tr>\n",
       "  </tbody>\n",
       "</table>\n",
       "</div>"
      ],
      "text/plain": [
       "                             primary_title              original_title  \\\n",
       "tconst                                                                   \n",
       "tt0063540                        Sunghursh                   Sunghursh   \n",
       "tt0066787  One Day Before the Rainy Season             Ashad Ka Ek Din   \n",
       "tt0069049       The Other Side of the Wind  The Other Side of the Wind   \n",
       "\n",
       "           start_year  runtime_minutes              genres  \n",
       "tconst                                                      \n",
       "tt0063540        2013            175.0  Action,Crime,Drama  \n",
       "tt0066787        2019            114.0     Biography,Drama  \n",
       "tt0069049        2018            122.0               Drama  "
      ]
     },
     "execution_count": 169,
     "metadata": {},
     "output_type": "execute_result"
    }
   ],
   "source": [
    "df_imdbbasics.head(3)"
   ]
  },
  {
   "cell_type": "code",
   "execution_count": 223,
   "metadata": {
    "ExecuteTime": {
     "end_time": "2021-04-28T00:02:42.844394Z",
     "start_time": "2021-04-28T00:02:42.820496Z"
    }
   },
   "outputs": [
    {
     "name": "stdout",
     "output_type": "stream",
     "text": [
      "<class 'pandas.core.frame.DataFrame'>\n",
      "Index: 146144 entries, tt0063540 to tt9916754\n",
      "Data columns (total 5 columns):\n",
      " #   Column           Non-Null Count   Dtype  \n",
      "---  ------           --------------   -----  \n",
      " 0   primary_title    146144 non-null  object \n",
      " 1   original_title   146123 non-null  object \n",
      " 2   start_year       146144 non-null  int64  \n",
      " 3   runtime_minutes  114405 non-null  float64\n",
      " 4   genres           140736 non-null  object \n",
      "dtypes: float64(1), int64(1), object(3)\n",
      "memory usage: 6.7+ MB\n"
     ]
    }
   ],
   "source": [
    "df_imdbbasics.info()"
   ]
  },
  {
   "cell_type": "code",
   "execution_count": 226,
   "metadata": {
    "ExecuteTime": {
     "end_time": "2021-04-28T00:07:13.313074Z",
     "start_time": "2021-04-28T00:07:13.296118Z"
    }
   },
   "outputs": [],
   "source": [
    "#for NaNs in these columns set to unknown\n",
    "col_list = ['genres','original_title']\n",
    "for col in col_list:\n",
    "    \n",
    "    df_imdbbasics[col].fillna(value='unknown', inplace=True)"
   ]
  },
  {
   "cell_type": "code",
   "execution_count": 224,
   "metadata": {
    "ExecuteTime": {
     "end_time": "2021-04-28T00:06:14.335603Z",
     "start_time": "2021-04-28T00:06:14.329585Z"
    }
   },
   "outputs": [],
   "source": [
    "#If runtime minutes missing set to 89.5 minutes\n",
    "df_imdbbasics['runtime_minutes'].fillna(89.5,inplace=True)\n"
   ]
  },
  {
   "cell_type": "code",
   "execution_count": 227,
   "metadata": {
    "ExecuteTime": {
     "end_time": "2021-04-28T00:07:32.560873Z",
     "start_time": "2021-04-28T00:07:32.539892Z"
    }
   },
   "outputs": [
    {
     "data": {
      "text/plain": [
       "primary_title      0\n",
       "original_title     0\n",
       "start_year         0\n",
       "runtime_minutes    0\n",
       "genres             0\n",
       "dtype: int64"
      ]
     },
     "execution_count": 227,
     "metadata": {},
     "output_type": "execute_result"
    }
   ],
   "source": [
    "df_imdbbasics.isna().sum()"
   ]
  },
  {
   "cell_type": "markdown",
   "metadata": {
    "ExecuteTime": {
     "end_time": "2021-04-27T03:24:28.245105Z",
     "start_time": "2021-04-27T03:24:28.240085Z"
    }
   },
   "source": [
    "<font color='green'>Actions</font> In columns 'genres','original_title' set Nan to 'unknown \n",
    "<br>if runtime minutes set to 89.5 if Nan"
   ]
  },
  {
   "cell_type": "markdown",
   "metadata": {},
   "source": [
    "### <font color=\"green\">Clean imdb_crew data</font>"
   ]
  },
  {
   "cell_type": "code",
   "execution_count": 309,
   "metadata": {
    "ExecuteTime": {
     "end_time": "2021-04-26T17:09:29.143040Z",
     "start_time": "2021-04-26T17:09:29.138051Z"
    }
   },
   "outputs": [
    {
     "data": {
      "text/plain": [
       "(146144, 3)"
      ]
     },
     "execution_count": 309,
     "metadata": {},
     "output_type": "execute_result"
    }
   ],
   "source": [
    "df_imdb_crew.shape"
   ]
  },
  {
   "cell_type": "code",
   "execution_count": 247,
   "metadata": {
    "ExecuteTime": {
     "end_time": "2021-04-28T00:29:22.845124Z",
     "start_time": "2021-04-28T00:29:22.829161Z"
    },
    "scrolled": true
   },
   "outputs": [
    {
     "data": {
      "text/plain": [
       "directors    0\n",
       "writers      0\n",
       "dtype: int64"
      ]
     },
     "execution_count": 247,
     "metadata": {},
     "output_type": "execute_result"
    }
   ],
   "source": [
    "df_imdb_crew.isna().sum()"
   ]
  },
  {
   "cell_type": "code",
   "execution_count": 310,
   "metadata": {
    "ExecuteTime": {
     "end_time": "2021-04-26T17:10:22.305076Z",
     "start_time": "2021-04-26T17:10:22.295103Z"
    }
   },
   "outputs": [
    {
     "data": {
      "text/html": [
       "<div>\n",
       "<style scoped>\n",
       "    .dataframe tbody tr th:only-of-type {\n",
       "        vertical-align: middle;\n",
       "    }\n",
       "\n",
       "    .dataframe tbody tr th {\n",
       "        vertical-align: top;\n",
       "    }\n",
       "\n",
       "    .dataframe thead th {\n",
       "        text-align: right;\n",
       "    }\n",
       "</style>\n",
       "<table border=\"1\" class=\"dataframe\">\n",
       "  <thead>\n",
       "    <tr style=\"text-align: right;\">\n",
       "      <th></th>\n",
       "      <th>tconst</th>\n",
       "      <th>directors</th>\n",
       "      <th>writers</th>\n",
       "    </tr>\n",
       "  </thead>\n",
       "  <tbody>\n",
       "    <tr>\n",
       "      <th>0</th>\n",
       "      <td>tt0285252</td>\n",
       "      <td>nm0899854</td>\n",
       "      <td>nm0899854</td>\n",
       "    </tr>\n",
       "    <tr>\n",
       "      <th>1</th>\n",
       "      <td>tt0438973</td>\n",
       "      <td>NaN</td>\n",
       "      <td>nm0175726,nm1802864</td>\n",
       "    </tr>\n",
       "    <tr>\n",
       "      <th>2</th>\n",
       "      <td>tt0462036</td>\n",
       "      <td>nm1940585</td>\n",
       "      <td>nm1940585</td>\n",
       "    </tr>\n",
       "    <tr>\n",
       "      <th>3</th>\n",
       "      <td>tt0835418</td>\n",
       "      <td>nm0151540</td>\n",
       "      <td>nm0310087,nm0841532</td>\n",
       "    </tr>\n",
       "    <tr>\n",
       "      <th>4</th>\n",
       "      <td>tt0878654</td>\n",
       "      <td>nm0089502,nm2291498,nm2292011</td>\n",
       "      <td>nm0284943</td>\n",
       "    </tr>\n",
       "  </tbody>\n",
       "</table>\n",
       "</div>"
      ],
      "text/plain": [
       "      tconst                      directors              writers\n",
       "0  tt0285252                      nm0899854            nm0899854\n",
       "1  tt0438973                            NaN  nm0175726,nm1802864\n",
       "2  tt0462036                      nm1940585            nm1940585\n",
       "3  tt0835418                      nm0151540  nm0310087,nm0841532\n",
       "4  tt0878654  nm0089502,nm2291498,nm2292011            nm0284943"
      ]
     },
     "execution_count": 310,
     "metadata": {},
     "output_type": "execute_result"
    }
   ],
   "source": [
    "df_imdb_crew.head(5)"
   ]
  },
  {
   "cell_type": "code",
   "execution_count": 258,
   "metadata": {
    "ExecuteTime": {
     "end_time": "2021-04-28T00:47:41.436036Z",
     "start_time": "2021-04-28T00:47:41.431050Z"
    }
   },
   "outputs": [
    {
     "data": {
      "text/plain": [
       "(141670, 2)"
      ]
     },
     "execution_count": 258,
     "metadata": {},
     "output_type": "execute_result"
    }
   ],
   "source": [
    "df_imdb_crew.shape"
   ]
  },
  {
   "cell_type": "code",
   "execution_count": 244,
   "metadata": {
    "ExecuteTime": {
     "end_time": "2021-04-28T00:27:03.124431Z",
     "start_time": "2021-04-28T00:27:03.100462Z"
    }
   },
   "outputs": [],
   "source": [
    "df_imdb_crew = df_imdb_crew[df_imdb_crew['directors'].notna() \n",
    "                            | df_imdb_crew['writers'].notna()]"
   ]
  },
  {
   "cell_type": "code",
   "execution_count": 256,
   "metadata": {
    "ExecuteTime": {
     "end_time": "2021-04-28T00:47:08.846161Z",
     "start_time": "2021-04-28T00:47:08.826214Z"
    }
   },
   "outputs": [
    {
     "name": "stderr",
     "output_type": "stream",
     "text": [
      "C:\\Users\\dsmith\\anaconda3\\envs\\learn-env\\lib\\site-packages\\pandas\\core\\series.py:4517: SettingWithCopyWarning: \n",
      "A value is trying to be set on a copy of a slice from a DataFrame\n",
      "\n",
      "See the caveats in the documentation: https://pandas.pydata.org/pandas-docs/stable/user_guide/indexing.html#returning-a-view-versus-a-copy\n",
      "  return super().fillna(\n"
     ]
    }
   ],
   "source": [
    "#for NaNs in these columns set to unknown\n",
    "col_list = ['directors','writers']\n",
    "for col in col_list:\n",
    "    df_imdb_crew[col].fillna(value='unknown', inplace=True)"
   ]
  },
  {
   "cell_type": "code",
   "execution_count": 257,
   "metadata": {
    "ExecuteTime": {
     "end_time": "2021-04-28T00:47:37.212038Z",
     "start_time": "2021-04-28T00:47:37.193065Z"
    }
   },
   "outputs": [
    {
     "name": "stdout",
     "output_type": "stream",
     "text": [
      "<class 'pandas.core.frame.DataFrame'>\n",
      "Index: 141670 entries, tt0285252 to tt9010172\n",
      "Data columns (total 2 columns):\n",
      " #   Column     Non-Null Count   Dtype \n",
      "---  ------     --------------   ----- \n",
      " 0   directors  141670 non-null  object\n",
      " 1   writers    141670 non-null  object\n",
      "dtypes: object(2)\n",
      "memory usage: 3.2+ MB\n"
     ]
    }
   ],
   "source": [
    "df_imdb_crew.info()"
   ]
  },
  {
   "cell_type": "markdown",
   "metadata": {},
   "source": [
    "<font color='green'>Actions</font> If directors and writers are NaN drop row(4474 rows).  If then if directors is Nan replace with holder 'unknown'.  If writers is Nan replace with unknown."
   ]
  },
  {
   "cell_type": "markdown",
   "metadata": {},
   "source": [
    "### <font color=\"green\">Clean imdb_principals data</font>"
   ]
  },
  {
   "cell_type": "code",
   "execution_count": 108,
   "metadata": {
    "ExecuteTime": {
     "end_time": "2021-04-27T03:14:43.592165Z",
     "start_time": "2021-04-27T03:14:43.587178Z"
    }
   },
   "outputs": [
    {
     "data": {
      "text/plain": [
       "(1028186, 5)"
      ]
     },
     "execution_count": 108,
     "metadata": {},
     "output_type": "execute_result"
    }
   ],
   "source": [
    "df_imdb_principals.shape"
   ]
  },
  {
   "cell_type": "code",
   "execution_count": 109,
   "metadata": {
    "ExecuteTime": {
     "end_time": "2021-04-27T03:14:47.476985Z",
     "start_time": "2021-04-27T03:14:47.467011Z"
    }
   },
   "outputs": [
    {
     "data": {
      "text/html": [
       "<div>\n",
       "<style scoped>\n",
       "    .dataframe tbody tr th:only-of-type {\n",
       "        vertical-align: middle;\n",
       "    }\n",
       "\n",
       "    .dataframe tbody tr th {\n",
       "        vertical-align: top;\n",
       "    }\n",
       "\n",
       "    .dataframe thead th {\n",
       "        text-align: right;\n",
       "    }\n",
       "</style>\n",
       "<table border=\"1\" class=\"dataframe\">\n",
       "  <thead>\n",
       "    <tr style=\"text-align: right;\">\n",
       "      <th></th>\n",
       "      <th>ordering</th>\n",
       "      <th>nconst</th>\n",
       "      <th>category</th>\n",
       "      <th>job</th>\n",
       "      <th>characters</th>\n",
       "    </tr>\n",
       "    <tr>\n",
       "      <th>tconst</th>\n",
       "      <th></th>\n",
       "      <th></th>\n",
       "      <th></th>\n",
       "      <th></th>\n",
       "      <th></th>\n",
       "    </tr>\n",
       "  </thead>\n",
       "  <tbody>\n",
       "    <tr>\n",
       "      <th>tt9692684</th>\n",
       "      <td>1</td>\n",
       "      <td>nm0186469</td>\n",
       "      <td>actor</td>\n",
       "      <td>NaN</td>\n",
       "      <td>[\"Ebenezer Scrooge\"]</td>\n",
       "    </tr>\n",
       "    <tr>\n",
       "      <th>tt9692684</th>\n",
       "      <td>2</td>\n",
       "      <td>nm4929530</td>\n",
       "      <td>self</td>\n",
       "      <td>NaN</td>\n",
       "      <td>[\"Herself\",\"Regan\"]</td>\n",
       "    </tr>\n",
       "    <tr>\n",
       "      <th>tt9692684</th>\n",
       "      <td>3</td>\n",
       "      <td>nm10441594</td>\n",
       "      <td>director</td>\n",
       "      <td>NaN</td>\n",
       "      <td>NaN</td>\n",
       "    </tr>\n",
       "    <tr>\n",
       "      <th>tt9692684</th>\n",
       "      <td>4</td>\n",
       "      <td>nm6009913</td>\n",
       "      <td>writer</td>\n",
       "      <td>writer</td>\n",
       "      <td>NaN</td>\n",
       "    </tr>\n",
       "    <tr>\n",
       "      <th>tt9692684</th>\n",
       "      <td>5</td>\n",
       "      <td>nm10441595</td>\n",
       "      <td>producer</td>\n",
       "      <td>producer</td>\n",
       "      <td>NaN</td>\n",
       "    </tr>\n",
       "  </tbody>\n",
       "</table>\n",
       "</div>"
      ],
      "text/plain": [
       "           ordering      nconst  category       job            characters\n",
       "tconst                                                                   \n",
       "tt9692684         1   nm0186469     actor       NaN  [\"Ebenezer Scrooge\"]\n",
       "tt9692684         2   nm4929530      self       NaN   [\"Herself\",\"Regan\"]\n",
       "tt9692684         3  nm10441594  director       NaN                   NaN\n",
       "tt9692684         4   nm6009913    writer    writer                   NaN\n",
       "tt9692684         5  nm10441595  producer  producer                   NaN"
      ]
     },
     "execution_count": 109,
     "metadata": {},
     "output_type": "execute_result"
    }
   ],
   "source": [
    "df_imdb_principals.tail()"
   ]
  },
  {
   "cell_type": "code",
   "execution_count": 253,
   "metadata": {
    "ExecuteTime": {
     "end_time": "2021-04-28T00:32:54.861425Z",
     "start_time": "2021-04-28T00:32:54.720765Z"
    }
   },
   "outputs": [
    {
     "data": {
      "text/plain": [
       "ordering      0\n",
       "nconst        0\n",
       "category      0\n",
       "job           0\n",
       "characters    0\n",
       "dtype: int64"
      ]
     },
     "execution_count": 253,
     "metadata": {},
     "output_type": "execute_result"
    }
   ],
   "source": [
    "df_imdb_principals.isna().sum()"
   ]
  },
  {
   "cell_type": "code",
   "execution_count": 252,
   "metadata": {
    "ExecuteTime": {
     "end_time": "2021-04-28T00:32:50.159432Z",
     "start_time": "2021-04-28T00:32:50.064519Z"
    }
   },
   "outputs": [],
   "source": [
    "#for NaNs in these columns set to unknown\n",
    "col_list = ['job','characters']\n",
    "for col in col_list:\n",
    "    df_imdb_principals[col].fillna(value='unknown', inplace=True)"
   ]
  },
  {
   "cell_type": "code",
   "execution_count": 254,
   "metadata": {
    "ExecuteTime": {
     "end_time": "2021-04-28T00:32:58.508631Z",
     "start_time": "2021-04-28T00:32:58.361989Z"
    }
   },
   "outputs": [
    {
     "name": "stdout",
     "output_type": "stream",
     "text": [
      "<class 'pandas.core.frame.DataFrame'>\n",
      "Index: 1028186 entries, tt0111414 to tt9692684\n",
      "Data columns (total 5 columns):\n",
      " #   Column      Non-Null Count    Dtype \n",
      "---  ------      --------------    ----- \n",
      " 0   ordering    1028186 non-null  int64 \n",
      " 1   nconst      1028186 non-null  object\n",
      " 2   category    1028186 non-null  object\n",
      " 3   job         1028186 non-null  object\n",
      " 4   characters  1028186 non-null  object\n",
      "dtypes: int64(1), object(4)\n",
      "memory usage: 47.1+ MB\n"
     ]
    }
   ],
   "source": [
    "df_imdb_principals.info()"
   ]
  },
  {
   "cell_type": "markdown",
   "metadata": {},
   "source": [
    "<font color='green'>Actions</font> replaced columns job and characters if Nan to 'unknown'"
   ]
  },
  {
   "cell_type": "markdown",
   "metadata": {},
   "source": [
    "### <font color=\"green\">Clean imdb_ratings data</font>"
   ]
  },
  {
   "cell_type": "code",
   "execution_count": null,
   "metadata": {
    "ExecuteTime": {
     "end_time": "2021-04-25T21:41:59.023426Z",
     "start_time": "2021-04-25T21:41:54.372Z"
    }
   },
   "outputs": [],
   "source": [
    "df_imdb_ratings.shape"
   ]
  },
  {
   "cell_type": "code",
   "execution_count": 284,
   "metadata": {
    "ExecuteTime": {
     "end_time": "2021-04-26T05:54:31.708523Z",
     "start_time": "2021-04-26T05:54:31.692565Z"
    }
   },
   "outputs": [
    {
     "data": {
      "text/plain": [
       "tconst           0\n",
       "averagerating    0\n",
       "numvotes         0\n",
       "dtype: int64"
      ]
     },
     "execution_count": 284,
     "metadata": {},
     "output_type": "execute_result"
    }
   ],
   "source": [
    "df_imdb_ratings.isna().sum()"
   ]
  },
  {
   "cell_type": "code",
   "execution_count": 324,
   "metadata": {
    "ExecuteTime": {
     "end_time": "2021-04-26T17:19:08.817279Z",
     "start_time": "2021-04-26T17:19:08.809333Z"
    }
   },
   "outputs": [
    {
     "data": {
      "text/html": [
       "<div>\n",
       "<style scoped>\n",
       "    .dataframe tbody tr th:only-of-type {\n",
       "        vertical-align: middle;\n",
       "    }\n",
       "\n",
       "    .dataframe tbody tr th {\n",
       "        vertical-align: top;\n",
       "    }\n",
       "\n",
       "    .dataframe thead th {\n",
       "        text-align: right;\n",
       "    }\n",
       "</style>\n",
       "<table border=\"1\" class=\"dataframe\">\n",
       "  <thead>\n",
       "    <tr style=\"text-align: right;\">\n",
       "      <th></th>\n",
       "      <th>tconst</th>\n",
       "      <th>averagerating</th>\n",
       "      <th>numvotes</th>\n",
       "    </tr>\n",
       "  </thead>\n",
       "  <tbody>\n",
       "    <tr>\n",
       "      <th>0</th>\n",
       "      <td>tt10356526</td>\n",
       "      <td>8.3</td>\n",
       "      <td>31</td>\n",
       "    </tr>\n",
       "    <tr>\n",
       "      <th>1</th>\n",
       "      <td>tt10384606</td>\n",
       "      <td>8.9</td>\n",
       "      <td>559</td>\n",
       "    </tr>\n",
       "    <tr>\n",
       "      <th>2</th>\n",
       "      <td>tt1042974</td>\n",
       "      <td>6.4</td>\n",
       "      <td>20</td>\n",
       "    </tr>\n",
       "    <tr>\n",
       "      <th>3</th>\n",
       "      <td>tt1043726</td>\n",
       "      <td>4.2</td>\n",
       "      <td>50352</td>\n",
       "    </tr>\n",
       "    <tr>\n",
       "      <th>4</th>\n",
       "      <td>tt1060240</td>\n",
       "      <td>6.5</td>\n",
       "      <td>21</td>\n",
       "    </tr>\n",
       "  </tbody>\n",
       "</table>\n",
       "</div>"
      ],
      "text/plain": [
       "       tconst  averagerating  numvotes\n",
       "0  tt10356526            8.3        31\n",
       "1  tt10384606            8.9       559\n",
       "2   tt1042974            6.4        20\n",
       "3   tt1043726            4.2     50352\n",
       "4   tt1060240            6.5        21"
      ]
     },
     "execution_count": 324,
     "metadata": {},
     "output_type": "execute_result"
    }
   ],
   "source": [
    "df_imdb_ratings.head()"
   ]
  },
  {
   "cell_type": "code",
   "execution_count": 104,
   "metadata": {
    "ExecuteTime": {
     "end_time": "2021-04-27T03:11:11.037247Z",
     "start_time": "2021-04-27T03:11:11.028288Z"
    }
   },
   "outputs": [
    {
     "name": "stdout",
     "output_type": "stream",
     "text": [
      "<class 'pandas.core.frame.DataFrame'>\n",
      "Index: 73856 entries, tt10356526 to tt9894098\n",
      "Data columns (total 2 columns):\n",
      " #   Column         Non-Null Count  Dtype  \n",
      "---  ------         --------------  -----  \n",
      " 0   averagerating  73856 non-null  float64\n",
      " 1   numvotes       73856 non-null  int64  \n",
      "dtypes: float64(1), int64(1)\n",
      "memory usage: 1.7+ MB\n"
     ]
    }
   ],
   "source": [
    "df_imdb_ratings.info()"
   ]
  },
  {
   "cell_type": "markdown",
   "metadata": {},
   "source": [
    "<font color=green>Actions</font> All Clean.  No missing data in this lookup table"
   ]
  },
  {
   "cell_type": "markdown",
   "metadata": {},
   "source": [
    "### <font color=\"green\">Clean df_tmb data</font>"
   ]
  },
  {
   "cell_type": "code",
   "execution_count": 325,
   "metadata": {
    "ExecuteTime": {
     "end_time": "2021-04-26T17:20:54.164232Z",
     "start_time": "2021-04-26T17:20:54.159245Z"
    }
   },
   "outputs": [
    {
     "data": {
      "text/plain": [
       "(26517, 10)"
      ]
     },
     "execution_count": 325,
     "metadata": {},
     "output_type": "execute_result"
    }
   ],
   "source": [
    "df_tmb.shape"
   ]
  },
  {
   "cell_type": "code",
   "execution_count": 285,
   "metadata": {
    "ExecuteTime": {
     "end_time": "2021-04-26T05:54:40.057167Z",
     "start_time": "2021-04-26T05:54:40.034205Z"
    }
   },
   "outputs": [
    {
     "data": {
      "text/plain": [
       "Unnamed: 0           0\n",
       "genre_ids            0\n",
       "id                   0\n",
       "original_language    0\n",
       "original_title       0\n",
       "popularity           0\n",
       "release_date         0\n",
       "title                0\n",
       "vote_average         0\n",
       "vote_count           0\n",
       "dtype: int64"
      ]
     },
     "execution_count": 285,
     "metadata": {},
     "output_type": "execute_result"
    }
   ],
   "source": [
    "df_tmb.isna().sum()"
   ]
  },
  {
   "cell_type": "code",
   "execution_count": 103,
   "metadata": {
    "ExecuteTime": {
     "end_time": "2021-04-27T03:08:48.342124Z",
     "start_time": "2021-04-27T03:08:48.328127Z"
    }
   },
   "outputs": [
    {
     "name": "stdout",
     "output_type": "stream",
     "text": [
      "<class 'pandas.core.frame.DataFrame'>\n",
      "Int64Index: 26517 entries, 0 to 26516\n",
      "Data columns (total 9 columns):\n",
      " #   Column             Non-Null Count  Dtype  \n",
      "---  ------             --------------  -----  \n",
      " 0   genre_ids          26517 non-null  object \n",
      " 1   id                 26517 non-null  int64  \n",
      " 2   original_language  26517 non-null  object \n",
      " 3   original_title     26517 non-null  object \n",
      " 4   popularity         26517 non-null  float64\n",
      " 5   release_date       26517 non-null  object \n",
      " 6   title              26517 non-null  object \n",
      " 7   vote_average       26517 non-null  float64\n",
      " 8   vote_count         26517 non-null  int64  \n",
      "dtypes: float64(2), int64(2), object(5)\n",
      "memory usage: 2.0+ MB\n"
     ]
    }
   ],
   "source": [
    "df_tmb.info()"
   ]
  },
  {
   "cell_type": "code",
   "execution_count": 102,
   "metadata": {
    "ExecuteTime": {
     "end_time": "2021-04-27T03:08:20.988723Z",
     "start_time": "2021-04-27T03:08:20.977752Z"
    },
    "scrolled": true
   },
   "outputs": [
    {
     "data": {
      "text/html": [
       "<div>\n",
       "<style scoped>\n",
       "    .dataframe tbody tr th:only-of-type {\n",
       "        vertical-align: middle;\n",
       "    }\n",
       "\n",
       "    .dataframe tbody tr th {\n",
       "        vertical-align: top;\n",
       "    }\n",
       "\n",
       "    .dataframe thead th {\n",
       "        text-align: right;\n",
       "    }\n",
       "</style>\n",
       "<table border=\"1\" class=\"dataframe\">\n",
       "  <thead>\n",
       "    <tr style=\"text-align: right;\">\n",
       "      <th></th>\n",
       "      <th>genre_ids</th>\n",
       "      <th>id</th>\n",
       "      <th>original_language</th>\n",
       "      <th>original_title</th>\n",
       "      <th>popularity</th>\n",
       "      <th>release_date</th>\n",
       "      <th>title</th>\n",
       "      <th>vote_average</th>\n",
       "      <th>vote_count</th>\n",
       "    </tr>\n",
       "  </thead>\n",
       "  <tbody>\n",
       "    <tr>\n",
       "      <th>0</th>\n",
       "      <td>[12, 14, 10751]</td>\n",
       "      <td>12444</td>\n",
       "      <td>en</td>\n",
       "      <td>Harry Potter and the Deathly Hallows: Part 1</td>\n",
       "      <td>33.533</td>\n",
       "      <td>2010-11-19</td>\n",
       "      <td>Harry Potter and the Deathly Hallows: Part 1</td>\n",
       "      <td>7.7</td>\n",
       "      <td>10788</td>\n",
       "    </tr>\n",
       "    <tr>\n",
       "      <th>1</th>\n",
       "      <td>[14, 12, 16, 10751]</td>\n",
       "      <td>10191</td>\n",
       "      <td>en</td>\n",
       "      <td>How to Train Your Dragon</td>\n",
       "      <td>28.734</td>\n",
       "      <td>2010-03-26</td>\n",
       "      <td>How to Train Your Dragon</td>\n",
       "      <td>7.7</td>\n",
       "      <td>7610</td>\n",
       "    </tr>\n",
       "    <tr>\n",
       "      <th>2</th>\n",
       "      <td>[12, 28, 878]</td>\n",
       "      <td>10138</td>\n",
       "      <td>en</td>\n",
       "      <td>Iron Man 2</td>\n",
       "      <td>28.515</td>\n",
       "      <td>2010-05-07</td>\n",
       "      <td>Iron Man 2</td>\n",
       "      <td>6.8</td>\n",
       "      <td>12368</td>\n",
       "    </tr>\n",
       "  </tbody>\n",
       "</table>\n",
       "</div>"
      ],
      "text/plain": [
       "             genre_ids     id original_language  \\\n",
       "0      [12, 14, 10751]  12444                en   \n",
       "1  [14, 12, 16, 10751]  10191                en   \n",
       "2        [12, 28, 878]  10138                en   \n",
       "\n",
       "                                 original_title  popularity release_date  \\\n",
       "0  Harry Potter and the Deathly Hallows: Part 1      33.533   2010-11-19   \n",
       "1                      How to Train Your Dragon      28.734   2010-03-26   \n",
       "2                                    Iron Man 2      28.515   2010-05-07   \n",
       "\n",
       "                                          title  vote_average  vote_count  \n",
       "0  Harry Potter and the Deathly Hallows: Part 1           7.7       10788  \n",
       "1                      How to Train Your Dragon           7.7        7610  \n",
       "2                                    Iron Man 2           6.8       12368  "
      ]
     },
     "execution_count": 102,
     "metadata": {},
     "output_type": "execute_result"
    }
   ],
   "source": [
    "df_tmb.head(3)"
   ]
  },
  {
   "cell_type": "code",
   "execution_count": null,
   "metadata": {
    "ExecuteTime": {
     "end_time": "2021-04-28T00:37:04.060551Z",
     "start_time": "2021-04-28T00:37:04.054566Z"
    }
   },
   "outputs": [],
   "source": []
  },
  {
   "cell_type": "code",
   "execution_count": null,
   "metadata": {},
   "outputs": [],
   "source": []
  },
  {
   "cell_type": "code",
   "execution_count": null,
   "metadata": {},
   "outputs": [],
   "source": []
  },
  {
   "cell_type": "markdown",
   "metadata": {},
   "source": [
    "<font color=green>Actions:</font> Clean Data Note: Convert release date to datetime when using"
   ]
  },
  {
   "cell_type": "markdown",
   "metadata": {},
   "source": [
    "### <font color=\"green\">Clean df_tn_movie_budget data</font>"
   ]
  },
  {
   "cell_type": "code",
   "execution_count": 326,
   "metadata": {
    "ExecuteTime": {
     "end_time": "2021-04-26T17:21:01.063157Z",
     "start_time": "2021-04-26T17:21:01.057173Z"
    }
   },
   "outputs": [
    {
     "data": {
      "text/plain": [
       "(5782, 6)"
      ]
     },
     "execution_count": 326,
     "metadata": {},
     "output_type": "execute_result"
    }
   ],
   "source": [
    "df_tn_movie_budget.shape"
   ]
  },
  {
   "cell_type": "code",
   "execution_count": 286,
   "metadata": {
    "ExecuteTime": {
     "end_time": "2021-04-26T05:54:48.213420Z",
     "start_time": "2021-04-26T05:54:48.203420Z"
    },
    "scrolled": true
   },
   "outputs": [
    {
     "data": {
      "text/plain": [
       "id                   0\n",
       "release_date         0\n",
       "movie                0\n",
       "production_budget    0\n",
       "domestic_gross       0\n",
       "worldwide_gross      0\n",
       "dtype: int64"
      ]
     },
     "execution_count": 286,
     "metadata": {},
     "output_type": "execute_result"
    }
   ],
   "source": [
    "df_tn_movie_budget.isna().sum()"
   ]
  },
  {
   "cell_type": "code",
   "execution_count": 63,
   "metadata": {
    "ExecuteTime": {
     "end_time": "2021-04-27T02:36:11.562187Z",
     "start_time": "2021-04-27T02:36:11.550182Z"
    }
   },
   "outputs": [
    {
     "data": {
      "text/html": [
       "<div>\n",
       "<style scoped>\n",
       "    .dataframe tbody tr th:only-of-type {\n",
       "        vertical-align: middle;\n",
       "    }\n",
       "\n",
       "    .dataframe tbody tr th {\n",
       "        vertical-align: top;\n",
       "    }\n",
       "\n",
       "    .dataframe thead th {\n",
       "        text-align: right;\n",
       "    }\n",
       "</style>\n",
       "<table border=\"1\" class=\"dataframe\">\n",
       "  <thead>\n",
       "    <tr style=\"text-align: right;\">\n",
       "      <th></th>\n",
       "      <th>release_date</th>\n",
       "      <th>movie</th>\n",
       "      <th>production_budget</th>\n",
       "      <th>domestic_gross</th>\n",
       "      <th>worldwide_gross</th>\n",
       "    </tr>\n",
       "    <tr>\n",
       "      <th>id</th>\n",
       "      <th></th>\n",
       "      <th></th>\n",
       "      <th></th>\n",
       "      <th></th>\n",
       "      <th></th>\n",
       "    </tr>\n",
       "  </thead>\n",
       "  <tbody>\n",
       "    <tr>\n",
       "      <th>1</th>\n",
       "      <td>Dec 18, 2009</td>\n",
       "      <td>Avatar</td>\n",
       "      <td>$425,000,000</td>\n",
       "      <td>$760,507,625</td>\n",
       "      <td>$2,776,345,279</td>\n",
       "    </tr>\n",
       "    <tr>\n",
       "      <th>2</th>\n",
       "      <td>May 20, 2011</td>\n",
       "      <td>Pirates of the Caribbean: On Stranger Tides</td>\n",
       "      <td>$410,600,000</td>\n",
       "      <td>$241,063,875</td>\n",
       "      <td>$1,045,663,875</td>\n",
       "    </tr>\n",
       "    <tr>\n",
       "      <th>3</th>\n",
       "      <td>Jun 7, 2019</td>\n",
       "      <td>Dark Phoenix</td>\n",
       "      <td>$350,000,000</td>\n",
       "      <td>$42,762,350</td>\n",
       "      <td>$149,762,350</td>\n",
       "    </tr>\n",
       "  </tbody>\n",
       "</table>\n",
       "</div>"
      ],
      "text/plain": [
       "    release_date                                        movie  \\\n",
       "id                                                              \n",
       "1   Dec 18, 2009                                       Avatar   \n",
       "2   May 20, 2011  Pirates of the Caribbean: On Stranger Tides   \n",
       "3    Jun 7, 2019                                 Dark Phoenix   \n",
       "\n",
       "   production_budget domestic_gross worldwide_gross  \n",
       "id                                                   \n",
       "1       $425,000,000   $760,507,625  $2,776,345,279  \n",
       "2       $410,600,000   $241,063,875  $1,045,663,875  \n",
       "3       $350,000,000    $42,762,350    $149,762,350  "
      ]
     },
     "execution_count": 63,
     "metadata": {},
     "output_type": "execute_result"
    }
   ],
   "source": [
    "df_tn_movie_budget.head(3)"
   ]
  },
  {
   "cell_type": "code",
   "execution_count": 62,
   "metadata": {
    "ExecuteTime": {
     "end_time": "2021-04-27T02:27:02.630103Z",
     "start_time": "2021-04-27T02:27:02.608130Z"
    }
   },
   "outputs": [
    {
     "name": "stdout",
     "output_type": "stream",
     "text": [
      "release_date\n",
      "Dec 31, 2014    0.004151\n",
      "Dec 31, 2015    0.003978\n",
      "Dec 31, 2010    0.002594\n",
      "Dec 31, 2008    0.002421\n",
      "Dec 31, 2012    0.002248\n",
      "Name: release_date, dtype: float64\n",
      "===================================\n",
      "movie\n",
      "Home         0.000519\n",
      "King Kong    0.000519\n",
      "Halloween    0.000519\n",
      "Life         0.000346\n",
      "Serenity     0.000346\n",
      "Name: movie, dtype: float64\n",
      "===================================\n",
      "production_budget\n",
      "$20,000,000    0.039952\n",
      "$10,000,000    0.036666\n",
      "$30,000,000    0.030612\n",
      "$15,000,000    0.029920\n",
      "$25,000,000    0.029575\n",
      "Name: production_budget, dtype: float64\n",
      "===================================\n",
      "domestic_gross\n",
      "$0             0.094777\n",
      "$8,000,000     0.001557\n",
      "$7,000,000     0.001211\n",
      "$2,000,000     0.001211\n",
      "$10,000,000    0.001038\n",
      "Name: domestic_gross, dtype: float64\n",
      "===================================\n",
      "worldwide_gross\n",
      "$0            0.063473\n",
      "$8,000,000    0.001557\n",
      "$7,000,000    0.001038\n",
      "$2,000,000    0.001038\n",
      "$9,000,000    0.000692\n",
      "Name: worldwide_gross, dtype: float64\n",
      "===================================\n"
     ]
    }
   ],
   "source": [
    "for col in df_tn_movie_budget:\n",
    "    print(col)\n",
    "    print(df_tn_movie_budget[col].value_counts(normalize = True)[:5])\n",
    "    print(\"===================================\")"
   ]
  },
  {
   "cell_type": "markdown",
   "metadata": {
    "ExecuteTime": {
     "end_time": "2021-04-25T21:41:59.038386Z",
     "start_time": "2021-04-25T21:41:54.396Z"
    }
   },
   "source": [
    "Domectic gross has 9.4 % of zero values.  Similiar to worldwide gross.  \n",
    "\n",
    "Will need to address."
   ]
  },
  {
   "cell_type": "markdown",
   "metadata": {},
   "source": [
    "look at budget data in bom, rott, tn\n",
    "df_tn_movie_budget[df_tn_movie_budget['domestic_gross'] > 500000000.0]"
   ]
  },
  {
   "cell_type": "code",
   "execution_count": 98,
   "metadata": {
    "ExecuteTime": {
     "end_time": "2021-04-27T03:01:41.723213Z",
     "start_time": "2021-04-27T03:01:41.718261Z"
    }
   },
   "outputs": [],
   "source": [
    "#Convert the object columns to ints where we can manipulate mathematically\n",
    "#money string to ints\n",
    "def money_to_float(df,col):\n",
    "    df[col] = df[col].astype(str).str.replace(\"$\", \"\").str.replace(\",\", \"\").astype('float')\n",
    "    return df"
   ]
  },
  {
   "cell_type": "code",
   "execution_count": 99,
   "metadata": {
    "ExecuteTime": {
     "end_time": "2021-04-27T03:01:47.740926Z",
     "start_time": "2021-04-27T03:01:47.713994Z"
    }
   },
   "outputs": [],
   "source": [
    "money_cols = ['production_budget','domestic_gross', 'worldwide_gross']\n",
    "\n",
    "for col in money_cols:\n",
    "    df_tn_movie_budget = money_to_float(df_tn_movie_budget,col)"
   ]
  },
  {
   "cell_type": "code",
   "execution_count": 171,
   "metadata": {
    "ExecuteTime": {
     "end_time": "2021-04-27T04:42:49.114313Z",
     "start_time": "2021-04-27T04:42:49.105335Z"
    }
   },
   "outputs": [
    {
     "data": {
      "text/html": [
       "<div>\n",
       "<style scoped>\n",
       "    .dataframe tbody tr th:only-of-type {\n",
       "        vertical-align: middle;\n",
       "    }\n",
       "\n",
       "    .dataframe tbody tr th {\n",
       "        vertical-align: top;\n",
       "    }\n",
       "\n",
       "    .dataframe thead th {\n",
       "        text-align: right;\n",
       "    }\n",
       "</style>\n",
       "<table border=\"1\" class=\"dataframe\">\n",
       "  <thead>\n",
       "    <tr style=\"text-align: right;\">\n",
       "      <th></th>\n",
       "      <th>release_date</th>\n",
       "      <th>movie</th>\n",
       "      <th>production_budget</th>\n",
       "      <th>domestic_gross</th>\n",
       "      <th>worldwide_gross</th>\n",
       "    </tr>\n",
       "    <tr>\n",
       "      <th>id</th>\n",
       "      <th></th>\n",
       "      <th></th>\n",
       "      <th></th>\n",
       "      <th></th>\n",
       "      <th></th>\n",
       "    </tr>\n",
       "  </thead>\n",
       "  <tbody>\n",
       "    <tr>\n",
       "      <th>1</th>\n",
       "      <td>Dec 18, 2009</td>\n",
       "      <td>Avatar</td>\n",
       "      <td>425000000.0</td>\n",
       "      <td>760507625.0</td>\n",
       "      <td>2.776345e+09</td>\n",
       "    </tr>\n",
       "    <tr>\n",
       "      <th>2</th>\n",
       "      <td>May 20, 2011</td>\n",
       "      <td>Pirates of the Caribbean: On Stranger Tides</td>\n",
       "      <td>410600000.0</td>\n",
       "      <td>241063875.0</td>\n",
       "      <td>1.045664e+09</td>\n",
       "    </tr>\n",
       "    <tr>\n",
       "      <th>3</th>\n",
       "      <td>Jun 7, 2019</td>\n",
       "      <td>Dark Phoenix</td>\n",
       "      <td>350000000.0</td>\n",
       "      <td>42762350.0</td>\n",
       "      <td>1.497624e+08</td>\n",
       "    </tr>\n",
       "  </tbody>\n",
       "</table>\n",
       "</div>"
      ],
      "text/plain": [
       "    release_date                                        movie  \\\n",
       "id                                                              \n",
       "1   Dec 18, 2009                                       Avatar   \n",
       "2   May 20, 2011  Pirates of the Caribbean: On Stranger Tides   \n",
       "3    Jun 7, 2019                                 Dark Phoenix   \n",
       "\n",
       "    production_budget  domestic_gross  worldwide_gross  \n",
       "id                                                      \n",
       "1         425000000.0     760507625.0     2.776345e+09  \n",
       "2         410600000.0     241063875.0     1.045664e+09  \n",
       "3         350000000.0      42762350.0     1.497624e+08  "
      ]
     },
     "execution_count": 171,
     "metadata": {},
     "output_type": "execute_result"
    }
   ],
   "source": [
    "df_tn_movie_budget.head(3)"
   ]
  },
  {
   "cell_type": "code",
   "execution_count": 101,
   "metadata": {
    "ExecuteTime": {
     "end_time": "2021-04-27T03:01:58.844619Z",
     "start_time": "2021-04-27T03:01:58.835678Z"
    }
   },
   "outputs": [
    {
     "name": "stdout",
     "output_type": "stream",
     "text": [
      "<class 'pandas.core.frame.DataFrame'>\n",
      "Int64Index: 5782 entries, 1 to 82\n",
      "Data columns (total 5 columns):\n",
      " #   Column             Non-Null Count  Dtype  \n",
      "---  ------             --------------  -----  \n",
      " 0   release_date       5782 non-null   object \n",
      " 1   movie              5782 non-null   object \n",
      " 2   production_budget  5782 non-null   float64\n",
      " 3   domestic_gross     5782 non-null   float64\n",
      " 4   worldwide_gross    5782 non-null   float64\n",
      "dtypes: float64(3), object(2)\n",
      "memory usage: 271.0+ KB\n"
     ]
    }
   ],
   "source": [
    "df_tn_movie_budget.info()"
   ]
  },
  {
   "cell_type": "markdown",
   "metadata": {},
   "source": [
    "<font color=green>Actions</font> Converted string currrency to float values. Convert release date to datetime when using"
   ]
  },
  {
   "cell_type": "code",
   "execution_count": null,
   "metadata": {},
   "outputs": [],
   "source": []
  },
  {
   "cell_type": "code",
   "execution_count": null,
   "metadata": {},
   "outputs": [],
   "source": []
  },
  {
   "cell_type": "markdown",
   "metadata": {},
   "source": [
    "## Data Exploration"
   ]
  },
  {
   "cell_type": "markdown",
   "metadata": {},
   "source": [
    "### Best Return on Investment of Medium budget movies\n",
    "In industry terms there are four types of production level movies.\n",
    "1. High Budget: Production budget(PB) is greater than $80 Million\n",
    "2. Medium Budget: PB is between $2 Million to $80 Million\n",
    "3. Low Bugdet: PB is between $10K and $2 Million  \n",
    "4. Micro Budget: PB is under 10K  \n",
    "Microscoft would not want to take a chance on high budget so we will look at returns on movies below $65 Million(average)"
   ]
  },
  {
   "cell_type": "markdown",
   "metadata": {},
   "source": [
    "Lets look at the df_tn_movie_budget data"
   ]
  },
  {
   "cell_type": "code",
   "execution_count": 259,
   "metadata": {
    "ExecuteTime": {
     "end_time": "2021-04-28T01:08:19.829067Z",
     "start_time": "2021-04-28T01:08:19.817099Z"
    }
   },
   "outputs": [
    {
     "data": {
      "text/html": [
       "<div>\n",
       "<style scoped>\n",
       "    .dataframe tbody tr th:only-of-type {\n",
       "        vertical-align: middle;\n",
       "    }\n",
       "\n",
       "    .dataframe tbody tr th {\n",
       "        vertical-align: top;\n",
       "    }\n",
       "\n",
       "    .dataframe thead th {\n",
       "        text-align: right;\n",
       "    }\n",
       "</style>\n",
       "<table border=\"1\" class=\"dataframe\">\n",
       "  <thead>\n",
       "    <tr style=\"text-align: right;\">\n",
       "      <th></th>\n",
       "      <th>release_date</th>\n",
       "      <th>movie</th>\n",
       "      <th>production_budget</th>\n",
       "      <th>domestic_gross</th>\n",
       "      <th>worldwide_gross</th>\n",
       "    </tr>\n",
       "    <tr>\n",
       "      <th>id</th>\n",
       "      <th></th>\n",
       "      <th></th>\n",
       "      <th></th>\n",
       "      <th></th>\n",
       "      <th></th>\n",
       "    </tr>\n",
       "  </thead>\n",
       "  <tbody>\n",
       "    <tr>\n",
       "      <th>1</th>\n",
       "      <td>Dec 18, 2009</td>\n",
       "      <td>Avatar</td>\n",
       "      <td>425000000.0</td>\n",
       "      <td>760507625.0</td>\n",
       "      <td>2.776345e+09</td>\n",
       "    </tr>\n",
       "    <tr>\n",
       "      <th>2</th>\n",
       "      <td>May 20, 2011</td>\n",
       "      <td>Pirates of the Caribbean: On Stranger Tides</td>\n",
       "      <td>410600000.0</td>\n",
       "      <td>241063875.0</td>\n",
       "      <td>1.045664e+09</td>\n",
       "    </tr>\n",
       "    <tr>\n",
       "      <th>3</th>\n",
       "      <td>Jun 7, 2019</td>\n",
       "      <td>Dark Phoenix</td>\n",
       "      <td>350000000.0</td>\n",
       "      <td>42762350.0</td>\n",
       "      <td>1.497624e+08</td>\n",
       "    </tr>\n",
       "    <tr>\n",
       "      <th>4</th>\n",
       "      <td>May 1, 2015</td>\n",
       "      <td>Avengers: Age of Ultron</td>\n",
       "      <td>330600000.0</td>\n",
       "      <td>459005868.0</td>\n",
       "      <td>1.403014e+09</td>\n",
       "    </tr>\n",
       "    <tr>\n",
       "      <th>5</th>\n",
       "      <td>Dec 15, 2017</td>\n",
       "      <td>Star Wars Ep. VIII: The Last Jedi</td>\n",
       "      <td>317000000.0</td>\n",
       "      <td>620181382.0</td>\n",
       "      <td>1.316722e+09</td>\n",
       "    </tr>\n",
       "  </tbody>\n",
       "</table>\n",
       "</div>"
      ],
      "text/plain": [
       "    release_date                                        movie  \\\n",
       "id                                                              \n",
       "1   Dec 18, 2009                                       Avatar   \n",
       "2   May 20, 2011  Pirates of the Caribbean: On Stranger Tides   \n",
       "3    Jun 7, 2019                                 Dark Phoenix   \n",
       "4    May 1, 2015                      Avengers: Age of Ultron   \n",
       "5   Dec 15, 2017            Star Wars Ep. VIII: The Last Jedi   \n",
       "\n",
       "    production_budget  domestic_gross  worldwide_gross  \n",
       "id                                                      \n",
       "1         425000000.0     760507625.0     2.776345e+09  \n",
       "2         410600000.0     241063875.0     1.045664e+09  \n",
       "3         350000000.0      42762350.0     1.497624e+08  \n",
       "4         330600000.0     459005868.0     1.403014e+09  \n",
       "5         317000000.0     620181382.0     1.316722e+09  "
      ]
     },
     "execution_count": 259,
     "metadata": {},
     "output_type": "execute_result"
    }
   ],
   "source": [
    "df_tn_movie_budget.head()"
   ]
  },
  {
   "cell_type": "markdown",
   "metadata": {},
   "source": [
    "Lets create difference between worldwide gross and prod budget \n",
    "profit = returned - investment \n",
    "profit_over_pb = worldwide_gross - production_budget\n",
    "\n",
    "and also percent returned for movies with budgets below $65Mill\n",
    " ROI = Net Profit / Cost of the investment * 100\n",
    " roi= profit_over_pb / production_budget *100"
   ]
  },
  {
   "cell_type": "code",
   "execution_count": 262,
   "metadata": {
    "ExecuteTime": {
     "end_time": "2021-04-28T01:13:31.639422Z",
     "start_time": "2021-04-28T01:13:31.634434Z"
    }
   },
   "outputs": [],
   "source": [
    "df_tn_movie_budget['profit_over_pb'] = df_tn_movie_budget['worldwide_gross'] - \\\n",
    "df_tn_movie_budget['production_budget']"
   ]
  },
  {
   "cell_type": "code",
   "execution_count": 280,
   "metadata": {
    "ExecuteTime": {
     "end_time": "2021-04-28T01:32:06.001815Z",
     "start_time": "2021-04-28T01:32:05.996825Z"
    }
   },
   "outputs": [],
   "source": [
    "df_tn_movie_budget['roi'] = round((df_tn_movie_budget['profit_over_pb'] / \\\n",
    "df_tn_movie_budget['production_budget'])*100,1)"
   ]
  },
  {
   "cell_type": "code",
   "execution_count": 284,
   "metadata": {
    "ExecuteTime": {
     "end_time": "2021-04-28T01:35:23.460144Z",
     "start_time": "2021-04-28T01:35:23.434212Z"
    }
   },
   "outputs": [
    {
     "data": {
      "text/html": [
       "<div>\n",
       "<style scoped>\n",
       "    .dataframe tbody tr th:only-of-type {\n",
       "        vertical-align: middle;\n",
       "    }\n",
       "\n",
       "    .dataframe tbody tr th {\n",
       "        vertical-align: top;\n",
       "    }\n",
       "\n",
       "    .dataframe thead th {\n",
       "        text-align: right;\n",
       "    }\n",
       "</style>\n",
       "<table border=\"1\" class=\"dataframe\">\n",
       "  <thead>\n",
       "    <tr style=\"text-align: right;\">\n",
       "      <th></th>\n",
       "      <th>release_date</th>\n",
       "      <th>movie</th>\n",
       "      <th>production_budget</th>\n",
       "      <th>domestic_gross</th>\n",
       "      <th>worldwide_gross</th>\n",
       "      <th>profit_over_pb</th>\n",
       "      <th>roi</th>\n",
       "    </tr>\n",
       "    <tr>\n",
       "      <th>id</th>\n",
       "      <th></th>\n",
       "      <th></th>\n",
       "      <th></th>\n",
       "      <th></th>\n",
       "      <th></th>\n",
       "      <th></th>\n",
       "      <th></th>\n",
       "    </tr>\n",
       "  </thead>\n",
       "  <tbody>\n",
       "    <tr>\n",
       "      <th>46</th>\n",
       "      <td>Jun 30, 1972</td>\n",
       "      <td>Deep Throat</td>\n",
       "      <td>25000.0</td>\n",
       "      <td>45000000.0</td>\n",
       "      <td>45000000.0</td>\n",
       "      <td>44975000.0</td>\n",
       "      <td>179900.0</td>\n",
       "    </tr>\n",
       "    <tr>\n",
       "      <th>14</th>\n",
       "      <td>Mar 21, 1980</td>\n",
       "      <td>Mad Max</td>\n",
       "      <td>200000.0</td>\n",
       "      <td>8750000.0</td>\n",
       "      <td>99750000.0</td>\n",
       "      <td>99550000.0</td>\n",
       "      <td>49775.0</td>\n",
       "    </tr>\n",
       "    <tr>\n",
       "      <th>93</th>\n",
       "      <td>Sep 25, 2009</td>\n",
       "      <td>Paranormal Activity</td>\n",
       "      <td>450000.0</td>\n",
       "      <td>107918810.0</td>\n",
       "      <td>194183034.0</td>\n",
       "      <td>193733034.0</td>\n",
       "      <td>43051.8</td>\n",
       "    </tr>\n",
       "    <tr>\n",
       "      <th>80</th>\n",
       "      <td>Jul 10, 2015</td>\n",
       "      <td>The Gallows</td>\n",
       "      <td>100000.0</td>\n",
       "      <td>22764410.0</td>\n",
       "      <td>41656474.0</td>\n",
       "      <td>41556474.0</td>\n",
       "      <td>41556.5</td>\n",
       "    </tr>\n",
       "    <tr>\n",
       "      <th>7</th>\n",
       "      <td>Jul 14, 1999</td>\n",
       "      <td>The Blair Witch Project</td>\n",
       "      <td>600000.0</td>\n",
       "      <td>140539099.0</td>\n",
       "      <td>248300000.0</td>\n",
       "      <td>247700000.0</td>\n",
       "      <td>41283.3</td>\n",
       "    </tr>\n",
       "    <tr>\n",
       "      <th>10</th>\n",
       "      <td>May 7, 2004</td>\n",
       "      <td>Super Size Me</td>\n",
       "      <td>65000.0</td>\n",
       "      <td>11529368.0</td>\n",
       "      <td>22233808.0</td>\n",
       "      <td>22168808.0</td>\n",
       "      <td>34105.9</td>\n",
       "    </tr>\n",
       "    <tr>\n",
       "      <th>47</th>\n",
       "      <td>Aug 13, 1942</td>\n",
       "      <td>Bambi</td>\n",
       "      <td>858000.0</td>\n",
       "      <td>102797000.0</td>\n",
       "      <td>268000000.0</td>\n",
       "      <td>267142000.0</td>\n",
       "      <td>31135.4</td>\n",
       "    </tr>\n",
       "    <tr>\n",
       "      <th>74</th>\n",
       "      <td>Feb 26, 1993</td>\n",
       "      <td>El Mariachi</td>\n",
       "      <td>7000.0</td>\n",
       "      <td>2040920.0</td>\n",
       "      <td>2041928.0</td>\n",
       "      <td>2034928.0</td>\n",
       "      <td>29070.4</td>\n",
       "    </tr>\n",
       "    <tr>\n",
       "      <th>77</th>\n",
       "      <td>Oct 1, 1968</td>\n",
       "      <td>Night of the Living Dead</td>\n",
       "      <td>114000.0</td>\n",
       "      <td>12087064.0</td>\n",
       "      <td>30087064.0</td>\n",
       "      <td>29973064.0</td>\n",
       "      <td>26292.2</td>\n",
       "    </tr>\n",
       "    <tr>\n",
       "      <th>11</th>\n",
       "      <td>Nov 21, 1976</td>\n",
       "      <td>Rocky</td>\n",
       "      <td>1000000.0</td>\n",
       "      <td>117235147.0</td>\n",
       "      <td>225000000.0</td>\n",
       "      <td>224000000.0</td>\n",
       "      <td>22400.0</td>\n",
       "    </tr>\n",
       "    <tr>\n",
       "      <th>37</th>\n",
       "      <td>Oct 17, 1978</td>\n",
       "      <td>Halloween</td>\n",
       "      <td>325000.0</td>\n",
       "      <td>47000000.0</td>\n",
       "      <td>70000000.0</td>\n",
       "      <td>69675000.0</td>\n",
       "      <td>21438.5</td>\n",
       "    </tr>\n",
       "    <tr>\n",
       "      <th>16</th>\n",
       "      <td>Aug 9, 1995</td>\n",
       "      <td>The Brothers McMullen</td>\n",
       "      <td>50000.0</td>\n",
       "      <td>10426506.0</td>\n",
       "      <td>10426506.0</td>\n",
       "      <td>10376506.0</td>\n",
       "      <td>20753.0</td>\n",
       "    </tr>\n",
       "    <tr>\n",
       "      <th>66</th>\n",
       "      <td>Oct 18, 1974</td>\n",
       "      <td>The Texas Chainsaw Massacre</td>\n",
       "      <td>140000.0</td>\n",
       "      <td>26572439.0</td>\n",
       "      <td>26572439.0</td>\n",
       "      <td>26432439.0</td>\n",
       "      <td>18880.3</td>\n",
       "    </tr>\n",
       "    <tr>\n",
       "      <th>73</th>\n",
       "      <td>Aug 11, 1973</td>\n",
       "      <td>American Graffiti</td>\n",
       "      <td>777000.0</td>\n",
       "      <td>115000000.0</td>\n",
       "      <td>140000000.0</td>\n",
       "      <td>139223000.0</td>\n",
       "      <td>17918.0</td>\n",
       "    </tr>\n",
       "    <tr>\n",
       "      <th>82</th>\n",
       "      <td>Aug 5, 2005</td>\n",
       "      <td>My Date With Drew</td>\n",
       "      <td>1100.0</td>\n",
       "      <td>181041.0</td>\n",
       "      <td>181041.0</td>\n",
       "      <td>179941.0</td>\n",
       "      <td>16358.3</td>\n",
       "    </tr>\n",
       "    <tr>\n",
       "      <th>57</th>\n",
       "      <td>May 16, 2007</td>\n",
       "      <td>Once</td>\n",
       "      <td>150000.0</td>\n",
       "      <td>9445857.0</td>\n",
       "      <td>23323631.0</td>\n",
       "      <td>23173631.0</td>\n",
       "      <td>15449.1</td>\n",
       "    </tr>\n",
       "    <tr>\n",
       "      <th>43</th>\n",
       "      <td>Oct 19, 1994</td>\n",
       "      <td>Clerks</td>\n",
       "      <td>27000.0</td>\n",
       "      <td>3073428.0</td>\n",
       "      <td>3894240.0</td>\n",
       "      <td>3867240.0</td>\n",
       "      <td>14323.1</td>\n",
       "    </tr>\n",
       "    <tr>\n",
       "      <th>13</th>\n",
       "      <td>Jul 25, 1969</td>\n",
       "      <td>The Stewardesses</td>\n",
       "      <td>200000.0</td>\n",
       "      <td>13500000.0</td>\n",
       "      <td>25000000.0</td>\n",
       "      <td>24800000.0</td>\n",
       "      <td>12400.0</td>\n",
       "    </tr>\n",
       "    <tr>\n",
       "      <th>18</th>\n",
       "      <td>Dec 21, 1937</td>\n",
       "      <td>Snow White and the Seven Dwarfs</td>\n",
       "      <td>1488000.0</td>\n",
       "      <td>184925486.0</td>\n",
       "      <td>184925486.0</td>\n",
       "      <td>183437486.0</td>\n",
       "      <td>12327.8</td>\n",
       "    </tr>\n",
       "    <tr>\n",
       "      <th>58</th>\n",
       "      <td>Jan 1, 1971</td>\n",
       "      <td>Billy Jack</td>\n",
       "      <td>800000.0</td>\n",
       "      <td>98000000.0</td>\n",
       "      <td>98000000.0</td>\n",
       "      <td>97200000.0</td>\n",
       "      <td>12150.0</td>\n",
       "    </tr>\n",
       "    <tr>\n",
       "      <th>75</th>\n",
       "      <td>Oct 8, 2004</td>\n",
       "      <td>Primer</td>\n",
       "      <td>7000.0</td>\n",
       "      <td>424760.0</td>\n",
       "      <td>841926.0</td>\n",
       "      <td>834926.0</td>\n",
       "      <td>11927.5</td>\n",
       "    </tr>\n",
       "    <tr>\n",
       "      <th>47</th>\n",
       "      <td>Aug 1, 1997</td>\n",
       "      <td>In the Company of Men</td>\n",
       "      <td>25000.0</td>\n",
       "      <td>2883661.0</td>\n",
       "      <td>2883661.0</td>\n",
       "      <td>2858661.0</td>\n",
       "      <td>11434.6</td>\n",
       "    </tr>\n",
       "    <tr>\n",
       "      <th>8</th>\n",
       "      <td>Jun 11, 2004</td>\n",
       "      <td>Napoleon Dynamite</td>\n",
       "      <td>400000.0</td>\n",
       "      <td>44540956.0</td>\n",
       "      <td>46122713.0</td>\n",
       "      <td>45722713.0</td>\n",
       "      <td>11430.7</td>\n",
       "    </tr>\n",
       "    <tr>\n",
       "      <th>31</th>\n",
       "      <td>Aug 6, 2004</td>\n",
       "      <td>Open Water</td>\n",
       "      <td>500000.0</td>\n",
       "      <td>30500882.0</td>\n",
       "      <td>55518641.0</td>\n",
       "      <td>55018641.0</td>\n",
       "      <td>11003.7</td>\n",
       "    </tr>\n",
       "    <tr>\n",
       "      <th>25</th>\n",
       "      <td>May 9, 1980</td>\n",
       "      <td>Friday the 13th</td>\n",
       "      <td>550000.0</td>\n",
       "      <td>39754601.0</td>\n",
       "      <td>59754601.0</td>\n",
       "      <td>59204601.0</td>\n",
       "      <td>10764.5</td>\n",
       "    </tr>\n",
       "    <tr>\n",
       "      <th>81</th>\n",
       "      <td>Sep 29, 2006</td>\n",
       "      <td>Facing the Giants</td>\n",
       "      <td>100000.0</td>\n",
       "      <td>10178331.0</td>\n",
       "      <td>10243159.0</td>\n",
       "      <td>10143159.0</td>\n",
       "      <td>10143.2</td>\n",
       "    </tr>\n",
       "    <tr>\n",
       "      <th>12</th>\n",
       "      <td>Jan 6, 2012</td>\n",
       "      <td>The Devil Inside</td>\n",
       "      <td>1000000.0</td>\n",
       "      <td>53262945.0</td>\n",
       "      <td>101759490.0</td>\n",
       "      <td>100759490.0</td>\n",
       "      <td>10075.9</td>\n",
       "    </tr>\n",
       "    <tr>\n",
       "      <th>56</th>\n",
       "      <td>Jan 1, 1971</td>\n",
       "      <td>Sweet Sweetback's Baad Asssss Song</td>\n",
       "      <td>150000.0</td>\n",
       "      <td>15200000.0</td>\n",
       "      <td>15200000.0</td>\n",
       "      <td>15050000.0</td>\n",
       "      <td>10033.3</td>\n",
       "    </tr>\n",
       "    <tr>\n",
       "      <th>68</th>\n",
       "      <td>Dec 15, 1939</td>\n",
       "      <td>Gone with the Wind</td>\n",
       "      <td>3900000.0</td>\n",
       "      <td>198680470.0</td>\n",
       "      <td>390525192.0</td>\n",
       "      <td>386625192.0</td>\n",
       "      <td>9913.5</td>\n",
       "    </tr>\n",
       "    <tr>\n",
       "      <th>78</th>\n",
       "      <td>Feb 8, 1915</td>\n",
       "      <td>The Birth of a Nation</td>\n",
       "      <td>110000.0</td>\n",
       "      <td>10000000.0</td>\n",
       "      <td>11000000.0</td>\n",
       "      <td>10890000.0</td>\n",
       "      <td>9900.0</td>\n",
       "    </tr>\n",
       "    <tr>\n",
       "      <th>69</th>\n",
       "      <td>May 1, 1981</td>\n",
       "      <td>Graduation Day</td>\n",
       "      <td>250000.0</td>\n",
       "      <td>23894000.0</td>\n",
       "      <td>23894000.0</td>\n",
       "      <td>23644000.0</td>\n",
       "      <td>9457.6</td>\n",
       "    </tr>\n",
       "    <tr>\n",
       "      <th>76</th>\n",
       "      <td>Feb 15, 1950</td>\n",
       "      <td>Cinderella</td>\n",
       "      <td>2900000.0</td>\n",
       "      <td>85000000.0</td>\n",
       "      <td>263591415.0</td>\n",
       "      <td>260691415.0</td>\n",
       "      <td>8989.4</td>\n",
       "    </tr>\n",
       "    <tr>\n",
       "      <th>7</th>\n",
       "      <td>Nov 19, 1925</td>\n",
       "      <td>The Big Parade</td>\n",
       "      <td>245000.0</td>\n",
       "      <td>11000000.0</td>\n",
       "      <td>22000000.0</td>\n",
       "      <td>21755000.0</td>\n",
       "      <td>8879.6</td>\n",
       "    </tr>\n",
       "    <tr>\n",
       "      <th>60</th>\n",
       "      <td>Apr 23, 2009</td>\n",
       "      <td>Home</td>\n",
       "      <td>500000.0</td>\n",
       "      <td>15433.0</td>\n",
       "      <td>44793168.0</td>\n",
       "      <td>44293168.0</td>\n",
       "      <td>8858.6</td>\n",
       "    </tr>\n",
       "    <tr>\n",
       "      <th>57</th>\n",
       "      <td>Oct 29, 2004</td>\n",
       "      <td>Saw</td>\n",
       "      <td>1200000.0</td>\n",
       "      <td>55968727.0</td>\n",
       "      <td>103880027.0</td>\n",
       "      <td>102680027.0</td>\n",
       "      <td>8556.7</td>\n",
       "    </tr>\n",
       "    <tr>\n",
       "      <th>26</th>\n",
       "      <td>Apr 15, 1983</td>\n",
       "      <td>The Evil Dead</td>\n",
       "      <td>375000.0</td>\n",
       "      <td>2400000.0</td>\n",
       "      <td>29400000.0</td>\n",
       "      <td>29025000.0</td>\n",
       "      <td>7740.0</td>\n",
       "    </tr>\n",
       "    <tr>\n",
       "      <th>26</th>\n",
       "      <td>Jun 11, 1982</td>\n",
       "      <td>ET: The Extra-Terrestrial</td>\n",
       "      <td>10500000.0</td>\n",
       "      <td>435110554.0</td>\n",
       "      <td>792965326.0</td>\n",
       "      <td>782465326.0</td>\n",
       "      <td>7452.1</td>\n",
       "    </tr>\n",
       "    <tr>\n",
       "      <th>48</th>\n",
       "      <td>Apr 19, 2002</td>\n",
       "      <td>My Big Fat Greek Wedding</td>\n",
       "      <td>5000000.0</td>\n",
       "      <td>241438208.0</td>\n",
       "      <td>374890034.0</td>\n",
       "      <td>369890034.0</td>\n",
       "      <td>7397.8</td>\n",
       "    </tr>\n",
       "    <tr>\n",
       "      <th>90</th>\n",
       "      <td>Aug 13, 1997</td>\n",
       "      <td>The Full Monty</td>\n",
       "      <td>3500000.0</td>\n",
       "      <td>45950122.0</td>\n",
       "      <td>261249383.0</td>\n",
       "      <td>257749383.0</td>\n",
       "      <td>7364.3</td>\n",
       "    </tr>\n",
       "    <tr>\n",
       "      <th>65</th>\n",
       "      <td>May 25, 1977</td>\n",
       "      <td>Star Wars Ep. IV: A New Hope</td>\n",
       "      <td>11000000.0</td>\n",
       "      <td>460998007.0</td>\n",
       "      <td>786598007.0</td>\n",
       "      <td>775598007.0</td>\n",
       "      <td>7050.9</td>\n",
       "    </tr>\n",
       "    <tr>\n",
       "      <th>82</th>\n",
       "      <td>Jan 1, 1977</td>\n",
       "      <td>Eraserhead</td>\n",
       "      <td>100000.0</td>\n",
       "      <td>7000000.0</td>\n",
       "      <td>7014590.0</td>\n",
       "      <td>6914590.0</td>\n",
       "      <td>6914.6</td>\n",
       "    </tr>\n",
       "    <tr>\n",
       "      <th>7</th>\n",
       "      <td>Jul 10, 1998</td>\n",
       "      <td>Pi</td>\n",
       "      <td>68000.0</td>\n",
       "      <td>3221152.0</td>\n",
       "      <td>4678513.0</td>\n",
       "      <td>4610513.0</td>\n",
       "      <td>6780.2</td>\n",
       "    </tr>\n",
       "    <tr>\n",
       "      <th>66</th>\n",
       "      <td>Mar 9, 2001</td>\n",
       "      <td>Dayereh</td>\n",
       "      <td>10000.0</td>\n",
       "      <td>673780.0</td>\n",
       "      <td>673780.0</td>\n",
       "      <td>663780.0</td>\n",
       "      <td>6637.8</td>\n",
       "    </tr>\n",
       "    <tr>\n",
       "      <th>29</th>\n",
       "      <td>Sep 26, 2008</td>\n",
       "      <td>Fireproof</td>\n",
       "      <td>500000.0</td>\n",
       "      <td>33456317.0</td>\n",
       "      <td>33473297.0</td>\n",
       "      <td>32973297.0</td>\n",
       "      <td>6594.7</td>\n",
       "    </tr>\n",
       "    <tr>\n",
       "      <th>63</th>\n",
       "      <td>Apr 1, 2011</td>\n",
       "      <td>Insidious</td>\n",
       "      <td>1500000.0</td>\n",
       "      <td>54009150.0</td>\n",
       "      <td>99870886.0</td>\n",
       "      <td>98370886.0</td>\n",
       "      <td>6558.1</td>\n",
       "    </tr>\n",
       "    <tr>\n",
       "      <th>13</th>\n",
       "      <td>Jun 16, 1978</td>\n",
       "      <td>Grease</td>\n",
       "      <td>6000000.0</td>\n",
       "      <td>181813770.0</td>\n",
       "      <td>387510179.0</td>\n",
       "      <td>381510179.0</td>\n",
       "      <td>6358.5</td>\n",
       "    </tr>\n",
       "    <tr>\n",
       "      <th>14</th>\n",
       "      <td>Apr 17, 2015</td>\n",
       "      <td>Unfriended</td>\n",
       "      <td>1000000.0</td>\n",
       "      <td>32789645.0</td>\n",
       "      <td>64364198.0</td>\n",
       "      <td>63364198.0</td>\n",
       "      <td>6336.4</td>\n",
       "    </tr>\n",
       "    <tr>\n",
       "      <th>30</th>\n",
       "      <td>Nov 15, 1974</td>\n",
       "      <td>Benji</td>\n",
       "      <td>500000.0</td>\n",
       "      <td>31559560.0</td>\n",
       "      <td>31559560.0</td>\n",
       "      <td>31059560.0</td>\n",
       "      <td>6211.9</td>\n",
       "    </tr>\n",
       "    <tr>\n",
       "      <th>85</th>\n",
       "      <td>Oct 9, 1998</td>\n",
       "      <td>The Mighty</td>\n",
       "      <td>100000.0</td>\n",
       "      <td>2652246.0</td>\n",
       "      <td>6121582.0</td>\n",
       "      <td>6021582.0</td>\n",
       "      <td>6021.6</td>\n",
       "    </tr>\n",
       "    <tr>\n",
       "      <th>70</th>\n",
       "      <td>Apr 4, 1997</td>\n",
       "      <td>Chasing Amy</td>\n",
       "      <td>250000.0</td>\n",
       "      <td>12006514.0</td>\n",
       "      <td>15155095.0</td>\n",
       "      <td>14905095.0</td>\n",
       "      <td>5962.0</td>\n",
       "    </tr>\n",
       "  </tbody>\n",
       "</table>\n",
       "</div>"
      ],
      "text/plain": [
       "    release_date                               movie  production_budget  \\\n",
       "id                                                                        \n",
       "46  Jun 30, 1972                         Deep Throat            25000.0   \n",
       "14  Mar 21, 1980                             Mad Max           200000.0   \n",
       "93  Sep 25, 2009                 Paranormal Activity           450000.0   \n",
       "80  Jul 10, 2015                         The Gallows           100000.0   \n",
       "7   Jul 14, 1999             The Blair Witch Project           600000.0   \n",
       "10   May 7, 2004                       Super Size Me            65000.0   \n",
       "47  Aug 13, 1942                               Bambi           858000.0   \n",
       "74  Feb 26, 1993                         El Mariachi             7000.0   \n",
       "77   Oct 1, 1968            Night of the Living Dead           114000.0   \n",
       "11  Nov 21, 1976                               Rocky          1000000.0   \n",
       "37  Oct 17, 1978                           Halloween           325000.0   \n",
       "16   Aug 9, 1995               The Brothers McMullen            50000.0   \n",
       "66  Oct 18, 1974         The Texas Chainsaw Massacre           140000.0   \n",
       "73  Aug 11, 1973                   American Graffiti           777000.0   \n",
       "82   Aug 5, 2005                   My Date With Drew             1100.0   \n",
       "57  May 16, 2007                                Once           150000.0   \n",
       "43  Oct 19, 1994                              Clerks            27000.0   \n",
       "13  Jul 25, 1969                    The Stewardesses           200000.0   \n",
       "18  Dec 21, 1937     Snow White and the Seven Dwarfs          1488000.0   \n",
       "58   Jan 1, 1971                          Billy Jack           800000.0   \n",
       "75   Oct 8, 2004                              Primer             7000.0   \n",
       "47   Aug 1, 1997               In the Company of Men            25000.0   \n",
       "8   Jun 11, 2004                   Napoleon Dynamite           400000.0   \n",
       "31   Aug 6, 2004                          Open Water           500000.0   \n",
       "25   May 9, 1980                     Friday the 13th           550000.0   \n",
       "81  Sep 29, 2006                   Facing the Giants           100000.0   \n",
       "12   Jan 6, 2012                    The Devil Inside          1000000.0   \n",
       "56   Jan 1, 1971  Sweet Sweetback's Baad Asssss Song           150000.0   \n",
       "68  Dec 15, 1939                  Gone with the Wind          3900000.0   \n",
       "78   Feb 8, 1915               The Birth of a Nation           110000.0   \n",
       "69   May 1, 1981                      Graduation Day           250000.0   \n",
       "76  Feb 15, 1950                          Cinderella          2900000.0   \n",
       "7   Nov 19, 1925                      The Big Parade           245000.0   \n",
       "60  Apr 23, 2009                                Home           500000.0   \n",
       "57  Oct 29, 2004                                 Saw          1200000.0   \n",
       "26  Apr 15, 1983                       The Evil Dead           375000.0   \n",
       "26  Jun 11, 1982           ET: The Extra-Terrestrial         10500000.0   \n",
       "48  Apr 19, 2002            My Big Fat Greek Wedding          5000000.0   \n",
       "90  Aug 13, 1997                      The Full Monty          3500000.0   \n",
       "65  May 25, 1977        Star Wars Ep. IV: A New Hope         11000000.0   \n",
       "82   Jan 1, 1977                          Eraserhead           100000.0   \n",
       "7   Jul 10, 1998                                  Pi            68000.0   \n",
       "66   Mar 9, 2001                             Dayereh            10000.0   \n",
       "29  Sep 26, 2008                           Fireproof           500000.0   \n",
       "63   Apr 1, 2011                           Insidious          1500000.0   \n",
       "13  Jun 16, 1978                              Grease          6000000.0   \n",
       "14  Apr 17, 2015                          Unfriended          1000000.0   \n",
       "30  Nov 15, 1974                               Benji           500000.0   \n",
       "85   Oct 9, 1998                          The Mighty           100000.0   \n",
       "70   Apr 4, 1997                         Chasing Amy           250000.0   \n",
       "\n",
       "    domestic_gross  worldwide_gross  profit_over_pb       roi  \n",
       "id                                                             \n",
       "46      45000000.0       45000000.0      44975000.0  179900.0  \n",
       "14       8750000.0       99750000.0      99550000.0   49775.0  \n",
       "93     107918810.0      194183034.0     193733034.0   43051.8  \n",
       "80      22764410.0       41656474.0      41556474.0   41556.5  \n",
       "7      140539099.0      248300000.0     247700000.0   41283.3  \n",
       "10      11529368.0       22233808.0      22168808.0   34105.9  \n",
       "47     102797000.0      268000000.0     267142000.0   31135.4  \n",
       "74       2040920.0        2041928.0       2034928.0   29070.4  \n",
       "77      12087064.0       30087064.0      29973064.0   26292.2  \n",
       "11     117235147.0      225000000.0     224000000.0   22400.0  \n",
       "37      47000000.0       70000000.0      69675000.0   21438.5  \n",
       "16      10426506.0       10426506.0      10376506.0   20753.0  \n",
       "66      26572439.0       26572439.0      26432439.0   18880.3  \n",
       "73     115000000.0      140000000.0     139223000.0   17918.0  \n",
       "82        181041.0         181041.0        179941.0   16358.3  \n",
       "57       9445857.0       23323631.0      23173631.0   15449.1  \n",
       "43       3073428.0        3894240.0       3867240.0   14323.1  \n",
       "13      13500000.0       25000000.0      24800000.0   12400.0  \n",
       "18     184925486.0      184925486.0     183437486.0   12327.8  \n",
       "58      98000000.0       98000000.0      97200000.0   12150.0  \n",
       "75        424760.0         841926.0        834926.0   11927.5  \n",
       "47       2883661.0        2883661.0       2858661.0   11434.6  \n",
       "8       44540956.0       46122713.0      45722713.0   11430.7  \n",
       "31      30500882.0       55518641.0      55018641.0   11003.7  \n",
       "25      39754601.0       59754601.0      59204601.0   10764.5  \n",
       "81      10178331.0       10243159.0      10143159.0   10143.2  \n",
       "12      53262945.0      101759490.0     100759490.0   10075.9  \n",
       "56      15200000.0       15200000.0      15050000.0   10033.3  \n",
       "68     198680470.0      390525192.0     386625192.0    9913.5  \n",
       "78      10000000.0       11000000.0      10890000.0    9900.0  \n",
       "69      23894000.0       23894000.0      23644000.0    9457.6  \n",
       "76      85000000.0      263591415.0     260691415.0    8989.4  \n",
       "7       11000000.0       22000000.0      21755000.0    8879.6  \n",
       "60         15433.0       44793168.0      44293168.0    8858.6  \n",
       "57      55968727.0      103880027.0     102680027.0    8556.7  \n",
       "26       2400000.0       29400000.0      29025000.0    7740.0  \n",
       "26     435110554.0      792965326.0     782465326.0    7452.1  \n",
       "48     241438208.0      374890034.0     369890034.0    7397.8  \n",
       "90      45950122.0      261249383.0     257749383.0    7364.3  \n",
       "65     460998007.0      786598007.0     775598007.0    7050.9  \n",
       "82       7000000.0        7014590.0       6914590.0    6914.6  \n",
       "7        3221152.0        4678513.0       4610513.0    6780.2  \n",
       "66        673780.0         673780.0        663780.0    6637.8  \n",
       "29      33456317.0       33473297.0      32973297.0    6594.7  \n",
       "63      54009150.0       99870886.0      98370886.0    6558.1  \n",
       "13     181813770.0      387510179.0     381510179.0    6358.5  \n",
       "14      32789645.0       64364198.0      63364198.0    6336.4  \n",
       "30      31559560.0       31559560.0      31059560.0    6211.9  \n",
       "85       2652246.0        6121582.0       6021582.0    6021.6  \n",
       "70      12006514.0       15155095.0      14905095.0    5962.0  "
      ]
     },
     "execution_count": 284,
     "metadata": {},
     "output_type": "execute_result"
    }
   ],
   "source": [
    "df_tn_movie_budget.sort_values(by='roi',ascending = False).head(50)"
   ]
  },
  {
   "cell_type": "code",
   "execution_count": null,
   "metadata": {
    "ExecuteTime": {
     "end_time": "2021-04-28T01:34:52.180732Z",
     "start_time": "2021-04-28T01:34:52.155799Z"
    }
   },
   "outputs": [],
   "source": []
  },
  {
   "cell_type": "code",
   "execution_count": 276,
   "metadata": {
    "ExecuteTime": {
     "end_time": "2021-04-28T01:27:45.237331Z",
     "start_time": "2021-04-28T01:27:45.232395Z"
    }
   },
   "outputs": [
    {
     "data": {
      "text/plain": [
       "1799.0"
      ]
     },
     "execution_count": 276,
     "metadata": {},
     "output_type": "execute_result"
    }
   ],
   "source": [
    "Lets filter to look at movies where budget is less than=$65 mill"
   ]
  },
  {
   "cell_type": "code",
   "execution_count": 290,
   "metadata": {
    "ExecuteTime": {
     "end_time": "2021-04-28T02:01:45.929554Z",
     "start_time": "2021-04-28T02:01:45.922571Z"
    }
   },
   "outputs": [],
   "source": [
    "df_budget_bl65m = df_tn_movie_budget[df_tn_movie_budget['production_budget'] \\\n",
    "                   <= 65000000.0].sort_values(by='roi', ascending = False)"
   ]
  },
  {
   "cell_type": "code",
   "execution_count": 293,
   "metadata": {
    "ExecuteTime": {
     "end_time": "2021-04-28T02:08:21.443598Z",
     "start_time": "2021-04-28T02:08:21.427641Z"
    }
   },
   "outputs": [
    {
     "name": "stdout",
     "output_type": "stream",
     "text": [
      "<class 'pandas.core.frame.DataFrame'>\n",
      "Int64Index: 5012 entries, 46 to 63\n",
      "Data columns (total 7 columns):\n",
      " #   Column             Non-Null Count  Dtype  \n",
      "---  ------             --------------  -----  \n",
      " 0   release_date       5012 non-null   object \n",
      " 1   movie              5012 non-null   object \n",
      " 2   production_budget  5012 non-null   float64\n",
      " 3   domestic_gross     5012 non-null   float64\n",
      " 4   worldwide_gross    5012 non-null   float64\n",
      " 5   profit_over_pb     5012 non-null   float64\n",
      " 6   roi                5012 non-null   float64\n",
      "dtypes: float64(5), object(2)\n",
      "memory usage: 313.2+ KB\n"
     ]
    }
   ],
   "source": [
    "df_budget_bl65m.info()"
   ]
  },
  {
   "cell_type": "code",
   "execution_count": 294,
   "metadata": {
    "ExecuteTime": {
     "end_time": "2021-04-28T02:08:32.955592Z",
     "start_time": "2021-04-28T02:08:32.951568Z"
    }
   },
   "outputs": [],
   "source": [
    "df_budget_bl65m.reset_index(inplace =True) "
   ]
  },
  {
   "cell_type": "code",
   "execution_count": 298,
   "metadata": {
    "ExecuteTime": {
     "end_time": "2021-04-28T02:13:15.640864Z",
     "start_time": "2021-04-28T02:13:15.634830Z"
    }
   },
   "outputs": [],
   "source": [
    "df_budget_2to65mil = df_budget_bl65m[df_budget_bl65m['production_budget'] \\\n",
    "                   >= 200000.0].sort_values(by='roi', ascending = False)"
   ]
  },
  {
   "cell_type": "code",
   "execution_count": 300,
   "metadata": {
    "ExecuteTime": {
     "end_time": "2021-04-28T02:13:33.766610Z",
     "start_time": "2021-04-28T02:13:33.757634Z"
    }
   },
   "outputs": [
    {
     "name": "stdout",
     "output_type": "stream",
     "text": [
      "<class 'pandas.core.frame.DataFrame'>\n",
      "Int64Index: 4872 entries, 1 to 5011\n",
      "Data columns (total 8 columns):\n",
      " #   Column             Non-Null Count  Dtype  \n",
      "---  ------             --------------  -----  \n",
      " 0   id                 4872 non-null   int64  \n",
      " 1   release_date       4872 non-null   object \n",
      " 2   movie              4872 non-null   object \n",
      " 3   production_budget  4872 non-null   float64\n",
      " 4   domestic_gross     4872 non-null   float64\n",
      " 5   worldwide_gross    4872 non-null   float64\n",
      " 6   profit_over_pb     4872 non-null   float64\n",
      " 7   roi                4872 non-null   float64\n",
      "dtypes: float64(5), int64(1), object(2)\n",
      "memory usage: 342.6+ KB\n"
     ]
    }
   ],
   "source": [
    "df_budget_2to65mil.info()"
   ]
  },
  {
   "cell_type": "code",
   "execution_count": 301,
   "metadata": {
    "ExecuteTime": {
     "end_time": "2021-04-28T02:14:16.064500Z",
     "start_time": "2021-04-28T02:14:16.060469Z"
    }
   },
   "outputs": [],
   "source": [
    "df_budget_2to65mil.reset_index(inplace =True) "
   ]
  },
  {
   "cell_type": "code",
   "execution_count": 304,
   "metadata": {
    "ExecuteTime": {
     "end_time": "2021-04-28T02:16:33.678954Z",
     "start_time": "2021-04-28T02:16:33.664992Z"
    }
   },
   "outputs": [
    {
     "data": {
      "text/html": [
       "<div>\n",
       "<style scoped>\n",
       "    .dataframe tbody tr th:only-of-type {\n",
       "        vertical-align: middle;\n",
       "    }\n",
       "\n",
       "    .dataframe tbody tr th {\n",
       "        vertical-align: top;\n",
       "    }\n",
       "\n",
       "    .dataframe thead th {\n",
       "        text-align: right;\n",
       "    }\n",
       "</style>\n",
       "<table border=\"1\" class=\"dataframe\">\n",
       "  <thead>\n",
       "    <tr style=\"text-align: right;\">\n",
       "      <th></th>\n",
       "      <th>index</th>\n",
       "      <th>id</th>\n",
       "      <th>release_date</th>\n",
       "      <th>movie</th>\n",
       "      <th>production_budget</th>\n",
       "      <th>domestic_gross</th>\n",
       "      <th>worldwide_gross</th>\n",
       "      <th>profit_over_pb</th>\n",
       "      <th>roi</th>\n",
       "    </tr>\n",
       "  </thead>\n",
       "  <tbody>\n",
       "    <tr>\n",
       "      <th>0</th>\n",
       "      <td>1</td>\n",
       "      <td>14</td>\n",
       "      <td>Mar 21, 1980</td>\n",
       "      <td>Mad Max</td>\n",
       "      <td>200000.0</td>\n",
       "      <td>8750000.0</td>\n",
       "      <td>99750000.0</td>\n",
       "      <td>99550000.0</td>\n",
       "      <td>49775.0</td>\n",
       "    </tr>\n",
       "    <tr>\n",
       "      <th>1</th>\n",
       "      <td>2</td>\n",
       "      <td>93</td>\n",
       "      <td>Sep 25, 2009</td>\n",
       "      <td>Paranormal Activity</td>\n",
       "      <td>450000.0</td>\n",
       "      <td>107918810.0</td>\n",
       "      <td>194183034.0</td>\n",
       "      <td>193733034.0</td>\n",
       "      <td>43051.8</td>\n",
       "    </tr>\n",
       "    <tr>\n",
       "      <th>2</th>\n",
       "      <td>4</td>\n",
       "      <td>7</td>\n",
       "      <td>Jul 14, 1999</td>\n",
       "      <td>The Blair Witch Project</td>\n",
       "      <td>600000.0</td>\n",
       "      <td>140539099.0</td>\n",
       "      <td>248300000.0</td>\n",
       "      <td>247700000.0</td>\n",
       "      <td>41283.3</td>\n",
       "    </tr>\n",
       "    <tr>\n",
       "      <th>3</th>\n",
       "      <td>6</td>\n",
       "      <td>47</td>\n",
       "      <td>Aug 13, 1942</td>\n",
       "      <td>Bambi</td>\n",
       "      <td>858000.0</td>\n",
       "      <td>102797000.0</td>\n",
       "      <td>268000000.0</td>\n",
       "      <td>267142000.0</td>\n",
       "      <td>31135.4</td>\n",
       "    </tr>\n",
       "    <tr>\n",
       "      <th>4</th>\n",
       "      <td>9</td>\n",
       "      <td>11</td>\n",
       "      <td>Nov 21, 1976</td>\n",
       "      <td>Rocky</td>\n",
       "      <td>1000000.0</td>\n",
       "      <td>117235147.0</td>\n",
       "      <td>225000000.0</td>\n",
       "      <td>224000000.0</td>\n",
       "      <td>22400.0</td>\n",
       "    </tr>\n",
       "    <tr>\n",
       "      <th>5</th>\n",
       "      <td>10</td>\n",
       "      <td>37</td>\n",
       "      <td>Oct 17, 1978</td>\n",
       "      <td>Halloween</td>\n",
       "      <td>325000.0</td>\n",
       "      <td>47000000.0</td>\n",
       "      <td>70000000.0</td>\n",
       "      <td>69675000.0</td>\n",
       "      <td>21438.5</td>\n",
       "    </tr>\n",
       "    <tr>\n",
       "      <th>6</th>\n",
       "      <td>13</td>\n",
       "      <td>73</td>\n",
       "      <td>Aug 11, 1973</td>\n",
       "      <td>American Graffiti</td>\n",
       "      <td>777000.0</td>\n",
       "      <td>115000000.0</td>\n",
       "      <td>140000000.0</td>\n",
       "      <td>139223000.0</td>\n",
       "      <td>17918.0</td>\n",
       "    </tr>\n",
       "    <tr>\n",
       "      <th>7</th>\n",
       "      <td>17</td>\n",
       "      <td>13</td>\n",
       "      <td>Jul 25, 1969</td>\n",
       "      <td>The Stewardesses</td>\n",
       "      <td>200000.0</td>\n",
       "      <td>13500000.0</td>\n",
       "      <td>25000000.0</td>\n",
       "      <td>24800000.0</td>\n",
       "      <td>12400.0</td>\n",
       "    </tr>\n",
       "    <tr>\n",
       "      <th>8</th>\n",
       "      <td>18</td>\n",
       "      <td>18</td>\n",
       "      <td>Dec 21, 1937</td>\n",
       "      <td>Snow White and the Seven Dwarfs</td>\n",
       "      <td>1488000.0</td>\n",
       "      <td>184925486.0</td>\n",
       "      <td>184925486.0</td>\n",
       "      <td>183437486.0</td>\n",
       "      <td>12327.8</td>\n",
       "    </tr>\n",
       "    <tr>\n",
       "      <th>9</th>\n",
       "      <td>19</td>\n",
       "      <td>58</td>\n",
       "      <td>Jan 1, 1971</td>\n",
       "      <td>Billy Jack</td>\n",
       "      <td>800000.0</td>\n",
       "      <td>98000000.0</td>\n",
       "      <td>98000000.0</td>\n",
       "      <td>97200000.0</td>\n",
       "      <td>12150.0</td>\n",
       "    </tr>\n",
       "  </tbody>\n",
       "</table>\n",
       "</div>"
      ],
      "text/plain": [
       "   index  id  release_date                            movie  \\\n",
       "0      1  14  Mar 21, 1980                          Mad Max   \n",
       "1      2  93  Sep 25, 2009              Paranormal Activity   \n",
       "2      4   7  Jul 14, 1999          The Blair Witch Project   \n",
       "3      6  47  Aug 13, 1942                            Bambi   \n",
       "4      9  11  Nov 21, 1976                            Rocky   \n",
       "5     10  37  Oct 17, 1978                        Halloween   \n",
       "6     13  73  Aug 11, 1973                American Graffiti   \n",
       "7     17  13  Jul 25, 1969                 The Stewardesses   \n",
       "8     18  18  Dec 21, 1937  Snow White and the Seven Dwarfs   \n",
       "9     19  58   Jan 1, 1971                       Billy Jack   \n",
       "\n",
       "   production_budget  domestic_gross  worldwide_gross  profit_over_pb      roi  \n",
       "0           200000.0       8750000.0       99750000.0      99550000.0  49775.0  \n",
       "1           450000.0     107918810.0      194183034.0     193733034.0  43051.8  \n",
       "2           600000.0     140539099.0      248300000.0     247700000.0  41283.3  \n",
       "3           858000.0     102797000.0      268000000.0     267142000.0  31135.4  \n",
       "4          1000000.0     117235147.0      225000000.0     224000000.0  22400.0  \n",
       "5           325000.0      47000000.0       70000000.0      69675000.0  21438.5  \n",
       "6           777000.0     115000000.0      140000000.0     139223000.0  17918.0  \n",
       "7           200000.0      13500000.0       25000000.0      24800000.0  12400.0  \n",
       "8          1488000.0     184925486.0      184925486.0     183437486.0  12327.8  \n",
       "9           800000.0      98000000.0       98000000.0      97200000.0  12150.0  "
      ]
     },
     "execution_count": 304,
     "metadata": {},
     "output_type": "execute_result"
    }
   ],
   "source": [
    "df_budget_2to65mil.head(10)"
   ]
  },
  {
   "cell_type": "code",
   "execution_count": 310,
   "metadata": {
    "ExecuteTime": {
     "end_time": "2021-04-28T02:32:49.729941Z",
     "start_time": "2021-04-28T02:32:49.253061Z"
    }
   },
   "outputs": [],
   "source": [
    "df_budget_2to65mil_21yr = df_budget_2to65mil[pd.to_datetime(df_budget_2to65mil['release_date']).dt.year >= 2000]"
   ]
  },
  {
   "cell_type": "code",
   "execution_count": 311,
   "metadata": {
    "ExecuteTime": {
     "end_time": "2021-04-28T02:32:52.268106Z",
     "start_time": "2021-04-28T02:32:51.799339Z"
    }
   },
   "outputs": [],
   "source": [
    "df_budget_2to65mil_11yrs = df_budget_2to65mil[pd.to_datetime(df_budget_2to65mil['release_date']).dt.year >= 2010]"
   ]
  },
  {
   "cell_type": "code",
   "execution_count": 313,
   "metadata": {
    "ExecuteTime": {
     "end_time": "2021-04-28T02:33:30.215190Z",
     "start_time": "2021-04-28T02:33:30.211204Z"
    }
   },
   "outputs": [],
   "source": [
    "df_budget_2to65mil_21yr.reset_index(inplace =True) "
   ]
  },
  {
   "cell_type": "code",
   "execution_count": 314,
   "metadata": {
    "ExecuteTime": {
     "end_time": "2021-04-28T02:33:48.885654Z",
     "start_time": "2021-04-28T02:33:48.872723Z"
    }
   },
   "outputs": [
    {
     "data": {
      "text/html": [
       "<div>\n",
       "<style scoped>\n",
       "    .dataframe tbody tr th:only-of-type {\n",
       "        vertical-align: middle;\n",
       "    }\n",
       "\n",
       "    .dataframe tbody tr th {\n",
       "        vertical-align: top;\n",
       "    }\n",
       "\n",
       "    .dataframe thead th {\n",
       "        text-align: right;\n",
       "    }\n",
       "</style>\n",
       "<table border=\"1\" class=\"dataframe\">\n",
       "  <thead>\n",
       "    <tr style=\"text-align: right;\">\n",
       "      <th></th>\n",
       "      <th>level_0</th>\n",
       "      <th>index</th>\n",
       "      <th>id</th>\n",
       "      <th>release_date</th>\n",
       "      <th>movie</th>\n",
       "      <th>production_budget</th>\n",
       "      <th>domestic_gross</th>\n",
       "      <th>worldwide_gross</th>\n",
       "      <th>profit_over_pb</th>\n",
       "      <th>roi</th>\n",
       "    </tr>\n",
       "  </thead>\n",
       "  <tbody>\n",
       "    <tr>\n",
       "      <th>0</th>\n",
       "      <td>1</td>\n",
       "      <td>2</td>\n",
       "      <td>93</td>\n",
       "      <td>Sep 25, 2009</td>\n",
       "      <td>Paranormal Activity</td>\n",
       "      <td>450000.0</td>\n",
       "      <td>107918810.0</td>\n",
       "      <td>194183034.0</td>\n",
       "      <td>193733034.0</td>\n",
       "      <td>43051.8</td>\n",
       "    </tr>\n",
       "    <tr>\n",
       "      <th>1</th>\n",
       "      <td>10</td>\n",
       "      <td>22</td>\n",
       "      <td>8</td>\n",
       "      <td>Jun 11, 2004</td>\n",
       "      <td>Napoleon Dynamite</td>\n",
       "      <td>400000.0</td>\n",
       "      <td>44540956.0</td>\n",
       "      <td>46122713.0</td>\n",
       "      <td>45722713.0</td>\n",
       "      <td>11430.7</td>\n",
       "    </tr>\n",
       "    <tr>\n",
       "      <th>2</th>\n",
       "      <td>11</td>\n",
       "      <td>23</td>\n",
       "      <td>31</td>\n",
       "      <td>Aug 6, 2004</td>\n",
       "      <td>Open Water</td>\n",
       "      <td>500000.0</td>\n",
       "      <td>30500882.0</td>\n",
       "      <td>55518641.0</td>\n",
       "      <td>55018641.0</td>\n",
       "      <td>11003.7</td>\n",
       "    </tr>\n",
       "    <tr>\n",
       "      <th>3</th>\n",
       "      <td>13</td>\n",
       "      <td>26</td>\n",
       "      <td>12</td>\n",
       "      <td>Jan 6, 2012</td>\n",
       "      <td>The Devil Inside</td>\n",
       "      <td>1000000.0</td>\n",
       "      <td>53262945.0</td>\n",
       "      <td>101759490.0</td>\n",
       "      <td>100759490.0</td>\n",
       "      <td>10075.9</td>\n",
       "    </tr>\n",
       "    <tr>\n",
       "      <th>4</th>\n",
       "      <td>18</td>\n",
       "      <td>33</td>\n",
       "      <td>60</td>\n",
       "      <td>Apr 23, 2009</td>\n",
       "      <td>Home</td>\n",
       "      <td>500000.0</td>\n",
       "      <td>15433.0</td>\n",
       "      <td>44793168.0</td>\n",
       "      <td>44293168.0</td>\n",
       "      <td>8858.6</td>\n",
       "    </tr>\n",
       "  </tbody>\n",
       "</table>\n",
       "</div>"
      ],
      "text/plain": [
       "   level_0  index  id  release_date                movie  production_budget  \\\n",
       "0        1      2  93  Sep 25, 2009  Paranormal Activity           450000.0   \n",
       "1       10     22   8  Jun 11, 2004    Napoleon Dynamite           400000.0   \n",
       "2       11     23  31   Aug 6, 2004           Open Water           500000.0   \n",
       "3       13     26  12   Jan 6, 2012     The Devil Inside          1000000.0   \n",
       "4       18     33  60  Apr 23, 2009                 Home           500000.0   \n",
       "\n",
       "   domestic_gross  worldwide_gross  profit_over_pb      roi  \n",
       "0     107918810.0      194183034.0     193733034.0  43051.8  \n",
       "1      44540956.0       46122713.0      45722713.0  11430.7  \n",
       "2      30500882.0       55518641.0      55018641.0  11003.7  \n",
       "3      53262945.0      101759490.0     100759490.0  10075.9  \n",
       "4         15433.0       44793168.0      44293168.0   8858.6  "
      ]
     },
     "execution_count": 314,
     "metadata": {},
     "output_type": "execute_result"
    }
   ],
   "source": [
    "df_budget_2to65mil_21yr.head()"
   ]
  },
  {
   "cell_type": "code",
   "execution_count": 315,
   "metadata": {
    "ExecuteTime": {
     "end_time": "2021-04-28T02:34:19.668143Z",
     "start_time": "2021-04-28T02:34:19.663176Z"
    }
   },
   "outputs": [],
   "source": [
    "df_budget_2to65mil_11yrs.reset_index(inplace =True) "
   ]
  },
  {
   "cell_type": "code",
   "execution_count": 351,
   "metadata": {
    "ExecuteTime": {
     "end_time": "2021-04-28T03:54:26.935926Z",
     "start_time": "2021-04-28T03:54:26.908001Z"
    }
   },
   "outputs": [
    {
     "data": {
      "text/html": [
       "<div>\n",
       "<style scoped>\n",
       "    .dataframe tbody tr th:only-of-type {\n",
       "        vertical-align: middle;\n",
       "    }\n",
       "\n",
       "    .dataframe tbody tr th {\n",
       "        vertical-align: top;\n",
       "    }\n",
       "\n",
       "    .dataframe thead th {\n",
       "        text-align: right;\n",
       "    }\n",
       "</style>\n",
       "<table border=\"1\" class=\"dataframe\">\n",
       "  <thead>\n",
       "    <tr style=\"text-align: right;\">\n",
       "      <th></th>\n",
       "      <th>level_0</th>\n",
       "      <th>index</th>\n",
       "      <th>id</th>\n",
       "      <th>release_date</th>\n",
       "      <th>movie</th>\n",
       "      <th>production_budget</th>\n",
       "      <th>domestic_gross</th>\n",
       "      <th>worldwide_gross</th>\n",
       "      <th>profit_over_pb</th>\n",
       "      <th>roi</th>\n",
       "    </tr>\n",
       "  </thead>\n",
       "  <tbody>\n",
       "    <tr>\n",
       "      <th>900</th>\n",
       "      <td>2673</td>\n",
       "      <td>2728</td>\n",
       "      <td>57</td>\n",
       "      <td>Oct 3, 2014</td>\n",
       "      <td>Left Behind</td>\n",
       "      <td>16000000.0</td>\n",
       "      <td>14019924.0</td>\n",
       "      <td>20769209.0</td>\n",
       "      <td>4769209.0</td>\n",
       "      <td>29.8</td>\n",
       "    </tr>\n",
       "    <tr>\n",
       "      <th>901</th>\n",
       "      <td>2674</td>\n",
       "      <td>2729</td>\n",
       "      <td>33</td>\n",
       "      <td>Feb 26, 2016</td>\n",
       "      <td>Triple 9</td>\n",
       "      <td>20000000.0</td>\n",
       "      <td>12639297.0</td>\n",
       "      <td>25943792.0</td>\n",
       "      <td>5943792.0</td>\n",
       "      <td>29.7</td>\n",
       "    </tr>\n",
       "    <tr>\n",
       "      <th>902</th>\n",
       "      <td>2677</td>\n",
       "      <td>2732</td>\n",
       "      <td>48</td>\n",
       "      <td>Jul 10, 2015</td>\n",
       "      <td>Self/Less</td>\n",
       "      <td>26000000.0</td>\n",
       "      <td>12279691.0</td>\n",
       "      <td>33667319.0</td>\n",
       "      <td>7667319.0</td>\n",
       "      <td>29.5</td>\n",
       "    </tr>\n",
       "    <tr>\n",
       "      <th>903</th>\n",
       "      <td>2678</td>\n",
       "      <td>2733</td>\n",
       "      <td>49</td>\n",
       "      <td>Jun 13, 2018</td>\n",
       "      <td>Superfly</td>\n",
       "      <td>16000000.0</td>\n",
       "      <td>20537137.0</td>\n",
       "      <td>20723581.0</td>\n",
       "      <td>4723581.0</td>\n",
       "      <td>29.5</td>\n",
       "    </tr>\n",
       "    <tr>\n",
       "      <th>904</th>\n",
       "      <td>2683</td>\n",
       "      <td>2738</td>\n",
       "      <td>68</td>\n",
       "      <td>Mar 29, 2013</td>\n",
       "      <td>The Host</td>\n",
       "      <td>50000000.0</td>\n",
       "      <td>26623701.0</td>\n",
       "      <td>64477051.0</td>\n",
       "      <td>14477051.0</td>\n",
       "      <td>29.0</td>\n",
       "    </tr>\n",
       "    <tr>\n",
       "      <th>905</th>\n",
       "      <td>2699</td>\n",
       "      <td>2752</td>\n",
       "      <td>78</td>\n",
       "      <td>Sep 7, 2012</td>\n",
       "      <td>The Cold Light of Day</td>\n",
       "      <td>20000000.0</td>\n",
       "      <td>3763583.0</td>\n",
       "      <td>25361206.0</td>\n",
       "      <td>5361206.0</td>\n",
       "      <td>26.8</td>\n",
       "    </tr>\n",
       "    <tr>\n",
       "      <th>906</th>\n",
       "      <td>2701</td>\n",
       "      <td>2756</td>\n",
       "      <td>26</td>\n",
       "      <td>Aug 21, 2013</td>\n",
       "      <td>The Mortal Instruments: City of Bones</td>\n",
       "      <td>60000000.0</td>\n",
       "      <td>31165421.0</td>\n",
       "      <td>75965567.0</td>\n",
       "      <td>15965567.0</td>\n",
       "      <td>26.6</td>\n",
       "    </tr>\n",
       "    <tr>\n",
       "      <th>907</th>\n",
       "      <td>2707</td>\n",
       "      <td>2762</td>\n",
       "      <td>78</td>\n",
       "      <td>Apr 27, 2012</td>\n",
       "      <td>Safe</td>\n",
       "      <td>33000000.0</td>\n",
       "      <td>17142080.0</td>\n",
       "      <td>41495213.0</td>\n",
       "      <td>8495213.0</td>\n",
       "      <td>25.7</td>\n",
       "    </tr>\n",
       "    <tr>\n",
       "      <th>908</th>\n",
       "      <td>2720</td>\n",
       "      <td>2775</td>\n",
       "      <td>52</td>\n",
       "      <td>Dec 17, 2010</td>\n",
       "      <td>Rabbit Hole</td>\n",
       "      <td>5000000.0</td>\n",
       "      <td>2229058.0</td>\n",
       "      <td>6205034.0</td>\n",
       "      <td>1205034.0</td>\n",
       "      <td>24.1</td>\n",
       "    </tr>\n",
       "    <tr>\n",
       "      <th>909</th>\n",
       "      <td>2721</td>\n",
       "      <td>2776</td>\n",
       "      <td>62</td>\n",
       "      <td>Jul 29, 2011</td>\n",
       "      <td>The Future</td>\n",
       "      <td>1000000.0</td>\n",
       "      <td>568662.0</td>\n",
       "      <td>1239174.0</td>\n",
       "      <td>239174.0</td>\n",
       "      <td>23.9</td>\n",
       "    </tr>\n",
       "    <tr>\n",
       "      <th>910</th>\n",
       "      <td>2723</td>\n",
       "      <td>2778</td>\n",
       "      <td>67</td>\n",
       "      <td>Apr 29, 2016</td>\n",
       "      <td>The Man Who Knew Infinity</td>\n",
       "      <td>10000000.0</td>\n",
       "      <td>3877922.0</td>\n",
       "      <td>12382122.0</td>\n",
       "      <td>2382122.0</td>\n",
       "      <td>23.8</td>\n",
       "    </tr>\n",
       "    <tr>\n",
       "      <th>911</th>\n",
       "      <td>2725</td>\n",
       "      <td>2780</td>\n",
       "      <td>40</td>\n",
       "      <td>Oct 20, 2017</td>\n",
       "      <td>The Snowman</td>\n",
       "      <td>35000000.0</td>\n",
       "      <td>6670765.0</td>\n",
       "      <td>43226146.0</td>\n",
       "      <td>8226146.0</td>\n",
       "      <td>23.5</td>\n",
       "    </tr>\n",
       "    <tr>\n",
       "      <th>912</th>\n",
       "      <td>2731</td>\n",
       "      <td>2786</td>\n",
       "      <td>21</td>\n",
       "      <td>Apr 15, 2016</td>\n",
       "      <td>Criminal</td>\n",
       "      <td>31500000.0</td>\n",
       "      <td>14708696.0</td>\n",
       "      <td>38771262.0</td>\n",
       "      <td>7271262.0</td>\n",
       "      <td>23.1</td>\n",
       "    </tr>\n",
       "    <tr>\n",
       "      <th>913</th>\n",
       "      <td>2734</td>\n",
       "      <td>2790</td>\n",
       "      <td>66</td>\n",
       "      <td>Jul 19, 2013</td>\n",
       "      <td>The Act of Killing</td>\n",
       "      <td>1000000.0</td>\n",
       "      <td>486919.0</td>\n",
       "      <td>1227316.0</td>\n",
       "      <td>227316.0</td>\n",
       "      <td>22.7</td>\n",
       "    </tr>\n",
       "    <tr>\n",
       "      <th>914</th>\n",
       "      <td>2737</td>\n",
       "      <td>2792</td>\n",
       "      <td>43</td>\n",
       "      <td>Oct 18, 2013</td>\n",
       "      <td>All is Lost</td>\n",
       "      <td>8500000.0</td>\n",
       "      <td>6263670.0</td>\n",
       "      <td>10386814.0</td>\n",
       "      <td>1886814.0</td>\n",
       "      <td>22.2</td>\n",
       "    </tr>\n",
       "    <tr>\n",
       "      <th>915</th>\n",
       "      <td>2738</td>\n",
       "      <td>2793</td>\n",
       "      <td>27</td>\n",
       "      <td>Jul 27, 2012</td>\n",
       "      <td>The Watch</td>\n",
       "      <td>55000000.0</td>\n",
       "      <td>34353000.0</td>\n",
       "      <td>67130045.0</td>\n",
       "      <td>12130045.0</td>\n",
       "      <td>22.1</td>\n",
       "    </tr>\n",
       "    <tr>\n",
       "      <th>916</th>\n",
       "      <td>2740</td>\n",
       "      <td>2795</td>\n",
       "      <td>91</td>\n",
       "      <td>Jun 16, 2017</td>\n",
       "      <td>All Eyez on Me</td>\n",
       "      <td>45000000.0</td>\n",
       "      <td>44922302.0</td>\n",
       "      <td>54876855.0</td>\n",
       "      <td>9876855.0</td>\n",
       "      <td>21.9</td>\n",
       "    </tr>\n",
       "    <tr>\n",
       "      <th>917</th>\n",
       "      <td>2744</td>\n",
       "      <td>2799</td>\n",
       "      <td>39</td>\n",
       "      <td>Jan 30, 2015</td>\n",
       "      <td>Guten Tag, Ramon</td>\n",
       "      <td>4000000.0</td>\n",
       "      <td>154356.0</td>\n",
       "      <td>4854356.0</td>\n",
       "      <td>854356.0</td>\n",
       "      <td>21.4</td>\n",
       "    </tr>\n",
       "    <tr>\n",
       "      <th>918</th>\n",
       "      <td>2747</td>\n",
       "      <td>2802</td>\n",
       "      <td>32</td>\n",
       "      <td>Jan 4, 2019</td>\n",
       "      <td>PMC: deo beong-keo</td>\n",
       "      <td>10300000.0</td>\n",
       "      <td>0.0</td>\n",
       "      <td>12478635.0</td>\n",
       "      <td>2178635.0</td>\n",
       "      <td>21.2</td>\n",
       "    </tr>\n",
       "    <tr>\n",
       "      <th>919</th>\n",
       "      <td>2750</td>\n",
       "      <td>2805</td>\n",
       "      <td>25</td>\n",
       "      <td>Jun 8, 2018</td>\n",
       "      <td>Hearts Beat Loud</td>\n",
       "      <td>2000000.0</td>\n",
       "      <td>2386254.0</td>\n",
       "      <td>2420962.0</td>\n",
       "      <td>420962.0</td>\n",
       "      <td>21.0</td>\n",
       "    </tr>\n",
       "    <tr>\n",
       "      <th>920</th>\n",
       "      <td>2751</td>\n",
       "      <td>2806</td>\n",
       "      <td>85</td>\n",
       "      <td>Feb 14, 2013</td>\n",
       "      <td>Beautiful Creatures</td>\n",
       "      <td>50000000.0</td>\n",
       "      <td>19452138.0</td>\n",
       "      <td>60282876.0</td>\n",
       "      <td>10282876.0</td>\n",
       "      <td>20.6</td>\n",
       "    </tr>\n",
       "    <tr>\n",
       "      <th>921</th>\n",
       "      <td>2763</td>\n",
       "      <td>2820</td>\n",
       "      <td>67</td>\n",
       "      <td>Apr 8, 2011</td>\n",
       "      <td>Arthur</td>\n",
       "      <td>40000000.0</td>\n",
       "      <td>33035397.0</td>\n",
       "      <td>47787943.0</td>\n",
       "      <td>7787943.0</td>\n",
       "      <td>19.5</td>\n",
       "    </tr>\n",
       "    <tr>\n",
       "      <th>922</th>\n",
       "      <td>2764</td>\n",
       "      <td>2818</td>\n",
       "      <td>44</td>\n",
       "      <td>Apr 23, 2010</td>\n",
       "      <td>The Losers</td>\n",
       "      <td>25000000.0</td>\n",
       "      <td>23591432.0</td>\n",
       "      <td>29863840.0</td>\n",
       "      <td>4863840.0</td>\n",
       "      <td>19.5</td>\n",
       "    </tr>\n",
       "    <tr>\n",
       "      <th>923</th>\n",
       "      <td>2766</td>\n",
       "      <td>2821</td>\n",
       "      <td>36</td>\n",
       "      <td>Apr 11, 2014</td>\n",
       "      <td>Draft Day</td>\n",
       "      <td>25000000.0</td>\n",
       "      <td>28842237.0</td>\n",
       "      <td>29847480.0</td>\n",
       "      <td>4847480.0</td>\n",
       "      <td>19.4</td>\n",
       "    </tr>\n",
       "    <tr>\n",
       "      <th>924</th>\n",
       "      <td>2767</td>\n",
       "      <td>2822</td>\n",
       "      <td>56</td>\n",
       "      <td>May 20, 2016</td>\n",
       "      <td>The Nice Guys</td>\n",
       "      <td>50000000.0</td>\n",
       "      <td>36261763.0</td>\n",
       "      <td>59596747.0</td>\n",
       "      <td>9596747.0</td>\n",
       "      <td>19.2</td>\n",
       "    </tr>\n",
       "    <tr>\n",
       "      <th>925</th>\n",
       "      <td>2771</td>\n",
       "      <td>2826</td>\n",
       "      <td>60</td>\n",
       "      <td>Oct 9, 2015</td>\n",
       "      <td>Steve Jobs</td>\n",
       "      <td>30000000.0</td>\n",
       "      <td>17766658.0</td>\n",
       "      <td>35579007.0</td>\n",
       "      <td>5579007.0</td>\n",
       "      <td>18.6</td>\n",
       "    </tr>\n",
       "    <tr>\n",
       "      <th>926</th>\n",
       "      <td>2773</td>\n",
       "      <td>2828</td>\n",
       "      <td>23</td>\n",
       "      <td>Oct 12, 2012</td>\n",
       "      <td>Middle of Nowhere</td>\n",
       "      <td>200000.0</td>\n",
       "      <td>236806.0</td>\n",
       "      <td>236806.0</td>\n",
       "      <td>36806.0</td>\n",
       "      <td>18.4</td>\n",
       "    </tr>\n",
       "    <tr>\n",
       "      <th>927</th>\n",
       "      <td>2777</td>\n",
       "      <td>2832</td>\n",
       "      <td>100</td>\n",
       "      <td>Dec 25, 2018</td>\n",
       "      <td>Vice</td>\n",
       "      <td>60000000.0</td>\n",
       "      <td>47836282.0</td>\n",
       "      <td>70883171.0</td>\n",
       "      <td>10883171.0</td>\n",
       "      <td>18.1</td>\n",
       "    </tr>\n",
       "    <tr>\n",
       "      <th>928</th>\n",
       "      <td>2778</td>\n",
       "      <td>2833</td>\n",
       "      <td>64</td>\n",
       "      <td>Jan 27, 2012</td>\n",
       "      <td>Man on a Ledge</td>\n",
       "      <td>42000000.0</td>\n",
       "      <td>18620000.0</td>\n",
       "      <td>49621440.0</td>\n",
       "      <td>7621440.0</td>\n",
       "      <td>18.1</td>\n",
       "    </tr>\n",
       "    <tr>\n",
       "      <th>929</th>\n",
       "      <td>2782</td>\n",
       "      <td>2839</td>\n",
       "      <td>45</td>\n",
       "      <td>Apr 27, 2012</td>\n",
       "      <td>The Raven</td>\n",
       "      <td>26000000.0</td>\n",
       "      <td>16008272.0</td>\n",
       "      <td>30601801.0</td>\n",
       "      <td>4601801.0</td>\n",
       "      <td>17.7</td>\n",
       "    </tr>\n",
       "    <tr>\n",
       "      <th>930</th>\n",
       "      <td>2784</td>\n",
       "      <td>2837</td>\n",
       "      <td>48</td>\n",
       "      <td>Jun 22, 2012</td>\n",
       "      <td>Seeking a Friend for the End of the World</td>\n",
       "      <td>10000000.0</td>\n",
       "      <td>7078738.0</td>\n",
       "      <td>11766959.0</td>\n",
       "      <td>1766959.0</td>\n",
       "      <td>17.7</td>\n",
       "    </tr>\n",
       "    <tr>\n",
       "      <th>931</th>\n",
       "      <td>2788</td>\n",
       "      <td>2843</td>\n",
       "      <td>40</td>\n",
       "      <td>Oct 19, 2018</td>\n",
       "      <td>Can You Ever Forgive Me?</td>\n",
       "      <td>10000000.0</td>\n",
       "      <td>8803865.0</td>\n",
       "      <td>11752387.0</td>\n",
       "      <td>1752387.0</td>\n",
       "      <td>17.5</td>\n",
       "    </tr>\n",
       "    <tr>\n",
       "      <th>932</th>\n",
       "      <td>2795</td>\n",
       "      <td>2850</td>\n",
       "      <td>100</td>\n",
       "      <td>Jun 12, 2015</td>\n",
       "      <td>Me and Earl and the Dying Girl</td>\n",
       "      <td>8000000.0</td>\n",
       "      <td>6758416.0</td>\n",
       "      <td>9266180.0</td>\n",
       "      <td>1266180.0</td>\n",
       "      <td>15.8</td>\n",
       "    </tr>\n",
       "    <tr>\n",
       "      <th>933</th>\n",
       "      <td>2797</td>\n",
       "      <td>2852</td>\n",
       "      <td>58</td>\n",
       "      <td>May 9, 2014</td>\n",
       "      <td>Palo Alto</td>\n",
       "      <td>1000000.0</td>\n",
       "      <td>767732.0</td>\n",
       "      <td>1156309.0</td>\n",
       "      <td>156309.0</td>\n",
       "      <td>15.6</td>\n",
       "    </tr>\n",
       "    <tr>\n",
       "      <th>934</th>\n",
       "      <td>2803</td>\n",
       "      <td>2858</td>\n",
       "      <td>26</td>\n",
       "      <td>Jan 20, 2017</td>\n",
       "      <td>The Resurrection of Gavin Stone</td>\n",
       "      <td>2000000.0</td>\n",
       "      <td>2303792.0</td>\n",
       "      <td>2303792.0</td>\n",
       "      <td>303792.0</td>\n",
       "      <td>15.2</td>\n",
       "    </tr>\n",
       "    <tr>\n",
       "      <th>935</th>\n",
       "      <td>2806</td>\n",
       "      <td>2861</td>\n",
       "      <td>3</td>\n",
       "      <td>Jul 24, 2015</td>\n",
       "      <td>The Vatican Tapes</td>\n",
       "      <td>13000000.0</td>\n",
       "      <td>1784763.0</td>\n",
       "      <td>14929184.0</td>\n",
       "      <td>1929184.0</td>\n",
       "      <td>14.8</td>\n",
       "    </tr>\n",
       "    <tr>\n",
       "      <th>936</th>\n",
       "      <td>2807</td>\n",
       "      <td>2862</td>\n",
       "      <td>55</td>\n",
       "      <td>May 5, 2015</td>\n",
       "      <td>A Few Best Men</td>\n",
       "      <td>15000000.0</td>\n",
       "      <td>0.0</td>\n",
       "      <td>17224539.0</td>\n",
       "      <td>2224539.0</td>\n",
       "      <td>14.8</td>\n",
       "    </tr>\n",
       "    <tr>\n",
       "      <th>937</th>\n",
       "      <td>2809</td>\n",
       "      <td>2864</td>\n",
       "      <td>14</td>\n",
       "      <td>Jan 24, 2014</td>\n",
       "      <td>I, Frankenstein</td>\n",
       "      <td>65000000.0</td>\n",
       "      <td>19075290.0</td>\n",
       "      <td>74575290.0</td>\n",
       "      <td>9575290.0</td>\n",
       "      <td>14.7</td>\n",
       "    </tr>\n",
       "    <tr>\n",
       "      <th>938</th>\n",
       "      <td>2810</td>\n",
       "      <td>2865</td>\n",
       "      <td>48</td>\n",
       "      <td>Sep 22, 2017</td>\n",
       "      <td>Friend Request</td>\n",
       "      <td>9900000.0</td>\n",
       "      <td>3759078.0</td>\n",
       "      <td>11310835.0</td>\n",
       "      <td>1410835.0</td>\n",
       "      <td>14.3</td>\n",
       "    </tr>\n",
       "    <tr>\n",
       "      <th>939</th>\n",
       "      <td>2813</td>\n",
       "      <td>2868</td>\n",
       "      <td>35</td>\n",
       "      <td>Aug 7, 2015</td>\n",
       "      <td>The Diary of a Teenage Girl</td>\n",
       "      <td>2000000.0</td>\n",
       "      <td>1477002.0</td>\n",
       "      <td>2279959.0</td>\n",
       "      <td>279959.0</td>\n",
       "      <td>14.0</td>\n",
       "    </tr>\n",
       "    <tr>\n",
       "      <th>940</th>\n",
       "      <td>2816</td>\n",
       "      <td>2871</td>\n",
       "      <td>67</td>\n",
       "      <td>Dec 21, 2011</td>\n",
       "      <td>Albert Nobbs</td>\n",
       "      <td>7500000.0</td>\n",
       "      <td>3014696.0</td>\n",
       "      <td>8539003.0</td>\n",
       "      <td>1039003.0</td>\n",
       "      <td>13.9</td>\n",
       "    </tr>\n",
       "    <tr>\n",
       "      <th>941</th>\n",
       "      <td>2821</td>\n",
       "      <td>2876</td>\n",
       "      <td>78</td>\n",
       "      <td>Nov 13, 2015</td>\n",
       "      <td>The 33</td>\n",
       "      <td>25000000.0</td>\n",
       "      <td>12227722.0</td>\n",
       "      <td>28400715.0</td>\n",
       "      <td>3400715.0</td>\n",
       "      <td>13.6</td>\n",
       "    </tr>\n",
       "    <tr>\n",
       "      <th>942</th>\n",
       "      <td>2822</td>\n",
       "      <td>2877</td>\n",
       "      <td>50</td>\n",
       "      <td>Nov 11, 2016</td>\n",
       "      <td>Shut In</td>\n",
       "      <td>10000000.0</td>\n",
       "      <td>6900335.0</td>\n",
       "      <td>11360665.0</td>\n",
       "      <td>1360665.0</td>\n",
       "      <td>13.6</td>\n",
       "    </tr>\n",
       "    <tr>\n",
       "      <th>943</th>\n",
       "      <td>2825</td>\n",
       "      <td>2880</td>\n",
       "      <td>86</td>\n",
       "      <td>Jan 13, 2012</td>\n",
       "      <td>Joyful Noise</td>\n",
       "      <td>27500000.0</td>\n",
       "      <td>30932113.0</td>\n",
       "      <td>31157914.0</td>\n",
       "      <td>3657914.0</td>\n",
       "      <td>13.3</td>\n",
       "    </tr>\n",
       "    <tr>\n",
       "      <th>944</th>\n",
       "      <td>2829</td>\n",
       "      <td>2884</td>\n",
       "      <td>64</td>\n",
       "      <td>Aug 3, 2018</td>\n",
       "      <td>The Darkest Minds</td>\n",
       "      <td>34000000.0</td>\n",
       "      <td>12695691.0</td>\n",
       "      <td>38361428.0</td>\n",
       "      <td>4361428.0</td>\n",
       "      <td>12.8</td>\n",
       "    </tr>\n",
       "    <tr>\n",
       "      <th>945</th>\n",
       "      <td>2830</td>\n",
       "      <td>2885</td>\n",
       "      <td>17</td>\n",
       "      <td>Apr 30, 2010</td>\n",
       "      <td>Furry Vengeance</td>\n",
       "      <td>35000000.0</td>\n",
       "      <td>17630465.0</td>\n",
       "      <td>39340177.0</td>\n",
       "      <td>4340177.0</td>\n",
       "      <td>12.4</td>\n",
       "    </tr>\n",
       "    <tr>\n",
       "      <th>946</th>\n",
       "      <td>2835</td>\n",
       "      <td>2890</td>\n",
       "      <td>77</td>\n",
       "      <td>Dec 21, 2012</td>\n",
       "      <td>Cirque du Soleil: Worlds Away</td>\n",
       "      <td>25000000.0</td>\n",
       "      <td>12512862.0</td>\n",
       "      <td>28012862.0</td>\n",
       "      <td>3012862.0</td>\n",
       "      <td>12.1</td>\n",
       "    </tr>\n",
       "    <tr>\n",
       "      <th>947</th>\n",
       "      <td>2840</td>\n",
       "      <td>2895</td>\n",
       "      <td>55</td>\n",
       "      <td>Dec 31, 2013</td>\n",
       "      <td>Geograf globus propil</td>\n",
       "      <td>4000000.0</td>\n",
       "      <td>0.0</td>\n",
       "      <td>4454853.0</td>\n",
       "      <td>454853.0</td>\n",
       "      <td>11.4</td>\n",
       "    </tr>\n",
       "    <tr>\n",
       "      <th>948</th>\n",
       "      <td>2841</td>\n",
       "      <td>2896</td>\n",
       "      <td>34</td>\n",
       "      <td>Sep 2, 2016</td>\n",
       "      <td>The Light Between Oceans</td>\n",
       "      <td>20000000.0</td>\n",
       "      <td>12545979.0</td>\n",
       "      <td>22281732.0</td>\n",
       "      <td>2281732.0</td>\n",
       "      <td>11.4</td>\n",
       "    </tr>\n",
       "    <tr>\n",
       "      <th>949</th>\n",
       "      <td>2844</td>\n",
       "      <td>2899</td>\n",
       "      <td>35</td>\n",
       "      <td>Aug 1, 2014</td>\n",
       "      <td>Get on Up</td>\n",
       "      <td>30000000.0</td>\n",
       "      <td>30569935.0</td>\n",
       "      <td>33339868.0</td>\n",
       "      <td>3339868.0</td>\n",
       "      <td>11.1</td>\n",
       "    </tr>\n",
       "    <tr>\n",
       "      <th>950</th>\n",
       "      <td>2847</td>\n",
       "      <td>2903</td>\n",
       "      <td>81</td>\n",
       "      <td>Oct 16, 2015</td>\n",
       "      <td>Woodlawn</td>\n",
       "      <td>13000000.0</td>\n",
       "      <td>14394097.0</td>\n",
       "      <td>14403703.0</td>\n",
       "      <td>1403703.0</td>\n",
       "      <td>10.8</td>\n",
       "    </tr>\n",
       "    <tr>\n",
       "      <th>951</th>\n",
       "      <td>2849</td>\n",
       "      <td>2904</td>\n",
       "      <td>64</td>\n",
       "      <td>Feb 12, 2016</td>\n",
       "      <td>Zoolander 2</td>\n",
       "      <td>50000000.0</td>\n",
       "      <td>28848693.0</td>\n",
       "      <td>55348693.0</td>\n",
       "      <td>5348693.0</td>\n",
       "      <td>10.7</td>\n",
       "    </tr>\n",
       "    <tr>\n",
       "      <th>952</th>\n",
       "      <td>2850</td>\n",
       "      <td>2905</td>\n",
       "      <td>9</td>\n",
       "      <td>Apr 13, 2010</td>\n",
       "      <td>Three Kingdoms: Resurrection of the Dragon</td>\n",
       "      <td>20000000.0</td>\n",
       "      <td>0.0</td>\n",
       "      <td>22139590.0</td>\n",
       "      <td>2139590.0</td>\n",
       "      <td>10.7</td>\n",
       "    </tr>\n",
       "    <tr>\n",
       "      <th>953</th>\n",
       "      <td>2851</td>\n",
       "      <td>2906</td>\n",
       "      <td>11</td>\n",
       "      <td>May 18, 2018</td>\n",
       "      <td>First Reformed</td>\n",
       "      <td>3500000.0</td>\n",
       "      <td>3448256.0</td>\n",
       "      <td>3874772.0</td>\n",
       "      <td>374772.0</td>\n",
       "      <td>10.7</td>\n",
       "    </tr>\n",
       "    <tr>\n",
       "      <th>954</th>\n",
       "      <td>2856</td>\n",
       "      <td>2912</td>\n",
       "      <td>31</td>\n",
       "      <td>Jul 30, 2010</td>\n",
       "      <td>Charlie St. Cloud</td>\n",
       "      <td>44000000.0</td>\n",
       "      <td>31206263.0</td>\n",
       "      <td>48478084.0</td>\n",
       "      <td>4478084.0</td>\n",
       "      <td>10.2</td>\n",
       "    </tr>\n",
       "  </tbody>\n",
       "</table>\n",
       "</div>"
      ],
      "text/plain": [
       "     level_0  index   id  release_date  \\\n",
       "900     2673   2728   57   Oct 3, 2014   \n",
       "901     2674   2729   33  Feb 26, 2016   \n",
       "902     2677   2732   48  Jul 10, 2015   \n",
       "903     2678   2733   49  Jun 13, 2018   \n",
       "904     2683   2738   68  Mar 29, 2013   \n",
       "905     2699   2752   78   Sep 7, 2012   \n",
       "906     2701   2756   26  Aug 21, 2013   \n",
       "907     2707   2762   78  Apr 27, 2012   \n",
       "908     2720   2775   52  Dec 17, 2010   \n",
       "909     2721   2776   62  Jul 29, 2011   \n",
       "910     2723   2778   67  Apr 29, 2016   \n",
       "911     2725   2780   40  Oct 20, 2017   \n",
       "912     2731   2786   21  Apr 15, 2016   \n",
       "913     2734   2790   66  Jul 19, 2013   \n",
       "914     2737   2792   43  Oct 18, 2013   \n",
       "915     2738   2793   27  Jul 27, 2012   \n",
       "916     2740   2795   91  Jun 16, 2017   \n",
       "917     2744   2799   39  Jan 30, 2015   \n",
       "918     2747   2802   32   Jan 4, 2019   \n",
       "919     2750   2805   25   Jun 8, 2018   \n",
       "920     2751   2806   85  Feb 14, 2013   \n",
       "921     2763   2820   67   Apr 8, 2011   \n",
       "922     2764   2818   44  Apr 23, 2010   \n",
       "923     2766   2821   36  Apr 11, 2014   \n",
       "924     2767   2822   56  May 20, 2016   \n",
       "925     2771   2826   60   Oct 9, 2015   \n",
       "926     2773   2828   23  Oct 12, 2012   \n",
       "927     2777   2832  100  Dec 25, 2018   \n",
       "928     2778   2833   64  Jan 27, 2012   \n",
       "929     2782   2839   45  Apr 27, 2012   \n",
       "930     2784   2837   48  Jun 22, 2012   \n",
       "931     2788   2843   40  Oct 19, 2018   \n",
       "932     2795   2850  100  Jun 12, 2015   \n",
       "933     2797   2852   58   May 9, 2014   \n",
       "934     2803   2858   26  Jan 20, 2017   \n",
       "935     2806   2861    3  Jul 24, 2015   \n",
       "936     2807   2862   55   May 5, 2015   \n",
       "937     2809   2864   14  Jan 24, 2014   \n",
       "938     2810   2865   48  Sep 22, 2017   \n",
       "939     2813   2868   35   Aug 7, 2015   \n",
       "940     2816   2871   67  Dec 21, 2011   \n",
       "941     2821   2876   78  Nov 13, 2015   \n",
       "942     2822   2877   50  Nov 11, 2016   \n",
       "943     2825   2880   86  Jan 13, 2012   \n",
       "944     2829   2884   64   Aug 3, 2018   \n",
       "945     2830   2885   17  Apr 30, 2010   \n",
       "946     2835   2890   77  Dec 21, 2012   \n",
       "947     2840   2895   55  Dec 31, 2013   \n",
       "948     2841   2896   34   Sep 2, 2016   \n",
       "949     2844   2899   35   Aug 1, 2014   \n",
       "950     2847   2903   81  Oct 16, 2015   \n",
       "951     2849   2904   64  Feb 12, 2016   \n",
       "952     2850   2905    9  Apr 13, 2010   \n",
       "953     2851   2906   11  May 18, 2018   \n",
       "954     2856   2912   31  Jul 30, 2010   \n",
       "\n",
       "                                          movie  production_budget  \\\n",
       "900                                 Left Behind         16000000.0   \n",
       "901                                    Triple 9         20000000.0   \n",
       "902                                   Self/Less         26000000.0   \n",
       "903                                    Superfly         16000000.0   \n",
       "904                                    The Host         50000000.0   \n",
       "905                       The Cold Light of Day         20000000.0   \n",
       "906       The Mortal Instruments: City of Bones         60000000.0   \n",
       "907                                        Safe         33000000.0   \n",
       "908                                 Rabbit Hole          5000000.0   \n",
       "909                                  The Future          1000000.0   \n",
       "910                   The Man Who Knew Infinity         10000000.0   \n",
       "911                                 The Snowman         35000000.0   \n",
       "912                                    Criminal         31500000.0   \n",
       "913                          The Act of Killing          1000000.0   \n",
       "914                                 All is Lost          8500000.0   \n",
       "915                                   The Watch         55000000.0   \n",
       "916                              All Eyez on Me         45000000.0   \n",
       "917                            Guten Tag, Ramon          4000000.0   \n",
       "918                          PMC: deo beong-keo         10300000.0   \n",
       "919                            Hearts Beat Loud          2000000.0   \n",
       "920                         Beautiful Creatures         50000000.0   \n",
       "921                                      Arthur         40000000.0   \n",
       "922                                  The Losers         25000000.0   \n",
       "923                                   Draft Day         25000000.0   \n",
       "924                               The Nice Guys         50000000.0   \n",
       "925                                  Steve Jobs         30000000.0   \n",
       "926                           Middle of Nowhere           200000.0   \n",
       "927                                        Vice         60000000.0   \n",
       "928                              Man on a Ledge         42000000.0   \n",
       "929                                   The Raven         26000000.0   \n",
       "930   Seeking a Friend for the End of the World         10000000.0   \n",
       "931                    Can You Ever Forgive Me?         10000000.0   \n",
       "932              Me and Earl and the Dying Girl          8000000.0   \n",
       "933                                   Palo Alto          1000000.0   \n",
       "934             The Resurrection of Gavin Stone          2000000.0   \n",
       "935                           The Vatican Tapes         13000000.0   \n",
       "936                              A Few Best Men         15000000.0   \n",
       "937                             I, Frankenstein         65000000.0   \n",
       "938                              Friend Request          9900000.0   \n",
       "939                 The Diary of a Teenage Girl          2000000.0   \n",
       "940                                Albert Nobbs          7500000.0   \n",
       "941                                      The 33         25000000.0   \n",
       "942                                     Shut In         10000000.0   \n",
       "943                                Joyful Noise         27500000.0   \n",
       "944                           The Darkest Minds         34000000.0   \n",
       "945                             Furry Vengeance         35000000.0   \n",
       "946               Cirque du Soleil: Worlds Away         25000000.0   \n",
       "947                       Geograf globus propil          4000000.0   \n",
       "948                    The Light Between Oceans         20000000.0   \n",
       "949                                   Get on Up         30000000.0   \n",
       "950                                    Woodlawn         13000000.0   \n",
       "951                                 Zoolander 2         50000000.0   \n",
       "952  Three Kingdoms: Resurrection of the Dragon         20000000.0   \n",
       "953                              First Reformed          3500000.0   \n",
       "954                           Charlie St. Cloud         44000000.0   \n",
       "\n",
       "     domestic_gross  worldwide_gross  profit_over_pb   roi  \n",
       "900      14019924.0       20769209.0       4769209.0  29.8  \n",
       "901      12639297.0       25943792.0       5943792.0  29.7  \n",
       "902      12279691.0       33667319.0       7667319.0  29.5  \n",
       "903      20537137.0       20723581.0       4723581.0  29.5  \n",
       "904      26623701.0       64477051.0      14477051.0  29.0  \n",
       "905       3763583.0       25361206.0       5361206.0  26.8  \n",
       "906      31165421.0       75965567.0      15965567.0  26.6  \n",
       "907      17142080.0       41495213.0       8495213.0  25.7  \n",
       "908       2229058.0        6205034.0       1205034.0  24.1  \n",
       "909        568662.0        1239174.0        239174.0  23.9  \n",
       "910       3877922.0       12382122.0       2382122.0  23.8  \n",
       "911       6670765.0       43226146.0       8226146.0  23.5  \n",
       "912      14708696.0       38771262.0       7271262.0  23.1  \n",
       "913        486919.0        1227316.0        227316.0  22.7  \n",
       "914       6263670.0       10386814.0       1886814.0  22.2  \n",
       "915      34353000.0       67130045.0      12130045.0  22.1  \n",
       "916      44922302.0       54876855.0       9876855.0  21.9  \n",
       "917        154356.0        4854356.0        854356.0  21.4  \n",
       "918             0.0       12478635.0       2178635.0  21.2  \n",
       "919       2386254.0        2420962.0        420962.0  21.0  \n",
       "920      19452138.0       60282876.0      10282876.0  20.6  \n",
       "921      33035397.0       47787943.0       7787943.0  19.5  \n",
       "922      23591432.0       29863840.0       4863840.0  19.5  \n",
       "923      28842237.0       29847480.0       4847480.0  19.4  \n",
       "924      36261763.0       59596747.0       9596747.0  19.2  \n",
       "925      17766658.0       35579007.0       5579007.0  18.6  \n",
       "926        236806.0         236806.0         36806.0  18.4  \n",
       "927      47836282.0       70883171.0      10883171.0  18.1  \n",
       "928      18620000.0       49621440.0       7621440.0  18.1  \n",
       "929      16008272.0       30601801.0       4601801.0  17.7  \n",
       "930       7078738.0       11766959.0       1766959.0  17.7  \n",
       "931       8803865.0       11752387.0       1752387.0  17.5  \n",
       "932       6758416.0        9266180.0       1266180.0  15.8  \n",
       "933        767732.0        1156309.0        156309.0  15.6  \n",
       "934       2303792.0        2303792.0        303792.0  15.2  \n",
       "935       1784763.0       14929184.0       1929184.0  14.8  \n",
       "936             0.0       17224539.0       2224539.0  14.8  \n",
       "937      19075290.0       74575290.0       9575290.0  14.7  \n",
       "938       3759078.0       11310835.0       1410835.0  14.3  \n",
       "939       1477002.0        2279959.0        279959.0  14.0  \n",
       "940       3014696.0        8539003.0       1039003.0  13.9  \n",
       "941      12227722.0       28400715.0       3400715.0  13.6  \n",
       "942       6900335.0       11360665.0       1360665.0  13.6  \n",
       "943      30932113.0       31157914.0       3657914.0  13.3  \n",
       "944      12695691.0       38361428.0       4361428.0  12.8  \n",
       "945      17630465.0       39340177.0       4340177.0  12.4  \n",
       "946      12512862.0       28012862.0       3012862.0  12.1  \n",
       "947             0.0        4454853.0        454853.0  11.4  \n",
       "948      12545979.0       22281732.0       2281732.0  11.4  \n",
       "949      30569935.0       33339868.0       3339868.0  11.1  \n",
       "950      14394097.0       14403703.0       1403703.0  10.8  \n",
       "951      28848693.0       55348693.0       5348693.0  10.7  \n",
       "952             0.0       22139590.0       2139590.0  10.7  \n",
       "953       3448256.0        3874772.0        374772.0  10.7  \n",
       "954      31206263.0       48478084.0       4478084.0  10.2  "
      ]
     },
     "execution_count": 351,
     "metadata": {},
     "output_type": "execute_result"
    }
   ],
   "source": [
    "df_budget_2to65mil_11yrs[900:955]"
   ]
  },
  {
   "cell_type": "code",
   "execution_count": 320,
   "metadata": {
    "ExecuteTime": {
     "end_time": "2021-04-28T02:36:57.903954Z",
     "start_time": "2021-04-28T02:36:57.868962Z"
    }
   },
   "outputs": [
    {
     "data": {
      "text/html": [
       "<div>\n",
       "<style scoped>\n",
       "    .dataframe tbody tr th:only-of-type {\n",
       "        vertical-align: middle;\n",
       "    }\n",
       "\n",
       "    .dataframe tbody tr th {\n",
       "        vertical-align: top;\n",
       "    }\n",
       "\n",
       "    .dataframe thead th {\n",
       "        text-align: right;\n",
       "    }\n",
       "</style>\n",
       "<table border=\"1\" class=\"dataframe\">\n",
       "  <thead>\n",
       "    <tr style=\"text-align: right;\">\n",
       "      <th></th>\n",
       "      <th>level_0</th>\n",
       "      <th>index</th>\n",
       "      <th>id</th>\n",
       "      <th>production_budget</th>\n",
       "      <th>domestic_gross</th>\n",
       "      <th>worldwide_gross</th>\n",
       "      <th>profit_over_pb</th>\n",
       "      <th>roi</th>\n",
       "    </tr>\n",
       "  </thead>\n",
       "  <tbody>\n",
       "    <tr>\n",
       "      <th>count</th>\n",
       "      <td>1759.000000</td>\n",
       "      <td>1759.000000</td>\n",
       "      <td>1759.000000</td>\n",
       "      <td>1.759000e+03</td>\n",
       "      <td>1.759000e+03</td>\n",
       "      <td>1.759000e+03</td>\n",
       "      <td>1.759000e+03</td>\n",
       "      <td>1759.000000</td>\n",
       "    </tr>\n",
       "    <tr>\n",
       "      <th>mean</th>\n",
       "      <td>2643.361001</td>\n",
       "      <td>2711.770893</td>\n",
       "      <td>51.013644</td>\n",
       "      <td>1.772029e+07</td>\n",
       "      <td>2.325029e+07</td>\n",
       "      <td>4.922397e+07</td>\n",
       "      <td>3.150368e+07</td>\n",
       "      <td>203.662877</td>\n",
       "    </tr>\n",
       "    <tr>\n",
       "      <th>std</th>\n",
       "      <td>1485.856667</td>\n",
       "      <td>1510.669840</td>\n",
       "      <td>28.585358</td>\n",
       "      <td>1.683269e+07</td>\n",
       "      <td>3.708323e+07</td>\n",
       "      <td>8.133133e+07</td>\n",
       "      <td>7.361289e+07</td>\n",
       "      <td>618.994073</td>\n",
       "    </tr>\n",
       "    <tr>\n",
       "      <th>min</th>\n",
       "      <td>13.000000</td>\n",
       "      <td>26.000000</td>\n",
       "      <td>1.000000</td>\n",
       "      <td>2.000000e+05</td>\n",
       "      <td>0.000000e+00</td>\n",
       "      <td>0.000000e+00</td>\n",
       "      <td>-6.448372e+07</td>\n",
       "      <td>-100.000000</td>\n",
       "    </tr>\n",
       "    <tr>\n",
       "      <th>25%</th>\n",
       "      <td>1386.500000</td>\n",
       "      <td>1437.500000</td>\n",
       "      <td>27.000000</td>\n",
       "      <td>4.000000e+06</td>\n",
       "      <td>3.413100e+04</td>\n",
       "      <td>5.944755e+05</td>\n",
       "      <td>-3.010736e+06</td>\n",
       "      <td>-88.350000</td>\n",
       "    </tr>\n",
       "    <tr>\n",
       "      <th>50%</th>\n",
       "      <td>2607.000000</td>\n",
       "      <td>2662.000000</td>\n",
       "      <td>51.000000</td>\n",
       "      <td>1.200000e+07</td>\n",
       "      <td>6.069605e+06</td>\n",
       "      <td>1.672747e+07</td>\n",
       "      <td>3.414530e+06</td>\n",
       "      <td>37.400000</td>\n",
       "    </tr>\n",
       "    <tr>\n",
       "      <th>75%</th>\n",
       "      <td>4084.000000</td>\n",
       "      <td>4161.500000</td>\n",
       "      <td>76.000000</td>\n",
       "      <td>2.800000e+07</td>\n",
       "      <td>3.420873e+07</td>\n",
       "      <td>6.516481e+07</td>\n",
       "      <td>4.039450e+07</td>\n",
       "      <td>230.600000</td>\n",
       "    </tr>\n",
       "    <tr>\n",
       "      <th>max</th>\n",
       "      <td>4871.000000</td>\n",
       "      <td>5011.000000</td>\n",
       "      <td>100.000000</td>\n",
       "      <td>6.500000e+07</td>\n",
       "      <td>3.630707e+08</td>\n",
       "      <td>8.949853e+08</td>\n",
       "      <td>8.399853e+08</td>\n",
       "      <td>10075.900000</td>\n",
       "    </tr>\n",
       "  </tbody>\n",
       "</table>\n",
       "</div>"
      ],
      "text/plain": [
       "           level_0        index           id  production_budget  \\\n",
       "count  1759.000000  1759.000000  1759.000000       1.759000e+03   \n",
       "mean   2643.361001  2711.770893    51.013644       1.772029e+07   \n",
       "std    1485.856667  1510.669840    28.585358       1.683269e+07   \n",
       "min      13.000000    26.000000     1.000000       2.000000e+05   \n",
       "25%    1386.500000  1437.500000    27.000000       4.000000e+06   \n",
       "50%    2607.000000  2662.000000    51.000000       1.200000e+07   \n",
       "75%    4084.000000  4161.500000    76.000000       2.800000e+07   \n",
       "max    4871.000000  5011.000000   100.000000       6.500000e+07   \n",
       "\n",
       "       domestic_gross  worldwide_gross  profit_over_pb           roi  \n",
       "count    1.759000e+03     1.759000e+03    1.759000e+03   1759.000000  \n",
       "mean     2.325029e+07     4.922397e+07    3.150368e+07    203.662877  \n",
       "std      3.708323e+07     8.133133e+07    7.361289e+07    618.994073  \n",
       "min      0.000000e+00     0.000000e+00   -6.448372e+07   -100.000000  \n",
       "25%      3.413100e+04     5.944755e+05   -3.010736e+06    -88.350000  \n",
       "50%      6.069605e+06     1.672747e+07    3.414530e+06     37.400000  \n",
       "75%      3.420873e+07     6.516481e+07    4.039450e+07    230.600000  \n",
       "max      3.630707e+08     8.949853e+08    8.399853e+08  10075.900000  "
      ]
     },
     "execution_count": 320,
     "metadata": {},
     "output_type": "execute_result"
    }
   ],
   "source": [
    "df_budget_2to65mil_11yrs.describe()"
   ]
  },
  {
   "cell_type": "code",
   "execution_count": 322,
   "metadata": {
    "ExecuteTime": {
     "end_time": "2021-04-28T02:38:46.127742Z",
     "start_time": "2021-04-28T02:38:46.094831Z"
    }
   },
   "outputs": [
    {
     "data": {
      "text/html": [
       "<div>\n",
       "<style scoped>\n",
       "    .dataframe tbody tr th:only-of-type {\n",
       "        vertical-align: middle;\n",
       "    }\n",
       "\n",
       "    .dataframe tbody tr th {\n",
       "        vertical-align: top;\n",
       "    }\n",
       "\n",
       "    .dataframe thead th {\n",
       "        text-align: right;\n",
       "    }\n",
       "</style>\n",
       "<table border=\"1\" class=\"dataframe\">\n",
       "  <thead>\n",
       "    <tr style=\"text-align: right;\">\n",
       "      <th></th>\n",
       "      <th>level_0</th>\n",
       "      <th>index</th>\n",
       "      <th>id</th>\n",
       "      <th>production_budget</th>\n",
       "      <th>domestic_gross</th>\n",
       "      <th>worldwide_gross</th>\n",
       "      <th>profit_over_pb</th>\n",
       "      <th>roi</th>\n",
       "    </tr>\n",
       "  </thead>\n",
       "  <tbody>\n",
       "    <tr>\n",
       "      <th>count</th>\n",
       "      <td>3599.000000</td>\n",
       "      <td>3599.000000</td>\n",
       "      <td>3599.000000</td>\n",
       "      <td>3.599000e+03</td>\n",
       "      <td>3.599000e+03</td>\n",
       "      <td>3.599000e+03</td>\n",
       "      <td>3.599000e+03</td>\n",
       "      <td>3599.000000</td>\n",
       "    </tr>\n",
       "    <tr>\n",
       "      <th>mean</th>\n",
       "      <td>2573.098639</td>\n",
       "      <td>2636.199222</td>\n",
       "      <td>50.221173</td>\n",
       "      <td>1.909694e+07</td>\n",
       "      <td>2.450792e+07</td>\n",
       "      <td>4.824937e+07</td>\n",
       "      <td>2.915244e+07</td>\n",
       "      <td>208.390997</td>\n",
       "    </tr>\n",
       "    <tr>\n",
       "      <th>std</th>\n",
       "      <td>1391.960173</td>\n",
       "      <td>1410.164929</td>\n",
       "      <td>28.716203</td>\n",
       "      <td>1.716282e+07</td>\n",
       "      <td>3.667838e+07</td>\n",
       "      <td>7.502115e+07</td>\n",
       "      <td>6.772022e+07</td>\n",
       "      <td>956.443459</td>\n",
       "    </tr>\n",
       "    <tr>\n",
       "      <th>min</th>\n",
       "      <td>1.000000</td>\n",
       "      <td>2.000000</td>\n",
       "      <td>1.000000</td>\n",
       "      <td>2.000000e+05</td>\n",
       "      <td>0.000000e+00</td>\n",
       "      <td>0.000000e+00</td>\n",
       "      <td>-6.448372e+07</td>\n",
       "      <td>-100.000000</td>\n",
       "    </tr>\n",
       "    <tr>\n",
       "      <th>25%</th>\n",
       "      <td>1397.500000</td>\n",
       "      <td>1448.500000</td>\n",
       "      <td>25.000000</td>\n",
       "      <td>4.900000e+06</td>\n",
       "      <td>3.237005e+05</td>\n",
       "      <td>1.694063e+06</td>\n",
       "      <td>-3.305302e+06</td>\n",
       "      <td>-71.100000</td>\n",
       "    </tr>\n",
       "    <tr>\n",
       "      <th>50%</th>\n",
       "      <td>2596.000000</td>\n",
       "      <td>2651.000000</td>\n",
       "      <td>50.000000</td>\n",
       "      <td>1.500000e+07</td>\n",
       "      <td>9.737892e+06</td>\n",
       "      <td>1.934462e+07</td>\n",
       "      <td>3.873142e+06</td>\n",
       "      <td>38.200000</td>\n",
       "    </tr>\n",
       "    <tr>\n",
       "      <th>75%</th>\n",
       "      <td>3804.500000</td>\n",
       "      <td>3870.500000</td>\n",
       "      <td>75.000000</td>\n",
       "      <td>3.000000e+07</td>\n",
       "      <td>3.508412e+07</td>\n",
       "      <td>6.426185e+07</td>\n",
       "      <td>3.739481e+07</td>\n",
       "      <td>228.400000</td>\n",
       "    </tr>\n",
       "    <tr>\n",
       "      <th>max</th>\n",
       "      <td>4871.000000</td>\n",
       "      <td>5011.000000</td>\n",
       "      <td>100.000000</td>\n",
       "      <td>6.500000e+07</td>\n",
       "      <td>3.707829e+08</td>\n",
       "      <td>8.949853e+08</td>\n",
       "      <td>8.399853e+08</td>\n",
       "      <td>43051.800000</td>\n",
       "    </tr>\n",
       "  </tbody>\n",
       "</table>\n",
       "</div>"
      ],
      "text/plain": [
       "           level_0        index           id  production_budget  \\\n",
       "count  3599.000000  3599.000000  3599.000000       3.599000e+03   \n",
       "mean   2573.098639  2636.199222    50.221173       1.909694e+07   \n",
       "std    1391.960173  1410.164929    28.716203       1.716282e+07   \n",
       "min       1.000000     2.000000     1.000000       2.000000e+05   \n",
       "25%    1397.500000  1448.500000    25.000000       4.900000e+06   \n",
       "50%    2596.000000  2651.000000    50.000000       1.500000e+07   \n",
       "75%    3804.500000  3870.500000    75.000000       3.000000e+07   \n",
       "max    4871.000000  5011.000000   100.000000       6.500000e+07   \n",
       "\n",
       "       domestic_gross  worldwide_gross  profit_over_pb           roi  \n",
       "count    3.599000e+03     3.599000e+03    3.599000e+03   3599.000000  \n",
       "mean     2.450792e+07     4.824937e+07    2.915244e+07    208.390997  \n",
       "std      3.667838e+07     7.502115e+07    6.772022e+07    956.443459  \n",
       "min      0.000000e+00     0.000000e+00   -6.448372e+07   -100.000000  \n",
       "25%      3.237005e+05     1.694063e+06   -3.305302e+06    -71.100000  \n",
       "50%      9.737892e+06     1.934462e+07    3.873142e+06     38.200000  \n",
       "75%      3.508412e+07     6.426185e+07    3.739481e+07    228.400000  \n",
       "max      3.707829e+08     8.949853e+08    8.399853e+08  43051.800000  "
      ]
     },
     "execution_count": 322,
     "metadata": {},
     "output_type": "execute_result"
    }
   ],
   "source": [
    "df_budget_2to65mil_21yr.describe()"
   ]
  },
  {
   "cell_type": "code",
   "execution_count": 338,
   "metadata": {
    "ExecuteTime": {
     "end_time": "2021-04-28T02:52:22.176969Z",
     "start_time": "2021-04-28T02:52:21.710249Z"
    }
   },
   "outputs": [
    {
     "data": {
      "text/plain": [
       "<AxesSubplot:xlabel='production_budget', ylabel='roi'>"
      ]
     },
     "execution_count": 338,
     "metadata": {},
     "output_type": "execute_result"
    },
    {
     "data": {
      "image/png": "[encoded data removed]",
      "text/plain": [
       "<Figure size 432x288 with 1 Axes>"
      ]
     },
     "metadata": {
      "needs_background": "light"
     },
     "output_type": "display_data"
    }
   ],
   "source": [
    "#df_budget_2to65mil_21yr['roi'].hist(bins=11, by='production_budget')\n",
    "sns.histplot(y=df_budget_2to65mil_21yr['roi'], x=df_budget_2to65mil_21yr['production_budget'],stat=\"count\",bins=10\n",
    "            )"
   ]
  },
  {
   "cell_type": "code",
   "execution_count": 340,
   "metadata": {
    "ExecuteTime": {
     "end_time": "2021-04-28T02:57:35.402886Z",
     "start_time": "2021-04-28T02:57:35.312092Z"
    }
   },
   "outputs": [
    {
     "data": {
      "text/plain": [
       "<AxesSubplot:ylabel='roi'>"
      ]
     },
     "execution_count": 340,
     "metadata": {},
     "output_type": "execute_result"
    },
    {
     "data": {
      "image/png": "[encoded data removed]",
      "text/plain": [
       "<Figure size 432x288 with 1 Axes>"
      ]
     },
     "metadata": {
      "needs_background": "light"
     },
     "output_type": "display_data"
    }
   ],
   "source": [
    "sns.boxplot(y=df_budget_2to65mil_21yr['roi'])"
   ]
  },
  {
   "cell_type": "markdown",
   "metadata": {},
   "source": [
    "Setting expectations on the ROI The Median RoI for movies in the medium budget range to 2mil to 65 mill is med 38% on return. Take in additional rule of thumb on marketing which is separate of the PB. the last 11 years is 37% I would say anything over this Roi would be a success as a first time movie maker. 50% roi to make everyone happy...  Then show histogram of group level of PB and Rois could do box plots of the same groups maybe..10 mil steps 2-15 15-25 25-35 35-45 45-55 55-65"
   ]
  },
  {
   "cell_type": "markdown",
   "metadata": {},
   "source": [
    "### Most popular genres\n",
    "best return on avg by genre\n",
    "or which genres make most money on avg % of budget\n",
    "\n",
    "\n"
   ]
  },
  {
   "cell_type": "markdown",
   "metadata": {},
   "source": [
    "df_imdbbasics basics had the genre info with movie"
   ]
  },
  {
   "cell_type": "code",
   "execution_count": 172,
   "metadata": {
    "ExecuteTime": {
     "end_time": "2021-04-27T06:39:05.141531Z",
     "start_time": "2021-04-27T06:39:05.132554Z"
    }
   },
   "outputs": [
    {
     "data": {
      "text/html": [
       "<div>\n",
       "<style scoped>\n",
       "    .dataframe tbody tr th:only-of-type {\n",
       "        vertical-align: middle;\n",
       "    }\n",
       "\n",
       "    .dataframe tbody tr th {\n",
       "        vertical-align: top;\n",
       "    }\n",
       "\n",
       "    .dataframe thead th {\n",
       "        text-align: right;\n",
       "    }\n",
       "</style>\n",
       "<table border=\"1\" class=\"dataframe\">\n",
       "  <thead>\n",
       "    <tr style=\"text-align: right;\">\n",
       "      <th></th>\n",
       "      <th>primary_title</th>\n",
       "      <th>original_title</th>\n",
       "      <th>start_year</th>\n",
       "      <th>runtime_minutes</th>\n",
       "      <th>genres</th>\n",
       "    </tr>\n",
       "    <tr>\n",
       "      <th>tconst</th>\n",
       "      <th></th>\n",
       "      <th></th>\n",
       "      <th></th>\n",
       "      <th></th>\n",
       "      <th></th>\n",
       "    </tr>\n",
       "  </thead>\n",
       "  <tbody>\n",
       "    <tr>\n",
       "      <th>tt0063540</th>\n",
       "      <td>Sunghursh</td>\n",
       "      <td>Sunghursh</td>\n",
       "      <td>2013</td>\n",
       "      <td>175.0</td>\n",
       "      <td>Action,Crime,Drama</td>\n",
       "    </tr>\n",
       "    <tr>\n",
       "      <th>tt0066787</th>\n",
       "      <td>One Day Before the Rainy Season</td>\n",
       "      <td>Ashad Ka Ek Din</td>\n",
       "      <td>2019</td>\n",
       "      <td>114.0</td>\n",
       "      <td>Biography,Drama</td>\n",
       "    </tr>\n",
       "    <tr>\n",
       "      <th>tt0069049</th>\n",
       "      <td>The Other Side of the Wind</td>\n",
       "      <td>The Other Side of the Wind</td>\n",
       "      <td>2018</td>\n",
       "      <td>122.0</td>\n",
       "      <td>Drama</td>\n",
       "    </tr>\n",
       "  </tbody>\n",
       "</table>\n",
       "</div>"
      ],
      "text/plain": [
       "                             primary_title              original_title  \\\n",
       "tconst                                                                   \n",
       "tt0063540                        Sunghursh                   Sunghursh   \n",
       "tt0066787  One Day Before the Rainy Season             Ashad Ka Ek Din   \n",
       "tt0069049       The Other Side of the Wind  The Other Side of the Wind   \n",
       "\n",
       "           start_year  runtime_minutes              genres  \n",
       "tconst                                                      \n",
       "tt0063540        2013            175.0  Action,Crime,Drama  \n",
       "tt0066787        2019            114.0     Biography,Drama  \n",
       "tt0069049        2018            122.0               Drama  "
      ]
     },
     "execution_count": 172,
     "metadata": {},
     "output_type": "execute_result"
    }
   ],
   "source": [
    "df_imdbbasics.head(3)"
   ]
  },
  {
   "cell_type": "code",
   "execution_count": 173,
   "metadata": {
    "ExecuteTime": {
     "end_time": "2021-04-27T06:41:54.991791Z",
     "start_time": "2021-04-27T06:41:54.935940Z"
    }
   },
   "outputs": [],
   "source": [
    "df_budget_genres = pd.merge(df_tn_movie_budget, df_imdbbasics, \n",
    "                            left_on=  ['movie'],\n",
    "                            right_on= ['primary_title'], \n",
    "                            how = 'left')"
   ]
  },
  {
   "cell_type": "code",
   "execution_count": 174,
   "metadata": {
    "ExecuteTime": {
     "end_time": "2021-04-27T06:42:05.842420Z",
     "start_time": "2021-04-27T06:42:05.830452Z"
    }
   },
   "outputs": [
    {
     "data": {
      "text/html": [
       "<div>\n",
       "<style scoped>\n",
       "    .dataframe tbody tr th:only-of-type {\n",
       "        vertical-align: middle;\n",
       "    }\n",
       "\n",
       "    .dataframe tbody tr th {\n",
       "        vertical-align: top;\n",
       "    }\n",
       "\n",
       "    .dataframe thead th {\n",
       "        text-align: right;\n",
       "    }\n",
       "</style>\n",
       "<table border=\"1\" class=\"dataframe\">\n",
       "  <thead>\n",
       "    <tr style=\"text-align: right;\">\n",
       "      <th></th>\n",
       "      <th>release_date</th>\n",
       "      <th>movie</th>\n",
       "      <th>production_budget</th>\n",
       "      <th>domestic_gross</th>\n",
       "      <th>worldwide_gross</th>\n",
       "      <th>primary_title</th>\n",
       "      <th>original_title</th>\n",
       "      <th>start_year</th>\n",
       "      <th>runtime_minutes</th>\n",
       "      <th>genres</th>\n",
       "    </tr>\n",
       "  </thead>\n",
       "  <tbody>\n",
       "    <tr>\n",
       "      <th>0</th>\n",
       "      <td>Dec 18, 2009</td>\n",
       "      <td>Avatar</td>\n",
       "      <td>425000000.0</td>\n",
       "      <td>760507625.0</td>\n",
       "      <td>2.776345e+09</td>\n",
       "      <td>Avatar</td>\n",
       "      <td>Abatâ</td>\n",
       "      <td>2011.0</td>\n",
       "      <td>93.0</td>\n",
       "      <td>Horror</td>\n",
       "    </tr>\n",
       "    <tr>\n",
       "      <th>1</th>\n",
       "      <td>May 20, 2011</td>\n",
       "      <td>Pirates of the Caribbean: On Stranger Tides</td>\n",
       "      <td>410600000.0</td>\n",
       "      <td>241063875.0</td>\n",
       "      <td>1.045664e+09</td>\n",
       "      <td>Pirates of the Caribbean: On Stranger Tides</td>\n",
       "      <td>Pirates of the Caribbean: On Stranger Tides</td>\n",
       "      <td>2011.0</td>\n",
       "      <td>136.0</td>\n",
       "      <td>Action,Adventure,Fantasy</td>\n",
       "    </tr>\n",
       "    <tr>\n",
       "      <th>2</th>\n",
       "      <td>Jun 7, 2019</td>\n",
       "      <td>Dark Phoenix</td>\n",
       "      <td>350000000.0</td>\n",
       "      <td>42762350.0</td>\n",
       "      <td>1.497624e+08</td>\n",
       "      <td>Dark Phoenix</td>\n",
       "      <td>Dark Phoenix</td>\n",
       "      <td>2019.0</td>\n",
       "      <td>113.0</td>\n",
       "      <td>Action,Adventure,Sci-Fi</td>\n",
       "    </tr>\n",
       "  </tbody>\n",
       "</table>\n",
       "</div>"
      ],
      "text/plain": [
       "   release_date                                        movie  \\\n",
       "0  Dec 18, 2009                                       Avatar   \n",
       "1  May 20, 2011  Pirates of the Caribbean: On Stranger Tides   \n",
       "2   Jun 7, 2019                                 Dark Phoenix   \n",
       "\n",
       "   production_budget  domestic_gross  worldwide_gross  \\\n",
       "0        425000000.0     760507625.0     2.776345e+09   \n",
       "1        410600000.0     241063875.0     1.045664e+09   \n",
       "2        350000000.0      42762350.0     1.497624e+08   \n",
       "\n",
       "                                 primary_title  \\\n",
       "0                                       Avatar   \n",
       "1  Pirates of the Caribbean: On Stranger Tides   \n",
       "2                                 Dark Phoenix   \n",
       "\n",
       "                                original_title  start_year  runtime_minutes  \\\n",
       "0                                        Abatâ      2011.0             93.0   \n",
       "1  Pirates of the Caribbean: On Stranger Tides      2011.0            136.0   \n",
       "2                                 Dark Phoenix      2019.0            113.0   \n",
       "\n",
       "                     genres  \n",
       "0                    Horror  \n",
       "1  Action,Adventure,Fantasy  \n",
       "2   Action,Adventure,Sci-Fi  "
      ]
     },
     "execution_count": 174,
     "metadata": {},
     "output_type": "execute_result"
    }
   ],
   "source": [
    "df_budget_genres.head(3)"
   ]
  },
  {
   "cell_type": "code",
   "execution_count": null,
   "metadata": {},
   "outputs": [],
   "source": [
    "#df_budget_genres.to_csv()"
   ]
  },
  {
   "cell_type": "code",
   "execution_count": 178,
   "metadata": {
    "ExecuteTime": {
     "end_time": "2021-04-27T06:48:47.117399Z",
     "start_time": "2021-04-27T06:48:47.107425Z"
    }
   },
   "outputs": [
    {
     "name": "stdout",
     "output_type": "stream",
     "text": [
      "<class 'pandas.core.frame.DataFrame'>\n",
      "Int64Index: 7221 entries, 0 to 7220\n",
      "Data columns (total 10 columns):\n",
      " #   Column             Non-Null Count  Dtype  \n",
      "---  ------             --------------  -----  \n",
      " 0   release_date       7221 non-null   object \n",
      " 1   movie              7221 non-null   object \n",
      " 2   production_budget  7221 non-null   float64\n",
      " 3   domestic_gross     7221 non-null   float64\n",
      " 4   worldwide_gross    7221 non-null   float64\n",
      " 5   primary_title      3815 non-null   object \n",
      " 6   original_title     3814 non-null   object \n",
      " 7   start_year         3815 non-null   float64\n",
      " 8   runtime_minutes    3328 non-null   float64\n",
      " 9   genres             3743 non-null   object \n",
      "dtypes: float64(5), object(5)\n",
      "memory usage: 620.6+ KB\n"
     ]
    }
   ],
   "source": [
    "df_budget_genres.info()\n"
   ]
  },
  {
   "cell_type": "code",
   "execution_count": 179,
   "metadata": {
    "ExecuteTime": {
     "end_time": "2021-04-27T06:50:39.936771Z",
     "start_time": "2021-04-27T06:50:39.913832Z"
    }
   },
   "outputs": [
    {
     "data": {
      "text/html": [
       "<div>\n",
       "<style scoped>\n",
       "    .dataframe tbody tr th:only-of-type {\n",
       "        vertical-align: middle;\n",
       "    }\n",
       "\n",
       "    .dataframe tbody tr th {\n",
       "        vertical-align: top;\n",
       "    }\n",
       "\n",
       "    .dataframe thead th {\n",
       "        text-align: right;\n",
       "    }\n",
       "</style>\n",
       "<table border=\"1\" class=\"dataframe\">\n",
       "  <thead>\n",
       "    <tr style=\"text-align: right;\">\n",
       "      <th></th>\n",
       "      <th>release_date</th>\n",
       "      <th>movie</th>\n",
       "      <th>production_budget</th>\n",
       "      <th>domestic_gross</th>\n",
       "      <th>worldwide_gross</th>\n",
       "      <th>primary_title</th>\n",
       "      <th>original_title</th>\n",
       "      <th>start_year</th>\n",
       "      <th>runtime_minutes</th>\n",
       "      <th>genres</th>\n",
       "    </tr>\n",
       "  </thead>\n",
       "  <tbody>\n",
       "    <tr>\n",
       "      <th>0</th>\n",
       "      <td>Dec 18, 2009</td>\n",
       "      <td>Avatar</td>\n",
       "      <td>425000000.0</td>\n",
       "      <td>760507625.0</td>\n",
       "      <td>2.776345e+09</td>\n",
       "      <td>Avatar</td>\n",
       "      <td>Abatâ</td>\n",
       "      <td>2011.0</td>\n",
       "      <td>93.0</td>\n",
       "      <td>[Horror]</td>\n",
       "    </tr>\n",
       "    <tr>\n",
       "      <th>1</th>\n",
       "      <td>May 20, 2011</td>\n",
       "      <td>Pirates of the Caribbean: On Stranger Tides</td>\n",
       "      <td>410600000.0</td>\n",
       "      <td>241063875.0</td>\n",
       "      <td>1.045664e+09</td>\n",
       "      <td>Pirates of the Caribbean: On Stranger Tides</td>\n",
       "      <td>Pirates of the Caribbean: On Stranger Tides</td>\n",
       "      <td>2011.0</td>\n",
       "      <td>136.0</td>\n",
       "      <td>[Action, Adventure, Fantasy]</td>\n",
       "    </tr>\n",
       "    <tr>\n",
       "      <th>2</th>\n",
       "      <td>Jun 7, 2019</td>\n",
       "      <td>Dark Phoenix</td>\n",
       "      <td>350000000.0</td>\n",
       "      <td>42762350.0</td>\n",
       "      <td>1.497624e+08</td>\n",
       "      <td>Dark Phoenix</td>\n",
       "      <td>Dark Phoenix</td>\n",
       "      <td>2019.0</td>\n",
       "      <td>113.0</td>\n",
       "      <td>[Action, Adventure, Sci-Fi]</td>\n",
       "    </tr>\n",
       "    <tr>\n",
       "      <th>3</th>\n",
       "      <td>May 1, 2015</td>\n",
       "      <td>Avengers: Age of Ultron</td>\n",
       "      <td>330600000.0</td>\n",
       "      <td>459005868.0</td>\n",
       "      <td>1.403014e+09</td>\n",
       "      <td>Avengers: Age of Ultron</td>\n",
       "      <td>Avengers: Age of Ultron</td>\n",
       "      <td>2015.0</td>\n",
       "      <td>141.0</td>\n",
       "      <td>[Action, Adventure, Sci-Fi]</td>\n",
       "    </tr>\n",
       "    <tr>\n",
       "      <th>4</th>\n",
       "      <td>Dec 15, 2017</td>\n",
       "      <td>Star Wars Ep. VIII: The Last Jedi</td>\n",
       "      <td>317000000.0</td>\n",
       "      <td>620181382.0</td>\n",
       "      <td>1.316722e+09</td>\n",
       "      <td>NaN</td>\n",
       "      <td>NaN</td>\n",
       "      <td>NaN</td>\n",
       "      <td>NaN</td>\n",
       "      <td>[nan]</td>\n",
       "    </tr>\n",
       "  </tbody>\n",
       "</table>\n",
       "</div>"
      ],
      "text/plain": [
       "   release_date                                        movie  \\\n",
       "0  Dec 18, 2009                                       Avatar   \n",
       "1  May 20, 2011  Pirates of the Caribbean: On Stranger Tides   \n",
       "2   Jun 7, 2019                                 Dark Phoenix   \n",
       "3   May 1, 2015                      Avengers: Age of Ultron   \n",
       "4  Dec 15, 2017            Star Wars Ep. VIII: The Last Jedi   \n",
       "\n",
       "   production_budget  domestic_gross  worldwide_gross  \\\n",
       "0        425000000.0     760507625.0     2.776345e+09   \n",
       "1        410600000.0     241063875.0     1.045664e+09   \n",
       "2        350000000.0      42762350.0     1.497624e+08   \n",
       "3        330600000.0     459005868.0     1.403014e+09   \n",
       "4        317000000.0     620181382.0     1.316722e+09   \n",
       "\n",
       "                                 primary_title  \\\n",
       "0                                       Avatar   \n",
       "1  Pirates of the Caribbean: On Stranger Tides   \n",
       "2                                 Dark Phoenix   \n",
       "3                      Avengers: Age of Ultron   \n",
       "4                                          NaN   \n",
       "\n",
       "                                original_title  start_year  runtime_minutes  \\\n",
       "0                                        Abatâ      2011.0             93.0   \n",
       "1  Pirates of the Caribbean: On Stranger Tides      2011.0            136.0   \n",
       "2                                 Dark Phoenix      2019.0            113.0   \n",
       "3                      Avengers: Age of Ultron      2015.0            141.0   \n",
       "4                                          NaN         NaN              NaN   \n",
       "\n",
       "                         genres  \n",
       "0                      [Horror]  \n",
       "1  [Action, Adventure, Fantasy]  \n",
       "2   [Action, Adventure, Sci-Fi]  \n",
       "3   [Action, Adventure, Sci-Fi]  \n",
       "4                         [nan]  "
      ]
     },
     "execution_count": 179,
     "metadata": {},
     "output_type": "execute_result"
    }
   ],
   "source": [
    "#genres is a list of upto 3 genres, splitting it to get the individual genres\n",
    "df_budget_genres['genres'] = df_budget_genres['genres'].astype(str).apply(lambda x: x.split(\",\") if x else x)\n",
    "df_budget_genres.head()"
   ]
  },
  {
   "cell_type": "code",
   "execution_count": 180,
   "metadata": {
    "ExecuteTime": {
     "end_time": "2021-04-27T06:52:16.478455Z",
     "start_time": "2021-04-27T06:52:16.472470Z"
    }
   },
   "outputs": [],
   "source": [
    "#a set of distinct genres in the df\n",
    "all_genres = set()\n",
    "for genres in df_budget_genres['genres']:\n",
    "    if genres:\n",
    "        all_genres.update(genres)"
   ]
  },
  {
   "cell_type": "code",
   "execution_count": 181,
   "metadata": {
    "ExecuteTime": {
     "end_time": "2021-04-27T06:52:30.992536Z",
     "start_time": "2021-04-27T06:52:30.987549Z"
    }
   },
   "outputs": [
    {
     "data": {
      "text/plain": [
       "{'Action',\n",
       " 'Adventure',\n",
       " 'Animation',\n",
       " 'Biography',\n",
       " 'Comedy',\n",
       " 'Crime',\n",
       " 'Documentary',\n",
       " 'Drama',\n",
       " 'Family',\n",
       " 'Fantasy',\n",
       " 'History',\n",
       " 'Horror',\n",
       " 'Music',\n",
       " 'Musical',\n",
       " 'Mystery',\n",
       " 'News',\n",
       " 'Reality-TV',\n",
       " 'Romance',\n",
       " 'Sci-Fi',\n",
       " 'Sport',\n",
       " 'Thriller',\n",
       " 'War',\n",
       " 'Western',\n",
       " 'nan'}"
      ]
     },
     "execution_count": 181,
     "metadata": {},
     "output_type": "execute_result"
    }
   ],
   "source": [
    "all_genres"
   ]
  },
  {
   "cell_type": "code",
   "execution_count": null,
   "metadata": {},
   "outputs": [],
   "source": []
  }
 ],
 "metadata": {
  "kernelspec": {
   "display_name": "Python 3",
   "language": "python",
   "name": "python3"
  },
  "language_info": {
   "codemirror_mode": {
    "name": "ipython",
    "version": 3
   },
   "file_extension": ".py",
   "mimetype": "text/x-python",
   "name": "python",
   "nbconvert_exporter": "python",
   "pygments_lexer": "ipython3",
   "version": "3.8.5"
  },
  "toc": {
   "base_numbering": 1,
   "nav_menu": {
    "height": "727px",
    "width": "441px"
   },
   "number_sections": true,
   "sideBar": true,
   "skip_h1_title": false,
   "title_cell": "Table of Contents",
   "title_sidebar": "Contents",
   "toc_cell": false,
   "toc_position": {},
   "toc_section_display": true,
   "toc_window_display": false
  },
  "varInspector": {
   "cols": {
    "lenName": 16,
    "lenType": 16,
    "lenVar": 40
   },
   "kernels_config": {
    "python": {
     "delete_cmd_postfix": "",
     "delete_cmd_prefix": "del ",
     "library": "var_list.py",
     "varRefreshCmd": "print(var_dic_list())"
    },
    "r": {
     "delete_cmd_postfix": ") ",
     "delete_cmd_prefix": "rm(",
     "library": "var_list.r",
     "varRefreshCmd": "cat(var_dic_list()) "
    }
   },
   "types_to_exclude": [
    "module",
    "function",
    "builtin_function_or_method",
    "instance",
    "_Feature"
   ],
   "window_display": false
  }
 },
 "nbformat": 4,
 "nbformat_minor": 2
}
