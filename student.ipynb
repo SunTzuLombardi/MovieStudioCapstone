{
 "cells": [
  {
   "cell_type": "markdown",
   "metadata": {},
   "source": [
    "## Final Project Submission\n",
    "\n",
    "Please fill out:\n",
    "* Student name: \n",
    "* Student pace: self paced / part time / full time\n",
    "* Scheduled project review date/time: \n",
    "* Instructor name: \n",
    "* Blog post URL:\n"
   ]
  },
  {
   "cell_type": "code",
   "execution_count": 2,
   "metadata": {
    "ExecuteTime": {
     "end_time": "2021-04-25T21:41:54.316183Z",
     "start_time": "2021-04-25T21:41:54.313156Z"
    }
   },
   "outputs": [],
   "source": [
    "# Your code here - remember to use markdown cells for comments as well!"
   ]
  },
  {
   "cell_type": "code",
   "execution_count": 3,
   "metadata": {
    "ExecuteTime": {
     "end_time": "2021-04-25T21:41:54.790771Z",
     "start_time": "2021-04-25T21:41:54.319145Z"
    }
   },
   "outputs": [],
   "source": [
    "import pandas as pd\n",
    "import numpy as nm\n",
    "from os import listdir"
   ]
  },
  {
   "cell_type": "code",
   "execution_count": 4,
   "metadata": {
    "ExecuteTime": {
     "end_time": "2021-04-25T21:41:54.797690Z",
     "start_time": "2021-04-25T21:41:54.792739Z"
    }
   },
   "outputs": [],
   "source": [
    "#helper to list all csv or type files in a dir\n",
    "def find_csv_filenames( path_to_dir, suffix=\".csv\"):\n",
    "    filenames = listdir(path_to_dir)\n",
    "    return [ filename for filename in filenames if filename.endswith( suffix ) ]\n",
    "\n",
    "#creates dataframes for type specified\n",
    "def create_df(filelist, suffix=\".csv\" ):\n",
    "    for file in filelist:\n",
    "        file = pd.read_csv(file)"
   ]
  },
  {
   "cell_type": "code",
   "execution_count": 5,
   "metadata": {
    "ExecuteTime": {
     "end_time": "2021-04-25T21:41:54.817635Z",
     "start_time": "2021-04-25T21:41:54.799722Z"
    }
   },
   "outputs": [
    {
     "data": {
      "text/plain": [
       "['bom.movie_gross.csv',\n",
       " 'imdb.name.basics.csv',\n",
       " 'imdb.title.akas.csv',\n",
       " 'imdb.title.basics.csv',\n",
       " 'imdb.title.crew.csv',\n",
       " 'imdb.title.principals.csv',\n",
       " 'imdb.title.ratings.csv',\n",
       " 'tmdb.movies.csv',\n",
       " 'tn.movie_budgets.csv']"
      ]
     },
     "execution_count": 5,
     "metadata": {},
     "output_type": "execute_result"
    }
   ],
   "source": [
    "csvfiles = find_csv_filenames('zippedData')\n",
    "tsvfiles = find_csv_filenames('zippedData','.tsv')\n",
    "csvfiles\n"
   ]
  },
  {
   "cell_type": "code",
   "execution_count": 6,
   "metadata": {
    "ExecuteTime": {
     "end_time": "2021-04-25T21:41:54.825793Z",
     "start_time": "2021-04-25T21:41:54.820627Z"
    }
   },
   "outputs": [
    {
     "data": {
      "text/plain": [
       "['rt.movie_info.tsv', 'rt.reviews.tsv']"
      ]
     },
     "execution_count": 6,
     "metadata": {},
     "output_type": "execute_result"
    }
   ],
   "source": [
    "tsvfiles"
   ]
  },
  {
   "cell_type": "code",
   "execution_count": 7,
   "metadata": {
    "ExecuteTime": {
     "end_time": "2021-04-25T21:41:58.870925Z",
     "start_time": "2021-04-25T21:41:54.827755Z"
    }
   },
   "outputs": [],
   "source": [
    "##Create DataFrames for all files\n",
    "df_bom = pd.read_csv('zippedData/bom.movie_gross.csv')\n",
    "df_imdb_name = pd.read_csv('zippedData/imdb.name.basics.csv')\n",
    "df_imdb_akas = pd.read_csv('zippedData/imdb.title.akas.csv')\n",
    "df_imdbbasics = pd.read_csv('zippedData/imdb.title.basics.csv')\n",
    "df_imdb_crew = pd.read_csv('zippedData/imdb.title.crew.csv')\n",
    "df_imdb_principals = pd.read_csv('zippedData/imdb.title.principals.csv')\n",
    "df_imdb_ratings = pd.read_csv('zippedData/imdb.title.ratings.csv')\n",
    "df_tmb = pd.read_csv('zippedData/tmdb.movies.csv')\n",
    "df_tn_movie_budget = pd.read_csv('zippedData/tn.movie_budgets.csv')\n",
    "df_rott_info = pd.read_csv('zippedData/rt.movie_info.tsv', sep='\\t')\n",
    "df_rott_rev = pd.read_csv('zippedData/rt.reviews.tsv',encoding= 'unicode_escape', sep='\\t')"
   ]
  },
  {
   "cell_type": "code",
   "execution_count": 8,
   "metadata": {
    "ExecuteTime": {
     "end_time": "2021-04-25T21:41:58.890781Z",
     "start_time": "2021-04-25T21:41:58.873860Z"
    }
   },
   "outputs": [
    {
     "name": "stdout",
     "output_type": "stream",
     "text": [
      "<class 'pandas.core.frame.DataFrame'>\n",
      "RangeIndex: 3387 entries, 0 to 3386\n",
      "Data columns (total 5 columns):\n",
      " #   Column          Non-Null Count  Dtype  \n",
      "---  ------          --------------  -----  \n",
      " 0   title           3387 non-null   object \n",
      " 1   studio          3382 non-null   object \n",
      " 2   domestic_gross  3359 non-null   float64\n",
      " 3   foreign_gross   2037 non-null   object \n",
      " 4   year            3387 non-null   int64  \n",
      "dtypes: float64(1), int64(1), object(3)\n",
      "memory usage: 132.4+ KB\n"
     ]
    }
   ],
   "source": [
    "##Bom Movie DB\n",
    "df_bom.info()"
   ]
  },
  {
   "cell_type": "markdown",
   "metadata": {},
   "source": [
    "It looks as if the data is for 2010 to 2018 movies of domestic and foreign gross in dollars. "
   ]
  },
  {
   "cell_type": "code",
   "execution_count": null,
   "metadata": {
    "ExecuteTime": {
     "end_time": "2021-04-25T21:41:58.992513Z",
     "start_time": "2021-04-25T21:41:54.328Z"
    }
   },
   "outputs": [],
   "source": [
    "##IMDB\n",
    "df_imdb_name.info()\n",
    "df_imdb_akas.info()\n",
    "df_imdbbasics.info()\n",
    "df_imdb_crew.info()\n",
    "df_imdb_principals.info()\n",
    "df_imdb_ratings.info()"
   ]
  },
  {
   "cell_type": "code",
   "execution_count": null,
   "metadata": {
    "ExecuteTime": {
     "end_time": "2021-04-25T21:41:58.993506Z",
     "start_time": "2021-04-25T21:41:54.329Z"
    }
   },
   "outputs": [],
   "source": [
    "print(df_imdb_name.head(3))\n",
    "print(df_imdb_akas.head(3))\n",
    "df_imdbbasics.tail(3)\n",
    "df_imdb_crew.head(3)\n",
    "df_imdb_principals.head(3)\n",
    "df_imdb_ratings.head(3)"
   ]
  },
  {
   "cell_type": "code",
   "execution_count": null,
   "metadata": {
    "ExecuteTime": {
     "end_time": "2021-04-25T21:41:58.994504Z",
     "start_time": "2021-04-25T21:41:54.333Z"
    }
   },
   "outputs": [],
   "source": [
    "##The Movie DB\n",
    "df_tmb.info()"
   ]
  },
  {
   "cell_type": "code",
   "execution_count": null,
   "metadata": {
    "ExecuteTime": {
     "end_time": "2021-04-25T21:41:58.995501Z",
     "start_time": "2021-04-25T21:41:54.335Z"
    }
   },
   "outputs": [],
   "source": [
    "df_tmb.tail(3)"
   ]
  },
  {
   "cell_type": "code",
   "execution_count": null,
   "metadata": {
    "ExecuteTime": {
     "end_time": "2021-04-25T21:41:58.997495Z",
     "start_time": "2021-04-25T21:41:54.337Z"
    }
   },
   "outputs": [],
   "source": [
    "##The Numbers\n",
    "df_tn_movie_budget.info()"
   ]
  },
  {
   "cell_type": "code",
   "execution_count": null,
   "metadata": {
    "ExecuteTime": {
     "end_time": "2021-04-25T21:41:58.998493Z",
     "start_time": "2021-04-25T21:41:54.339Z"
    }
   },
   "outputs": [],
   "source": [
    "df_tn_movie_budget.tail(3)"
   ]
  },
  {
   "cell_type": "code",
   "execution_count": null,
   "metadata": {
    "ExecuteTime": {
     "end_time": "2021-04-25T21:41:58.999490Z",
     "start_time": "2021-04-25T21:41:54.341Z"
    }
   },
   "outputs": [],
   "source": [
    "##Rotten Tomatoes\n",
    "df_rott_info.info()\n",
    "df_rott_rev.info()"
   ]
  },
  {
   "cell_type": "code",
   "execution_count": null,
   "metadata": {
    "ExecuteTime": {
     "end_time": "2021-04-25T21:41:59.000487Z",
     "start_time": "2021-04-25T21:41:54.343Z"
    }
   },
   "outputs": [],
   "source": [
    "df_rott_info.head(5)"
   ]
  },
  {
   "cell_type": "code",
   "execution_count": null,
   "metadata": {
    "ExecuteTime": {
     "end_time": "2021-04-25T21:41:59.001485Z",
     "start_time": "2021-04-25T21:41:54.344Z"
    }
   },
   "outputs": [],
   "source": [
    "df_rott_rev.head(3)"
   ]
  },
  {
   "cell_type": "markdown",
   "metadata": {},
   "source": [
    "Inspect for Missing Data"
   ]
  },
  {
   "cell_type": "code",
   "execution_count": null,
   "metadata": {
    "ExecuteTime": {
     "end_time": "2021-04-25T21:41:59.003479Z",
     "start_time": "2021-04-25T21:41:54.346Z"
    }
   },
   "outputs": [],
   "source": [
    "df_bom.describe()\n",
    "df_imdb_name\n",
    "df_imdb_akas\n",
    "df_imdbbasics\n",
    "df_imdb_crew\n",
    "df_imdb_principals \n",
    "df_imdb_ratings\n",
    "df_tmb \n",
    "df_tn_movie_budget \n",
    "df_rott_info\n",
    "df_rott_rev"
   ]
  },
  {
   "cell_type": "markdown",
   "metadata": {},
   "source": [
    "### Clean df_BOM(Box Office Mojo) data"
   ]
  },
  {
   "cell_type": "code",
   "execution_count": 330,
   "metadata": {
    "ExecuteTime": {
     "end_time": "2021-04-26T17:26:46.265687Z",
     "start_time": "2021-04-26T17:26:46.255713Z"
    }
   },
   "outputs": [
    {
     "data": {
      "text/plain": [
       "title                0\n",
       "studio               0\n",
       "domestic_gross       0\n",
       "foreign_gross     1349\n",
       "year                 0\n",
       "dtype: int64"
      ]
     },
     "execution_count": 330,
     "metadata": {},
     "output_type": "execute_result"
    }
   ],
   "source": [
    "df_bom.isna().sum()"
   ]
  },
  {
   "cell_type": "code",
   "execution_count": 109,
   "metadata": {
    "ExecuteTime": {
     "end_time": "2021-04-25T23:32:07.469708Z",
     "start_time": "2021-04-25T23:32:07.464721Z"
    }
   },
   "outputs": [
    {
     "data": {
      "text/plain": [
       "(3387, 5)"
      ]
     },
     "execution_count": 109,
     "metadata": {},
     "output_type": "execute_result"
    }
   ],
   "source": [
    "df_bom.shape"
   ]
  },
  {
   "cell_type": "code",
   "execution_count": 171,
   "metadata": {
    "ExecuteTime": {
     "end_time": "2021-04-26T00:23:41.643199Z",
     "start_time": "2021-04-26T00:23:41.629191Z"
    }
   },
   "outputs": [
    {
     "data": {
      "text/html": [
       "<div>\n",
       "<style scoped>\n",
       "    .dataframe tbody tr th:only-of-type {\n",
       "        vertical-align: middle;\n",
       "    }\n",
       "\n",
       "    .dataframe tbody tr th {\n",
       "        vertical-align: top;\n",
       "    }\n",
       "\n",
       "    .dataframe thead th {\n",
       "        text-align: right;\n",
       "    }\n",
       "</style>\n",
       "<table border=\"1\" class=\"dataframe\">\n",
       "  <thead>\n",
       "    <tr style=\"text-align: right;\">\n",
       "      <th></th>\n",
       "      <th>title</th>\n",
       "      <th>studio</th>\n",
       "      <th>domestic_gross</th>\n",
       "      <th>foreign_gross</th>\n",
       "      <th>year</th>\n",
       "    </tr>\n",
       "  </thead>\n",
       "  <tbody>\n",
       "    <tr>\n",
       "      <th>3386</th>\n",
       "      <td>An Actor Prepares</td>\n",
       "      <td>Grav.</td>\n",
       "      <td>1700.0</td>\n",
       "      <td>NaN</td>\n",
       "      <td>2018</td>\n",
       "    </tr>\n",
       "    <tr>\n",
       "      <th>3183</th>\n",
       "      <td>On the Basis of Sex</td>\n",
       "      <td>Focus</td>\n",
       "      <td>24600000.0</td>\n",
       "      <td>13600000.0</td>\n",
       "      <td>2018</td>\n",
       "    </tr>\n",
       "    <tr>\n",
       "      <th>3176</th>\n",
       "      <td>Tyler Perry's Acrimony</td>\n",
       "      <td>LGF</td>\n",
       "      <td>43500000.0</td>\n",
       "      <td>2900000.0</td>\n",
       "      <td>2018</td>\n",
       "    </tr>\n",
       "    <tr>\n",
       "      <th>3177</th>\n",
       "      <td>Mary Queen of Scots</td>\n",
       "      <td>Focus</td>\n",
       "      <td>16500000.0</td>\n",
       "      <td>29900000.0</td>\n",
       "      <td>2018</td>\n",
       "    </tr>\n",
       "    <tr>\n",
       "      <th>3178</th>\n",
       "      <td>The Possession of Hannah Grace</td>\n",
       "      <td>SGem</td>\n",
       "      <td>14800000.0</td>\n",
       "      <td>28200000.0</td>\n",
       "      <td>2018</td>\n",
       "    </tr>\n",
       "    <tr>\n",
       "      <th>...</th>\n",
       "      <td>...</td>\n",
       "      <td>...</td>\n",
       "      <td>...</td>\n",
       "      <td>...</td>\n",
       "      <td>...</td>\n",
       "    </tr>\n",
       "    <tr>\n",
       "      <th>220</th>\n",
       "      <td>After.Life</td>\n",
       "      <td>Anch.</td>\n",
       "      <td>109000.0</td>\n",
       "      <td>1900000.0</td>\n",
       "      <td>2010</td>\n",
       "    </tr>\n",
       "    <tr>\n",
       "      <th>221</th>\n",
       "      <td>Cairo Time</td>\n",
       "      <td>IFC</td>\n",
       "      <td>1600000.0</td>\n",
       "      <td>391000.0</td>\n",
       "      <td>2010</td>\n",
       "    </tr>\n",
       "    <tr>\n",
       "      <th>222</th>\n",
       "      <td>Flipped</td>\n",
       "      <td>WB</td>\n",
       "      <td>1800000.0</td>\n",
       "      <td>NaN</td>\n",
       "      <td>2010</td>\n",
       "    </tr>\n",
       "    <tr>\n",
       "      <th>223</th>\n",
       "      <td>Guzaarish</td>\n",
       "      <td>UTV</td>\n",
       "      <td>1000000.0</td>\n",
       "      <td>695000.0</td>\n",
       "      <td>2010</td>\n",
       "    </tr>\n",
       "    <tr>\n",
       "      <th>0</th>\n",
       "      <td>Toy Story 3</td>\n",
       "      <td>BV</td>\n",
       "      <td>415000000.0</td>\n",
       "      <td>652000000.0</td>\n",
       "      <td>2010</td>\n",
       "    </tr>\n",
       "  </tbody>\n",
       "</table>\n",
       "<p>3387 rows × 5 columns</p>\n",
       "</div>"
      ],
      "text/plain": [
       "                               title studio  domestic_gross  foreign_gross  \\\n",
       "3386               An Actor Prepares  Grav.          1700.0            NaN   \n",
       "3183             On the Basis of Sex  Focus      24600000.0     13600000.0   \n",
       "3176          Tyler Perry's Acrimony    LGF      43500000.0      2900000.0   \n",
       "3177             Mary Queen of Scots  Focus      16500000.0     29900000.0   \n",
       "3178  The Possession of Hannah Grace   SGem      14800000.0     28200000.0   \n",
       "...                              ...    ...             ...            ...   \n",
       "220                       After.Life  Anch.        109000.0      1900000.0   \n",
       "221                       Cairo Time    IFC       1600000.0       391000.0   \n",
       "222                          Flipped     WB       1800000.0            NaN   \n",
       "223                        Guzaarish    UTV       1000000.0       695000.0   \n",
       "0                        Toy Story 3     BV     415000000.0    652000000.0   \n",
       "\n",
       "      year  \n",
       "3386  2018  \n",
       "3183  2018  \n",
       "3176  2018  \n",
       "3177  2018  \n",
       "3178  2018  \n",
       "...    ...  \n",
       "220   2010  \n",
       "221   2010  \n",
       "222   2010  \n",
       "223   2010  \n",
       "0     2010  \n",
       "\n",
       "[3387 rows x 5 columns]"
      ]
     },
     "execution_count": 171,
     "metadata": {},
     "output_type": "execute_result"
    }
   ],
   "source": [
    "df_bom.sort_values(by=['year'], ascending=False)"
   ]
  },
  {
   "cell_type": "code",
   "execution_count": 331,
   "metadata": {
    "ExecuteTime": {
     "end_time": "2021-04-26T17:27:16.042718Z",
     "start_time": "2021-04-26T17:27:16.029752Z"
    }
   },
   "outputs": [
    {
     "name": "stdout",
     "output_type": "stream",
     "text": [
      "<class 'pandas.core.frame.DataFrame'>\n",
      "Int64Index: 3356 entries, 0 to 3386\n",
      "Data columns (total 5 columns):\n",
      " #   Column          Non-Null Count  Dtype  \n",
      "---  ------          --------------  -----  \n",
      " 0   title           3356 non-null   object \n",
      " 1   studio          3356 non-null   object \n",
      " 2   domestic_gross  3356 non-null   float64\n",
      " 3   foreign_gross   2007 non-null   float64\n",
      " 4   year            3356 non-null   int64  \n",
      "dtypes: float64(2), int64(1), object(2)\n",
      "memory usage: 157.3+ KB\n"
     ]
    }
   ],
   "source": [
    "df_bom.info()"
   ]
  },
  {
   "cell_type": "code",
   "execution_count": 168,
   "metadata": {
    "ExecuteTime": {
     "end_time": "2021-04-26T00:18:41.037169Z",
     "start_time": "2021-04-26T00:18:41.032146Z"
    },
    "scrolled": true
   },
   "outputs": [],
   "source": [
    "#Convert string to numeric values...5 or so of the billions needed to be converted\n",
    "df_bom['foreign_gross'] = pd.to_numeric(df_bom['foreign_gross'])"
   ]
  },
  {
   "cell_type": "code",
   "execution_count": 267,
   "metadata": {
    "ExecuteTime": {
     "end_time": "2021-04-26T05:44:20.104299Z",
     "start_time": "2021-04-26T05:44:20.099310Z"
    }
   },
   "outputs": [],
   "source": [
    "df_bom = df_bom[df_bom['domestic_gross'].notna()]"
   ]
  },
  {
   "cell_type": "code",
   "execution_count": 274,
   "metadata": {
    "ExecuteTime": {
     "end_time": "2021-04-26T05:48:53.643466Z",
     "start_time": "2021-04-26T05:48:53.639476Z"
    }
   },
   "outputs": [],
   "source": [
    "df_bom = df_bom[df_bom['studio'].notna()]"
   ]
  },
  {
   "cell_type": "code",
   "execution_count": 275,
   "metadata": {
    "ExecuteTime": {
     "end_time": "2021-04-26T05:49:14.586405Z",
     "start_time": "2021-04-26T05:49:14.574429Z"
    }
   },
   "outputs": [
    {
     "name": "stdout",
     "output_type": "stream",
     "text": [
      "<class 'pandas.core.frame.DataFrame'>\n",
      "Int64Index: 3356 entries, 0 to 3386\n",
      "Data columns (total 5 columns):\n",
      " #   Column          Non-Null Count  Dtype  \n",
      "---  ------          --------------  -----  \n",
      " 0   title           3356 non-null   object \n",
      " 1   studio          3356 non-null   object \n",
      " 2   domestic_gross  3356 non-null   float64\n",
      " 3   foreign_gross   2007 non-null   float64\n",
      " 4   year            3356 non-null   int64  \n",
      "dtypes: float64(2), int64(1), object(2)\n",
      "memory usage: 157.3+ KB\n"
     ]
    }
   ],
   "source": [
    "df_bom.info()"
   ]
  },
  {
   "cell_type": "markdown",
   "metadata": {},
   "source": [
    "### A Few values needed to be converted to billions"
   ]
  },
  {
   "cell_type": "code",
   "execution_count": 268,
   "metadata": {
    "ExecuteTime": {
     "end_time": "2021-04-26T05:44:35.297965Z",
     "start_time": "2021-04-26T05:44:35.289985Z"
    }
   },
   "outputs": [
    {
     "data": {
      "text/html": [
       "<div>\n",
       "<style scoped>\n",
       "    .dataframe tbody tr th:only-of-type {\n",
       "        vertical-align: middle;\n",
       "    }\n",
       "\n",
       "    .dataframe tbody tr th {\n",
       "        vertical-align: top;\n",
       "    }\n",
       "\n",
       "    .dataframe thead th {\n",
       "        text-align: right;\n",
       "    }\n",
       "</style>\n",
       "<table border=\"1\" class=\"dataframe\">\n",
       "  <thead>\n",
       "    <tr style=\"text-align: right;\">\n",
       "      <th></th>\n",
       "      <th>title</th>\n",
       "      <th>studio</th>\n",
       "      <th>domestic_gross</th>\n",
       "      <th>foreign_gross</th>\n",
       "      <th>year</th>\n",
       "    </tr>\n",
       "  </thead>\n",
       "  <tbody>\n",
       "    <tr>\n",
       "      <th>3107</th>\n",
       "      <td>Mary Poppins Returns</td>\n",
       "      <td>BV</td>\n",
       "      <td>172000000.0</td>\n",
       "      <td>177600000.0</td>\n",
       "      <td>2018</td>\n",
       "    </tr>\n",
       "  </tbody>\n",
       "</table>\n",
       "</div>"
      ],
      "text/plain": [
       "                     title studio  domestic_gross  foreign_gross  year\n",
       "3107  Mary Poppins Returns     BV     172000000.0    177600000.0  2018"
      ]
     },
     "execution_count": 268,
     "metadata": {},
     "output_type": "execute_result"
    }
   ],
   "source": [
    "df_bom.iloc[[3079]]"
   ]
  },
  {
   "cell_type": "code",
   "execution_count": 162,
   "metadata": {
    "ExecuteTime": {
     "end_time": "2021-04-26T00:14:05.299150Z",
     "start_time": "2021-04-26T00:14:05.292168Z"
    }
   },
   "outputs": [],
   "source": [
    "df_bom.iloc[[3079],[3]] =1369500000.0"
   ]
  },
  {
   "cell_type": "code",
   "execution_count": 269,
   "metadata": {
    "ExecuteTime": {
     "end_time": "2021-04-26T05:44:52.808378Z",
     "start_time": "2021-04-26T05:44:52.796407Z"
    }
   },
   "outputs": [
    {
     "data": {
      "text/html": [
       "<div>\n",
       "<style scoped>\n",
       "    .dataframe tbody tr th:only-of-type {\n",
       "        vertical-align: middle;\n",
       "    }\n",
       "\n",
       "    .dataframe tbody tr th {\n",
       "        vertical-align: top;\n",
       "    }\n",
       "\n",
       "    .dataframe thead th {\n",
       "        text-align: right;\n",
       "    }\n",
       "</style>\n",
       "<table border=\"1\" class=\"dataframe\">\n",
       "  <thead>\n",
       "    <tr style=\"text-align: right;\">\n",
       "      <th></th>\n",
       "      <th>title</th>\n",
       "      <th>studio</th>\n",
       "      <th>domestic_gross</th>\n",
       "      <th>foreign_gross</th>\n",
       "      <th>year</th>\n",
       "    </tr>\n",
       "  </thead>\n",
       "  <tbody>\n",
       "    <tr>\n",
       "      <th>1476</th>\n",
       "      <td>Storage 24</td>\n",
       "      <td>Magn.</td>\n",
       "      <td>100.0</td>\n",
       "      <td>NaN</td>\n",
       "      <td>2013</td>\n",
       "    </tr>\n",
       "    <tr>\n",
       "      <th>2321</th>\n",
       "      <td>The Chambermaid</td>\n",
       "      <td>FM</td>\n",
       "      <td>300.0</td>\n",
       "      <td>NaN</td>\n",
       "      <td>2015</td>\n",
       "    </tr>\n",
       "    <tr>\n",
       "      <th>2757</th>\n",
       "      <td>Satanic</td>\n",
       "      <td>Magn.</td>\n",
       "      <td>300.0</td>\n",
       "      <td>NaN</td>\n",
       "      <td>2016</td>\n",
       "    </tr>\n",
       "    <tr>\n",
       "      <th>2756</th>\n",
       "      <td>News From Planet Mars</td>\n",
       "      <td>KL</td>\n",
       "      <td>300.0</td>\n",
       "      <td>NaN</td>\n",
       "      <td>2016</td>\n",
       "    </tr>\n",
       "    <tr>\n",
       "      <th>3078</th>\n",
       "      <td>2:22</td>\n",
       "      <td>Magn.</td>\n",
       "      <td>400.0</td>\n",
       "      <td>NaN</td>\n",
       "      <td>2017</td>\n",
       "    </tr>\n",
       "    <tr>\n",
       "      <th>...</th>\n",
       "      <td>...</td>\n",
       "      <td>...</td>\n",
       "      <td>...</td>\n",
       "      <td>...</td>\n",
       "      <td>...</td>\n",
       "    </tr>\n",
       "    <tr>\n",
       "      <th>2866</th>\n",
       "      <td>47 Meters Down</td>\n",
       "      <td>ENTMP</td>\n",
       "      <td>44300000.0</td>\n",
       "      <td>NaN</td>\n",
       "      <td>2017</td>\n",
       "    </tr>\n",
       "    <tr>\n",
       "      <th>833</th>\n",
       "      <td>Red Dawn (2012)</td>\n",
       "      <td>FD</td>\n",
       "      <td>44800000.0</td>\n",
       "      <td>NaN</td>\n",
       "      <td>2012</td>\n",
       "    </tr>\n",
       "    <tr>\n",
       "      <th>2864</th>\n",
       "      <td>All Eyez on Me</td>\n",
       "      <td>LG/S</td>\n",
       "      <td>44900000.0</td>\n",
       "      <td>NaN</td>\n",
       "      <td>2017</td>\n",
       "    </tr>\n",
       "    <tr>\n",
       "      <th>1955</th>\n",
       "      <td>War Room</td>\n",
       "      <td>TriS</td>\n",
       "      <td>67800000.0</td>\n",
       "      <td>NaN</td>\n",
       "      <td>2015</td>\n",
       "    </tr>\n",
       "    <tr>\n",
       "      <th>3160</th>\n",
       "      <td>Book Club</td>\n",
       "      <td>Par.</td>\n",
       "      <td>68600000.0</td>\n",
       "      <td>NaN</td>\n",
       "      <td>2018</td>\n",
       "    </tr>\n",
       "  </tbody>\n",
       "</table>\n",
       "<p>1350 rows × 5 columns</p>\n",
       "</div>"
      ],
      "text/plain": [
       "                      title studio  domestic_gross  foreign_gross  year\n",
       "1476             Storage 24  Magn.           100.0            NaN  2013\n",
       "2321        The Chambermaid     FM           300.0            NaN  2015\n",
       "2757                Satanic  Magn.           300.0            NaN  2016\n",
       "2756  News From Planet Mars     KL           300.0            NaN  2016\n",
       "3078                   2:22  Magn.           400.0            NaN  2017\n",
       "...                     ...    ...             ...            ...   ...\n",
       "2866         47 Meters Down  ENTMP      44300000.0            NaN  2017\n",
       "833         Red Dawn (2012)     FD      44800000.0            NaN  2012\n",
       "2864         All Eyez on Me   LG/S      44900000.0            NaN  2017\n",
       "1955               War Room   TriS      67800000.0            NaN  2015\n",
       "3160              Book Club   Par.      68600000.0            NaN  2018\n",
       "\n",
       "[1350 rows x 5 columns]"
      ]
     },
     "execution_count": 269,
     "metadata": {},
     "output_type": "execute_result"
    }
   ],
   "source": [
    "df_bom[df_bom['foreign_gross'].isna()].sort_values(by='domestic_gross')"
   ]
  },
  {
   "cell_type": "code",
   "execution_count": 276,
   "metadata": {
    "ExecuteTime": {
     "end_time": "2021-04-26T05:50:24.679107Z",
     "start_time": "2021-04-26T05:50:24.672125Z"
    }
   },
   "outputs": [
    {
     "data": {
      "text/plain": [
       "title                0\n",
       "studio               0\n",
       "domestic_gross       0\n",
       "foreign_gross     1349\n",
       "year                 0\n",
       "dtype: int64"
      ]
     },
     "execution_count": 276,
     "metadata": {},
     "output_type": "execute_result"
    }
   ],
   "source": [
    "df_bom.isna().sum()"
   ]
  },
  {
   "cell_type": "code",
   "execution_count": 193,
   "metadata": {
    "ExecuteTime": {
     "end_time": "2021-04-26T01:00:38.450056Z",
     "start_time": "2021-04-26T01:00:38.440084Z"
    }
   },
   "outputs": [
    {
     "data": {
      "text/plain": [
       "count    2.037000e+03\n",
       "mean     7.766783e+07\n",
       "std      1.472445e+08\n",
       "min      6.000000e+02\n",
       "25%      3.800000e+06\n",
       "50%      1.900000e+07\n",
       "75%      7.590000e+07\n",
       "max      1.369500e+09\n",
       "Name: foreign_gross, dtype: float64"
      ]
     },
     "execution_count": 193,
     "metadata": {},
     "output_type": "execute_result"
    }
   ],
   "source": [
    "df_bom.foreign_gross.describe()"
   ]
  },
  {
   "cell_type": "code",
   "execution_count": 228,
   "metadata": {
    "ExecuteTime": {
     "end_time": "2021-04-26T04:21:34.876256Z",
     "start_time": "2021-04-26T04:21:34.872299Z"
    }
   },
   "outputs": [],
   "source": [
    "#median for foreign gross is .66 the sum of averages of dom and for gross\n",
    "#will use the stddev from population\n",
    "def calculate_foreign_gross(dom_gross):\n",
    "    for_gross_mean = .66 * dom_gross\n",
    "    std = for_gross_mean/3\n",
    "    for_gross = nm.random.normal(for_gross_mean,std)\n",
    "    return for_gross\n",
    "\n",
    "    "
   ]
  },
  {
   "cell_type": "code",
   "execution_count": 229,
   "metadata": {
    "ExecuteTime": {
     "end_time": "2021-04-26T04:21:37.382035Z",
     "start_time": "2021-04-26T04:21:37.377016Z"
    }
   },
   "outputs": [
    {
     "data": {
      "text/plain": [
       "26544068.20370775"
      ]
     },
     "execution_count": 229,
     "metadata": {},
     "output_type": "execute_result"
    }
   ],
   "source": [
    "calculate_foreign_gross(68600000.0)"
   ]
  },
  {
   "cell_type": "code",
   "execution_count": null,
   "metadata": {
    "ExecuteTime": {
     "end_time": "2021-04-26T05:31:30.670252Z",
     "start_time": "2021-04-26T05:31:30.650305Z"
    }
   },
   "outputs": [],
   "source": [
    "\n"
   ]
  },
  {
   "cell_type": "code",
   "execution_count": 272,
   "metadata": {
    "ExecuteTime": {
     "end_time": "2021-04-26T05:46:55.187350Z",
     "start_time": "2021-04-26T05:46:55.180369Z"
    }
   },
   "outputs": [
    {
     "data": {
      "text/plain": [
       "title                0\n",
       "studio               3\n",
       "domestic_gross       0\n",
       "foreign_gross     1350\n",
       "year                 0\n",
       "dtype: int64"
      ]
     },
     "execution_count": 272,
     "metadata": {},
     "output_type": "execute_result"
    }
   ],
   "source": [
    "df_bom.isna().sum()"
   ]
  },
  {
   "cell_type": "markdown",
   "metadata": {},
   "source": [
    "### Clean imdb_name data"
   ]
  },
  {
   "cell_type": "code",
   "execution_count": 288,
   "metadata": {
    "ExecuteTime": {
     "end_time": "2021-04-26T16:43:34.305311Z",
     "start_time": "2021-04-26T16:43:34.288353Z"
    }
   },
   "outputs": [
    {
     "data": {
      "text/plain": [
       "(606648, 6)"
      ]
     },
     "execution_count": 288,
     "metadata": {},
     "output_type": "execute_result"
    }
   ],
   "source": [
    "df_imdb_name.shape"
   ]
  },
  {
   "cell_type": "code",
   "execution_count": 335,
   "metadata": {
    "ExecuteTime": {
     "end_time": "2021-04-26T17:36:10.731977Z",
     "start_time": "2021-04-26T17:36:10.636233Z"
    }
   },
   "outputs": [
    {
     "data": {
      "text/plain": [
       "nconst                    0\n",
       "primary_name              0\n",
       "primary_profession    51340\n",
       "known_for_titles      30204\n",
       "dtype: int64"
      ]
     },
     "execution_count": 335,
     "metadata": {},
     "output_type": "execute_result"
    }
   ],
   "source": [
    "df_imdb_name.isna().sum()"
   ]
  },
  {
   "cell_type": "code",
   "execution_count": 289,
   "metadata": {
    "ExecuteTime": {
     "end_time": "2021-04-26T16:48:39.398861Z",
     "start_time": "2021-04-26T16:48:39.194244Z"
    }
   },
   "outputs": [],
   "source": [
    "#Can drop birth_year and death year\n",
    "df_imdb_name = df_imdb_name.drop(columns=['birth_year','death_year'])"
   ]
  },
  {
   "cell_type": "code",
   "execution_count": 332,
   "metadata": {
    "ExecuteTime": {
     "end_time": "2021-04-26T17:27:40.211830Z",
     "start_time": "2021-04-26T17:27:40.099167Z"
    }
   },
   "outputs": [
    {
     "data": {
      "text/plain": [
       "nconst                    0\n",
       "primary_name              0\n",
       "primary_profession    51340\n",
       "known_for_titles      30204\n",
       "dtype: int64"
      ]
     },
     "execution_count": 332,
     "metadata": {},
     "output_type": "execute_result"
    }
   ],
   "source": [
    "df_imdb_name.isna().sum()"
   ]
  },
  {
   "cell_type": "code",
   "execution_count": 291,
   "metadata": {
    "ExecuteTime": {
     "end_time": "2021-04-26T16:50:21.329874Z",
     "start_time": "2021-04-26T16:50:21.319878Z"
    }
   },
   "outputs": [
    {
     "data": {
      "text/html": [
       "<div>\n",
       "<style scoped>\n",
       "    .dataframe tbody tr th:only-of-type {\n",
       "        vertical-align: middle;\n",
       "    }\n",
       "\n",
       "    .dataframe tbody tr th {\n",
       "        vertical-align: top;\n",
       "    }\n",
       "\n",
       "    .dataframe thead th {\n",
       "        text-align: right;\n",
       "    }\n",
       "</style>\n",
       "<table border=\"1\" class=\"dataframe\">\n",
       "  <thead>\n",
       "    <tr style=\"text-align: right;\">\n",
       "      <th></th>\n",
       "      <th>nconst</th>\n",
       "      <th>primary_name</th>\n",
       "      <th>primary_profession</th>\n",
       "      <th>known_for_titles</th>\n",
       "    </tr>\n",
       "  </thead>\n",
       "  <tbody>\n",
       "    <tr>\n",
       "      <th>0</th>\n",
       "      <td>nm0061671</td>\n",
       "      <td>Mary Ellen Bauder</td>\n",
       "      <td>miscellaneous,production_manager,producer</td>\n",
       "      <td>tt0837562,tt2398241,tt0844471,tt0118553</td>\n",
       "    </tr>\n",
       "    <tr>\n",
       "      <th>1</th>\n",
       "      <td>nm0061865</td>\n",
       "      <td>Joseph Bauer</td>\n",
       "      <td>composer,music_department,sound_department</td>\n",
       "      <td>tt0896534,tt6791238,tt0287072,tt1682940</td>\n",
       "    </tr>\n",
       "    <tr>\n",
       "      <th>2</th>\n",
       "      <td>nm0062070</td>\n",
       "      <td>Bruce Baum</td>\n",
       "      <td>miscellaneous,actor,writer</td>\n",
       "      <td>tt1470654,tt0363631,tt0104030,tt0102898</td>\n",
       "    </tr>\n",
       "    <tr>\n",
       "      <th>3</th>\n",
       "      <td>nm0062195</td>\n",
       "      <td>Axel Baumann</td>\n",
       "      <td>camera_department,cinematographer,art_department</td>\n",
       "      <td>tt0114371,tt2004304,tt1618448,tt1224387</td>\n",
       "    </tr>\n",
       "    <tr>\n",
       "      <th>4</th>\n",
       "      <td>nm0062798</td>\n",
       "      <td>Pete Baxter</td>\n",
       "      <td>production_designer,art_department,set_decorator</td>\n",
       "      <td>tt0452644,tt0452692,tt3458030,tt2178256</td>\n",
       "    </tr>\n",
       "  </tbody>\n",
       "</table>\n",
       "</div>"
      ],
      "text/plain": [
       "      nconst       primary_name  \\\n",
       "0  nm0061671  Mary Ellen Bauder   \n",
       "1  nm0061865       Joseph Bauer   \n",
       "2  nm0062070         Bruce Baum   \n",
       "3  nm0062195       Axel Baumann   \n",
       "4  nm0062798        Pete Baxter   \n",
       "\n",
       "                                 primary_profession  \\\n",
       "0         miscellaneous,production_manager,producer   \n",
       "1        composer,music_department,sound_department   \n",
       "2                        miscellaneous,actor,writer   \n",
       "3  camera_department,cinematographer,art_department   \n",
       "4  production_designer,art_department,set_decorator   \n",
       "\n",
       "                          known_for_titles  \n",
       "0  tt0837562,tt2398241,tt0844471,tt0118553  \n",
       "1  tt0896534,tt6791238,tt0287072,tt1682940  \n",
       "2  tt1470654,tt0363631,tt0104030,tt0102898  \n",
       "3  tt0114371,tt2004304,tt1618448,tt1224387  \n",
       "4  tt0452644,tt0452692,tt3458030,tt2178256  "
      ]
     },
     "execution_count": 291,
     "metadata": {},
     "output_type": "execute_result"
    }
   ],
   "source": [
    "df_imdb_name.head()"
   ]
  },
  {
   "cell_type": "code",
   "execution_count": null,
   "metadata": {},
   "outputs": [],
   "source": [
    "df_imdb_name.isna().sum()"
   ]
  },
  {
   "cell_type": "code",
   "execution_count": null,
   "metadata": {},
   "outputs": [],
   "source": []
  },
  {
   "cell_type": "markdown",
   "metadata": {},
   "source": [
    "### Clean imdb_akas data"
   ]
  },
  {
   "cell_type": "code",
   "execution_count": 293,
   "metadata": {
    "ExecuteTime": {
     "end_time": "2021-04-26T16:51:58.491487Z",
     "start_time": "2021-04-26T16:51:58.487498Z"
    }
   },
   "outputs": [
    {
     "data": {
      "text/plain": [
       "(331703, 8)"
      ]
     },
     "execution_count": 293,
     "metadata": {},
     "output_type": "execute_result"
    }
   ],
   "source": [
    "df_imdb_akas.shape"
   ]
  },
  {
   "cell_type": "code",
   "execution_count": 336,
   "metadata": {
    "ExecuteTime": {
     "end_time": "2021-04-26T17:36:57.783644Z",
     "start_time": "2021-04-26T17:36:57.649968Z"
    }
   },
   "outputs": [
    {
     "data": {
      "text/plain": [
       "title_id                  0\n",
       "ordering                  0\n",
       "title                     0\n",
       "region                53293\n",
       "language             289988\n",
       "types                163256\n",
       "attributes           316778\n",
       "is_original_title        25\n",
       "dtype: int64"
      ]
     },
     "execution_count": 336,
     "metadata": {},
     "output_type": "execute_result"
    }
   ],
   "source": [
    "df_imdb_akas.isna().sum()"
   ]
  },
  {
   "cell_type": "code",
   "execution_count": 337,
   "metadata": {
    "ExecuteTime": {
     "end_time": "2021-04-26T17:38:57.335155Z",
     "start_time": "2021-04-26T17:38:57.319198Z"
    }
   },
   "outputs": [
    {
     "data": {
      "text/html": [
       "<div>\n",
       "<style scoped>\n",
       "    .dataframe tbody tr th:only-of-type {\n",
       "        vertical-align: middle;\n",
       "    }\n",
       "\n",
       "    .dataframe tbody tr th {\n",
       "        vertical-align: top;\n",
       "    }\n",
       "\n",
       "    .dataframe thead th {\n",
       "        text-align: right;\n",
       "    }\n",
       "</style>\n",
       "<table border=\"1\" class=\"dataframe\">\n",
       "  <thead>\n",
       "    <tr style=\"text-align: right;\">\n",
       "      <th></th>\n",
       "      <th>title_id</th>\n",
       "      <th>ordering</th>\n",
       "      <th>title</th>\n",
       "      <th>region</th>\n",
       "      <th>language</th>\n",
       "      <th>types</th>\n",
       "      <th>attributes</th>\n",
       "      <th>is_original_title</th>\n",
       "    </tr>\n",
       "  </thead>\n",
       "  <tbody>\n",
       "    <tr>\n",
       "      <th>0</th>\n",
       "      <td>tt0369610</td>\n",
       "      <td>10</td>\n",
       "      <td>Джурасик свят</td>\n",
       "      <td>BG</td>\n",
       "      <td>bg</td>\n",
       "      <td>NaN</td>\n",
       "      <td>NaN</td>\n",
       "      <td>0.0</td>\n",
       "    </tr>\n",
       "    <tr>\n",
       "      <th>1</th>\n",
       "      <td>tt0369610</td>\n",
       "      <td>11</td>\n",
       "      <td>Jurashikku warudo</td>\n",
       "      <td>JP</td>\n",
       "      <td>NaN</td>\n",
       "      <td>imdbDisplay</td>\n",
       "      <td>NaN</td>\n",
       "      <td>0.0</td>\n",
       "    </tr>\n",
       "    <tr>\n",
       "      <th>2</th>\n",
       "      <td>tt0369610</td>\n",
       "      <td>12</td>\n",
       "      <td>Jurassic World: O Mundo dos Dinossauros</td>\n",
       "      <td>BR</td>\n",
       "      <td>NaN</td>\n",
       "      <td>imdbDisplay</td>\n",
       "      <td>NaN</td>\n",
       "      <td>0.0</td>\n",
       "    </tr>\n",
       "    <tr>\n",
       "      <th>3</th>\n",
       "      <td>tt0369610</td>\n",
       "      <td>13</td>\n",
       "      <td>O Mundo dos Dinossauros</td>\n",
       "      <td>BR</td>\n",
       "      <td>NaN</td>\n",
       "      <td>NaN</td>\n",
       "      <td>short title</td>\n",
       "      <td>0.0</td>\n",
       "    </tr>\n",
       "    <tr>\n",
       "      <th>4</th>\n",
       "      <td>tt0369610</td>\n",
       "      <td>14</td>\n",
       "      <td>Jurassic World</td>\n",
       "      <td>FR</td>\n",
       "      <td>NaN</td>\n",
       "      <td>imdbDisplay</td>\n",
       "      <td>NaN</td>\n",
       "      <td>0.0</td>\n",
       "    </tr>\n",
       "    <tr>\n",
       "      <th>5</th>\n",
       "      <td>tt0369610</td>\n",
       "      <td>15</td>\n",
       "      <td>Jurassic World</td>\n",
       "      <td>GR</td>\n",
       "      <td>NaN</td>\n",
       "      <td>imdbDisplay</td>\n",
       "      <td>NaN</td>\n",
       "      <td>0.0</td>\n",
       "    </tr>\n",
       "    <tr>\n",
       "      <th>6</th>\n",
       "      <td>tt0369610</td>\n",
       "      <td>16</td>\n",
       "      <td>Jurassic World</td>\n",
       "      <td>IT</td>\n",
       "      <td>NaN</td>\n",
       "      <td>imdbDisplay</td>\n",
       "      <td>NaN</td>\n",
       "      <td>0.0</td>\n",
       "    </tr>\n",
       "    <tr>\n",
       "      <th>7</th>\n",
       "      <td>tt0369610</td>\n",
       "      <td>17</td>\n",
       "      <td>Jurski svijet</td>\n",
       "      <td>HR</td>\n",
       "      <td>NaN</td>\n",
       "      <td>imdbDisplay</td>\n",
       "      <td>NaN</td>\n",
       "      <td>0.0</td>\n",
       "    </tr>\n",
       "    <tr>\n",
       "      <th>8</th>\n",
       "      <td>tt0369610</td>\n",
       "      <td>18</td>\n",
       "      <td>Olam ha'Yura</td>\n",
       "      <td>IL</td>\n",
       "      <td>he</td>\n",
       "      <td>imdbDisplay</td>\n",
       "      <td>NaN</td>\n",
       "      <td>0.0</td>\n",
       "    </tr>\n",
       "    <tr>\n",
       "      <th>9</th>\n",
       "      <td>tt0369610</td>\n",
       "      <td>19</td>\n",
       "      <td>Jurassic World: Mundo Jurásico</td>\n",
       "      <td>MX</td>\n",
       "      <td>NaN</td>\n",
       "      <td>imdbDisplay</td>\n",
       "      <td>NaN</td>\n",
       "      <td>0.0</td>\n",
       "    </tr>\n",
       "    <tr>\n",
       "      <th>10</th>\n",
       "      <td>tt0369610</td>\n",
       "      <td>1</td>\n",
       "      <td>Jurassic World: Sauruste maailm</td>\n",
       "      <td>EE</td>\n",
       "      <td>NaN</td>\n",
       "      <td>imdbDisplay</td>\n",
       "      <td>NaN</td>\n",
       "      <td>0.0</td>\n",
       "    </tr>\n",
       "    <tr>\n",
       "      <th>11</th>\n",
       "      <td>tt0369610</td>\n",
       "      <td>20</td>\n",
       "      <td>Jurassic World</td>\n",
       "      <td>SE</td>\n",
       "      <td>NaN</td>\n",
       "      <td>imdbDisplay</td>\n",
       "      <td>NaN</td>\n",
       "      <td>0.0</td>\n",
       "    </tr>\n",
       "    <tr>\n",
       "      <th>12</th>\n",
       "      <td>tt0369610</td>\n",
       "      <td>21</td>\n",
       "      <td>Jurassic World 3D</td>\n",
       "      <td>US</td>\n",
       "      <td>NaN</td>\n",
       "      <td>NaN</td>\n",
       "      <td>3-D version</td>\n",
       "      <td>0.0</td>\n",
       "    </tr>\n",
       "    <tr>\n",
       "      <th>13</th>\n",
       "      <td>tt0369610</td>\n",
       "      <td>22</td>\n",
       "      <td>Jurassic World 3D</td>\n",
       "      <td>DE</td>\n",
       "      <td>NaN</td>\n",
       "      <td>NaN</td>\n",
       "      <td>3-D version</td>\n",
       "      <td>0.0</td>\n",
       "    </tr>\n",
       "    <tr>\n",
       "      <th>14</th>\n",
       "      <td>tt0369610</td>\n",
       "      <td>23</td>\n",
       "      <td>Jurassic World 3D</td>\n",
       "      <td>XWW</td>\n",
       "      <td>NaN</td>\n",
       "      <td>NaN</td>\n",
       "      <td>3-D version</td>\n",
       "      <td>0.0</td>\n",
       "    </tr>\n",
       "    <tr>\n",
       "      <th>15</th>\n",
       "      <td>tt0369610</td>\n",
       "      <td>24</td>\n",
       "      <td>Juras laikmeta pasaule</td>\n",
       "      <td>LV</td>\n",
       "      <td>NaN</td>\n",
       "      <td>imdbDisplay</td>\n",
       "      <td>NaN</td>\n",
       "      <td>0.0</td>\n",
       "    </tr>\n",
       "    <tr>\n",
       "      <th>16</th>\n",
       "      <td>tt0369610</td>\n",
       "      <td>25</td>\n",
       "      <td>Mundo Jurássico</td>\n",
       "      <td>PT</td>\n",
       "      <td>NaN</td>\n",
       "      <td>imdbDisplay</td>\n",
       "      <td>NaN</td>\n",
       "      <td>0.0</td>\n",
       "    </tr>\n",
       "    <tr>\n",
       "      <th>17</th>\n",
       "      <td>tt0369610</td>\n",
       "      <td>26</td>\n",
       "      <td>Мир Юрского периода</td>\n",
       "      <td>RU</td>\n",
       "      <td>NaN</td>\n",
       "      <td>NaN</td>\n",
       "      <td>NaN</td>\n",
       "      <td>0.0</td>\n",
       "    </tr>\n",
       "    <tr>\n",
       "      <th>18</th>\n",
       "      <td>tt0369610</td>\n",
       "      <td>27</td>\n",
       "      <td>Jurský svět</td>\n",
       "      <td>CZ</td>\n",
       "      <td>NaN</td>\n",
       "      <td>NaN</td>\n",
       "      <td>NaN</td>\n",
       "      <td>0.0</td>\n",
       "    </tr>\n",
       "    <tr>\n",
       "      <th>19</th>\n",
       "      <td>tt0369610</td>\n",
       "      <td>28</td>\n",
       "      <td>Monde jurassique</td>\n",
       "      <td>CA</td>\n",
       "      <td>fr</td>\n",
       "      <td>imdbDisplay</td>\n",
       "      <td>NaN</td>\n",
       "      <td>0.0</td>\n",
       "    </tr>\n",
       "    <tr>\n",
       "      <th>20</th>\n",
       "      <td>tt0369610</td>\n",
       "      <td>29</td>\n",
       "      <td>Jurassic World</td>\n",
       "      <td>US</td>\n",
       "      <td>NaN</td>\n",
       "      <td>NaN</td>\n",
       "      <td>NaN</td>\n",
       "      <td>0.0</td>\n",
       "    </tr>\n",
       "    <tr>\n",
       "      <th>21</th>\n",
       "      <td>tt0369610</td>\n",
       "      <td>2</td>\n",
       "      <td>Ebb Tide</td>\n",
       "      <td>US</td>\n",
       "      <td>NaN</td>\n",
       "      <td>NaN</td>\n",
       "      <td>fake working title</td>\n",
       "      <td>0.0</td>\n",
       "    </tr>\n",
       "    <tr>\n",
       "      <th>22</th>\n",
       "      <td>tt0369610</td>\n",
       "      <td>30</td>\n",
       "      <td>Jurassic World: Mundo Jurásico</td>\n",
       "      <td>CL</td>\n",
       "      <td>NaN</td>\n",
       "      <td>imdbDisplay</td>\n",
       "      <td>NaN</td>\n",
       "      <td>0.0</td>\n",
       "    </tr>\n",
       "    <tr>\n",
       "      <th>23</th>\n",
       "      <td>tt0369610</td>\n",
       "      <td>31</td>\n",
       "      <td>Jurassic World</td>\n",
       "      <td>RO</td>\n",
       "      <td>NaN</td>\n",
       "      <td>imdbDisplay</td>\n",
       "      <td>NaN</td>\n",
       "      <td>0.0</td>\n",
       "    </tr>\n",
       "    <tr>\n",
       "      <th>24</th>\n",
       "      <td>tt0369610</td>\n",
       "      <td>32</td>\n",
       "      <td>Juros periodo pasaulis</td>\n",
       "      <td>LT</td>\n",
       "      <td>NaN</td>\n",
       "      <td>imdbDisplay</td>\n",
       "      <td>NaN</td>\n",
       "      <td>0.0</td>\n",
       "    </tr>\n",
       "  </tbody>\n",
       "</table>\n",
       "</div>"
      ],
      "text/plain": [
       "     title_id  ordering                                    title region  \\\n",
       "0   tt0369610        10                            Джурасик свят     BG   \n",
       "1   tt0369610        11                        Jurashikku warudo     JP   \n",
       "2   tt0369610        12  Jurassic World: O Mundo dos Dinossauros     BR   \n",
       "3   tt0369610        13                  O Mundo dos Dinossauros     BR   \n",
       "4   tt0369610        14                           Jurassic World     FR   \n",
       "5   tt0369610        15                           Jurassic World     GR   \n",
       "6   tt0369610        16                           Jurassic World     IT   \n",
       "7   tt0369610        17                            Jurski svijet     HR   \n",
       "8   tt0369610        18                             Olam ha'Yura     IL   \n",
       "9   tt0369610        19           Jurassic World: Mundo Jurásico     MX   \n",
       "10  tt0369610         1          Jurassic World: Sauruste maailm     EE   \n",
       "11  tt0369610        20                           Jurassic World     SE   \n",
       "12  tt0369610        21                        Jurassic World 3D     US   \n",
       "13  tt0369610        22                        Jurassic World 3D     DE   \n",
       "14  tt0369610        23                        Jurassic World 3D    XWW   \n",
       "15  tt0369610        24                   Juras laikmeta pasaule     LV   \n",
       "16  tt0369610        25                          Mundo Jurássico     PT   \n",
       "17  tt0369610        26                      Мир Юрского периода     RU   \n",
       "18  tt0369610        27                              Jurský svět     CZ   \n",
       "19  tt0369610        28                         Monde jurassique     CA   \n",
       "20  tt0369610        29                           Jurassic World     US   \n",
       "21  tt0369610         2                                 Ebb Tide     US   \n",
       "22  tt0369610        30           Jurassic World: Mundo Jurásico     CL   \n",
       "23  tt0369610        31                           Jurassic World     RO   \n",
       "24  tt0369610        32                   Juros periodo pasaulis     LT   \n",
       "\n",
       "   language        types          attributes  is_original_title  \n",
       "0        bg          NaN                 NaN                0.0  \n",
       "1       NaN  imdbDisplay                 NaN                0.0  \n",
       "2       NaN  imdbDisplay                 NaN                0.0  \n",
       "3       NaN          NaN         short title                0.0  \n",
       "4       NaN  imdbDisplay                 NaN                0.0  \n",
       "5       NaN  imdbDisplay                 NaN                0.0  \n",
       "6       NaN  imdbDisplay                 NaN                0.0  \n",
       "7       NaN  imdbDisplay                 NaN                0.0  \n",
       "8        he  imdbDisplay                 NaN                0.0  \n",
       "9       NaN  imdbDisplay                 NaN                0.0  \n",
       "10      NaN  imdbDisplay                 NaN                0.0  \n",
       "11      NaN  imdbDisplay                 NaN                0.0  \n",
       "12      NaN          NaN         3-D version                0.0  \n",
       "13      NaN          NaN         3-D version                0.0  \n",
       "14      NaN          NaN         3-D version                0.0  \n",
       "15      NaN  imdbDisplay                 NaN                0.0  \n",
       "16      NaN  imdbDisplay                 NaN                0.0  \n",
       "17      NaN          NaN                 NaN                0.0  \n",
       "18      NaN          NaN                 NaN                0.0  \n",
       "19       fr  imdbDisplay                 NaN                0.0  \n",
       "20      NaN          NaN                 NaN                0.0  \n",
       "21      NaN          NaN  fake working title                0.0  \n",
       "22      NaN  imdbDisplay                 NaN                0.0  \n",
       "23      NaN  imdbDisplay                 NaN                0.0  \n",
       "24      NaN  imdbDisplay                 NaN                0.0  "
      ]
     },
     "execution_count": 337,
     "metadata": {},
     "output_type": "execute_result"
    }
   ],
   "source": [
    "df_imdb_akas.head(25)"
   ]
  },
  {
   "cell_type": "code",
   "execution_count": 343,
   "metadata": {
    "ExecuteTime": {
     "end_time": "2021-04-26T17:44:11.615359Z",
     "start_time": "2021-04-26T17:44:11.604355Z"
    }
   },
   "outputs": [],
   "source": [
    "#Unsure if this data is useful\n",
    "df_imdb_akas = df_imdb_akas[df_imdb_akas['is_original_title'] == 1.0]"
   ]
  },
  {
   "cell_type": "code",
   "execution_count": 344,
   "metadata": {
    "ExecuteTime": {
     "end_time": "2021-04-26T17:44:31.017247Z",
     "start_time": "2021-04-26T17:44:31.000241Z"
    }
   },
   "outputs": [
    {
     "data": {
      "text/plain": [
       "title_id                 0\n",
       "ordering                 0\n",
       "title                    0\n",
       "region               44694\n",
       "language             44696\n",
       "types                    0\n",
       "attributes           44700\n",
       "is_original_title        0\n",
       "dtype: int64"
      ]
     },
     "execution_count": 344,
     "metadata": {},
     "output_type": "execute_result"
    }
   ],
   "source": [
    "df_imdb_akas.isna().sum()"
   ]
  },
  {
   "cell_type": "code",
   "execution_count": 345,
   "metadata": {
    "ExecuteTime": {
     "end_time": "2021-04-26T17:45:12.532756Z",
     "start_time": "2021-04-26T17:45:12.515769Z"
    }
   },
   "outputs": [
    {
     "data": {
      "text/html": [
       "<div>\n",
       "<style scoped>\n",
       "    .dataframe tbody tr th:only-of-type {\n",
       "        vertical-align: middle;\n",
       "    }\n",
       "\n",
       "    .dataframe tbody tr th {\n",
       "        vertical-align: top;\n",
       "    }\n",
       "\n",
       "    .dataframe thead th {\n",
       "        text-align: right;\n",
       "    }\n",
       "</style>\n",
       "<table border=\"1\" class=\"dataframe\">\n",
       "  <thead>\n",
       "    <tr style=\"text-align: right;\">\n",
       "      <th></th>\n",
       "      <th>title_id</th>\n",
       "      <th>ordering</th>\n",
       "      <th>title</th>\n",
       "      <th>region</th>\n",
       "      <th>language</th>\n",
       "      <th>types</th>\n",
       "      <th>attributes</th>\n",
       "      <th>is_original_title</th>\n",
       "    </tr>\n",
       "  </thead>\n",
       "  <tbody>\n",
       "    <tr>\n",
       "      <th>38</th>\n",
       "      <td>tt0369610</td>\n",
       "      <td>45</td>\n",
       "      <td>Jurassic World</td>\n",
       "      <td>NaN</td>\n",
       "      <td>NaN</td>\n",
       "      <td>original</td>\n",
       "      <td>NaN</td>\n",
       "      <td>1.0</td>\n",
       "    </tr>\n",
       "    <tr>\n",
       "      <th>80</th>\n",
       "      <td>tt0401729</td>\n",
       "      <td>7</td>\n",
       "      <td>John Carter</td>\n",
       "      <td>NaN</td>\n",
       "      <td>NaN</td>\n",
       "      <td>original</td>\n",
       "      <td>NaN</td>\n",
       "      <td>1.0</td>\n",
       "    </tr>\n",
       "    <tr>\n",
       "      <th>83</th>\n",
       "      <td>tt10010134</td>\n",
       "      <td>1</td>\n",
       "      <td>Versailles Rediscovered - The Sun King's Vanis...</td>\n",
       "      <td>NaN</td>\n",
       "      <td>NaN</td>\n",
       "      <td>original</td>\n",
       "      <td>NaN</td>\n",
       "      <td>1.0</td>\n",
       "    </tr>\n",
       "    <tr>\n",
       "      <th>86</th>\n",
       "      <td>tt10027708</td>\n",
       "      <td>1</td>\n",
       "      <td>Miguelito - Canto a Borinquen</td>\n",
       "      <td>NaN</td>\n",
       "      <td>NaN</td>\n",
       "      <td>original</td>\n",
       "      <td>NaN</td>\n",
       "      <td>1.0</td>\n",
       "    </tr>\n",
       "    <tr>\n",
       "      <th>90</th>\n",
       "      <td>tt10050722</td>\n",
       "      <td>1</td>\n",
       "      <td>Thing I Don't Get</td>\n",
       "      <td>NaN</td>\n",
       "      <td>NaN</td>\n",
       "      <td>original</td>\n",
       "      <td>NaN</td>\n",
       "      <td>1.0</td>\n",
       "    </tr>\n",
       "    <tr>\n",
       "      <th>93</th>\n",
       "      <td>tt10121294</td>\n",
       "      <td>1</td>\n",
       "      <td>This Jelly Doughnut Feeling</td>\n",
       "      <td>NaN</td>\n",
       "      <td>NaN</td>\n",
       "      <td>original</td>\n",
       "      <td>NaN</td>\n",
       "      <td>1.0</td>\n",
       "    </tr>\n",
       "    <tr>\n",
       "      <th>128</th>\n",
       "      <td>tt1014759</td>\n",
       "      <td>40</td>\n",
       "      <td>Alice in Wonderland</td>\n",
       "      <td>NaN</td>\n",
       "      <td>NaN</td>\n",
       "      <td>original</td>\n",
       "      <td>NaN</td>\n",
       "      <td>1.0</td>\n",
       "    </tr>\n",
       "    <tr>\n",
       "      <th>137</th>\n",
       "      <td>tt10214198</td>\n",
       "      <td>1</td>\n",
       "      <td>Gou yan kan ren xin</td>\n",
       "      <td>NaN</td>\n",
       "      <td>NaN</td>\n",
       "      <td>original</td>\n",
       "      <td>NaN</td>\n",
       "      <td>1.0</td>\n",
       "    </tr>\n",
       "    <tr>\n",
       "      <th>141</th>\n",
       "      <td>tt10225354</td>\n",
       "      <td>2</td>\n",
       "      <td>Volviendo a Casa</td>\n",
       "      <td>NaN</td>\n",
       "      <td>NaN</td>\n",
       "      <td>original</td>\n",
       "      <td>NaN</td>\n",
       "      <td>1.0</td>\n",
       "    </tr>\n",
       "    <tr>\n",
       "      <th>145</th>\n",
       "      <td>tt10225420</td>\n",
       "      <td>3</td>\n",
       "      <td>El Universo En Que Te Amé</td>\n",
       "      <td>NaN</td>\n",
       "      <td>NaN</td>\n",
       "      <td>original</td>\n",
       "      <td>NaN</td>\n",
       "      <td>1.0</td>\n",
       "    </tr>\n",
       "    <tr>\n",
       "      <th>146</th>\n",
       "      <td>tt10308634</td>\n",
       "      <td>1</td>\n",
       "      <td>My First Client</td>\n",
       "      <td>NaN</td>\n",
       "      <td>NaN</td>\n",
       "      <td>original</td>\n",
       "      <td>NaN</td>\n",
       "      <td>1.0</td>\n",
       "    </tr>\n",
       "    <tr>\n",
       "      <th>149</th>\n",
       "      <td>tt10351180</td>\n",
       "      <td>1</td>\n",
       "      <td>BadBoy</td>\n",
       "      <td>NaN</td>\n",
       "      <td>NaN</td>\n",
       "      <td>original</td>\n",
       "      <td>NaN</td>\n",
       "      <td>1.0</td>\n",
       "    </tr>\n",
       "    <tr>\n",
       "      <th>153</th>\n",
       "      <td>tt10379338</td>\n",
       "      <td>2</td>\n",
       "      <td>Guys Night Out</td>\n",
       "      <td>NaN</td>\n",
       "      <td>NaN</td>\n",
       "      <td>original</td>\n",
       "      <td>NaN</td>\n",
       "      <td>1.0</td>\n",
       "    </tr>\n",
       "    <tr>\n",
       "      <th>156</th>\n",
       "      <td>tt10446418</td>\n",
       "      <td>2</td>\n",
       "      <td>Icon</td>\n",
       "      <td>NaN</td>\n",
       "      <td>NaN</td>\n",
       "      <td>original</td>\n",
       "      <td>NaN</td>\n",
       "      <td>1.0</td>\n",
       "    </tr>\n",
       "    <tr>\n",
       "      <th>181</th>\n",
       "      <td>tt1179034</td>\n",
       "      <td>5</td>\n",
       "      <td>From Paris with Love</td>\n",
       "      <td>NaN</td>\n",
       "      <td>NaN</td>\n",
       "      <td>original</td>\n",
       "      <td>NaN</td>\n",
       "      <td>1.0</td>\n",
       "    </tr>\n",
       "    <tr>\n",
       "      <th>187</th>\n",
       "      <td>tt1182315</td>\n",
       "      <td>1</td>\n",
       "      <td>Negro Buenos Aires</td>\n",
       "      <td>NaN</td>\n",
       "      <td>NaN</td>\n",
       "      <td>original</td>\n",
       "      <td>NaN</td>\n",
       "      <td>1.0</td>\n",
       "    </tr>\n",
       "    <tr>\n",
       "      <th>216</th>\n",
       "      <td>tt1194173</td>\n",
       "      <td>32</td>\n",
       "      <td>The Bourne Legacy</td>\n",
       "      <td>NaN</td>\n",
       "      <td>NaN</td>\n",
       "      <td>original</td>\n",
       "      <td>NaN</td>\n",
       "      <td>1.0</td>\n",
       "    </tr>\n",
       "    <tr>\n",
       "      <th>225</th>\n",
       "      <td>tt1210047</td>\n",
       "      <td>2</td>\n",
       "      <td>Snatched!</td>\n",
       "      <td>NaN</td>\n",
       "      <td>NaN</td>\n",
       "      <td>original</td>\n",
       "      <td>NaN</td>\n",
       "      <td>1.0</td>\n",
       "    </tr>\n",
       "    <tr>\n",
       "      <th>237</th>\n",
       "      <td>tt1219289</td>\n",
       "      <td>19</td>\n",
       "      <td>Limitless</td>\n",
       "      <td>NaN</td>\n",
       "      <td>NaN</td>\n",
       "      <td>original</td>\n",
       "      <td>NaN</td>\n",
       "      <td>1.0</td>\n",
       "    </tr>\n",
       "    <tr>\n",
       "      <th>263</th>\n",
       "      <td>tt1220221</td>\n",
       "      <td>3</td>\n",
       "      <td>Motherland</td>\n",
       "      <td>NaN</td>\n",
       "      <td>NaN</td>\n",
       "      <td>original</td>\n",
       "      <td>NaN</td>\n",
       "      <td>1.0</td>\n",
       "    </tr>\n",
       "    <tr>\n",
       "      <th>272</th>\n",
       "      <td>tt1223236</td>\n",
       "      <td>1</td>\n",
       "      <td>African Cats</td>\n",
       "      <td>NaN</td>\n",
       "      <td>NaN</td>\n",
       "      <td>original</td>\n",
       "      <td>NaN</td>\n",
       "      <td>1.0</td>\n",
       "    </tr>\n",
       "    <tr>\n",
       "      <th>283</th>\n",
       "      <td>tt1227927</td>\n",
       "      <td>2</td>\n",
       "      <td>Caller ID</td>\n",
       "      <td>NaN</td>\n",
       "      <td>NaN</td>\n",
       "      <td>original</td>\n",
       "      <td>NaN</td>\n",
       "      <td>1.0</td>\n",
       "    </tr>\n",
       "    <tr>\n",
       "      <th>292</th>\n",
       "      <td>tt1233259</td>\n",
       "      <td>6</td>\n",
       "      <td>El Capitán Trueno y el Santo Grial</td>\n",
       "      <td>NaN</td>\n",
       "      <td>NaN</td>\n",
       "      <td>original</td>\n",
       "      <td>NaN</td>\n",
       "      <td>1.0</td>\n",
       "    </tr>\n",
       "    <tr>\n",
       "      <th>323</th>\n",
       "      <td>tt1235522</td>\n",
       "      <td>7</td>\n",
       "      <td>Broken City</td>\n",
       "      <td>NaN</td>\n",
       "      <td>NaN</td>\n",
       "      <td>original</td>\n",
       "      <td>NaN</td>\n",
       "      <td>1.0</td>\n",
       "    </tr>\n",
       "    <tr>\n",
       "      <th>332</th>\n",
       "      <td>tt1252507</td>\n",
       "      <td>1</td>\n",
       "      <td>The Way Home</td>\n",
       "      <td>NaN</td>\n",
       "      <td>NaN</td>\n",
       "      <td>original</td>\n",
       "      <td>NaN</td>\n",
       "      <td>1.0</td>\n",
       "    </tr>\n",
       "  </tbody>\n",
       "</table>\n",
       "</div>"
      ],
      "text/plain": [
       "       title_id  ordering                                              title  \\\n",
       "38    tt0369610        45                                     Jurassic World   \n",
       "80    tt0401729         7                                        John Carter   \n",
       "83   tt10010134         1  Versailles Rediscovered - The Sun King's Vanis...   \n",
       "86   tt10027708         1                      Miguelito - Canto a Borinquen   \n",
       "90   tt10050722         1                                  Thing I Don't Get   \n",
       "93   tt10121294         1                        This Jelly Doughnut Feeling   \n",
       "128   tt1014759        40                                Alice in Wonderland   \n",
       "137  tt10214198         1                                Gou yan kan ren xin   \n",
       "141  tt10225354         2                                   Volviendo a Casa   \n",
       "145  tt10225420         3                          El Universo En Que Te Amé   \n",
       "146  tt10308634         1                                    My First Client   \n",
       "149  tt10351180         1                                             BadBoy   \n",
       "153  tt10379338         2                                     Guys Night Out   \n",
       "156  tt10446418         2                                               Icon   \n",
       "181   tt1179034         5                               From Paris with Love   \n",
       "187   tt1182315         1                                 Negro Buenos Aires   \n",
       "216   tt1194173        32                                  The Bourne Legacy   \n",
       "225   tt1210047         2                                          Snatched!   \n",
       "237   tt1219289        19                                          Limitless   \n",
       "263   tt1220221         3                                         Motherland   \n",
       "272   tt1223236         1                                       African Cats   \n",
       "283   tt1227927         2                                          Caller ID   \n",
       "292   tt1233259         6                 El Capitán Trueno y el Santo Grial   \n",
       "323   tt1235522         7                                        Broken City   \n",
       "332   tt1252507         1                                       The Way Home   \n",
       "\n",
       "    region language     types attributes  is_original_title  \n",
       "38     NaN      NaN  original        NaN                1.0  \n",
       "80     NaN      NaN  original        NaN                1.0  \n",
       "83     NaN      NaN  original        NaN                1.0  \n",
       "86     NaN      NaN  original        NaN                1.0  \n",
       "90     NaN      NaN  original        NaN                1.0  \n",
       "93     NaN      NaN  original        NaN                1.0  \n",
       "128    NaN      NaN  original        NaN                1.0  \n",
       "137    NaN      NaN  original        NaN                1.0  \n",
       "141    NaN      NaN  original        NaN                1.0  \n",
       "145    NaN      NaN  original        NaN                1.0  \n",
       "146    NaN      NaN  original        NaN                1.0  \n",
       "149    NaN      NaN  original        NaN                1.0  \n",
       "153    NaN      NaN  original        NaN                1.0  \n",
       "156    NaN      NaN  original        NaN                1.0  \n",
       "181    NaN      NaN  original        NaN                1.0  \n",
       "187    NaN      NaN  original        NaN                1.0  \n",
       "216    NaN      NaN  original        NaN                1.0  \n",
       "225    NaN      NaN  original        NaN                1.0  \n",
       "237    NaN      NaN  original        NaN                1.0  \n",
       "263    NaN      NaN  original        NaN                1.0  \n",
       "272    NaN      NaN  original        NaN                1.0  \n",
       "283    NaN      NaN  original        NaN                1.0  \n",
       "292    NaN      NaN  original        NaN                1.0  \n",
       "323    NaN      NaN  original        NaN                1.0  \n",
       "332    NaN      NaN  original        NaN                1.0  "
      ]
     },
     "execution_count": 345,
     "metadata": {},
     "output_type": "execute_result"
    }
   ],
   "source": [
    "df_imdb_akas.head(25)"
   ]
  },
  {
   "cell_type": "code",
   "execution_count": null,
   "metadata": {},
   "outputs": [],
   "source": []
  },
  {
   "cell_type": "code",
   "execution_count": null,
   "metadata": {},
   "outputs": [],
   "source": []
  },
  {
   "cell_type": "code",
   "execution_count": null,
   "metadata": {},
   "outputs": [],
   "source": []
  },
  {
   "cell_type": "code",
   "execution_count": null,
   "metadata": {},
   "outputs": [],
   "source": []
  },
  {
   "cell_type": "markdown",
   "metadata": {},
   "source": [
    "### Clean imdb_basics data"
   ]
  },
  {
   "cell_type": "code",
   "execution_count": 347,
   "metadata": {
    "ExecuteTime": {
     "end_time": "2021-04-26T17:47:50.722988Z",
     "start_time": "2021-04-26T17:47:50.718026Z"
    }
   },
   "outputs": [
    {
     "data": {
      "text/plain": [
       "(146123, 6)"
      ]
     },
     "execution_count": 347,
     "metadata": {},
     "output_type": "execute_result"
    }
   ],
   "source": [
    "df_imdbbasics.shape"
   ]
  },
  {
   "cell_type": "code",
   "execution_count": 346,
   "metadata": {
    "ExecuteTime": {
     "end_time": "2021-04-26T17:47:48.157687Z",
     "start_time": "2021-04-26T17:47:48.128731Z"
    }
   },
   "outputs": [
    {
     "data": {
      "text/plain": [
       "tconst             0\n",
       "primary_title      0\n",
       "original_title     0\n",
       "start_year         0\n",
       "runtime_minutes    0\n",
       "genres             0\n",
       "dtype: int64"
      ]
     },
     "execution_count": 346,
     "metadata": {},
     "output_type": "execute_result"
    }
   ],
   "source": [
    "df_imdbbasics.isna().sum()"
   ]
  },
  {
   "cell_type": "code",
   "execution_count": 294,
   "metadata": {
    "ExecuteTime": {
     "end_time": "2021-04-26T16:52:38.855674Z",
     "start_time": "2021-04-26T16:52:38.846661Z"
    }
   },
   "outputs": [
    {
     "data": {
      "text/html": [
       "<div>\n",
       "<style scoped>\n",
       "    .dataframe tbody tr th:only-of-type {\n",
       "        vertical-align: middle;\n",
       "    }\n",
       "\n",
       "    .dataframe tbody tr th {\n",
       "        vertical-align: top;\n",
       "    }\n",
       "\n",
       "    .dataframe thead th {\n",
       "        text-align: right;\n",
       "    }\n",
       "</style>\n",
       "<table border=\"1\" class=\"dataframe\">\n",
       "  <thead>\n",
       "    <tr style=\"text-align: right;\">\n",
       "      <th></th>\n",
       "      <th>tconst</th>\n",
       "      <th>primary_title</th>\n",
       "      <th>original_title</th>\n",
       "      <th>start_year</th>\n",
       "      <th>runtime_minutes</th>\n",
       "      <th>genres</th>\n",
       "    </tr>\n",
       "  </thead>\n",
       "  <tbody>\n",
       "    <tr>\n",
       "      <th>0</th>\n",
       "      <td>tt0063540</td>\n",
       "      <td>Sunghursh</td>\n",
       "      <td>Sunghursh</td>\n",
       "      <td>2013</td>\n",
       "      <td>175.0</td>\n",
       "      <td>Action,Crime,Drama</td>\n",
       "    </tr>\n",
       "    <tr>\n",
       "      <th>1</th>\n",
       "      <td>tt0066787</td>\n",
       "      <td>One Day Before the Rainy Season</td>\n",
       "      <td>Ashad Ka Ek Din</td>\n",
       "      <td>2019</td>\n",
       "      <td>114.0</td>\n",
       "      <td>Biography,Drama</td>\n",
       "    </tr>\n",
       "    <tr>\n",
       "      <th>2</th>\n",
       "      <td>tt0069049</td>\n",
       "      <td>The Other Side of the Wind</td>\n",
       "      <td>The Other Side of the Wind</td>\n",
       "      <td>2018</td>\n",
       "      <td>122.0</td>\n",
       "      <td>Drama</td>\n",
       "    </tr>\n",
       "    <tr>\n",
       "      <th>3</th>\n",
       "      <td>tt0069204</td>\n",
       "      <td>Sabse Bada Sukh</td>\n",
       "      <td>Sabse Bada Sukh</td>\n",
       "      <td>2018</td>\n",
       "      <td>NaN</td>\n",
       "      <td>Comedy,Drama</td>\n",
       "    </tr>\n",
       "    <tr>\n",
       "      <th>4</th>\n",
       "      <td>tt0100275</td>\n",
       "      <td>The Wandering Soap Opera</td>\n",
       "      <td>La Telenovela Errante</td>\n",
       "      <td>2017</td>\n",
       "      <td>80.0</td>\n",
       "      <td>Comedy,Drama,Fantasy</td>\n",
       "    </tr>\n",
       "  </tbody>\n",
       "</table>\n",
       "</div>"
      ],
      "text/plain": [
       "      tconst                    primary_title              original_title  \\\n",
       "0  tt0063540                        Sunghursh                   Sunghursh   \n",
       "1  tt0066787  One Day Before the Rainy Season             Ashad Ka Ek Din   \n",
       "2  tt0069049       The Other Side of the Wind  The Other Side of the Wind   \n",
       "3  tt0069204                  Sabse Bada Sukh             Sabse Bada Sukh   \n",
       "4  tt0100275         The Wandering Soap Opera       La Telenovela Errante   \n",
       "\n",
       "   start_year  runtime_minutes                genres  \n",
       "0        2013            175.0    Action,Crime,Drama  \n",
       "1        2019            114.0       Biography,Drama  \n",
       "2        2018            122.0                 Drama  \n",
       "3        2018              NaN          Comedy,Drama  \n",
       "4        2017             80.0  Comedy,Drama,Fantasy  "
      ]
     },
     "execution_count": 294,
     "metadata": {},
     "output_type": "execute_result"
    }
   ],
   "source": [
    "df_imdbbasics.head()"
   ]
  },
  {
   "cell_type": "code",
   "execution_count": 297,
   "metadata": {
    "ExecuteTime": {
     "end_time": "2021-04-26T16:57:36.205611Z",
     "start_time": "2021-04-26T16:57:36.156713Z"
    }
   },
   "outputs": [],
   "source": [
    "df_imdbbasics = df_imdbbasics[df_imdbbasics['original_title'].notna()]"
   ]
  },
  {
   "cell_type": "code",
   "execution_count": 304,
   "metadata": {
    "ExecuteTime": {
     "end_time": "2021-04-26T17:07:37.179980Z",
     "start_time": "2021-04-26T17:07:37.172972Z"
    }
   },
   "outputs": [
    {
     "name": "stderr",
     "output_type": "stream",
     "text": [
      "C:\\Users\\dsmith\\anaconda3\\envs\\learn-env\\lib\\site-packages\\pandas\\core\\series.py:4517: SettingWithCopyWarning: \n",
      "A value is trying to be set on a copy of a slice from a DataFrame\n",
      "\n",
      "See the caveats in the documentation: https://pandas.pydata.org/pandas-docs/stable/user_guide/indexing.html#returning-a-view-versus-a-copy\n",
      "  return super().fillna(\n"
     ]
    }
   ],
   "source": [
    "df_imdbbasics['runtime_minutes'].fillna(0.0,inplace=True)\n"
   ]
  },
  {
   "cell_type": "code",
   "execution_count": 305,
   "metadata": {
    "ExecuteTime": {
     "end_time": "2021-04-26T17:07:50.320822Z",
     "start_time": "2021-04-26T17:07:50.292917Z"
    }
   },
   "outputs": [
    {
     "data": {
      "text/plain": [
       "tconst                0\n",
       "primary_title         0\n",
       "original_title        0\n",
       "start_year            0\n",
       "runtime_minutes       0\n",
       "genres             5389\n",
       "dtype: int64"
      ]
     },
     "execution_count": 305,
     "metadata": {},
     "output_type": "execute_result"
    }
   ],
   "source": [
    "df_imdbbasics.isna().sum()"
   ]
  },
  {
   "cell_type": "code",
   "execution_count": 307,
   "metadata": {
    "ExecuteTime": {
     "end_time": "2021-04-26T17:09:15.811111Z",
     "start_time": "2021-04-26T17:09:15.779201Z"
    }
   },
   "outputs": [
    {
     "name": "stderr",
     "output_type": "stream",
     "text": [
      "C:\\Users\\dsmith\\anaconda3\\envs\\learn-env\\lib\\site-packages\\pandas\\core\\series.py:4517: SettingWithCopyWarning: \n",
      "A value is trying to be set on a copy of a slice from a DataFrame\n",
      "\n",
      "See the caveats in the documentation: https://pandas.pydata.org/pandas-docs/stable/user_guide/indexing.html#returning-a-view-versus-a-copy\n",
      "  return super().fillna(\n"
     ]
    }
   ],
   "source": [
    "df_imdbbasics.isna().sum()\n",
    "df_imdbbasics['genres'].fillna('genre',inplace=True)"
   ]
  },
  {
   "cell_type": "code",
   "execution_count": 308,
   "metadata": {
    "ExecuteTime": {
     "end_time": "2021-04-26T17:09:22.241017Z",
     "start_time": "2021-04-26T17:09:22.213091Z"
    }
   },
   "outputs": [
    {
     "data": {
      "text/plain": [
       "tconst             0\n",
       "primary_title      0\n",
       "original_title     0\n",
       "start_year         0\n",
       "runtime_minutes    0\n",
       "genres             0\n",
       "dtype: int64"
      ]
     },
     "execution_count": 308,
     "metadata": {},
     "output_type": "execute_result"
    }
   ],
   "source": [
    "df_imdbbasics.isna().sum()"
   ]
  },
  {
   "cell_type": "code",
   "execution_count": 311,
   "metadata": {
    "ExecuteTime": {
     "end_time": "2021-04-26T17:11:50.050960Z",
     "start_time": "2021-04-26T17:11:50.039994Z"
    }
   },
   "outputs": [
    {
     "data": {
      "text/html": [
       "<div>\n",
       "<style scoped>\n",
       "    .dataframe tbody tr th:only-of-type {\n",
       "        vertical-align: middle;\n",
       "    }\n",
       "\n",
       "    .dataframe tbody tr th {\n",
       "        vertical-align: top;\n",
       "    }\n",
       "\n",
       "    .dataframe thead th {\n",
       "        text-align: right;\n",
       "    }\n",
       "</style>\n",
       "<table border=\"1\" class=\"dataframe\">\n",
       "  <thead>\n",
       "    <tr style=\"text-align: right;\">\n",
       "      <th></th>\n",
       "      <th>tconst</th>\n",
       "      <th>primary_title</th>\n",
       "      <th>original_title</th>\n",
       "      <th>start_year</th>\n",
       "      <th>runtime_minutes</th>\n",
       "      <th>genres</th>\n",
       "    </tr>\n",
       "  </thead>\n",
       "  <tbody>\n",
       "    <tr>\n",
       "      <th>0</th>\n",
       "      <td>tt0063540</td>\n",
       "      <td>Sunghursh</td>\n",
       "      <td>Sunghursh</td>\n",
       "      <td>2013</td>\n",
       "      <td>175.0</td>\n",
       "      <td>Action,Crime,Drama</td>\n",
       "    </tr>\n",
       "    <tr>\n",
       "      <th>1</th>\n",
       "      <td>tt0066787</td>\n",
       "      <td>One Day Before the Rainy Season</td>\n",
       "      <td>Ashad Ka Ek Din</td>\n",
       "      <td>2019</td>\n",
       "      <td>114.0</td>\n",
       "      <td>Biography,Drama</td>\n",
       "    </tr>\n",
       "    <tr>\n",
       "      <th>2</th>\n",
       "      <td>tt0069049</td>\n",
       "      <td>The Other Side of the Wind</td>\n",
       "      <td>The Other Side of the Wind</td>\n",
       "      <td>2018</td>\n",
       "      <td>122.0</td>\n",
       "      <td>Drama</td>\n",
       "    </tr>\n",
       "    <tr>\n",
       "      <th>3</th>\n",
       "      <td>tt0069204</td>\n",
       "      <td>Sabse Bada Sukh</td>\n",
       "      <td>Sabse Bada Sukh</td>\n",
       "      <td>2018</td>\n",
       "      <td>0.0</td>\n",
       "      <td>Comedy,Drama</td>\n",
       "    </tr>\n",
       "    <tr>\n",
       "      <th>4</th>\n",
       "      <td>tt0100275</td>\n",
       "      <td>The Wandering Soap Opera</td>\n",
       "      <td>La Telenovela Errante</td>\n",
       "      <td>2017</td>\n",
       "      <td>80.0</td>\n",
       "      <td>Comedy,Drama,Fantasy</td>\n",
       "    </tr>\n",
       "  </tbody>\n",
       "</table>\n",
       "</div>"
      ],
      "text/plain": [
       "      tconst                    primary_title              original_title  \\\n",
       "0  tt0063540                        Sunghursh                   Sunghursh   \n",
       "1  tt0066787  One Day Before the Rainy Season             Ashad Ka Ek Din   \n",
       "2  tt0069049       The Other Side of the Wind  The Other Side of the Wind   \n",
       "3  tt0069204                  Sabse Bada Sukh             Sabse Bada Sukh   \n",
       "4  tt0100275         The Wandering Soap Opera       La Telenovela Errante   \n",
       "\n",
       "   start_year  runtime_minutes                genres  \n",
       "0        2013            175.0    Action,Crime,Drama  \n",
       "1        2019            114.0       Biography,Drama  \n",
       "2        2018            122.0                 Drama  \n",
       "3        2018              0.0          Comedy,Drama  \n",
       "4        2017             80.0  Comedy,Drama,Fantasy  "
      ]
     },
     "execution_count": 311,
     "metadata": {},
     "output_type": "execute_result"
    }
   ],
   "source": [
    "df_imdbbasics.head()"
   ]
  },
  {
   "cell_type": "markdown",
   "metadata": {},
   "source": [
    "### Clean imdb_crew data"
   ]
  },
  {
   "cell_type": "code",
   "execution_count": 309,
   "metadata": {
    "ExecuteTime": {
     "end_time": "2021-04-26T17:09:29.143040Z",
     "start_time": "2021-04-26T17:09:29.138051Z"
    }
   },
   "outputs": [
    {
     "data": {
      "text/plain": [
       "(146144, 3)"
      ]
     },
     "execution_count": 309,
     "metadata": {},
     "output_type": "execute_result"
    }
   ],
   "source": [
    "df_imdb_crew.shape"
   ]
  },
  {
   "cell_type": "code",
   "execution_count": 348,
   "metadata": {
    "ExecuteTime": {
     "end_time": "2021-04-26T17:48:12.570563Z",
     "start_time": "2021-04-26T17:48:12.547595Z"
    },
    "scrolled": true
   },
   "outputs": [
    {
     "data": {
      "text/plain": [
       "tconst       0\n",
       "directors    0\n",
       "writers      0\n",
       "dtype: int64"
      ]
     },
     "execution_count": 348,
     "metadata": {},
     "output_type": "execute_result"
    }
   ],
   "source": [
    "df_imdb_crew.isna().sum()"
   ]
  },
  {
   "cell_type": "code",
   "execution_count": 310,
   "metadata": {
    "ExecuteTime": {
     "end_time": "2021-04-26T17:10:22.305076Z",
     "start_time": "2021-04-26T17:10:22.295103Z"
    }
   },
   "outputs": [
    {
     "data": {
      "text/html": [
       "<div>\n",
       "<style scoped>\n",
       "    .dataframe tbody tr th:only-of-type {\n",
       "        vertical-align: middle;\n",
       "    }\n",
       "\n",
       "    .dataframe tbody tr th {\n",
       "        vertical-align: top;\n",
       "    }\n",
       "\n",
       "    .dataframe thead th {\n",
       "        text-align: right;\n",
       "    }\n",
       "</style>\n",
       "<table border=\"1\" class=\"dataframe\">\n",
       "  <thead>\n",
       "    <tr style=\"text-align: right;\">\n",
       "      <th></th>\n",
       "      <th>tconst</th>\n",
       "      <th>directors</th>\n",
       "      <th>writers</th>\n",
       "    </tr>\n",
       "  </thead>\n",
       "  <tbody>\n",
       "    <tr>\n",
       "      <th>0</th>\n",
       "      <td>tt0285252</td>\n",
       "      <td>nm0899854</td>\n",
       "      <td>nm0899854</td>\n",
       "    </tr>\n",
       "    <tr>\n",
       "      <th>1</th>\n",
       "      <td>tt0438973</td>\n",
       "      <td>NaN</td>\n",
       "      <td>nm0175726,nm1802864</td>\n",
       "    </tr>\n",
       "    <tr>\n",
       "      <th>2</th>\n",
       "      <td>tt0462036</td>\n",
       "      <td>nm1940585</td>\n",
       "      <td>nm1940585</td>\n",
       "    </tr>\n",
       "    <tr>\n",
       "      <th>3</th>\n",
       "      <td>tt0835418</td>\n",
       "      <td>nm0151540</td>\n",
       "      <td>nm0310087,nm0841532</td>\n",
       "    </tr>\n",
       "    <tr>\n",
       "      <th>4</th>\n",
       "      <td>tt0878654</td>\n",
       "      <td>nm0089502,nm2291498,nm2292011</td>\n",
       "      <td>nm0284943</td>\n",
       "    </tr>\n",
       "  </tbody>\n",
       "</table>\n",
       "</div>"
      ],
      "text/plain": [
       "      tconst                      directors              writers\n",
       "0  tt0285252                      nm0899854            nm0899854\n",
       "1  tt0438973                            NaN  nm0175726,nm1802864\n",
       "2  tt0462036                      nm1940585            nm1940585\n",
       "3  tt0835418                      nm0151540  nm0310087,nm0841532\n",
       "4  tt0878654  nm0089502,nm2291498,nm2292011            nm0284943"
      ]
     },
     "execution_count": 310,
     "metadata": {},
     "output_type": "execute_result"
    }
   ],
   "source": [
    "df_imdb_crew.head(5)"
   ]
  },
  {
   "cell_type": "code",
   "execution_count": 312,
   "metadata": {
    "ExecuteTime": {
     "end_time": "2021-04-26T17:13:09.241914Z",
     "start_time": "2021-04-26T17:13:09.219932Z"
    }
   },
   "outputs": [],
   "source": [
    "df_imdb_crew['directors'].fillna('director',inplace=True)"
   ]
  },
  {
   "cell_type": "code",
   "execution_count": 316,
   "metadata": {
    "ExecuteTime": {
     "end_time": "2021-04-26T17:14:15.828275Z",
     "start_time": "2021-04-26T17:14:15.824282Z"
    }
   },
   "outputs": [
    {
     "data": {
      "text/plain": [
       "(146144, 3)"
      ]
     },
     "execution_count": 316,
     "metadata": {},
     "output_type": "execute_result"
    }
   ],
   "source": [
    "df_imdb_crew.shape"
   ]
  },
  {
   "cell_type": "code",
   "execution_count": 314,
   "metadata": {
    "ExecuteTime": {
     "end_time": "2021-04-26T17:13:54.311292Z",
     "start_time": "2021-04-26T17:13:54.298327Z"
    }
   },
   "outputs": [],
   "source": [
    "df_imdb_crew['writers'].fillna('writer',inplace=True)"
   ]
  },
  {
   "cell_type": "code",
   "execution_count": 315,
   "metadata": {
    "ExecuteTime": {
     "end_time": "2021-04-26T17:14:05.618908Z",
     "start_time": "2021-04-26T17:14:05.598960Z"
    }
   },
   "outputs": [
    {
     "data": {
      "text/plain": [
       "tconst       0\n",
       "directors    0\n",
       "writers      0\n",
       "dtype: int64"
      ]
     },
     "execution_count": 315,
     "metadata": {},
     "output_type": "execute_result"
    }
   ],
   "source": [
    "df_imdb_crew.isna().sum()"
   ]
  },
  {
   "cell_type": "markdown",
   "metadata": {},
   "source": [
    "### Clean imdb_principals data"
   ]
  },
  {
   "cell_type": "code",
   "execution_count": 317,
   "metadata": {
    "ExecuteTime": {
     "end_time": "2021-04-26T17:14:23.483220Z",
     "start_time": "2021-04-26T17:14:23.479228Z"
    }
   },
   "outputs": [
    {
     "data": {
      "text/plain": [
       "(1028186, 6)"
      ]
     },
     "execution_count": 317,
     "metadata": {},
     "output_type": "execute_result"
    }
   ],
   "source": [
    "df_imdb_principals.shape"
   ]
  },
  {
   "cell_type": "code",
   "execution_count": 319,
   "metadata": {
    "ExecuteTime": {
     "end_time": "2021-04-26T17:15:08.594232Z",
     "start_time": "2021-04-26T17:15:08.585253Z"
    }
   },
   "outputs": [
    {
     "data": {
      "text/html": [
       "<div>\n",
       "<style scoped>\n",
       "    .dataframe tbody tr th:only-of-type {\n",
       "        vertical-align: middle;\n",
       "    }\n",
       "\n",
       "    .dataframe tbody tr th {\n",
       "        vertical-align: top;\n",
       "    }\n",
       "\n",
       "    .dataframe thead th {\n",
       "        text-align: right;\n",
       "    }\n",
       "</style>\n",
       "<table border=\"1\" class=\"dataframe\">\n",
       "  <thead>\n",
       "    <tr style=\"text-align: right;\">\n",
       "      <th></th>\n",
       "      <th>tconst</th>\n",
       "      <th>ordering</th>\n",
       "      <th>nconst</th>\n",
       "      <th>category</th>\n",
       "      <th>job</th>\n",
       "      <th>characters</th>\n",
       "    </tr>\n",
       "  </thead>\n",
       "  <tbody>\n",
       "    <tr>\n",
       "      <th>1028181</th>\n",
       "      <td>tt9692684</td>\n",
       "      <td>1</td>\n",
       "      <td>nm0186469</td>\n",
       "      <td>actor</td>\n",
       "      <td>NaN</td>\n",
       "      <td>[\"Ebenezer Scrooge\"]</td>\n",
       "    </tr>\n",
       "    <tr>\n",
       "      <th>1028182</th>\n",
       "      <td>tt9692684</td>\n",
       "      <td>2</td>\n",
       "      <td>nm4929530</td>\n",
       "      <td>self</td>\n",
       "      <td>NaN</td>\n",
       "      <td>[\"Herself\",\"Regan\"]</td>\n",
       "    </tr>\n",
       "    <tr>\n",
       "      <th>1028183</th>\n",
       "      <td>tt9692684</td>\n",
       "      <td>3</td>\n",
       "      <td>nm10441594</td>\n",
       "      <td>director</td>\n",
       "      <td>NaN</td>\n",
       "      <td>NaN</td>\n",
       "    </tr>\n",
       "    <tr>\n",
       "      <th>1028184</th>\n",
       "      <td>tt9692684</td>\n",
       "      <td>4</td>\n",
       "      <td>nm6009913</td>\n",
       "      <td>writer</td>\n",
       "      <td>writer</td>\n",
       "      <td>NaN</td>\n",
       "    </tr>\n",
       "    <tr>\n",
       "      <th>1028185</th>\n",
       "      <td>tt9692684</td>\n",
       "      <td>5</td>\n",
       "      <td>nm10441595</td>\n",
       "      <td>producer</td>\n",
       "      <td>producer</td>\n",
       "      <td>NaN</td>\n",
       "    </tr>\n",
       "  </tbody>\n",
       "</table>\n",
       "</div>"
      ],
      "text/plain": [
       "            tconst  ordering      nconst  category       job  \\\n",
       "1028181  tt9692684         1   nm0186469     actor       NaN   \n",
       "1028182  tt9692684         2   nm4929530      self       NaN   \n",
       "1028183  tt9692684         3  nm10441594  director       NaN   \n",
       "1028184  tt9692684         4   nm6009913    writer    writer   \n",
       "1028185  tt9692684         5  nm10441595  producer  producer   \n",
       "\n",
       "                   characters  \n",
       "1028181  [\"Ebenezer Scrooge\"]  \n",
       "1028182   [\"Herself\",\"Regan\"]  \n",
       "1028183                   NaN  \n",
       "1028184                   NaN  \n",
       "1028185                   NaN  "
      ]
     },
     "execution_count": 319,
     "metadata": {},
     "output_type": "execute_result"
    }
   ],
   "source": [
    "df_imdb_principals.tail()"
   ]
  },
  {
   "cell_type": "code",
   "execution_count": 320,
   "metadata": {
    "ExecuteTime": {
     "end_time": "2021-04-26T17:16:57.115283Z",
     "start_time": "2021-04-26T17:16:57.052413Z"
    }
   },
   "outputs": [],
   "source": [
    "df_imdb_principals['job'].fillna('job',inplace=True)"
   ]
  },
  {
   "cell_type": "code",
   "execution_count": 322,
   "metadata": {
    "ExecuteTime": {
     "end_time": "2021-04-26T17:17:51.930983Z",
     "start_time": "2021-04-26T17:17:51.874100Z"
    }
   },
   "outputs": [],
   "source": [
    "df_imdb_principals['characters'].fillna('character',inplace=True)"
   ]
  },
  {
   "cell_type": "code",
   "execution_count": 333,
   "metadata": {
    "ExecuteTime": {
     "end_time": "2021-04-26T17:29:47.532010Z",
     "start_time": "2021-04-26T17:29:47.352453Z"
    }
   },
   "outputs": [
    {
     "data": {
      "text/plain": [
       "tconst        0\n",
       "ordering      0\n",
       "nconst        0\n",
       "category      0\n",
       "job           0\n",
       "characters    0\n",
       "dtype: int64"
      ]
     },
     "execution_count": 333,
     "metadata": {},
     "output_type": "execute_result"
    }
   ],
   "source": [
    "df_imdb_principals.isna().sum()"
   ]
  },
  {
   "cell_type": "code",
   "execution_count": null,
   "metadata": {},
   "outputs": [],
   "source": []
  },
  {
   "cell_type": "markdown",
   "metadata": {},
   "source": [
    "### Clean imdb_ratings data"
   ]
  },
  {
   "cell_type": "code",
   "execution_count": null,
   "metadata": {
    "ExecuteTime": {
     "end_time": "2021-04-25T21:41:59.023426Z",
     "start_time": "2021-04-25T21:41:54.372Z"
    }
   },
   "outputs": [],
   "source": [
    "df_imdb_ratings.shape"
   ]
  },
  {
   "cell_type": "code",
   "execution_count": 284,
   "metadata": {
    "ExecuteTime": {
     "end_time": "2021-04-26T05:54:31.708523Z",
     "start_time": "2021-04-26T05:54:31.692565Z"
    }
   },
   "outputs": [
    {
     "data": {
      "text/plain": [
       "tconst           0\n",
       "averagerating    0\n",
       "numvotes         0\n",
       "dtype: int64"
      ]
     },
     "execution_count": 284,
     "metadata": {},
     "output_type": "execute_result"
    }
   ],
   "source": [
    "df_imdb_ratings.isna().sum()"
   ]
  },
  {
   "cell_type": "code",
   "execution_count": 324,
   "metadata": {
    "ExecuteTime": {
     "end_time": "2021-04-26T17:19:08.817279Z",
     "start_time": "2021-04-26T17:19:08.809333Z"
    }
   },
   "outputs": [
    {
     "data": {
      "text/html": [
       "<div>\n",
       "<style scoped>\n",
       "    .dataframe tbody tr th:only-of-type {\n",
       "        vertical-align: middle;\n",
       "    }\n",
       "\n",
       "    .dataframe tbody tr th {\n",
       "        vertical-align: top;\n",
       "    }\n",
       "\n",
       "    .dataframe thead th {\n",
       "        text-align: right;\n",
       "    }\n",
       "</style>\n",
       "<table border=\"1\" class=\"dataframe\">\n",
       "  <thead>\n",
       "    <tr style=\"text-align: right;\">\n",
       "      <th></th>\n",
       "      <th>tconst</th>\n",
       "      <th>averagerating</th>\n",
       "      <th>numvotes</th>\n",
       "    </tr>\n",
       "  </thead>\n",
       "  <tbody>\n",
       "    <tr>\n",
       "      <th>0</th>\n",
       "      <td>tt10356526</td>\n",
       "      <td>8.3</td>\n",
       "      <td>31</td>\n",
       "    </tr>\n",
       "    <tr>\n",
       "      <th>1</th>\n",
       "      <td>tt10384606</td>\n",
       "      <td>8.9</td>\n",
       "      <td>559</td>\n",
       "    </tr>\n",
       "    <tr>\n",
       "      <th>2</th>\n",
       "      <td>tt1042974</td>\n",
       "      <td>6.4</td>\n",
       "      <td>20</td>\n",
       "    </tr>\n",
       "    <tr>\n",
       "      <th>3</th>\n",
       "      <td>tt1043726</td>\n",
       "      <td>4.2</td>\n",
       "      <td>50352</td>\n",
       "    </tr>\n",
       "    <tr>\n",
       "      <th>4</th>\n",
       "      <td>tt1060240</td>\n",
       "      <td>6.5</td>\n",
       "      <td>21</td>\n",
       "    </tr>\n",
       "  </tbody>\n",
       "</table>\n",
       "</div>"
      ],
      "text/plain": [
       "       tconst  averagerating  numvotes\n",
       "0  tt10356526            8.3        31\n",
       "1  tt10384606            8.9       559\n",
       "2   tt1042974            6.4        20\n",
       "3   tt1043726            4.2     50352\n",
       "4   tt1060240            6.5        21"
      ]
     },
     "execution_count": 324,
     "metadata": {},
     "output_type": "execute_result"
    }
   ],
   "source": [
    "df_imdb_ratings.head()"
   ]
  },
  {
   "cell_type": "code",
   "execution_count": null,
   "metadata": {},
   "outputs": [],
   "source": []
  },
  {
   "cell_type": "code",
   "execution_count": null,
   "metadata": {},
   "outputs": [],
   "source": []
  },
  {
   "cell_type": "code",
   "execution_count": null,
   "metadata": {},
   "outputs": [],
   "source": []
  },
  {
   "cell_type": "code",
   "execution_count": null,
   "metadata": {},
   "outputs": [],
   "source": []
  },
  {
   "cell_type": "markdown",
   "metadata": {},
   "source": [
    "### Clean df_tmb data"
   ]
  },
  {
   "cell_type": "code",
   "execution_count": 325,
   "metadata": {
    "ExecuteTime": {
     "end_time": "2021-04-26T17:20:54.164232Z",
     "start_time": "2021-04-26T17:20:54.159245Z"
    }
   },
   "outputs": [
    {
     "data": {
      "text/plain": [
       "(26517, 10)"
      ]
     },
     "execution_count": 325,
     "metadata": {},
     "output_type": "execute_result"
    }
   ],
   "source": [
    "df_tmb.shape"
   ]
  },
  {
   "cell_type": "code",
   "execution_count": 285,
   "metadata": {
    "ExecuteTime": {
     "end_time": "2021-04-26T05:54:40.057167Z",
     "start_time": "2021-04-26T05:54:40.034205Z"
    }
   },
   "outputs": [
    {
     "data": {
      "text/plain": [
       "Unnamed: 0           0\n",
       "genre_ids            0\n",
       "id                   0\n",
       "original_language    0\n",
       "original_title       0\n",
       "popularity           0\n",
       "release_date         0\n",
       "title                0\n",
       "vote_average         0\n",
       "vote_count           0\n",
       "dtype: int64"
      ]
     },
     "execution_count": 285,
     "metadata": {},
     "output_type": "execute_result"
    }
   ],
   "source": [
    "df_tmb.isna().sum()"
   ]
  },
  {
   "cell_type": "markdown",
   "metadata": {},
   "source": [
    "### Clean df_tn_movie_budget data"
   ]
  },
  {
   "cell_type": "code",
   "execution_count": 326,
   "metadata": {
    "ExecuteTime": {
     "end_time": "2021-04-26T17:21:01.063157Z",
     "start_time": "2021-04-26T17:21:01.057173Z"
    }
   },
   "outputs": [
    {
     "data": {
      "text/plain": [
       "(5782, 6)"
      ]
     },
     "execution_count": 326,
     "metadata": {},
     "output_type": "execute_result"
    }
   ],
   "source": [
    "df_tn_movie_budget.shape"
   ]
  },
  {
   "cell_type": "code",
   "execution_count": 286,
   "metadata": {
    "ExecuteTime": {
     "end_time": "2021-04-26T05:54:48.213420Z",
     "start_time": "2021-04-26T05:54:48.203420Z"
    }
   },
   "outputs": [
    {
     "data": {
      "text/plain": [
       "id                   0\n",
       "release_date         0\n",
       "movie                0\n",
       "production_budget    0\n",
       "domestic_gross       0\n",
       "worldwide_gross      0\n",
       "dtype: int64"
      ]
     },
     "execution_count": 286,
     "metadata": {},
     "output_type": "execute_result"
    }
   ],
   "source": [
    "df_tn_movie_budget.isna().sum()"
   ]
  },
  {
   "cell_type": "code",
   "execution_count": 16,
   "metadata": {
    "ExecuteTime": {
     "end_time": "2021-04-25T21:46:45.461812Z",
     "start_time": "2021-04-25T21:46:45.457811Z"
    }
   },
   "outputs": [
    {
     "data": {
      "text/plain": [
       "(1560, 12)"
      ]
     },
     "execution_count": 16,
     "metadata": {},
     "output_type": "execute_result"
    }
   ],
   "source": [
    "df_rott_info.shape"
   ]
  },
  {
   "cell_type": "code",
   "execution_count": 334,
   "metadata": {
    "ExecuteTime": {
     "end_time": "2021-04-26T17:30:47.322160Z",
     "start_time": "2021-04-26T17:30:47.314168Z"
    }
   },
   "outputs": [
    {
     "data": {
      "text/plain": [
       "id                 0\n",
       "synopsis          62\n",
       "rating             3\n",
       "genre              8\n",
       "director         199\n",
       "writer           449\n",
       "theater_date     359\n",
       "dvd_date         359\n",
       "currency        1220\n",
       "box_office      1220\n",
       "runtime           30\n",
       "studio          1066\n",
       "dtype: int64"
      ]
     },
     "execution_count": 334,
     "metadata": {},
     "output_type": "execute_result"
    }
   ],
   "source": [
    "df_rott_info.isna().sum()"
   ]
  },
  {
   "cell_type": "code",
   "execution_count": 11,
   "metadata": {
    "ExecuteTime": {
     "end_time": "2021-04-25T21:44:15.024939Z",
     "start_time": "2021-04-25T21:44:15.018954Z"
    }
   },
   "outputs": [
    {
     "data": {
      "text/plain": [
       "(54432, 8)"
      ]
     },
     "execution_count": 11,
     "metadata": {},
     "output_type": "execute_result"
    }
   ],
   "source": [
    "df_rott_rev.shape"
   ]
  },
  {
   "cell_type": "code",
   "execution_count": 12,
   "metadata": {
    "ExecuteTime": {
     "end_time": "2021-04-25T21:44:37.045267Z",
     "start_time": "2021-04-25T21:44:37.026310Z"
    }
   },
   "outputs": [
    {
     "data": {
      "text/plain": [
       "id                0\n",
       "review         5563\n",
       "rating        13517\n",
       "fresh             0\n",
       "critic         2722\n",
       "top_critic        0\n",
       "publisher       309\n",
       "date              0\n",
       "dtype: int64"
      ]
     },
     "execution_count": 12,
     "metadata": {},
     "output_type": "execute_result"
    }
   ],
   "source": [
    "df_rott_rev.isna().sum()"
   ]
  },
  {
   "cell_type": "code",
   "execution_count": null,
   "metadata": {
    "ExecuteTime": {
     "end_time": "2021-04-25T21:41:59.038386Z",
     "start_time": "2021-04-25T21:41:54.396Z"
    }
   },
   "outputs": [],
   "source": [
    "df_bom[df_bom['domestic_gross'] > 500000000.0]"
   ]
  },
  {
   "cell_type": "markdown",
   "metadata": {},
   "source": [
    "look at budget data in bom, rott, tn\n",
    "df_tn_movie_budget[df_tn_movie_budget['domestic_gross'] > 500000000.0]"
   ]
  },
  {
   "cell_type": "code",
   "execution_count": null,
   "metadata": {
    "ExecuteTime": {
     "end_time": "2021-04-25T21:41:59.040382Z",
     "start_time": "2021-04-25T21:41:54.399Z"
    }
   },
   "outputs": [],
   "source": [
    "df_tn_movie_budget.head(3)\n"
   ]
  },
  {
   "cell_type": "code",
   "execution_count": 14,
   "metadata": {
    "ExecuteTime": {
     "end_time": "2021-04-25T21:45:02.595729Z",
     "start_time": "2021-04-25T21:45:02.573814Z"
    }
   },
   "outputs": [
    {
     "data": {
      "text/html": [
       "<div>\n",
       "<style scoped>\n",
       "    .dataframe tbody tr th:only-of-type {\n",
       "        vertical-align: middle;\n",
       "    }\n",
       "\n",
       "    .dataframe tbody tr th {\n",
       "        vertical-align: top;\n",
       "    }\n",
       "\n",
       "    .dataframe thead th {\n",
       "        text-align: right;\n",
       "    }\n",
       "</style>\n",
       "<table border=\"1\" class=\"dataframe\">\n",
       "  <thead>\n",
       "    <tr style=\"text-align: right;\">\n",
       "      <th></th>\n",
       "      <th>id</th>\n",
       "      <th>review</th>\n",
       "      <th>rating</th>\n",
       "      <th>fresh</th>\n",
       "      <th>critic</th>\n",
       "      <th>top_critic</th>\n",
       "      <th>publisher</th>\n",
       "      <th>date</th>\n",
       "    </tr>\n",
       "  </thead>\n",
       "  <tbody>\n",
       "    <tr>\n",
       "      <th>0</th>\n",
       "      <td>3</td>\n",
       "      <td>A distinctly gallows take on contemporary fina...</td>\n",
       "      <td>3/5</td>\n",
       "      <td>fresh</td>\n",
       "      <td>PJ Nabarro</td>\n",
       "      <td>0</td>\n",
       "      <td>Patrick Nabarro</td>\n",
       "      <td>November 10, 2018</td>\n",
       "    </tr>\n",
       "    <tr>\n",
       "      <th>1</th>\n",
       "      <td>3</td>\n",
       "      <td>It's an allegory in search of a meaning that n...</td>\n",
       "      <td>NaN</td>\n",
       "      <td>rotten</td>\n",
       "      <td>Annalee Newitz</td>\n",
       "      <td>0</td>\n",
       "      <td>io9.com</td>\n",
       "      <td>May 23, 2018</td>\n",
       "    </tr>\n",
       "    <tr>\n",
       "      <th>2</th>\n",
       "      <td>3</td>\n",
       "      <td>... life lived in a bubble in financial dealin...</td>\n",
       "      <td>NaN</td>\n",
       "      <td>fresh</td>\n",
       "      <td>Sean Axmaker</td>\n",
       "      <td>0</td>\n",
       "      <td>Stream on Demand</td>\n",
       "      <td>January 4, 2018</td>\n",
       "    </tr>\n",
       "    <tr>\n",
       "      <th>3</th>\n",
       "      <td>3</td>\n",
       "      <td>Continuing along a line introduced in last yea...</td>\n",
       "      <td>NaN</td>\n",
       "      <td>fresh</td>\n",
       "      <td>Daniel Kasman</td>\n",
       "      <td>0</td>\n",
       "      <td>MUBI</td>\n",
       "      <td>November 16, 2017</td>\n",
       "    </tr>\n",
       "    <tr>\n",
       "      <th>4</th>\n",
       "      <td>3</td>\n",
       "      <td>... a perverse twist on neorealism...</td>\n",
       "      <td>NaN</td>\n",
       "      <td>fresh</td>\n",
       "      <td>NaN</td>\n",
       "      <td>0</td>\n",
       "      <td>Cinema Scope</td>\n",
       "      <td>October 12, 2017</td>\n",
       "    </tr>\n",
       "    <tr>\n",
       "      <th>5</th>\n",
       "      <td>3</td>\n",
       "      <td>... Cronenberg's Cosmopolis expresses somethin...</td>\n",
       "      <td>NaN</td>\n",
       "      <td>fresh</td>\n",
       "      <td>Michelle Orange</td>\n",
       "      <td>0</td>\n",
       "      <td>Capital New York</td>\n",
       "      <td>September 11, 2017</td>\n",
       "    </tr>\n",
       "    <tr>\n",
       "      <th>6</th>\n",
       "      <td>3</td>\n",
       "      <td>Quickly grows repetitive and tiresome, meander...</td>\n",
       "      <td>C</td>\n",
       "      <td>rotten</td>\n",
       "      <td>Eric D. Snider</td>\n",
       "      <td>0</td>\n",
       "      <td>EricDSnider.com</td>\n",
       "      <td>July 17, 2013</td>\n",
       "    </tr>\n",
       "    <tr>\n",
       "      <th>7</th>\n",
       "      <td>3</td>\n",
       "      <td>Cronenberg is not a director to be daunted by ...</td>\n",
       "      <td>2/5</td>\n",
       "      <td>rotten</td>\n",
       "      <td>Matt Kelemen</td>\n",
       "      <td>0</td>\n",
       "      <td>Las Vegas CityLife</td>\n",
       "      <td>April 21, 2013</td>\n",
       "    </tr>\n",
       "    <tr>\n",
       "      <th>8</th>\n",
       "      <td>3</td>\n",
       "      <td>Cronenberg's cold, exacting precision and emot...</td>\n",
       "      <td>NaN</td>\n",
       "      <td>fresh</td>\n",
       "      <td>Sean Axmaker</td>\n",
       "      <td>0</td>\n",
       "      <td>Parallax View</td>\n",
       "      <td>March 24, 2013</td>\n",
       "    </tr>\n",
       "    <tr>\n",
       "      <th>9</th>\n",
       "      <td>3</td>\n",
       "      <td>Over and above its topical urgency or the bit ...</td>\n",
       "      <td>NaN</td>\n",
       "      <td>fresh</td>\n",
       "      <td>Kong Rithdee</td>\n",
       "      <td>0</td>\n",
       "      <td>Bangkok Post</td>\n",
       "      <td>March 4, 2013</td>\n",
       "    </tr>\n",
       "    <tr>\n",
       "      <th>10</th>\n",
       "      <td>3</td>\n",
       "      <td>Cosmopolis\" is a hypnotic examination of our m...</td>\n",
       "      <td>NaN</td>\n",
       "      <td>fresh</td>\n",
       "      <td>Tim Grierson</td>\n",
       "      <td>0</td>\n",
       "      <td>Deadspin</td>\n",
       "      <td>February 12, 2013</td>\n",
       "    </tr>\n",
       "    <tr>\n",
       "      <th>11</th>\n",
       "      <td>3</td>\n",
       "      <td>While not one of Cronenberg's stronger films, ...</td>\n",
       "      <td>B-</td>\n",
       "      <td>fresh</td>\n",
       "      <td>Emanuel Levy</td>\n",
       "      <td>0</td>\n",
       "      <td>EmanuelLevy.Com</td>\n",
       "      <td>February 3, 2013</td>\n",
       "    </tr>\n",
       "    <tr>\n",
       "      <th>12</th>\n",
       "      <td>3</td>\n",
       "      <td>Robert Pattinson works mighty hard to make Cos...</td>\n",
       "      <td>2/4</td>\n",
       "      <td>rotten</td>\n",
       "      <td>Christian Toto</td>\n",
       "      <td>0</td>\n",
       "      <td>Big Hollywood</td>\n",
       "      <td>January 15, 2013</td>\n",
       "    </tr>\n",
       "    <tr>\n",
       "      <th>13</th>\n",
       "      <td>3</td>\n",
       "      <td>The anger over the injustice of the financial ...</td>\n",
       "      <td>B</td>\n",
       "      <td>fresh</td>\n",
       "      <td>Robert Roten</td>\n",
       "      <td>0</td>\n",
       "      <td>Laramie Movie Scope</td>\n",
       "      <td>January 7, 2013</td>\n",
       "    </tr>\n",
       "    <tr>\n",
       "      <th>14</th>\n",
       "      <td>3</td>\n",
       "      <td>For those who like their Cronenberg thick and ...</td>\n",
       "      <td>3/4</td>\n",
       "      <td>fresh</td>\n",
       "      <td>Marty Mapes</td>\n",
       "      <td>0</td>\n",
       "      <td>Movie Habit</td>\n",
       "      <td>October 20, 2012</td>\n",
       "    </tr>\n",
       "    <tr>\n",
       "      <th>15</th>\n",
       "      <td>3</td>\n",
       "      <td>For better or worse - often both - Cosmopolis ...</td>\n",
       "      <td>3/5</td>\n",
       "      <td>fresh</td>\n",
       "      <td>Adam Ross</td>\n",
       "      <td>0</td>\n",
       "      <td>The Aristocrat</td>\n",
       "      <td>September 27, 2012</td>\n",
       "    </tr>\n",
       "    <tr>\n",
       "      <th>16</th>\n",
       "      <td>3</td>\n",
       "      <td>For one of the smartest films I've seen in a w...</td>\n",
       "      <td>4/5</td>\n",
       "      <td>fresh</td>\n",
       "      <td>Patrick Kolan</td>\n",
       "      <td>0</td>\n",
       "      <td>Shotgun Cinema</td>\n",
       "      <td>September 26, 2012</td>\n",
       "    </tr>\n",
       "    <tr>\n",
       "      <th>17</th>\n",
       "      <td>3</td>\n",
       "      <td>Its major problem is that it's not cinematic.</td>\n",
       "      <td>B</td>\n",
       "      <td>fresh</td>\n",
       "      <td>Dennis Schwartz</td>\n",
       "      <td>0</td>\n",
       "      <td>Ozus' World Movie Reviews</td>\n",
       "      <td>September 25, 2012</td>\n",
       "    </tr>\n",
       "    <tr>\n",
       "      <th>18</th>\n",
       "      <td>3</td>\n",
       "      <td>It's fascinating to watch Pattinson actually a...</td>\n",
       "      <td>2/4</td>\n",
       "      <td>rotten</td>\n",
       "      <td>Sean P. Means</td>\n",
       "      <td>0</td>\n",
       "      <td>Salt Lake Tribune</td>\n",
       "      <td>September 14, 2012</td>\n",
       "    </tr>\n",
       "    <tr>\n",
       "      <th>19</th>\n",
       "      <td>3</td>\n",
       "      <td>A black comedy as dry and deadpan as a bleache...</td>\n",
       "      <td>4/4</td>\n",
       "      <td>fresh</td>\n",
       "      <td>John Beifuss</td>\n",
       "      <td>0</td>\n",
       "      <td>Commercial Appeal (Memphis, TN)</td>\n",
       "      <td>September 10, 2012</td>\n",
       "    </tr>\n",
       "    <tr>\n",
       "      <th>20</th>\n",
       "      <td>3</td>\n",
       "      <td>While 'Cosmopolis' is mostly emotionless and a...</td>\n",
       "      <td>6/10</td>\n",
       "      <td>fresh</td>\n",
       "      <td>Chris Sawin</td>\n",
       "      <td>0</td>\n",
       "      <td>Examiner.com</td>\n",
       "      <td>September 7, 2012</td>\n",
       "    </tr>\n",
       "    <tr>\n",
       "      <th>21</th>\n",
       "      <td>3</td>\n",
       "      <td>In the past, Cronenberg has used such deadpan ...</td>\n",
       "      <td>1/4</td>\n",
       "      <td>rotten</td>\n",
       "      <td>Jason Buchanan</td>\n",
       "      <td>0</td>\n",
       "      <td>TV Guide</td>\n",
       "      <td>September 7, 2012</td>\n",
       "    </tr>\n",
       "    <tr>\n",
       "      <th>22</th>\n",
       "      <td>3</td>\n",
       "      <td>... a movie about a sentient zombie, trapped i...</td>\n",
       "      <td>8</td>\n",
       "      <td>fresh</td>\n",
       "      <td>Philip Martin</td>\n",
       "      <td>0</td>\n",
       "      <td>Arkansas Democrat-Gazette</td>\n",
       "      <td>September 7, 2012</td>\n",
       "    </tr>\n",
       "    <tr>\n",
       "      <th>23</th>\n",
       "      <td>3</td>\n",
       "      <td>Those who said Don DeLillo's book was unfilmab...</td>\n",
       "      <td>2/5</td>\n",
       "      <td>rotten</td>\n",
       "      <td>Mike Scott</td>\n",
       "      <td>0</td>\n",
       "      <td>Times-Picayune</td>\n",
       "      <td>September 7, 2012</td>\n",
       "    </tr>\n",
       "    <tr>\n",
       "      <th>24</th>\n",
       "      <td>3</td>\n",
       "      <td>The rapid dialogue is dry and mannered, like a...</td>\n",
       "      <td>2.5/4</td>\n",
       "      <td>rotten</td>\n",
       "      <td>Joe Williams</td>\n",
       "      <td>1</td>\n",
       "      <td>St. Louis Post-Dispatch</td>\n",
       "      <td>September 6, 2012</td>\n",
       "    </tr>\n",
       "  </tbody>\n",
       "</table>\n",
       "</div>"
      ],
      "text/plain": [
       "    id                                             review rating   fresh  \\\n",
       "0    3  A distinctly gallows take on contemporary fina...    3/5   fresh   \n",
       "1    3  It's an allegory in search of a meaning that n...    NaN  rotten   \n",
       "2    3  ... life lived in a bubble in financial dealin...    NaN   fresh   \n",
       "3    3  Continuing along a line introduced in last yea...    NaN   fresh   \n",
       "4    3             ... a perverse twist on neorealism...     NaN   fresh   \n",
       "5    3  ... Cronenberg's Cosmopolis expresses somethin...    NaN   fresh   \n",
       "6    3  Quickly grows repetitive and tiresome, meander...      C  rotten   \n",
       "7    3  Cronenberg is not a director to be daunted by ...    2/5  rotten   \n",
       "8    3  Cronenberg's cold, exacting precision and emot...    NaN   fresh   \n",
       "9    3  Over and above its topical urgency or the bit ...    NaN   fresh   \n",
       "10   3  Cosmopolis\" is a hypnotic examination of our m...    NaN   fresh   \n",
       "11   3  While not one of Cronenberg's stronger films, ...     B-   fresh   \n",
       "12   3  Robert Pattinson works mighty hard to make Cos...    2/4  rotten   \n",
       "13   3  The anger over the injustice of the financial ...      B   fresh   \n",
       "14   3  For those who like their Cronenberg thick and ...    3/4   fresh   \n",
       "15   3  For better or worse - often both - Cosmopolis ...    3/5   fresh   \n",
       "16   3  For one of the smartest films I've seen in a w...    4/5   fresh   \n",
       "17   3      Its major problem is that it's not cinematic.      B   fresh   \n",
       "18   3  It's fascinating to watch Pattinson actually a...    2/4  rotten   \n",
       "19   3  A black comedy as dry and deadpan as a bleache...    4/4   fresh   \n",
       "20   3  While 'Cosmopolis' is mostly emotionless and a...   6/10   fresh   \n",
       "21   3  In the past, Cronenberg has used such deadpan ...    1/4  rotten   \n",
       "22   3  ... a movie about a sentient zombie, trapped i...      8   fresh   \n",
       "23   3  Those who said Don DeLillo's book was unfilmab...    2/5  rotten   \n",
       "24   3  The rapid dialogue is dry and mannered, like a...  2.5/4  rotten   \n",
       "\n",
       "             critic  top_critic                        publisher  \\\n",
       "0        PJ Nabarro           0                  Patrick Nabarro   \n",
       "1    Annalee Newitz           0                          io9.com   \n",
       "2      Sean Axmaker           0                 Stream on Demand   \n",
       "3     Daniel Kasman           0                             MUBI   \n",
       "4               NaN           0                     Cinema Scope   \n",
       "5   Michelle Orange           0                 Capital New York   \n",
       "6    Eric D. Snider           0                  EricDSnider.com   \n",
       "7      Matt Kelemen           0               Las Vegas CityLife   \n",
       "8      Sean Axmaker           0                    Parallax View   \n",
       "9      Kong Rithdee           0                     Bangkok Post   \n",
       "10     Tim Grierson           0                         Deadspin   \n",
       "11     Emanuel Levy           0                  EmanuelLevy.Com   \n",
       "12   Christian Toto           0                    Big Hollywood   \n",
       "13     Robert Roten           0              Laramie Movie Scope   \n",
       "14      Marty Mapes           0                      Movie Habit   \n",
       "15        Adam Ross           0                   The Aristocrat   \n",
       "16    Patrick Kolan           0                   Shotgun Cinema   \n",
       "17  Dennis Schwartz           0        Ozus' World Movie Reviews   \n",
       "18    Sean P. Means           0                Salt Lake Tribune   \n",
       "19     John Beifuss           0  Commercial Appeal (Memphis, TN)   \n",
       "20      Chris Sawin           0                     Examiner.com   \n",
       "21   Jason Buchanan           0                         TV Guide   \n",
       "22    Philip Martin           0        Arkansas Democrat-Gazette   \n",
       "23       Mike Scott           0                   Times-Picayune   \n",
       "24     Joe Williams           1          St. Louis Post-Dispatch   \n",
       "\n",
       "                  date  \n",
       "0    November 10, 2018  \n",
       "1         May 23, 2018  \n",
       "2      January 4, 2018  \n",
       "3    November 16, 2017  \n",
       "4     October 12, 2017  \n",
       "5   September 11, 2017  \n",
       "6        July 17, 2013  \n",
       "7       April 21, 2013  \n",
       "8       March 24, 2013  \n",
       "9        March 4, 2013  \n",
       "10   February 12, 2013  \n",
       "11    February 3, 2013  \n",
       "12    January 15, 2013  \n",
       "13     January 7, 2013  \n",
       "14    October 20, 2012  \n",
       "15  September 27, 2012  \n",
       "16  September 26, 2012  \n",
       "17  September 25, 2012  \n",
       "18  September 14, 2012  \n",
       "19  September 10, 2012  \n",
       "20   September 7, 2012  \n",
       "21   September 7, 2012  \n",
       "22   September 7, 2012  \n",
       "23   September 7, 2012  \n",
       "24   September 6, 2012  "
      ]
     },
     "execution_count": 14,
     "metadata": {},
     "output_type": "execute_result"
    }
   ],
   "source": [
    "df_rott_rev.head(25)"
   ]
  },
  {
   "cell_type": "markdown",
   "metadata": {},
   "source": [
    "## data clean for df_rott_info"
   ]
  },
  {
   "cell_type": "code",
   "execution_count": 23,
   "metadata": {
    "ExecuteTime": {
     "end_time": "2021-04-25T21:50:59.249943Z",
     "start_time": "2021-04-25T21:50:59.217040Z"
    }
   },
   "outputs": [
    {
     "data": {
      "text/html": [
       "<div>\n",
       "<style scoped>\n",
       "    .dataframe tbody tr th:only-of-type {\n",
       "        vertical-align: middle;\n",
       "    }\n",
       "\n",
       "    .dataframe tbody tr th {\n",
       "        vertical-align: top;\n",
       "    }\n",
       "\n",
       "    .dataframe thead th {\n",
       "        text-align: right;\n",
       "    }\n",
       "</style>\n",
       "<table border=\"1\" class=\"dataframe\">\n",
       "  <thead>\n",
       "    <tr style=\"text-align: right;\">\n",
       "      <th></th>\n",
       "      <th>id</th>\n",
       "      <th>synopsis</th>\n",
       "      <th>rating</th>\n",
       "      <th>genre</th>\n",
       "      <th>director</th>\n",
       "      <th>writer</th>\n",
       "      <th>theater_date</th>\n",
       "      <th>dvd_date</th>\n",
       "      <th>currency</th>\n",
       "      <th>box_office</th>\n",
       "      <th>runtime</th>\n",
       "      <th>studio</th>\n",
       "    </tr>\n",
       "  </thead>\n",
       "  <tbody>\n",
       "    <tr>\n",
       "      <th>0</th>\n",
       "      <td>1</td>\n",
       "      <td>This gritty, fast-paced, and innovative police...</td>\n",
       "      <td>R</td>\n",
       "      <td>Action and Adventure|Classics|Drama</td>\n",
       "      <td>William Friedkin</td>\n",
       "      <td>Ernest Tidyman</td>\n",
       "      <td>Oct 9, 1971</td>\n",
       "      <td>Sep 25, 2001</td>\n",
       "      <td>NaN</td>\n",
       "      <td>NaN</td>\n",
       "      <td>104 minutes</td>\n",
       "      <td>NaN</td>\n",
       "    </tr>\n",
       "    <tr>\n",
       "      <th>1</th>\n",
       "      <td>3</td>\n",
       "      <td>New York City, not-too-distant-future: Eric Pa...</td>\n",
       "      <td>R</td>\n",
       "      <td>Drama|Science Fiction and Fantasy</td>\n",
       "      <td>David Cronenberg</td>\n",
       "      <td>David Cronenberg|Don DeLillo</td>\n",
       "      <td>Aug 17, 2012</td>\n",
       "      <td>Jan 1, 2013</td>\n",
       "      <td>$</td>\n",
       "      <td>600,000</td>\n",
       "      <td>108 minutes</td>\n",
       "      <td>Entertainment One</td>\n",
       "    </tr>\n",
       "    <tr>\n",
       "      <th>2</th>\n",
       "      <td>5</td>\n",
       "      <td>Illeana Douglas delivers a superb performance ...</td>\n",
       "      <td>R</td>\n",
       "      <td>Drama|Musical and Performing Arts</td>\n",
       "      <td>Allison Anders</td>\n",
       "      <td>Allison Anders</td>\n",
       "      <td>Sep 13, 1996</td>\n",
       "      <td>Apr 18, 2000</td>\n",
       "      <td>NaN</td>\n",
       "      <td>NaN</td>\n",
       "      <td>116 minutes</td>\n",
       "      <td>NaN</td>\n",
       "    </tr>\n",
       "    <tr>\n",
       "      <th>3</th>\n",
       "      <td>6</td>\n",
       "      <td>Michael Douglas runs afoul of a treacherous su...</td>\n",
       "      <td>R</td>\n",
       "      <td>Drama|Mystery and Suspense</td>\n",
       "      <td>Barry Levinson</td>\n",
       "      <td>Paul Attanasio|Michael Crichton</td>\n",
       "      <td>Dec 9, 1994</td>\n",
       "      <td>Aug 27, 1997</td>\n",
       "      <td>NaN</td>\n",
       "      <td>NaN</td>\n",
       "      <td>128 minutes</td>\n",
       "      <td>NaN</td>\n",
       "    </tr>\n",
       "    <tr>\n",
       "      <th>4</th>\n",
       "      <td>7</td>\n",
       "      <td>NaN</td>\n",
       "      <td>NR</td>\n",
       "      <td>Drama|Romance</td>\n",
       "      <td>Rodney Bennett</td>\n",
       "      <td>Giles Cooper</td>\n",
       "      <td>NaN</td>\n",
       "      <td>NaN</td>\n",
       "      <td>NaN</td>\n",
       "      <td>NaN</td>\n",
       "      <td>200 minutes</td>\n",
       "      <td>NaN</td>\n",
       "    </tr>\n",
       "    <tr>\n",
       "      <th>5</th>\n",
       "      <td>8</td>\n",
       "      <td>The year is 1942. As the Allies unite overseas...</td>\n",
       "      <td>PG</td>\n",
       "      <td>Drama|Kids and Family</td>\n",
       "      <td>Jay Russell</td>\n",
       "      <td>Gail Gilchriest</td>\n",
       "      <td>Mar 3, 2000</td>\n",
       "      <td>Jul 11, 2000</td>\n",
       "      <td>NaN</td>\n",
       "      <td>NaN</td>\n",
       "      <td>95 minutes</td>\n",
       "      <td>Warner Bros. Pictures</td>\n",
       "    </tr>\n",
       "    <tr>\n",
       "      <th>6</th>\n",
       "      <td>10</td>\n",
       "      <td>Some cast and crew from NBC's highly acclaimed...</td>\n",
       "      <td>PG-13</td>\n",
       "      <td>Comedy</td>\n",
       "      <td>Jake Kasdan</td>\n",
       "      <td>Mike White</td>\n",
       "      <td>Jan 11, 2002</td>\n",
       "      <td>Jun 18, 2002</td>\n",
       "      <td>$</td>\n",
       "      <td>41,032,915</td>\n",
       "      <td>82 minutes</td>\n",
       "      <td>Paramount Pictures</td>\n",
       "    </tr>\n",
       "    <tr>\n",
       "      <th>7</th>\n",
       "      <td>13</td>\n",
       "      <td>Stewart Kane, an Irishman living in the Austra...</td>\n",
       "      <td>R</td>\n",
       "      <td>Drama</td>\n",
       "      <td>Ray Lawrence</td>\n",
       "      <td>Raymond Carver|Beatrix Christian</td>\n",
       "      <td>Apr 27, 2006</td>\n",
       "      <td>Oct 2, 2007</td>\n",
       "      <td>$</td>\n",
       "      <td>224,114</td>\n",
       "      <td>123 minutes</td>\n",
       "      <td>Sony Pictures Classics</td>\n",
       "    </tr>\n",
       "    <tr>\n",
       "      <th>8</th>\n",
       "      <td>14</td>\n",
       "      <td>\"Love Ranch\" is a bittersweet love story that ...</td>\n",
       "      <td>R</td>\n",
       "      <td>Drama</td>\n",
       "      <td>Taylor Hackford</td>\n",
       "      <td>Mark Jacobson</td>\n",
       "      <td>Jun 30, 2010</td>\n",
       "      <td>Nov 9, 2010</td>\n",
       "      <td>$</td>\n",
       "      <td>134,904</td>\n",
       "      <td>117 minutes</td>\n",
       "      <td>NaN</td>\n",
       "    </tr>\n",
       "    <tr>\n",
       "      <th>9</th>\n",
       "      <td>15</td>\n",
       "      <td>When a diamond expedition in the Congo is lost...</td>\n",
       "      <td>PG-13</td>\n",
       "      <td>Action and Adventure|Mystery and Suspense|Scie...</td>\n",
       "      <td>Frank Marshall</td>\n",
       "      <td>John Patrick Shanley</td>\n",
       "      <td>Jun 9, 1995</td>\n",
       "      <td>Jul 27, 1999</td>\n",
       "      <td>NaN</td>\n",
       "      <td>NaN</td>\n",
       "      <td>108 minutes</td>\n",
       "      <td>NaN</td>\n",
       "    </tr>\n",
       "    <tr>\n",
       "      <th>10</th>\n",
       "      <td>17</td>\n",
       "      <td>NaN</td>\n",
       "      <td>NaN</td>\n",
       "      <td>NaN</td>\n",
       "      <td>NaN</td>\n",
       "      <td>NaN</td>\n",
       "      <td>NaN</td>\n",
       "      <td>NaN</td>\n",
       "      <td>NaN</td>\n",
       "      <td>NaN</td>\n",
       "      <td>NaN</td>\n",
       "      <td>NaN</td>\n",
       "    </tr>\n",
       "    <tr>\n",
       "      <th>11</th>\n",
       "      <td>18</td>\n",
       "      <td>In 1979, Bill Viola and Frank Caliguri dreamed...</td>\n",
       "      <td>NR</td>\n",
       "      <td>Documentary</td>\n",
       "      <td>NaN</td>\n",
       "      <td>Robert Zullo</td>\n",
       "      <td>NaN</td>\n",
       "      <td>NaN</td>\n",
       "      <td>NaN</td>\n",
       "      <td>NaN</td>\n",
       "      <td>NaN</td>\n",
       "      <td>Showtime Documentary Films</td>\n",
       "    </tr>\n",
       "    <tr>\n",
       "      <th>12</th>\n",
       "      <td>19</td>\n",
       "      <td>While Microsoft may be the biggest software co...</td>\n",
       "      <td>NR</td>\n",
       "      <td>Documentary|Special Interest</td>\n",
       "      <td>NaN</td>\n",
       "      <td>NaN</td>\n",
       "      <td>Aug 23, 2002</td>\n",
       "      <td>Sep 30, 2003</td>\n",
       "      <td>NaN</td>\n",
       "      <td>NaN</td>\n",
       "      <td>90 minutes</td>\n",
       "      <td>Seventh Art Releasing</td>\n",
       "    </tr>\n",
       "    <tr>\n",
       "      <th>13</th>\n",
       "      <td>20</td>\n",
       "      <td>Rachel (Britt Ekland) is an Amish girl who rej...</td>\n",
       "      <td>PG-13</td>\n",
       "      <td>Classics|Comedy|Drama</td>\n",
       "      <td>William Friedkin</td>\n",
       "      <td>Sidney Michaels|Arnold Schulman|Norman Lear</td>\n",
       "      <td>Dec 22, 1968</td>\n",
       "      <td>May 20, 2008</td>\n",
       "      <td>NaN</td>\n",
       "      <td>NaN</td>\n",
       "      <td>97 minutes</td>\n",
       "      <td>NaN</td>\n",
       "    </tr>\n",
       "    <tr>\n",
       "      <th>14</th>\n",
       "      <td>21</td>\n",
       "      <td>Old-school comic Rodney \"I get no respect\" Dan...</td>\n",
       "      <td>R</td>\n",
       "      <td>Comedy</td>\n",
       "      <td>Peter Baldwin</td>\n",
       "      <td>Rodney Dangerfield|Harry Basil</td>\n",
       "      <td>Jan 31, 1997</td>\n",
       "      <td>Sep 20, 1999</td>\n",
       "      <td>NaN</td>\n",
       "      <td>NaN</td>\n",
       "      <td>106 minutes</td>\n",
       "      <td>NaN</td>\n",
       "    </tr>\n",
       "    <tr>\n",
       "      <th>15</th>\n",
       "      <td>22</td>\n",
       "      <td>Two-time Academy Award Winner Kevin Spacey giv...</td>\n",
       "      <td>R</td>\n",
       "      <td>Comedy|Drama|Mystery and Suspense</td>\n",
       "      <td>George Hickenlooper</td>\n",
       "      <td>Norman Snider</td>\n",
       "      <td>Dec 17, 2010</td>\n",
       "      <td>Apr 5, 2011</td>\n",
       "      <td>$</td>\n",
       "      <td>1,039,869</td>\n",
       "      <td>108 minutes</td>\n",
       "      <td>ATO Pictures</td>\n",
       "    </tr>\n",
       "    <tr>\n",
       "      <th>16</th>\n",
       "      <td>23</td>\n",
       "      <td>A fictional film set in the alluring world of ...</td>\n",
       "      <td>R</td>\n",
       "      <td>Drama</td>\n",
       "      <td>NaN</td>\n",
       "      <td>NaN</td>\n",
       "      <td>Dec 20, 2013</td>\n",
       "      <td>Mar 18, 2014</td>\n",
       "      <td>$</td>\n",
       "      <td>99,165,609</td>\n",
       "      <td>129 minutes</td>\n",
       "      <td>Sony Pictures</td>\n",
       "    </tr>\n",
       "    <tr>\n",
       "      <th>17</th>\n",
       "      <td>24</td>\n",
       "      <td>Three young boys discover a stranded Russian s...</td>\n",
       "      <td>PG</td>\n",
       "      <td>Action and Adventure|Comedy|Drama</td>\n",
       "      <td>Rick Rosenthal</td>\n",
       "      <td>Sheldon Lettich|Michael Nankin|Alan Jay Glueckman</td>\n",
       "      <td>Nov 6, 1987</td>\n",
       "      <td>Mar 8, 2005</td>\n",
       "      <td>NaN</td>\n",
       "      <td>NaN</td>\n",
       "      <td>98 minutes</td>\n",
       "      <td>NaN</td>\n",
       "    </tr>\n",
       "    <tr>\n",
       "      <th>18</th>\n",
       "      <td>25</td>\n",
       "      <td>From ancient Japan's most enduring tale, the e...</td>\n",
       "      <td>PG-13</td>\n",
       "      <td>Action and Adventure|Drama|Science Fiction and...</td>\n",
       "      <td>Carl Erik Rinsch</td>\n",
       "      <td>Chris Morgan|Hossein Amini</td>\n",
       "      <td>Dec 25, 2013</td>\n",
       "      <td>Apr 1, 2014</td>\n",
       "      <td>$</td>\n",
       "      <td>20,518,224</td>\n",
       "      <td>127 minutes</td>\n",
       "      <td>Universal Pictures</td>\n",
       "    </tr>\n",
       "    <tr>\n",
       "      <th>19</th>\n",
       "      <td>26</td>\n",
       "      <td>A comic series of short vignettes build on one...</td>\n",
       "      <td>R</td>\n",
       "      <td>Art House and International|Comedy|Drama|Music...</td>\n",
       "      <td>Jim Jarmusch</td>\n",
       "      <td>Jim Jarmusch</td>\n",
       "      <td>May 14, 2004</td>\n",
       "      <td>Sep 21, 2004</td>\n",
       "      <td>$</td>\n",
       "      <td>1,971,135</td>\n",
       "      <td>96 minutes</td>\n",
       "      <td>MGM</td>\n",
       "    </tr>\n",
       "    <tr>\n",
       "      <th>20</th>\n",
       "      <td>27</td>\n",
       "      <td>NaN</td>\n",
       "      <td>NR</td>\n",
       "      <td>Musical and Performing Arts</td>\n",
       "      <td>NaN</td>\n",
       "      <td>NaN</td>\n",
       "      <td>NaN</td>\n",
       "      <td>NaN</td>\n",
       "      <td>NaN</td>\n",
       "      <td>NaN</td>\n",
       "      <td>NaN</td>\n",
       "      <td>NaN</td>\n",
       "    </tr>\n",
       "    <tr>\n",
       "      <th>21</th>\n",
       "      <td>28</td>\n",
       "      <td>Elvis goes Hawaiian for the second time in thi...</td>\n",
       "      <td>G</td>\n",
       "      <td>Classics|Comedy|Musical and Performing Arts|Ro...</td>\n",
       "      <td>NaN</td>\n",
       "      <td>Allan Weiss|Anthony Lawrence</td>\n",
       "      <td>Jun 15, 1966</td>\n",
       "      <td>Jan 7, 2003</td>\n",
       "      <td>NaN</td>\n",
       "      <td>NaN</td>\n",
       "      <td>90 minutes</td>\n",
       "      <td>NaN</td>\n",
       "    </tr>\n",
       "    <tr>\n",
       "      <th>22</th>\n",
       "      <td>29</td>\n",
       "      <td>This futuristic adventure stars Lee Majors as ...</td>\n",
       "      <td>PG</td>\n",
       "      <td>Action and Adventure|Drama|Science Fiction and...</td>\n",
       "      <td>Martyn Burke</td>\n",
       "      <td>NaN</td>\n",
       "      <td>Apr 1, 1981</td>\n",
       "      <td>May 10, 2011</td>\n",
       "      <td>NaN</td>\n",
       "      <td>NaN</td>\n",
       "      <td>101 minutes</td>\n",
       "      <td>NaN</td>\n",
       "    </tr>\n",
       "    <tr>\n",
       "      <th>23</th>\n",
       "      <td>33</td>\n",
       "      <td>Howard W. Campbell Jr. (Nick Nolte) is an Amer...</td>\n",
       "      <td>R</td>\n",
       "      <td>Action and Adventure|Drama|Mystery and Suspense</td>\n",
       "      <td>Keith Gordon</td>\n",
       "      <td>NaN</td>\n",
       "      <td>Nov 1, 1996</td>\n",
       "      <td>Aug 22, 2000</td>\n",
       "      <td>NaN</td>\n",
       "      <td>NaN</td>\n",
       "      <td>114 minutes</td>\n",
       "      <td>NaN</td>\n",
       "    </tr>\n",
       "    <tr>\n",
       "      <th>24</th>\n",
       "      <td>34</td>\n",
       "      <td>Director John Woo brings Hong Kong-style marti...</td>\n",
       "      <td>PG-13</td>\n",
       "      <td>Action and Adventure|Mystery and Suspense</td>\n",
       "      <td>John Woo</td>\n",
       "      <td>William Goldman|John Logan|David Marconi|Micha...</td>\n",
       "      <td>Dec 31, 2000</td>\n",
       "      <td>Nov 7, 2000</td>\n",
       "      <td>NaN</td>\n",
       "      <td>NaN</td>\n",
       "      <td>123 minutes</td>\n",
       "      <td>Paramount Pictures</td>\n",
       "    </tr>\n",
       "  </tbody>\n",
       "</table>\n",
       "</div>"
      ],
      "text/plain": [
       "    id                                           synopsis rating  \\\n",
       "0    1  This gritty, fast-paced, and innovative police...      R   \n",
       "1    3  New York City, not-too-distant-future: Eric Pa...      R   \n",
       "2    5  Illeana Douglas delivers a superb performance ...      R   \n",
       "3    6  Michael Douglas runs afoul of a treacherous su...      R   \n",
       "4    7                                                NaN     NR   \n",
       "5    8  The year is 1942. As the Allies unite overseas...     PG   \n",
       "6   10  Some cast and crew from NBC's highly acclaimed...  PG-13   \n",
       "7   13  Stewart Kane, an Irishman living in the Austra...      R   \n",
       "8   14  \"Love Ranch\" is a bittersweet love story that ...      R   \n",
       "9   15  When a diamond expedition in the Congo is lost...  PG-13   \n",
       "10  17                                                NaN    NaN   \n",
       "11  18  In 1979, Bill Viola and Frank Caliguri dreamed...     NR   \n",
       "12  19  While Microsoft may be the biggest software co...     NR   \n",
       "13  20  Rachel (Britt Ekland) is an Amish girl who rej...  PG-13   \n",
       "14  21  Old-school comic Rodney \"I get no respect\" Dan...      R   \n",
       "15  22  Two-time Academy Award Winner Kevin Spacey giv...      R   \n",
       "16  23  A fictional film set in the alluring world of ...      R   \n",
       "17  24  Three young boys discover a stranded Russian s...     PG   \n",
       "18  25  From ancient Japan's most enduring tale, the e...  PG-13   \n",
       "19  26  A comic series of short vignettes build on one...      R   \n",
       "20  27                                                NaN     NR   \n",
       "21  28  Elvis goes Hawaiian for the second time in thi...      G   \n",
       "22  29  This futuristic adventure stars Lee Majors as ...     PG   \n",
       "23  33  Howard W. Campbell Jr. (Nick Nolte) is an Amer...      R   \n",
       "24  34  Director John Woo brings Hong Kong-style marti...  PG-13   \n",
       "\n",
       "                                                genre             director  \\\n",
       "0                 Action and Adventure|Classics|Drama     William Friedkin   \n",
       "1                   Drama|Science Fiction and Fantasy     David Cronenberg   \n",
       "2                   Drama|Musical and Performing Arts       Allison Anders   \n",
       "3                          Drama|Mystery and Suspense       Barry Levinson   \n",
       "4                                       Drama|Romance       Rodney Bennett   \n",
       "5                               Drama|Kids and Family          Jay Russell   \n",
       "6                                              Comedy          Jake Kasdan   \n",
       "7                                               Drama         Ray Lawrence   \n",
       "8                                               Drama      Taylor Hackford   \n",
       "9   Action and Adventure|Mystery and Suspense|Scie...       Frank Marshall   \n",
       "10                                                NaN                  NaN   \n",
       "11                                        Documentary                  NaN   \n",
       "12                       Documentary|Special Interest                  NaN   \n",
       "13                              Classics|Comedy|Drama     William Friedkin   \n",
       "14                                             Comedy        Peter Baldwin   \n",
       "15                  Comedy|Drama|Mystery and Suspense  George Hickenlooper   \n",
       "16                                              Drama                  NaN   \n",
       "17                  Action and Adventure|Comedy|Drama       Rick Rosenthal   \n",
       "18  Action and Adventure|Drama|Science Fiction and...     Carl Erik Rinsch   \n",
       "19  Art House and International|Comedy|Drama|Music...         Jim Jarmusch   \n",
       "20                        Musical and Performing Arts                  NaN   \n",
       "21  Classics|Comedy|Musical and Performing Arts|Ro...                  NaN   \n",
       "22  Action and Adventure|Drama|Science Fiction and...         Martyn Burke   \n",
       "23    Action and Adventure|Drama|Mystery and Suspense         Keith Gordon   \n",
       "24          Action and Adventure|Mystery and Suspense             John Woo   \n",
       "\n",
       "                                               writer  theater_date  \\\n",
       "0                                      Ernest Tidyman   Oct 9, 1971   \n",
       "1                        David Cronenberg|Don DeLillo  Aug 17, 2012   \n",
       "2                                      Allison Anders  Sep 13, 1996   \n",
       "3                     Paul Attanasio|Michael Crichton   Dec 9, 1994   \n",
       "4                                        Giles Cooper           NaN   \n",
       "5                                     Gail Gilchriest   Mar 3, 2000   \n",
       "6                                          Mike White  Jan 11, 2002   \n",
       "7                    Raymond Carver|Beatrix Christian  Apr 27, 2006   \n",
       "8                                       Mark Jacobson  Jun 30, 2010   \n",
       "9                                John Patrick Shanley   Jun 9, 1995   \n",
       "10                                                NaN           NaN   \n",
       "11                                       Robert Zullo           NaN   \n",
       "12                                                NaN  Aug 23, 2002   \n",
       "13        Sidney Michaels|Arnold Schulman|Norman Lear  Dec 22, 1968   \n",
       "14                     Rodney Dangerfield|Harry Basil  Jan 31, 1997   \n",
       "15                                      Norman Snider  Dec 17, 2010   \n",
       "16                                                NaN  Dec 20, 2013   \n",
       "17  Sheldon Lettich|Michael Nankin|Alan Jay Glueckman   Nov 6, 1987   \n",
       "18                         Chris Morgan|Hossein Amini  Dec 25, 2013   \n",
       "19                                       Jim Jarmusch  May 14, 2004   \n",
       "20                                                NaN           NaN   \n",
       "21                       Allan Weiss|Anthony Lawrence  Jun 15, 1966   \n",
       "22                                                NaN   Apr 1, 1981   \n",
       "23                                                NaN   Nov 1, 1996   \n",
       "24  William Goldman|John Logan|David Marconi|Micha...  Dec 31, 2000   \n",
       "\n",
       "        dvd_date currency  box_office      runtime                      studio  \n",
       "0   Sep 25, 2001      NaN         NaN  104 minutes                         NaN  \n",
       "1    Jan 1, 2013        $     600,000  108 minutes           Entertainment One  \n",
       "2   Apr 18, 2000      NaN         NaN  116 minutes                         NaN  \n",
       "3   Aug 27, 1997      NaN         NaN  128 minutes                         NaN  \n",
       "4            NaN      NaN         NaN  200 minutes                         NaN  \n",
       "5   Jul 11, 2000      NaN         NaN   95 minutes       Warner Bros. Pictures  \n",
       "6   Jun 18, 2002        $  41,032,915   82 minutes          Paramount Pictures  \n",
       "7    Oct 2, 2007        $     224,114  123 minutes      Sony Pictures Classics  \n",
       "8    Nov 9, 2010        $     134,904  117 minutes                         NaN  \n",
       "9   Jul 27, 1999      NaN         NaN  108 minutes                         NaN  \n",
       "10           NaN      NaN         NaN          NaN                         NaN  \n",
       "11           NaN      NaN         NaN          NaN  Showtime Documentary Films  \n",
       "12  Sep 30, 2003      NaN         NaN   90 minutes       Seventh Art Releasing  \n",
       "13  May 20, 2008      NaN         NaN   97 minutes                         NaN  \n",
       "14  Sep 20, 1999      NaN         NaN  106 minutes                         NaN  \n",
       "15   Apr 5, 2011        $   1,039,869  108 minutes                ATO Pictures  \n",
       "16  Mar 18, 2014        $  99,165,609  129 minutes               Sony Pictures  \n",
       "17   Mar 8, 2005      NaN         NaN   98 minutes                         NaN  \n",
       "18   Apr 1, 2014        $  20,518,224  127 minutes          Universal Pictures  \n",
       "19  Sep 21, 2004        $   1,971,135   96 minutes                         MGM  \n",
       "20           NaN      NaN         NaN          NaN                         NaN  \n",
       "21   Jan 7, 2003      NaN         NaN   90 minutes                         NaN  \n",
       "22  May 10, 2011      NaN         NaN  101 minutes                         NaN  \n",
       "23  Aug 22, 2000      NaN         NaN  114 minutes                         NaN  \n",
       "24   Nov 7, 2000      NaN         NaN  123 minutes          Paramount Pictures  "
      ]
     },
     "execution_count": 23,
     "metadata": {},
     "output_type": "execute_result"
    }
   ],
   "source": [
    "df_rott_info.head(25)"
   ]
  },
  {
   "cell_type": "code",
   "execution_count": 30,
   "metadata": {
    "ExecuteTime": {
     "end_time": "2021-04-25T22:12:06.822475Z",
     "start_time": "2021-04-25T22:12:06.805520Z"
    }
   },
   "outputs": [
    {
     "data": {
      "text/html": [
       "<div>\n",
       "<style scoped>\n",
       "    .dataframe tbody tr th:only-of-type {\n",
       "        vertical-align: middle;\n",
       "    }\n",
       "\n",
       "    .dataframe tbody tr th {\n",
       "        vertical-align: top;\n",
       "    }\n",
       "\n",
       "    .dataframe thead th {\n",
       "        text-align: right;\n",
       "    }\n",
       "</style>\n",
       "<table border=\"1\" class=\"dataframe\">\n",
       "  <thead>\n",
       "    <tr style=\"text-align: right;\">\n",
       "      <th></th>\n",
       "      <th>id</th>\n",
       "      <th>synopsis</th>\n",
       "      <th>rating</th>\n",
       "      <th>genre</th>\n",
       "      <th>director</th>\n",
       "      <th>theater_date</th>\n",
       "      <th>box_office</th>\n",
       "      <th>runtime</th>\n",
       "      <th>studio</th>\n",
       "    </tr>\n",
       "  </thead>\n",
       "  <tbody>\n",
       "    <tr>\n",
       "      <th>0</th>\n",
       "      <td>1</td>\n",
       "      <td>This gritty, fast-paced, and innovative police...</td>\n",
       "      <td>R</td>\n",
       "      <td>Action and Adventure|Classics|Drama</td>\n",
       "      <td>William Friedkin</td>\n",
       "      <td>Oct 9, 1971</td>\n",
       "      <td>NaN</td>\n",
       "      <td>104 minutes</td>\n",
       "      <td>NaN</td>\n",
       "    </tr>\n",
       "    <tr>\n",
       "      <th>1</th>\n",
       "      <td>3</td>\n",
       "      <td>New York City, not-too-distant-future: Eric Pa...</td>\n",
       "      <td>R</td>\n",
       "      <td>Drama|Science Fiction and Fantasy</td>\n",
       "      <td>David Cronenberg</td>\n",
       "      <td>Aug 17, 2012</td>\n",
       "      <td>600,000</td>\n",
       "      <td>108 minutes</td>\n",
       "      <td>Entertainment One</td>\n",
       "    </tr>\n",
       "    <tr>\n",
       "      <th>2</th>\n",
       "      <td>5</td>\n",
       "      <td>Illeana Douglas delivers a superb performance ...</td>\n",
       "      <td>R</td>\n",
       "      <td>Drama|Musical and Performing Arts</td>\n",
       "      <td>Allison Anders</td>\n",
       "      <td>Sep 13, 1996</td>\n",
       "      <td>NaN</td>\n",
       "      <td>116 minutes</td>\n",
       "      <td>NaN</td>\n",
       "    </tr>\n",
       "    <tr>\n",
       "      <th>3</th>\n",
       "      <td>6</td>\n",
       "      <td>Michael Douglas runs afoul of a treacherous su...</td>\n",
       "      <td>R</td>\n",
       "      <td>Drama|Mystery and Suspense</td>\n",
       "      <td>Barry Levinson</td>\n",
       "      <td>Dec 9, 1994</td>\n",
       "      <td>NaN</td>\n",
       "      <td>128 minutes</td>\n",
       "      <td>NaN</td>\n",
       "    </tr>\n",
       "    <tr>\n",
       "      <th>4</th>\n",
       "      <td>7</td>\n",
       "      <td>NaN</td>\n",
       "      <td>NR</td>\n",
       "      <td>Drama|Romance</td>\n",
       "      <td>Rodney Bennett</td>\n",
       "      <td>NaN</td>\n",
       "      <td>NaN</td>\n",
       "      <td>200 minutes</td>\n",
       "      <td>NaN</td>\n",
       "    </tr>\n",
       "    <tr>\n",
       "      <th>...</th>\n",
       "      <td>...</td>\n",
       "      <td>...</td>\n",
       "      <td>...</td>\n",
       "      <td>...</td>\n",
       "      <td>...</td>\n",
       "      <td>...</td>\n",
       "      <td>...</td>\n",
       "      <td>...</td>\n",
       "      <td>...</td>\n",
       "    </tr>\n",
       "    <tr>\n",
       "      <th>1555</th>\n",
       "      <td>1996</td>\n",
       "      <td>Forget terrorists or hijackers -- there's a ha...</td>\n",
       "      <td>R</td>\n",
       "      <td>Action and Adventure|Horror|Mystery and Suspense</td>\n",
       "      <td>NaN</td>\n",
       "      <td>Aug 18, 2006</td>\n",
       "      <td>33,886,034</td>\n",
       "      <td>106 minutes</td>\n",
       "      <td>New Line Cinema</td>\n",
       "    </tr>\n",
       "    <tr>\n",
       "      <th>1556</th>\n",
       "      <td>1997</td>\n",
       "      <td>The popular Saturday Night Live sketch was exp...</td>\n",
       "      <td>PG</td>\n",
       "      <td>Comedy|Science Fiction and Fantasy</td>\n",
       "      <td>Steve Barron</td>\n",
       "      <td>Jul 23, 1993</td>\n",
       "      <td>NaN</td>\n",
       "      <td>88 minutes</td>\n",
       "      <td>Paramount Vantage</td>\n",
       "    </tr>\n",
       "    <tr>\n",
       "      <th>1557</th>\n",
       "      <td>1998</td>\n",
       "      <td>Based on a novel by Richard Powell, when the l...</td>\n",
       "      <td>G</td>\n",
       "      <td>Classics|Comedy|Drama|Musical and Performing Arts</td>\n",
       "      <td>Gordon Douglas</td>\n",
       "      <td>Jan 1, 1962</td>\n",
       "      <td>NaN</td>\n",
       "      <td>111 minutes</td>\n",
       "      <td>NaN</td>\n",
       "    </tr>\n",
       "    <tr>\n",
       "      <th>1558</th>\n",
       "      <td>1999</td>\n",
       "      <td>The Sandlot is a coming-of-age story about a g...</td>\n",
       "      <td>PG</td>\n",
       "      <td>Comedy|Drama|Kids and Family|Sports and Fitness</td>\n",
       "      <td>David Mickey Evans</td>\n",
       "      <td>Apr 1, 1993</td>\n",
       "      <td>NaN</td>\n",
       "      <td>101 minutes</td>\n",
       "      <td>NaN</td>\n",
       "    </tr>\n",
       "    <tr>\n",
       "      <th>1559</th>\n",
       "      <td>2000</td>\n",
       "      <td>Suspended from the force, Paris cop Hubert is ...</td>\n",
       "      <td>R</td>\n",
       "      <td>Action and Adventure|Art House and Internation...</td>\n",
       "      <td>NaN</td>\n",
       "      <td>Sep 27, 2001</td>\n",
       "      <td>NaN</td>\n",
       "      <td>94 minutes</td>\n",
       "      <td>Columbia Pictures</td>\n",
       "    </tr>\n",
       "  </tbody>\n",
       "</table>\n",
       "<p>1560 rows × 9 columns</p>\n",
       "</div>"
      ],
      "text/plain": [
       "        id                                           synopsis rating  \\\n",
       "0        1  This gritty, fast-paced, and innovative police...      R   \n",
       "1        3  New York City, not-too-distant-future: Eric Pa...      R   \n",
       "2        5  Illeana Douglas delivers a superb performance ...      R   \n",
       "3        6  Michael Douglas runs afoul of a treacherous su...      R   \n",
       "4        7                                                NaN     NR   \n",
       "...    ...                                                ...    ...   \n",
       "1555  1996  Forget terrorists or hijackers -- there's a ha...      R   \n",
       "1556  1997  The popular Saturday Night Live sketch was exp...     PG   \n",
       "1557  1998  Based on a novel by Richard Powell, when the l...      G   \n",
       "1558  1999  The Sandlot is a coming-of-age story about a g...     PG   \n",
       "1559  2000  Suspended from the force, Paris cop Hubert is ...      R   \n",
       "\n",
       "                                                  genre            director  \\\n",
       "0                   Action and Adventure|Classics|Drama    William Friedkin   \n",
       "1                     Drama|Science Fiction and Fantasy    David Cronenberg   \n",
       "2                     Drama|Musical and Performing Arts      Allison Anders   \n",
       "3                            Drama|Mystery and Suspense      Barry Levinson   \n",
       "4                                         Drama|Romance      Rodney Bennett   \n",
       "...                                                 ...                 ...   \n",
       "1555   Action and Adventure|Horror|Mystery and Suspense                 NaN   \n",
       "1556                 Comedy|Science Fiction and Fantasy        Steve Barron   \n",
       "1557  Classics|Comedy|Drama|Musical and Performing Arts      Gordon Douglas   \n",
       "1558    Comedy|Drama|Kids and Family|Sports and Fitness  David Mickey Evans   \n",
       "1559  Action and Adventure|Art House and Internation...                 NaN   \n",
       "\n",
       "      theater_date  box_office      runtime             studio  \n",
       "0      Oct 9, 1971         NaN  104 minutes                NaN  \n",
       "1     Aug 17, 2012     600,000  108 minutes  Entertainment One  \n",
       "2     Sep 13, 1996         NaN  116 minutes                NaN  \n",
       "3      Dec 9, 1994         NaN  128 minutes                NaN  \n",
       "4              NaN         NaN  200 minutes                NaN  \n",
       "...            ...         ...          ...                ...  \n",
       "1555  Aug 18, 2006  33,886,034  106 minutes    New Line Cinema  \n",
       "1556  Jul 23, 1993         NaN   88 minutes  Paramount Vantage  \n",
       "1557   Jan 1, 1962         NaN  111 minutes                NaN  \n",
       "1558   Apr 1, 1993         NaN  101 minutes                NaN  \n",
       "1559  Sep 27, 2001         NaN   94 minutes  Columbia Pictures  \n",
       "\n",
       "[1560 rows x 9 columns]"
      ]
     },
     "execution_count": 30,
     "metadata": {},
     "output_type": "execute_result"
    }
   ],
   "source": [
    "#['id']['synopsis']['rating']['genre']['director']['theater_date']['box_office']['runtime']['studio']\n",
    "df_rott_info.iloc[:,[0,1,2,3,4,6,9,10,11]]"
   ]
  },
  {
   "cell_type": "code",
   "execution_count": 44,
   "metadata": {
    "ExecuteTime": {
     "end_time": "2021-04-25T22:35:01.769928Z",
     "start_time": "2021-04-25T22:35:01.764943Z"
    }
   },
   "outputs": [],
   "source": [
    "dftest = df_rott_info[df_rott_info['synopsis'].notna()]"
   ]
  },
  {
   "cell_type": "code",
   "execution_count": 49,
   "metadata": {
    "ExecuteTime": {
     "end_time": "2021-04-25T22:36:19.430729Z",
     "start_time": "2021-04-25T22:36:19.423748Z"
    }
   },
   "outputs": [
    {
     "data": {
      "text/plain": [
       "id                 0\n",
       "synopsis           0\n",
       "rating             0\n",
       "genre              3\n",
       "director         176\n",
       "writer           400\n",
       "theater_date     300\n",
       "dvd_date         300\n",
       "currency        1158\n",
       "box_office      1158\n",
       "runtime           13\n",
       "studio          1005\n",
       "dtype: int64"
      ]
     },
     "execution_count": 49,
     "metadata": {},
     "output_type": "execute_result"
    }
   ],
   "source": [
    "dftest.isna().sum()"
   ]
  },
  {
   "cell_type": "code",
   "execution_count": 51,
   "metadata": {
    "ExecuteTime": {
     "end_time": "2021-04-25T22:37:29.943339Z",
     "start_time": "2021-04-25T22:37:29.939315Z"
    }
   },
   "outputs": [],
   "source": [
    "dftest = dftest[dftest['genre'].notna()]"
   ]
  },
  {
   "cell_type": "code",
   "execution_count": 52,
   "metadata": {
    "ExecuteTime": {
     "end_time": "2021-04-25T22:37:32.705427Z",
     "start_time": "2021-04-25T22:37:32.701437Z"
    }
   },
   "outputs": [
    {
     "data": {
      "text/plain": [
       "(1495, 12)"
      ]
     },
     "execution_count": 52,
     "metadata": {},
     "output_type": "execute_result"
    }
   ],
   "source": [
    "dftest.shape"
   ]
  },
  {
   "cell_type": "code",
   "execution_count": 53,
   "metadata": {
    "ExecuteTime": {
     "end_time": "2021-04-25T22:37:42.474782Z",
     "start_time": "2021-04-25T22:37:42.467800Z"
    }
   },
   "outputs": [
    {
     "data": {
      "text/plain": [
       "id                 0\n",
       "synopsis           0\n",
       "rating             0\n",
       "genre              0\n",
       "director         174\n",
       "writer           398\n",
       "theater_date     297\n",
       "dvd_date         297\n",
       "currency        1155\n",
       "box_office      1155\n",
       "runtime           13\n",
       "studio          1002\n",
       "dtype: int64"
      ]
     },
     "execution_count": 53,
     "metadata": {},
     "output_type": "execute_result"
    }
   ],
   "source": [
    "dftest.isna().sum()"
   ]
  },
  {
   "cell_type": "code",
   "execution_count": 55,
   "metadata": {
    "ExecuteTime": {
     "end_time": "2021-04-25T22:41:20.906554Z",
     "start_time": "2021-04-25T22:41:20.886609Z"
    }
   },
   "outputs": [
    {
     "data": {
      "text/html": [
       "<div>\n",
       "<style scoped>\n",
       "    .dataframe tbody tr th:only-of-type {\n",
       "        vertical-align: middle;\n",
       "    }\n",
       "\n",
       "    .dataframe tbody tr th {\n",
       "        vertical-align: top;\n",
       "    }\n",
       "\n",
       "    .dataframe thead th {\n",
       "        text-align: right;\n",
       "    }\n",
       "</style>\n",
       "<table border=\"1\" class=\"dataframe\">\n",
       "  <thead>\n",
       "    <tr style=\"text-align: right;\">\n",
       "      <th></th>\n",
       "      <th>id</th>\n",
       "      <th>synopsis</th>\n",
       "      <th>rating</th>\n",
       "      <th>genre</th>\n",
       "      <th>director</th>\n",
       "      <th>writer</th>\n",
       "      <th>theater_date</th>\n",
       "      <th>dvd_date</th>\n",
       "      <th>currency</th>\n",
       "      <th>box_office</th>\n",
       "      <th>runtime</th>\n",
       "      <th>studio</th>\n",
       "    </tr>\n",
       "  </thead>\n",
       "  <tbody>\n",
       "    <tr>\n",
       "      <th>11</th>\n",
       "      <td>18</td>\n",
       "      <td>In 1979, Bill Viola and Frank Caliguri dreamed...</td>\n",
       "      <td>NR</td>\n",
       "      <td>Documentary</td>\n",
       "      <td>NaN</td>\n",
       "      <td>Robert Zullo</td>\n",
       "      <td>NaN</td>\n",
       "      <td>NaN</td>\n",
       "      <td>NaN</td>\n",
       "      <td>NaN</td>\n",
       "      <td>NaN</td>\n",
       "      <td>Showtime Documentary Films</td>\n",
       "    </tr>\n",
       "    <tr>\n",
       "      <th>12</th>\n",
       "      <td>19</td>\n",
       "      <td>While Microsoft may be the biggest software co...</td>\n",
       "      <td>NR</td>\n",
       "      <td>Documentary|Special Interest</td>\n",
       "      <td>NaN</td>\n",
       "      <td>NaN</td>\n",
       "      <td>Aug 23, 2002</td>\n",
       "      <td>Sep 30, 2003</td>\n",
       "      <td>NaN</td>\n",
       "      <td>NaN</td>\n",
       "      <td>90 minutes</td>\n",
       "      <td>Seventh Art Releasing</td>\n",
       "    </tr>\n",
       "    <tr>\n",
       "      <th>16</th>\n",
       "      <td>23</td>\n",
       "      <td>A fictional film set in the alluring world of ...</td>\n",
       "      <td>R</td>\n",
       "      <td>Drama</td>\n",
       "      <td>NaN</td>\n",
       "      <td>NaN</td>\n",
       "      <td>Dec 20, 2013</td>\n",
       "      <td>Mar 18, 2014</td>\n",
       "      <td>$</td>\n",
       "      <td>99,165,609</td>\n",
       "      <td>129 minutes</td>\n",
       "      <td>Sony Pictures</td>\n",
       "    </tr>\n",
       "    <tr>\n",
       "      <th>21</th>\n",
       "      <td>28</td>\n",
       "      <td>Elvis goes Hawaiian for the second time in thi...</td>\n",
       "      <td>G</td>\n",
       "      <td>Classics|Comedy|Musical and Performing Arts|Ro...</td>\n",
       "      <td>NaN</td>\n",
       "      <td>Allan Weiss|Anthony Lawrence</td>\n",
       "      <td>Jun 15, 1966</td>\n",
       "      <td>Jan 7, 2003</td>\n",
       "      <td>NaN</td>\n",
       "      <td>NaN</td>\n",
       "      <td>90 minutes</td>\n",
       "      <td>NaN</td>\n",
       "    </tr>\n",
       "    <tr>\n",
       "      <th>30</th>\n",
       "      <td>42</td>\n",
       "      <td>Warner Bros.' \"Perry Mason\" series quietly sli...</td>\n",
       "      <td>G</td>\n",
       "      <td>Action and Adventure|Classics|Drama|Mystery an...</td>\n",
       "      <td>NaN</td>\n",
       "      <td>Frederick Hugh Herbert</td>\n",
       "      <td>NaN</td>\n",
       "      <td>NaN</td>\n",
       "      <td>NaN</td>\n",
       "      <td>NaN</td>\n",
       "      <td>65 minutes</td>\n",
       "      <td>NaN</td>\n",
       "    </tr>\n",
       "    <tr>\n",
       "      <th>40</th>\n",
       "      <td>53</td>\n",
       "      <td>La autobiograf</td>\n",
       "      <td>PG</td>\n",
       "      <td>Drama|Romance</td>\n",
       "      <td>NaN</td>\n",
       "      <td>NaN</td>\n",
       "      <td>NaN</td>\n",
       "      <td>NaN</td>\n",
       "      <td>NaN</td>\n",
       "      <td>NaN</td>\n",
       "      <td>112 minutes</td>\n",
       "      <td>NaN</td>\n",
       "    </tr>\n",
       "    <tr>\n",
       "      <th>44</th>\n",
       "      <td>57</td>\n",
       "      <td>Life doesn't always go according to plan. Pat ...</td>\n",
       "      <td>R</td>\n",
       "      <td>Comedy</td>\n",
       "      <td>NaN</td>\n",
       "      <td>NaN</td>\n",
       "      <td>Nov 21, 2012</td>\n",
       "      <td>Apr 30, 2013</td>\n",
       "      <td>$</td>\n",
       "      <td>132,088,910</td>\n",
       "      <td>122 minutes</td>\n",
       "      <td>The Weinstein Company</td>\n",
       "    </tr>\n",
       "    <tr>\n",
       "      <th>49</th>\n",
       "      <td>63</td>\n",
       "      <td>A policeman plays Good Samaritan to a visitor ...</td>\n",
       "      <td>R</td>\n",
       "      <td>Action and Adventure|Drama|Mystery and Suspense</td>\n",
       "      <td>NaN</td>\n",
       "      <td>David Aaron Cohen|Kevin Jarre|Vincent Patrick|...</td>\n",
       "      <td>Mar 26, 1997</td>\n",
       "      <td>Feb 24, 1998</td>\n",
       "      <td>NaN</td>\n",
       "      <td>NaN</td>\n",
       "      <td>111 minutes</td>\n",
       "      <td>NaN</td>\n",
       "    </tr>\n",
       "    <tr>\n",
       "      <th>66</th>\n",
       "      <td>84</td>\n",
       "      <td>Despite excellent camerawork and smooth contin...</td>\n",
       "      <td>NR</td>\n",
       "      <td>Drama</td>\n",
       "      <td>NaN</td>\n",
       "      <td>NaN</td>\n",
       "      <td>NaN</td>\n",
       "      <td>NaN</td>\n",
       "      <td>NaN</td>\n",
       "      <td>NaN</td>\n",
       "      <td>186 minutes</td>\n",
       "      <td>NaN</td>\n",
       "    </tr>\n",
       "    <tr>\n",
       "      <th>70</th>\n",
       "      <td>88</td>\n",
       "      <td>This gay-lifestyle comedy features aspiring ph...</td>\n",
       "      <td>R</td>\n",
       "      <td>Comedy|Romance</td>\n",
       "      <td>NaN</td>\n",
       "      <td>NaN</td>\n",
       "      <td>Jul 24, 1998</td>\n",
       "      <td>Dec 22, 1998</td>\n",
       "      <td>NaN</td>\n",
       "      <td>NaN</td>\n",
       "      <td>92 minutes</td>\n",
       "      <td>NaN</td>\n",
       "    </tr>\n",
       "    <tr>\n",
       "      <th>71</th>\n",
       "      <td>89</td>\n",
       "      <td>Now hear this. The studio that gave the cinema...</td>\n",
       "      <td>NR</td>\n",
       "      <td>Comedy|Musical and Performing Arts</td>\n",
       "      <td>NaN</td>\n",
       "      <td>NaN</td>\n",
       "      <td>NaN</td>\n",
       "      <td>NaN</td>\n",
       "      <td>NaN</td>\n",
       "      <td>NaN</td>\n",
       "      <td>123 minutes</td>\n",
       "      <td>NaN</td>\n",
       "    </tr>\n",
       "    <tr>\n",
       "      <th>79</th>\n",
       "      <td>99</td>\n",
       "      <td>A woman finds herself attempting to foil one o...</td>\n",
       "      <td>PG-13</td>\n",
       "      <td>Comedy|Romance</td>\n",
       "      <td>NaN</td>\n",
       "      <td>NaN</td>\n",
       "      <td>Dec 20, 2002</td>\n",
       "      <td>Apr 29, 2003</td>\n",
       "      <td>$</td>\n",
       "      <td>93,300,000</td>\n",
       "      <td>102 minutes</td>\n",
       "      <td>Warner Bros.</td>\n",
       "    </tr>\n",
       "    <tr>\n",
       "      <th>84</th>\n",
       "      <td>105</td>\n",
       "      <td>Mark Twain's classic tale of comedy and advent...</td>\n",
       "      <td>NR</td>\n",
       "      <td>Animation|Kids and Family|Special Interest</td>\n",
       "      <td>NaN</td>\n",
       "      <td>NaN</td>\n",
       "      <td>NaN</td>\n",
       "      <td>NaN</td>\n",
       "      <td>NaN</td>\n",
       "      <td>NaN</td>\n",
       "      <td>60 minutes</td>\n",
       "      <td>NaN</td>\n",
       "    </tr>\n",
       "    <tr>\n",
       "      <th>89</th>\n",
       "      <td>111</td>\n",
       "      <td>Detective Rem Macy (Tom Berenger) is investiga...</td>\n",
       "      <td>R</td>\n",
       "      <td>Drama|Mystery and Suspense</td>\n",
       "      <td>NaN</td>\n",
       "      <td>NaN</td>\n",
       "      <td>Nov 29, 2001</td>\n",
       "      <td>Mar 5, 2002</td>\n",
       "      <td>NaN</td>\n",
       "      <td>NaN</td>\n",
       "      <td>101 minutes</td>\n",
       "      <td>NaN</td>\n",
       "    </tr>\n",
       "    <tr>\n",
       "      <th>103</th>\n",
       "      <td>133</td>\n",
       "      <td>The popular anim</td>\n",
       "      <td>R</td>\n",
       "      <td>Action and Adventure|Animation|Drama|Science F...</td>\n",
       "      <td>NaN</td>\n",
       "      <td>Keiko Nobumoto|Marc Handler</td>\n",
       "      <td>Apr 4, 2003</td>\n",
       "      <td>Jun 24, 2003</td>\n",
       "      <td>NaN</td>\n",
       "      <td>NaN</td>\n",
       "      <td>114 minutes</td>\n",
       "      <td>Destination Films</td>\n",
       "    </tr>\n",
       "    <tr>\n",
       "      <th>110</th>\n",
       "      <td>142</td>\n",
       "      <td>In this film, Jerry Biffle is a moody and egot...</td>\n",
       "      <td>NR</td>\n",
       "      <td>Comedy|Musical and Performing Arts</td>\n",
       "      <td>NaN</td>\n",
       "      <td>Gene Towne</td>\n",
       "      <td>NaN</td>\n",
       "      <td>NaN</td>\n",
       "      <td>NaN</td>\n",
       "      <td>NaN</td>\n",
       "      <td>100 minutes</td>\n",
       "      <td>NaN</td>\n",
       "    </tr>\n",
       "    <tr>\n",
       "      <th>115</th>\n",
       "      <td>148</td>\n",
       "      <td>Stuck in a life of indentured servitude, Marek...</td>\n",
       "      <td>NR</td>\n",
       "      <td>Action and Adventure|Science Fiction and Fantasy</td>\n",
       "      <td>NaN</td>\n",
       "      <td>NaN</td>\n",
       "      <td>NaN</td>\n",
       "      <td>NaN</td>\n",
       "      <td>NaN</td>\n",
       "      <td>NaN</td>\n",
       "      <td>93 minutes</td>\n",
       "      <td>Arrowstorm Entertainment</td>\n",
       "    </tr>\n",
       "    <tr>\n",
       "      <th>119</th>\n",
       "      <td>152</td>\n",
       "      <td>A socially inept young woman slowly learns to ...</td>\n",
       "      <td>R</td>\n",
       "      <td>Comedy|Romance</td>\n",
       "      <td>NaN</td>\n",
       "      <td>NaN</td>\n",
       "      <td>Mar 10, 1995</td>\n",
       "      <td>May 18, 1999</td>\n",
       "      <td>NaN</td>\n",
       "      <td>NaN</td>\n",
       "      <td>105 minutes</td>\n",
       "      <td>NaN</td>\n",
       "    </tr>\n",
       "    <tr>\n",
       "      <th>132</th>\n",
       "      <td>169</td>\n",
       "      <td>The true star of this film is a stately old ma...</td>\n",
       "      <td>NR</td>\n",
       "      <td>Classics|Drama|Faith and Spirituality</td>\n",
       "      <td>NaN</td>\n",
       "      <td>NaN</td>\n",
       "      <td>Jan 21, 1943</td>\n",
       "      <td>Nov 10, 1998</td>\n",
       "      <td>NaN</td>\n",
       "      <td>NaN</td>\n",
       "      <td>106 minutes</td>\n",
       "      <td>NaN</td>\n",
       "    </tr>\n",
       "    <tr>\n",
       "      <th>153</th>\n",
       "      <td>199</td>\n",
       "      <td>100 STREETS, a powerful ensemble drama, follow...</td>\n",
       "      <td>NR</td>\n",
       "      <td>Drama</td>\n",
       "      <td>NaN</td>\n",
       "      <td>Leon Butler</td>\n",
       "      <td>Jan 13, 2017</td>\n",
       "      <td>Mar 7, 2017</td>\n",
       "      <td>NaN</td>\n",
       "      <td>NaN</td>\n",
       "      <td>93 minutes</td>\n",
       "      <td>NaN</td>\n",
       "    </tr>\n",
       "    <tr>\n",
       "      <th>157</th>\n",
       "      <td>205</td>\n",
       "      <td>F. W. Murnau's landmark vampire film begins in...</td>\n",
       "      <td>NR</td>\n",
       "      <td>Art House and International|Classics|Horror|Sc...</td>\n",
       "      <td>NaN</td>\n",
       "      <td>Henrik Galeen</td>\n",
       "      <td>Mar 4, 1922</td>\n",
       "      <td>Oct 22, 1997</td>\n",
       "      <td>NaN</td>\n",
       "      <td>NaN</td>\n",
       "      <td>63 minutes</td>\n",
       "      <td>NaN</td>\n",
       "    </tr>\n",
       "    <tr>\n",
       "      <th>163</th>\n",
       "      <td>214</td>\n",
       "      <td>My Name Is Julia Ross is the first film noir m...</td>\n",
       "      <td>NR</td>\n",
       "      <td>Drama|Mystery and Suspense</td>\n",
       "      <td>NaN</td>\n",
       "      <td>Muriel Roy Bolton and Ian McLellan Hunter</td>\n",
       "      <td>NaN</td>\n",
       "      <td>NaN</td>\n",
       "      <td>NaN</td>\n",
       "      <td>NaN</td>\n",
       "      <td>65 minutes</td>\n",
       "      <td>NaN</td>\n",
       "    </tr>\n",
       "    <tr>\n",
       "      <th>169</th>\n",
       "      <td>223</td>\n",
       "      <td>The Leningrad Cowboys, the self-proclaimed Wor...</td>\n",
       "      <td>NR</td>\n",
       "      <td>Documentary|Musical and Performing Arts</td>\n",
       "      <td>NaN</td>\n",
       "      <td>NaN</td>\n",
       "      <td>Jul 2, 1994</td>\n",
       "      <td>Apr 26, 2005</td>\n",
       "      <td>NaN</td>\n",
       "      <td>NaN</td>\n",
       "      <td>54 minutes</td>\n",
       "      <td>NaN</td>\n",
       "    </tr>\n",
       "    <tr>\n",
       "      <th>177</th>\n",
       "      <td>234</td>\n",
       "      <td>After losing his crew in a fatal crash, legend...</td>\n",
       "      <td>PG-13</td>\n",
       "      <td>Action and Adventure|Drama</td>\n",
       "      <td>NaN</td>\n",
       "      <td>Kelsie Kullman</td>\n",
       "      <td>Sep 29, 2006</td>\n",
       "      <td>Jan 23, 2007</td>\n",
       "      <td>$</td>\n",
       "      <td>54,983,983</td>\n",
       "      <td>15 minutes</td>\n",
       "      <td>Buena Vista Pictures</td>\n",
       "    </tr>\n",
       "    <tr>\n",
       "      <th>179</th>\n",
       "      <td>236</td>\n",
       "      <td>John Wayne once again goes undercover to catch...</td>\n",
       "      <td>NR</td>\n",
       "      <td>Classics|Western</td>\n",
       "      <td>NaN</td>\n",
       "      <td>NaN</td>\n",
       "      <td>May 10, 1934</td>\n",
       "      <td>Jun 18, 2006</td>\n",
       "      <td>NaN</td>\n",
       "      <td>NaN</td>\n",
       "      <td>59 minutes</td>\n",
       "      <td>NaN</td>\n",
       "    </tr>\n",
       "  </tbody>\n",
       "</table>\n",
       "</div>"
      ],
      "text/plain": [
       "      id                                           synopsis rating  \\\n",
       "11    18  In 1979, Bill Viola and Frank Caliguri dreamed...     NR   \n",
       "12    19  While Microsoft may be the biggest software co...     NR   \n",
       "16    23  A fictional film set in the alluring world of ...      R   \n",
       "21    28  Elvis goes Hawaiian for the second time in thi...      G   \n",
       "30    42  Warner Bros.' \"Perry Mason\" series quietly sli...      G   \n",
       "40    53                                     La autobiograf     PG   \n",
       "44    57  Life doesn't always go according to plan. Pat ...      R   \n",
       "49    63  A policeman plays Good Samaritan to a visitor ...      R   \n",
       "66    84  Despite excellent camerawork and smooth contin...     NR   \n",
       "70    88  This gay-lifestyle comedy features aspiring ph...      R   \n",
       "71    89  Now hear this. The studio that gave the cinema...     NR   \n",
       "79    99  A woman finds herself attempting to foil one o...  PG-13   \n",
       "84   105  Mark Twain's classic tale of comedy and advent...     NR   \n",
       "89   111  Detective Rem Macy (Tom Berenger) is investiga...      R   \n",
       "103  133                                   The popular anim      R   \n",
       "110  142  In this film, Jerry Biffle is a moody and egot...     NR   \n",
       "115  148  Stuck in a life of indentured servitude, Marek...     NR   \n",
       "119  152  A socially inept young woman slowly learns to ...      R   \n",
       "132  169  The true star of this film is a stately old ma...     NR   \n",
       "153  199  100 STREETS, a powerful ensemble drama, follow...     NR   \n",
       "157  205  F. W. Murnau's landmark vampire film begins in...     NR   \n",
       "163  214  My Name Is Julia Ross is the first film noir m...     NR   \n",
       "169  223  The Leningrad Cowboys, the self-proclaimed Wor...     NR   \n",
       "177  234  After losing his crew in a fatal crash, legend...  PG-13   \n",
       "179  236  John Wayne once again goes undercover to catch...     NR   \n",
       "\n",
       "                                                 genre director  \\\n",
       "11                                         Documentary      NaN   \n",
       "12                        Documentary|Special Interest      NaN   \n",
       "16                                               Drama      NaN   \n",
       "21   Classics|Comedy|Musical and Performing Arts|Ro...      NaN   \n",
       "30   Action and Adventure|Classics|Drama|Mystery an...      NaN   \n",
       "40                                       Drama|Romance      NaN   \n",
       "44                                              Comedy      NaN   \n",
       "49     Action and Adventure|Drama|Mystery and Suspense      NaN   \n",
       "66                                               Drama      NaN   \n",
       "70                                      Comedy|Romance      NaN   \n",
       "71                  Comedy|Musical and Performing Arts      NaN   \n",
       "79                                      Comedy|Romance      NaN   \n",
       "84          Animation|Kids and Family|Special Interest      NaN   \n",
       "89                          Drama|Mystery and Suspense      NaN   \n",
       "103  Action and Adventure|Animation|Drama|Science F...      NaN   \n",
       "110                 Comedy|Musical and Performing Arts      NaN   \n",
       "115   Action and Adventure|Science Fiction and Fantasy      NaN   \n",
       "119                                     Comedy|Romance      NaN   \n",
       "132              Classics|Drama|Faith and Spirituality      NaN   \n",
       "153                                              Drama      NaN   \n",
       "157  Art House and International|Classics|Horror|Sc...      NaN   \n",
       "163                         Drama|Mystery and Suspense      NaN   \n",
       "169            Documentary|Musical and Performing Arts      NaN   \n",
       "177                         Action and Adventure|Drama      NaN   \n",
       "179                                   Classics|Western      NaN   \n",
       "\n",
       "                                                writer  theater_date  \\\n",
       "11                                        Robert Zullo           NaN   \n",
       "12                                                 NaN  Aug 23, 2002   \n",
       "16                                                 NaN  Dec 20, 2013   \n",
       "21                        Allan Weiss|Anthony Lawrence  Jun 15, 1966   \n",
       "30                              Frederick Hugh Herbert           NaN   \n",
       "40                                                 NaN           NaN   \n",
       "44                                                 NaN  Nov 21, 2012   \n",
       "49   David Aaron Cohen|Kevin Jarre|Vincent Patrick|...  Mar 26, 1997   \n",
       "66                                                 NaN           NaN   \n",
       "70                                                 NaN  Jul 24, 1998   \n",
       "71                                                 NaN           NaN   \n",
       "79                                                 NaN  Dec 20, 2002   \n",
       "84                                                 NaN           NaN   \n",
       "89                                                 NaN  Nov 29, 2001   \n",
       "103                        Keiko Nobumoto|Marc Handler   Apr 4, 2003   \n",
       "110                                         Gene Towne           NaN   \n",
       "115                                                NaN           NaN   \n",
       "119                                                NaN  Mar 10, 1995   \n",
       "132                                                NaN  Jan 21, 1943   \n",
       "153                                        Leon Butler  Jan 13, 2017   \n",
       "157                                      Henrik Galeen   Mar 4, 1922   \n",
       "163          Muriel Roy Bolton and Ian McLellan Hunter           NaN   \n",
       "169                                                NaN   Jul 2, 1994   \n",
       "177                                     Kelsie Kullman  Sep 29, 2006   \n",
       "179                                                NaN  May 10, 1934   \n",
       "\n",
       "         dvd_date currency   box_office      runtime  \\\n",
       "11            NaN      NaN          NaN          NaN   \n",
       "12   Sep 30, 2003      NaN          NaN   90 minutes   \n",
       "16   Mar 18, 2014        $   99,165,609  129 minutes   \n",
       "21    Jan 7, 2003      NaN          NaN   90 minutes   \n",
       "30            NaN      NaN          NaN   65 minutes   \n",
       "40            NaN      NaN          NaN  112 minutes   \n",
       "44   Apr 30, 2013        $  132,088,910  122 minutes   \n",
       "49   Feb 24, 1998      NaN          NaN  111 minutes   \n",
       "66            NaN      NaN          NaN  186 minutes   \n",
       "70   Dec 22, 1998      NaN          NaN   92 minutes   \n",
       "71            NaN      NaN          NaN  123 minutes   \n",
       "79   Apr 29, 2003        $   93,300,000  102 minutes   \n",
       "84            NaN      NaN          NaN   60 minutes   \n",
       "89    Mar 5, 2002      NaN          NaN  101 minutes   \n",
       "103  Jun 24, 2003      NaN          NaN  114 minutes   \n",
       "110           NaN      NaN          NaN  100 minutes   \n",
       "115           NaN      NaN          NaN   93 minutes   \n",
       "119  May 18, 1999      NaN          NaN  105 minutes   \n",
       "132  Nov 10, 1998      NaN          NaN  106 minutes   \n",
       "153   Mar 7, 2017      NaN          NaN   93 minutes   \n",
       "157  Oct 22, 1997      NaN          NaN   63 minutes   \n",
       "163           NaN      NaN          NaN   65 minutes   \n",
       "169  Apr 26, 2005      NaN          NaN   54 minutes   \n",
       "177  Jan 23, 2007        $   54,983,983   15 minutes   \n",
       "179  Jun 18, 2006      NaN          NaN   59 minutes   \n",
       "\n",
       "                         studio  \n",
       "11   Showtime Documentary Films  \n",
       "12        Seventh Art Releasing  \n",
       "16                Sony Pictures  \n",
       "21                          NaN  \n",
       "30                          NaN  \n",
       "40                          NaN  \n",
       "44        The Weinstein Company  \n",
       "49                          NaN  \n",
       "66                          NaN  \n",
       "70                          NaN  \n",
       "71                          NaN  \n",
       "79                 Warner Bros.  \n",
       "84                          NaN  \n",
       "89                          NaN  \n",
       "103           Destination Films  \n",
       "110                         NaN  \n",
       "115    Arrowstorm Entertainment  \n",
       "119                         NaN  \n",
       "132                         NaN  \n",
       "153                         NaN  \n",
       "157                         NaN  \n",
       "163                         NaN  \n",
       "169                         NaN  \n",
       "177        Buena Vista Pictures  \n",
       "179                         NaN  "
      ]
     },
     "execution_count": 55,
     "metadata": {},
     "output_type": "execute_result"
    }
   ],
   "source": [
    "dftest[dftest['director'].isna()].head(25)"
   ]
  },
  {
   "cell_type": "code",
   "execution_count": 59,
   "metadata": {
    "ExecuteTime": {
     "end_time": "2021-04-25T22:47:59.000759Z",
     "start_time": "2021-04-25T22:47:58.992782Z"
    }
   },
   "outputs": [
    {
     "data": {
      "text/plain": [
       "id                0\n",
       "synopsis          0\n",
       "rating            0\n",
       "genre             0\n",
       "director        174\n",
       "writer          398\n",
       "theater_date    297\n",
       "dvd_date        297\n",
       "runtime          13\n",
       "dtype: int64"
      ]
     },
     "execution_count": 59,
     "metadata": {},
     "output_type": "execute_result"
    }
   ],
   "source": [
    "dftest.drop(columns=['currency','box_office', 'studio','dvd_date']).isna().sum()"
   ]
  },
  {
   "cell_type": "code",
   "execution_count": 70,
   "metadata": {
    "ExecuteTime": {
     "end_time": "2021-04-25T22:56:03.756773Z",
     "start_time": "2021-04-25T22:56:03.751788Z"
    }
   },
   "outputs": [],
   "source": [
    "dftest['runtime'] = dftest['runtime'].fillna('90 minutes')"
   ]
  },
  {
   "cell_type": "code",
   "execution_count": 78,
   "metadata": {
    "ExecuteTime": {
     "end_time": "2021-04-25T22:59:30.512832Z",
     "start_time": "2021-04-25T22:59:30.507847Z"
    }
   },
   "outputs": [],
   "source": [
    "dftest = dftest.drop(columns=['dvd_date'])"
   ]
  },
  {
   "cell_type": "code",
   "execution_count": 79,
   "metadata": {
    "ExecuteTime": {
     "end_time": "2021-04-25T22:59:47.453197Z",
     "start_time": "2021-04-25T22:59:47.447215Z"
    }
   },
   "outputs": [
    {
     "data": {
      "text/plain": [
       "id                0\n",
       "synopsis          0\n",
       "rating            0\n",
       "genre             0\n",
       "director        174\n",
       "writer          398\n",
       "theater_date    297\n",
       "runtime           0\n",
       "dtype: int64"
      ]
     },
     "execution_count": 79,
     "metadata": {},
     "output_type": "execute_result"
    }
   ],
   "source": [
    "dftest.isna().sum()"
   ]
  },
  {
   "cell_type": "code",
   "execution_count": 80,
   "metadata": {
    "ExecuteTime": {
     "end_time": "2021-04-25T23:00:56.559751Z",
     "start_time": "2021-04-25T23:00:56.554764Z"
    }
   },
   "outputs": [
    {
     "data": {
      "text/plain": [
       "(1495, 8)"
      ]
     },
     "execution_count": 80,
     "metadata": {},
     "output_type": "execute_result"
    }
   ],
   "source": [
    "dftest.shape"
   ]
  },
  {
   "cell_type": "code",
   "execution_count": 84,
   "metadata": {
    "ExecuteTime": {
     "end_time": "2021-04-25T23:07:19.335233Z",
     "start_time": "2021-04-25T23:07:19.330243Z"
    }
   },
   "outputs": [],
   "source": [
    "dftest = dftest[dftest['writer'].notna()]"
   ]
  },
  {
   "cell_type": "code",
   "execution_count": 85,
   "metadata": {
    "ExecuteTime": {
     "end_time": "2021-04-25T23:07:35.110285Z",
     "start_time": "2021-04-25T23:07:35.102306Z"
    }
   },
   "outputs": [
    {
     "data": {
      "text/plain": [
       "id                0\n",
       "synopsis          0\n",
       "rating            0\n",
       "genre             0\n",
       "director         68\n",
       "writer            0\n",
       "theater_date    162\n",
       "runtime           0\n",
       "dtype: int64"
      ]
     },
     "execution_count": 85,
     "metadata": {},
     "output_type": "execute_result"
    }
   ],
   "source": [
    "dftest.isna().sum()"
   ]
  },
  {
   "cell_type": "code",
   "execution_count": 86,
   "metadata": {
    "ExecuteTime": {
     "end_time": "2021-04-25T23:07:50.071749Z",
     "start_time": "2021-04-25T23:07:50.068754Z"
    }
   },
   "outputs": [
    {
     "data": {
      "text/plain": [
       "(1097, 8)"
      ]
     },
     "execution_count": 86,
     "metadata": {},
     "output_type": "execute_result"
    }
   ],
   "source": [
    "dftest.shape"
   ]
  },
  {
   "cell_type": "code",
   "execution_count": 87,
   "metadata": {
    "ExecuteTime": {
     "end_time": "2021-04-25T23:08:19.749692Z",
     "start_time": "2021-04-25T23:08:19.744704Z"
    }
   },
   "outputs": [],
   "source": [
    "dftest = dftest[dftest['theater_date'].notna()]"
   ]
  },
  {
   "cell_type": "code",
   "execution_count": 88,
   "metadata": {
    "ExecuteTime": {
     "end_time": "2021-04-25T23:08:28.282241Z",
     "start_time": "2021-04-25T23:08:28.274264Z"
    }
   },
   "outputs": [
    {
     "data": {
      "text/plain": [
       "id               0\n",
       "synopsis         0\n",
       "rating           0\n",
       "genre            0\n",
       "director        47\n",
       "writer           0\n",
       "theater_date     0\n",
       "runtime          0\n",
       "dtype: int64"
      ]
     },
     "execution_count": 88,
     "metadata": {},
     "output_type": "execute_result"
    }
   ],
   "source": [
    "dftest.isna().sum()"
   ]
  },
  {
   "cell_type": "code",
   "execution_count": 89,
   "metadata": {
    "ExecuteTime": {
     "end_time": "2021-04-25T23:08:39.565938Z",
     "start_time": "2021-04-25T23:08:39.559955Z"
    }
   },
   "outputs": [
    {
     "data": {
      "text/plain": [
       "(935, 8)"
      ]
     },
     "execution_count": 89,
     "metadata": {},
     "output_type": "execute_result"
    }
   ],
   "source": [
    "dftest.shape"
   ]
  },
  {
   "cell_type": "code",
   "execution_count": 90,
   "metadata": {
    "ExecuteTime": {
     "end_time": "2021-04-25T23:09:02.559963Z",
     "start_time": "2021-04-25T23:09:02.555975Z"
    }
   },
   "outputs": [],
   "source": [
    "dftest = dftest[dftest['director'].notna()]"
   ]
  },
  {
   "cell_type": "code",
   "execution_count": 91,
   "metadata": {
    "ExecuteTime": {
     "end_time": "2021-04-25T23:09:12.142042Z",
     "start_time": "2021-04-25T23:09:12.136058Z"
    }
   },
   "outputs": [
    {
     "data": {
      "text/plain": [
       "id              0\n",
       "synopsis        0\n",
       "rating          0\n",
       "genre           0\n",
       "director        0\n",
       "writer          0\n",
       "theater_date    0\n",
       "runtime         0\n",
       "dtype: int64"
      ]
     },
     "execution_count": 91,
     "metadata": {},
     "output_type": "execute_result"
    }
   ],
   "source": [
    "dftest.isna().sum()"
   ]
  },
  {
   "cell_type": "code",
   "execution_count": 93,
   "metadata": {
    "ExecuteTime": {
     "end_time": "2021-04-25T23:09:29.780133Z",
     "start_time": "2021-04-25T23:09:29.774149Z"
    }
   },
   "outputs": [
    {
     "data": {
      "text/plain": [
       "(888, 8)"
      ]
     },
     "execution_count": 93,
     "metadata": {},
     "output_type": "execute_result"
    }
   ],
   "source": [
    "dftest.shape"
   ]
  },
  {
   "cell_type": "code",
   "execution_count": 94,
   "metadata": {
    "ExecuteTime": {
     "end_time": "2021-04-25T23:09:43.249883Z",
     "start_time": "2021-04-25T23:09:43.232928Z"
    }
   },
   "outputs": [
    {
     "data": {
      "text/html": [
       "<div>\n",
       "<style scoped>\n",
       "    .dataframe tbody tr th:only-of-type {\n",
       "        vertical-align: middle;\n",
       "    }\n",
       "\n",
       "    .dataframe tbody tr th {\n",
       "        vertical-align: top;\n",
       "    }\n",
       "\n",
       "    .dataframe thead th {\n",
       "        text-align: right;\n",
       "    }\n",
       "</style>\n",
       "<table border=\"1\" class=\"dataframe\">\n",
       "  <thead>\n",
       "    <tr style=\"text-align: right;\">\n",
       "      <th></th>\n",
       "      <th>id</th>\n",
       "      <th>synopsis</th>\n",
       "      <th>rating</th>\n",
       "      <th>genre</th>\n",
       "      <th>director</th>\n",
       "      <th>writer</th>\n",
       "      <th>theater_date</th>\n",
       "      <th>runtime</th>\n",
       "    </tr>\n",
       "  </thead>\n",
       "  <tbody>\n",
       "    <tr>\n",
       "      <th>0</th>\n",
       "      <td>1</td>\n",
       "      <td>This gritty, fast-paced, and innovative police...</td>\n",
       "      <td>R</td>\n",
       "      <td>Action and Adventure|Classics|Drama</td>\n",
       "      <td>William Friedkin</td>\n",
       "      <td>Ernest Tidyman</td>\n",
       "      <td>Oct 9, 1971</td>\n",
       "      <td>104 minutes</td>\n",
       "    </tr>\n",
       "    <tr>\n",
       "      <th>1</th>\n",
       "      <td>3</td>\n",
       "      <td>New York City, not-too-distant-future: Eric Pa...</td>\n",
       "      <td>R</td>\n",
       "      <td>Drama|Science Fiction and Fantasy</td>\n",
       "      <td>David Cronenberg</td>\n",
       "      <td>David Cronenberg|Don DeLillo</td>\n",
       "      <td>Aug 17, 2012</td>\n",
       "      <td>108 minutes</td>\n",
       "    </tr>\n",
       "    <tr>\n",
       "      <th>2</th>\n",
       "      <td>5</td>\n",
       "      <td>Illeana Douglas delivers a superb performance ...</td>\n",
       "      <td>R</td>\n",
       "      <td>Drama|Musical and Performing Arts</td>\n",
       "      <td>Allison Anders</td>\n",
       "      <td>Allison Anders</td>\n",
       "      <td>Sep 13, 1996</td>\n",
       "      <td>116 minutes</td>\n",
       "    </tr>\n",
       "    <tr>\n",
       "      <th>3</th>\n",
       "      <td>6</td>\n",
       "      <td>Michael Douglas runs afoul of a treacherous su...</td>\n",
       "      <td>R</td>\n",
       "      <td>Drama|Mystery and Suspense</td>\n",
       "      <td>Barry Levinson</td>\n",
       "      <td>Paul Attanasio|Michael Crichton</td>\n",
       "      <td>Dec 9, 1994</td>\n",
       "      <td>128 minutes</td>\n",
       "    </tr>\n",
       "    <tr>\n",
       "      <th>5</th>\n",
       "      <td>8</td>\n",
       "      <td>The year is 1942. As the Allies unite overseas...</td>\n",
       "      <td>PG</td>\n",
       "      <td>Drama|Kids and Family</td>\n",
       "      <td>Jay Russell</td>\n",
       "      <td>Gail Gilchriest</td>\n",
       "      <td>Mar 3, 2000</td>\n",
       "      <td>95 minutes</td>\n",
       "    </tr>\n",
       "    <tr>\n",
       "      <th>6</th>\n",
       "      <td>10</td>\n",
       "      <td>Some cast and crew from NBC's highly acclaimed...</td>\n",
       "      <td>PG-13</td>\n",
       "      <td>Comedy</td>\n",
       "      <td>Jake Kasdan</td>\n",
       "      <td>Mike White</td>\n",
       "      <td>Jan 11, 2002</td>\n",
       "      <td>82 minutes</td>\n",
       "    </tr>\n",
       "    <tr>\n",
       "      <th>7</th>\n",
       "      <td>13</td>\n",
       "      <td>Stewart Kane, an Irishman living in the Austra...</td>\n",
       "      <td>R</td>\n",
       "      <td>Drama</td>\n",
       "      <td>Ray Lawrence</td>\n",
       "      <td>Raymond Carver|Beatrix Christian</td>\n",
       "      <td>Apr 27, 2006</td>\n",
       "      <td>123 minutes</td>\n",
       "    </tr>\n",
       "    <tr>\n",
       "      <th>8</th>\n",
       "      <td>14</td>\n",
       "      <td>\"Love Ranch\" is a bittersweet love story that ...</td>\n",
       "      <td>R</td>\n",
       "      <td>Drama</td>\n",
       "      <td>Taylor Hackford</td>\n",
       "      <td>Mark Jacobson</td>\n",
       "      <td>Jun 30, 2010</td>\n",
       "      <td>117 minutes</td>\n",
       "    </tr>\n",
       "    <tr>\n",
       "      <th>9</th>\n",
       "      <td>15</td>\n",
       "      <td>When a diamond expedition in the Congo is lost...</td>\n",
       "      <td>PG-13</td>\n",
       "      <td>Action and Adventure|Mystery and Suspense|Scie...</td>\n",
       "      <td>Frank Marshall</td>\n",
       "      <td>John Patrick Shanley</td>\n",
       "      <td>Jun 9, 1995</td>\n",
       "      <td>108 minutes</td>\n",
       "    </tr>\n",
       "    <tr>\n",
       "      <th>13</th>\n",
       "      <td>20</td>\n",
       "      <td>Rachel (Britt Ekland) is an Amish girl who rej...</td>\n",
       "      <td>PG-13</td>\n",
       "      <td>Classics|Comedy|Drama</td>\n",
       "      <td>William Friedkin</td>\n",
       "      <td>Sidney Michaels|Arnold Schulman|Norman Lear</td>\n",
       "      <td>Dec 22, 1968</td>\n",
       "      <td>97 minutes</td>\n",
       "    </tr>\n",
       "    <tr>\n",
       "      <th>14</th>\n",
       "      <td>21</td>\n",
       "      <td>Old-school comic Rodney \"I get no respect\" Dan...</td>\n",
       "      <td>R</td>\n",
       "      <td>Comedy</td>\n",
       "      <td>Peter Baldwin</td>\n",
       "      <td>Rodney Dangerfield|Harry Basil</td>\n",
       "      <td>Jan 31, 1997</td>\n",
       "      <td>106 minutes</td>\n",
       "    </tr>\n",
       "    <tr>\n",
       "      <th>15</th>\n",
       "      <td>22</td>\n",
       "      <td>Two-time Academy Award Winner Kevin Spacey giv...</td>\n",
       "      <td>R</td>\n",
       "      <td>Comedy|Drama|Mystery and Suspense</td>\n",
       "      <td>George Hickenlooper</td>\n",
       "      <td>Norman Snider</td>\n",
       "      <td>Dec 17, 2010</td>\n",
       "      <td>108 minutes</td>\n",
       "    </tr>\n",
       "    <tr>\n",
       "      <th>17</th>\n",
       "      <td>24</td>\n",
       "      <td>Three young boys discover a stranded Russian s...</td>\n",
       "      <td>PG</td>\n",
       "      <td>Action and Adventure|Comedy|Drama</td>\n",
       "      <td>Rick Rosenthal</td>\n",
       "      <td>Sheldon Lettich|Michael Nankin|Alan Jay Glueckman</td>\n",
       "      <td>Nov 6, 1987</td>\n",
       "      <td>98 minutes</td>\n",
       "    </tr>\n",
       "    <tr>\n",
       "      <th>18</th>\n",
       "      <td>25</td>\n",
       "      <td>From ancient Japan's most enduring tale, the e...</td>\n",
       "      <td>PG-13</td>\n",
       "      <td>Action and Adventure|Drama|Science Fiction and...</td>\n",
       "      <td>Carl Erik Rinsch</td>\n",
       "      <td>Chris Morgan|Hossein Amini</td>\n",
       "      <td>Dec 25, 2013</td>\n",
       "      <td>127 minutes</td>\n",
       "    </tr>\n",
       "    <tr>\n",
       "      <th>19</th>\n",
       "      <td>26</td>\n",
       "      <td>A comic series of short vignettes build on one...</td>\n",
       "      <td>R</td>\n",
       "      <td>Art House and International|Comedy|Drama|Music...</td>\n",
       "      <td>Jim Jarmusch</td>\n",
       "      <td>Jim Jarmusch</td>\n",
       "      <td>May 14, 2004</td>\n",
       "      <td>96 minutes</td>\n",
       "    </tr>\n",
       "    <tr>\n",
       "      <th>24</th>\n",
       "      <td>34</td>\n",
       "      <td>Director John Woo brings Hong Kong-style marti...</td>\n",
       "      <td>PG-13</td>\n",
       "      <td>Action and Adventure|Mystery and Suspense</td>\n",
       "      <td>John Woo</td>\n",
       "      <td>William Goldman|John Logan|David Marconi|Micha...</td>\n",
       "      <td>Dec 31, 2000</td>\n",
       "      <td>123 minutes</td>\n",
       "    </tr>\n",
       "    <tr>\n",
       "      <th>25</th>\n",
       "      <td>35</td>\n",
       "      <td>In this film, conjoined twins Blake and Franci...</td>\n",
       "      <td>R</td>\n",
       "      <td>Drama</td>\n",
       "      <td>Michael Polish</td>\n",
       "      <td>Michael Polish|Mark Polish</td>\n",
       "      <td>Jul 30, 1999</td>\n",
       "      <td>110 minutes</td>\n",
       "    </tr>\n",
       "    <tr>\n",
       "      <th>26</th>\n",
       "      <td>38</td>\n",
       "      <td>You'd think they would know better from their ...</td>\n",
       "      <td>R</td>\n",
       "      <td>Art House and International|Classics|Horror|My...</td>\n",
       "      <td>Roy Ward Baker</td>\n",
       "      <td>Anthony Hinds|John Elder</td>\n",
       "      <td>Dec 23, 1970</td>\n",
       "      <td>96 minutes</td>\n",
       "    </tr>\n",
       "    <tr>\n",
       "      <th>27</th>\n",
       "      <td>39</td>\n",
       "      <td>A group of stoners at a rock festival is stalk...</td>\n",
       "      <td>R</td>\n",
       "      <td>Horror</td>\n",
       "      <td>David Arquette</td>\n",
       "      <td>David Arquette|Joe Harris</td>\n",
       "      <td>Apr 20, 2007</td>\n",
       "      <td>97 minutes</td>\n",
       "    </tr>\n",
       "    <tr>\n",
       "      <th>28</th>\n",
       "      <td>40</td>\n",
       "      <td>John Sayles' Casa de los Babys tells the tale ...</td>\n",
       "      <td>R</td>\n",
       "      <td>Drama</td>\n",
       "      <td>John Sayles</td>\n",
       "      <td>John Sayles</td>\n",
       "      <td>Sep 19, 2003</td>\n",
       "      <td>95 minutes</td>\n",
       "    </tr>\n",
       "    <tr>\n",
       "      <th>29</th>\n",
       "      <td>41</td>\n",
       "      <td>Ken Loach directs Sweet Sixteen, a gritty dram...</td>\n",
       "      <td>R</td>\n",
       "      <td>Drama</td>\n",
       "      <td>Ken Loach</td>\n",
       "      <td>Paul Laverty</td>\n",
       "      <td>May 16, 2003</td>\n",
       "      <td>106 minutes</td>\n",
       "    </tr>\n",
       "    <tr>\n",
       "      <th>32</th>\n",
       "      <td>44</td>\n",
       "      <td>Can death be a good career move? The star of B...</td>\n",
       "      <td>R</td>\n",
       "      <td>Comedy</td>\n",
       "      <td>Pauly Shore</td>\n",
       "      <td>Pauly Shore|Kirk Fox</td>\n",
       "      <td>Mar 11, 2003</td>\n",
       "      <td>82 minutes</td>\n",
       "    </tr>\n",
       "    <tr>\n",
       "      <th>34</th>\n",
       "      <td>46</td>\n",
       "      <td>Six guys with nothing left to lose try losing ...</td>\n",
       "      <td>R</td>\n",
       "      <td>Comedy|Musical and Performing Arts</td>\n",
       "      <td>Peter Cattaneo</td>\n",
       "      <td>Simon Beaufoy|Simon Beaufor</td>\n",
       "      <td>Aug 13, 1997</td>\n",
       "      <td>91 minutes</td>\n",
       "    </tr>\n",
       "    <tr>\n",
       "      <th>38</th>\n",
       "      <td>51</td>\n",
       "      <td>Wait Until Dark is an innovative, highly enter...</td>\n",
       "      <td>NR</td>\n",
       "      <td>Mystery and Suspense</td>\n",
       "      <td>Terence Young</td>\n",
       "      <td>Jane-Howard Carrington|Robert Carrington</td>\n",
       "      <td>Oct 26, 1967</td>\n",
       "      <td>108 minutes</td>\n",
       "    </tr>\n",
       "    <tr>\n",
       "      <th>41</th>\n",
       "      <td>54</td>\n",
       "      <td>Journalist Jep Gambardella (the dazzling Toni ...</td>\n",
       "      <td>NR</td>\n",
       "      <td>Comedy|Drama</td>\n",
       "      <td>Paolo Sorrentino</td>\n",
       "      <td>Paolo Sorrentino|Umberto Contarello</td>\n",
       "      <td>Nov 15, 2013</td>\n",
       "      <td>142 minutes</td>\n",
       "    </tr>\n",
       "  </tbody>\n",
       "</table>\n",
       "</div>"
      ],
      "text/plain": [
       "    id                                           synopsis rating  \\\n",
       "0    1  This gritty, fast-paced, and innovative police...      R   \n",
       "1    3  New York City, not-too-distant-future: Eric Pa...      R   \n",
       "2    5  Illeana Douglas delivers a superb performance ...      R   \n",
       "3    6  Michael Douglas runs afoul of a treacherous su...      R   \n",
       "5    8  The year is 1942. As the Allies unite overseas...     PG   \n",
       "6   10  Some cast and crew from NBC's highly acclaimed...  PG-13   \n",
       "7   13  Stewart Kane, an Irishman living in the Austra...      R   \n",
       "8   14  \"Love Ranch\" is a bittersweet love story that ...      R   \n",
       "9   15  When a diamond expedition in the Congo is lost...  PG-13   \n",
       "13  20  Rachel (Britt Ekland) is an Amish girl who rej...  PG-13   \n",
       "14  21  Old-school comic Rodney \"I get no respect\" Dan...      R   \n",
       "15  22  Two-time Academy Award Winner Kevin Spacey giv...      R   \n",
       "17  24  Three young boys discover a stranded Russian s...     PG   \n",
       "18  25  From ancient Japan's most enduring tale, the e...  PG-13   \n",
       "19  26  A comic series of short vignettes build on one...      R   \n",
       "24  34  Director John Woo brings Hong Kong-style marti...  PG-13   \n",
       "25  35  In this film, conjoined twins Blake and Franci...      R   \n",
       "26  38  You'd think they would know better from their ...      R   \n",
       "27  39  A group of stoners at a rock festival is stalk...      R   \n",
       "28  40  John Sayles' Casa de los Babys tells the tale ...      R   \n",
       "29  41  Ken Loach directs Sweet Sixteen, a gritty dram...      R   \n",
       "32  44  Can death be a good career move? The star of B...      R   \n",
       "34  46  Six guys with nothing left to lose try losing ...      R   \n",
       "38  51  Wait Until Dark is an innovative, highly enter...     NR   \n",
       "41  54  Journalist Jep Gambardella (the dazzling Toni ...     NR   \n",
       "\n",
       "                                                genre             director  \\\n",
       "0                 Action and Adventure|Classics|Drama     William Friedkin   \n",
       "1                   Drama|Science Fiction and Fantasy     David Cronenberg   \n",
       "2                   Drama|Musical and Performing Arts       Allison Anders   \n",
       "3                          Drama|Mystery and Suspense       Barry Levinson   \n",
       "5                               Drama|Kids and Family          Jay Russell   \n",
       "6                                              Comedy          Jake Kasdan   \n",
       "7                                               Drama         Ray Lawrence   \n",
       "8                                               Drama      Taylor Hackford   \n",
       "9   Action and Adventure|Mystery and Suspense|Scie...       Frank Marshall   \n",
       "13                              Classics|Comedy|Drama     William Friedkin   \n",
       "14                                             Comedy        Peter Baldwin   \n",
       "15                  Comedy|Drama|Mystery and Suspense  George Hickenlooper   \n",
       "17                  Action and Adventure|Comedy|Drama       Rick Rosenthal   \n",
       "18  Action and Adventure|Drama|Science Fiction and...     Carl Erik Rinsch   \n",
       "19  Art House and International|Comedy|Drama|Music...         Jim Jarmusch   \n",
       "24          Action and Adventure|Mystery and Suspense             John Woo   \n",
       "25                                              Drama       Michael Polish   \n",
       "26  Art House and International|Classics|Horror|My...       Roy Ward Baker   \n",
       "27                                             Horror       David Arquette   \n",
       "28                                              Drama          John Sayles   \n",
       "29                                              Drama            Ken Loach   \n",
       "32                                             Comedy          Pauly Shore   \n",
       "34                 Comedy|Musical and Performing Arts       Peter Cattaneo   \n",
       "38                               Mystery and Suspense        Terence Young   \n",
       "41                                       Comedy|Drama     Paolo Sorrentino   \n",
       "\n",
       "                                               writer  theater_date  \\\n",
       "0                                      Ernest Tidyman   Oct 9, 1971   \n",
       "1                        David Cronenberg|Don DeLillo  Aug 17, 2012   \n",
       "2                                      Allison Anders  Sep 13, 1996   \n",
       "3                     Paul Attanasio|Michael Crichton   Dec 9, 1994   \n",
       "5                                     Gail Gilchriest   Mar 3, 2000   \n",
       "6                                          Mike White  Jan 11, 2002   \n",
       "7                    Raymond Carver|Beatrix Christian  Apr 27, 2006   \n",
       "8                                       Mark Jacobson  Jun 30, 2010   \n",
       "9                                John Patrick Shanley   Jun 9, 1995   \n",
       "13        Sidney Michaels|Arnold Schulman|Norman Lear  Dec 22, 1968   \n",
       "14                     Rodney Dangerfield|Harry Basil  Jan 31, 1997   \n",
       "15                                      Norman Snider  Dec 17, 2010   \n",
       "17  Sheldon Lettich|Michael Nankin|Alan Jay Glueckman   Nov 6, 1987   \n",
       "18                         Chris Morgan|Hossein Amini  Dec 25, 2013   \n",
       "19                                       Jim Jarmusch  May 14, 2004   \n",
       "24  William Goldman|John Logan|David Marconi|Micha...  Dec 31, 2000   \n",
       "25                         Michael Polish|Mark Polish  Jul 30, 1999   \n",
       "26                           Anthony Hinds|John Elder  Dec 23, 1970   \n",
       "27                          David Arquette|Joe Harris  Apr 20, 2007   \n",
       "28                                        John Sayles  Sep 19, 2003   \n",
       "29                                       Paul Laverty  May 16, 2003   \n",
       "32                               Pauly Shore|Kirk Fox  Mar 11, 2003   \n",
       "34                        Simon Beaufoy|Simon Beaufor  Aug 13, 1997   \n",
       "38           Jane-Howard Carrington|Robert Carrington  Oct 26, 1967   \n",
       "41                Paolo Sorrentino|Umberto Contarello  Nov 15, 2013   \n",
       "\n",
       "        runtime  \n",
       "0   104 minutes  \n",
       "1   108 minutes  \n",
       "2   116 minutes  \n",
       "3   128 minutes  \n",
       "5    95 minutes  \n",
       "6    82 minutes  \n",
       "7   123 minutes  \n",
       "8   117 minutes  \n",
       "9   108 minutes  \n",
       "13   97 minutes  \n",
       "14  106 minutes  \n",
       "15  108 minutes  \n",
       "17   98 minutes  \n",
       "18  127 minutes  \n",
       "19   96 minutes  \n",
       "24  123 minutes  \n",
       "25  110 minutes  \n",
       "26   96 minutes  \n",
       "27   97 minutes  \n",
       "28   95 minutes  \n",
       "29  106 minutes  \n",
       "32   82 minutes  \n",
       "34   91 minutes  \n",
       "38  108 minutes  \n",
       "41  142 minutes  "
      ]
     },
     "execution_count": 94,
     "metadata": {},
     "output_type": "execute_result"
    }
   ],
   "source": [
    "dftest.head(25)"
   ]
  },
  {
   "cell_type": "markdown",
   "metadata": {},
   "source": [
    "## data clean for df_rott_rev"
   ]
  },
  {
   "cell_type": "code",
   "execution_count": 95,
   "metadata": {
    "ExecuteTime": {
     "end_time": "2021-04-25T23:15:32.274469Z",
     "start_time": "2021-04-25T23:15:32.269481Z"
    }
   },
   "outputs": [
    {
     "data": {
      "text/plain": [
       "(54432, 8)"
      ]
     },
     "execution_count": 95,
     "metadata": {},
     "output_type": "execute_result"
    }
   ],
   "source": [
    "df_rott_rev.shape"
   ]
  },
  {
   "cell_type": "code",
   "execution_count": 97,
   "metadata": {
    "ExecuteTime": {
     "end_time": "2021-04-25T23:15:54.826912Z",
     "start_time": "2021-04-25T23:15:54.805937Z"
    }
   },
   "outputs": [
    {
     "data": {
      "text/plain": [
       "id                0\n",
       "review         5563\n",
       "rating        13517\n",
       "fresh             0\n",
       "critic         2722\n",
       "top_critic        0\n",
       "publisher       309\n",
       "date              0\n",
       "dtype: int64"
      ]
     },
     "execution_count": 97,
     "metadata": {},
     "output_type": "execute_result"
    }
   ],
   "source": [
    "df_rott_rev.isna().sum()"
   ]
  },
  {
   "cell_type": "code",
   "execution_count": 98,
   "metadata": {
    "ExecuteTime": {
     "end_time": "2021-04-25T23:16:13.201834Z",
     "start_time": "2021-04-25T23:16:13.190864Z"
    }
   },
   "outputs": [
    {
     "data": {
      "text/html": [
       "<div>\n",
       "<style scoped>\n",
       "    .dataframe tbody tr th:only-of-type {\n",
       "        vertical-align: middle;\n",
       "    }\n",
       "\n",
       "    .dataframe tbody tr th {\n",
       "        vertical-align: top;\n",
       "    }\n",
       "\n",
       "    .dataframe thead th {\n",
       "        text-align: right;\n",
       "    }\n",
       "</style>\n",
       "<table border=\"1\" class=\"dataframe\">\n",
       "  <thead>\n",
       "    <tr style=\"text-align: right;\">\n",
       "      <th></th>\n",
       "      <th>id</th>\n",
       "      <th>review</th>\n",
       "      <th>rating</th>\n",
       "      <th>fresh</th>\n",
       "      <th>critic</th>\n",
       "      <th>top_critic</th>\n",
       "      <th>publisher</th>\n",
       "      <th>date</th>\n",
       "    </tr>\n",
       "  </thead>\n",
       "  <tbody>\n",
       "    <tr>\n",
       "      <th>0</th>\n",
       "      <td>3</td>\n",
       "      <td>A distinctly gallows take on contemporary fina...</td>\n",
       "      <td>3/5</td>\n",
       "      <td>fresh</td>\n",
       "      <td>PJ Nabarro</td>\n",
       "      <td>0</td>\n",
       "      <td>Patrick Nabarro</td>\n",
       "      <td>November 10, 2018</td>\n",
       "    </tr>\n",
       "    <tr>\n",
       "      <th>1</th>\n",
       "      <td>3</td>\n",
       "      <td>It's an allegory in search of a meaning that n...</td>\n",
       "      <td>NaN</td>\n",
       "      <td>rotten</td>\n",
       "      <td>Annalee Newitz</td>\n",
       "      <td>0</td>\n",
       "      <td>io9.com</td>\n",
       "      <td>May 23, 2018</td>\n",
       "    </tr>\n",
       "    <tr>\n",
       "      <th>2</th>\n",
       "      <td>3</td>\n",
       "      <td>... life lived in a bubble in financial dealin...</td>\n",
       "      <td>NaN</td>\n",
       "      <td>fresh</td>\n",
       "      <td>Sean Axmaker</td>\n",
       "      <td>0</td>\n",
       "      <td>Stream on Demand</td>\n",
       "      <td>January 4, 2018</td>\n",
       "    </tr>\n",
       "    <tr>\n",
       "      <th>3</th>\n",
       "      <td>3</td>\n",
       "      <td>Continuing along a line introduced in last yea...</td>\n",
       "      <td>NaN</td>\n",
       "      <td>fresh</td>\n",
       "      <td>Daniel Kasman</td>\n",
       "      <td>0</td>\n",
       "      <td>MUBI</td>\n",
       "      <td>November 16, 2017</td>\n",
       "    </tr>\n",
       "    <tr>\n",
       "      <th>4</th>\n",
       "      <td>3</td>\n",
       "      <td>... a perverse twist on neorealism...</td>\n",
       "      <td>NaN</td>\n",
       "      <td>fresh</td>\n",
       "      <td>NaN</td>\n",
       "      <td>0</td>\n",
       "      <td>Cinema Scope</td>\n",
       "      <td>October 12, 2017</td>\n",
       "    </tr>\n",
       "  </tbody>\n",
       "</table>\n",
       "</div>"
      ],
      "text/plain": [
       "   id                                             review rating   fresh  \\\n",
       "0   3  A distinctly gallows take on contemporary fina...    3/5   fresh   \n",
       "1   3  It's an allegory in search of a meaning that n...    NaN  rotten   \n",
       "2   3  ... life lived in a bubble in financial dealin...    NaN   fresh   \n",
       "3   3  Continuing along a line introduced in last yea...    NaN   fresh   \n",
       "4   3             ... a perverse twist on neorealism...     NaN   fresh   \n",
       "\n",
       "           critic  top_critic         publisher               date  \n",
       "0      PJ Nabarro           0   Patrick Nabarro  November 10, 2018  \n",
       "1  Annalee Newitz           0           io9.com       May 23, 2018  \n",
       "2    Sean Axmaker           0  Stream on Demand    January 4, 2018  \n",
       "3   Daniel Kasman           0              MUBI  November 16, 2017  \n",
       "4             NaN           0      Cinema Scope   October 12, 2017  "
      ]
     },
     "execution_count": 98,
     "metadata": {},
     "output_type": "execute_result"
    }
   ],
   "source": [
    "df_rott_rev.head()"
   ]
  },
  {
   "cell_type": "markdown",
   "metadata": {},
   "source": [
    "### Can drop publisher,critic column  Drop row if review is na"
   ]
  },
  {
   "cell_type": "code",
   "execution_count": 100,
   "metadata": {
    "ExecuteTime": {
     "end_time": "2021-04-25T23:20:20.436493Z",
     "start_time": "2021-04-25T23:20:20.424526Z"
    }
   },
   "outputs": [],
   "source": [
    "#only records with rating not na\n",
    "df_rott_rev = df_rott_rev[df_rott_rev['rating'].notna()]\n"
   ]
  },
  {
   "cell_type": "code",
   "execution_count": 101,
   "metadata": {
    "ExecuteTime": {
     "end_time": "2021-04-25T23:20:32.204934Z",
     "start_time": "2021-04-25T23:20:32.189974Z"
    }
   },
   "outputs": [
    {
     "data": {
      "text/plain": [
       "id               0\n",
       "review        5536\n",
       "rating           0\n",
       "fresh            0\n",
       "critic        1980\n",
       "top_critic       0\n",
       "publisher      227\n",
       "date             0\n",
       "dtype: int64"
      ]
     },
     "execution_count": 101,
     "metadata": {},
     "output_type": "execute_result"
    }
   ],
   "source": [
    "df_rott_rev.isna().sum()"
   ]
  },
  {
   "cell_type": "code",
   "execution_count": 102,
   "metadata": {
    "ExecuteTime": {
     "end_time": "2021-04-25T23:21:19.574381Z",
     "start_time": "2021-04-25T23:21:19.562412Z"
    }
   },
   "outputs": [],
   "source": [
    "df_rott_rev = df_rott_rev[df_rott_rev['review'].notna()]"
   ]
  },
  {
   "cell_type": "code",
   "execution_count": 103,
   "metadata": {
    "ExecuteTime": {
     "end_time": "2021-04-25T23:21:27.393677Z",
     "start_time": "2021-04-25T23:21:27.373730Z"
    }
   },
   "outputs": [
    {
     "data": {
      "text/plain": [
       "id               0\n",
       "review           0\n",
       "rating           0\n",
       "fresh            0\n",
       "critic        1190\n",
       "top_critic       0\n",
       "publisher      227\n",
       "date             0\n",
       "dtype: int64"
      ]
     },
     "execution_count": 103,
     "metadata": {},
     "output_type": "execute_result"
    }
   ],
   "source": [
    "df_rott_rev.isna().sum()"
   ]
  },
  {
   "cell_type": "code",
   "execution_count": 104,
   "metadata": {
    "ExecuteTime": {
     "end_time": "2021-04-25T23:23:14.606117Z",
     "start_time": "2021-04-25T23:23:14.598093Z"
    }
   },
   "outputs": [],
   "source": [
    "df_rott_rev = df_rott_rev.drop(columns=['critic', 'publisher'])"
   ]
  },
  {
   "cell_type": "code",
   "execution_count": 105,
   "metadata": {
    "ExecuteTime": {
     "end_time": "2021-04-25T23:23:21.911896Z",
     "start_time": "2021-04-25T23:23:21.899927Z"
    }
   },
   "outputs": [
    {
     "data": {
      "text/plain": [
       "id            0\n",
       "review        0\n",
       "rating        0\n",
       "fresh         0\n",
       "top_critic    0\n",
       "date          0\n",
       "dtype: int64"
      ]
     },
     "execution_count": 105,
     "metadata": {},
     "output_type": "execute_result"
    }
   ],
   "source": [
    "df_rott_rev.isna().sum()"
   ]
  },
  {
   "cell_type": "code",
   "execution_count": 106,
   "metadata": {
    "ExecuteTime": {
     "end_time": "2021-04-25T23:23:36.083050Z",
     "start_time": "2021-04-25T23:23:36.079059Z"
    }
   },
   "outputs": [
    {
     "data": {
      "text/plain": [
       "(35379, 6)"
      ]
     },
     "execution_count": 106,
     "metadata": {},
     "output_type": "execute_result"
    }
   ],
   "source": [
    "df_rott_rev.shape"
   ]
  },
  {
   "cell_type": "code",
   "execution_count": null,
   "metadata": {},
   "outputs": [],
   "source": []
  }
 ],
 "metadata": {
  "kernelspec": {
   "display_name": "Python 3",
   "language": "python",
   "name": "python3"
  },
  "language_info": {
   "codemirror_mode": {
    "name": "ipython",
    "version": 3
   },
   "file_extension": ".py",
   "mimetype": "text/x-python",
   "name": "python",
   "nbconvert_exporter": "python",
   "pygments_lexer": "ipython3",
   "version": "3.8.5"
  },
  "toc": {
   "base_numbering": 1,
   "nav_menu": {},
   "number_sections": true,
   "sideBar": true,
   "skip_h1_title": false,
   "title_cell": "Table of Contents",
   "title_sidebar": "Contents",
   "toc_cell": false,
   "toc_position": {},
   "toc_section_display": true,
   "toc_window_display": false
  },
  "varInspector": {
   "cols": {
    "lenName": 16,
    "lenType": 16,
    "lenVar": 40
   },
   "kernels_config": {
    "python": {
     "delete_cmd_postfix": "",
     "delete_cmd_prefix": "del ",
     "library": "var_list.py",
     "varRefreshCmd": "print(var_dic_list())"
    },
    "r": {
     "delete_cmd_postfix": ") ",
     "delete_cmd_prefix": "rm(",
     "library": "var_list.r",
     "varRefreshCmd": "cat(var_dic_list()) "
    }
   },
   "types_to_exclude": [
    "module",
    "function",
    "builtin_function_or_method",
    "instance",
    "_Feature"
   ],
   "window_display": false
  }
 },
 "nbformat": 4,
 "nbformat_minor": 2
}
